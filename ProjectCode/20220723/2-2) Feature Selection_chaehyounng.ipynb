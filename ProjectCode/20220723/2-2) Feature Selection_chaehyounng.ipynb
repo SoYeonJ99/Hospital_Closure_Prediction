{
 "cells": [
  {
   "cell_type": "markdown",
   "id": "8c80f033",
   "metadata": {},
   "source": [
    "# 2. Feature Selection"
   ]
  },
  {
   "cell_type": "markdown",
   "id": "50e1dbc7",
   "metadata": {},
   "source": [
    "#### References  \n",
    "https://www.kaggle.com/competitions/amex-default-prediction/discussion/335892"
   ]
  },
  {
   "cell_type": "code",
   "execution_count": 1,
   "id": "523bbc87",
   "metadata": {},
   "outputs": [],
   "source": [
    "%matplotlib inline\n",
    "import os\n",
    "from pathlib import Path\n",
    "import numpy as np\n",
    "import pandas as pd\n",
    "from pandas.plotting import scatter_matrix, parallel_coordinates\n",
    "import seaborn as sns\n",
    "import matplotlib.pylab as plt\n",
    "import warnings"
   ]
  },
  {
   "cell_type": "code",
   "execution_count": 2,
   "id": "b17207f7",
   "metadata": {},
   "outputs": [],
   "source": [
    "warnings.filterwarnings('ignore')"
   ]
  },
  {
   "cell_type": "code",
   "execution_count": 3,
   "id": "dd3cf297",
   "metadata": {},
   "outputs": [],
   "source": [
    "train_r = pd.read_parquet(\"C:/Users/kimch/Desktop/American Express/train.parquet\")"
   ]
  },
  {
   "cell_type": "code",
   "execution_count": 4,
   "id": "ccdc8bef",
   "metadata": {},
   "outputs": [],
   "source": [
    "labels = pd.read_csv(\"C:/Users/kimch/Desktop/American Express/train_labels.csv\")"
   ]
  },
  {
   "cell_type": "code",
   "execution_count": 5,
   "id": "6e88a042",
   "metadata": {},
   "outputs": [],
   "source": [
    "train = train_r.merge(labels, right_on = 'customer_ID', left_on = \"customer_ID\")"
   ]
  },
  {
   "cell_type": "code",
   "execution_count": 6,
   "id": "49546dd2",
   "metadata": {},
   "outputs": [],
   "source": [
    "train[\"S_2\"] = pd.to_datetime(train.S_2, format=\"%Y-%m-%d\")"
   ]
  },
  {
   "cell_type": "code",
   "execution_count": 7,
   "id": "4072e952",
   "metadata": {},
   "outputs": [],
   "source": [
    "train_p = train.drop(columns=[\"D_88\", \"B_42\", \"D_110\", \"D_73\", \"B_39\", \"D_134\", \"B_29\", \"D_132\", \"D_76\", \"D_42\", \"D_142\", \"D_53\", \"B_17\",\n",
    "                              \"D_50\", \"D_105\", \"D_56\", \"S_9\"])"
   ]
  },
  {
   "cell_type": "code",
   "execution_count": 8,
   "id": "ca87e196",
   "metadata": {},
   "outputs": [],
   "source": [
    "train_p = train_p.dropna(subset=[\"P_3\", \"D_69\", \"D_115\", \"D_118\", \"D_119\", \"D_121\", \"D_55\", \"D_131\", \"D_141\", \"D_130\", \"D_104\", \"R_27\", \"D_128\", \"D_102\", \"B_13\", \"D_133\", \"D_144\", \"D_52\", \"P_2\"])"
   ]
  },
  {
   "cell_type": "code",
   "execution_count": 10,
   "id": "acbbb767",
   "metadata": {},
   "outputs": [],
   "source": [
    "train_fillna = train_p.set_index('S_2')\n",
    "train_fillna = train_fillna.interpolate(method=\"time\")"
   ]
  },
  {
   "cell_type": "code",
   "execution_count": 11,
   "id": "e3e4de06",
   "metadata": {},
   "outputs": [],
   "source": [
    "train_fillna_drop = train_fillna.drop(columns=['S_7', \"S_24\", \"B_11\", \"B_37\", \"B_33\", \"B_18\", \"B_23\", \"B_37\", \"B_15\", \"B_20\"])"
   ]
  },
  {
   "cell_type": "code",
   "execution_count": 12,
   "id": "9d6f2b1e",
   "metadata": {},
   "outputs": [
    {
     "data": {
      "text/html": [
       "<div>\n",
       "<style scoped>\n",
       "    .dataframe tbody tr th:only-of-type {\n",
       "        vertical-align: middle;\n",
       "    }\n",
       "\n",
       "    .dataframe tbody tr th {\n",
       "        vertical-align: top;\n",
       "    }\n",
       "\n",
       "    .dataframe thead th {\n",
       "        text-align: right;\n",
       "    }\n",
       "</style>\n",
       "<table border=\"1\" class=\"dataframe\">\n",
       "  <thead>\n",
       "    <tr style=\"text-align: right;\">\n",
       "      <th></th>\n",
       "      <th>null_sum</th>\n",
       "    </tr>\n",
       "    <tr>\n",
       "      <th>column</th>\n",
       "      <th></th>\n",
       "    </tr>\n",
       "  </thead>\n",
       "  <tbody>\n",
       "    <tr>\n",
       "      <th>D_43</th>\n",
       "      <td>19</td>\n",
       "    </tr>\n",
       "    <tr>\n",
       "      <th>D_77</th>\n",
       "      <td>11</td>\n",
       "    </tr>\n",
       "  </tbody>\n",
       "</table>\n",
       "</div>"
      ],
      "text/plain": [
       "       null_sum\n",
       "column         \n",
       "D_43         19\n",
       "D_77         11"
      ]
     },
     "execution_count": 12,
     "metadata": {},
     "output_type": "execute_result"
    }
   ],
   "source": [
    "missing = pd.DataFrame(columns=['column', 'null_sum'])\n",
    "\n",
    "for col in train_fillna_drop.columns:\n",
    "    n = train_fillna_drop[col].isnull().sum()\n",
    "    missing =  missing.append(pd.DataFrame([[col, n]], columns=['column', 'null_sum']), ignore_index=True)\n",
    "\n",
    "missing.set_index(\"column\", inplace=True)\n",
    "missing = missing.sort_values(by=\"null_sum\", ascending=False)\n",
    "missing[missing[\"null_sum\"]>0]"
   ]
  },
  {
   "cell_type": "code",
   "execution_count": 13,
   "id": "c6a5883d",
   "metadata": {},
   "outputs": [],
   "source": [
    "train_nonull = train_fillna_drop.dropna(subset=[\"D_43\", \"D_77\"])"
   ]
  },
  {
   "cell_type": "markdown",
   "id": "6d3c01da",
   "metadata": {},
   "source": [
    "# 변수 선택 (Feature Selecting)"
   ]
  },
  {
   "cell_type": "markdown",
   "id": "6ef528a1",
   "metadata": {},
   "source": [
    "변수 선택 방법 (https://subinium.github.io/feature-selection/)  \n",
    "1. 필터 기법  \n",
    "2. 래퍼 기법 (전진, 후방, 단계적)\n",
    "3. 임베디드 (L1, L2)    \n",
    "  \n",
    "+feature_importancs_ : tree 기법에서 중요도 파악"
   ]
  },
  {
   "cell_type": "code",
   "execution_count": null,
   "id": "e4d21879",
   "metadata": {},
   "outputs": [],
   "source": [
    "# RandomForest, GradientBoosting -> memory error"
   ]
  },
  {
   "cell_type": "code",
   "execution_count": 14,
   "id": "6e9e1cc0",
   "metadata": {},
   "outputs": [],
   "source": [
    "from sklearn.ensemble import GradientBoostingClassifier, RandomForestClassifier"
   ]
  },
  {
   "cell_type": "code",
   "execution_count": 15,
   "id": "fb803f08",
   "metadata": {},
   "outputs": [],
   "source": [
    "train_nonull_n = train_nonull.drop(columns=[\"customer_ID\"])"
   ]
  },
  {
   "cell_type": "code",
   "execution_count": 16,
   "id": "7d9bfcc5",
   "metadata": {},
   "outputs": [],
   "source": [
    "train_X = train_nonull_n.drop(columns=[\"target\"])\n",
    "train_y = train_nonull_n[\"target\"]"
   ]
  },
  {
   "cell_type": "code",
   "execution_count": 17,
   "id": "106e8ce5",
   "metadata": {},
   "outputs": [],
   "source": [
    "from sklearn.feature_selection import SelectFromModel"
   ]
  },
  {
   "cell_type": "code",
   "execution_count": null,
   "id": "7cb39231",
   "metadata": {},
   "outputs": [],
   "source": [
    "embeded_rf_selector = SelectFromModel(RandomForestClassifier(n_estimators=100), threshold=\"1.25*median\")\n",
    "embeded_rf_selector.fit(train_X, train_y)"
   ]
  },
  {
   "cell_type": "code",
   "execution_count": null,
   "id": "b15c84cb",
   "metadata": {},
   "outputs": [],
   "source": []
  }
 ],
 "metadata": {
  "kernelspec": {
   "display_name": "Python 3 (ipykernel)",
   "language": "python",
   "name": "python3"
  },
  "language_info": {
   "codemirror_mode": {
    "name": "ipython",
    "version": 3
   },
   "file_extension": ".py",
   "mimetype": "text/x-python",
   "name": "python",
   "nbconvert_exporter": "python",
   "pygments_lexer": "ipython3",
   "version": "3.9.7"
  }
 },
 "nbformat": 4,
 "nbformat_minor": 5
}
