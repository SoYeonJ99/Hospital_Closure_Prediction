{
 "cells": [
  {
   "cell_type": "code",
   "execution_count": 2,
   "id": "cc667071",
   "metadata": {},
   "outputs": [],
   "source": [
    "import numpy as np\n",
    "import pandas as pd\n",
    "import seaborn as sns\n",
    "import matplotlib.pyplot as plt\n",
    "\n",
    "import warnings as wrn\n",
    "wrn.filterwarnings('ignore', category = DeprecationWarning) \n",
    "wrn.filterwarnings('ignore', category = FutureWarning) \n",
    "wrn.filterwarnings('ignore', category = UserWarning)\n",
    "wrn.filterwarnings('ignore', category = RuntimeWarning)"
   ]
  },
  {
   "cell_type": "code",
   "execution_count": 530,
   "id": "47674537",
   "metadata": {},
   "outputs": [],
   "source": [
    "train_df = pd.read_csv('D:/숙탯 2기/2022-여름-캐글/9565_hospital_data/train.csv')\n",
    "test_df = pd.read_csv('D:/숙탯 2기/2022-여름-캐글/9565_hospital_data/test.csv')"
   ]
  },
  {
   "cell_type": "markdown",
   "id": "9bd68dfc",
   "metadata": {},
   "source": [
    "# 1. Variable Correction"
   ]
  },
  {
   "cell_type": "markdown",
   "id": "6d979aea",
   "metadata": {},
   "source": [
    "**label 값 수정 (주어진 조건대로)**"
   ]
  },
  {
   "cell_type": "code",
   "execution_count": 531,
   "id": "0f38e16d",
   "metadata": {},
   "outputs": [],
   "source": [
    "train_df['OC']=train_df['OC'].replace('open',1)\n",
    "train_df['OC']=train_df['OC'].replace(' close',0)"
   ]
  },
  {
   "cell_type": "markdown",
   "id": "8168140e",
   "metadata": {},
   "source": [
    "**날짜 변수를 datetime 타입으로 변경하고 연도, 월 변수 추출**"
   ]
  },
  {
   "cell_type": "code",
   "execution_count": 532,
   "id": "793cbae0",
   "metadata": {
    "scrolled": false
   },
   "outputs": [
    {
     "data": {
      "text/plain": [
       "0   2007-12-28\n",
       "1   1997-04-01\n",
       "2   2016-12-28\n",
       "3   2000-08-14\n",
       "4   2005-09-01\n",
       "Name: openDate, dtype: datetime64[ns]"
      ]
     },
     "execution_count": 532,
     "metadata": {},
     "output_type": "execute_result"
    }
   ],
   "source": [
    "train_df.openDate = pd.to_datetime(train_df.openDate.astype(str), format='%Y%m%d')\n",
    "train_df.openDate.head()"
   ]
  },
  {
   "cell_type": "code",
   "execution_count": 533,
   "id": "bedc57b6",
   "metadata": {
    "scrolled": false
   },
   "outputs": [
    {
     "data": {
      "text/plain": [
       "0   1998-11-25\n",
       "1   2016-03-09\n",
       "2   1989-04-27\n",
       "3   2010-02-26\n",
       "4   2004-06-04\n",
       "Name: openDate, dtype: datetime64[ns]"
      ]
     },
     "execution_count": 533,
     "metadata": {},
     "output_type": "execute_result"
    }
   ],
   "source": [
    "test_df.openDate = pd.to_datetime(test_df.openDate.astype(str), format='%Y%m%d')\n",
    "test_df.openDate.head()"
   ]
  },
  {
   "cell_type": "code",
   "execution_count": 534,
   "id": "8e1c188e",
   "metadata": {},
   "outputs": [],
   "source": [
    "train_df['Year'] = train_df['openDate'].dt.year\n",
    "train_df['Month'] = train_df['openDate'].dt.month\n",
    "\n",
    "test_df['Year'] = test_df['openDate'].dt.year\n",
    "test_df['Month'] = test_df['openDate'].dt.month"
   ]
  },
  {
   "cell_type": "code",
   "execution_count": 535,
   "id": "6c2beb59",
   "metadata": {},
   "outputs": [],
   "source": [
    "test_df['Year'] = test_df['Year'].fillna(-1).astype('int64')\n",
    "test_df['Year'] = test_df['Year'].replace(-1, 0)\n",
    "\n",
    "test_df['Month'] = test_df['Month'].fillna(-1).astype('int64')\n",
    "test_df['Month'] =test_df['Month'].replace(-1, 0)"
   ]
  },
  {
   "cell_type": "markdown",
   "id": "42aa0f45",
   "metadata": {},
   "source": [
    "**test data의 employee 인원 변수에서 콤마 삭제 & object에서 수치형으로 변환**"
   ]
  },
  {
   "cell_type": "markdown",
   "id": "ea895185",
   "metadata": {},
   "source": [
    "- '1,816' 등 콤마를 포함한 문자열로 인원수가 저장되어 있음."
   ]
  },
  {
   "cell_type": "code",
   "execution_count": 536,
   "id": "0d525853",
   "metadata": {},
   "outputs": [],
   "source": [
    "test_df.employee1 = test_df.employee1.str.replace(',', '')\n",
    "test_df.employee1 = pd.to_numeric(test_df.employee1, errors='ignore')\n",
    "\n",
    "test_df.employee2 = test_df.employee2.str.replace(',', '')\n",
    "test_df.employee2 = pd.to_numeric(test_df.employee2, errors='ignore')"
   ]
  },
  {
   "cell_type": "markdown",
   "id": "93ffa895",
   "metadata": {},
   "source": [
    "# 2. Outlier Treatment"
   ]
  },
  {
   "cell_type": "markdown",
   "id": "8cb2ccee",
   "metadata": {},
   "source": [
    "- 추후에 스케일링을 통해 해결하도록 한다."
   ]
  },
  {
   "cell_type": "markdown",
   "id": "63649e53",
   "metadata": {},
   "source": [
    "# 3. Handling Missing Values"
   ]
  },
  {
   "cell_type": "markdown",
   "id": "3ceac542",
   "metadata": {},
   "source": [
    "### 3.1 결측치가 50% 이상인 열 제거"
   ]
  },
  {
   "cell_type": "code",
   "execution_count": 537,
   "id": "fb45e22e",
   "metadata": {},
   "outputs": [],
   "source": [
    "# 열 제거 \n",
    "\n",
    "train_df = train_df.drop(columns=['receivableL2', 'receivableL1', 'surplus2', 'surplus1'])\n",
    "test_df = test_df.drop(columns=['receivableL2', 'receivableL1', 'surplus2', 'surplus1'])"
   ]
  },
  {
   "cell_type": "markdown",
   "id": "96b368eb",
   "metadata": {},
   "source": [
    "### 3.2 Imputation  \n",
    "### 3.2.1 Numerical Features"
   ]
  },
  {
   "cell_type": "markdown",
   "id": "31b31381",
   "metadata": {},
   "source": [
    "- MICE 방법 사용. 선형회귀모델을 기반으로 여러 차례 반복하여 결측값을 도출\n",
    "- Reference: https://www.numpyninja.com/post/how-to-implement-mice-algorithm-using-iterative-imputer-to-handle-missing-values"
   ]
  },
  {
   "cell_type": "code",
   "execution_count": 538,
   "id": "ad3ecc05",
   "metadata": {},
   "outputs": [],
   "source": [
    "train_num = train_df.select_dtypes(include = ['float64'])\n",
    "test_num = test_df.select_dtypes(include = ['float64']).drop('OC', axis=1)\n",
    "\n",
    "train_num.replace(0, np.nan, inplace=True)\n",
    "test_num.replace(0, np.nan, inplace=True)"
   ]
  },
  {
   "cell_type": "code",
   "execution_count": 539,
   "id": "d24234d9",
   "metadata": {
    "scrolled": false
   },
   "outputs": [
    {
     "name": "stdout",
     "output_type": "stream",
     "text": [
      "[IterativeImputer] Completing matrix with shape (301, 47)\n",
      "[IterativeImputer] Ending imputation round 1/30, elapsed time 0.18\n",
      "[IterativeImputer] Change: 427471277573.1162, scaled tolerance: 1640000.0000000002 \n",
      "[IterativeImputer] Ending imputation round 2/30, elapsed time 0.33\n",
      "[IterativeImputer] Change: 772047739166.2233, scaled tolerance: 1640000.0000000002 \n",
      "[IterativeImputer] Ending imputation round 3/30, elapsed time 0.50\n",
      "[IterativeImputer] Change: 839042699101.1716, scaled tolerance: 1640000.0000000002 \n",
      "[IterativeImputer] Ending imputation round 4/30, elapsed time 0.68\n",
      "[IterativeImputer] Change: 369851553488.84216, scaled tolerance: 1640000.0000000002 \n",
      "[IterativeImputer] Ending imputation round 5/30, elapsed time 0.84\n",
      "[IterativeImputer] Change: 188151525900.46625, scaled tolerance: 1640000.0000000002 \n",
      "[IterativeImputer] Ending imputation round 6/30, elapsed time 0.99\n",
      "[IterativeImputer] Change: 43002771159.645546, scaled tolerance: 1640000.0000000002 \n",
      "[IterativeImputer] Ending imputation round 7/30, elapsed time 1.17\n",
      "[IterativeImputer] Change: 18747006490.85647, scaled tolerance: 1640000.0000000002 \n",
      "[IterativeImputer] Ending imputation round 8/30, elapsed time 1.47\n",
      "[IterativeImputer] Change: 20299833358.306896, scaled tolerance: 1640000.0000000002 \n",
      "[IterativeImputer] Ending imputation round 9/30, elapsed time 1.64\n",
      "[IterativeImputer] Change: 90221308028.76378, scaled tolerance: 1640000.0000000002 \n",
      "[IterativeImputer] Ending imputation round 10/30, elapsed time 1.81\n",
      "[IterativeImputer] Change: 52983281806.93941, scaled tolerance: 1640000.0000000002 \n",
      "[IterativeImputer] Ending imputation round 11/30, elapsed time 1.97\n",
      "[IterativeImputer] Change: 41319440927.47652, scaled tolerance: 1640000.0000000002 \n",
      "[IterativeImputer] Ending imputation round 12/30, elapsed time 2.15\n",
      "[IterativeImputer] Change: 77828851635.90591, scaled tolerance: 1640000.0000000002 \n",
      "[IterativeImputer] Ending imputation round 13/30, elapsed time 2.32\n",
      "[IterativeImputer] Change: 44373309577.45689, scaled tolerance: 1640000.0000000002 \n",
      "[IterativeImputer] Ending imputation round 14/30, elapsed time 2.51\n",
      "[IterativeImputer] Change: 71896890743.6109, scaled tolerance: 1640000.0000000002 \n",
      "[IterativeImputer] Ending imputation round 15/30, elapsed time 2.70\n",
      "[IterativeImputer] Change: 84177105769.81929, scaled tolerance: 1640000.0000000002 \n",
      "[IterativeImputer] Ending imputation round 16/30, elapsed time 2.91\n",
      "[IterativeImputer] Change: 17765416900.408707, scaled tolerance: 1640000.0000000002 \n",
      "[IterativeImputer] Ending imputation round 17/30, elapsed time 3.05\n",
      "[IterativeImputer] Change: 18446517481.956356, scaled tolerance: 1640000.0000000002 \n",
      "[IterativeImputer] Ending imputation round 18/30, elapsed time 3.21\n",
      "[IterativeImputer] Change: 50742137176.961845, scaled tolerance: 1640000.0000000002 \n",
      "[IterativeImputer] Ending imputation round 19/30, elapsed time 3.38\n",
      "[IterativeImputer] Change: 59869875488.208336, scaled tolerance: 1640000.0000000002 \n",
      "[IterativeImputer] Ending imputation round 20/30, elapsed time 3.56\n",
      "[IterativeImputer] Change: 26167197673.9767, scaled tolerance: 1640000.0000000002 \n",
      "[IterativeImputer] Ending imputation round 21/30, elapsed time 3.75\n",
      "[IterativeImputer] Change: 19080306250.64247, scaled tolerance: 1640000.0000000002 \n",
      "[IterativeImputer] Ending imputation round 22/30, elapsed time 3.93\n",
      "[IterativeImputer] Change: 20193118179.482132, scaled tolerance: 1640000.0000000002 \n",
      "[IterativeImputer] Ending imputation round 23/30, elapsed time 4.10\n",
      "[IterativeImputer] Change: 12175421894.79459, scaled tolerance: 1640000.0000000002 \n",
      "[IterativeImputer] Ending imputation round 24/30, elapsed time 4.31\n",
      "[IterativeImputer] Change: 41943177669.46119, scaled tolerance: 1640000.0000000002 \n",
      "[IterativeImputer] Ending imputation round 25/30, elapsed time 4.51\n",
      "[IterativeImputer] Change: 12174701227.654238, scaled tolerance: 1640000.0000000002 \n",
      "[IterativeImputer] Ending imputation round 26/30, elapsed time 4.74\n",
      "[IterativeImputer] Change: 95239425990.33481, scaled tolerance: 1640000.0000000002 \n",
      "[IterativeImputer] Ending imputation round 27/30, elapsed time 4.92\n",
      "[IterativeImputer] Change: 80459342162.39786, scaled tolerance: 1640000.0000000002 \n",
      "[IterativeImputer] Ending imputation round 28/30, elapsed time 5.10\n",
      "[IterativeImputer] Change: 24967710732.70971, scaled tolerance: 1640000.0000000002 \n",
      "[IterativeImputer] Ending imputation round 29/30, elapsed time 5.27\n",
      "[IterativeImputer] Change: 81648478319.46, scaled tolerance: 1640000.0000000002 \n",
      "[IterativeImputer] Ending imputation round 30/30, elapsed time 5.43\n",
      "[IterativeImputer] Change: 25129571177.90437, scaled tolerance: 1640000.0000000002 \n",
      "[IterativeImputer] Completing matrix with shape (127, 47)\n",
      "[IterativeImputer] Ending imputation round 1/30, elapsed time 0.01\n",
      "[IterativeImputer] Ending imputation round 2/30, elapsed time 0.03\n",
      "[IterativeImputer] Ending imputation round 3/30, elapsed time 0.04\n",
      "[IterativeImputer] Ending imputation round 4/30, elapsed time 0.05\n",
      "[IterativeImputer] Ending imputation round 5/30, elapsed time 0.06\n",
      "[IterativeImputer] Ending imputation round 6/30, elapsed time 0.08\n",
      "[IterativeImputer] Ending imputation round 7/30, elapsed time 0.10\n",
      "[IterativeImputer] Ending imputation round 8/30, elapsed time 0.11\n",
      "[IterativeImputer] Ending imputation round 9/30, elapsed time 0.12\n",
      "[IterativeImputer] Ending imputation round 10/30, elapsed time 0.13\n",
      "[IterativeImputer] Ending imputation round 11/30, elapsed time 0.14\n",
      "[IterativeImputer] Ending imputation round 12/30, elapsed time 0.15\n",
      "[IterativeImputer] Ending imputation round 13/30, elapsed time 0.16\n",
      "[IterativeImputer] Ending imputation round 14/30, elapsed time 0.17\n",
      "[IterativeImputer] Ending imputation round 15/30, elapsed time 0.19\n",
      "[IterativeImputer] Ending imputation round 16/30, elapsed time 0.20\n",
      "[IterativeImputer] Ending imputation round 17/30, elapsed time 0.21\n",
      "[IterativeImputer] Ending imputation round 18/30, elapsed time 0.22\n",
      "[IterativeImputer] Ending imputation round 19/30, elapsed time 0.23\n",
      "[IterativeImputer] Ending imputation round 20/30, elapsed time 0.24\n",
      "[IterativeImputer] Ending imputation round 21/30, elapsed time 0.26\n",
      "[IterativeImputer] Ending imputation round 22/30, elapsed time 0.27\n",
      "[IterativeImputer] Ending imputation round 23/30, elapsed time 0.28\n",
      "[IterativeImputer] Ending imputation round 24/30, elapsed time 0.28\n",
      "[IterativeImputer] Ending imputation round 25/30, elapsed time 0.29\n",
      "[IterativeImputer] Ending imputation round 26/30, elapsed time 0.30\n",
      "[IterativeImputer] Ending imputation round 27/30, elapsed time 0.31\n",
      "[IterativeImputer] Ending imputation round 28/30, elapsed time 0.32\n",
      "[IterativeImputer] Ending imputation round 29/30, elapsed time 0.33\n",
      "[IterativeImputer] Ending imputation round 30/30, elapsed time 0.34\n"
     ]
    }
   ],
   "source": [
    "from sklearn.experimental import enable_iterative_imputer\n",
    "from sklearn.impute import IterativeImputer\n",
    "from sklearn.linear_model import LinearRegression\n",
    "\n",
    "lr = LinearRegression()\n",
    "MICE_imputer = IterativeImputer(estimator=lr, max_iter=30, verbose=2, tol=1e-5, imputation_order='roman')\n",
    "\n",
    "train_mice = MICE_imputer.fit_transform(train_num)\n",
    "test_mice = MICE_imputer.transform(test_num)"
   ]
  },
  {
   "cell_type": "code",
   "execution_count": 540,
   "id": "e9436c1e",
   "metadata": {
    "scrolled": true
   },
   "outputs": [],
   "source": [
    "# imputer로 결측치 대체하면 numpy array가 되므로 다시 데이터프레임으로 변환.\n",
    "\n",
    "train_mice = pd.DataFrame(train_mice)\n",
    "train_mice.columns = train_num.columns\n",
    "\n",
    "test_mice = pd.DataFrame(test_mice)\n",
    "test_mice.columns = test_num.columns\n",
    "\n",
    "for col in train_mice.columns:\n",
    "    train_df[col] = train_mice[col]\n",
    "    test_df[col] = test_mice[col]     # 변환한 값 덮어쓰기"
   ]
  },
  {
   "cell_type": "code",
   "execution_count": 541,
   "id": "4720155e",
   "metadata": {},
   "outputs": [
    {
     "name": "stdout",
     "output_type": "stream",
     "text": [
      "Int64Index([39, 237, 245], dtype='int64')\n",
      "Int64Index([], dtype='int64')\n",
      "Int64Index([], dtype='int64')\n",
      "\n",
      "Int64Index([78, 125], dtype='int64')\n",
      "Int64Index([88], dtype='int64')\n",
      "Int64Index([], dtype='int64')\n"
     ]
    }
   ],
   "source": [
    "print(train_df[train_df.bedCount < 0].index)\n",
    "print(train_df[train_df.employee1 < 0].index)\n",
    "print(train_df[train_df.employee2 < 0].index)\n",
    "print()\n",
    "print(test_df[test_df.bedCount < 0].index)\n",
    "print(test_df[test_df.employee1 < 0].index)\n",
    "print(test_df[test_df.employee2 < 0].index)"
   ]
  },
  {
   "cell_type": "code",
   "execution_count": 542,
   "id": "b361adf1",
   "metadata": {},
   "outputs": [
    {
     "name": "stdout",
     "output_type": "stream",
     "text": [
      "Int64Index([], dtype='int64')\n",
      "Int64Index([], dtype='int64')\n",
      "Int64Index([], dtype='int64')\n"
     ]
    }
   ],
   "source": [
    "# 0으로 변경\n",
    "\n",
    "train_df.loc[[39, 237, 245], 'bedCount'] = 0\n",
    "print(train_df[train_df.bedCount < 0].index)\n",
    "\n",
    "test_df.loc[[78, 125], 'bedCount'] = 0\n",
    "print(test_df[test_df.bedCount < 0].index)\n",
    "\n",
    "test_df.loc[88, 'employee1'] = 0\n",
    "print(test_df[test_df.employee1 < 0].index)"
   ]
  },
  {
   "cell_type": "markdown",
   "id": "39d431bb",
   "metadata": {},
   "source": [
    "### 3.2.2 Categorical Features"
   ]
  },
  {
   "cell_type": "markdown",
   "id": "ffd01a7f",
   "metadata": {},
   "source": [
    "- 최빈값 대체\n",
    "- Datawig 방법 사용하려 했는데 패키지 설치 실패\n",
    "    + Datawig: DNN(Deep Neural Network)으로 누락된 값을 유추하는 방법.\n",
    "- MICE 방법 사용하고 estimator를 random forest classifier로 하려 했는데 에러가 해결되지 않아서 다른 방법을 선택하였음."
   ]
  },
  {
   "cell_type": "code",
   "execution_count": 543,
   "id": "7b19ec5b",
   "metadata": {},
   "outputs": [],
   "source": [
    "train_df['instkind'].fillna(train_df.instkind.mode()[0], inplace=True)\n",
    "test_df['instkind'].fillna(test_df.instkind.mode()[0], inplace=True)\n",
    "\n",
    "train_df['ownerChange'].fillna(train_df.ownerChange.mode()[0], inplace=True)\n",
    "test_df['ownerChange'].fillna(test_df.ownerChange.mode()[0], inplace=True)"
   ]
  },
  {
   "cell_type": "code",
   "execution_count": 544,
   "id": "7973c04a",
   "metadata": {},
   "outputs": [],
   "source": [
    "# from sklearn.ensemble import RandomForestClassifier\n",
    "# # from sklearn.tree import DecisionTreeClassifier\n",
    "\n",
    "# train_df['instkind'] = train_df.instkind.astype('category')\n",
    "# test_df['instkind'] = test_df.instkind.astype('category')\n",
    "\n",
    "# train_df['ownerChange'] = train_df.ownerChange.astype('category')\n",
    "# test_df['ownerChange'] = test_df.ownerChange.astype('category')\n",
    "\n",
    "# rf = RandomForestClassifier()\n",
    "# rf_imputer = IterativeImputer(estimator=rf, max_iter=30, verbose=2, tol=1e-5, imputation_order='roman')\n",
    "\n",
    "# train_knn = rf_imputer.fit_transform(train_df.drop(['OC'], axis=1))\n",
    "# test_knn = rf_imputer.transform(test_df.drop(['OC'], axis=1))"
   ]
  },
  {
   "cell_type": "code",
   "execution_count": 545,
   "id": "e1be1b26",
   "metadata": {
    "scrolled": false
   },
   "outputs": [
    {
     "data": {
      "text/plain": [
       "(0, 2)"
      ]
     },
     "execution_count": 545,
     "metadata": {},
     "output_type": "execute_result"
    }
   ],
   "source": [
    "train_df.isnull().any().sum(), test_df.isnull().any().sum(), "
   ]
  },
  {
   "cell_type": "markdown",
   "id": "c24e8082",
   "metadata": {},
   "source": [
    "- test data: OC(target variable), openDate(버릴 변수)"
   ]
  },
  {
   "cell_type": "markdown",
   "id": "d30cb8b5",
   "metadata": {},
   "source": [
    "# 4. Data transformation"
   ]
  },
  {
   "cell_type": "markdown",
   "id": "4e3e00be",
   "metadata": {},
   "source": [
    "### 4.1 Feature Selection"
   ]
  },
  {
   "cell_type": "markdown",
   "id": "6326dbe9",
   "metadata": {},
   "source": [
    "### 4.1.1 Information Gain"
   ]
  },
  {
   "cell_type": "markdown",
   "id": "b1e7912b",
   "metadata": {},
   "source": [
    "- 한 변수를 기준으로 데이터셋을 나눌 때, 타겟 변수에 대한 분류의 정도가 얼마나 변하는지를 보여주는 지표. (불순물이 없이 정확하게 되는지.) \n",
    ">ex)  \n",
    "원 데이터는 레이블 간의 비율이 7:3으로 섞여 있었음.  \n",
    "    A 변수를 기준으로 나누자 A>1인 데이터셋에는 레이블 0만, A <= 1인 데이터셋에는 레이블 1만 있게 되었음.  \n",
    "    --> A 변수가 데이터셋의 불순도(entropy)를 낮춘 것임. (information gain이 큰 변수임)\n",
    "\n",
    "- 함수 코드) https://www.featureranking.com/tutorials/machine-learning-tutorials/information-gain-computation/"
   ]
  },
  {
   "cell_type": "code",
   "execution_count": 508,
   "id": "480ca9bd",
   "metadata": {},
   "outputs": [],
   "source": [
    "def compute_entropy(feature):\n",
    "    \"\"\"\n",
    "    This function calculates entropy of a feature.\n",
    "    \"\"\"\n",
    "    probs = feature.value_counts(normalize=True)\n",
    "    entropy = -1 * np.sum(np.log2(probs) * probs)\n",
    "        \n",
    "    return(round(entropy, 3))\n",
    "\n",
    "\n",
    "def comp_feature_information_gain(df, target, descriptive_feature):\n",
    "    \"\"\"\n",
    "    This function calculates information gain for splitting on \n",
    "    a particular descriptive feature for a given dataset\n",
    "    \"\"\"\n",
    "    \n",
    "#     print('target feature:', target)\n",
    "#     print('descriptive_feature:', descriptive_feature)\n",
    "            \n",
    "    target_entropy = compute_entropy(df[target])\n",
    "\n",
    "    # we define two lists below:\n",
    "    # entropy_list to store the entropy of each partition\n",
    "    # weight_list to store the relative number of observations in each partition\n",
    "    entropy_list = list()\n",
    "    weight_list = list()\n",
    "    \n",
    "    # loop over each level of the descriptive feature\n",
    "    # to partition the dataset with respect to that level\n",
    "    # and compute the entropy and the weight of the level's partition\n",
    "    for level in df[descriptive_feature].unique():\n",
    "        df_feature_level = df[df[descriptive_feature] == level]\n",
    "        entropy_level = compute_entropy(df_feature_level[target])\n",
    "        entropy_list.append(round(entropy_level, 3))\n",
    "        weight_level = len(df_feature_level) / len(df)\n",
    "        weight_list.append(round(weight_level, 3))\n",
    "\n",
    "    feature_remaining_impurity = np.sum(np.array(entropy_list) * np.array(weight_list))\n",
    "#     print('remaining impurity:', feature_remaining_impurity)\n",
    "    \n",
    "    information_gain = target_entropy - feature_remaining_impurity\n",
    "#     print('information gain:', information_gain)\n",
    "    \n",
    "#     print('====================')\n",
    "\n",
    "    return(information_gain)"
   ]
  },
  {
   "cell_type": "code",
   "execution_count": 182,
   "id": "8b6c3b30",
   "metadata": {
    "scrolled": false
   },
   "outputs": [
    {
     "data": {
      "text/html": [
       "<div>\n",
       "<style scoped>\n",
       "    .dataframe tbody tr th:only-of-type {\n",
       "        vertical-align: middle;\n",
       "    }\n",
       "\n",
       "    .dataframe tbody tr th {\n",
       "        vertical-align: top;\n",
       "    }\n",
       "\n",
       "    .dataframe thead th {\n",
       "        text-align: right;\n",
       "    }\n",
       "</style>\n",
       "<table border=\"1\" class=\"dataframe\">\n",
       "  <thead>\n",
       "    <tr style=\"text-align: right;\">\n",
       "      <th></th>\n",
       "      <th>IG</th>\n",
       "    </tr>\n",
       "    <tr>\n",
       "      <th>feature</th>\n",
       "      <th></th>\n",
       "    </tr>\n",
       "  </thead>\n",
       "  <tbody>\n",
       "    <tr>\n",
       "      <th>openDate</th>\n",
       "      <td>0.279000</td>\n",
       "    </tr>\n",
       "    <tr>\n",
       "      <th>receivableS1</th>\n",
       "      <td>0.272000</td>\n",
       "    </tr>\n",
       "    <tr>\n",
       "      <th>longLoan2</th>\n",
       "      <td>0.272000</td>\n",
       "    </tr>\n",
       "    <tr>\n",
       "      <th>receivableS2</th>\n",
       "      <td>0.272000</td>\n",
       "    </tr>\n",
       "    <tr>\n",
       "      <th>longLoan1</th>\n",
       "      <td>0.265000</td>\n",
       "    </tr>\n",
       "    <tr>\n",
       "      <th>ctax2</th>\n",
       "      <td>0.265000</td>\n",
       "    </tr>\n",
       "    <tr>\n",
       "      <th>liquidAsset2</th>\n",
       "      <td>0.265000</td>\n",
       "    </tr>\n",
       "    <tr>\n",
       "      <th>netAsset1</th>\n",
       "      <td>0.265000</td>\n",
       "    </tr>\n",
       "    <tr>\n",
       "      <th>quickAsset2</th>\n",
       "      <td>0.265000</td>\n",
       "    </tr>\n",
       "    <tr>\n",
       "      <th>NCLiabilities1</th>\n",
       "      <td>0.265000</td>\n",
       "    </tr>\n",
       "    <tr>\n",
       "      <th>shortLoan1</th>\n",
       "      <td>0.265000</td>\n",
       "    </tr>\n",
       "    <tr>\n",
       "      <th>liquidLiabilities1</th>\n",
       "      <td>0.265000</td>\n",
       "    </tr>\n",
       "    <tr>\n",
       "      <th>debt1</th>\n",
       "      <td>0.265000</td>\n",
       "    </tr>\n",
       "    <tr>\n",
       "      <th>tanAsset1</th>\n",
       "      <td>0.265000</td>\n",
       "    </tr>\n",
       "    <tr>\n",
       "      <th>nonCAsset1</th>\n",
       "      <td>0.265000</td>\n",
       "    </tr>\n",
       "    <tr>\n",
       "      <th>inventoryAsset1</th>\n",
       "      <td>0.265000</td>\n",
       "    </tr>\n",
       "    <tr>\n",
       "      <th>quickAsset1</th>\n",
       "      <td>0.265000</td>\n",
       "    </tr>\n",
       "    <tr>\n",
       "      <th>liquidAsset1</th>\n",
       "      <td>0.265000</td>\n",
       "    </tr>\n",
       "    <tr>\n",
       "      <th>inventoryAsset2</th>\n",
       "      <td>0.265000</td>\n",
       "    </tr>\n",
       "    <tr>\n",
       "      <th>ctax1</th>\n",
       "      <td>0.265000</td>\n",
       "    </tr>\n",
       "    <tr>\n",
       "      <th>nonCAsset2</th>\n",
       "      <td>0.265000</td>\n",
       "    </tr>\n",
       "    <tr>\n",
       "      <th>tanAsset2</th>\n",
       "      <td>0.265000</td>\n",
       "    </tr>\n",
       "    <tr>\n",
       "      <th>OnonCAsset2</th>\n",
       "      <td>0.265000</td>\n",
       "    </tr>\n",
       "    <tr>\n",
       "      <th>debt2</th>\n",
       "      <td>0.265000</td>\n",
       "    </tr>\n",
       "    <tr>\n",
       "      <th>liquidLiabilities2</th>\n",
       "      <td>0.265000</td>\n",
       "    </tr>\n",
       "    <tr>\n",
       "      <th>shortLoan2</th>\n",
       "      <td>0.265000</td>\n",
       "    </tr>\n",
       "    <tr>\n",
       "      <th>NCLiabilities2</th>\n",
       "      <td>0.265000</td>\n",
       "    </tr>\n",
       "    <tr>\n",
       "      <th>netAsset2</th>\n",
       "      <td>0.265000</td>\n",
       "    </tr>\n",
       "    <tr>\n",
       "      <th>noe2</th>\n",
       "      <td>0.258000</td>\n",
       "    </tr>\n",
       "    <tr>\n",
       "      <th>profit2</th>\n",
       "      <td>0.258000</td>\n",
       "    </tr>\n",
       "    <tr>\n",
       "      <th>interest2</th>\n",
       "      <td>0.258000</td>\n",
       "    </tr>\n",
       "    <tr>\n",
       "      <th>revenue2</th>\n",
       "      <td>0.258000</td>\n",
       "    </tr>\n",
       "    <tr>\n",
       "      <th>noi2</th>\n",
       "      <td>0.258000</td>\n",
       "    </tr>\n",
       "    <tr>\n",
       "      <th>interest1</th>\n",
       "      <td>0.258000</td>\n",
       "    </tr>\n",
       "    <tr>\n",
       "      <th>revenue1</th>\n",
       "      <td>0.258000</td>\n",
       "    </tr>\n",
       "    <tr>\n",
       "      <th>salescost1</th>\n",
       "      <td>0.258000</td>\n",
       "    </tr>\n",
       "    <tr>\n",
       "      <th>sga1</th>\n",
       "      <td>0.258000</td>\n",
       "    </tr>\n",
       "    <tr>\n",
       "      <th>salary1</th>\n",
       "      <td>0.258000</td>\n",
       "    </tr>\n",
       "    <tr>\n",
       "      <th>noi1</th>\n",
       "      <td>0.258000</td>\n",
       "    </tr>\n",
       "    <tr>\n",
       "      <th>salary2</th>\n",
       "      <td>0.258000</td>\n",
       "    </tr>\n",
       "    <tr>\n",
       "      <th>noe1</th>\n",
       "      <td>0.258000</td>\n",
       "    </tr>\n",
       "    <tr>\n",
       "      <th>profit1</th>\n",
       "      <td>0.258000</td>\n",
       "    </tr>\n",
       "    <tr>\n",
       "      <th>OnonCAsset1</th>\n",
       "      <td>0.258000</td>\n",
       "    </tr>\n",
       "    <tr>\n",
       "      <th>salescost2</th>\n",
       "      <td>0.258000</td>\n",
       "    </tr>\n",
       "    <tr>\n",
       "      <th>sga2</th>\n",
       "      <td>0.258000</td>\n",
       "    </tr>\n",
       "    <tr>\n",
       "      <th>employee2</th>\n",
       "      <td>0.219676</td>\n",
       "    </tr>\n",
       "    <tr>\n",
       "      <th>bedCount</th>\n",
       "      <td>0.215460</td>\n",
       "    </tr>\n",
       "    <tr>\n",
       "      <th>employee1</th>\n",
       "      <td>0.210737</td>\n",
       "    </tr>\n",
       "    <tr>\n",
       "      <th>sgg</th>\n",
       "      <td>0.173377</td>\n",
       "    </tr>\n",
       "    <tr>\n",
       "      <th>Year</th>\n",
       "      <td>0.080384</td>\n",
       "    </tr>\n",
       "    <tr>\n",
       "      <th>sido</th>\n",
       "      <td>0.040466</td>\n",
       "    </tr>\n",
       "    <tr>\n",
       "      <th>Month</th>\n",
       "      <td>0.029702</td>\n",
       "    </tr>\n",
       "    <tr>\n",
       "      <th>ownerChange</th>\n",
       "      <td>0.015640</td>\n",
       "    </tr>\n",
       "    <tr>\n",
       "      <th>instkind</th>\n",
       "      <td>0.008154</td>\n",
       "    </tr>\n",
       "  </tbody>\n",
       "</table>\n",
       "</div>"
      ],
      "text/plain": [
       "                          IG\n",
       "feature                     \n",
       "openDate            0.279000\n",
       "receivableS1        0.272000\n",
       "longLoan2           0.272000\n",
       "receivableS2        0.272000\n",
       "longLoan1           0.265000\n",
       "ctax2               0.265000\n",
       "liquidAsset2        0.265000\n",
       "netAsset1           0.265000\n",
       "quickAsset2         0.265000\n",
       "NCLiabilities1      0.265000\n",
       "shortLoan1          0.265000\n",
       "liquidLiabilities1  0.265000\n",
       "debt1               0.265000\n",
       "tanAsset1           0.265000\n",
       "nonCAsset1          0.265000\n",
       "inventoryAsset1     0.265000\n",
       "quickAsset1         0.265000\n",
       "liquidAsset1        0.265000\n",
       "inventoryAsset2     0.265000\n",
       "ctax1               0.265000\n",
       "nonCAsset2          0.265000\n",
       "tanAsset2           0.265000\n",
       "OnonCAsset2         0.265000\n",
       "debt2               0.265000\n",
       "liquidLiabilities2  0.265000\n",
       "shortLoan2          0.265000\n",
       "NCLiabilities2      0.265000\n",
       "netAsset2           0.265000\n",
       "noe2                0.258000\n",
       "profit2             0.258000\n",
       "interest2           0.258000\n",
       "revenue2            0.258000\n",
       "noi2                0.258000\n",
       "interest1           0.258000\n",
       "revenue1            0.258000\n",
       "salescost1          0.258000\n",
       "sga1                0.258000\n",
       "salary1             0.258000\n",
       "noi1                0.258000\n",
       "salary2             0.258000\n",
       "noe1                0.258000\n",
       "profit1             0.258000\n",
       "OnonCAsset1         0.258000\n",
       "salescost2          0.258000\n",
       "sga2                0.258000\n",
       "employee2           0.219676\n",
       "bedCount            0.215460\n",
       "employee1           0.210737\n",
       "sgg                 0.173377\n",
       "Year                0.080384\n",
       "sido                0.040466\n",
       "Month               0.029702\n",
       "ownerChange         0.015640\n",
       "instkind            0.008154"
      ]
     },
     "execution_count": 182,
     "metadata": {},
     "output_type": "execute_result"
    }
   ],
   "source": [
    "ig = pd.DataFrame({'feature':[], 'IG':[]})\n",
    "\n",
    "for i, col in enumerate(train_df.drop(['OC', 'inst_id'], axis=1).columns):\n",
    "    ig.loc[i, 'feature'] = col\n",
    "    ig.loc[i, 'IG'] = comp_feature_information_gain(train_df, 'OC', col)\n",
    "\n",
    "ig = ig.set_index('feature')\n",
    "ig.sort_values(by='IG', ascending=False)"
   ]
  },
  {
   "cell_type": "markdown",
   "id": "38831685",
   "metadata": {},
   "source": [
    "### 4.1.2 RFE / RFECV"
   ]
  },
  {
   "cell_type": "markdown",
   "id": "066885bc",
   "metadata": {},
   "source": [
    "- RFE(Recursive Feature Elimination) : 몇 개 변수 택할지 설정해야 함\n",
    "- RFECV (Recursive Feature Elimination with Cross Validation) : 교차 검증 거쳐 알아서 변수 선택해줌"
   ]
  },
  {
   "cell_type": "markdown",
   "id": "933e324b",
   "metadata": {},
   "source": [
    "1) RFE"
   ]
  },
  {
   "cell_type": "code",
   "execution_count": 225,
   "id": "cb0af6ac",
   "metadata": {},
   "outputs": [],
   "source": [
    "from sklearn.datasets import make_classification\n",
    "from sklearn.feature_selection import RFE, RFECV\n",
    "from lightgbm import LGBMClassifier\n",
    "import matplotlib.pyplot as plt"
   ]
  },
  {
   "cell_type": "code",
   "execution_count": 229,
   "id": "3be536f5",
   "metadata": {
    "scrolled": true
   },
   "outputs": [
    {
     "data": {
      "text/plain": [
       "(301, 56)"
      ]
     },
     "metadata": {},
     "output_type": "display_data"
    },
    {
     "data": {
      "text/plain": [
       "(301,)"
      ]
     },
     "metadata": {},
     "output_type": "display_data"
    }
   ],
   "source": [
    "X, y = make_classification(n_samples=301, n_features=56, random_state=1234)\n",
    "display(X.shape, y.shape)"
   ]
  },
  {
   "cell_type": "markdown",
   "id": "207c5179",
   "metadata": {},
   "source": [
    "RFECV (Recursive Feature Elimination with Cross Validation)"
   ]
  },
  {
   "cell_type": "code",
   "execution_count": 245,
   "id": "478d9b68",
   "metadata": {},
   "outputs": [],
   "source": [
    "clf = LGBMClassifier(random_state=1234, n_estimators=100, learning_rate=0.01)\n",
    "min_features_to_select = 15\n",
    "step = 3\n",
    "selector = RFECV(clf, step=step, cv=5, min_features_to_select=min_features_to_select)\n",
    "selector = selector.fit(X, y)"
   ]
  },
  {
   "cell_type": "code",
   "execution_count": 247,
   "id": "17e1ca9d",
   "metadata": {},
   "outputs": [
    {
     "name": "stdout",
     "output_type": "stream",
     "text": [
      "0 : True,  1 : False,  2 : True,  3 : False,  \n",
      "4 : False,  5 : False,  6 : True,  7 : False,  \n",
      "8 : True,  9 : False,  10 : False,  11 : True,  \n",
      "12 : False,  13 : False,  14 : False,  15 : False,  \n",
      "16 : False,  17 : False,  18 : False,  19 : False,  \n",
      "20 : False,  21 : False,  22 : False,  23 : False,  \n",
      "24 : False,  25 : False,  26 : True,  27 : True,  \n",
      "28 : True,  29 : False,  30 : False,  31 : True,  \n",
      "32 : True,  33 : False,  34 : False,  35 : False,  \n",
      "36 : False,  37 : False,  38 : False,  39 : True,  \n",
      "40 : True,  41 : False,  42 : False,  43 : False,  \n",
      "44 : False,  45 : True,  46 : True,  47 : False,  \n",
      "48 : True,  49 : False,  50 : False,  51 : False,  \n",
      "52 : False,  53 : False,  54 : False,  55 : False,  \n"
     ]
    }
   ],
   "source": [
    "for i, b in enumerate(selector.support_):\n",
    "    print(i, ':', b, end=',  ')\n",
    "    if i % 4 == 3:\n",
    "        print()"
   ]
  },
  {
   "cell_type": "markdown",
   "id": "5a850744",
   "metadata": {},
   "source": [
    "sido / instkind / salescost1 / noi1 / longLoan1 / netAsset1 / sga2 / salary2 / quickAsset2 / receivableS2 /   \n",
    "debt2 / liquidLiabilities2 /  NCLiabilities2"
   ]
  },
  {
   "cell_type": "markdown",
   "id": "7cecfda3",
   "metadata": {},
   "source": [
    "* RFE로 해도 동일 결과 얻음."
   ]
  },
  {
   "cell_type": "markdown",
   "id": "7ea04831",
   "metadata": {},
   "source": [
    "**결론) sgg, year, month, ownerchange, employee 버리기** "
   ]
  },
  {
   "cell_type": "code",
   "execution_count": 546,
   "id": "24a97fd5",
   "metadata": {},
   "outputs": [],
   "source": [
    "train_df.drop(['sgg', 'Year', 'Month', 'ownerChange', 'employee1', 'employee2'], axis=1, inplace=True)\n",
    "test_df.drop(['sgg', 'Year', 'Month', 'ownerChange', 'employee1', 'employee2'], axis=1, inplace=True)"
   ]
  },
  {
   "cell_type": "markdown",
   "id": "92ad1115",
   "metadata": {},
   "source": [
    "### 4.2 Discreditization + etc"
   ]
  },
  {
   "cell_type": "markdown",
   "id": "e62c5e37",
   "metadata": {},
   "source": [
    "1) bedCount 변수"
   ]
  },
  {
   "cell_type": "code",
   "execution_count": 547,
   "id": "8053ec5d",
   "metadata": {},
   "outputs": [],
   "source": [
    "condition1 = train_df['bedCount'] <= 29\n",
    "condition2 = (train_df['bedCount'] >= 30) & (train_df['bedCount'] < 100)\n",
    "condition3 = (train_df['bedCount'] >= 100) & (train_df['bedCount'] <= 300)\n",
    "condition4 = train_df['bedCount'] >= 300"
   ]
  },
  {
   "cell_type": "code",
   "execution_count": 548,
   "id": "80dfcc59",
   "metadata": {},
   "outputs": [],
   "source": [
    "train_df.loc[condition1, 'bedCount'] = 1\n",
    "train_df.loc[condition2, 'bedCount'] = 2\n",
    "train_df.loc[condition3, 'bedCount'] = 3\n",
    "train_df.loc[condition4, 'bedCount'] = 4"
   ]
  },
  {
   "cell_type": "code",
   "execution_count": 549,
   "id": "6f0aab72",
   "metadata": {},
   "outputs": [],
   "source": [
    "condition1 = test_df['bedCount'] <= 29\n",
    "condition2 = (test_df['bedCount'] >= 30) & (test_df['bedCount'] < 100)\n",
    "condition3 = (test_df['bedCount'] >= 100) & (test_df['bedCount'] <= 300)\n",
    "condition4 = test_df['bedCount'] >= 300"
   ]
  },
  {
   "cell_type": "code",
   "execution_count": 550,
   "id": "71e01cec",
   "metadata": {},
   "outputs": [],
   "source": [
    "test_df.loc[condition1, 'bedCount'] = 1\n",
    "test_df.loc[condition2, 'bedCount'] = 2\n",
    "test_df.loc[condition3, 'bedCount'] = 3\n",
    "test_df.loc[condition4, 'bedCount'] = 4"
   ]
  },
  {
   "cell_type": "code",
   "execution_count": null,
   "id": "312c5897",
   "metadata": {},
   "outputs": [],
   "source": []
  },
  {
   "cell_type": "markdown",
   "id": "834c5350",
   "metadata": {},
   "source": [
    "2) 도시권 구분을 따라 sido 변수 내 범주 병합"
   ]
  },
  {
   "cell_type": "code",
   "execution_count": 551,
   "id": "a4025731",
   "metadata": {},
   "outputs": [],
   "source": [
    "change_value_dict = {'seoul':'Seoul', 'gyeonggi':'Seoul', 'incheon':'Seoul',     # 수도권\n",
    "                    'choongbuk':'Daejeon', 'choongnam':'Daejeon', 'daejeon':'Daejeon', 'sejong':'Daejeon',   # 대전권\n",
    "                    'gwangju':'Gwangju', 'jeonnam':'Gwangju',    # 광주권\n",
    "                    'daegu':'Daegu', 'gyeongbuk':'Daegu',     # 대구권\n",
    "                    'busan':'Busan', 'ulsan':'Busan', 'gyeongnam':'Busan',     # 부산권\n",
    "                    'gangwon':'etc', 'jeonbuk':'etc', 'jeju':'etc'}    # 기타\n",
    "\n",
    "\n",
    "train_df['Metro'] = train_df['sido']\n",
    "test_df['Metro'] = test_df['sido']\n",
    "train_df = train_df.replace({'Metro':change_value_dict})\n",
    "test_df = test_df.replace({'Metro':change_value_dict})"
   ]
  },
  {
   "cell_type": "code",
   "execution_count": 552,
   "id": "34d3df9a",
   "metadata": {},
   "outputs": [],
   "source": [
    "train_df.drop('sido', axis=1, inplace=True)\n",
    "test_df.drop('sido', axis=1, inplace=True)"
   ]
  },
  {
   "cell_type": "code",
   "execution_count": null,
   "id": "005846ce",
   "metadata": {},
   "outputs": [],
   "source": []
  },
  {
   "cell_type": "markdown",
   "id": "b7272a15",
   "metadata": {},
   "source": [
    "### 4.3 변수 타입 변환"
   ]
  },
  {
   "cell_type": "code",
   "execution_count": 553,
   "id": "a6635472",
   "metadata": {},
   "outputs": [],
   "source": [
    "def new_type(df, feature, dtype):\n",
    "    df[feature] = df[feature].astype(dtype)"
   ]
  },
  {
   "cell_type": "code",
   "execution_count": 554,
   "id": "f5917369",
   "metadata": {},
   "outputs": [],
   "source": [
    "# train data\n",
    "\n",
    "for col in ['OC', 'instkind', 'Metro']:\n",
    "    new_type(train_df, col, 'category')\n",
    "    \n",
    "new_type(train_df, 'bedCount', 'int64')\n",
    "new_type(train_df, 'bedCount', 'category')"
   ]
  },
  {
   "cell_type": "code",
   "execution_count": 555,
   "id": "2c2bba46",
   "metadata": {},
   "outputs": [],
   "source": [
    "# test data\n",
    "\n",
    "for col in ['OC', 'instkind', 'Metro']:\n",
    "    new_type(test_df, col, 'category')\n",
    "    \n",
    "new_type(test_df, 'bedCount', 'int64')\n",
    "new_type(test_df, 'bedCount', 'category')"
   ]
  },
  {
   "cell_type": "code",
   "execution_count": null,
   "id": "65768249",
   "metadata": {},
   "outputs": [],
   "source": []
  },
  {
   "cell_type": "code",
   "execution_count": 578,
   "id": "98412228",
   "metadata": {},
   "outputs": [
    {
     "data": {
      "text/plain": [
       "0          nursing_hospital\n",
       "1          general_hospital\n",
       "2          nursing_hospital\n",
       "3          general_hospital\n",
       "4          general_hospital\n",
       "               ...         \n",
       "296        nursing_hospital\n",
       "297                hospital\n",
       "298                hospital\n",
       "299        nursing_hospital\n",
       "300    traditional_hospital\n",
       "Name: instkind, Length: 301, dtype: category\n",
       "Categories (7, object): ['clinic', 'dental_clinic', 'general_hospital', 'hospital', 'nursing_hospital', 'traditional_clinic', 'traditional_hospital']"
      ]
     },
     "execution_count": 578,
     "metadata": {},
     "output_type": "execute_result"
    }
   ],
   "source": [
    "train_df.instkind"
   ]
  },
  {
   "cell_type": "markdown",
   "id": "c7d9476b",
   "metadata": {},
   "source": [
    "### 4.4 Scaling and Normalizing"
   ]
  },
  {
   "cell_type": "markdown",
   "id": "d0b56fb5",
   "metadata": {},
   "source": [
    "### 4.4.1 로그 변환 후 Robust Scaling"
   ]
  },
  {
   "cell_type": "code",
   "execution_count": 556,
   "id": "b5f13df2",
   "metadata": {},
   "outputs": [],
   "source": [
    "train_df.drop('openDate', axis=1, inplace=True)\n",
    "test_df.drop('openDate', axis=1, inplace=True)"
   ]
  },
  {
   "cell_type": "code",
   "execution_count": 557,
   "id": "668d1a94",
   "metadata": {},
   "outputs": [],
   "source": [
    "# log_tr = np.log1p(train_df.select_dtypes(include = ['float64', 'int64'])).drop('inst_id', axis=1)\n",
    "# log_te = np.log1p(test_df.select_dtypes(include = ['float64', 'int64'])).drop('inst_id', axis=1)"
   ]
  },
  {
   "cell_type": "markdown",
   "id": "83b73a34",
   "metadata": {},
   "source": [
    "- 로그 변환하면 결측치가 대거 발생함"
   ]
  },
  {
   "cell_type": "code",
   "execution_count": 579,
   "id": "b4e65bc3",
   "metadata": {},
   "outputs": [],
   "source": [
    "numerics = train_df.select_dtypes(include = ['float64', 'int64']).drop('inst_id', axis=1).columns\n",
    "\n",
    "from sklearn.preprocessing import RobustScaler\n",
    "\n",
    "scaler = RobustScaler()\n",
    "train_robust = scaler.fit_transform(train_df.loc[:, numerics])\n",
    "test_robust = scaler.transform(train_df.loc[:, numerics])\n",
    "\n",
    "train_robust = pd.DataFrame(train_robust, columns = numerics)\n",
    "test_robust = pd.DataFrame(test_robust, columns = numerics)\n",
    "\n",
    "tr = train_df.copy()\n",
    "te = test_df.copy()\n",
    "\n",
    "for col in train_robust.columns:\n",
    "    tr[col] = train_robust[col]\n",
    "    te[col] = test_robust[col]"
   ]
  },
  {
   "cell_type": "code",
   "execution_count": 587,
   "id": "74901c1c",
   "metadata": {},
   "outputs": [
    {
     "data": {
      "text/plain": [
       "(False, True)"
      ]
     },
     "execution_count": 587,
     "metadata": {},
     "output_type": "execute_result"
    }
   ],
   "source": [
    "tr.isna().sum().any(), te.isna().sum().any()"
   ]
  },
  {
   "cell_type": "code",
   "execution_count": 583,
   "id": "c1c06967",
   "metadata": {},
   "outputs": [
    {
     "data": {
      "image/png": "[encoded data removed]",
      "text/plain": [
       "<Figure size 1440x1800 with 48 Axes>"
      ]
     },
     "metadata": {
      "needs_background": "light"
     },
     "output_type": "display_data"
    }
   ],
   "source": [
    "col_n = 6\n",
    "row_n = 8\n",
    "\n",
    "fig, ax = plt.subplots(ncols=col_n, nrows=row_n, figsize=(20,25))\n",
    "\n",
    "for i, col in enumerate(numerics):\n",
    "    sns.kdeplot(x=tr[col], ax=ax[int(i/col_n),int(i%col_n)])"
   ]
  },
  {
   "cell_type": "markdown",
   "id": "5d4bbd66",
   "metadata": {},
   "source": [
    "**결론) 로그 변환하면 결측치가 대거 발생해서 로그 변환 없이 스케일링만 한 데이터로 채택**"
   ]
  },
  {
   "cell_type": "code",
   "execution_count": 589,
   "id": "5ed2444d",
   "metadata": {},
   "outputs": [],
   "source": [
    "tr_copy = train_df.copy()  # 백업\n",
    "te_copy = test_df.copy()\n",
    "\n",
    "train_df = tr\n",
    "test_df = te"
   ]
  },
  {
   "cell_type": "markdown",
   "id": "57e0f276",
   "metadata": {},
   "source": [
    "\n",
    "# 5. 파생변수 생성"
   ]
  },
  {
   "cell_type": "markdown",
   "id": "651b2d47",
   "metadata": {},
   "source": [
    "### 5.1 2개년 평균 재무제표 열 생성"
   ]
  },
  {
   "cell_type": "code",
   "execution_count": 592,
   "id": "1153150d",
   "metadata": {},
   "outputs": [],
   "source": [
    "def average(df, col1, col2):\n",
    "    col_name = col1[:-1]\n",
    "    df[col_name] = (df[col1]+df[col2])/2"
   ]
  },
  {
   "cell_type": "code",
   "execution_count": 593,
   "id": "d1f088b0",
   "metadata": {},
   "outputs": [],
   "source": [
    "from itertools import combinations\n",
    "\n",
    "for columns in list(combinations(train_df.columns, 2)):\n",
    "    if columns[0][:-1] == columns[1][:-1]:\n",
    "        average(train_df, columns[0], columns[1])"
   ]
  },
  {
   "cell_type": "code",
   "execution_count": 594,
   "id": "092f8805",
   "metadata": {},
   "outputs": [],
   "source": [
    "for columns in list(combinations(test_df.columns, 2)):\n",
    "    if columns[0][:-1] == columns[1][:-1]:\n",
    "        average(test_df, columns[0], columns[1])"
   ]
  },
  {
   "cell_type": "code",
   "execution_count": 600,
   "id": "632626a9",
   "metadata": {},
   "outputs": [],
   "source": [
    "train_df.drop(['revenue1', 'salescost1',\n",
    "       'sga1', 'salary1', 'noi1', 'noe1', 'interest1', 'ctax1', 'profit1',\n",
    "       'liquidAsset1', 'quickAsset1', 'receivableS1', 'inventoryAsset1',\n",
    "       'nonCAsset1', 'tanAsset1', 'OnonCAsset1', 'debt1', 'liquidLiabilities1',\n",
    "       'shortLoan1', 'NCLiabilities1', 'longLoan1', 'netAsset1', 'revenue2',\n",
    "       'salescost2', 'sga2', 'salary2', 'noi2', 'noe2', 'interest2', 'ctax2',\n",
    "       'profit2', 'liquidAsset2', 'quickAsset2', 'receivableS2',\n",
    "       'inventoryAsset2', 'nonCAsset2', 'tanAsset2', 'OnonCAsset2', 'debt2',\n",
    "       'liquidLiabilities2', 'shortLoan2', 'NCLiabilities2', 'longLoan2',\n",
    "       'netAsset2'], axis = 1, inplace=True)\n",
    "\n",
    "test_df.drop(['revenue1', 'salescost1',\n",
    "       'sga1', 'salary1', 'noi1', 'noe1', 'interest1', 'ctax1', 'profit1',\n",
    "       'liquidAsset1', 'quickAsset1', 'receivableS1', 'inventoryAsset1',\n",
    "       'nonCAsset1', 'tanAsset1', 'OnonCAsset1', 'debt1', 'liquidLiabilities1',\n",
    "       'shortLoan1', 'NCLiabilities1', 'longLoan1', 'netAsset1', 'revenue2',\n",
    "       'salescost2', 'sga2', 'salary2', 'noi2', 'noe2', 'interest2', 'ctax2',\n",
    "       'profit2', 'liquidAsset2', 'quickAsset2', 'receivableS2',\n",
    "       'inventoryAsset2', 'nonCAsset2', 'tanAsset2', 'OnonCAsset2', 'debt2',\n",
    "       'liquidLiabilities2', 'shortLoan2', 'NCLiabilities2', 'longLoan2',\n",
    "       'netAsset2'], axis = 1, inplace=True)"
   ]
  },
  {
   "cell_type": "markdown",
   "id": "93948e2b",
   "metadata": {},
   "source": [
    "### 5.2 주요 재무지표 열 생성"
   ]
  },
  {
   "cell_type": "code",
   "execution_count": 610,
   "id": "a2d77d06",
   "metadata": {},
   "outputs": [],
   "source": [
    "# 안정성\n",
    "train_df['solvency'] = (train_df['liquidAsset'] - train_df['liquidLiabilities'])*100   # 지급 능력\n",
    "train_df['current_ratio'] = (train_df['liquidAsset'] / train_df['liquidLiabilities'])*100    # 유동비율\n",
    "train_df['debt_ratio'] = (train_df['debt']/train_df['netAsset'])*100    # 부채 비율\n",
    "train_df['car'] = (train_df['netAsset']/(train_df['debt']+train_df['netAsset']))*100    # 자기자본비율\n",
    "train_df['icr'] = ((train_df['revenue']-train_df['salescost']-train_df['sga'])/train_df['interest'])*100   # 영업이익 대비 이자 보상 비율\n",
    "\n",
    "# 수익성\n",
    "train_df['opr'] = ((train_df['revenue']-train_df['salescost']-train_df['sga'])/train_df['revenue'])*100    # 매출액영업 이익율\n",
    "train_df['ros'] = (train_df['profit']/train_df['revenue'])*100    # 매출액 순이익률\n",
    "train_df['roa'] = (train_df['profit']/(train_df['debt']+train_df['netAsset']))*100   # 총자산 순이익률\n",
    "train_df['roe'] = (train_df['profit']/train_df['netAsset'])*100   # 자기자본 순이익률\n",
    "\n",
    "# 성장성 및 활동성: 전년도 대비 올해 지표"
   ]
  },
  {
   "cell_type": "code",
   "execution_count": 613,
   "id": "feec9409",
   "metadata": {},
   "outputs": [],
   "source": [
    "# 안정성\n",
    "test_df['solvency'] = (test_df['liquidAsset'] - test_df['liquidLiabilities'])*100   # 지급 능력\n",
    "test_df['current_ratio'] = (test_df['liquidAsset'] / test_df['liquidLiabilities'])*100    # 유동비율\n",
    "test_df['debt_ratio'] = (test_df['debt']/test_df['netAsset'])*100    # 부채 비율\n",
    "test_df['car'] = (test_df['netAsset']/(test_df['debt']+test_df['netAsset']))*100    # 자기자본비율\n",
    "test_df['icr'] = ((test_df['revenue']-test_df['salescost']-test_df['sga'])/test_df['interest'])*100   # 영업이익 대비 이자 보상 비율\n",
    "\n",
    "# 수익성\n",
    "test_df['opr'] = ((test_df['revenue']-test_df['salescost']-test_df['sga'])/test_df['revenue'])*100    # 매출액영업 이익율\n",
    "test_df['ros'] = (test_df['profit']/test_df['revenue'])*100    # 매출액 순이익률\n",
    "test_df['roa'] = (test_df['profit']/(test_df['debt']+test_df['netAsset']))*100   # 총자산 순이익률\n",
    "test_df['roe'] = (test_df['profit']/test_df['netAsset'])*100   # 자기자본 순이익률\n",
    "\n",
    "# 성장성 및 활동성"
   ]
  },
  {
   "cell_type": "markdown",
   "id": "75293c3b",
   "metadata": {},
   "source": [
    "# - 아 이거 스케일링 안 했다"
   ]
  },
  {
   "cell_type": "code",
   "execution_count": 611,
   "id": "1c38739a",
   "metadata": {},
   "outputs": [
    {
     "data": {
      "text/html": [
       "<div>\n",
       "<style scoped>\n",
       "    .dataframe tbody tr th:only-of-type {\n",
       "        vertical-align: middle;\n",
       "    }\n",
       "\n",
       "    .dataframe tbody tr th {\n",
       "        vertical-align: top;\n",
       "    }\n",
       "\n",
       "    .dataframe thead th {\n",
       "        text-align: right;\n",
       "    }\n",
       "</style>\n",
       "<table border=\"1\" class=\"dataframe\">\n",
       "  <thead>\n",
       "    <tr style=\"text-align: right;\">\n",
       "      <th></th>\n",
       "      <th>IG</th>\n",
       "    </tr>\n",
       "    <tr>\n",
       "      <th>feature</th>\n",
       "      <th></th>\n",
       "    </tr>\n",
       "  </thead>\n",
       "  <tbody>\n",
       "    <tr>\n",
       "      <th>longLoan</th>\n",
       "      <td>0.272000</td>\n",
       "    </tr>\n",
       "    <tr>\n",
       "      <th>receivableS</th>\n",
       "      <td>0.272000</td>\n",
       "    </tr>\n",
       "    <tr>\n",
       "      <th>tanAsset</th>\n",
       "      <td>0.265000</td>\n",
       "    </tr>\n",
       "    <tr>\n",
       "      <th>nonCAsset</th>\n",
       "      <td>0.265000</td>\n",
       "    </tr>\n",
       "    <tr>\n",
       "      <th>roa</th>\n",
       "      <td>0.265000</td>\n",
       "    </tr>\n",
       "    <tr>\n",
       "      <th>car</th>\n",
       "      <td>0.265000</td>\n",
       "    </tr>\n",
       "    <tr>\n",
       "      <th>debt_ratio</th>\n",
       "      <td>0.265000</td>\n",
       "    </tr>\n",
       "    <tr>\n",
       "      <th>current_ratio</th>\n",
       "      <td>0.265000</td>\n",
       "    </tr>\n",
       "    <tr>\n",
       "      <th>solvency</th>\n",
       "      <td>0.265000</td>\n",
       "    </tr>\n",
       "    <tr>\n",
       "      <th>netAsset</th>\n",
       "      <td>0.265000</td>\n",
       "    </tr>\n",
       "    <tr>\n",
       "      <th>NCLiabilities</th>\n",
       "      <td>0.265000</td>\n",
       "    </tr>\n",
       "    <tr>\n",
       "      <th>shortLoan</th>\n",
       "      <td>0.265000</td>\n",
       "    </tr>\n",
       "    <tr>\n",
       "      <th>liquidLiabilities</th>\n",
       "      <td>0.265000</td>\n",
       "    </tr>\n",
       "    <tr>\n",
       "      <th>debt</th>\n",
       "      <td>0.265000</td>\n",
       "    </tr>\n",
       "    <tr>\n",
       "      <th>OnonCAsset</th>\n",
       "      <td>0.265000</td>\n",
       "    </tr>\n",
       "    <tr>\n",
       "      <th>roe</th>\n",
       "      <td>0.265000</td>\n",
       "    </tr>\n",
       "    <tr>\n",
       "      <th>inventoryAsset</th>\n",
       "      <td>0.265000</td>\n",
       "    </tr>\n",
       "    <tr>\n",
       "      <th>quickAsset</th>\n",
       "      <td>0.265000</td>\n",
       "    </tr>\n",
       "    <tr>\n",
       "      <th>liquidAsset</th>\n",
       "      <td>0.265000</td>\n",
       "    </tr>\n",
       "    <tr>\n",
       "      <th>ctax</th>\n",
       "      <td>0.265000</td>\n",
       "    </tr>\n",
       "    <tr>\n",
       "      <th>sga</th>\n",
       "      <td>0.258000</td>\n",
       "    </tr>\n",
       "    <tr>\n",
       "      <th>ros</th>\n",
       "      <td>0.258000</td>\n",
       "    </tr>\n",
       "    <tr>\n",
       "      <th>opr</th>\n",
       "      <td>0.258000</td>\n",
       "    </tr>\n",
       "    <tr>\n",
       "      <th>icr</th>\n",
       "      <td>0.258000</td>\n",
       "    </tr>\n",
       "    <tr>\n",
       "      <th>revenue</th>\n",
       "      <td>0.258000</td>\n",
       "    </tr>\n",
       "    <tr>\n",
       "      <th>salescost</th>\n",
       "      <td>0.258000</td>\n",
       "    </tr>\n",
       "    <tr>\n",
       "      <th>salary</th>\n",
       "      <td>0.258000</td>\n",
       "    </tr>\n",
       "    <tr>\n",
       "      <th>noi</th>\n",
       "      <td>0.258000</td>\n",
       "    </tr>\n",
       "    <tr>\n",
       "      <th>noe</th>\n",
       "      <td>0.258000</td>\n",
       "    </tr>\n",
       "    <tr>\n",
       "      <th>interest</th>\n",
       "      <td>0.258000</td>\n",
       "    </tr>\n",
       "    <tr>\n",
       "      <th>profit</th>\n",
       "      <td>0.258000</td>\n",
       "    </tr>\n",
       "    <tr>\n",
       "      <th>Metro</th>\n",
       "      <td>0.018545</td>\n",
       "    </tr>\n",
       "    <tr>\n",
       "      <th>instkind</th>\n",
       "      <td>0.008154</td>\n",
       "    </tr>\n",
       "    <tr>\n",
       "      <th>bedCount</th>\n",
       "      <td>0.001778</td>\n",
       "    </tr>\n",
       "  </tbody>\n",
       "</table>\n",
       "</div>"
      ],
      "text/plain": [
       "                         IG\n",
       "feature                    \n",
       "longLoan           0.272000\n",
       "receivableS        0.272000\n",
       "tanAsset           0.265000\n",
       "nonCAsset          0.265000\n",
       "roa                0.265000\n",
       "car                0.265000\n",
       "debt_ratio         0.265000\n",
       "current_ratio      0.265000\n",
       "solvency           0.265000\n",
       "netAsset           0.265000\n",
       "NCLiabilities      0.265000\n",
       "shortLoan          0.265000\n",
       "liquidLiabilities  0.265000\n",
       "debt               0.265000\n",
       "OnonCAsset         0.265000\n",
       "roe                0.265000\n",
       "inventoryAsset     0.265000\n",
       "quickAsset         0.265000\n",
       "liquidAsset        0.265000\n",
       "ctax               0.265000\n",
       "sga                0.258000\n",
       "ros                0.258000\n",
       "opr                0.258000\n",
       "icr                0.258000\n",
       "revenue            0.258000\n",
       "salescost          0.258000\n",
       "salary             0.258000\n",
       "noi                0.258000\n",
       "noe                0.258000\n",
       "interest           0.258000\n",
       "profit             0.258000\n",
       "Metro              0.018545\n",
       "instkind           0.008154\n",
       "bedCount           0.001778"
      ]
     },
     "execution_count": 611,
     "metadata": {},
     "output_type": "execute_result"
    }
   ],
   "source": [
    "ig = pd.DataFrame({'feature':[], 'IG':[]})\n",
    "\n",
    "for i, col in enumerate(train_df.drop(['OC', 'inst_id'], axis=1).columns):\n",
    "    ig.loc[i, 'feature'] = col\n",
    "    ig.loc[i, 'IG'] = comp_feature_information_gain(train_df, 'OC', col)\n",
    "\n",
    "ig = ig.set_index('feature')\n",
    "ig.sort_values(by='IG', ascending=False)"
   ]
  },
  {
   "cell_type": "code",
   "execution_count": 615,
   "id": "39c496ec",
   "metadata": {},
   "outputs": [
    {
     "data": {
      "text/plain": [
       "(301, 36)"
      ]
     },
     "metadata": {},
     "output_type": "display_data"
    },
    {
     "data": {
      "text/plain": [
       "(301,)"
      ]
     },
     "metadata": {},
     "output_type": "display_data"
    }
   ],
   "source": [
    "X, y = make_classification(n_samples=301, n_features=36, random_state=1234)\n",
    "display(X.shape, y.shape)"
   ]
  },
  {
   "cell_type": "code",
   "execution_count": 616,
   "id": "67419461",
   "metadata": {
    "scrolled": false
   },
   "outputs": [],
   "source": [
    "clf = LGBMClassifier(random_state=1234, n_estimators=100, learning_rate=0.01)\n",
    "min_features_to_select = 15\n",
    "step = 3\n",
    "selector = RFECV(clf, step=step, cv=5, min_features_to_select=min_features_to_select)\n",
    "selector = selector.fit(X, y)"
   ]
  },
  {
   "cell_type": "code",
   "execution_count": 622,
   "id": "c4f5d708",
   "metadata": {},
   "outputs": [
    {
     "name": "stdout",
     "output_type": "stream",
     "text": [
      "0 : False,  1 : False,  2 : False,  3 : True,  \n",
      "4 : False,  5 : False,  6 : False,  7 : False,  \n",
      "8 : True,  9 : False,  10 : True,  11 : True,  \n",
      "12 : False,  13 : False,  14 : False,  15 : False,  \n",
      "16 : False,  17 : False,  18 : True,  19 : True,  \n",
      "20 : True,  21 : False,  22 : False,  23 : True,  \n",
      "24 : False,  25 : True,  26 : False,  27 : True,  \n",
      "28 : False,  29 : False,  30 : False,  31 : True,  \n",
      "32 : True,  33 : True,  34 : True,  35 : True,  \n"
     ]
    }
   ],
   "source": [
    "for i, b in enumerate(selector.support_):\n",
    "    print(i, ':', b, end=',  ')\n",
    "    if i % 4 == 3:\n",
    "        print()"
   ]
  },
  {
   "cell_type": "code",
   "execution_count": 620,
   "id": "609aa686",
   "metadata": {},
   "outputs": [
    {
     "name": "stdout",
     "output_type": "stream",
     "text": [
      "0 : inst_id,  1 : OC,  2 : bedCount,  3 : instkind,  \n",
      "4 : Metro,  5 : revenue,  6 : salescost,  7 : sga,  \n",
      "8 : salary,  9 : noi,  10 : noe,  11 : interest,  \n",
      "12 : ctax,  13 : profit,  14 : liquidAsset,  15 : quickAsset,  \n",
      "16 : receivableS,  17 : inventoryAsset,  18 : nonCAsset,  19 : tanAsset,  \n",
      "20 : OnonCAsset,  21 : debt,  22 : liquidLiabilities,  23 : shortLoan,  \n",
      "24 : NCLiabilities,  25 : longLoan,  26 : netAsset,  27 : solvency,  \n",
      "28 : current_ratio,  29 : debt_ratio,  30 : car,  31 : icr,  \n",
      "32 : opr,  33 : ros,  34 : roa,  35 : roe,  \n"
     ]
    }
   ],
   "source": [
    "for i, col in enumerate(train_df.columns):\n",
    "    print(i, ':', col, end=',  ')\n",
    "    if i % 4 == 3:\n",
    "        print()"
   ]
  },
  {
   "cell_type": "markdown",
   "id": "832668a0",
   "metadata": {},
   "source": [
    "- instkind, salary, noe, nonCAsset, tanAsset, OnonCAsset, shortLoan, longLoan, solvency, icr, opr, ros, roa, roe"
   ]
  },
  {
   "cell_type": "markdown",
   "id": "9f0238db",
   "metadata": {},
   "source": [
    "**최종 변수 선택)**  \n",
    "instkind, longLoan, receivableS, nonCAsset, roa, car, debt_ratio, current_ratio, solvency, shortLoan, roe, ros, opr, icr, salary, noi, noe  \n",
    "- 변수 선택 기준: information gain과 RFE 방법에서 모두 상위로 랭크된 변수 우선, 여러 개념을 포괄하고 있는 의미상 상위 개념 우선으로 택하였음"
   ]
  },
  {
   "cell_type": "markdown",
   "id": "4bfe439a",
   "metadata": {},
   "source": [
    "** 아까 숫자로 형변환 안 한 범주형 변수들 처리"
   ]
  },
  {
   "cell_type": "code",
   "execution_count": 649,
   "id": "f99388fb",
   "metadata": {},
   "outputs": [],
   "source": [
    "from sklearn.preprocessing import LabelEncoder\n",
    "\n",
    "le = LabelEncoder()\n",
    "train_df['instkind'] = le.fit_transform(train_df['instkind'])\n",
    "test_df['instkind'] = le.transform(test_df['instkind'])"
   ]
  },
  {
   "cell_type": "code",
   "execution_count": 651,
   "id": "56c18077",
   "metadata": {},
   "outputs": [],
   "source": [
    "encoder = LabelEncoder()\n",
    "\n",
    "train_df['Metro'] = encoder.fit_transform(train_df['Metro'])\n",
    "test_df['Metro'] = encoder.transform(test_df['Metro'])"
   ]
  },
  {
   "cell_type": "code",
   "execution_count": 652,
   "id": "f5c4da88",
   "metadata": {},
   "outputs": [],
   "source": [
    "train_df = train_df.set_index('inst_id')\n",
    "test_df = test_df.set_index('inst_id')"
   ]
  },
  {
   "cell_type": "markdown",
   "id": "92552408",
   "metadata": {},
   "source": [
    "# 6. Oversampling"
   ]
  },
  {
   "cell_type": "code",
   "execution_count": 654,
   "id": "8a80d5d9",
   "metadata": {},
   "outputs": [],
   "source": [
    "features = ['instkind', 'longLoan', 'receivableS', 'nonCAsset', 'roa', 'car', 'debt_ratio', 'current_ratio',\n",
    "            'solvency', 'shortLoan', 'roe', 'ros', 'opr', 'icr', 'salary', 'noi', 'noe']\n",
    "\n",
    "train_final = train_df.loc[:, features]\n",
    "y_train = train_df.OC"
   ]
  },
  {
   "cell_type": "code",
   "execution_count": 655,
   "id": "6eed425b",
   "metadata": {},
   "outputs": [
    {
     "name": "stdout",
     "output_type": "stream",
     "text": [
      "before oversampling\n",
      "train feature set: (301, 17) train label set: (301,) \n",
      "\n",
      "after oversampling\n",
      "train feature set: (572, 17) train label set: (572,) \n",
      "\n",
      "Distribution of labels :\n",
      " 0    286\n",
      "1    286\n",
      "Name: OC, dtype: int64\n"
     ]
    }
   ],
   "source": [
    "from imblearn.over_sampling import SMOTE\n",
    "\n",
    "smote = SMOTE(random_state=42)\n",
    "X_tr_over, y_train_over = smote.fit_resample(train_final, y_train)\n",
    "\n",
    "print('before oversampling')\n",
    "print('train feature set:', train_final.shape, 'train label set:', y_train.shape, '\\n')\n",
    "\n",
    "print('after oversampling')\n",
    "print('train feature set:', X_tr_over.shape, 'train label set:', y_train_over.shape, '\\n')\n",
    "print('Distribution of labels :\\n',pd.Series(y_train_over).value_counts() )"
   ]
  },
  {
   "cell_type": "code",
   "execution_count": 656,
   "id": "ef60008b",
   "metadata": {},
   "outputs": [
    {
     "name": "stdout",
     "output_type": "stream",
     "text": [
      "(343, 17) (343,)\n",
      "(229, 17) (229,)\n"
     ]
    }
   ],
   "source": [
    "from sklearn.model_selection import train_test_split, cross_val_score\n",
    "\n",
    "X_train, X_val, y_train, y_val = train_test_split(X_tr_over, y_train_over, test_size=0.4, random_state=0)\n",
    "\n",
    "print(X_train.shape, y_train.shape)\n",
    "print(X_val.shape, y_val.shape)"
   ]
  },
  {
   "cell_type": "code",
   "execution_count": 688,
   "id": "762dc45a",
   "metadata": {},
   "outputs": [
    {
     "data": {
      "text/plain": [
       "0    119\n",
       "1    110\n",
       "Name: OC, dtype: int64"
      ]
     },
     "execution_count": 688,
     "metadata": {},
     "output_type": "execute_result"
    }
   ],
   "source": [
    "y_val.value_counts()"
   ]
  },
  {
   "cell_type": "markdown",
   "id": "05a5035b",
   "metadata": {},
   "source": [
    "## 성능 확인"
   ]
  },
  {
   "cell_type": "markdown",
   "id": "302b4656",
   "metadata": {},
   "source": [
    "**1) DecisionTreeClassifier**"
   ]
  },
  {
   "cell_type": "code",
   "execution_count": 657,
   "id": "a89d6cc7",
   "metadata": {},
   "outputs": [
    {
     "name": "stdout",
     "output_type": "stream",
     "text": [
      "Confusion Matrix (Accuracy 0.7872)\n",
      "\n",
      "       Prediction\n",
      "Actual   0   1\n",
      "     0 137  30\n",
      "     1  43 133\n",
      "Confusion Matrix (Accuracy 0.7555)\n",
      "\n",
      "       Prediction\n",
      "Actual  0  1\n",
      "     0 94 25\n",
      "     1 31 79\n"
     ]
    }
   ],
   "source": [
    "from sklearn.tree import DecisionTreeClassifier\n",
    "from dmba import plotDecisionTree, classificationSummary\n",
    "\n",
    "ClassTree = DecisionTreeClassifier(min_samples_leaf=50, max_depth=7)\n",
    "ClassTree.fit(X_train, y_train)\n",
    "classificationSummary(y_train, ClassTree.predict(X_train))\n",
    "classificationSummary(y_val, ClassTree.predict(X_val))"
   ]
  },
  {
   "cell_type": "code",
   "execution_count": 659,
   "id": "90112064",
   "metadata": {},
   "outputs": [
    {
     "name": "stdout",
     "output_type": "stream",
     "text": [
      "              precision    recall  f1-score   support\n",
      "\n",
      "           0       0.75      0.79      0.77       119\n",
      "           1       0.76      0.72      0.74       110\n",
      "\n",
      "    accuracy                           0.76       229\n",
      "   macro avg       0.76      0.75      0.75       229\n",
      "weighted avg       0.76      0.76      0.76       229\n",
      "\n"
     ]
    }
   ],
   "source": [
    "from sklearn.metrics import classification_report\n",
    "print(classification_report(y_val, ClassTree.predict(X_val)))"
   ]
  },
  {
   "cell_type": "markdown",
   "id": "7b538392",
   "metadata": {},
   "source": [
    "**2) Logistic Regression**"
   ]
  },
  {
   "cell_type": "code",
   "execution_count": 660,
   "id": "d24c16cf",
   "metadata": {},
   "outputs": [
    {
     "name": "stdout",
     "output_type": "stream",
     "text": [
      "0.6880466472303207\n",
      "0.6681222707423581\n"
     ]
    }
   ],
   "source": [
    "from sklearn.linear_model import LogisticRegression\n",
    "model = LogisticRegression()\n",
    "model.fit(X_train, y_train)\n",
    "\n",
    "print(model.score(X_train, y_train))\n",
    "print(model.score(X_val, y_val))"
   ]
  },
  {
   "cell_type": "code",
   "execution_count": 662,
   "id": "1b77de6a",
   "metadata": {},
   "outputs": [
    {
     "name": "stdout",
     "output_type": "stream",
     "text": [
      "              precision    recall  f1-score   support\n",
      "\n",
      "           0       0.71      0.61      0.66       119\n",
      "           1       0.63      0.73      0.68       110\n",
      "\n",
      "    accuracy                           0.67       229\n",
      "   macro avg       0.67      0.67      0.67       229\n",
      "weighted avg       0.67      0.67      0.67       229\n",
      "\n"
     ]
    }
   ],
   "source": [
    "from sklearn.metrics import classification_report\n",
    "print(classification_report(y_val, model.predict(X_val)))"
   ]
  },
  {
   "cell_type": "code",
   "execution_count": null,
   "id": "11bbaeed",
   "metadata": {},
   "outputs": [],
   "source": []
  },
  {
   "cell_type": "code",
   "execution_count": null,
   "id": "3bba8fa5",
   "metadata": {},
   "outputs": [],
   "source": []
  },
  {
   "cell_type": "markdown",
   "id": "6d239d2b",
   "metadata": {},
   "source": [
    "**cf) 변수 선택 없이**"
   ]
  },
  {
   "cell_type": "code",
   "execution_count": 674,
   "id": "117976e1",
   "metadata": {},
   "outputs": [
    {
     "name": "stdout",
     "output_type": "stream",
     "text": [
      "before oversampling\n",
      "train feature set: (301, 33) train label set: (301,) \n",
      "\n",
      "after oversampling\n",
      "train feature set: (572, 33) train label set: (572,) \n",
      "\n",
      "Distribution of labels :\n",
      " 0    286\n",
      "1    286\n",
      "Name: OC, dtype: int64\n",
      "(343, 33) (343,)\n",
      "(229, 33) (229,)\n"
     ]
    }
   ],
   "source": [
    "train_final2 = train_df.drop(['OC', 'bedCount'], axis=1)\n",
    "y_train = train_df.OC\n",
    "\n",
    "smote = SMOTE(random_state=42)\n",
    "X_tr_over2, y_train_over = smote.fit_resample(train_final2, y_train)\n",
    "\n",
    "print('before oversampling')\n",
    "print('train feature set:', train_final2.shape, 'train label set:', y_train.shape, '\\n')\n",
    "\n",
    "print('after oversampling')\n",
    "print('train feature set:', X_tr_over2.shape, 'train label set:', y_train_over.shape, '\\n')\n",
    "print('Distribution of labels :\\n',pd.Series(y_train_over).value_counts())\n",
    "\n",
    "\n",
    "X_train2, X_val2, y_train, y_val = train_test_split(X_tr_over2, y_train_over, test_size=0.4, random_state=0)\n",
    "\n",
    "print(X_train2.shape, y_train.shape)\n",
    "print(X_val2.shape, y_val.shape)"
   ]
  },
  {
   "cell_type": "markdown",
   "id": "689ed8d9",
   "metadata": {},
   "source": [
    "**1) DecisionTreeClassifier**"
   ]
  },
  {
   "cell_type": "code",
   "execution_count": 676,
   "id": "741974f4",
   "metadata": {
    "scrolled": true
   },
   "outputs": [
    {
     "name": "stdout",
     "output_type": "stream",
     "text": [
      "Confusion Matrix (Accuracy 0.7580)\n",
      "\n",
      "       Prediction\n",
      "Actual   0   1\n",
      "     0 102  65\n",
      "     1  18 158\n",
      "Confusion Matrix (Accuracy 0.7293)\n",
      "\n",
      "       Prediction\n",
      "Actual  0  1\n",
      "     0 69 50\n",
      "     1 12 98\n"
     ]
    }
   ],
   "source": [
    "ClassTree = DecisionTreeClassifier(min_samples_leaf=50, max_depth=7)\n",
    "ClassTree.fit(X_train2, y_train)\n",
    "classificationSummary(y_train, ClassTree.predict(X_train2))\n",
    "classificationSummary(y_val, ClassTree.predict(X_val2))"
   ]
  },
  {
   "cell_type": "code",
   "execution_count": 679,
   "id": "86950e90",
   "metadata": {},
   "outputs": [
    {
     "name": "stdout",
     "output_type": "stream",
     "text": [
      "              precision    recall  f1-score   support\n",
      "\n",
      "           0       0.85      0.58      0.69       119\n",
      "           1       0.66      0.89      0.76       110\n",
      "\n",
      "    accuracy                           0.73       229\n",
      "   macro avg       0.76      0.74      0.72       229\n",
      "weighted avg       0.76      0.73      0.72       229\n",
      "\n"
     ]
    }
   ],
   "source": [
    "from sklearn.metrics import classification_report\n",
    "print(classification_report(y_val, ClassTree.predict(X_val2)))"
   ]
  },
  {
   "cell_type": "code",
   "execution_count": null,
   "id": "03663428",
   "metadata": {},
   "outputs": [],
   "source": []
  },
  {
   "cell_type": "markdown",
   "id": "51a64119",
   "metadata": {},
   "source": [
    "**2) Logistic Regression**"
   ]
  },
  {
   "cell_type": "code",
   "execution_count": 680,
   "id": "06cc6386",
   "metadata": {},
   "outputs": [
    {
     "name": "stdout",
     "output_type": "stream",
     "text": [
      "0.760932944606414\n",
      "0.7336244541484717\n"
     ]
    }
   ],
   "source": [
    "model = LogisticRegression()\n",
    "model.fit(X_train2, y_train)\n",
    "\n",
    "print(model.score(X_train2, y_train))\n",
    "print(model.score(X_val2, y_val))"
   ]
  },
  {
   "cell_type": "code",
   "execution_count": 682,
   "id": "51a124f8",
   "metadata": {},
   "outputs": [
    {
     "name": "stdout",
     "output_type": "stream",
     "text": [
      "              precision    recall  f1-score   support\n",
      "\n",
      "           0       0.74      0.76      0.75       119\n",
      "           1       0.73      0.71      0.72       110\n",
      "\n",
      "    accuracy                           0.73       229\n",
      "   macro avg       0.73      0.73      0.73       229\n",
      "weighted avg       0.73      0.73      0.73       229\n",
      "\n"
     ]
    }
   ],
   "source": [
    "print(classification_report(y_val, model.predict(X_val2)))"
   ]
  }
 ],
 "metadata": {
  "kernelspec": {
   "display_name": "Python 3 (ipykernel)",
   "language": "python",
   "name": "python3"
  },
  "language_info": {
   "codemirror_mode": {
    "name": "ipython",
    "version": 3
   },
   "file_extension": ".py",
   "mimetype": "text/x-python",
   "name": "python",
   "nbconvert_exporter": "python",
   "pygments_lexer": "ipython3",
   "version": "3.9.7"
  }
 },
 "nbformat": 4,
 "nbformat_minor": 5
}
