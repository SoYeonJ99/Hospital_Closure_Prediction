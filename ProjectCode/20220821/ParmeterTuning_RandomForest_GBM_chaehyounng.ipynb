{
 "cells": [
  {
   "cell_type": "markdown",
   "id": "ccad5470",
   "metadata": {},
   "source": [
    "# Parameter Tuning"
   ]
  },
  {
   "cell_type": "code",
   "execution_count": 1,
   "id": "eed9969b",
   "metadata": {},
   "outputs": [],
   "source": [
    "%matplotlib inline\n",
    "import os\n",
    "from pathlib import Path\n",
    "import numpy as np\n",
    "import pandas as pd\n",
    "from pandas.plotting import scatter_matrix, parallel_coordinates\n",
    "import seaborn as sns\n",
    "import matplotlib.pylab as plt\n",
    "import warnings"
   ]
  },
  {
   "cell_type": "code",
   "execution_count": 2,
   "id": "a8d77294",
   "metadata": {},
   "outputs": [],
   "source": [
    "warnings.filterwarnings('ignore')"
   ]
  },
  {
   "cell_type": "code",
   "execution_count": 3,
   "id": "f2430a61",
   "metadata": {},
   "outputs": [],
   "source": [
    "Train = pd.read_csv(\"C:/Users/kimch/Desktop/hospital_preprocessed_dataset/Train.csv\")\n",
    "Test = pd.read_csv(\"C:/Users/kimch/Desktop/hospital_preprocessed_dataset/Test.csv\")"
   ]
  },
  {
   "cell_type": "code",
   "execution_count": 4,
   "id": "56d2dd54",
   "metadata": {},
   "outputs": [],
   "source": [
    "# ownerChange\n",
    "Train[\"ownerChange\"] = round(Train[\"ownerChange\"])\n",
    "# bedCount_class\n",
    "Train[\"bedCount_class\"] = round(Train[\"bedCount_class\"])"
   ]
  },
  {
   "cell_type": "code",
   "execution_count": 5,
   "id": "8c8c5406",
   "metadata": {},
   "outputs": [],
   "source": [
    "Test[\"ownerChange\"] = round(Test[\"ownerChange\"])\n",
    "Test[\"bedCount_class\"] = round(Test[\"bedCount_class\"])"
   ]
  },
  {
   "cell_type": "code",
   "execution_count": 6,
   "id": "c6dc8e1b",
   "metadata": {},
   "outputs": [],
   "source": [
    "Train = Train.drop(columns=[\"instkind_nan\"])\n",
    "Test = Test.drop(columns=[\"instkind_nan\"])"
   ]
  },
  {
   "cell_type": "code",
   "execution_count": 7,
   "id": "58ef89ef",
   "metadata": {},
   "outputs": [],
   "source": [
    "Train = Train.set_index(\"inst_id\")\n",
    "Test = Test.set_index(\"inst_id\")"
   ]
  },
  {
   "cell_type": "markdown",
   "id": "045f852f",
   "metadata": {},
   "source": [
    "## Selected Features"
   ]
  },
  {
   "cell_type": "code",
   "execution_count": 8,
   "id": "3e420748",
   "metadata": {},
   "outputs": [],
   "source": [
    "fs = [\"sga1\", \"salary1\", \"revenue1\", \"profit2\", \"interest2\", \"interest1\", \"receivableS1\", \"receivableL1\", \"quickAsset1\", \"liquidAsset1\", \"employee2\", \"debt1\", \"instkind_nursing_hospital\", \"OC\"]"
   ]
  },
  {
   "cell_type": "code",
   "execution_count": 9,
   "id": "2efbca8d",
   "metadata": {},
   "outputs": [],
   "source": [
    "fs_ = [\"sga1\", \"salary1\", \"revenue1\", \"profit2\", \"interest2\", \"interest1\", \"receivableS1\", \"instkind_nursing_hospital\", \"OC\"]"
   ]
  },
  {
   "cell_type": "code",
   "execution_count": 10,
   "id": "2d143c84",
   "metadata": {},
   "outputs": [],
   "source": [
    "train = Train[fs]\n",
    "test = Test[fs]"
   ]
  },
  {
   "cell_type": "markdown",
   "id": "045e08e5",
   "metadata": {},
   "source": [
    "## Train -> Train, Valid, Test"
   ]
  },
  {
   "cell_type": "code",
   "execution_count": 11,
   "id": "edb7d220",
   "metadata": {},
   "outputs": [],
   "source": [
    "from sklearn.model_selection import train_test_split"
   ]
  },
  {
   "cell_type": "code",
   "execution_count": 192,
   "id": "22bf4277",
   "metadata": {},
   "outputs": [],
   "source": [
    "X = train.drop(columns=[\"OC\"])\n",
    "y = train[\"OC\"]\n",
    "\n",
    "# train:valid:test = 60:20:20 / 70:15:15 / 80:10:10  \n",
    "# 아무래도 close한 데이터가 적으므로 60:20:20으로 시행 => 70:15:15가 평균적으로 더 잘 나오는 듯? \n",
    "train_X, resid_X, train_y, resid_y = train_test_split(X, y, test_size=0.3, shuffle=True, random_state=21)  \n",
    "valid_X, test_X, valid_y, test_y = train_test_split(resid_X, resid_y, test_size=0.5, shuffle=True, random_state=21)"
   ]
  },
  {
   "cell_type": "code",
   "execution_count": 193,
   "id": "3c95125e",
   "metadata": {},
   "outputs": [
    {
     "data": {
      "text/plain": [
       "(210,)"
      ]
     },
     "execution_count": 193,
     "metadata": {},
     "output_type": "execute_result"
    }
   ],
   "source": [
    "train_y.shape"
   ]
  },
  {
   "cell_type": "code",
   "execution_count": 194,
   "id": "466a7513",
   "metadata": {},
   "outputs": [
    {
     "data": {
      "text/plain": [
       "(45,)"
      ]
     },
     "execution_count": 194,
     "metadata": {},
     "output_type": "execute_result"
    }
   ],
   "source": [
    "valid_y.shape"
   ]
  },
  {
   "cell_type": "code",
   "execution_count": 195,
   "id": "e8b384bd",
   "metadata": {},
   "outputs": [
    {
     "data": {
      "text/plain": [
       "(46,)"
      ]
     },
     "execution_count": 195,
     "metadata": {},
     "output_type": "execute_result"
    }
   ],
   "source": [
    "test_y.shape"
   ]
  },
  {
   "cell_type": "markdown",
   "id": "f789ead2",
   "metadata": {},
   "source": [
    "## Oversampling"
   ]
  },
  {
   "cell_type": "code",
   "execution_count": 196,
   "id": "de2a576b",
   "metadata": {},
   "outputs": [
    {
     "data": {
      "text/plain": [
       "1    199\n",
       "0     11\n",
       "Name: OC, dtype: int64"
      ]
     },
     "execution_count": 196,
     "metadata": {},
     "output_type": "execute_result"
    }
   ],
   "source": [
    "train_y.value_counts()"
   ]
  },
  {
   "cell_type": "code",
   "execution_count": 197,
   "id": "96a2fc2d",
   "metadata": {},
   "outputs": [],
   "source": [
    "from imblearn.over_sampling import SMOTE"
   ]
  },
  {
   "cell_type": "code",
   "execution_count": 198,
   "id": "051c109d",
   "metadata": {},
   "outputs": [],
   "source": [
    "smote = SMOTE(random_state=11)"
   ]
  },
  {
   "cell_type": "code",
   "execution_count": 199,
   "id": "9184f1ca",
   "metadata": {},
   "outputs": [],
   "source": [
    "train_X_smote, train_y_smote = smote.fit_resample(train_X, train_y)"
   ]
  },
  {
   "cell_type": "code",
   "execution_count": 200,
   "id": "6ef35f0d",
   "metadata": {},
   "outputs": [
    {
     "data": {
      "text/plain": [
       "1    199\n",
       "0    199\n",
       "Name: OC, dtype: int64"
      ]
     },
     "execution_count": 200,
     "metadata": {},
     "output_type": "execute_result"
    }
   ],
   "source": [
    "train_y_smote.value_counts()"
   ]
  },
  {
   "cell_type": "code",
   "execution_count": 201,
   "id": "301c90cc",
   "metadata": {},
   "outputs": [
    {
     "data": {
      "text/plain": [
       "1    42\n",
       "0     3\n",
       "Name: OC, dtype: int64"
      ]
     },
     "execution_count": 201,
     "metadata": {},
     "output_type": "execute_result"
    }
   ],
   "source": [
    "valid_y.value_counts()"
   ]
  },
  {
   "cell_type": "code",
   "execution_count": 202,
   "id": "c8863082",
   "metadata": {},
   "outputs": [
    {
     "data": {
      "text/plain": [
       "1    45\n",
       "0     1\n",
       "Name: OC, dtype: int64"
      ]
     },
     "execution_count": 202,
     "metadata": {},
     "output_type": "execute_result"
    }
   ],
   "source": [
    "test_y.value_counts()"
   ]
  },
  {
   "cell_type": "markdown",
   "id": "ca3fc6ff",
   "metadata": {},
   "source": [
    "## Random Forest Parameter Tuning  \n",
    "https://scikit-learn.org/stable/modules/generated/sklearn.ensemble.RandomForestClassifier.html"
   ]
  },
  {
   "cell_type": "code",
   "execution_count": 106,
   "id": "d67c89e2",
   "metadata": {},
   "outputs": [],
   "source": [
    "from sklearn.ensemble import RandomForestClassifier"
   ]
  },
  {
   "cell_type": "code",
   "execution_count": 107,
   "id": "1d3447dc",
   "metadata": {},
   "outputs": [],
   "source": [
    "# GridSearchCV: 파라미터를 순차적으로 입력해 학습을 하고 측정을 하면서 가장 좋은 파라미터를 알려주는 기법\n",
    "from sklearn.model_selection import GridSearchCV"
   ]
  },
  {
   "cell_type": "code",
   "execution_count": 108,
   "id": "48e3eeed",
   "metadata": {},
   "outputs": [
    {
     "name": "stdout",
     "output_type": "stream",
     "text": [
      "Best Score : 0.969873417721519\n",
      "Best Parameters : {'max_depth': 10, 'min_impurity_decrease': 0, 'min_samples_leaf': 2, 'min_samples_split': 6, 'n_estimators': 100}\n"
     ]
    }
   ],
   "source": [
    "# bootstrap: 복원추출로 선택(default=True로), max_leaf_nodes도 해봤는데 정확도 떨어지는 것 같음,, \n",
    "param_grid = {\n",
    "    \"n_estimators\": [10, 50, 100],\n",
    "    \"max_depth\": [5, 10, 15],\n",
    "    \"min_samples_leaf\": [2, 5, 10],\n",
    "    \"min_samples_split\": [6, 8, 10],\n",
    "    \"min_impurity_decrease\": [0, 0.001, 0.01]\n",
    "}\n",
    "\n",
    "rf = RandomForestClassifier(random_state=0, n_jobs=-1)\n",
    "gridSearch = GridSearchCV(rf, param_grid, cv=5, scoring=\"accuracy\", n_jobs=-1)\n",
    "\n",
    "gridSearch.fit(train_X_smote, train_y_smote)\n",
    "print(\"Best Score :\", gridSearch.best_score_)\n",
    "print(\"Best Parameters :\", gridSearch.best_params_)"
   ]
  },
  {
   "cell_type": "code",
   "execution_count": 109,
   "id": "0a93a27b",
   "metadata": {},
   "outputs": [
    {
     "name": "stdout",
     "output_type": "stream",
     "text": [
      "Best Score : 0.9724050632911393\n",
      "Best Parameters : {'max_depth': 10, 'min_impurity_decrease': 0, 'min_samples_leaf': 1, 'min_samples_split': 2, 'n_estimators': 75}\n"
     ]
    }
   ],
   "source": [
    "# 위 결과에서 좀 더 수정\n",
    "# but 너무 과적합 같음,, \n",
    "param_grid = {\n",
    "    \"max_depth\": [8, 10, 12], \n",
    "    \"min_samples_leaf\": [1, 2, 3, 4], \n",
    "    \"min_samples_split\" : [2, 4, 6], \n",
    "    \"n_estimators\": [75, 100, 125],\n",
    "    \"min_impurity_decrease\": [0, 0.0005]\n",
    "}\n",
    "\n",
    "rf = RandomForestClassifier(random_state=0, n_jobs=-1)\n",
    "gridSearch = GridSearchCV(rf, param_grid, cv=5, scoring=\"accuracy\", n_jobs=-1)\n",
    "\n",
    "gridSearch.fit(train_X_smote, train_y_smote)\n",
    "print(\"Best Score :\", gridSearch.best_score_)\n",
    "print(\"Best Parameters :\", gridSearch.best_params_)"
   ]
  },
  {
   "cell_type": "markdown",
   "id": "4497eafc",
   "metadata": {},
   "source": [
    "**Random Forest 최종 파라미터 :  \n",
    "n_estimators=100, min_impurity_decrease=0, min_samples_leaf=2, min_samples_split=6, max_depth=10**"
   ]
  },
  {
   "cell_type": "code",
   "execution_count": 203,
   "id": "5013bc06",
   "metadata": {},
   "outputs": [
    {
     "data": {
      "text/html": [
       "<style>#sk-container-id-22 {color: black;background-color: white;}#sk-container-id-22 pre{padding: 0;}#sk-container-id-22 div.sk-toggleable {background-color: white;}#sk-container-id-22 label.sk-toggleable__label {cursor: pointer;display: block;width: 100%;margin-bottom: 0;padding: 0.3em;box-sizing: border-box;text-align: center;}#sk-container-id-22 label.sk-toggleable__label-arrow:before {content: \"▸\";float: left;margin-right: 0.25em;color: #696969;}#sk-container-id-22 label.sk-toggleable__label-arrow:hover:before {color: black;}#sk-container-id-22 div.sk-estimator:hover label.sk-toggleable__label-arrow:before {color: black;}#sk-container-id-22 div.sk-toggleable__content {max-height: 0;max-width: 0;overflow: hidden;text-align: left;background-color: #f0f8ff;}#sk-container-id-22 div.sk-toggleable__content pre {margin: 0.2em;color: black;border-radius: 0.25em;background-color: #f0f8ff;}#sk-container-id-22 input.sk-toggleable__control:checked~div.sk-toggleable__content {max-height: 200px;max-width: 100%;overflow: auto;}#sk-container-id-22 input.sk-toggleable__control:checked~label.sk-toggleable__label-arrow:before {content: \"▾\";}#sk-container-id-22 div.sk-estimator input.sk-toggleable__control:checked~label.sk-toggleable__label {background-color: #d4ebff;}#sk-container-id-22 div.sk-label input.sk-toggleable__control:checked~label.sk-toggleable__label {background-color: #d4ebff;}#sk-container-id-22 input.sk-hidden--visually {border: 0;clip: rect(1px 1px 1px 1px);clip: rect(1px, 1px, 1px, 1px);height: 1px;margin: -1px;overflow: hidden;padding: 0;position: absolute;width: 1px;}#sk-container-id-22 div.sk-estimator {font-family: monospace;background-color: #f0f8ff;border: 1px dotted black;border-radius: 0.25em;box-sizing: border-box;margin-bottom: 0.5em;}#sk-container-id-22 div.sk-estimator:hover {background-color: #d4ebff;}#sk-container-id-22 div.sk-parallel-item::after {content: \"\";width: 100%;border-bottom: 1px solid gray;flex-grow: 1;}#sk-container-id-22 div.sk-label:hover label.sk-toggleable__label {background-color: #d4ebff;}#sk-container-id-22 div.sk-serial::before {content: \"\";position: absolute;border-left: 1px solid gray;box-sizing: border-box;top: 0;bottom: 0;left: 50%;z-index: 0;}#sk-container-id-22 div.sk-serial {display: flex;flex-direction: column;align-items: center;background-color: white;padding-right: 0.2em;padding-left: 0.2em;position: relative;}#sk-container-id-22 div.sk-item {position: relative;z-index: 1;}#sk-container-id-22 div.sk-parallel {display: flex;align-items: stretch;justify-content: center;background-color: white;position: relative;}#sk-container-id-22 div.sk-item::before, #sk-container-id-22 div.sk-parallel-item::before {content: \"\";position: absolute;border-left: 1px solid gray;box-sizing: border-box;top: 0;bottom: 0;left: 50%;z-index: -1;}#sk-container-id-22 div.sk-parallel-item {display: flex;flex-direction: column;z-index: 1;position: relative;background-color: white;}#sk-container-id-22 div.sk-parallel-item:first-child::after {align-self: flex-end;width: 50%;}#sk-container-id-22 div.sk-parallel-item:last-child::after {align-self: flex-start;width: 50%;}#sk-container-id-22 div.sk-parallel-item:only-child::after {width: 0;}#sk-container-id-22 div.sk-dashed-wrapped {border: 1px dashed gray;margin: 0 0.4em 0.5em 0.4em;box-sizing: border-box;padding-bottom: 0.4em;background-color: white;}#sk-container-id-22 div.sk-label label {font-family: monospace;font-weight: bold;display: inline-block;line-height: 1.2em;}#sk-container-id-22 div.sk-label-container {text-align: center;}#sk-container-id-22 div.sk-container {/* jupyter's `normalize.less` sets `[hidden] { display: none; }` but bootstrap.min.css set `[hidden] { display: none !important; }` so we also need the `!important` here to be able to override the default hidden behavior on the sphinx rendered scikit-learn.org. See: https://github.com/scikit-learn/scikit-learn/issues/21755 */display: inline-block !important;position: relative;}#sk-container-id-22 div.sk-text-repr-fallback {display: none;}</style><div id=\"sk-container-id-22\" class=\"sk-top-container\"><div class=\"sk-text-repr-fallback\"><pre>RandomForestClassifier(max_depth=10, min_impurity_decrease=0,\n",
       "                       min_samples_leaf=2, min_samples_split=6, n_jobs=-1,\n",
       "                       random_state=0)</pre><b>In a Jupyter environment, please rerun this cell to show the HTML representation or trust the notebook. <br />On GitHub, the HTML representation is unable to render, please try loading this page with nbviewer.org.</b></div><div class=\"sk-container\" hidden><div class=\"sk-item\"><div class=\"sk-estimator sk-toggleable\"><input class=\"sk-toggleable__control sk-hidden--visually\" id=\"sk-estimator-id-22\" type=\"checkbox\" checked><label for=\"sk-estimator-id-22\" class=\"sk-toggleable__label sk-toggleable__label-arrow\">RandomForestClassifier</label><div class=\"sk-toggleable__content\"><pre>RandomForestClassifier(max_depth=10, min_impurity_decrease=0,\n",
       "                       min_samples_leaf=2, min_samples_split=6, n_jobs=-1,\n",
       "                       random_state=0)</pre></div></div></div></div></div>"
      ],
      "text/plain": [
       "RandomForestClassifier(max_depth=10, min_impurity_decrease=0,\n",
       "                       min_samples_leaf=2, min_samples_split=6, n_jobs=-1,\n",
       "                       random_state=0)"
      ]
     },
     "execution_count": 203,
     "metadata": {},
     "output_type": "execute_result"
    }
   ],
   "source": [
    "best_rf = RandomForestClassifier(random_state=0, n_estimators=100, min_impurity_decrease=0, min_samples_leaf=2, min_samples_split=6, max_depth=10, n_jobs=-1)\n",
    "best_rf.fit(train_X_smote, train_y_smote)"
   ]
  },
  {
   "cell_type": "code",
   "execution_count": 204,
   "id": "1a6e7fa7",
   "metadata": {},
   "outputs": [],
   "source": [
    "from dmba import classificationSummary"
   ]
  },
  {
   "cell_type": "code",
   "execution_count": 205,
   "id": "73f3bcad",
   "metadata": {},
   "outputs": [
    {
     "name": "stdout",
     "output_type": "stream",
     "text": [
      "Confusion Matrix (Accuracy 0.9975)\n",
      "\n",
      "       Prediction\n",
      "Actual   0   1\n",
      "     0 199   0\n",
      "     1   1 198\n"
     ]
    }
   ],
   "source": [
    "classificationSummary(train_y_smote, best_rf.predict(train_X_smote))"
   ]
  },
  {
   "cell_type": "code",
   "execution_count": 206,
   "id": "846615fe",
   "metadata": {},
   "outputs": [
    {
     "name": "stdout",
     "output_type": "stream",
     "text": [
      "Confusion Matrix (Accuracy 0.9333)\n",
      "\n",
      "       Prediction\n",
      "Actual  0  1\n",
      "     0  2  1\n",
      "     1  2 40\n"
     ]
    }
   ],
   "source": [
    "classificationSummary(valid_y, best_rf.predict(valid_X))"
   ]
  },
  {
   "cell_type": "code",
   "execution_count": 207,
   "id": "407fcb69",
   "metadata": {},
   "outputs": [
    {
     "name": "stdout",
     "output_type": "stream",
     "text": [
      "Confusion Matrix (Accuracy 0.9565)\n",
      "\n",
      "       Prediction\n",
      "Actual  0  1\n",
      "     0  1  0\n",
      "     1  2 43\n"
     ]
    }
   ],
   "source": [
    "classificationSummary(test_y, best_rf.predict(test_X))"
   ]
  },
  {
   "cell_type": "markdown",
   "id": "e3fcab49",
   "metadata": {},
   "source": [
    "## GBM Parameter Tuning  \n",
    "https://scikit-learn.org/stable/modules/generated/sklearn.ensemble.GradientBoostingClassifier.html"
   ]
  },
  {
   "cell_type": "code",
   "execution_count": 116,
   "id": "ed9161fe",
   "metadata": {},
   "outputs": [],
   "source": [
    "from sklearn.ensemble import GradientBoostingClassifier"
   ]
  },
  {
   "cell_type": "code",
   "execution_count": 117,
   "id": "e534445c",
   "metadata": {},
   "outputs": [
    {
     "name": "stdout",
     "output_type": "stream",
     "text": [
      "Best Score : 0.9824367088607595\n",
      "Best Parameters : {'learning_rate': 0.1, 'loss': 'exponential', 'max_depth': 10, 'min_samples_leaf': 2, 'min_samples_split': 8, 'n_estimators': 100, 'subsample': 0.5}\n"
     ]
    }
   ],
   "source": [
    "# loss에서 log_loss는 logistic regression이랑, exponential은 AdaBoost랑 같은 원리인 것 같음\n",
    "param_grid ={\n",
    "    \"max_depth\" : [3, 5, 10],\n",
    "    \"min_samples_split\": [6, 8, 10], \n",
    "    \"min_samples_leaf\": [2, 5, 10],\n",
    "    \"n_estimators\": [50, 100, 150], \n",
    "    \"learning_rate\": [0.1, 1, 2], \n",
    "    \"subsample\": [0.5, 1],\n",
    "    \"loss\": [\"log_loss\", \"deviance\", \"exponential\"]\n",
    "}\n",
    "\n",
    "gbm = GradientBoostingClassifier(random_state=0)\n",
    "gridSearch = GridSearchCV(gbm, param_grid, cv=5, n_jobs=-1)\n",
    "\n",
    "gridSearch.fit(train_X_smote, train_y_smote)\n",
    "print(\"Best Score :\", gridSearch.best_score_)\n",
    "print(\"Best Parameters :\", gridSearch.best_params_)"
   ]
  },
  {
   "cell_type": "code",
   "execution_count": 126,
   "id": "13edad4b",
   "metadata": {},
   "outputs": [
    {
     "name": "stdout",
     "output_type": "stream",
     "text": [
      "Best Score : 0.9799683544303797\n",
      "Best Parameters : {'learning_rate': 0.1, 'max_depth': 8, 'min_samples_leaf': 2, 'min_samples_split': 10, 'n_estimators': 100, 'subsample': 0.5}\n"
     ]
    }
   ],
   "source": [
    "# 근데 loss= \"exponential\" 하면 AdaBoost랑 같은거 아닌가 해서 loss default 값으로 두고 다른 파라미터끼리만 튜닝해봄\n",
    "# 역시나 과적합하는 것은 그렇게 좋아보이지 않음,, \n",
    "param_grid ={\n",
    "    \"max_depth\" : [8, 10, 12],\n",
    "    \"min_samples_split\": [6, 8, 10], \n",
    "    \"min_samples_leaf\": [2, 5, 10],\n",
    "    \"n_estimators\": [75, 100, 125], \n",
    "    \"learning_rate\": [0.1, 0.5, 1], \n",
    "    \"subsample\": [0.5, 0.8, 1]\n",
    "}\n",
    "\n",
    "gbm = GradientBoostingClassifier(random_state=0)\n",
    "gridSearch = GridSearchCV(gbm, param_grid, cv=5, n_jobs=-1)\n",
    "\n",
    "gridSearch.fit(train_X_smote, train_y_smote)\n",
    "print(\"Best Score :\", gridSearch.best_score_)\n",
    "print(\"Best Parameters :\", gridSearch.best_params_)"
   ]
  },
  {
   "cell_type": "markdown",
   "id": "796d0245",
   "metadata": {},
   "source": [
    "**Gradient Boosting Classifier 최종 파라미터:  \n",
    "learning rate=0.1, max_depth=10, min_samples_leaf=2, min_samples_split=8, n_estimators=100, subsample=0.5**"
   ]
  },
  {
   "cell_type": "code",
   "execution_count": 212,
   "id": "e7beb32e",
   "metadata": {},
   "outputs": [
    {
     "data": {
      "text/html": [
       "<style>#sk-container-id-24 {color: black;background-color: white;}#sk-container-id-24 pre{padding: 0;}#sk-container-id-24 div.sk-toggleable {background-color: white;}#sk-container-id-24 label.sk-toggleable__label {cursor: pointer;display: block;width: 100%;margin-bottom: 0;padding: 0.3em;box-sizing: border-box;text-align: center;}#sk-container-id-24 label.sk-toggleable__label-arrow:before {content: \"▸\";float: left;margin-right: 0.25em;color: #696969;}#sk-container-id-24 label.sk-toggleable__label-arrow:hover:before {color: black;}#sk-container-id-24 div.sk-estimator:hover label.sk-toggleable__label-arrow:before {color: black;}#sk-container-id-24 div.sk-toggleable__content {max-height: 0;max-width: 0;overflow: hidden;text-align: left;background-color: #f0f8ff;}#sk-container-id-24 div.sk-toggleable__content pre {margin: 0.2em;color: black;border-radius: 0.25em;background-color: #f0f8ff;}#sk-container-id-24 input.sk-toggleable__control:checked~div.sk-toggleable__content {max-height: 200px;max-width: 100%;overflow: auto;}#sk-container-id-24 input.sk-toggleable__control:checked~label.sk-toggleable__label-arrow:before {content: \"▾\";}#sk-container-id-24 div.sk-estimator input.sk-toggleable__control:checked~label.sk-toggleable__label {background-color: #d4ebff;}#sk-container-id-24 div.sk-label input.sk-toggleable__control:checked~label.sk-toggleable__label {background-color: #d4ebff;}#sk-container-id-24 input.sk-hidden--visually {border: 0;clip: rect(1px 1px 1px 1px);clip: rect(1px, 1px, 1px, 1px);height: 1px;margin: -1px;overflow: hidden;padding: 0;position: absolute;width: 1px;}#sk-container-id-24 div.sk-estimator {font-family: monospace;background-color: #f0f8ff;border: 1px dotted black;border-radius: 0.25em;box-sizing: border-box;margin-bottom: 0.5em;}#sk-container-id-24 div.sk-estimator:hover {background-color: #d4ebff;}#sk-container-id-24 div.sk-parallel-item::after {content: \"\";width: 100%;border-bottom: 1px solid gray;flex-grow: 1;}#sk-container-id-24 div.sk-label:hover label.sk-toggleable__label {background-color: #d4ebff;}#sk-container-id-24 div.sk-serial::before {content: \"\";position: absolute;border-left: 1px solid gray;box-sizing: border-box;top: 0;bottom: 0;left: 50%;z-index: 0;}#sk-container-id-24 div.sk-serial {display: flex;flex-direction: column;align-items: center;background-color: white;padding-right: 0.2em;padding-left: 0.2em;position: relative;}#sk-container-id-24 div.sk-item {position: relative;z-index: 1;}#sk-container-id-24 div.sk-parallel {display: flex;align-items: stretch;justify-content: center;background-color: white;position: relative;}#sk-container-id-24 div.sk-item::before, #sk-container-id-24 div.sk-parallel-item::before {content: \"\";position: absolute;border-left: 1px solid gray;box-sizing: border-box;top: 0;bottom: 0;left: 50%;z-index: -1;}#sk-container-id-24 div.sk-parallel-item {display: flex;flex-direction: column;z-index: 1;position: relative;background-color: white;}#sk-container-id-24 div.sk-parallel-item:first-child::after {align-self: flex-end;width: 50%;}#sk-container-id-24 div.sk-parallel-item:last-child::after {align-self: flex-start;width: 50%;}#sk-container-id-24 div.sk-parallel-item:only-child::after {width: 0;}#sk-container-id-24 div.sk-dashed-wrapped {border: 1px dashed gray;margin: 0 0.4em 0.5em 0.4em;box-sizing: border-box;padding-bottom: 0.4em;background-color: white;}#sk-container-id-24 div.sk-label label {font-family: monospace;font-weight: bold;display: inline-block;line-height: 1.2em;}#sk-container-id-24 div.sk-label-container {text-align: center;}#sk-container-id-24 div.sk-container {/* jupyter's `normalize.less` sets `[hidden] { display: none; }` but bootstrap.min.css set `[hidden] { display: none !important; }` so we also need the `!important` here to be able to override the default hidden behavior on the sphinx rendered scikit-learn.org. See: https://github.com/scikit-learn/scikit-learn/issues/21755 */display: inline-block !important;position: relative;}#sk-container-id-24 div.sk-text-repr-fallback {display: none;}</style><div id=\"sk-container-id-24\" class=\"sk-top-container\"><div class=\"sk-text-repr-fallback\"><pre>GradientBoostingClassifier(max_depth=10, min_samples_leaf=2,\n",
       "                           min_samples_split=8, subsample=0.5)</pre><b>In a Jupyter environment, please rerun this cell to show the HTML representation or trust the notebook. <br />On GitHub, the HTML representation is unable to render, please try loading this page with nbviewer.org.</b></div><div class=\"sk-container\" hidden><div class=\"sk-item\"><div class=\"sk-estimator sk-toggleable\"><input class=\"sk-toggleable__control sk-hidden--visually\" id=\"sk-estimator-id-24\" type=\"checkbox\" checked><label for=\"sk-estimator-id-24\" class=\"sk-toggleable__label sk-toggleable__label-arrow\">GradientBoostingClassifier</label><div class=\"sk-toggleable__content\"><pre>GradientBoostingClassifier(max_depth=10, min_samples_leaf=2,\n",
       "                           min_samples_split=8, subsample=0.5)</pre></div></div></div></div></div>"
      ],
      "text/plain": [
       "GradientBoostingClassifier(max_depth=10, min_samples_leaf=2,\n",
       "                           min_samples_split=8, subsample=0.5)"
      ]
     },
     "execution_count": 212,
     "metadata": {},
     "output_type": "execute_result"
    }
   ],
   "source": [
    "best_gbm = GradientBoostingClassifier(learning_rate=0.1, max_depth=10, min_samples_leaf=2, min_samples_split=8, n_estimators=100, subsample=0.5)\n",
    "best_gbm.fit(train_X_smote, train_y_smote)"
   ]
  },
  {
   "cell_type": "code",
   "execution_count": 213,
   "id": "5681691f",
   "metadata": {},
   "outputs": [
    {
     "name": "stdout",
     "output_type": "stream",
     "text": [
      "Confusion Matrix (Accuracy 1.0000)\n",
      "\n",
      "       Prediction\n",
      "Actual   0   1\n",
      "     0 199   0\n",
      "     1   0 199\n"
     ]
    }
   ],
   "source": [
    "classificationSummary(train_y_smote, best_gbm.predict(train_X_smote))"
   ]
  },
  {
   "cell_type": "code",
   "execution_count": 214,
   "id": "ca981dee",
   "metadata": {},
   "outputs": [
    {
     "name": "stdout",
     "output_type": "stream",
     "text": [
      "Confusion Matrix (Accuracy 0.9333)\n",
      "\n",
      "       Prediction\n",
      "Actual  0  1\n",
      "     0  2  1\n",
      "     1  2 40\n"
     ]
    }
   ],
   "source": [
    "classificationSummary(valid_y, best_gbm.predict(valid_X))"
   ]
  },
  {
   "cell_type": "code",
   "execution_count": 215,
   "id": "a2153ae6",
   "metadata": {},
   "outputs": [
    {
     "name": "stdout",
     "output_type": "stream",
     "text": [
      "Confusion Matrix (Accuracy 0.9565)\n",
      "\n",
      "       Prediction\n",
      "Actual  0  1\n",
      "     0  1  0\n",
      "     1  2 43\n"
     ]
    }
   ],
   "source": [
    "classificationSummary(test_y, best_gbm.predict(test_X))"
   ]
  }
 ],
 "metadata": {
  "kernelspec": {
   "display_name": "Python 3 (ipykernel)",
   "language": "python",
   "name": "python3"
  },
  "language_info": {
   "codemirror_mode": {
    "name": "ipython",
    "version": 3
   },
   "file_extension": ".py",
   "mimetype": "text/x-python",
   "name": "python",
   "nbconvert_exporter": "python",
   "pygments_lexer": "ipython3",
   "version": "3.9.7"
  }
 },
 "nbformat": 4,
 "nbformat_minor": 5
}
