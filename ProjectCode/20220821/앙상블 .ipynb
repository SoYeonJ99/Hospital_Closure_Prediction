{
 "cells": [
  {
   "cell_type": "code",
   "execution_count": 23,
   "id": "efac259f",
   "metadata": {},
   "outputs": [],
   "source": [
    "%matplotlib inline\n",
    "\n",
    "from pathlib import Path\n",
    "\n",
    "import pandas as pd\n",
    "from sklearn.model_selection import train_test_split\n",
    "from sklearn.tree import DecisionTreeClassifier\n",
    "from sklearn.ensemble import AdaBoostClassifier\n",
    "from sklearn.ensemble import BaggingClassifier\n",
    "from sklearn.ensemble import RandomForestClassifier\n",
    "from dmba import classificationSummary\n",
    "from sklearn.metrics import accuracy_score\n",
    "import matplotlib.pylab as plt\n",
    "from dmba import gainsChart,liftChart"
   ]
  },
  {
   "cell_type": "markdown",
   "id": "812e3767",
   "metadata": {},
   "source": [
    "# 앙상블"
   ]
  },
  {
   "cell_type": "markdown",
   "id": "c5c232c0",
   "metadata": {},
   "source": [
    "여러 지도학습 기반의 모델들을 하나의 '슈퍼모델'로 결합해 위험 부담을 줄이기 위해 사용하는 방법\n",
    "\n",
    "그러므로 단일 예측 모델을 선택하는 것보다, 여러 모델을 결합하는 것이 정확도가 상승함\n",
    "\n",
    "= 서로 다른 조합의 예측변수를 사용하는 세 가지 선형회귀모형\n",
    "\n",
    "단점은, 약간이라도 오용하면 과적합 발생할 수 있음.\n",
    " \n",
    "+일반적으로, 부스팅은 배깅보다 더 높은 성능을 낸다고 알려져있다. "
   ]
  },
  {
   "cell_type": "code",
   "execution_count": null,
   "id": "cd46bbbe",
   "metadata": {},
   "outputs": [],
   "source": []
  },
  {
   "cell_type": "code",
   "execution_count": null,
   "id": "66e70c09",
   "metadata": {},
   "outputs": [],
   "source": []
  },
  {
   "cell_type": "code",
   "execution_count": null,
   "id": "c0bde588",
   "metadata": {},
   "outputs": [],
   "source": []
  },
  {
   "cell_type": "code",
   "execution_count": null,
   "id": "8a0c17da",
   "metadata": {},
   "outputs": [],
   "source": []
  },
  {
   "cell_type": "code",
   "execution_count": null,
   "id": "44d76374",
   "metadata": {},
   "outputs": [],
   "source": []
  },
  {
   "cell_type": "code",
   "execution_count": 2,
   "id": "9128a878",
   "metadata": {},
   "outputs": [],
   "source": [
    "train_df=pd.read_csv(\"Train.csv\")\n",
    "test_df=pd.read_csv(\"Test.csv\")\n",
    "train_lr=pd.read_csv(\"Train_lr.csv\")\n",
    "train_dt=pd.read_csv(\"Train_dt.csv\")"
   ]
  },
  {
   "cell_type": "code",
   "execution_count": 21,
   "id": "cc0ed28b",
   "metadata": {},
   "outputs": [
    {
     "data": {
      "text/html": [
       "<div>\n",
       "<style scoped>\n",
       "    .dataframe tbody tr th:only-of-type {\n",
       "        vertical-align: middle;\n",
       "    }\n",
       "\n",
       "    .dataframe tbody tr th {\n",
       "        vertical-align: top;\n",
       "    }\n",
       "\n",
       "    .dataframe thead th {\n",
       "        text-align: right;\n",
       "    }\n",
       "</style>\n",
       "<table border=\"1\" class=\"dataframe\">\n",
       "  <thead>\n",
       "    <tr style=\"text-align: right;\">\n",
       "      <th></th>\n",
       "      <th>inst_id</th>\n",
       "      <th>OC</th>\n",
       "      <th>sido_choongchung</th>\n",
       "      <th>sido_gangwon</th>\n",
       "      <th>sido_gyeongin</th>\n",
       "      <th>sido_gyeongsang</th>\n",
       "      <th>sido_jeonra</th>\n",
       "      <th>sido_seoul</th>\n",
       "      <th>instkind_clinic</th>\n",
       "      <th>instkind_general_hospital</th>\n",
       "      <th>...</th>\n",
       "      <th>liquidLiabilities2</th>\n",
       "      <th>shortLoan2</th>\n",
       "      <th>NCLiabilities2</th>\n",
       "      <th>longLoan2</th>\n",
       "      <th>netAsset2</th>\n",
       "      <th>surplus2</th>\n",
       "      <th>employee1</th>\n",
       "      <th>employee2</th>\n",
       "      <th>ownerChange</th>\n",
       "      <th>bedCount_class</th>\n",
       "    </tr>\n",
       "  </thead>\n",
       "  <tbody>\n",
       "    <tr>\n",
       "      <th>0</th>\n",
       "      <td>1</td>\n",
       "      <td>1</td>\n",
       "      <td>1.0</td>\n",
       "      <td>0.0</td>\n",
       "      <td>0.0</td>\n",
       "      <td>0.0</td>\n",
       "      <td>0.0</td>\n",
       "      <td>0.0</td>\n",
       "      <td>0.0</td>\n",
       "      <td>0.0</td>\n",
       "      <td>...</td>\n",
       "      <td>19.222130</td>\n",
       "      <td>0.000000</td>\n",
       "      <td>20.099863</td>\n",
       "      <td>19.781657</td>\n",
       "      <td>21.686169</td>\n",
       "      <td>20.963246</td>\n",
       "      <td>4.143135</td>\n",
       "      <td>4.174387</td>\n",
       "      <td>0.0</td>\n",
       "      <td>3.0</td>\n",
       "    </tr>\n",
       "    <tr>\n",
       "      <th>1</th>\n",
       "      <td>3</td>\n",
       "      <td>1</td>\n",
       "      <td>0.0</td>\n",
       "      <td>0.0</td>\n",
       "      <td>0.0</td>\n",
       "      <td>1.0</td>\n",
       "      <td>0.0</td>\n",
       "      <td>0.0</td>\n",
       "      <td>0.0</td>\n",
       "      <td>1.0</td>\n",
       "      <td>...</td>\n",
       "      <td>18.841626</td>\n",
       "      <td>9.180719</td>\n",
       "      <td>18.812726</td>\n",
       "      <td>17.568559</td>\n",
       "      <td>18.838180</td>\n",
       "      <td>12.258481</td>\n",
       "      <td>6.687109</td>\n",
       "      <td>6.701960</td>\n",
       "      <td>0.0</td>\n",
       "      <td>4.0</td>\n",
       "    </tr>\n",
       "    <tr>\n",
       "      <th>2</th>\n",
       "      <td>4</td>\n",
       "      <td>1</td>\n",
       "      <td>0.0</td>\n",
       "      <td>0.0</td>\n",
       "      <td>1.0</td>\n",
       "      <td>0.0</td>\n",
       "      <td>0.0</td>\n",
       "      <td>0.0</td>\n",
       "      <td>0.0</td>\n",
       "      <td>0.0</td>\n",
       "      <td>...</td>\n",
       "      <td>0.000000</td>\n",
       "      <td>0.000000</td>\n",
       "      <td>0.000000</td>\n",
       "      <td>0.000000</td>\n",
       "      <td>0.000000</td>\n",
       "      <td>0.000000</td>\n",
       "      <td>5.459586</td>\n",
       "      <td>0.693147</td>\n",
       "      <td>0.0</td>\n",
       "      <td>4.0</td>\n",
       "    </tr>\n",
       "    <tr>\n",
       "      <th>3</th>\n",
       "      <td>7</td>\n",
       "      <td>1</td>\n",
       "      <td>0.0</td>\n",
       "      <td>0.0</td>\n",
       "      <td>1.0</td>\n",
       "      <td>0.0</td>\n",
       "      <td>0.0</td>\n",
       "      <td>0.0</td>\n",
       "      <td>0.0</td>\n",
       "      <td>1.0</td>\n",
       "      <td>...</td>\n",
       "      <td>23.557572</td>\n",
       "      <td>22.944579</td>\n",
       "      <td>23.755157</td>\n",
       "      <td>23.437961</td>\n",
       "      <td>23.284691</td>\n",
       "      <td>22.769775</td>\n",
       "      <td>6.498282</td>\n",
       "      <td>6.498282</td>\n",
       "      <td>0.0</td>\n",
       "      <td>4.0</td>\n",
       "    </tr>\n",
       "    <tr>\n",
       "      <th>4</th>\n",
       "      <td>9</td>\n",
       "      <td>1</td>\n",
       "      <td>0.0</td>\n",
       "      <td>0.0</td>\n",
       "      <td>0.0</td>\n",
       "      <td>1.0</td>\n",
       "      <td>0.0</td>\n",
       "      <td>0.0</td>\n",
       "      <td>0.0</td>\n",
       "      <td>1.0</td>\n",
       "      <td>...</td>\n",
       "      <td>24.126880</td>\n",
       "      <td>23.590810</td>\n",
       "      <td>23.784786</td>\n",
       "      <td>23.370010</td>\n",
       "      <td>15.531458</td>\n",
       "      <td>22.923325</td>\n",
       "      <td>5.332719</td>\n",
       "      <td>5.288267</td>\n",
       "      <td>0.0</td>\n",
       "      <td>3.0</td>\n",
       "    </tr>\n",
       "    <tr>\n",
       "      <th>...</th>\n",
       "      <td>...</td>\n",
       "      <td>...</td>\n",
       "      <td>...</td>\n",
       "      <td>...</td>\n",
       "      <td>...</td>\n",
       "      <td>...</td>\n",
       "      <td>...</td>\n",
       "      <td>...</td>\n",
       "      <td>...</td>\n",
       "      <td>...</td>\n",
       "      <td>...</td>\n",
       "      <td>...</td>\n",
       "      <td>...</td>\n",
       "      <td>...</td>\n",
       "      <td>...</td>\n",
       "      <td>...</td>\n",
       "      <td>...</td>\n",
       "      <td>...</td>\n",
       "      <td>...</td>\n",
       "      <td>...</td>\n",
       "      <td>...</td>\n",
       "    </tr>\n",
       "    <tr>\n",
       "      <th>296</th>\n",
       "      <td>422</td>\n",
       "      <td>1</td>\n",
       "      <td>0.0</td>\n",
       "      <td>0.0</td>\n",
       "      <td>0.0</td>\n",
       "      <td>0.0</td>\n",
       "      <td>1.0</td>\n",
       "      <td>0.0</td>\n",
       "      <td>0.0</td>\n",
       "      <td>0.0</td>\n",
       "      <td>...</td>\n",
       "      <td>21.685753</td>\n",
       "      <td>0.000000</td>\n",
       "      <td>22.641007</td>\n",
       "      <td>22.503290</td>\n",
       "      <td>22.405862</td>\n",
       "      <td>20.514569</td>\n",
       "      <td>5.267858</td>\n",
       "      <td>4.955827</td>\n",
       "      <td>0.0</td>\n",
       "      <td>3.0</td>\n",
       "    </tr>\n",
       "    <tr>\n",
       "      <th>297</th>\n",
       "      <td>423</td>\n",
       "      <td>0</td>\n",
       "      <td>1.0</td>\n",
       "      <td>0.0</td>\n",
       "      <td>0.0</td>\n",
       "      <td>0.0</td>\n",
       "      <td>0.0</td>\n",
       "      <td>0.0</td>\n",
       "      <td>0.0</td>\n",
       "      <td>0.0</td>\n",
       "      <td>...</td>\n",
       "      <td>0.000000</td>\n",
       "      <td>0.000000</td>\n",
       "      <td>0.000000</td>\n",
       "      <td>0.000000</td>\n",
       "      <td>0.000000</td>\n",
       "      <td>0.000000</td>\n",
       "      <td>4.382027</td>\n",
       "      <td>4.382027</td>\n",
       "      <td>0.0</td>\n",
       "      <td>3.2</td>\n",
       "    </tr>\n",
       "    <tr>\n",
       "      <th>298</th>\n",
       "      <td>426</td>\n",
       "      <td>0</td>\n",
       "      <td>0.0</td>\n",
       "      <td>0.0</td>\n",
       "      <td>0.0</td>\n",
       "      <td>1.0</td>\n",
       "      <td>0.0</td>\n",
       "      <td>0.0</td>\n",
       "      <td>0.0</td>\n",
       "      <td>0.0</td>\n",
       "      <td>...</td>\n",
       "      <td>21.498441</td>\n",
       "      <td>0.000000</td>\n",
       "      <td>22.158142</td>\n",
       "      <td>21.639056</td>\n",
       "      <td>21.904736</td>\n",
       "      <td>0.000000</td>\n",
       "      <td>3.860891</td>\n",
       "      <td>3.905642</td>\n",
       "      <td>0.0</td>\n",
       "      <td>2.6</td>\n",
       "    </tr>\n",
       "    <tr>\n",
       "      <th>299</th>\n",
       "      <td>427</td>\n",
       "      <td>0</td>\n",
       "      <td>0.0</td>\n",
       "      <td>0.0</td>\n",
       "      <td>1.0</td>\n",
       "      <td>0.0</td>\n",
       "      <td>0.0</td>\n",
       "      <td>0.0</td>\n",
       "      <td>0.0</td>\n",
       "      <td>0.0</td>\n",
       "      <td>...</td>\n",
       "      <td>22.579564</td>\n",
       "      <td>0.000000</td>\n",
       "      <td>0.000000</td>\n",
       "      <td>0.000000</td>\n",
       "      <td>0.000000</td>\n",
       "      <td>0.000000</td>\n",
       "      <td>4.615121</td>\n",
       "      <td>5.580909</td>\n",
       "      <td>0.0</td>\n",
       "      <td>3.0</td>\n",
       "    </tr>\n",
       "    <tr>\n",
       "      <th>300</th>\n",
       "      <td>428</td>\n",
       "      <td>1</td>\n",
       "      <td>0.0</td>\n",
       "      <td>0.0</td>\n",
       "      <td>0.0</td>\n",
       "      <td>0.0</td>\n",
       "      <td>0.0</td>\n",
       "      <td>1.0</td>\n",
       "      <td>0.0</td>\n",
       "      <td>0.0</td>\n",
       "      <td>...</td>\n",
       "      <td>21.862083</td>\n",
       "      <td>0.000000</td>\n",
       "      <td>21.523440</td>\n",
       "      <td>21.507167</td>\n",
       "      <td>22.434570</td>\n",
       "      <td>22.558953</td>\n",
       "      <td>2.772589</td>\n",
       "      <td>2.772589</td>\n",
       "      <td>0.0</td>\n",
       "      <td>2.8</td>\n",
       "    </tr>\n",
       "  </tbody>\n",
       "</table>\n",
       "<p>301 rows × 67 columns</p>\n",
       "</div>"
      ],
      "text/plain": [
       "     inst_id  OC  sido_choongchung  sido_gangwon  sido_gyeongin  \\\n",
       "0          1   1               1.0           0.0            0.0   \n",
       "1          3   1               0.0           0.0            0.0   \n",
       "2          4   1               0.0           0.0            1.0   \n",
       "3          7   1               0.0           0.0            1.0   \n",
       "4          9   1               0.0           0.0            0.0   \n",
       "..       ...  ..               ...           ...            ...   \n",
       "296      422   1               0.0           0.0            0.0   \n",
       "297      423   0               1.0           0.0            0.0   \n",
       "298      426   0               0.0           0.0            0.0   \n",
       "299      427   0               0.0           0.0            1.0   \n",
       "300      428   1               0.0           0.0            0.0   \n",
       "\n",
       "     sido_gyeongsang  sido_jeonra  sido_seoul  instkind_clinic  \\\n",
       "0                0.0          0.0         0.0              0.0   \n",
       "1                1.0          0.0         0.0              0.0   \n",
       "2                0.0          0.0         0.0              0.0   \n",
       "3                0.0          0.0         0.0              0.0   \n",
       "4                1.0          0.0         0.0              0.0   \n",
       "..               ...          ...         ...              ...   \n",
       "296              0.0          1.0         0.0              0.0   \n",
       "297              0.0          0.0         0.0              0.0   \n",
       "298              1.0          0.0         0.0              0.0   \n",
       "299              0.0          0.0         0.0              0.0   \n",
       "300              0.0          0.0         1.0              0.0   \n",
       "\n",
       "     instkind_general_hospital  ...  liquidLiabilities2  shortLoan2  \\\n",
       "0                          0.0  ...           19.222130    0.000000   \n",
       "1                          1.0  ...           18.841626    9.180719   \n",
       "2                          0.0  ...            0.000000    0.000000   \n",
       "3                          1.0  ...           23.557572   22.944579   \n",
       "4                          1.0  ...           24.126880   23.590810   \n",
       "..                         ...  ...                 ...         ...   \n",
       "296                        0.0  ...           21.685753    0.000000   \n",
       "297                        0.0  ...            0.000000    0.000000   \n",
       "298                        0.0  ...           21.498441    0.000000   \n",
       "299                        0.0  ...           22.579564    0.000000   \n",
       "300                        0.0  ...           21.862083    0.000000   \n",
       "\n",
       "     NCLiabilities2  longLoan2  netAsset2   surplus2  employee1  employee2  \\\n",
       "0         20.099863  19.781657  21.686169  20.963246   4.143135   4.174387   \n",
       "1         18.812726  17.568559  18.838180  12.258481   6.687109   6.701960   \n",
       "2          0.000000   0.000000   0.000000   0.000000   5.459586   0.693147   \n",
       "3         23.755157  23.437961  23.284691  22.769775   6.498282   6.498282   \n",
       "4         23.784786  23.370010  15.531458  22.923325   5.332719   5.288267   \n",
       "..              ...        ...        ...        ...        ...        ...   \n",
       "296       22.641007  22.503290  22.405862  20.514569   5.267858   4.955827   \n",
       "297        0.000000   0.000000   0.000000   0.000000   4.382027   4.382027   \n",
       "298       22.158142  21.639056  21.904736   0.000000   3.860891   3.905642   \n",
       "299        0.000000   0.000000   0.000000   0.000000   4.615121   5.580909   \n",
       "300       21.523440  21.507167  22.434570  22.558953   2.772589   2.772589   \n",
       "\n",
       "     ownerChange  bedCount_class  \n",
       "0            0.0             3.0  \n",
       "1            0.0             4.0  \n",
       "2            0.0             4.0  \n",
       "3            0.0             4.0  \n",
       "4            0.0             3.0  \n",
       "..           ...             ...  \n",
       "296          0.0             3.0  \n",
       "297          0.0             3.2  \n",
       "298          0.0             2.6  \n",
       "299          0.0             3.0  \n",
       "300          0.0             2.8  \n",
       "\n",
       "[301 rows x 67 columns]"
      ]
     },
     "execution_count": 21,
     "metadata": {},
     "output_type": "execute_result"
    }
   ],
   "source": [
    "train_df"
   ]
  },
  {
   "cell_type": "code",
   "execution_count": 3,
   "id": "5e9cc9e4",
   "metadata": {},
   "outputs": [],
   "source": [
    "# enables=train_df[두개]"
   ]
  },
  {
   "cell_type": "code",
   "execution_count": 4,
   "id": "4dba6d3f",
   "metadata": {},
   "outputs": [],
   "source": [
    "#학습, 검증 세트 분할\n",
    "X = train_df.drop('OC',axis=1)\n",
    "y = train_df['OC']\n",
    "X_train, X_valid, y_train, y_valid = train_test_split(X, y, test_size=0.40, random_state=3)"
   ]
  },
  {
   "cell_type": "markdown",
   "id": "13e9824d",
   "metadata": {},
   "source": [
    "single tree"
   ]
  },
  {
   "cell_type": "code",
   "execution_count": 5,
   "id": "d29975bd",
   "metadata": {},
   "outputs": [
    {
     "name": "stdout",
     "output_type": "stream",
     "text": [
      "Confusion Matrix (Accuracy 0.9256)\n",
      "\n",
      "       Prediction\n",
      "Actual   0   1\n",
      "     0   1   2\n",
      "     1   7 111\n"
     ]
    }
   ],
   "source": [
    "defaultTree = DecisionTreeClassifier(random_state=1)\n",
    "defaultTree.fit(X_train, y_train)\n",
    "\n",
    "classes = defaultTree.classes_\n",
    "classificationSummary(y_valid, defaultTree.predict(X_valid), class_names=defaultTree.classes_)"
   ]
  },
  {
   "cell_type": "code",
   "execution_count": 6,
   "id": "c87fb761",
   "metadata": {},
   "outputs": [
    {
     "data": {
      "image/png": "[encoded data removed]",
      "text/plain": [
       "<Figure size 432x288 with 2 Axes>"
      ]
     },
     "metadata": {
      "needs_background": "light"
     },
     "output_type": "display_data"
    }
   ],
   "source": [
    "pred_v1=pd.Series(defaultTree.predict(X_valid))\n",
    "pred_v1=pred_v1.sort_values(ascending=False)\n",
    "\n",
    "fig,axes=plt.subplots(nrows=1,ncols=2)\n",
    "ax=gainsChart(pred_v1,ax=axes[0])\n",
    "\n",
    "ax=liftChart(pred_v1,ax=axes[1],labelBars=False)\n",
    "ax.set_ylabel('Lift')\n",
    "\n",
    "plt.tight_layout()\n",
    "plt.show()"
   ]
  },
  {
   "cell_type": "code",
   "execution_count": null,
   "id": "7d0e6c73",
   "metadata": {},
   "outputs": [],
   "source": []
  },
  {
   "cell_type": "markdown",
   "id": "42dd012f",
   "metadata": {},
   "source": [
    "bagging"
   ]
  },
  {
   "cell_type": "code",
   "execution_count": 8,
   "id": "6fdf8235",
   "metadata": {},
   "outputs": [
    {
     "name": "stdout",
     "output_type": "stream",
     "text": [
      "Confusion Matrix (Accuracy 0.9752)\n",
      "\n",
      "       Prediction\n",
      "Actual   0   1\n",
      "     0   0   3\n",
      "     1   0 118\n"
     ]
    }
   ],
   "source": [
    "#분류나무로 배깅 실행\n",
    "bagging = BaggingClassifier(DecisionTreeClassifier(random_state=1), \n",
    "                            n_estimators=100, random_state=1)\n",
    "bagging.fit(X_train, y_train)\n",
    "\n",
    "classificationSummary(y_valid, bagging.predict(X_valid), class_names=classes)"
   ]
  },
  {
   "cell_type": "code",
   "execution_count": 9,
   "id": "caa49398",
   "metadata": {},
   "outputs": [
    {
     "data": {
      "image/png": "[encoded data removed]",
      "text/plain": [
       "<Figure size 432x288 with 2 Axes>"
      ]
     },
     "metadata": {
      "needs_background": "light"
     },
     "output_type": "display_data"
    }
   ],
   "source": [
    "pred_v2=pd.Series(bagging.predict(X_valid))\n",
    "pred_v2=pred_v2.sort_values(ascending=False)\n",
    "\n",
    "fig,axes=plt.subplots(nrows=1,ncols=2)\n",
    "ax=gainsChart(pred_v2,ax=axes[0])\n",
    "\n",
    "ax=liftChart(pred_v2,ax=axes[1],labelBars=False)\n",
    "ax.set_ylabel('Lift')\n",
    "\n",
    "plt.tight_layout()\n",
    "plt.show()"
   ]
  },
  {
   "cell_type": "code",
   "execution_count": null,
   "id": "061ee649",
   "metadata": {},
   "outputs": [],
   "source": []
  },
  {
   "cell_type": "markdown",
   "id": "886ff504",
   "metadata": {},
   "source": [
    "boosting"
   ]
  },
  {
   "cell_type": "code",
   "execution_count": 11,
   "id": "1b61bb70",
   "metadata": {},
   "outputs": [
    {
     "data": {
      "text/plain": [
       "AdaBoostClassifier(base_estimator=DecisionTreeClassifier(random_state=1),\n",
       "                   n_estimators=100, random_state=1)"
      ]
     },
     "execution_count": 11,
     "metadata": {},
     "output_type": "execute_result"
    }
   ],
   "source": [
    "#분류나무로 부스팅 실행\n",
    "boost = AdaBoostClassifier(DecisionTreeClassifier(random_state=1), n_estimators=100, random_state=1)\n",
    "boost.fit(X_train, y_train)"
   ]
  },
  {
   "cell_type": "code",
   "execution_count": 12,
   "id": "e4a04a1e",
   "metadata": {},
   "outputs": [
    {
     "name": "stdout",
     "output_type": "stream",
     "text": [
      "Confusion Matrix (Accuracy 0.9008)\n",
      "\n",
      "       Prediction\n",
      "Actual   0   1\n",
      "     0   1   2\n",
      "     1  10 108\n"
     ]
    }
   ],
   "source": [
    "classificationSummary(y_valid, boost.predict(X_valid), class_names=classes)"
   ]
  },
  {
   "cell_type": "code",
   "execution_count": 13,
   "id": "74d7ae8a",
   "metadata": {},
   "outputs": [
    {
     "data": {
      "text/plain": [
       "AdaBoostClassifier(base_estimator=DecisionTreeClassifier(max_depth=1,\n",
       "                                                         min_samples_split=6,\n",
       "                                                         random_state=1),\n",
       "                   n_estimators=100, random_state=1)"
      ]
     },
     "execution_count": 13,
     "metadata": {},
     "output_type": "execute_result"
    }
   ],
   "source": [
    "#디폴트 개수(n_estimators=100)의 약한 학습기만 남겨두고 다시 실행\n",
    "boost2=AdaBoostClassifier(DecisionTreeClassifier(random_state=1,max_depth=1,min_samples_split=6),n_estimators=100,random_state=1)\n",
    "boost2.fit(X_train,y_train)"
   ]
  },
  {
   "cell_type": "code",
   "execution_count": 14,
   "id": "ab287f8f",
   "metadata": {},
   "outputs": [
    {
     "name": "stdout",
     "output_type": "stream",
     "text": [
      "Confusion Matrix (Accuracy 0.9504)\n",
      "\n",
      "       Prediction\n",
      "Actual   0   1\n",
      "     0   1   2\n",
      "     1   4 114\n"
     ]
    }
   ],
   "source": [
    "classificationSummary(y_valid, boost2.predict(X_valid), class_names=classes)"
   ]
  },
  {
   "cell_type": "code",
   "execution_count": 15,
   "id": "99d33f87",
   "metadata": {},
   "outputs": [
    {
     "data": {
      "text/plain": [
       "0.9008264462809917"
      ]
     },
     "execution_count": 15,
     "metadata": {},
     "output_type": "execute_result"
    }
   ],
   "source": [
    "accuracy_score(y_valid,boost.predict(X_valid))"
   ]
  },
  {
   "cell_type": "code",
   "execution_count": 16,
   "id": "1efe1b37",
   "metadata": {},
   "outputs": [
    {
     "data": {
      "text/plain": [
       "0.9504132231404959"
      ]
     },
     "execution_count": 16,
     "metadata": {},
     "output_type": "execute_result"
    }
   ],
   "source": [
    "accuracy_score(y_valid,boost2.predict(X_valid))"
   ]
  },
  {
   "cell_type": "markdown",
   "id": "f6660e75",
   "metadata": {},
   "source": [
    "정확도가 상승함 !! \n",
    "\n",
    "(0.1의 오류율을 포함해서 식별하다가 0.05의 오류율을 포함해서 식별함)"
   ]
  },
  {
   "cell_type": "markdown",
   "id": "f2a94400",
   "metadata": {},
   "source": [
    "그러나 분류나무로 배깅한 것 보다는, 분류나무로 배스팅 한게 더 정확도는 높음"
   ]
  },
  {
   "cell_type": "code",
   "execution_count": null,
   "id": "3e044306",
   "metadata": {},
   "outputs": [],
   "source": []
  },
  {
   "cell_type": "code",
   "execution_count": 17,
   "id": "f0bf2689",
   "metadata": {},
   "outputs": [
    {
     "data": {
      "image/png": "[encoded data removed]",
      "text/plain": [
       "<Figure size 432x288 with 2 Axes>"
      ]
     },
     "metadata": {
      "needs_background": "light"
     },
     "output_type": "display_data"
    }
   ],
   "source": [
    "pred_v3=pd.Series(boost.predict(X_valid))\n",
    "pred_v3=pred_v3.sort_values(ascending=False)\n",
    "\n",
    "fig,axes=plt.subplots(nrows=1,ncols=2)\n",
    "ax=gainsChart(pred_v3,ax=axes[0])\n",
    "\n",
    "ax=liftChart(pred_v3,ax=axes[1],labelBars=False)\n",
    "ax.set_ylabel('Lift')\n",
    "\n",
    "plt.tight_layout()\n",
    "plt.show()"
   ]
  },
  {
   "cell_type": "code",
   "execution_count": 18,
   "id": "5f827d34",
   "metadata": {},
   "outputs": [
    {
     "data": {
      "image/png": "[encoded data removed]",
      "text/plain": [
       "<Figure size 432x288 with 2 Axes>"
      ]
     },
     "metadata": {
      "needs_background": "light"
     },
     "output_type": "display_data"
    }
   ],
   "source": [
    "pred_v4=pd.Series(boost2.predict(X_valid))\n",
    "pred_v4=pred_v4.sort_values(ascending=False)\n",
    "\n",
    "fig,axes=plt.subplots(nrows=1,ncols=2)\n",
    "ax=gainsChart(pred_v4,ax=axes[0])\n",
    "\n",
    "ax=liftChart(pred_v4,ax=axes[1],labelBars=False)\n",
    "ax.set_ylabel('Lift')\n",
    "\n",
    "plt.tight_layout()\n",
    "plt.show()"
   ]
  },
  {
   "cell_type": "code",
   "execution_count": null,
   "id": "1cd86bf3",
   "metadata": {},
   "outputs": [],
   "source": []
  },
  {
   "cell_type": "code",
   "execution_count": null,
   "id": "e30a4ac0",
   "metadata": {},
   "outputs": [],
   "source": [
    "rfModel = RandomForestClassifier(n_estimators=100, random_state=1)\n",
    "rfModel.fit(X_train, y_train)\n",
    "\n",
    "classificationSummary(y_valid, rfModel.predict(X_valid), class_names=classes)"
   ]
  },
  {
   "cell_type": "code",
   "execution_count": 20,
   "id": "d28ee408",
   "metadata": {},
   "outputs": [
    {
     "data": {
      "image/png": "[encoded data removed]",
      "text/plain": [
       "<Figure size 432x288 with 2 Axes>"
      ]
     },
     "metadata": {
      "needs_background": "light"
     },
     "output_type": "display_data"
    }
   ],
   "source": [
    "pred_v5=pd.Series(rfModel.predict(X_valid))\n",
    "pred_v5=pred_v5.sort_values(ascending=False)\n",
    "\n",
    "fig,axes=plt.subplots(nrows=1,ncols=2)\n",
    "ax=gainsChart(pred_v5,ax=axes[0])\n",
    "\n",
    "ax=liftChart(pred_v5,ax=axes[1],labelBars=False)\n",
    "ax.set_ylabel('Lift')\n",
    "\n",
    "plt.tight_layout()\n",
    "plt.show()"
   ]
  },
  {
   "cell_type": "markdown",
   "id": "45bf965a",
   "metadata": {},
   "source": [
    "정확도의 측면에서는, 랜덤포레스트가 짱(근데 이건 앙상블 안한거)\n",
    "\n",
    "십분위 수의 측면에서는 배깅과 랜덤포레스트, 부스팅 두개가 비슷한 양상을 보임"
   ]
  },
  {
   "cell_type": "markdown",
   "id": "f2f8f304",
   "metadata": {},
   "source": [
    "각 등급에 얼마나 분포하고 있는지를 나타내는 값들을 계산해 누적으로 연결한 도표\n"
   ]
  },
  {
   "cell_type": "code",
   "execution_count": null,
   "id": "7064f6d4",
   "metadata": {},
   "outputs": [],
   "source": []
  },
  {
   "cell_type": "code",
   "execution_count": null,
   "id": "3ee1058f",
   "metadata": {},
   "outputs": [],
   "source": []
  },
  {
   "cell_type": "code",
   "execution_count": 25,
   "id": "3a5b1aad",
   "metadata": {},
   "outputs": [
    {
     "data": {
      "text/html": [
       "<div>\n",
       "<style scoped>\n",
       "    .dataframe tbody tr th:only-of-type {\n",
       "        vertical-align: middle;\n",
       "    }\n",
       "\n",
       "    .dataframe tbody tr th {\n",
       "        vertical-align: top;\n",
       "    }\n",
       "\n",
       "    .dataframe thead th {\n",
       "        text-align: right;\n",
       "    }\n",
       "</style>\n",
       "<table border=\"1\" class=\"dataframe\">\n",
       "  <thead>\n",
       "    <tr style=\"text-align: right;\">\n",
       "      <th></th>\n",
       "      <th>inst_id</th>\n",
       "      <th>OC</th>\n",
       "      <th>sido_choongchung</th>\n",
       "      <th>sido_gyeongin</th>\n",
       "      <th>sido_gyeongsang</th>\n",
       "      <th>sido_jeju</th>\n",
       "      <th>sido_jeonra</th>\n",
       "      <th>sido_seoul</th>\n",
       "      <th>instkind_clinic</th>\n",
       "      <th>instkind_general_hospital</th>\n",
       "      <th>...</th>\n",
       "      <th>liquidLiabilities2</th>\n",
       "      <th>shortLoan2</th>\n",
       "      <th>NCLiabilities2</th>\n",
       "      <th>longLoan2</th>\n",
       "      <th>netAsset2</th>\n",
       "      <th>surplus2</th>\n",
       "      <th>employee1</th>\n",
       "      <th>employee2</th>\n",
       "      <th>ownerChange</th>\n",
       "      <th>bedCount_class</th>\n",
       "    </tr>\n",
       "  </thead>\n",
       "  <tbody>\n",
       "    <tr>\n",
       "      <th>0</th>\n",
       "      <td>2</td>\n",
       "      <td>NaN</td>\n",
       "      <td>0.0</td>\n",
       "      <td>1.0</td>\n",
       "      <td>0.0</td>\n",
       "      <td>0.0</td>\n",
       "      <td>0.0</td>\n",
       "      <td>0.0</td>\n",
       "      <td>0.0</td>\n",
       "      <td>1.0</td>\n",
       "      <td>...</td>\n",
       "      <td>24.648885</td>\n",
       "      <td>24.338050</td>\n",
       "      <td>22.275075</td>\n",
       "      <td>22.268698</td>\n",
       "      <td>23.501178</td>\n",
       "      <td>22.914314</td>\n",
       "      <td>6.542472</td>\n",
       "      <td>6.542472</td>\n",
       "      <td>0.0</td>\n",
       "      <td>3.0</td>\n",
       "    </tr>\n",
       "    <tr>\n",
       "      <th>1</th>\n",
       "      <td>5</td>\n",
       "      <td>NaN</td>\n",
       "      <td>0.0</td>\n",
       "      <td>0.0</td>\n",
       "      <td>0.0</td>\n",
       "      <td>1.0</td>\n",
       "      <td>0.0</td>\n",
       "      <td>0.0</td>\n",
       "      <td>0.0</td>\n",
       "      <td>0.0</td>\n",
       "      <td>...</td>\n",
       "      <td>24.463273</td>\n",
       "      <td>23.909618</td>\n",
       "      <td>23.950510</td>\n",
       "      <td>23.630167</td>\n",
       "      <td>22.055404</td>\n",
       "      <td>0.000000</td>\n",
       "      <td>5.940171</td>\n",
       "      <td>5.918894</td>\n",
       "      <td>0.0</td>\n",
       "      <td>2.0</td>\n",
       "    </tr>\n",
       "    <tr>\n",
       "      <th>2</th>\n",
       "      <td>6</td>\n",
       "      <td>NaN</td>\n",
       "      <td>0.0</td>\n",
       "      <td>0.0</td>\n",
       "      <td>0.0</td>\n",
       "      <td>0.0</td>\n",
       "      <td>1.0</td>\n",
       "      <td>0.0</td>\n",
       "      <td>0.0</td>\n",
       "      <td>1.0</td>\n",
       "      <td>...</td>\n",
       "      <td>24.047434</td>\n",
       "      <td>23.806220</td>\n",
       "      <td>0.000000</td>\n",
       "      <td>0.000000</td>\n",
       "      <td>0.000000</td>\n",
       "      <td>23.519657</td>\n",
       "      <td>5.285888</td>\n",
       "      <td>5.225619</td>\n",
       "      <td>0.2</td>\n",
       "      <td>3.0</td>\n",
       "    </tr>\n",
       "    <tr>\n",
       "      <th>3</th>\n",
       "      <td>8</td>\n",
       "      <td>NaN</td>\n",
       "      <td>0.0</td>\n",
       "      <td>0.0</td>\n",
       "      <td>1.0</td>\n",
       "      <td>0.0</td>\n",
       "      <td>0.0</td>\n",
       "      <td>0.0</td>\n",
       "      <td>0.0</td>\n",
       "      <td>1.0</td>\n",
       "      <td>...</td>\n",
       "      <td>22.980460</td>\n",
       "      <td>22.170624</td>\n",
       "      <td>21.662855</td>\n",
       "      <td>0.000000</td>\n",
       "      <td>24.390483</td>\n",
       "      <td>0.000000</td>\n",
       "      <td>6.634633</td>\n",
       "      <td>6.634633</td>\n",
       "      <td>0.0</td>\n",
       "      <td>4.0</td>\n",
       "    </tr>\n",
       "    <tr>\n",
       "      <th>4</th>\n",
       "      <td>10</td>\n",
       "      <td>NaN</td>\n",
       "      <td>0.0</td>\n",
       "      <td>0.0</td>\n",
       "      <td>0.0</td>\n",
       "      <td>0.0</td>\n",
       "      <td>1.0</td>\n",
       "      <td>0.0</td>\n",
       "      <td>0.0</td>\n",
       "      <td>1.0</td>\n",
       "      <td>...</td>\n",
       "      <td>22.742900</td>\n",
       "      <td>21.916712</td>\n",
       "      <td>24.318498</td>\n",
       "      <td>23.784183</td>\n",
       "      <td>23.971502</td>\n",
       "      <td>23.436150</td>\n",
       "      <td>6.082219</td>\n",
       "      <td>5.955837</td>\n",
       "      <td>0.0</td>\n",
       "      <td>3.0</td>\n",
       "    </tr>\n",
       "    <tr>\n",
       "      <th>...</th>\n",
       "      <td>...</td>\n",
       "      <td>...</td>\n",
       "      <td>...</td>\n",
       "      <td>...</td>\n",
       "      <td>...</td>\n",
       "      <td>...</td>\n",
       "      <td>...</td>\n",
       "      <td>...</td>\n",
       "      <td>...</td>\n",
       "      <td>...</td>\n",
       "      <td>...</td>\n",
       "      <td>...</td>\n",
       "      <td>...</td>\n",
       "      <td>...</td>\n",
       "      <td>...</td>\n",
       "      <td>...</td>\n",
       "      <td>...</td>\n",
       "      <td>...</td>\n",
       "      <td>...</td>\n",
       "      <td>...</td>\n",
       "      <td>...</td>\n",
       "    </tr>\n",
       "    <tr>\n",
       "      <th>122</th>\n",
       "      <td>424</td>\n",
       "      <td>NaN</td>\n",
       "      <td>0.0</td>\n",
       "      <td>0.0</td>\n",
       "      <td>0.0</td>\n",
       "      <td>0.0</td>\n",
       "      <td>1.0</td>\n",
       "      <td>0.0</td>\n",
       "      <td>0.0</td>\n",
       "      <td>0.0</td>\n",
       "      <td>...</td>\n",
       "      <td>23.279082</td>\n",
       "      <td>0.000000</td>\n",
       "      <td>21.735002</td>\n",
       "      <td>0.000000</td>\n",
       "      <td>23.351521</td>\n",
       "      <td>0.000000</td>\n",
       "      <td>6.329721</td>\n",
       "      <td>4.949613</td>\n",
       "      <td>0.0</td>\n",
       "      <td>3.0</td>\n",
       "    </tr>\n",
       "    <tr>\n",
       "      <th>123</th>\n",
       "      <td>425</td>\n",
       "      <td>NaN</td>\n",
       "      <td>0.0</td>\n",
       "      <td>1.0</td>\n",
       "      <td>0.0</td>\n",
       "      <td>0.0</td>\n",
       "      <td>0.0</td>\n",
       "      <td>0.0</td>\n",
       "      <td>0.0</td>\n",
       "      <td>0.0</td>\n",
       "      <td>...</td>\n",
       "      <td>21.042985</td>\n",
       "      <td>0.000000</td>\n",
       "      <td>21.310989</td>\n",
       "      <td>21.277151</td>\n",
       "      <td>22.872059</td>\n",
       "      <td>22.688514</td>\n",
       "      <td>4.890349</td>\n",
       "      <td>4.927254</td>\n",
       "      <td>0.0</td>\n",
       "      <td>3.2</td>\n",
       "    </tr>\n",
       "    <tr>\n",
       "      <th>124</th>\n",
       "      <td>429</td>\n",
       "      <td>NaN</td>\n",
       "      <td>0.0</td>\n",
       "      <td>1.0</td>\n",
       "      <td>0.0</td>\n",
       "      <td>0.0</td>\n",
       "      <td>0.0</td>\n",
       "      <td>0.0</td>\n",
       "      <td>0.0</td>\n",
       "      <td>0.0</td>\n",
       "      <td>...</td>\n",
       "      <td>0.000000</td>\n",
       "      <td>0.000000</td>\n",
       "      <td>0.000000</td>\n",
       "      <td>0.000000</td>\n",
       "      <td>0.000000</td>\n",
       "      <td>0.000000</td>\n",
       "      <td>4.588876</td>\n",
       "      <td>4.544446</td>\n",
       "      <td>0.0</td>\n",
       "      <td>3.0</td>\n",
       "    </tr>\n",
       "    <tr>\n",
       "      <th>125</th>\n",
       "      <td>430</td>\n",
       "      <td>NaN</td>\n",
       "      <td>0.0</td>\n",
       "      <td>0.0</td>\n",
       "      <td>0.0</td>\n",
       "      <td>1.0</td>\n",
       "      <td>0.0</td>\n",
       "      <td>0.0</td>\n",
       "      <td>0.0</td>\n",
       "      <td>0.0</td>\n",
       "      <td>...</td>\n",
       "      <td>22.861674</td>\n",
       "      <td>0.000000</td>\n",
       "      <td>24.080792</td>\n",
       "      <td>23.967076</td>\n",
       "      <td>22.205786</td>\n",
       "      <td>0.000000</td>\n",
       "      <td>5.897154</td>\n",
       "      <td>5.840642</td>\n",
       "      <td>0.0</td>\n",
       "      <td>3.2</td>\n",
       "    </tr>\n",
       "    <tr>\n",
       "      <th>126</th>\n",
       "      <td>431</td>\n",
       "      <td>NaN</td>\n",
       "      <td>1.0</td>\n",
       "      <td>0.0</td>\n",
       "      <td>0.0</td>\n",
       "      <td>0.0</td>\n",
       "      <td>0.0</td>\n",
       "      <td>0.0</td>\n",
       "      <td>0.0</td>\n",
       "      <td>0.0</td>\n",
       "      <td>...</td>\n",
       "      <td>0.000000</td>\n",
       "      <td>0.000000</td>\n",
       "      <td>0.000000</td>\n",
       "      <td>0.000000</td>\n",
       "      <td>0.000000</td>\n",
       "      <td>0.000000</td>\n",
       "      <td>4.588876</td>\n",
       "      <td>4.544446</td>\n",
       "      <td>0.0</td>\n",
       "      <td>2.0</td>\n",
       "    </tr>\n",
       "  </tbody>\n",
       "</table>\n",
       "<p>127 rows × 67 columns</p>\n",
       "</div>"
      ],
      "text/plain": [
       "     inst_id  OC  sido_choongchung  sido_gyeongin  sido_gyeongsang  sido_jeju  \\\n",
       "0          2 NaN               0.0            1.0              0.0        0.0   \n",
       "1          5 NaN               0.0            0.0              0.0        1.0   \n",
       "2          6 NaN               0.0            0.0              0.0        0.0   \n",
       "3          8 NaN               0.0            0.0              1.0        0.0   \n",
       "4         10 NaN               0.0            0.0              0.0        0.0   \n",
       "..       ...  ..               ...            ...              ...        ...   \n",
       "122      424 NaN               0.0            0.0              0.0        0.0   \n",
       "123      425 NaN               0.0            1.0              0.0        0.0   \n",
       "124      429 NaN               0.0            1.0              0.0        0.0   \n",
       "125      430 NaN               0.0            0.0              0.0        1.0   \n",
       "126      431 NaN               1.0            0.0              0.0        0.0   \n",
       "\n",
       "     sido_jeonra  sido_seoul  instkind_clinic  instkind_general_hospital  ...  \\\n",
       "0            0.0         0.0              0.0                        1.0  ...   \n",
       "1            0.0         0.0              0.0                        0.0  ...   \n",
       "2            1.0         0.0              0.0                        1.0  ...   \n",
       "3            0.0         0.0              0.0                        1.0  ...   \n",
       "4            1.0         0.0              0.0                        1.0  ...   \n",
       "..           ...         ...              ...                        ...  ...   \n",
       "122          1.0         0.0              0.0                        0.0  ...   \n",
       "123          0.0         0.0              0.0                        0.0  ...   \n",
       "124          0.0         0.0              0.0                        0.0  ...   \n",
       "125          0.0         0.0              0.0                        0.0  ...   \n",
       "126          0.0         0.0              0.0                        0.0  ...   \n",
       "\n",
       "     liquidLiabilities2  shortLoan2  NCLiabilities2  longLoan2  netAsset2  \\\n",
       "0             24.648885   24.338050       22.275075  22.268698  23.501178   \n",
       "1             24.463273   23.909618       23.950510  23.630167  22.055404   \n",
       "2             24.047434   23.806220        0.000000   0.000000   0.000000   \n",
       "3             22.980460   22.170624       21.662855   0.000000  24.390483   \n",
       "4             22.742900   21.916712       24.318498  23.784183  23.971502   \n",
       "..                  ...         ...             ...        ...        ...   \n",
       "122           23.279082    0.000000       21.735002   0.000000  23.351521   \n",
       "123           21.042985    0.000000       21.310989  21.277151  22.872059   \n",
       "124            0.000000    0.000000        0.000000   0.000000   0.000000   \n",
       "125           22.861674    0.000000       24.080792  23.967076  22.205786   \n",
       "126            0.000000    0.000000        0.000000   0.000000   0.000000   \n",
       "\n",
       "      surplus2  employee1  employee2  ownerChange  bedCount_class  \n",
       "0    22.914314   6.542472   6.542472          0.0             3.0  \n",
       "1     0.000000   5.940171   5.918894          0.0             2.0  \n",
       "2    23.519657   5.285888   5.225619          0.2             3.0  \n",
       "3     0.000000   6.634633   6.634633          0.0             4.0  \n",
       "4    23.436150   6.082219   5.955837          0.0             3.0  \n",
       "..         ...        ...        ...          ...             ...  \n",
       "122   0.000000   6.329721   4.949613          0.0             3.0  \n",
       "123  22.688514   4.890349   4.927254          0.0             3.2  \n",
       "124   0.000000   4.588876   4.544446          0.0             3.0  \n",
       "125   0.000000   5.897154   5.840642          0.0             3.2  \n",
       "126   0.000000   4.588876   4.544446          0.0             2.0  \n",
       "\n",
       "[127 rows x 67 columns]"
      ]
     },
     "execution_count": 25,
     "metadata": {},
     "output_type": "execute_result"
    }
   ],
   "source": [
    "test_df"
   ]
  },
  {
   "cell_type": "code",
   "execution_count": 27,
   "id": "f19c2372",
   "metadata": {},
   "outputs": [],
   "source": [
    "X1 = test_df.drop('OC',axis=1)\n",
    "y1 = test_df['OC']\n",
    "X1_train, X1_valid, y1_train, y1_valid = train_test_split(X1, y1, test_size=0.40, random_state=3)"
   ]
  },
  {
   "cell_type": "code",
   "execution_count": 28,
   "id": "51e27e6a",
   "metadata": {},
   "outputs": [
    {
     "ename": "ValueError",
     "evalue": "Input contains NaN, infinity or a value too large for dtype('float64').",
     "output_type": "error",
     "traceback": [
      "\u001b[1;31m---------------------------------------------------------------------------\u001b[0m",
      "\u001b[1;31mValueError\u001b[0m                                Traceback (most recent call last)",
      "\u001b[1;32m~\\AppData\\Local\\Temp/ipykernel_15092/2863185897.py\u001b[0m in \u001b[0;36m<module>\u001b[1;34m\u001b[0m\n\u001b[0;32m      1\u001b[0m \u001b[0mdefaultTree\u001b[0m \u001b[1;33m=\u001b[0m \u001b[0mDecisionTreeClassifier\u001b[0m\u001b[1;33m(\u001b[0m\u001b[0mrandom_state\u001b[0m\u001b[1;33m=\u001b[0m\u001b[1;36m1\u001b[0m\u001b[1;33m)\u001b[0m\u001b[1;33m\u001b[0m\u001b[1;33m\u001b[0m\u001b[0m\n\u001b[1;32m----> 2\u001b[1;33m \u001b[0mdefaultTree\u001b[0m\u001b[1;33m.\u001b[0m\u001b[0mfit\u001b[0m\u001b[1;33m(\u001b[0m\u001b[0mX1_train\u001b[0m\u001b[1;33m,\u001b[0m \u001b[0my1_train\u001b[0m\u001b[1;33m)\u001b[0m\u001b[1;33m\u001b[0m\u001b[1;33m\u001b[0m\u001b[0m\n\u001b[0m\u001b[0;32m      3\u001b[0m \u001b[1;33m\u001b[0m\u001b[0m\n\u001b[0;32m      4\u001b[0m \u001b[0mclasses\u001b[0m \u001b[1;33m=\u001b[0m \u001b[0mdefaultTree\u001b[0m\u001b[1;33m.\u001b[0m\u001b[0mclasses_\u001b[0m\u001b[1;33m\u001b[0m\u001b[1;33m\u001b[0m\u001b[0m\n\u001b[0;32m      5\u001b[0m \u001b[0mclassificationSummary\u001b[0m\u001b[1;33m(\u001b[0m\u001b[0my1_valid\u001b[0m\u001b[1;33m,\u001b[0m \u001b[0mdefaultTree\u001b[0m\u001b[1;33m.\u001b[0m\u001b[0mpredict\u001b[0m\u001b[1;33m(\u001b[0m\u001b[0mX1_valid\u001b[0m\u001b[1;33m)\u001b[0m\u001b[1;33m,\u001b[0m \u001b[0mclass_names\u001b[0m\u001b[1;33m=\u001b[0m\u001b[0mdefaultTree\u001b[0m\u001b[1;33m.\u001b[0m\u001b[0mclasses_\u001b[0m\u001b[1;33m)\u001b[0m\u001b[1;33m\u001b[0m\u001b[1;33m\u001b[0m\u001b[0m\n",
      "\u001b[1;32mc:\\users\\jse17\\appdata\\local\\programs\\python\\python38\\lib\\site-packages\\sklearn\\tree\\_classes.py\u001b[0m in \u001b[0;36mfit\u001b[1;34m(self, X, y, sample_weight, check_input, X_idx_sorted)\u001b[0m\n\u001b[0;32m    935\u001b[0m         \"\"\"\n\u001b[0;32m    936\u001b[0m \u001b[1;33m\u001b[0m\u001b[0m\n\u001b[1;32m--> 937\u001b[1;33m         super().fit(\n\u001b[0m\u001b[0;32m    938\u001b[0m             \u001b[0mX\u001b[0m\u001b[1;33m,\u001b[0m\u001b[1;33m\u001b[0m\u001b[1;33m\u001b[0m\u001b[0m\n\u001b[0;32m    939\u001b[0m             \u001b[0my\u001b[0m\u001b[1;33m,\u001b[0m\u001b[1;33m\u001b[0m\u001b[1;33m\u001b[0m\u001b[0m\n",
      "\u001b[1;32mc:\\users\\jse17\\appdata\\local\\programs\\python\\python38\\lib\\site-packages\\sklearn\\tree\\_classes.py\u001b[0m in \u001b[0;36mfit\u001b[1;34m(self, X, y, sample_weight, check_input, X_idx_sorted)\u001b[0m\n\u001b[0;32m    163\u001b[0m             \u001b[0mcheck_X_params\u001b[0m \u001b[1;33m=\u001b[0m \u001b[0mdict\u001b[0m\u001b[1;33m(\u001b[0m\u001b[0mdtype\u001b[0m\u001b[1;33m=\u001b[0m\u001b[0mDTYPE\u001b[0m\u001b[1;33m,\u001b[0m \u001b[0maccept_sparse\u001b[0m\u001b[1;33m=\u001b[0m\u001b[1;34m\"csc\"\u001b[0m\u001b[1;33m)\u001b[0m\u001b[1;33m\u001b[0m\u001b[1;33m\u001b[0m\u001b[0m\n\u001b[0;32m    164\u001b[0m             \u001b[0mcheck_y_params\u001b[0m \u001b[1;33m=\u001b[0m \u001b[0mdict\u001b[0m\u001b[1;33m(\u001b[0m\u001b[0mensure_2d\u001b[0m\u001b[1;33m=\u001b[0m\u001b[1;32mFalse\u001b[0m\u001b[1;33m,\u001b[0m \u001b[0mdtype\u001b[0m\u001b[1;33m=\u001b[0m\u001b[1;32mNone\u001b[0m\u001b[1;33m)\u001b[0m\u001b[1;33m\u001b[0m\u001b[1;33m\u001b[0m\u001b[0m\n\u001b[1;32m--> 165\u001b[1;33m             X, y = self._validate_data(\n\u001b[0m\u001b[0;32m    166\u001b[0m                 \u001b[0mX\u001b[0m\u001b[1;33m,\u001b[0m \u001b[0my\u001b[0m\u001b[1;33m,\u001b[0m \u001b[0mvalidate_separately\u001b[0m\u001b[1;33m=\u001b[0m\u001b[1;33m(\u001b[0m\u001b[0mcheck_X_params\u001b[0m\u001b[1;33m,\u001b[0m \u001b[0mcheck_y_params\u001b[0m\u001b[1;33m)\u001b[0m\u001b[1;33m\u001b[0m\u001b[1;33m\u001b[0m\u001b[0m\n\u001b[0;32m    167\u001b[0m             )\n",
      "\u001b[1;32mc:\\users\\jse17\\appdata\\local\\programs\\python\\python38\\lib\\site-packages\\sklearn\\base.py\u001b[0m in \u001b[0;36m_validate_data\u001b[1;34m(self, X, y, reset, validate_separately, **check_params)\u001b[0m\n\u001b[0;32m    577\u001b[0m                 \u001b[0mcheck_X_params\u001b[0m\u001b[1;33m,\u001b[0m \u001b[0mcheck_y_params\u001b[0m \u001b[1;33m=\u001b[0m \u001b[0mvalidate_separately\u001b[0m\u001b[1;33m\u001b[0m\u001b[1;33m\u001b[0m\u001b[0m\n\u001b[0;32m    578\u001b[0m                 \u001b[0mX\u001b[0m \u001b[1;33m=\u001b[0m \u001b[0mcheck_array\u001b[0m\u001b[1;33m(\u001b[0m\u001b[0mX\u001b[0m\u001b[1;33m,\u001b[0m \u001b[1;33m**\u001b[0m\u001b[0mcheck_X_params\u001b[0m\u001b[1;33m)\u001b[0m\u001b[1;33m\u001b[0m\u001b[1;33m\u001b[0m\u001b[0m\n\u001b[1;32m--> 579\u001b[1;33m                 \u001b[0my\u001b[0m \u001b[1;33m=\u001b[0m \u001b[0mcheck_array\u001b[0m\u001b[1;33m(\u001b[0m\u001b[0my\u001b[0m\u001b[1;33m,\u001b[0m \u001b[1;33m**\u001b[0m\u001b[0mcheck_y_params\u001b[0m\u001b[1;33m)\u001b[0m\u001b[1;33m\u001b[0m\u001b[1;33m\u001b[0m\u001b[0m\n\u001b[0m\u001b[0;32m    580\u001b[0m             \u001b[1;32melse\u001b[0m\u001b[1;33m:\u001b[0m\u001b[1;33m\u001b[0m\u001b[1;33m\u001b[0m\u001b[0m\n\u001b[0;32m    581\u001b[0m                 \u001b[0mX\u001b[0m\u001b[1;33m,\u001b[0m \u001b[0my\u001b[0m \u001b[1;33m=\u001b[0m \u001b[0mcheck_X_y\u001b[0m\u001b[1;33m(\u001b[0m\u001b[0mX\u001b[0m\u001b[1;33m,\u001b[0m \u001b[0my\u001b[0m\u001b[1;33m,\u001b[0m \u001b[1;33m**\u001b[0m\u001b[0mcheck_params\u001b[0m\u001b[1;33m)\u001b[0m\u001b[1;33m\u001b[0m\u001b[1;33m\u001b[0m\u001b[0m\n",
      "\u001b[1;32mc:\\users\\jse17\\appdata\\local\\programs\\python\\python38\\lib\\site-packages\\sklearn\\utils\\validation.py\u001b[0m in \u001b[0;36mcheck_array\u001b[1;34m(array, accept_sparse, accept_large_sparse, dtype, order, copy, force_all_finite, ensure_2d, allow_nd, ensure_min_samples, ensure_min_features, estimator)\u001b[0m\n\u001b[0;32m    798\u001b[0m \u001b[1;33m\u001b[0m\u001b[0m\n\u001b[0;32m    799\u001b[0m         \u001b[1;32mif\u001b[0m \u001b[0mforce_all_finite\u001b[0m\u001b[1;33m:\u001b[0m\u001b[1;33m\u001b[0m\u001b[1;33m\u001b[0m\u001b[0m\n\u001b[1;32m--> 800\u001b[1;33m             \u001b[0m_assert_all_finite\u001b[0m\u001b[1;33m(\u001b[0m\u001b[0marray\u001b[0m\u001b[1;33m,\u001b[0m \u001b[0mallow_nan\u001b[0m\u001b[1;33m=\u001b[0m\u001b[0mforce_all_finite\u001b[0m \u001b[1;33m==\u001b[0m \u001b[1;34m\"allow-nan\"\u001b[0m\u001b[1;33m)\u001b[0m\u001b[1;33m\u001b[0m\u001b[1;33m\u001b[0m\u001b[0m\n\u001b[0m\u001b[0;32m    801\u001b[0m \u001b[1;33m\u001b[0m\u001b[0m\n\u001b[0;32m    802\u001b[0m     \u001b[1;32mif\u001b[0m \u001b[0mensure_min_samples\u001b[0m \u001b[1;33m>\u001b[0m \u001b[1;36m0\u001b[0m\u001b[1;33m:\u001b[0m\u001b[1;33m\u001b[0m\u001b[1;33m\u001b[0m\u001b[0m\n",
      "\u001b[1;32mc:\\users\\jse17\\appdata\\local\\programs\\python\\python38\\lib\\site-packages\\sklearn\\utils\\validation.py\u001b[0m in \u001b[0;36m_assert_all_finite\u001b[1;34m(X, allow_nan, msg_dtype)\u001b[0m\n\u001b[0;32m    112\u001b[0m         ):\n\u001b[0;32m    113\u001b[0m             \u001b[0mtype_err\u001b[0m \u001b[1;33m=\u001b[0m \u001b[1;34m\"infinity\"\u001b[0m \u001b[1;32mif\u001b[0m \u001b[0mallow_nan\u001b[0m \u001b[1;32melse\u001b[0m \u001b[1;34m\"NaN, infinity\"\u001b[0m\u001b[1;33m\u001b[0m\u001b[1;33m\u001b[0m\u001b[0m\n\u001b[1;32m--> 114\u001b[1;33m             raise ValueError(\n\u001b[0m\u001b[0;32m    115\u001b[0m                 msg_err.format(\n\u001b[0;32m    116\u001b[0m                     \u001b[0mtype_err\u001b[0m\u001b[1;33m,\u001b[0m \u001b[0mmsg_dtype\u001b[0m \u001b[1;32mif\u001b[0m \u001b[0mmsg_dtype\u001b[0m \u001b[1;32mis\u001b[0m \u001b[1;32mnot\u001b[0m \u001b[1;32mNone\u001b[0m \u001b[1;32melse\u001b[0m \u001b[0mX\u001b[0m\u001b[1;33m.\u001b[0m\u001b[0mdtype\u001b[0m\u001b[1;33m\u001b[0m\u001b[1;33m\u001b[0m\u001b[0m\n",
      "\u001b[1;31mValueError\u001b[0m: Input contains NaN, infinity or a value too large for dtype('float64')."
     ]
    }
   ],
   "source": [
    "defaultTree = DecisionTreeClassifier(random_state=1)\n",
    "defaultTree.fit(X1_train, y1_train)\n",
    "\n",
    "classes = defaultTree.classes_\n",
    "classificationSummary(y1_valid, defaultTree.predict(X1_valid), class_names=defaultTree.classes_)"
   ]
  },
  {
   "cell_type": "code",
   "execution_count": null,
   "id": "f12e2ddd",
   "metadata": {},
   "outputs": [],
   "source": []
  }
 ],
 "metadata": {
  "kernelspec": {
   "display_name": "Python 3 (ipykernel)",
   "language": "python",
   "name": "python3"
  },
  "language_info": {
   "codemirror_mode": {
    "name": "ipython",
    "version": 3
   },
   "file_extension": ".py",
   "mimetype": "text/x-python",
   "name": "python",
   "nbconvert_exporter": "python",
   "pygments_lexer": "ipython3",
   "version": "3.8.10"
  }
 },
 "nbformat": 4,
 "nbformat_minor": 5
}
