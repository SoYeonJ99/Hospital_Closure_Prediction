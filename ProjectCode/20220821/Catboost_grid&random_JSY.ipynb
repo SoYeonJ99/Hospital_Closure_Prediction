{
 "cells": [
  {
   "cell_type": "code",
   "execution_count": 9,
   "id": "5d66e22b",
   "metadata": {},
   "outputs": [],
   "source": [
    "import pandas as pd\n",
    "import numpy as np\n",
    "\n",
    "from sklearn.model_selection import train_test_split, cross_val_score, KFold, GridSearchCV, RandomizedSearchCV\n",
    "\n",
    "import warnings\n",
    "warnings.filterwarnings('ignore')\n",
    "\n",
    "from catboost import CatBoostClassifier, cv, Pool\n",
    "from sklearn.metrics import accuracy_score, precision_score, recall_score, confusion_matrix, auc, roc_auc_score\n",
    "from dmba import classificationSummary\n",
    "\n",
    "from imblearn.over_sampling import SMOTE"
   ]
  },
  {
   "cell_type": "code",
   "execution_count": 2,
   "id": "b59e12a0",
   "metadata": {},
   "outputs": [],
   "source": [
    "train_df = pd.read_csv('D:/숙탯 2기/2022-여름-캐글/최종데이터/Train.csv')\n",
    "test_df = pd.read_csv('D:/숙탯 2기/2022-여름-캐글/최종데이터/Test.csv')\n",
    "\n",
    "train_df['ownerChange'] = round(train_df['ownerChange'])\n",
    "train_df['bedCount_class'] = round(train_df['bedCount_class'])\n",
    "\n",
    "test_df['ownerChange'] = round(train_df['ownerChange'])\n",
    "test_df['bedCount_class'] = round(train_df['bedCount_class'])\n",
    "\n",
    "train_df.drop('instkind_nan', axis=1, inplace=True)\n",
    "test_df.drop('instkind_nan', axis=1, inplace=True)\n",
    "\n",
    "train_df.set_index('inst_id', inplace=True)\n",
    "test_df.set_index('inst_id', inplace=True)"
   ]
  },
  {
   "cell_type": "code",
   "execution_count": 3,
   "id": "a78f417a",
   "metadata": {},
   "outputs": [
    {
     "data": {
      "text/html": [
       "<div>\n",
       "<style scoped>\n",
       "    .dataframe tbody tr th:only-of-type {\n",
       "        vertical-align: middle;\n",
       "    }\n",
       "\n",
       "    .dataframe tbody tr th {\n",
       "        vertical-align: top;\n",
       "    }\n",
       "\n",
       "    .dataframe thead th {\n",
       "        text-align: right;\n",
       "    }\n",
       "</style>\n",
       "<table border=\"1\" class=\"dataframe\">\n",
       "  <thead>\n",
       "    <tr style=\"text-align: right;\">\n",
       "      <th></th>\n",
       "      <th>sido_choongchung</th>\n",
       "      <th>sido_gyeongsang</th>\n",
       "      <th>sido_jeonra</th>\n",
       "      <th>instkind_nursing_hospital</th>\n",
       "      <th>instkind_traditional_hospital</th>\n",
       "      <th>revenue1</th>\n",
       "      <th>sga1</th>\n",
       "      <th>salary1</th>\n",
       "      <th>noe1</th>\n",
       "      <th>interest1</th>\n",
       "      <th>...</th>\n",
       "      <th>profit2</th>\n",
       "      <th>inventoryAsset2</th>\n",
       "      <th>OnonCAsset2</th>\n",
       "      <th>shortLoan2</th>\n",
       "      <th>NCLiabilities2</th>\n",
       "      <th>longLoan2</th>\n",
       "      <th>surplus2</th>\n",
       "      <th>ownerChange</th>\n",
       "      <th>bedCount_class</th>\n",
       "      <th>OC</th>\n",
       "    </tr>\n",
       "    <tr>\n",
       "      <th>inst_id</th>\n",
       "      <th></th>\n",
       "      <th></th>\n",
       "      <th></th>\n",
       "      <th></th>\n",
       "      <th></th>\n",
       "      <th></th>\n",
       "      <th></th>\n",
       "      <th></th>\n",
       "      <th></th>\n",
       "      <th></th>\n",
       "      <th></th>\n",
       "      <th></th>\n",
       "      <th></th>\n",
       "      <th></th>\n",
       "      <th></th>\n",
       "      <th></th>\n",
       "      <th></th>\n",
       "      <th></th>\n",
       "      <th></th>\n",
       "      <th></th>\n",
       "      <th></th>\n",
       "    </tr>\n",
       "  </thead>\n",
       "  <tbody>\n",
       "    <tr>\n",
       "      <th>1</th>\n",
       "      <td>1.0</td>\n",
       "      <td>0.0</td>\n",
       "      <td>0.0</td>\n",
       "      <td>1.0</td>\n",
       "      <td>0.0</td>\n",
       "      <td>22.162515</td>\n",
       "      <td>22.099796</td>\n",
       "      <td>21.433189</td>\n",
       "      <td>16.539187</td>\n",
       "      <td>16.398469</td>\n",
       "      <td>...</td>\n",
       "      <td>19.152229</td>\n",
       "      <td>16.425505</td>\n",
       "      <td>18.798422</td>\n",
       "      <td>0.000000</td>\n",
       "      <td>20.099863</td>\n",
       "      <td>19.781657</td>\n",
       "      <td>20.963246</td>\n",
       "      <td>0.0</td>\n",
       "      <td>3.0</td>\n",
       "      <td>1</td>\n",
       "    </tr>\n",
       "    <tr>\n",
       "      <th>3</th>\n",
       "      <td>0.0</td>\n",
       "      <td>1.0</td>\n",
       "      <td>0.0</td>\n",
       "      <td>0.0</td>\n",
       "      <td>0.0</td>\n",
       "      <td>23.980280</td>\n",
       "      <td>23.481393</td>\n",
       "      <td>19.521179</td>\n",
       "      <td>16.823799</td>\n",
       "      <td>15.443340</td>\n",
       "      <td>...</td>\n",
       "      <td>17.025473</td>\n",
       "      <td>16.044684</td>\n",
       "      <td>15.372413</td>\n",
       "      <td>9.180719</td>\n",
       "      <td>18.812726</td>\n",
       "      <td>17.568559</td>\n",
       "      <td>12.258481</td>\n",
       "      <td>0.0</td>\n",
       "      <td>4.0</td>\n",
       "      <td>1</td>\n",
       "    </tr>\n",
       "    <tr>\n",
       "      <th>4</th>\n",
       "      <td>0.0</td>\n",
       "      <td>0.0</td>\n",
       "      <td>0.0</td>\n",
       "      <td>1.0</td>\n",
       "      <td>0.0</td>\n",
       "      <td>20.727778</td>\n",
       "      <td>19.918561</td>\n",
       "      <td>19.507228</td>\n",
       "      <td>10.308986</td>\n",
       "      <td>0.000000</td>\n",
       "      <td>...</td>\n",
       "      <td>0.000000</td>\n",
       "      <td>0.000000</td>\n",
       "      <td>0.000000</td>\n",
       "      <td>0.000000</td>\n",
       "      <td>0.000000</td>\n",
       "      <td>0.000000</td>\n",
       "      <td>0.000000</td>\n",
       "      <td>0.0</td>\n",
       "      <td>4.0</td>\n",
       "      <td>1</td>\n",
       "    </tr>\n",
       "    <tr>\n",
       "      <th>7</th>\n",
       "      <td>0.0</td>\n",
       "      <td>0.0</td>\n",
       "      <td>0.0</td>\n",
       "      <td>0.0</td>\n",
       "      <td>0.0</td>\n",
       "      <td>25.006954</td>\n",
       "      <td>24.981392</td>\n",
       "      <td>24.182293</td>\n",
       "      <td>20.954034</td>\n",
       "      <td>20.902985</td>\n",
       "      <td>...</td>\n",
       "      <td>20.546991</td>\n",
       "      <td>20.934483</td>\n",
       "      <td>22.088313</td>\n",
       "      <td>22.944579</td>\n",
       "      <td>23.755157</td>\n",
       "      <td>23.437961</td>\n",
       "      <td>22.769775</td>\n",
       "      <td>0.0</td>\n",
       "      <td>4.0</td>\n",
       "      <td>1</td>\n",
       "    </tr>\n",
       "    <tr>\n",
       "      <th>9</th>\n",
       "      <td>0.0</td>\n",
       "      <td>1.0</td>\n",
       "      <td>0.0</td>\n",
       "      <td>0.0</td>\n",
       "      <td>0.0</td>\n",
       "      <td>24.615974</td>\n",
       "      <td>24.587275</td>\n",
       "      <td>23.920337</td>\n",
       "      <td>21.073281</td>\n",
       "      <td>20.991191</td>\n",
       "      <td>...</td>\n",
       "      <td>17.301128</td>\n",
       "      <td>19.908536</td>\n",
       "      <td>20.486709</td>\n",
       "      <td>23.590810</td>\n",
       "      <td>23.784786</td>\n",
       "      <td>23.370010</td>\n",
       "      <td>22.923325</td>\n",
       "      <td>0.0</td>\n",
       "      <td>3.0</td>\n",
       "      <td>1</td>\n",
       "    </tr>\n",
       "  </tbody>\n",
       "</table>\n",
       "<p>5 rows × 28 columns</p>\n",
       "</div>"
      ],
      "text/plain": [
       "         sido_choongchung  sido_gyeongsang  sido_jeonra  \\\n",
       "inst_id                                                   \n",
       "1                     1.0              0.0          0.0   \n",
       "3                     0.0              1.0          0.0   \n",
       "4                     0.0              0.0          0.0   \n",
       "7                     0.0              0.0          0.0   \n",
       "9                     0.0              1.0          0.0   \n",
       "\n",
       "         instkind_nursing_hospital  instkind_traditional_hospital   revenue1  \\\n",
       "inst_id                                                                        \n",
       "1                              1.0                            0.0  22.162515   \n",
       "3                              0.0                            0.0  23.980280   \n",
       "4                              1.0                            0.0  20.727778   \n",
       "7                              0.0                            0.0  25.006954   \n",
       "9                              0.0                            0.0  24.615974   \n",
       "\n",
       "              sga1    salary1       noe1  interest1  ...    profit2  \\\n",
       "inst_id                                              ...              \n",
       "1        22.099796  21.433189  16.539187  16.398469  ...  19.152229   \n",
       "3        23.481393  19.521179  16.823799  15.443340  ...  17.025473   \n",
       "4        19.918561  19.507228  10.308986   0.000000  ...   0.000000   \n",
       "7        24.981392  24.182293  20.954034  20.902985  ...  20.546991   \n",
       "9        24.587275  23.920337  21.073281  20.991191  ...  17.301128   \n",
       "\n",
       "         inventoryAsset2  OnonCAsset2  shortLoan2  NCLiabilities2  longLoan2  \\\n",
       "inst_id                                                                        \n",
       "1              16.425505    18.798422    0.000000       20.099863  19.781657   \n",
       "3              16.044684    15.372413    9.180719       18.812726  17.568559   \n",
       "4               0.000000     0.000000    0.000000        0.000000   0.000000   \n",
       "7              20.934483    22.088313   22.944579       23.755157  23.437961   \n",
       "9              19.908536    20.486709   23.590810       23.784786  23.370010   \n",
       "\n",
       "          surplus2  ownerChange  bedCount_class  OC  \n",
       "inst_id                                              \n",
       "1        20.963246          0.0             3.0   1  \n",
       "3        12.258481          0.0             4.0   1  \n",
       "4         0.000000          0.0             4.0   1  \n",
       "7        22.769775          0.0             4.0   1  \n",
       "9        22.923325          0.0             3.0   1  \n",
       "\n",
       "[5 rows x 28 columns]"
      ]
     },
     "execution_count": 3,
     "metadata": {},
     "output_type": "execute_result"
    }
   ],
   "source": [
    "train_lr = pd.read_csv('D:/숙탯 2기/2022-여름-캐글/최종데이터/Train_lr.csv')\n",
    "\n",
    "train_lr['ownerChange'] = round(train_lr['ownerChange'])\n",
    "train_lr['bedCount_class'] = round(train_lr['bedCount_class'])\n",
    "\n",
    "train_lr.set_index('inst_id', inplace=True)\n",
    "\n",
    "train_lr.head()"
   ]
  },
  {
   "cell_type": "code",
   "execution_count": 4,
   "id": "4adae700",
   "metadata": {},
   "outputs": [
    {
     "data": {
      "text/html": [
       "<div>\n",
       "<style scoped>\n",
       "    .dataframe tbody tr th:only-of-type {\n",
       "        vertical-align: middle;\n",
       "    }\n",
       "\n",
       "    .dataframe tbody tr th {\n",
       "        vertical-align: top;\n",
       "    }\n",
       "\n",
       "    .dataframe thead th {\n",
       "        text-align: right;\n",
       "    }\n",
       "</style>\n",
       "<table border=\"1\" class=\"dataframe\">\n",
       "  <thead>\n",
       "    <tr style=\"text-align: right;\">\n",
       "      <th></th>\n",
       "      <th>inst_id</th>\n",
       "      <th>instkind_hospital</th>\n",
       "      <th>instkind_traditional_clinic</th>\n",
       "      <th>revenue1</th>\n",
       "      <th>salescost1</th>\n",
       "      <th>sga1</th>\n",
       "      <th>salary1</th>\n",
       "      <th>liquidAsset1</th>\n",
       "      <th>quickAsset1</th>\n",
       "      <th>receivableS1</th>\n",
       "      <th>inventoryAsset2</th>\n",
       "      <th>receivableL2</th>\n",
       "      <th>employee2</th>\n",
       "      <th>OC</th>\n",
       "    </tr>\n",
       "  </thead>\n",
       "  <tbody>\n",
       "    <tr>\n",
       "      <th>0</th>\n",
       "      <td>1</td>\n",
       "      <td>0.0</td>\n",
       "      <td>0.0</td>\n",
       "      <td>22.162515</td>\n",
       "      <td>0.000000</td>\n",
       "      <td>22.099796</td>\n",
       "      <td>21.433189</td>\n",
       "      <td>20.735886</td>\n",
       "      <td>20.720935</td>\n",
       "      <td>19.968362</td>\n",
       "      <td>16.425505</td>\n",
       "      <td>0.0</td>\n",
       "      <td>4.174387</td>\n",
       "      <td>1</td>\n",
       "    </tr>\n",
       "    <tr>\n",
       "      <th>1</th>\n",
       "      <td>3</td>\n",
       "      <td>0.0</td>\n",
       "      <td>0.0</td>\n",
       "      <td>23.980280</td>\n",
       "      <td>9.659782</td>\n",
       "      <td>23.481393</td>\n",
       "      <td>19.521179</td>\n",
       "      <td>19.074269</td>\n",
       "      <td>19.037270</td>\n",
       "      <td>10.917985</td>\n",
       "      <td>16.044684</td>\n",
       "      <td>0.0</td>\n",
       "      <td>6.701960</td>\n",
       "      <td>1</td>\n",
       "    </tr>\n",
       "    <tr>\n",
       "      <th>2</th>\n",
       "      <td>4</td>\n",
       "      <td>0.0</td>\n",
       "      <td>0.0</td>\n",
       "      <td>20.727778</td>\n",
       "      <td>20.060616</td>\n",
       "      <td>19.918561</td>\n",
       "      <td>19.507228</td>\n",
       "      <td>19.422937</td>\n",
       "      <td>19.351593</td>\n",
       "      <td>15.906875</td>\n",
       "      <td>0.000000</td>\n",
       "      <td>0.0</td>\n",
       "      <td>0.693147</td>\n",
       "      <td>1</td>\n",
       "    </tr>\n",
       "    <tr>\n",
       "      <th>3</th>\n",
       "      <td>7</td>\n",
       "      <td>0.0</td>\n",
       "      <td>0.0</td>\n",
       "      <td>25.006954</td>\n",
       "      <td>0.000000</td>\n",
       "      <td>24.981392</td>\n",
       "      <td>24.182293</td>\n",
       "      <td>23.291406</td>\n",
       "      <td>23.168630</td>\n",
       "      <td>0.000000</td>\n",
       "      <td>20.934483</td>\n",
       "      <td>0.0</td>\n",
       "      <td>6.498282</td>\n",
       "      <td>1</td>\n",
       "    </tr>\n",
       "    <tr>\n",
       "      <th>4</th>\n",
       "      <td>9</td>\n",
       "      <td>0.0</td>\n",
       "      <td>0.0</td>\n",
       "      <td>24.615974</td>\n",
       "      <td>0.000000</td>\n",
       "      <td>24.587275</td>\n",
       "      <td>23.920337</td>\n",
       "      <td>22.566524</td>\n",
       "      <td>22.493677</td>\n",
       "      <td>22.134087</td>\n",
       "      <td>19.908536</td>\n",
       "      <td>0.0</td>\n",
       "      <td>5.288267</td>\n",
       "      <td>1</td>\n",
       "    </tr>\n",
       "  </tbody>\n",
       "</table>\n",
       "</div>"
      ],
      "text/plain": [
       "   inst_id  instkind_hospital  instkind_traditional_clinic   revenue1  \\\n",
       "0        1                0.0                          0.0  22.162515   \n",
       "1        3                0.0                          0.0  23.980280   \n",
       "2        4                0.0                          0.0  20.727778   \n",
       "3        7                0.0                          0.0  25.006954   \n",
       "4        9                0.0                          0.0  24.615974   \n",
       "\n",
       "   salescost1       sga1    salary1  liquidAsset1  quickAsset1  receivableS1  \\\n",
       "0    0.000000  22.099796  21.433189     20.735886    20.720935     19.968362   \n",
       "1    9.659782  23.481393  19.521179     19.074269    19.037270     10.917985   \n",
       "2   20.060616  19.918561  19.507228     19.422937    19.351593     15.906875   \n",
       "3    0.000000  24.981392  24.182293     23.291406    23.168630      0.000000   \n",
       "4    0.000000  24.587275  23.920337     22.566524    22.493677     22.134087   \n",
       "\n",
       "   inventoryAsset2  receivableL2  employee2  OC  \n",
       "0        16.425505           0.0   4.174387   1  \n",
       "1        16.044684           0.0   6.701960   1  \n",
       "2         0.000000           0.0   0.693147   1  \n",
       "3        20.934483           0.0   6.498282   1  \n",
       "4        19.908536           0.0   5.288267   1  "
      ]
     },
     "execution_count": 4,
     "metadata": {},
     "output_type": "execute_result"
    }
   ],
   "source": [
    "train_dt = pd.read_csv('D:/숙탯 2기/2022-여름-캐글/최종데이터/Train_dt.csv')\n",
    "train_dt.drop('instkind_nan', axis=1, inplace=True)\n",
    "\n",
    "train_dt.head()"
   ]
  },
  {
   "cell_type": "code",
   "execution_count": null,
   "id": "8e7a92ea",
   "metadata": {},
   "outputs": [],
   "source": []
  },
  {
   "cell_type": "markdown",
   "id": "165cae29",
   "metadata": {},
   "source": [
    "# 1. 67개 columns"
   ]
  },
  {
   "cell_type": "markdown",
   "id": "1d75cc83",
   "metadata": {},
   "source": [
    "### 1) GridSearchCV"
   ]
  },
  {
   "cell_type": "code",
   "execution_count": 7,
   "id": "556fe22b",
   "metadata": {},
   "outputs": [],
   "source": [
    "X = train_df.drop('OC', axis=1)\n",
    "y = train_df['OC']\n",
    "\n",
    "X_train, X_val, y_train, y_val = train_test_split(X, y, test_size=0.2, random_state=0)\n",
    "\n",
    "smote = SMOTE(random_state=42)\n",
    "X_tr_over, y_tr_over = smote.fit_resample(X_train, y_train)"
   ]
  },
  {
   "cell_type": "code",
   "execution_count": null,
   "id": "72b5aadd",
   "metadata": {},
   "outputs": [],
   "source": [
    "params = {\"max_depth\" : list(np.arange(4, 16, 2)),\n",
    "          \"n_estimators\" : [1000, 5000, 10000],\n",
    "          'learning_rate' : list(np.arange(0.0, 0.3, 0.05)),\n",
    "          'random_strength' : [0, 100],\n",
    "          \"l2_leaf_reg\" : [1e-8,3e-5],\n",
    "          'bagging_temperature' : list(np.arange(0.01, 100.00, 10)),\n",
    "          \"min_child_samples\" : [5, 100],\n",
    "          \"max_bin\" : [200, 500],\n",
    "          'od_type' : ['IncToDec', 'Iter']\n",
    "         }\n",
    "\n",
    "kfold = KFold(n_splits=5, shuffle = True, random_state=0)\n",
    "\n",
    "# AdaBoostClassifier 객체 생성 후 GridSearchCV 수행\n",
    "clf1 = CatBoostClassifier()\n",
    "grid_cv = GridSearchCV(clf1, param_grid = params, cv = kfold, n_jobs = -1)\n",
    "grid_cv.fit(X_tr_over, y_tr_over)\n",
    "\n",
    "print('최적 하이퍼 파라미터: ', grid_cv.best_params_)\n",
    "print('최고 예측 정확도: {:.4f}'.format(grid_cv.best_score_))"
   ]
  },
  {
   "cell_type": "code",
   "execution_count": null,
   "id": "b22eff73",
   "metadata": {},
   "outputs": [],
   "source": [
    "def clf_eval(y_test, pred):\n",
    "    accuracy = accuracy_score(y_test, pred)\n",
    "    precision = precision_score(y_test, pred)\n",
    "    recall = recall_score(y_test, pred)\n",
    "    print('오차행렬')\n",
    "    classificationSummary(y_test, pred)\n",
    "    print()\n",
    "    print('정확도 : {:.4f}\\n정밀도 : {:.4f}\\n재현율 : {:.4f}'.format(accuracy, precision, recall))\n",
    "    print('\\nAUC : {:.4f}'.format(roc_auc_score(y_test, pred)))"
   ]
  },
  {
   "cell_type": "code",
   "execution_count": null,
   "id": "de03da51",
   "metadata": {},
   "outputs": [],
   "source": [
    "best_model = grid_cv.best_estimator_  # 최적의 하이퍼 파라미터로 모델 생성\n",
    "pred = best_model.predict(X_val)\n",
    "\n",
    "clf_eval(y_val, pred)"
   ]
  },
  {
   "cell_type": "code",
   "execution_count": 54,
   "id": "90bf2ce6",
   "metadata": {},
   "outputs": [
    {
     "name": "stdout",
     "output_type": "stream",
     "text": [
      "0:\tlearn: 0.6931200\ttest: 0.6931186\ttest1: 0.6930648\tbest: 0.6930648 (0)\ttotal: 908us\tremaining: 908ms\n",
      "100:\tlearn: 0.5355416\ttest: 0.5355828\ttest1: 0.5368851\tbest: 0.5349755 (94)\ttotal: 104ms\tremaining: 928ms\n",
      "200:\tlearn: 0.3892536\ttest: 0.3892705\ttest1: 0.4325137\tbest: 0.4304546 (194)\ttotal: 244ms\tremaining: 969ms\n",
      "300:\tlearn: 0.2939765\ttest: 0.2939837\ttest1: 0.3748481\tbest: 0.3746073 (299)\ttotal: 386ms\tremaining: 896ms\n",
      "Stopped by overfitting detector  (35 iterations wait)\n",
      "\n",
      "bestTest = 0.3640117077\n",
      "bestIteration = 345\n",
      "\n",
      "Shrink model to first 346 iterations.\n",
      "\n",
      "Confusion Matrix (Accuracy 0.9344)\n",
      "\n",
      "       Prediction\n",
      "Actual  0  1\n",
      "     0  1  3\n",
      "     1  1 56\n",
      "\n",
      "AUC: 0.6162280701754386\n"
     ]
    }
   ],
   "source": [
    "cat = CatBoostClassifier(**study.best_params)\n",
    "cat.fit(X_tr_over, y_tr_over,\n",
    "        eval_set=[(X_tr_over, y_tr_over), (X_val, y_val)],\n",
    "        early_stopping_rounds=35,\n",
    "        verbose=100)\n",
    "\n",
    "print()\n",
    "classificationSummary(y_val, cat.predict(X_val))\n",
    "print('\\nAUC:', roc_auc_score(y_val, cat.predict(X_val)))"
   ]
  },
  {
   "cell_type": "code",
   "execution_count": null,
   "id": "dd81ff26",
   "metadata": {},
   "outputs": [],
   "source": []
  },
  {
   "cell_type": "markdown",
   "id": "b64a0f8c",
   "metadata": {},
   "source": [
    "### 2) RandomizedSearchCV"
   ]
  },
  {
   "cell_type": "code",
   "execution_count": 71,
   "id": "55018b0c",
   "metadata": {},
   "outputs": [],
   "source": [
    "def objective2(trial):\n",
    "    param = {\n",
    "        \"random_state\":42,\n",
    "        'learning_rate' : trial.suggest_loguniform('learning_rate', 0.01, 0.3),\n",
    "        'bagging_temperature' :trial.suggest_loguniform('bagging_temperature', 0.01, 100.00),\n",
    "        \"n_estimators\":trial.suggest_int(\"n_estimators\", 1000, 5000, 10000),\n",
    "        \"max_depth\":trial.suggest_int(\"max_depth\", 4, 16),\n",
    "        'random_strength' :trial.suggest_int('random_strength', 0, 100),\n",
    "        \"colsample_bylevel\": trial.suggest_float(\"colsample_bylevel\", 0.01, 0.1, log=True),\n",
    "        \"l2_leaf_reg\":trial.suggest_float(\"l2_leaf_reg\",1e-8,3e-5),\n",
    "        \"min_child_samples\": trial.suggest_int(\"min_child_samples\", 5, 100),\n",
    "        \"max_bin\": trial.suggest_int(\"max_bin\", 200, 500),\n",
    "        'od_type': trial.suggest_categorical('od_type', ['IncToDec', 'Iter'])\n",
    "        }\n",
    "        \n",
    "    X_train, X_val, y_train, y_val = train_test_split(X, y, test_size=0.2, random_state=0)\n",
    "    smote = SMOTE(random_state=42)\n",
    "    X_tr_over, y_tr_over = smote.fit_resample(X_train, y_train)\n",
    "        \n",
    "    cat = CatBoostClassifier(**param)\n",
    "    cat.fit(X_tr_over, y_tr_over,\n",
    "            eval_set=[(X_tr_over, y_tr_over), (X_val, y_val)],\n",
    "            early_stopping_rounds=35,\n",
    "            verbose=100)\n",
    "    pred = cat.predict(X_val)\n",
    "    \n",
    "    return roc_auc_score(y_val, cat.predict(X_val))"
   ]
  },
  {
   "cell_type": "code",
   "execution_count": 57,
   "id": "9775f617",
   "metadata": {
    "scrolled": false
   },
   "outputs": [
    {
     "name": "stderr",
     "output_type": "stream",
     "text": [
      "\u001b[32m[I 2022-08-29 02:25:42,222]\u001b[0m A new study created in memory with name: cat_parameter_opt\u001b[0m\n"
     ]
    },
    {
     "name": "stdout",
     "output_type": "stream",
     "text": [
      "0:\tlearn: 0.6931464\ttest: 0.6931472\ttest1: 0.6931472\tbest: 0.6931472 (0)\ttotal: 837us\tremaining: 837ms\n",
      "100:\tlearn: 0.3369154\ttest: 0.3369296\ttest1: 0.4834807\tbest: 0.4834807 (100)\ttotal: 100ms\tremaining: 893ms\n"
     ]
    },
    {
     "name": "stderr",
     "output_type": "stream",
     "text": [
      "\u001b[32m[I 2022-08-29 02:25:42,759]\u001b[0m Trial 0 finished with value: 0.47368421052631576 and parameters: {'learning_rate': 0.03574712922600244, 'bagging_temperature': 63.512210106407046, 'n_estimators': 1000, 'max_depth': 13, 'random_strength': 60, 'colsample_bylevel': 0.014322493718230255, 'l2_leaf_reg': 4.688275664882717e-06, 'min_child_samples': 10, 'max_bin': 460, 'od_type': 'Iter'}. Best is trial 0 with value: 0.47368421052631576.\u001b[0m\n"
     ]
    },
    {
     "name": "stdout",
     "output_type": "stream",
     "text": [
      "200:\tlearn: 0.1711298\ttest: 0.1711573\ttest1: 0.4289440\tbest: 0.4228456 (184)\ttotal: 235ms\tremaining: 934ms\n",
      "Stopped by overfitting detector  (35 iterations wait)\n",
      "\n",
      "bestTest = 0.4228456403\n",
      "bestIteration = 184\n",
      "\n",
      "Shrink model to first 185 iterations.\n",
      "0:\tlearn: 0.6931464\ttest: 0.6931472\ttest1: 0.6931472\tbest: 0.6931472 (0)\ttotal: 592us\tremaining: 592ms\n"
     ]
    },
    {
     "name": "stderr",
     "output_type": "stream",
     "text": [
      "\u001b[32m[I 2022-08-29 02:25:43,307]\u001b[0m Trial 1 finished with value: 0.49122807017543857 and parameters: {'learning_rate': 0.010725209743171996, 'bagging_temperature': 75.7947995334801, 'n_estimators': 1000, 'max_depth': 14, 'random_strength': 21, 'colsample_bylevel': 0.015199348301309814, 'l2_leaf_reg': 5.51030125050448e-06, 'min_child_samples': 34, 'max_bin': 357, 'od_type': 'IncToDec'}. Best is trial 1 with value: 0.49122807017543857.\u001b[0m\n"
     ]
    },
    {
     "name": "stdout",
     "output_type": "stream",
     "text": [
      "100:\tlearn: 0.4838278\ttest: 0.4838632\ttest1: 0.5026730\tbest: 0.5018884 (98)\ttotal: 192ms\tremaining: 1.71s\n",
      "Stopped by overfitting detector  (35 iterations wait)\n",
      "\n",
      "bestTest = 0.4656214132\n",
      "bestIteration = 119\n",
      "\n",
      "Shrink model to first 120 iterations.\n",
      "0:\tlearn: 0.6753468\ttest: 0.6753497\ttest1: 0.6561510\tbest: 0.6561510 (0)\ttotal: 1.04ms\tremaining: 1.04s\n"
     ]
    },
    {
     "name": "stderr",
     "output_type": "stream",
     "text": [
      "\u001b[32m[I 2022-08-29 02:25:43,898]\u001b[0m Trial 2 finished with value: 0.47368421052631576 and parameters: {'learning_rate': 0.08012737503998542, 'bagging_temperature': 0.03613894271216528, 'n_estimators': 1000, 'max_depth': 7, 'random_strength': 37, 'colsample_bylevel': 0.028580510658069373, 'l2_leaf_reg': 2.355742708217648e-05, 'min_child_samples': 24, 'max_bin': 354, 'od_type': 'IncToDec'}. Best is trial 1 with value: 0.49122807017543857.\u001b[0m\n"
     ]
    },
    {
     "name": "stdout",
     "output_type": "stream",
     "text": [
      "Stopped by overfitting detector  (35 iterations wait)\n",
      "\n",
      "bestTest = 0.3480156017\n",
      "bestIteration = 57\n",
      "\n",
      "Shrink model to first 58 iterations.\n",
      "0:\tlearn: 0.6676980\ttest: 0.6677109\ttest1: 0.6255054\tbest: 0.6255054 (0)\ttotal: 5.51ms\tremaining: 5.51s\n",
      "Stopped by overfitting detector  (35 iterations wait)\n",
      "\n",
      "bestTest = 0.2835866151\n",
      "bestIteration = 41\n",
      "\n"
     ]
    },
    {
     "name": "stderr",
     "output_type": "stream",
     "text": [
      "\u001b[32m[I 2022-08-29 02:25:44,331]\u001b[0m Trial 3 finished with value: 0.49122807017543857 and parameters: {'learning_rate': 0.07896186801026692, 'bagging_temperature': 0.04809461967501574, 'n_estimators': 1000, 'max_depth': 4, 'random_strength': 95, 'colsample_bylevel': 0.0923915031962725, 'l2_leaf_reg': 2.425383647001267e-05, 'min_child_samples': 34, 'max_bin': 229, 'od_type': 'IncToDec'}. Best is trial 1 with value: 0.49122807017543857.\u001b[0m\n"
     ]
    },
    {
     "name": "stdout",
     "output_type": "stream",
     "text": [
      "Shrink model to first 42 iterations.\n",
      "0:\tlearn: 0.6931464\ttest: 0.6931472\ttest1: 0.6931472\tbest: 0.6931472 (0)\ttotal: 631us\tremaining: 631ms\n",
      "100:\tlearn: 0.5106499\ttest: 0.5106881\ttest1: 0.5242962\tbest: 0.5242962 (100)\ttotal: 118ms\tremaining: 1.05s\n"
     ]
    },
    {
     "name": "stderr",
     "output_type": "stream",
     "text": [
      "\u001b[32m[I 2022-08-29 02:25:44,925]\u001b[0m Trial 4 finished with value: 0.4649122807017544 and parameters: {'learning_rate': 0.015144860262751412, 'bagging_temperature': 0.9565499215943827, 'n_estimators': 1000, 'max_depth': 4, 'random_strength': 91, 'colsample_bylevel': 0.01814596135349025, 'l2_leaf_reg': 1.987904330777592e-05, 'min_child_samples': 34, 'max_bin': 356, 'od_type': 'IncToDec'}. Best is trial 1 with value: 0.49122807017543857.\u001b[0m\n"
     ]
    },
    {
     "name": "stdout",
     "output_type": "stream",
     "text": [
      "200:\tlearn: 0.3943590\ttest: 0.3943740\ttest1: 0.4416857\tbest: 0.4352708 (184)\ttotal: 239ms\tremaining: 949ms\n",
      "Stopped by overfitting detector  (35 iterations wait)\n",
      "\n",
      "bestTest = 0.4352708223\n",
      "bestIteration = 184\n",
      "\n",
      "Shrink model to first 185 iterations.\n",
      "0:\tlearn: 0.6601127\ttest: 0.6601163\ttest1: 0.6299754\tbest: 0.6299754 (0)\ttotal: 1.1ms\tremaining: 1.1s\n"
     ]
    },
    {
     "name": "stderr",
     "output_type": "stream",
     "text": [
      "\u001b[32m[I 2022-08-29 02:25:54,871]\u001b[0m Trial 5 finished with value: 0.5021929824561404 and parameters: {'learning_rate': 0.27051668818999286, 'bagging_temperature': 12.60466458564947, 'n_estimators': 1000, 'max_depth': 16, 'random_strength': 90, 'colsample_bylevel': 0.03961867790406585, 'l2_leaf_reg': 2.7657008308343274e-05, 'min_child_samples': 13, 'max_bin': 258, 'od_type': 'Iter'}. Best is trial 5 with value: 0.5021929824561404.\u001b[0m\n"
     ]
    },
    {
     "name": "stdout",
     "output_type": "stream",
     "text": [
      "Stopped by overfitting detector  (35 iterations wait)\n",
      "\n",
      "bestTest = 0.5114572605\n",
      "bestIteration = 6\n",
      "\n",
      "Shrink model to first 7 iterations.\n",
      "0:\tlearn: 0.6836207\ttest: 0.6836210\ttest1: 0.6731010\tbest: 0.6731010 (0)\ttotal: 1.04ms\tremaining: 1.04s\n",
      "100:\tlearn: 0.1552692\ttest: 0.1553020\ttest1: 0.3642444\tbest: 0.3579949 (97)\ttotal: 1.23s\tremaining: 10.9s\n",
      "200:\tlearn: 0.0663808\ttest: 0.0664163\ttest1: 0.3293553\tbest: 0.3239943 (185)\ttotal: 1.39s\tremaining: 5.51s\n"
     ]
    },
    {
     "name": "stderr",
     "output_type": "stream",
     "text": [
      "\u001b[32m[I 2022-08-29 02:25:56,792]\u001b[0m Trial 6 finished with value: 0.49122807017543857 and parameters: {'learning_rate': 0.03750796359625606, 'bagging_temperature': 0.12172958098369972, 'n_estimators': 1000, 'max_depth': 14, 'random_strength': 36, 'colsample_bylevel': 0.01909565280104538, 'l2_leaf_reg': 1.6285455533915874e-05, 'min_child_samples': 18, 'max_bin': 441, 'od_type': 'Iter'}. Best is trial 5 with value: 0.5021929824561404.\u001b[0m\n"
     ]
    },
    {
     "name": "stdout",
     "output_type": "stream",
     "text": [
      "Stopped by overfitting detector  (35 iterations wait)\n",
      "\n",
      "bestTest = 0.3155723575\n",
      "bestIteration = 237\n",
      "\n",
      "Shrink model to first 238 iterations.\n"
     ]
    },
    {
     "name": "stderr",
     "output_type": "stream",
     "text": [
      "\u001b[32m[I 2022-08-29 02:25:57,175]\u001b[0m Trial 7 finished with value: 0.47368421052631576 and parameters: {'learning_rate': 0.13826083091896751, 'bagging_temperature': 0.06235377135673159, 'n_estimators': 1000, 'max_depth': 4, 'random_strength': 82, 'colsample_bylevel': 0.05091635945818555, 'l2_leaf_reg': 2.187292496954921e-05, 'min_child_samples': 79, 'max_bin': 222, 'od_type': 'IncToDec'}. Best is trial 5 with value: 0.5021929824561404.\u001b[0m\n"
     ]
    },
    {
     "name": "stdout",
     "output_type": "stream",
     "text": [
      "0:\tlearn: 0.6447127\ttest: 0.6447165\ttest1: 0.6211090\tbest: 0.6211090 (0)\ttotal: 1.82ms\tremaining: 1.82s\n",
      "Stopped by overfitting detector  (35 iterations wait)\n",
      "\n",
      "bestTest = 0.3611500303\n",
      "bestIteration = 31\n",
      "\n",
      "Shrink model to first 32 iterations.\n"
     ]
    },
    {
     "name": "stderr",
     "output_type": "stream",
     "text": [
      "\u001b[32m[I 2022-08-29 02:25:57,557]\u001b[0m Trial 8 finished with value: 0.5986842105263157 and parameters: {'learning_rate': 0.18832519048593593, 'bagging_temperature': 3.1130959561221245, 'n_estimators': 1000, 'max_depth': 8, 'random_strength': 6, 'colsample_bylevel': 0.020463613363481608, 'l2_leaf_reg': 9.762247827582143e-06, 'min_child_samples': 75, 'max_bin': 391, 'od_type': 'IncToDec'}. Best is trial 8 with value: 0.5986842105263157.\u001b[0m\n"
     ]
    },
    {
     "name": "stdout",
     "output_type": "stream",
     "text": [
      "0:\tlearn: 0.6208398\ttest: 0.6208606\ttest1: 0.5474205\tbest: 0.5474205 (0)\ttotal: 1.27ms\tremaining: 1.27s\n",
      "Stopped by overfitting detector  (35 iterations wait)\n",
      "\n",
      "bestTest = 0.3561231893\n",
      "bestIteration = 37\n",
      "\n",
      "Shrink model to first 38 iterations.\n",
      "0:\tlearn: 0.6514114\ttest: 0.6514387\ttest1: 0.6759013\tbest: 0.6759013 (0)\ttotal: 140ms\tremaining: 2m 20s\n"
     ]
    },
    {
     "name": "stderr",
     "output_type": "stream",
     "text": [
      "\u001b[32m[I 2022-08-29 02:26:07,069]\u001b[0m Trial 9 finished with value: 0.49122807017543857 and parameters: {'learning_rate': 0.015019490572374374, 'bagging_temperature': 7.128188058401368, 'n_estimators': 1000, 'max_depth': 13, 'random_strength': 56, 'colsample_bylevel': 0.05901564798023389, 'l2_leaf_reg': 1.4818929934968078e-05, 'min_child_samples': 55, 'max_bin': 328, 'od_type': 'Iter'}. Best is trial 8 with value: 0.5986842105263157.\u001b[0m\n"
     ]
    },
    {
     "name": "stdout",
     "output_type": "stream",
     "text": [
      "Stopped by overfitting detector  (35 iterations wait)\n",
      "\n",
      "bestTest = 0.3293455855\n",
      "bestIteration = 40\n",
      "\n",
      "Shrink model to first 41 iterations.\n",
      "Best Score: 0.5986842105263157\n",
      "Best trial {'learning_rate': 0.18832519048593593, 'bagging_temperature': 3.1130959561221245, 'n_estimators': 1000, 'max_depth': 8, 'random_strength': 6, 'colsample_bylevel': 0.020463613363481608, 'l2_leaf_reg': 9.762247827582143e-06, 'min_child_samples': 75, 'max_bin': 391, 'od_type': 'IncToDec'}\n"
     ]
    }
   ],
   "source": [
    "sampler = TPESampler(seed=42)\n",
    "\n",
    "study = optuna.create_study(\n",
    "    study_name = 'cat_parameter_opt',\n",
    "    direction = 'maximize',\n",
    "    sampler = sampler)\n",
    "\n",
    "study.optimize(objective2, n_trials=10)\n",
    "\n",
    "print(\"Best Score:\",study.best_value)\n",
    "print(\"Best trial\",study.best_trial.params)"
   ]
  },
  {
   "cell_type": "code",
   "execution_count": 58,
   "id": "bde13fe8",
   "metadata": {},
   "outputs": [
    {
     "name": "stdout",
     "output_type": "stream",
     "text": [
      "0:\tlearn: 0.6926854\ttest: 0.6926898\ttest1: 0.6917554\tbest: 0.6917554 (0)\ttotal: 1.48ms\tremaining: 1.48s\n",
      "Stopped by overfitting detector  (35 iterations wait)\n",
      "\n",
      "bestTest = 0.4045871851\n",
      "bestIteration = 17\n",
      "\n",
      "Shrink model to first 18 iterations.\n",
      "\n",
      "Confusion Matrix (Accuracy 0.8689)\n",
      "\n",
      "       Prediction\n",
      "Actual  0  1\n",
      "     0  0  4\n",
      "     1  4 53\n",
      "\n",
      "AUC: 0.4649122807017544\n"
     ]
    }
   ],
   "source": [
    "cat = CatBoostClassifier(**study.best_params)\n",
    "cat.fit(X_tr_over, y_tr_over,\n",
    "        eval_set=[(X_tr_over, y_tr_over), (X_val, y_val)],\n",
    "        early_stopping_rounds=35,\n",
    "        verbose=100)\n",
    "\n",
    "print()\n",
    "classificationSummary(y_val, cat.predict(X_val))\n",
    "print('\\nAUC:', roc_auc_score(y_val, cat.predict(X_val)))"
   ]
  },
  {
   "cell_type": "code",
   "execution_count": null,
   "id": "98be578d",
   "metadata": {},
   "outputs": [],
   "source": []
  },
  {
   "cell_type": "code",
   "execution_count": null,
   "id": "589531e5",
   "metadata": {},
   "outputs": [],
   "source": []
  },
  {
   "cell_type": "code",
   "execution_count": null,
   "id": "eefb0c24",
   "metadata": {},
   "outputs": [],
   "source": []
  },
  {
   "cell_type": "markdown",
   "id": "69c51abe",
   "metadata": {},
   "source": [
    "# 2) Train_lr"
   ]
  },
  {
   "cell_type": "code",
   "execution_count": 59,
   "id": "c5f91f5a",
   "metadata": {},
   "outputs": [],
   "source": [
    "X = train_lr.drop('OC', axis=1)\n",
    "y = train_lr['OC']"
   ]
  },
  {
   "cell_type": "markdown",
   "id": "17b7e626",
   "metadata": {},
   "source": [
    "### 1) accuracy 기준 튜닝"
   ]
  },
  {
   "cell_type": "code",
   "execution_count": 61,
   "id": "d336514f",
   "metadata": {},
   "outputs": [
    {
     "name": "stderr",
     "output_type": "stream",
     "text": [
      "\u001b[32m[I 2022-08-29 02:28:02,976]\u001b[0m A new study created in memory with name: cat_parameter_opt\u001b[0m\n",
      "\u001b[32m[I 2022-08-29 02:28:03,327]\u001b[0m Trial 0 finished with value: 0.8360655737704918 and parameters: {'learning_rate': 0.03574712922600244, 'bagging_temperature': 63.512210106407046, 'n_estimators': 1000, 'max_depth': 13, 'random_strength': 60, 'colsample_bylevel': 0.014322493718230255, 'l2_leaf_reg': 4.688275664882717e-06, 'min_child_samples': 10, 'max_bin': 460, 'od_type': 'Iter'}. Best is trial 0 with value: 0.8360655737704918.\u001b[0m\n"
     ]
    },
    {
     "name": "stdout",
     "output_type": "stream",
     "text": [
      "0:\tlearn: 0.6931464\ttest: 0.6931472\ttest1: 0.6931472\tbest: 0.6931472 (0)\ttotal: 647us\tremaining: 647ms\n",
      "100:\tlearn: 0.6386989\ttest: 0.6387319\ttest1: 0.6292737\tbest: 0.6267356 (91)\ttotal: 56.4ms\tremaining: 502ms\n",
      "Stopped by overfitting detector  (35 iterations wait)\n",
      "\n",
      "bestTest = 0.5620827876\n",
      "bestIteration = 139\n",
      "\n",
      "Shrink model to first 140 iterations.\n",
      "0:\tlearn: 0.6931464\ttest: 0.6931472\ttest1: 0.6931472\tbest: 0.6931472 (0)\ttotal: 591us\tremaining: 591ms\n",
      "100:\tlearn: 0.6368070\ttest: 0.6368373\ttest1: 0.6324273\tbest: 0.6322432 (99)\ttotal: 66.4ms\tremaining: 591ms\n",
      "200:\tlearn: 0.5852625\ttest: 0.5853071\ttest1: 0.5831538\tbest: 0.5825012 (192)\ttotal: 144ms\tremaining: 572ms\n"
     ]
    },
    {
     "name": "stderr",
     "output_type": "stream",
     "text": [
      "\u001b[32m[I 2022-08-29 02:28:03,973]\u001b[0m Trial 1 finished with value: 0.8360655737704918 and parameters: {'learning_rate': 0.010725209743171996, 'bagging_temperature': 75.7947995334801, 'n_estimators': 1000, 'max_depth': 14, 'random_strength': 21, 'colsample_bylevel': 0.015199348301309814, 'l2_leaf_reg': 5.51030125050448e-06, 'min_child_samples': 34, 'max_bin': 357, 'od_type': 'IncToDec'}. Best is trial 0 with value: 0.8360655737704918.\u001b[0m\n"
     ]
    },
    {
     "name": "stdout",
     "output_type": "stream",
     "text": [
      "300:\tlearn: 0.5382127\ttest: 0.5382513\ttest1: 0.5361721\tbest: 0.5350102 (292)\ttotal: 221ms\tremaining: 514ms\n",
      "Stopped by overfitting detector  (35 iterations wait)\n",
      "\n",
      "bestTest = 0.5205554758\n",
      "bestIteration = 351\n",
      "\n",
      "Shrink model to first 352 iterations.\n",
      "0:\tlearn: 0.6931464\ttest: 0.6931472\ttest1: 0.6931472\tbest: 0.6931472 (0)\ttotal: 574us\tremaining: 573ms\n",
      "100:\tlearn: 0.3449660\ttest: 0.3449910\ttest1: 0.4050287\tbest: 0.4048036 (99)\ttotal: 90.8ms\tremaining: 808ms\n"
     ]
    },
    {
     "name": "stderr",
     "output_type": "stream",
     "text": [
      "\u001b[32m[I 2022-08-29 02:28:04,475]\u001b[0m Trial 2 finished with value: 0.9180327868852459 and parameters: {'learning_rate': 0.08012737503998542, 'bagging_temperature': 0.03613894271216528, 'n_estimators': 1000, 'max_depth': 7, 'random_strength': 37, 'colsample_bylevel': 0.028580510658069373, 'l2_leaf_reg': 2.355742708217648e-05, 'min_child_samples': 24, 'max_bin': 354, 'od_type': 'IncToDec'}. Best is trial 2 with value: 0.9180327868852459.\u001b[0m\n"
     ]
    },
    {
     "name": "stdout",
     "output_type": "stream",
     "text": [
      "200:\tlearn: 0.0397408\ttest: 0.0397690\ttest1: 0.2536516\tbest: 0.2242996 (171)\ttotal: 189ms\tremaining: 750ms\n",
      "Stopped by overfitting detector  (35 iterations wait)\n",
      "\n",
      "bestTest = 0.2242995678\n",
      "bestIteration = 171\n",
      "\n",
      "Shrink model to first 172 iterations.\n"
     ]
    },
    {
     "name": "stderr",
     "output_type": "stream",
     "text": [
      "\u001b[32m[I 2022-08-29 02:28:04,843]\u001b[0m Trial 3 finished with value: 0.9180327868852459 and parameters: {'learning_rate': 0.07896186801026692, 'bagging_temperature': 0.04809461967501574, 'n_estimators': 1000, 'max_depth': 4, 'random_strength': 95, 'colsample_bylevel': 0.0923915031962725, 'l2_leaf_reg': 2.425383647001267e-05, 'min_child_samples': 34, 'max_bin': 229, 'od_type': 'IncToDec'}. Best is trial 2 with value: 0.9180327868852459.\u001b[0m\n"
     ]
    },
    {
     "name": "stdout",
     "output_type": "stream",
     "text": [
      "0:\tlearn: 0.6931464\ttest: 0.6931472\ttest1: 0.6931472\tbest: 0.6931472 (0)\ttotal: 949us\tremaining: 949ms\n",
      "Stopped by overfitting detector  (35 iterations wait)\n",
      "\n",
      "bestTest = 0.275100754\n",
      "bestIteration = 35\n",
      "\n",
      "Shrink model to first 36 iterations.\n",
      "0:\tlearn: 0.6931464\ttest: 0.6931472\ttest1: 0.6931472\tbest: 0.6931472 (0)\ttotal: 731us\tremaining: 731ms\n",
      "100:\tlearn: 0.6517799\ttest: 0.6518097\ttest1: 0.6475716\tbest: 0.6467175 (80)\ttotal: 62.2ms\tremaining: 554ms\n",
      "200:\tlearn: 0.5630743\ttest: 0.5631237\ttest1: 0.5578558\tbest: 0.5541939 (189)\ttotal: 135ms\tremaining: 537ms\n"
     ]
    },
    {
     "name": "stderr",
     "output_type": "stream",
     "text": [
      "\u001b[32m[I 2022-08-29 02:28:05,389]\u001b[0m Trial 4 finished with value: 0.8360655737704918 and parameters: {'learning_rate': 0.015144860262751412, 'bagging_temperature': 0.9565499215943827, 'n_estimators': 1000, 'max_depth': 4, 'random_strength': 91, 'colsample_bylevel': 0.01814596135349025, 'l2_leaf_reg': 1.987904330777592e-05, 'min_child_samples': 34, 'max_bin': 356, 'od_type': 'IncToDec'}. Best is trial 2 with value: 0.9180327868852459.\u001b[0m\n"
     ]
    },
    {
     "name": "stdout",
     "output_type": "stream",
     "text": [
      "300:\tlearn: 0.4962964\ttest: 0.4963317\ttest1: 0.5260707\tbest: 0.5243979 (294)\ttotal: 224ms\tremaining: 521ms\n",
      "Stopped by overfitting detector  (35 iterations wait)\n",
      "\n",
      "bestTest = 0.5224022491\n",
      "bestIteration = 302\n",
      "\n",
      "Shrink model to first 303 iterations.\n"
     ]
    },
    {
     "name": "stderr",
     "output_type": "stream",
     "text": [
      "\u001b[32m[I 2022-08-29 02:28:05,723]\u001b[0m Trial 5 finished with value: 0.8688524590163934 and parameters: {'learning_rate': 0.27051668818999286, 'bagging_temperature': 12.60466458564947, 'n_estimators': 1000, 'max_depth': 16, 'random_strength': 90, 'colsample_bylevel': 0.03961867790406585, 'l2_leaf_reg': 2.7657008308343274e-05, 'min_child_samples': 13, 'max_bin': 258, 'od_type': 'Iter'}. Best is trial 2 with value: 0.9180327868852459.\u001b[0m\n"
     ]
    },
    {
     "name": "stdout",
     "output_type": "stream",
     "text": [
      "0:\tlearn: 0.6931464\ttest: 0.6931472\ttest1: 0.6931472\tbest: 0.6931472 (0)\ttotal: 570us\tremaining: 570ms\n",
      "Stopped by overfitting detector  (35 iterations wait)\n",
      "\n",
      "bestTest = 0.3383232629\n",
      "bestIteration = 50\n",
      "\n",
      "Shrink model to first 51 iterations.\n"
     ]
    },
    {
     "name": "stderr",
     "output_type": "stream",
     "text": [
      "\u001b[32m[I 2022-08-29 02:28:05,988]\u001b[0m Trial 6 finished with value: 0.6229508196721312 and parameters: {'learning_rate': 0.03750796359625606, 'bagging_temperature': 0.12172958098369972, 'n_estimators': 1000, 'max_depth': 14, 'random_strength': 36, 'colsample_bylevel': 0.01909565280104538, 'l2_leaf_reg': 1.6285455533915874e-05, 'min_child_samples': 18, 'max_bin': 441, 'od_type': 'Iter'}. Best is trial 2 with value: 0.9180327868852459.\u001b[0m\n"
     ]
    },
    {
     "name": "stdout",
     "output_type": "stream",
     "text": [
      "0:\tlearn: 0.6931464\ttest: 0.6931472\ttest1: 0.6931472\tbest: 0.6931472 (0)\ttotal: 575us\tremaining: 575ms\n",
      "Stopped by overfitting detector  (35 iterations wait)\n",
      "\n",
      "bestTest = 0.5696117831\n",
      "bestIteration = 46\n",
      "\n",
      "Shrink model to first 47 iterations.\n",
      "0:\tlearn: 0.6931464\ttest: 0.6931472\ttest1: 0.6931472\tbest: 0.6931472 (0)\ttotal: 563us\tremaining: 563ms\n",
      "100:\tlearn: 0.0353034\ttest: 0.0353289\ttest1: 0.3064649\tbest: 0.2670948 (75)\ttotal: 131ms\tremaining: 1.17s\n",
      "Stopped by overfitting detector  (35 iterations wait)\n",
      "\n",
      "bestTest = 0.267094811\n",
      "bestIteration = 75\n"
     ]
    },
    {
     "name": "stderr",
     "output_type": "stream",
     "text": [
      "\u001b[32m[I 2022-08-29 02:28:06,384]\u001b[0m Trial 7 finished with value: 0.9180327868852459 and parameters: {'learning_rate': 0.13826083091896751, 'bagging_temperature': 0.06235377135673159, 'n_estimators': 1000, 'max_depth': 4, 'random_strength': 82, 'colsample_bylevel': 0.05091635945818555, 'l2_leaf_reg': 2.187292496954921e-05, 'min_child_samples': 79, 'max_bin': 222, 'od_type': 'IncToDec'}. Best is trial 2 with value: 0.9180327868852459.\u001b[0m\n"
     ]
    },
    {
     "name": "stdout",
     "output_type": "stream",
     "text": [
      "\n",
      "Shrink model to first 76 iterations.\n",
      "0:\tlearn: 0.6931464\ttest: 0.6931472\ttest1: 0.6931472\tbest: 0.6931472 (0)\ttotal: 807us\tremaining: 806ms\n"
     ]
    },
    {
     "name": "stderr",
     "output_type": "stream",
     "text": [
      "\u001b[32m[I 2022-08-29 02:28:06,790]\u001b[0m Trial 8 finished with value: 0.9016393442622951 and parameters: {'learning_rate': 0.18832519048593593, 'bagging_temperature': 3.1130959561221245, 'n_estimators': 1000, 'max_depth': 8, 'random_strength': 6, 'colsample_bylevel': 0.020463613363481608, 'l2_leaf_reg': 9.762247827582143e-06, 'min_child_samples': 75, 'max_bin': 391, 'od_type': 'IncToDec'}. Best is trial 2 with value: 0.9180327868852459.\u001b[0m\n"
     ]
    },
    {
     "name": "stdout",
     "output_type": "stream",
     "text": [
      "100:\tlearn: 0.1512638\ttest: 0.1513001\ttest1: 0.2982934\tbest: 0.2982934 (100)\ttotal: 104ms\tremaining: 927ms\n",
      "Stopped by overfitting detector  (35 iterations wait)\n",
      "\n",
      "bestTest = 0.2800631159\n",
      "bestIteration = 105\n",
      "\n",
      "Shrink model to first 106 iterations.\n",
      "0:\tlearn: 0.6931464\ttest: 0.6931472\ttest1: 0.6931472\tbest: 0.6931472 (0)\ttotal: 661us\tremaining: 660ms\n",
      "100:\tlearn: 0.1639834\ttest: 0.1640128\ttest1: 0.3133246\tbest: 0.3115347 (96)\ttotal: 1.26s\tremaining: 11.2s\n",
      "200:\tlearn: 0.0479668\ttest: 0.0480019\ttest1: 0.2866364\tbest: 0.2820036 (192)\ttotal: 2.78s\tremaining: 11.1s\n"
     ]
    },
    {
     "name": "stderr",
     "output_type": "stream",
     "text": [
      "\u001b[32m[I 2022-08-29 02:28:10,205]\u001b[0m Trial 9 finished with value: 0.9016393442622951 and parameters: {'learning_rate': 0.015019490572374374, 'bagging_temperature': 7.128188058401368, 'n_estimators': 1000, 'max_depth': 13, 'random_strength': 56, 'colsample_bylevel': 0.05901564798023389, 'l2_leaf_reg': 1.4818929934968078e-05, 'min_child_samples': 55, 'max_bin': 328, 'od_type': 'Iter'}. Best is trial 2 with value: 0.9180327868852459.\u001b[0m\n"
     ]
    },
    {
     "name": "stdout",
     "output_type": "stream",
     "text": [
      "Stopped by overfitting detector  (35 iterations wait)\n",
      "\n",
      "bestTest = 0.2820036275\n",
      "bestIteration = 192\n",
      "\n",
      "Shrink model to first 193 iterations.\n",
      "Best Score: 0.9180327868852459\n",
      "Best trial {'learning_rate': 0.08012737503998542, 'bagging_temperature': 0.03613894271216528, 'n_estimators': 1000, 'max_depth': 7, 'random_strength': 37, 'colsample_bylevel': 0.028580510658069373, 'l2_leaf_reg': 2.355742708217648e-05, 'min_child_samples': 24, 'max_bin': 354, 'od_type': 'IncToDec'}\n"
     ]
    }
   ],
   "source": [
    "sampler = TPESampler(seed=42)\n",
    "\n",
    "study = optuna.create_study(\n",
    "    study_name = 'cat_parameter_opt',\n",
    "    direction = 'maximize',\n",
    "    sampler = sampler)\n",
    "\n",
    "study.optimize(objective1, n_trials=10)\n",
    "\n",
    "print(\"Best Score:\",study.best_value)\n",
    "print(\"Best trial\",study.best_trial.params)"
   ]
  },
  {
   "cell_type": "code",
   "execution_count": 62,
   "id": "93018b6a",
   "metadata": {
    "scrolled": true
   },
   "outputs": [
    {
     "name": "stdout",
     "output_type": "stream",
     "text": [
      "0:\tlearn: 0.6322141\ttest: 0.6322349\ttest1: 0.6517800\tbest: 0.6517800 (0)\ttotal: 5.11ms\tremaining: 5.11s\n",
      "Stopped by overfitting detector  (35 iterations wait)\n",
      "\n",
      "bestTest = 0.4263870123\n",
      "bestIteration = 30\n",
      "\n",
      "Shrink model to first 31 iterations.\n",
      "\n",
      "Confusion Matrix (Accuracy 0.8852)\n",
      "\n",
      "       Prediction\n",
      "Actual  0  1\n",
      "     0  0  4\n",
      "     1  3 54\n",
      "\n",
      "AUC: 0.47368421052631576\n"
     ]
    }
   ],
   "source": [
    "cat = CatBoostClassifier(**study.best_params)\n",
    "cat.fit(X_tr_over, y_tr_over,\n",
    "        eval_set=[(X_tr_over, y_tr_over), (X_val, y_val)],\n",
    "        early_stopping_rounds=35,\n",
    "        verbose=100)\n",
    "\n",
    "print()\n",
    "classificationSummary(y_val, cat.predict(X_val))\n",
    "print('\\nAUC:', roc_auc_score(y_val, cat.predict(X_val)))"
   ]
  },
  {
   "cell_type": "markdown",
   "id": "b46c0f7e",
   "metadata": {},
   "source": [
    "### 2) AUC 기준 튜닝"
   ]
  },
  {
   "cell_type": "code",
   "execution_count": 65,
   "id": "d84e6c16",
   "metadata": {},
   "outputs": [
    {
     "name": "stderr",
     "output_type": "stream",
     "text": [
      "\u001b[32m[I 2022-08-29 02:29:12,318]\u001b[0m A new study created in memory with name: cat_parameter_opt\u001b[0m\n",
      "\u001b[32m[I 2022-08-29 02:29:12,702]\u001b[0m Trial 0 finished with value: 0.6798245614035088 and parameters: {'learning_rate': 0.03574712922600244, 'bagging_temperature': 63.512210106407046, 'n_estimators': 1000, 'max_depth': 13, 'random_strength': 60, 'colsample_bylevel': 0.014322493718230255, 'l2_leaf_reg': 4.688275664882717e-06, 'min_child_samples': 10, 'max_bin': 460, 'od_type': 'Iter'}. Best is trial 0 with value: 0.6798245614035088.\u001b[0m\n"
     ]
    },
    {
     "name": "stdout",
     "output_type": "stream",
     "text": [
      "0:\tlearn: 0.6931464\ttest: 0.6931472\ttest1: 0.6931472\tbest: 0.6931472 (0)\ttotal: 641us\tremaining: 640ms\n",
      "100:\tlearn: 0.6386989\ttest: 0.6387319\ttest1: 0.6292737\tbest: 0.6267356 (91)\ttotal: 66.4ms\tremaining: 591ms\n",
      "Stopped by overfitting detector  (35 iterations wait)\n",
      "\n",
      "bestTest = 0.5620827876\n",
      "bestIteration = 139\n",
      "\n",
      "Shrink model to first 140 iterations.\n",
      "0:\tlearn: 0.6931464\ttest: 0.6931472\ttest1: 0.6931472\tbest: 0.6931472 (0)\ttotal: 704us\tremaining: 704ms\n",
      "100:\tlearn: 0.6368070\ttest: 0.6368373\ttest1: 0.6324273\tbest: 0.6322432 (99)\ttotal: 69.8ms\tremaining: 621ms\n",
      "200:\tlearn: 0.5852625\ttest: 0.5853071\ttest1: 0.5831538\tbest: 0.5825012 (192)\ttotal: 140ms\tremaining: 555ms\n"
     ]
    },
    {
     "name": "stderr",
     "output_type": "stream",
     "text": [
      "\u001b[32m[I 2022-08-29 02:29:13,363]\u001b[0m Trial 1 finished with value: 0.6798245614035088 and parameters: {'learning_rate': 0.010725209743171996, 'bagging_temperature': 75.7947995334801, 'n_estimators': 1000, 'max_depth': 14, 'random_strength': 21, 'colsample_bylevel': 0.015199348301309814, 'l2_leaf_reg': 5.51030125050448e-06, 'min_child_samples': 34, 'max_bin': 357, 'od_type': 'IncToDec'}. Best is trial 0 with value: 0.6798245614035088.\u001b[0m\n"
     ]
    },
    {
     "name": "stdout",
     "output_type": "stream",
     "text": [
      "300:\tlearn: 0.5382127\ttest: 0.5382513\ttest1: 0.5361721\tbest: 0.5350102 (292)\ttotal: 212ms\tremaining: 492ms\n",
      "Stopped by overfitting detector  (35 iterations wait)\n",
      "\n",
      "bestTest = 0.5205554758\n",
      "bestIteration = 351\n",
      "\n",
      "Shrink model to first 352 iterations.\n",
      "0:\tlearn: 0.6931464\ttest: 0.6931472\ttest1: 0.6931472\tbest: 0.6931472 (0)\ttotal: 820us\tremaining: 820ms\n",
      "100:\tlearn: 0.3449660\ttest: 0.3449910\ttest1: 0.4050287\tbest: 0.4048036 (99)\ttotal: 124ms\tremaining: 1.1s\n"
     ]
    },
    {
     "name": "stderr",
     "output_type": "stream",
     "text": [
      "\u001b[32m[I 2022-08-29 02:29:13,957]\u001b[0m Trial 2 finished with value: 0.6074561403508771 and parameters: {'learning_rate': 0.08012737503998542, 'bagging_temperature': 0.03613894271216528, 'n_estimators': 1000, 'max_depth': 7, 'random_strength': 37, 'colsample_bylevel': 0.028580510658069373, 'l2_leaf_reg': 2.355742708217648e-05, 'min_child_samples': 24, 'max_bin': 354, 'od_type': 'IncToDec'}. Best is trial 0 with value: 0.6798245614035088.\u001b[0m\n"
     ]
    },
    {
     "name": "stdout",
     "output_type": "stream",
     "text": [
      "200:\tlearn: 0.0397408\ttest: 0.0397690\ttest1: 0.2536516\tbest: 0.2242996 (171)\ttotal: 254ms\tremaining: 1.01s\n",
      "Stopped by overfitting detector  (35 iterations wait)\n",
      "\n",
      "bestTest = 0.2242995678\n",
      "bestIteration = 171\n",
      "\n",
      "Shrink model to first 172 iterations.\n"
     ]
    },
    {
     "name": "stderr",
     "output_type": "stream",
     "text": [
      "\u001b[32m[I 2022-08-29 02:29:14,323]\u001b[0m Trial 3 finished with value: 0.7236842105263157 and parameters: {'learning_rate': 0.07896186801026692, 'bagging_temperature': 0.04809461967501574, 'n_estimators': 1000, 'max_depth': 4, 'random_strength': 95, 'colsample_bylevel': 0.0923915031962725, 'l2_leaf_reg': 2.425383647001267e-05, 'min_child_samples': 34, 'max_bin': 229, 'od_type': 'IncToDec'}. Best is trial 3 with value: 0.7236842105263157.\u001b[0m\n"
     ]
    },
    {
     "name": "stdout",
     "output_type": "stream",
     "text": [
      "0:\tlearn: 0.6931464\ttest: 0.6931472\ttest1: 0.6931472\tbest: 0.6931472 (0)\ttotal: 791us\tremaining: 791ms\n",
      "Stopped by overfitting detector  (35 iterations wait)\n",
      "\n",
      "bestTest = 0.275100754\n",
      "bestIteration = 35\n",
      "\n",
      "Shrink model to first 36 iterations.\n",
      "0:\tlearn: 0.6931464\ttest: 0.6931472\ttest1: 0.6931472\tbest: 0.6931472 (0)\ttotal: 866us\tremaining: 866ms\n",
      "100:\tlearn: 0.6517799\ttest: 0.6518097\ttest1: 0.6475716\tbest: 0.6467175 (80)\ttotal: 78.4ms\tremaining: 698ms\n"
     ]
    },
    {
     "name": "stderr",
     "output_type": "stream",
     "text": [
      "\u001b[32m[I 2022-08-29 02:29:14,970]\u001b[0m Trial 4 finished with value: 0.6798245614035088 and parameters: {'learning_rate': 0.015144860262751412, 'bagging_temperature': 0.9565499215943827, 'n_estimators': 1000, 'max_depth': 4, 'random_strength': 91, 'colsample_bylevel': 0.01814596135349025, 'l2_leaf_reg': 1.987904330777592e-05, 'min_child_samples': 34, 'max_bin': 356, 'od_type': 'IncToDec'}. Best is trial 3 with value: 0.7236842105263157.\u001b[0m\n"
     ]
    },
    {
     "name": "stdout",
     "output_type": "stream",
     "text": [
      "200:\tlearn: 0.5630743\ttest: 0.5631237\ttest1: 0.5578558\tbest: 0.5541939 (189)\ttotal: 174ms\tremaining: 690ms\n",
      "300:\tlearn: 0.4962964\ttest: 0.4963317\ttest1: 0.5260707\tbest: 0.5243979 (294)\ttotal: 265ms\tremaining: 615ms\n",
      "Stopped by overfitting detector  (35 iterations wait)\n",
      "\n",
      "bestTest = 0.5224022491\n",
      "bestIteration = 302\n",
      "\n",
      "Shrink model to first 303 iterations.\n"
     ]
    },
    {
     "name": "stderr",
     "output_type": "stream",
     "text": [
      "\u001b[32m[I 2022-08-29 02:29:15,326]\u001b[0m Trial 5 finished with value: 0.4649122807017544 and parameters: {'learning_rate': 0.27051668818999286, 'bagging_temperature': 12.60466458564947, 'n_estimators': 1000, 'max_depth': 16, 'random_strength': 90, 'colsample_bylevel': 0.03961867790406585, 'l2_leaf_reg': 2.7657008308343274e-05, 'min_child_samples': 13, 'max_bin': 258, 'od_type': 'Iter'}. Best is trial 3 with value: 0.7236842105263157.\u001b[0m\n"
     ]
    },
    {
     "name": "stdout",
     "output_type": "stream",
     "text": [
      "0:\tlearn: 0.6931464\ttest: 0.6931472\ttest1: 0.6931472\tbest: 0.6931472 (0)\ttotal: 684us\tremaining: 684ms\n",
      "Stopped by overfitting detector  (35 iterations wait)\n",
      "\n",
      "bestTest = 0.3383232629\n",
      "bestIteration = 50\n",
      "\n",
      "Shrink model to first 51 iterations.\n"
     ]
    },
    {
     "name": "stderr",
     "output_type": "stream",
     "text": [
      "\u001b[32m[I 2022-08-29 02:29:15,641]\u001b[0m Trial 6 finished with value: 0.5657894736842105 and parameters: {'learning_rate': 0.03750796359625606, 'bagging_temperature': 0.12172958098369972, 'n_estimators': 1000, 'max_depth': 14, 'random_strength': 36, 'colsample_bylevel': 0.01909565280104538, 'l2_leaf_reg': 1.6285455533915874e-05, 'min_child_samples': 18, 'max_bin': 441, 'od_type': 'Iter'}. Best is trial 3 with value: 0.7236842105263157.\u001b[0m\n"
     ]
    },
    {
     "name": "stdout",
     "output_type": "stream",
     "text": [
      "0:\tlearn: 0.6931464\ttest: 0.6931472\ttest1: 0.6931472\tbest: 0.6931472 (0)\ttotal: 913us\tremaining: 913ms\n",
      "Stopped by overfitting detector  (35 iterations wait)\n",
      "\n",
      "bestTest = 0.5696117831\n",
      "bestIteration = 46\n",
      "\n",
      "Shrink model to first 47 iterations.\n",
      "0:\tlearn: 0.6931464\ttest: 0.6931472\ttest1: 0.6931472\tbest: 0.6931472 (0)\ttotal: 667us\tremaining: 667ms\n",
      "100:\tlearn: 0.0353034\ttest: 0.0353289\ttest1: 0.3064649\tbest: 0.2670948 (75)\ttotal: 163ms\tremaining: 1.45s\n"
     ]
    },
    {
     "name": "stderr",
     "output_type": "stream",
     "text": [
      "\u001b[32m[I 2022-08-29 02:29:16,119]\u001b[0m Trial 7 finished with value: 0.7236842105263157 and parameters: {'learning_rate': 0.13826083091896751, 'bagging_temperature': 0.06235377135673159, 'n_estimators': 1000, 'max_depth': 4, 'random_strength': 82, 'colsample_bylevel': 0.05091635945818555, 'l2_leaf_reg': 2.187292496954921e-05, 'min_child_samples': 79, 'max_bin': 222, 'od_type': 'IncToDec'}. Best is trial 3 with value: 0.7236842105263157.\u001b[0m\n"
     ]
    },
    {
     "name": "stdout",
     "output_type": "stream",
     "text": [
      "Stopped by overfitting detector  (35 iterations wait)\n",
      "\n",
      "bestTest = 0.267094811\n",
      "bestIteration = 75\n",
      "\n",
      "Shrink model to first 76 iterations.\n"
     ]
    },
    {
     "name": "stderr",
     "output_type": "stream",
     "text": [
      "\u001b[32m[I 2022-08-29 02:29:16,482]\u001b[0m Trial 8 finished with value: 0.5986842105263157 and parameters: {'learning_rate': 0.18832519048593593, 'bagging_temperature': 3.1130959561221245, 'n_estimators': 1000, 'max_depth': 8, 'random_strength': 6, 'colsample_bylevel': 0.020463613363481608, 'l2_leaf_reg': 9.762247827582143e-06, 'min_child_samples': 75, 'max_bin': 391, 'od_type': 'IncToDec'}. Best is trial 3 with value: 0.7236842105263157.\u001b[0m\n"
     ]
    },
    {
     "name": "stdout",
     "output_type": "stream",
     "text": [
      "0:\tlearn: 0.6931464\ttest: 0.6931472\ttest1: 0.6931472\tbest: 0.6931472 (0)\ttotal: 755us\tremaining: 755ms\n",
      "100:\tlearn: 0.1512638\ttest: 0.1513001\ttest1: 0.2982934\tbest: 0.2982934 (100)\ttotal: 77.3ms\tremaining: 688ms\n",
      "Stopped by overfitting detector  (35 iterations wait)\n",
      "\n",
      "bestTest = 0.2800631159\n",
      "bestIteration = 105\n",
      "\n",
      "Shrink model to first 106 iterations.\n",
      "0:\tlearn: 0.6931464\ttest: 0.6931472\ttest1: 0.6931472\tbest: 0.6931472 (0)\ttotal: 553us\tremaining: 553ms\n",
      "100:\tlearn: 0.1639834\ttest: 0.1640128\ttest1: 0.3133246\tbest: 0.3115347 (96)\ttotal: 1.27s\tremaining: 11.3s\n",
      "200:\tlearn: 0.0479668\ttest: 0.0480019\ttest1: 0.2866364\tbest: 0.2820036 (192)\ttotal: 2.77s\tremaining: 11s\n"
     ]
    },
    {
     "name": "stderr",
     "output_type": "stream",
     "text": [
      "\u001b[32m[I 2022-08-29 02:29:19,814]\u001b[0m Trial 9 finished with value: 0.4824561403508772 and parameters: {'learning_rate': 0.015019490572374374, 'bagging_temperature': 7.128188058401368, 'n_estimators': 1000, 'max_depth': 13, 'random_strength': 56, 'colsample_bylevel': 0.05901564798023389, 'l2_leaf_reg': 1.4818929934968078e-05, 'min_child_samples': 55, 'max_bin': 328, 'od_type': 'Iter'}. Best is trial 3 with value: 0.7236842105263157.\u001b[0m\n"
     ]
    },
    {
     "name": "stdout",
     "output_type": "stream",
     "text": [
      "Stopped by overfitting detector  (35 iterations wait)\n",
      "\n",
      "bestTest = 0.2820036275\n",
      "bestIteration = 192\n",
      "\n",
      "Shrink model to first 193 iterations.\n",
      "Best Score: 0.7236842105263157\n",
      "Best trial {'learning_rate': 0.07896186801026692, 'bagging_temperature': 0.04809461967501574, 'n_estimators': 1000, 'max_depth': 4, 'random_strength': 95, 'colsample_bylevel': 0.0923915031962725, 'l2_leaf_reg': 2.425383647001267e-05, 'min_child_samples': 34, 'max_bin': 229, 'od_type': 'IncToDec'}\n"
     ]
    }
   ],
   "source": [
    "sampler = TPESampler(seed=42)\n",
    "\n",
    "study = optuna.create_study(\n",
    "    study_name = 'cat_parameter_opt',\n",
    "    direction = 'maximize',\n",
    "    sampler = sampler)\n",
    "\n",
    "study.optimize(objective2, n_trials=10)\n",
    "\n",
    "print(\"Best Score:\",study.best_value)\n",
    "print(\"Best trial\",study.best_trial.params)"
   ]
  },
  {
   "cell_type": "code",
   "execution_count": 66,
   "id": "b80a1909",
   "metadata": {},
   "outputs": [
    {
     "name": "stdout",
     "output_type": "stream",
     "text": [
      "0:\tlearn: 0.6516007\ttest: 0.6516079\ttest1: 0.6769923\tbest: 0.6769923 (0)\ttotal: 1.97ms\tremaining: 1.97s\n",
      "Stopped by overfitting detector  (35 iterations wait)\n",
      "\n",
      "bestTest = 0.3483835881\n",
      "bestIteration = 21\n",
      "\n",
      "Shrink model to first 22 iterations.\n",
      "\n",
      "Confusion Matrix (Accuracy 0.8525)\n",
      "\n",
      "       Prediction\n",
      "Actual  0  1\n",
      "     0  1  3\n",
      "     1  6 51\n",
      "\n",
      "AUC: 0.5723684210526316\n"
     ]
    }
   ],
   "source": [
    "cat = CatBoostClassifier(**study.best_params)\n",
    "cat.fit(X_tr_over, y_tr_over,\n",
    "        eval_set=[(X_tr_over, y_tr_over), (X_val, y_val)],\n",
    "        early_stopping_rounds=35,\n",
    "        verbose=100)\n",
    "\n",
    "print()\n",
    "classificationSummary(y_val, cat.predict(X_val))\n",
    "print('\\nAUC:', roc_auc_score(y_val, cat.predict(X_val)))"
   ]
  },
  {
   "cell_type": "markdown",
   "id": "5d047216",
   "metadata": {},
   "source": [
    "# 3) Train_dt"
   ]
  },
  {
   "cell_type": "code",
   "execution_count": 69,
   "id": "15e643f3",
   "metadata": {},
   "outputs": [],
   "source": [
    "X = train_dt.drop('OC', axis=1)\n",
    "y = train_dt['OC']"
   ]
  },
  {
   "cell_type": "markdown",
   "id": "1788f323",
   "metadata": {},
   "source": [
    "### 1) accuracy 기준"
   ]
  },
  {
   "cell_type": "code",
   "execution_count": 72,
   "id": "31243b2f",
   "metadata": {},
   "outputs": [
    {
     "name": "stderr",
     "output_type": "stream",
     "text": [
      "\u001b[32m[I 2022-08-29 02:31:34,990]\u001b[0m A new study created in memory with name: cat_parameter_opt\u001b[0m\n",
      "\u001b[32m[I 2022-08-29 02:31:35,324]\u001b[0m Trial 0 finished with value: 0.45901639344262296 and parameters: {'learning_rate': 0.03574712922600244, 'bagging_temperature': 63.512210106407046, 'n_estimators': 1000, 'max_depth': 13, 'random_strength': 60, 'colsample_bylevel': 0.014322493718230255, 'l2_leaf_reg': 4.688275664882717e-06, 'min_child_samples': 10, 'max_bin': 460, 'od_type': 'Iter'}. Best is trial 0 with value: 0.45901639344262296.\u001b[0m\n"
     ]
    },
    {
     "name": "stdout",
     "output_type": "stream",
     "text": [
      "0:\tlearn: 0.6931464\ttest: 0.6931472\ttest1: 0.6931472\tbest: 0.6931472 (0)\ttotal: 560us\tremaining: 560ms\n",
      "100:\tlearn: 0.6601862\ttest: 0.6602051\ttest1: 0.6759648\tbest: 0.6752585 (95)\ttotal: 55ms\tremaining: 489ms\n",
      "Stopped by overfitting detector  (35 iterations wait)\n",
      "\n",
      "bestTest = 0.6722004338\n",
      "bestIteration = 120\n",
      "\n",
      "Shrink model to first 121 iterations.\n"
     ]
    },
    {
     "name": "stderr",
     "output_type": "stream",
     "text": [
      "\u001b[32m[I 2022-08-29 02:31:35,612]\u001b[0m Trial 1 finished with value: 0.7377049180327869 and parameters: {'learning_rate': 0.010725209743171996, 'bagging_temperature': 75.7947995334801, 'n_estimators': 1000, 'max_depth': 14, 'random_strength': 21, 'colsample_bylevel': 0.015199348301309814, 'l2_leaf_reg': 5.51030125050448e-06, 'min_child_samples': 34, 'max_bin': 357, 'od_type': 'IncToDec'}. Best is trial 1 with value: 0.7377049180327869.\u001b[0m\n"
     ]
    },
    {
     "name": "stdout",
     "output_type": "stream",
     "text": [
      "0:\tlearn: 0.6931464\ttest: 0.6931472\ttest1: 0.6931472\tbest: 0.6931472 (0)\ttotal: 670us\tremaining: 670ms\n",
      "Stopped by overfitting detector  (35 iterations wait)\n",
      "\n",
      "bestTest = 0.6923058372\n",
      "bestIteration = 45\n",
      "\n",
      "Shrink model to first 46 iterations.\n",
      "0:\tlearn: 0.6931464\ttest: 0.6931472\ttest1: 0.6931472\tbest: 0.6931472 (0)\ttotal: 1.16ms\tremaining: 1.16s\n",
      "100:\tlearn: 0.5337948\ttest: 0.5338160\ttest1: 0.5786219\tbest: 0.5721180 (85)\ttotal: 87.2ms\tremaining: 776ms\n",
      "Stopped by overfitting detector  (35 iterations wait)\n",
      "\n",
      "bestTest = 0.4901044457\n",
      "bestIteration = 132\n"
     ]
    },
    {
     "name": "stderr",
     "output_type": "stream",
     "text": [
      "\u001b[32m[I 2022-08-29 02:31:36,020]\u001b[0m Trial 2 finished with value: 0.9016393442622951 and parameters: {'learning_rate': 0.08012737503998542, 'bagging_temperature': 0.03613894271216528, 'n_estimators': 1000, 'max_depth': 7, 'random_strength': 37, 'colsample_bylevel': 0.028580510658069373, 'l2_leaf_reg': 2.355742708217648e-05, 'min_child_samples': 24, 'max_bin': 354, 'od_type': 'IncToDec'}. Best is trial 2 with value: 0.9016393442622951.\u001b[0m\n"
     ]
    },
    {
     "name": "stdout",
     "output_type": "stream",
     "text": [
      "\n",
      "Shrink model to first 133 iterations.\n"
     ]
    },
    {
     "name": "stderr",
     "output_type": "stream",
     "text": [
      "\u001b[32m[I 2022-08-29 02:31:36,350]\u001b[0m Trial 3 finished with value: 0.6721311475409836 and parameters: {'learning_rate': 0.07896186801026692, 'bagging_temperature': 0.04809461967501574, 'n_estimators': 1000, 'max_depth': 4, 'random_strength': 95, 'colsample_bylevel': 0.0923915031962725, 'l2_leaf_reg': 2.425383647001267e-05, 'min_child_samples': 34, 'max_bin': 229, 'od_type': 'IncToDec'}. Best is trial 2 with value: 0.9016393442622951.\u001b[0m\n"
     ]
    },
    {
     "name": "stdout",
     "output_type": "stream",
     "text": [
      "0:\tlearn: 0.6931464\ttest: 0.6931472\ttest1: 0.6931472\tbest: 0.6931472 (0)\ttotal: 712us\tremaining: 712ms\n",
      "Stopped by overfitting detector  (35 iterations wait)\n",
      "\n",
      "bestTest = 0.5733120268\n",
      "bestIteration = 30\n",
      "\n",
      "Shrink model to first 31 iterations.\n"
     ]
    },
    {
     "name": "stderr",
     "output_type": "stream",
     "text": [
      "\u001b[32m[I 2022-08-29 02:31:36,570]\u001b[0m Trial 4 finished with value: 0.06557377049180328 and parameters: {'learning_rate': 0.015144860262751412, 'bagging_temperature': 0.9565499215943827, 'n_estimators': 1000, 'max_depth': 4, 'random_strength': 91, 'colsample_bylevel': 0.01814596135349025, 'l2_leaf_reg': 1.987904330777592e-05, 'min_child_samples': 34, 'max_bin': 356, 'od_type': 'IncToDec'}. Best is trial 2 with value: 0.9016393442622951.\u001b[0m\n"
     ]
    },
    {
     "name": "stdout",
     "output_type": "stream",
     "text": [
      "0:\tlearn: 0.6931464\ttest: 0.6931472\ttest1: 0.6931472\tbest: 0.6931472 (0)\ttotal: 624us\tremaining: 624ms\n",
      "Stopped by overfitting detector  (35 iterations wait)\n",
      "\n",
      "bestTest = 0.6931471806\n",
      "bestIteration = 0\n",
      "\n",
      "Shrink model to first 1 iterations.\n"
     ]
    },
    {
     "name": "stderr",
     "output_type": "stream",
     "text": [
      "\u001b[32m[I 2022-08-29 02:31:36,872]\u001b[0m Trial 5 finished with value: 0.9344262295081968 and parameters: {'learning_rate': 0.27051668818999286, 'bagging_temperature': 12.60466458564947, 'n_estimators': 1000, 'max_depth': 16, 'random_strength': 90, 'colsample_bylevel': 0.03961867790406585, 'l2_leaf_reg': 2.7657008308343274e-05, 'min_child_samples': 13, 'max_bin': 258, 'od_type': 'Iter'}. Best is trial 5 with value: 0.9344262295081968.\u001b[0m\n"
     ]
    },
    {
     "name": "stdout",
     "output_type": "stream",
     "text": [
      "0:\tlearn: 0.6931464\ttest: 0.6931472\ttest1: 0.6931472\tbest: 0.6931472 (0)\ttotal: 624us\tremaining: 623ms\n",
      "100:\tlearn: 0.0720763\ttest: 0.0720924\ttest1: 0.5963969\tbest: 0.4746593 (70)\ttotal: 74.9ms\tremaining: 667ms\n",
      "Stopped by overfitting detector  (35 iterations wait)\n",
      "\n",
      "bestTest = 0.474659256\n",
      "bestIteration = 70\n",
      "\n",
      "Shrink model to first 71 iterations.\n"
     ]
    },
    {
     "name": "stderr",
     "output_type": "stream",
     "text": [
      "\u001b[32m[I 2022-08-29 02:31:37,093]\u001b[0m Trial 6 finished with value: 0.5245901639344263 and parameters: {'learning_rate': 0.03750796359625606, 'bagging_temperature': 0.12172958098369972, 'n_estimators': 1000, 'max_depth': 14, 'random_strength': 36, 'colsample_bylevel': 0.01909565280104538, 'l2_leaf_reg': 1.6285455533915874e-05, 'min_child_samples': 18, 'max_bin': 441, 'od_type': 'Iter'}. Best is trial 5 with value: 0.9344262295081968.\u001b[0m\n"
     ]
    },
    {
     "name": "stdout",
     "output_type": "stream",
     "text": [
      "0:\tlearn: 0.6931464\ttest: 0.6931472\ttest1: 0.6931472\tbest: 0.6931472 (0)\ttotal: 733us\tremaining: 733ms\n",
      "Stopped by overfitting detector  (35 iterations wait)\n",
      "\n",
      "bestTest = 0.6628300807\n",
      "bestIteration = 12\n",
      "\n",
      "Shrink model to first 13 iterations.\n"
     ]
    },
    {
     "name": "stderr",
     "output_type": "stream",
     "text": [
      "\u001b[32m[I 2022-08-29 02:31:37,335]\u001b[0m Trial 7 finished with value: 0.7704918032786885 and parameters: {'learning_rate': 0.13826083091896751, 'bagging_temperature': 0.06235377135673159, 'n_estimators': 1000, 'max_depth': 4, 'random_strength': 82, 'colsample_bylevel': 0.05091635945818555, 'l2_leaf_reg': 2.187292496954921e-05, 'min_child_samples': 79, 'max_bin': 222, 'od_type': 'IncToDec'}. Best is trial 5 with value: 0.9344262295081968.\u001b[0m\n"
     ]
    },
    {
     "name": "stdout",
     "output_type": "stream",
     "text": [
      "0:\tlearn: 0.6931464\ttest: 0.6931472\ttest1: 0.6931472\tbest: 0.6931472 (0)\ttotal: 644us\tremaining: 644ms\n",
      "Stopped by overfitting detector  (35 iterations wait)\n",
      "\n",
      "bestTest = 0.6521068126\n",
      "bestIteration = 12\n",
      "\n",
      "Shrink model to first 13 iterations.\n"
     ]
    },
    {
     "name": "stderr",
     "output_type": "stream",
     "text": [
      "\u001b[32m[I 2022-08-29 02:31:37,683]\u001b[0m Trial 8 finished with value: 0.7540983606557377 and parameters: {'learning_rate': 0.18832519048593593, 'bagging_temperature': 3.1130959561221245, 'n_estimators': 1000, 'max_depth': 8, 'random_strength': 6, 'colsample_bylevel': 0.020463613363481608, 'l2_leaf_reg': 9.762247827582143e-06, 'min_child_samples': 75, 'max_bin': 391, 'od_type': 'IncToDec'}. Best is trial 5 with value: 0.9344262295081968.\u001b[0m\n"
     ]
    },
    {
     "name": "stdout",
     "output_type": "stream",
     "text": [
      "0:\tlearn: 0.6931464\ttest: 0.6931472\ttest1: 0.6931472\tbest: 0.6931472 (0)\ttotal: 659us\tremaining: 659ms\n",
      "100:\tlearn: 0.3374654\ttest: 0.3374837\ttest1: 0.4926306\tbest: 0.4709431 (96)\ttotal: 76.1ms\tremaining: 678ms\n",
      "Stopped by overfitting detector  (35 iterations wait)\n",
      "\n",
      "bestTest = 0.4709430723\n",
      "bestIteration = 96\n",
      "\n",
      "Shrink model to first 97 iterations.\n",
      "0:\tlearn: 0.6931464\ttest: 0.6931472\ttest1: 0.6931472\tbest: 0.6931472 (0)\ttotal: 506us\tremaining: 506ms\n",
      "100:\tlearn: 0.5320434\ttest: 0.5320777\ttest1: 0.5711520\tbest: 0.5711520 (100)\ttotal: 83.8ms\tremaining: 746ms\n",
      "200:\tlearn: 0.4638949\ttest: 0.4639259\ttest1: 0.5471357\tbest: 0.5452097 (193)\ttotal: 159ms\tremaining: 633ms\n"
     ]
    },
    {
     "name": "stderr",
     "output_type": "stream",
     "text": [
      "\u001b[32m[I 2022-08-29 02:31:38,188]\u001b[0m Trial 9 finished with value: 0.8524590163934426 and parameters: {'learning_rate': 0.015019490572374374, 'bagging_temperature': 7.128188058401368, 'n_estimators': 1000, 'max_depth': 13, 'random_strength': 56, 'colsample_bylevel': 0.05901564798023389, 'l2_leaf_reg': 1.4818929934968078e-05, 'min_child_samples': 55, 'max_bin': 328, 'od_type': 'Iter'}. Best is trial 5 with value: 0.9344262295081968.\u001b[0m\n"
     ]
    },
    {
     "name": "stdout",
     "output_type": "stream",
     "text": [
      "Stopped by overfitting detector  (35 iterations wait)\n",
      "\n",
      "bestTest = 0.5276831411\n",
      "bestIteration = 236\n",
      "\n",
      "Shrink model to first 237 iterations.\n",
      "Best Score: 0.9344262295081968\n",
      "Best trial {'learning_rate': 0.27051668818999286, 'bagging_temperature': 12.60466458564947, 'n_estimators': 1000, 'max_depth': 16, 'random_strength': 90, 'colsample_bylevel': 0.03961867790406585, 'l2_leaf_reg': 2.7657008308343274e-05, 'min_child_samples': 13, 'max_bin': 258, 'od_type': 'Iter'}\n"
     ]
    }
   ],
   "source": [
    "sampler = TPESampler(seed=42)\n",
    "\n",
    "study = optuna.create_study(\n",
    "    study_name = 'cat_parameter_opt',\n",
    "    direction = 'maximize',\n",
    "    sampler = sampler)\n",
    "\n",
    "study.optimize(objective1, n_trials=10)\n",
    "\n",
    "print(\"Best Score:\",study.best_value)\n",
    "print(\"Best trial\",study.best_trial.params)"
   ]
  },
  {
   "cell_type": "code",
   "execution_count": 73,
   "id": "a0defa31",
   "metadata": {
    "scrolled": true
   },
   "outputs": [
    {
     "name": "stdout",
     "output_type": "stream",
     "text": [
      "0:\tlearn: 0.4215680\ttest: 0.4216015\ttest1: 0.5598141\tbest: 0.5598141 (0)\ttotal: 50.5ms\tremaining: 50.4s\n",
      "Stopped by overfitting detector  (35 iterations wait)\n",
      "\n",
      "bestTest = 0.3980716115\n",
      "bestIteration = 2\n",
      "\n",
      "Shrink model to first 3 iterations.\n",
      "\n",
      "Confusion Matrix (Accuracy 0.8033)\n",
      "\n",
      "       Prediction\n",
      "Actual  0  1\n",
      "     0  2  2\n",
      "     1 10 47\n",
      "\n",
      "AUC: 0.6622807017543859\n"
     ]
    }
   ],
   "source": [
    "cat = CatBoostClassifier(**study.best_params)\n",
    "cat.fit(X_tr_over, y_tr_over,\n",
    "        eval_set=[(X_tr_over, y_tr_over), (X_val, y_val)],\n",
    "        early_stopping_rounds=35,\n",
    "        verbose=100)\n",
    "\n",
    "print()\n",
    "classificationSummary(y_val, cat.predict(X_val))\n",
    "print('\\nAUC:', roc_auc_score(y_val, cat.predict(X_val)))"
   ]
  },
  {
   "cell_type": "markdown",
   "id": "f9f73c3b",
   "metadata": {},
   "source": [
    "### 2) AUC 기준"
   ]
  },
  {
   "cell_type": "code",
   "execution_count": 74,
   "id": "fead3ef9",
   "metadata": {},
   "outputs": [
    {
     "name": "stderr",
     "output_type": "stream",
     "text": [
      "\u001b[32m[I 2022-08-29 02:32:16,763]\u001b[0m A new study created in memory with name: cat_parameter_opt\u001b[0m\n",
      "\u001b[32m[I 2022-08-29 02:32:17,078]\u001b[0m Trial 0 finished with value: 0.47807017543859653 and parameters: {'learning_rate': 0.03574712922600244, 'bagging_temperature': 63.512210106407046, 'n_estimators': 1000, 'max_depth': 13, 'random_strength': 60, 'colsample_bylevel': 0.014322493718230255, 'l2_leaf_reg': 4.688275664882717e-06, 'min_child_samples': 10, 'max_bin': 460, 'od_type': 'Iter'}. Best is trial 0 with value: 0.47807017543859653.\u001b[0m\n"
     ]
    },
    {
     "name": "stdout",
     "output_type": "stream",
     "text": [
      "0:\tlearn: 0.6931464\ttest: 0.6931472\ttest1: 0.6931472\tbest: 0.6931472 (0)\ttotal: 562us\tremaining: 561ms\n",
      "100:\tlearn: 0.6601862\ttest: 0.6602051\ttest1: 0.6759648\tbest: 0.6752585 (95)\ttotal: 52.4ms\tremaining: 467ms\n",
      "Stopped by overfitting detector  (35 iterations wait)\n",
      "\n",
      "bestTest = 0.6722004338\n",
      "bestIteration = 120\n",
      "\n",
      "Shrink model to first 121 iterations.\n"
     ]
    },
    {
     "name": "stderr",
     "output_type": "stream",
     "text": [
      "\u001b[32m[I 2022-08-29 02:32:17,359]\u001b[0m Trial 1 finished with value: 0.5109649122807017 and parameters: {'learning_rate': 0.010725209743171996, 'bagging_temperature': 75.7947995334801, 'n_estimators': 1000, 'max_depth': 14, 'random_strength': 21, 'colsample_bylevel': 0.015199348301309814, 'l2_leaf_reg': 5.51030125050448e-06, 'min_child_samples': 34, 'max_bin': 357, 'od_type': 'IncToDec'}. Best is trial 1 with value: 0.5109649122807017.\u001b[0m\n"
     ]
    },
    {
     "name": "stdout",
     "output_type": "stream",
     "text": [
      "0:\tlearn: 0.6931464\ttest: 0.6931472\ttest1: 0.6931472\tbest: 0.6931472 (0)\ttotal: 606us\tremaining: 605ms\n",
      "Stopped by overfitting detector  (35 iterations wait)\n",
      "\n",
      "bestTest = 0.6923058372\n",
      "bestIteration = 45\n",
      "\n",
      "Shrink model to first 46 iterations.\n"
     ]
    },
    {
     "name": "stderr",
     "output_type": "stream",
     "text": [
      "\u001b[32m[I 2022-08-29 02:32:17,762]\u001b[0m Trial 2 finished with value: 0.5986842105263157 and parameters: {'learning_rate': 0.08012737503998542, 'bagging_temperature': 0.03613894271216528, 'n_estimators': 1000, 'max_depth': 7, 'random_strength': 37, 'colsample_bylevel': 0.028580510658069373, 'l2_leaf_reg': 2.355742708217648e-05, 'min_child_samples': 24, 'max_bin': 354, 'od_type': 'IncToDec'}. Best is trial 2 with value: 0.5986842105263157.\u001b[0m\n"
     ]
    },
    {
     "name": "stdout",
     "output_type": "stream",
     "text": [
      "0:\tlearn: 0.6931464\ttest: 0.6931472\ttest1: 0.6931472\tbest: 0.6931472 (0)\ttotal: 679us\tremaining: 679ms\n",
      "100:\tlearn: 0.5337948\ttest: 0.5338160\ttest1: 0.5786219\tbest: 0.5721180 (85)\ttotal: 69.5ms\tremaining: 618ms\n",
      "Stopped by overfitting detector  (35 iterations wait)\n",
      "\n",
      "bestTest = 0.4901044457\n",
      "bestIteration = 132\n",
      "\n",
      "Shrink model to first 133 iterations.\n"
     ]
    },
    {
     "name": "stderr",
     "output_type": "stream",
     "text": [
      "\u001b[32m[I 2022-08-29 02:32:18,092]\u001b[0m Trial 3 finished with value: 0.4758771929824561 and parameters: {'learning_rate': 0.07896186801026692, 'bagging_temperature': 0.04809461967501574, 'n_estimators': 1000, 'max_depth': 4, 'random_strength': 95, 'colsample_bylevel': 0.0923915031962725, 'l2_leaf_reg': 2.425383647001267e-05, 'min_child_samples': 34, 'max_bin': 229, 'od_type': 'IncToDec'}. Best is trial 2 with value: 0.5986842105263157.\u001b[0m\n"
     ]
    },
    {
     "name": "stdout",
     "output_type": "stream",
     "text": [
      "0:\tlearn: 0.6931464\ttest: 0.6931472\ttest1: 0.6931472\tbest: 0.6931472 (0)\ttotal: 578us\tremaining: 578ms\n",
      "Stopped by overfitting detector  (35 iterations wait)\n",
      "\n",
      "bestTest = 0.5733120268\n",
      "bestIteration = 30\n",
      "\n",
      "Shrink model to first 31 iterations.\n"
     ]
    },
    {
     "name": "stderr",
     "output_type": "stream",
     "text": [
      "\u001b[32m[I 2022-08-29 02:32:18,343]\u001b[0m Trial 4 finished with value: 0.5 and parameters: {'learning_rate': 0.015144860262751412, 'bagging_temperature': 0.9565499215943827, 'n_estimators': 1000, 'max_depth': 4, 'random_strength': 91, 'colsample_bylevel': 0.01814596135349025, 'l2_leaf_reg': 1.987904330777592e-05, 'min_child_samples': 34, 'max_bin': 356, 'od_type': 'IncToDec'}. Best is trial 2 with value: 0.5986842105263157.\u001b[0m\n"
     ]
    },
    {
     "name": "stdout",
     "output_type": "stream",
     "text": [
      "0:\tlearn: 0.6931464\ttest: 0.6931472\ttest1: 0.6931472\tbest: 0.6931472 (0)\ttotal: 652us\tremaining: 652ms\n",
      "Stopped by overfitting detector  (35 iterations wait)\n",
      "\n",
      "bestTest = 0.6931471806\n",
      "bestIteration = 0\n",
      "\n",
      "Shrink model to first 1 iterations.\n"
     ]
    },
    {
     "name": "stderr",
     "output_type": "stream",
     "text": [
      "\u001b[32m[I 2022-08-29 02:32:18,678]\u001b[0m Trial 5 finished with value: 0.5 and parameters: {'learning_rate': 0.27051668818999286, 'bagging_temperature': 12.60466458564947, 'n_estimators': 1000, 'max_depth': 16, 'random_strength': 90, 'colsample_bylevel': 0.03961867790406585, 'l2_leaf_reg': 2.7657008308343274e-05, 'min_child_samples': 13, 'max_bin': 258, 'od_type': 'Iter'}. Best is trial 2 with value: 0.5986842105263157.\u001b[0m\n"
     ]
    },
    {
     "name": "stdout",
     "output_type": "stream",
     "text": [
      "0:\tlearn: 0.6931464\ttest: 0.6931472\ttest1: 0.6931472\tbest: 0.6931472 (0)\ttotal: 533us\tremaining: 533ms\n",
      "100:\tlearn: 0.0720763\ttest: 0.0720924\ttest1: 0.5963969\tbest: 0.4746593 (70)\ttotal: 86.7ms\tremaining: 772ms\n",
      "Stopped by overfitting detector  (35 iterations wait)\n",
      "\n",
      "bestTest = 0.474659256\n",
      "bestIteration = 70\n",
      "\n",
      "Shrink model to first 71 iterations.\n"
     ]
    },
    {
     "name": "stderr",
     "output_type": "stream",
     "text": [
      "\u001b[32m[I 2022-08-29 02:32:18,952]\u001b[0m Trial 6 finished with value: 0.6293859649122807 and parameters: {'learning_rate': 0.03750796359625606, 'bagging_temperature': 0.12172958098369972, 'n_estimators': 1000, 'max_depth': 14, 'random_strength': 36, 'colsample_bylevel': 0.01909565280104538, 'l2_leaf_reg': 1.6285455533915874e-05, 'min_child_samples': 18, 'max_bin': 441, 'od_type': 'Iter'}. Best is trial 6 with value: 0.6293859649122807.\u001b[0m\n"
     ]
    },
    {
     "name": "stdout",
     "output_type": "stream",
     "text": [
      "0:\tlearn: 0.6931464\ttest: 0.6931472\ttest1: 0.6931472\tbest: 0.6931472 (0)\ttotal: 695us\tremaining: 695ms\n",
      "Stopped by overfitting detector  (35 iterations wait)\n",
      "\n",
      "bestTest = 0.6628300807\n",
      "bestIteration = 12\n",
      "\n",
      "Shrink model to first 13 iterations.\n"
     ]
    },
    {
     "name": "stderr",
     "output_type": "stream",
     "text": [
      "\u001b[32m[I 2022-08-29 02:32:19,217]\u001b[0m Trial 7 finished with value: 0.6447368421052632 and parameters: {'learning_rate': 0.13826083091896751, 'bagging_temperature': 0.06235377135673159, 'n_estimators': 1000, 'max_depth': 4, 'random_strength': 82, 'colsample_bylevel': 0.05091635945818555, 'l2_leaf_reg': 2.187292496954921e-05, 'min_child_samples': 79, 'max_bin': 222, 'od_type': 'IncToDec'}. Best is trial 7 with value: 0.6447368421052632.\u001b[0m\n"
     ]
    },
    {
     "name": "stdout",
     "output_type": "stream",
     "text": [
      "0:\tlearn: 0.6931464\ttest: 0.6931472\ttest1: 0.6931472\tbest: 0.6931472 (0)\ttotal: 671us\tremaining: 671ms\n",
      "Stopped by overfitting detector  (35 iterations wait)\n",
      "\n",
      "bestTest = 0.6521068126\n",
      "bestIteration = 12\n",
      "\n",
      "Shrink model to first 13 iterations.\n"
     ]
    },
    {
     "name": "stderr",
     "output_type": "stream",
     "text": [
      "\u001b[32m[I 2022-08-29 02:32:19,541]\u001b[0m Trial 8 finished with value: 0.5197368421052632 and parameters: {'learning_rate': 0.18832519048593593, 'bagging_temperature': 3.1130959561221245, 'n_estimators': 1000, 'max_depth': 8, 'random_strength': 6, 'colsample_bylevel': 0.020463613363481608, 'l2_leaf_reg': 9.762247827582143e-06, 'min_child_samples': 75, 'max_bin': 391, 'od_type': 'IncToDec'}. Best is trial 7 with value: 0.6447368421052632.\u001b[0m\n"
     ]
    },
    {
     "name": "stdout",
     "output_type": "stream",
     "text": [
      "0:\tlearn: 0.6931464\ttest: 0.6931472\ttest1: 0.6931472\tbest: 0.6931472 (0)\ttotal: 612us\tremaining: 612ms\n",
      "100:\tlearn: 0.3374654\ttest: 0.3374837\ttest1: 0.4926306\tbest: 0.4709431 (96)\ttotal: 58.2ms\tremaining: 518ms\n",
      "Stopped by overfitting detector  (35 iterations wait)\n",
      "\n",
      "bestTest = 0.4709430723\n",
      "bestIteration = 96\n",
      "\n",
      "Shrink model to first 97 iterations.\n",
      "0:\tlearn: 0.6931464\ttest: 0.6931472\ttest1: 0.6931472\tbest: 0.6931472 (0)\ttotal: 591us\tremaining: 590ms\n",
      "100:\tlearn: 0.5320434\ttest: 0.5320777\ttest1: 0.5711520\tbest: 0.5711520 (100)\ttotal: 93.1ms\tremaining: 829ms\n"
     ]
    },
    {
     "name": "stderr",
     "output_type": "stream",
     "text": [
      "\u001b[32m[I 2022-08-29 02:32:20,072]\u001b[0m Trial 9 finished with value: 0.6885964912280702 and parameters: {'learning_rate': 0.015019490572374374, 'bagging_temperature': 7.128188058401368, 'n_estimators': 1000, 'max_depth': 13, 'random_strength': 56, 'colsample_bylevel': 0.05901564798023389, 'l2_leaf_reg': 1.4818929934968078e-05, 'min_child_samples': 55, 'max_bin': 328, 'od_type': 'Iter'}. Best is trial 9 with value: 0.6885964912280702.\u001b[0m\n"
     ]
    },
    {
     "name": "stdout",
     "output_type": "stream",
     "text": [
      "200:\tlearn: 0.4638949\ttest: 0.4639259\ttest1: 0.5471357\tbest: 0.5452097 (193)\ttotal: 179ms\tremaining: 711ms\n",
      "Stopped by overfitting detector  (35 iterations wait)\n",
      "\n",
      "bestTest = 0.5276831411\n",
      "bestIteration = 236\n",
      "\n",
      "Shrink model to first 237 iterations.\n",
      "Best Score: 0.6885964912280702\n",
      "Best trial {'learning_rate': 0.015019490572374374, 'bagging_temperature': 7.128188058401368, 'n_estimators': 1000, 'max_depth': 13, 'random_strength': 56, 'colsample_bylevel': 0.05901564798023389, 'l2_leaf_reg': 1.4818929934968078e-05, 'min_child_samples': 55, 'max_bin': 328, 'od_type': 'Iter'}\n"
     ]
    }
   ],
   "source": [
    "sampler = TPESampler(seed=42)\n",
    "\n",
    "study = optuna.create_study(\n",
    "    study_name = 'cat_parameter_opt',\n",
    "    direction = 'maximize',\n",
    "    sampler = sampler)\n",
    "\n",
    "study.optimize(objective2, n_trials=10)\n",
    "\n",
    "print(\"Best Score:\",study.best_value)\n",
    "print(\"Best trial\",study.best_trial.params)"
   ]
  },
  {
   "cell_type": "code",
   "execution_count": 75,
   "id": "844ed415",
   "metadata": {},
   "outputs": [
    {
     "name": "stdout",
     "output_type": "stream",
     "text": [
      "0:\tlearn: 0.6558307\ttest: 0.6558513\ttest1: 0.6777402\tbest: 0.6777402 (0)\ttotal: 181ms\tremaining: 3m 1s\n",
      "Stopped by overfitting detector  (35 iterations wait)\n",
      "\n",
      "bestTest = 0.3320834414\n",
      "bestIteration = 42\n",
      "\n",
      "Shrink model to first 43 iterations.\n",
      "\n",
      "Confusion Matrix (Accuracy 0.9180)\n",
      "\n",
      "       Prediction\n",
      "Actual  0  1\n",
      "     0  0  4\n",
      "     1  1 56\n",
      "\n",
      "AUC: 0.49122807017543857\n"
     ]
    }
   ],
   "source": [
    "cat = CatBoostClassifier(**study.best_params)\n",
    "cat.fit(X_tr_over, y_tr_over,\n",
    "        eval_set=[(X_tr_over, y_tr_over), (X_val, y_val)],\n",
    "        early_stopping_rounds=35,\n",
    "        verbose=100)\n",
    "\n",
    "print()\n",
    "classificationSummary(y_val, cat.predict(X_val))\n",
    "print('\\nAUC:', roc_auc_score(y_val, cat.predict(X_val)))"
   ]
  }
 ],
 "metadata": {
  "kernelspec": {
   "display_name": "Python 3 (ipykernel)",
   "language": "python",
   "name": "python3"
  },
  "language_info": {
   "codemirror_mode": {
    "name": "ipython",
    "version": 3
   },
   "file_extension": ".py",
   "mimetype": "text/x-python",
   "name": "python",
   "nbconvert_exporter": "python",
   "pygments_lexer": "ipython3",
   "version": "3.9.7"
  }
 },
 "nbformat": 4,
 "nbformat_minor": 5
}
