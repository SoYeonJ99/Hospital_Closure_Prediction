{
 "cells": [
  {
   "cell_type": "code",
   "execution_count": 1,
   "id": "cdf94da0",
   "metadata": {},
   "outputs": [],
   "source": [
    "import numpy as np\n",
    "import pandas as pd"
   ]
  },
  {
   "cell_type": "code",
   "execution_count": 2,
   "id": "3e919d8e",
   "metadata": {},
   "outputs": [],
   "source": [
    "train_all=pd.read_csv('train_all.csv')"
   ]
  },
  {
   "cell_type": "code",
   "execution_count": 3,
   "id": "53a37afd",
   "metadata": {},
   "outputs": [],
   "source": [
    "train_lr=pd.read_csv('train_lr.csv')"
   ]
  },
  {
   "cell_type": "code",
   "execution_count": 4,
   "id": "c59c5062",
   "metadata": {},
   "outputs": [],
   "source": [
    "train_dt=pd.read_csv('train_dt.csv')"
   ]
  },
  {
   "cell_type": "code",
   "execution_count": 5,
   "id": "01d1c013",
   "metadata": {},
   "outputs": [
    {
     "data": {
      "text/html": [
       "<div>\n",
       "<style scoped>\n",
       "    .dataframe tbody tr th:only-of-type {\n",
       "        vertical-align: middle;\n",
       "    }\n",
       "\n",
       "    .dataframe tbody tr th {\n",
       "        vertical-align: top;\n",
       "    }\n",
       "\n",
       "    .dataframe thead th {\n",
       "        text-align: right;\n",
       "    }\n",
       "</style>\n",
       "<table border=\"1\" class=\"dataframe\">\n",
       "  <thead>\n",
       "    <tr style=\"text-align: right;\">\n",
       "      <th></th>\n",
       "      <th>inst_id</th>\n",
       "      <th>OC</th>\n",
       "      <th>sido_choongchung</th>\n",
       "      <th>sido_gangwon</th>\n",
       "      <th>sido_gyeongin</th>\n",
       "      <th>sido_gyeongsang</th>\n",
       "      <th>sido_jeonra</th>\n",
       "      <th>sido_seoul</th>\n",
       "      <th>instkind_clinic</th>\n",
       "      <th>instkind_general_hospital</th>\n",
       "      <th>...</th>\n",
       "      <th>liquidLiabilities2</th>\n",
       "      <th>shortLoan2</th>\n",
       "      <th>NCLiabilities2</th>\n",
       "      <th>longLoan2</th>\n",
       "      <th>netAsset2</th>\n",
       "      <th>surplus2</th>\n",
       "      <th>employee1</th>\n",
       "      <th>employee2</th>\n",
       "      <th>ownerChange</th>\n",
       "      <th>bedCount_class</th>\n",
       "    </tr>\n",
       "  </thead>\n",
       "  <tbody>\n",
       "    <tr>\n",
       "      <th>0</th>\n",
       "      <td>1</td>\n",
       "      <td>1</td>\n",
       "      <td>1.0</td>\n",
       "      <td>0.0</td>\n",
       "      <td>0.0</td>\n",
       "      <td>0.0</td>\n",
       "      <td>0.0</td>\n",
       "      <td>0.0</td>\n",
       "      <td>0.0</td>\n",
       "      <td>0.0</td>\n",
       "      <td>...</td>\n",
       "      <td>19.222130</td>\n",
       "      <td>0.000000</td>\n",
       "      <td>20.099863</td>\n",
       "      <td>19.781657</td>\n",
       "      <td>21.686169</td>\n",
       "      <td>20.963246</td>\n",
       "      <td>4.143135</td>\n",
       "      <td>4.174387</td>\n",
       "      <td>0.0</td>\n",
       "      <td>3.0</td>\n",
       "    </tr>\n",
       "    <tr>\n",
       "      <th>1</th>\n",
       "      <td>3</td>\n",
       "      <td>1</td>\n",
       "      <td>0.0</td>\n",
       "      <td>0.0</td>\n",
       "      <td>0.0</td>\n",
       "      <td>1.0</td>\n",
       "      <td>0.0</td>\n",
       "      <td>0.0</td>\n",
       "      <td>0.0</td>\n",
       "      <td>1.0</td>\n",
       "      <td>...</td>\n",
       "      <td>18.841626</td>\n",
       "      <td>9.180719</td>\n",
       "      <td>18.812726</td>\n",
       "      <td>17.568559</td>\n",
       "      <td>18.838180</td>\n",
       "      <td>12.258481</td>\n",
       "      <td>6.687109</td>\n",
       "      <td>6.701960</td>\n",
       "      <td>0.0</td>\n",
       "      <td>4.0</td>\n",
       "    </tr>\n",
       "    <tr>\n",
       "      <th>2</th>\n",
       "      <td>4</td>\n",
       "      <td>1</td>\n",
       "      <td>0.0</td>\n",
       "      <td>0.0</td>\n",
       "      <td>1.0</td>\n",
       "      <td>0.0</td>\n",
       "      <td>0.0</td>\n",
       "      <td>0.0</td>\n",
       "      <td>0.0</td>\n",
       "      <td>0.0</td>\n",
       "      <td>...</td>\n",
       "      <td>0.000000</td>\n",
       "      <td>0.000000</td>\n",
       "      <td>0.000000</td>\n",
       "      <td>0.000000</td>\n",
       "      <td>0.000000</td>\n",
       "      <td>0.000000</td>\n",
       "      <td>5.459586</td>\n",
       "      <td>0.693147</td>\n",
       "      <td>0.0</td>\n",
       "      <td>4.0</td>\n",
       "    </tr>\n",
       "    <tr>\n",
       "      <th>3</th>\n",
       "      <td>7</td>\n",
       "      <td>1</td>\n",
       "      <td>0.0</td>\n",
       "      <td>0.0</td>\n",
       "      <td>1.0</td>\n",
       "      <td>0.0</td>\n",
       "      <td>0.0</td>\n",
       "      <td>0.0</td>\n",
       "      <td>0.0</td>\n",
       "      <td>1.0</td>\n",
       "      <td>...</td>\n",
       "      <td>23.557572</td>\n",
       "      <td>22.944579</td>\n",
       "      <td>23.755157</td>\n",
       "      <td>23.437961</td>\n",
       "      <td>23.284691</td>\n",
       "      <td>22.769775</td>\n",
       "      <td>6.498282</td>\n",
       "      <td>6.498282</td>\n",
       "      <td>0.0</td>\n",
       "      <td>4.0</td>\n",
       "    </tr>\n",
       "    <tr>\n",
       "      <th>4</th>\n",
       "      <td>9</td>\n",
       "      <td>1</td>\n",
       "      <td>0.0</td>\n",
       "      <td>0.0</td>\n",
       "      <td>0.0</td>\n",
       "      <td>1.0</td>\n",
       "      <td>0.0</td>\n",
       "      <td>0.0</td>\n",
       "      <td>0.0</td>\n",
       "      <td>1.0</td>\n",
       "      <td>...</td>\n",
       "      <td>24.126880</td>\n",
       "      <td>23.590810</td>\n",
       "      <td>23.784786</td>\n",
       "      <td>23.370010</td>\n",
       "      <td>15.531458</td>\n",
       "      <td>22.923325</td>\n",
       "      <td>5.332719</td>\n",
       "      <td>5.288267</td>\n",
       "      <td>0.0</td>\n",
       "      <td>3.0</td>\n",
       "    </tr>\n",
       "    <tr>\n",
       "      <th>...</th>\n",
       "      <td>...</td>\n",
       "      <td>...</td>\n",
       "      <td>...</td>\n",
       "      <td>...</td>\n",
       "      <td>...</td>\n",
       "      <td>...</td>\n",
       "      <td>...</td>\n",
       "      <td>...</td>\n",
       "      <td>...</td>\n",
       "      <td>...</td>\n",
       "      <td>...</td>\n",
       "      <td>...</td>\n",
       "      <td>...</td>\n",
       "      <td>...</td>\n",
       "      <td>...</td>\n",
       "      <td>...</td>\n",
       "      <td>...</td>\n",
       "      <td>...</td>\n",
       "      <td>...</td>\n",
       "      <td>...</td>\n",
       "      <td>...</td>\n",
       "    </tr>\n",
       "    <tr>\n",
       "      <th>296</th>\n",
       "      <td>422</td>\n",
       "      <td>1</td>\n",
       "      <td>0.0</td>\n",
       "      <td>0.0</td>\n",
       "      <td>0.0</td>\n",
       "      <td>0.0</td>\n",
       "      <td>1.0</td>\n",
       "      <td>0.0</td>\n",
       "      <td>0.0</td>\n",
       "      <td>0.0</td>\n",
       "      <td>...</td>\n",
       "      <td>21.685753</td>\n",
       "      <td>0.000000</td>\n",
       "      <td>22.641007</td>\n",
       "      <td>22.503290</td>\n",
       "      <td>22.405862</td>\n",
       "      <td>20.514569</td>\n",
       "      <td>5.267858</td>\n",
       "      <td>4.955827</td>\n",
       "      <td>0.0</td>\n",
       "      <td>3.0</td>\n",
       "    </tr>\n",
       "    <tr>\n",
       "      <th>297</th>\n",
       "      <td>423</td>\n",
       "      <td>0</td>\n",
       "      <td>1.0</td>\n",
       "      <td>0.0</td>\n",
       "      <td>0.0</td>\n",
       "      <td>0.0</td>\n",
       "      <td>0.0</td>\n",
       "      <td>0.0</td>\n",
       "      <td>0.0</td>\n",
       "      <td>0.0</td>\n",
       "      <td>...</td>\n",
       "      <td>0.000000</td>\n",
       "      <td>0.000000</td>\n",
       "      <td>0.000000</td>\n",
       "      <td>0.000000</td>\n",
       "      <td>0.000000</td>\n",
       "      <td>0.000000</td>\n",
       "      <td>4.382027</td>\n",
       "      <td>4.382027</td>\n",
       "      <td>0.0</td>\n",
       "      <td>3.2</td>\n",
       "    </tr>\n",
       "    <tr>\n",
       "      <th>298</th>\n",
       "      <td>426</td>\n",
       "      <td>0</td>\n",
       "      <td>0.0</td>\n",
       "      <td>0.0</td>\n",
       "      <td>0.0</td>\n",
       "      <td>1.0</td>\n",
       "      <td>0.0</td>\n",
       "      <td>0.0</td>\n",
       "      <td>0.0</td>\n",
       "      <td>0.0</td>\n",
       "      <td>...</td>\n",
       "      <td>21.498441</td>\n",
       "      <td>0.000000</td>\n",
       "      <td>22.158142</td>\n",
       "      <td>21.639056</td>\n",
       "      <td>21.904736</td>\n",
       "      <td>0.000000</td>\n",
       "      <td>3.860891</td>\n",
       "      <td>3.905642</td>\n",
       "      <td>0.0</td>\n",
       "      <td>2.6</td>\n",
       "    </tr>\n",
       "    <tr>\n",
       "      <th>299</th>\n",
       "      <td>427</td>\n",
       "      <td>0</td>\n",
       "      <td>0.0</td>\n",
       "      <td>0.0</td>\n",
       "      <td>1.0</td>\n",
       "      <td>0.0</td>\n",
       "      <td>0.0</td>\n",
       "      <td>0.0</td>\n",
       "      <td>0.0</td>\n",
       "      <td>0.0</td>\n",
       "      <td>...</td>\n",
       "      <td>22.579564</td>\n",
       "      <td>0.000000</td>\n",
       "      <td>0.000000</td>\n",
       "      <td>0.000000</td>\n",
       "      <td>0.000000</td>\n",
       "      <td>0.000000</td>\n",
       "      <td>4.615121</td>\n",
       "      <td>5.580909</td>\n",
       "      <td>0.0</td>\n",
       "      <td>3.0</td>\n",
       "    </tr>\n",
       "    <tr>\n",
       "      <th>300</th>\n",
       "      <td>428</td>\n",
       "      <td>1</td>\n",
       "      <td>0.0</td>\n",
       "      <td>0.0</td>\n",
       "      <td>0.0</td>\n",
       "      <td>0.0</td>\n",
       "      <td>0.0</td>\n",
       "      <td>1.0</td>\n",
       "      <td>0.0</td>\n",
       "      <td>0.0</td>\n",
       "      <td>...</td>\n",
       "      <td>21.862083</td>\n",
       "      <td>0.000000</td>\n",
       "      <td>21.523440</td>\n",
       "      <td>21.507167</td>\n",
       "      <td>22.434570</td>\n",
       "      <td>22.558953</td>\n",
       "      <td>2.772589</td>\n",
       "      <td>2.772589</td>\n",
       "      <td>0.0</td>\n",
       "      <td>2.8</td>\n",
       "    </tr>\n",
       "  </tbody>\n",
       "</table>\n",
       "<p>301 rows × 67 columns</p>\n",
       "</div>"
      ],
      "text/plain": [
       "     inst_id  OC  sido_choongchung  sido_gangwon  sido_gyeongin  \\\n",
       "0          1   1               1.0           0.0            0.0   \n",
       "1          3   1               0.0           0.0            0.0   \n",
       "2          4   1               0.0           0.0            1.0   \n",
       "3          7   1               0.0           0.0            1.0   \n",
       "4          9   1               0.0           0.0            0.0   \n",
       "..       ...  ..               ...           ...            ...   \n",
       "296      422   1               0.0           0.0            0.0   \n",
       "297      423   0               1.0           0.0            0.0   \n",
       "298      426   0               0.0           0.0            0.0   \n",
       "299      427   0               0.0           0.0            1.0   \n",
       "300      428   1               0.0           0.0            0.0   \n",
       "\n",
       "     sido_gyeongsang  sido_jeonra  sido_seoul  instkind_clinic  \\\n",
       "0                0.0          0.0         0.0              0.0   \n",
       "1                1.0          0.0         0.0              0.0   \n",
       "2                0.0          0.0         0.0              0.0   \n",
       "3                0.0          0.0         0.0              0.0   \n",
       "4                1.0          0.0         0.0              0.0   \n",
       "..               ...          ...         ...              ...   \n",
       "296              0.0          1.0         0.0              0.0   \n",
       "297              0.0          0.0         0.0              0.0   \n",
       "298              1.0          0.0         0.0              0.0   \n",
       "299              0.0          0.0         0.0              0.0   \n",
       "300              0.0          0.0         1.0              0.0   \n",
       "\n",
       "     instkind_general_hospital  ...  liquidLiabilities2  shortLoan2  \\\n",
       "0                          0.0  ...           19.222130    0.000000   \n",
       "1                          1.0  ...           18.841626    9.180719   \n",
       "2                          0.0  ...            0.000000    0.000000   \n",
       "3                          1.0  ...           23.557572   22.944579   \n",
       "4                          1.0  ...           24.126880   23.590810   \n",
       "..                         ...  ...                 ...         ...   \n",
       "296                        0.0  ...           21.685753    0.000000   \n",
       "297                        0.0  ...            0.000000    0.000000   \n",
       "298                        0.0  ...           21.498441    0.000000   \n",
       "299                        0.0  ...           22.579564    0.000000   \n",
       "300                        0.0  ...           21.862083    0.000000   \n",
       "\n",
       "     NCLiabilities2  longLoan2  netAsset2   surplus2  employee1  employee2  \\\n",
       "0         20.099863  19.781657  21.686169  20.963246   4.143135   4.174387   \n",
       "1         18.812726  17.568559  18.838180  12.258481   6.687109   6.701960   \n",
       "2          0.000000   0.000000   0.000000   0.000000   5.459586   0.693147   \n",
       "3         23.755157  23.437961  23.284691  22.769775   6.498282   6.498282   \n",
       "4         23.784786  23.370010  15.531458  22.923325   5.332719   5.288267   \n",
       "..              ...        ...        ...        ...        ...        ...   \n",
       "296       22.641007  22.503290  22.405862  20.514569   5.267858   4.955827   \n",
       "297        0.000000   0.000000   0.000000   0.000000   4.382027   4.382027   \n",
       "298       22.158142  21.639056  21.904736   0.000000   3.860891   3.905642   \n",
       "299        0.000000   0.000000   0.000000   0.000000   4.615121   5.580909   \n",
       "300       21.523440  21.507167  22.434570  22.558953   2.772589   2.772589   \n",
       "\n",
       "     ownerChange  bedCount_class  \n",
       "0            0.0             3.0  \n",
       "1            0.0             4.0  \n",
       "2            0.0             4.0  \n",
       "3            0.0             4.0  \n",
       "4            0.0             3.0  \n",
       "..           ...             ...  \n",
       "296          0.0             3.0  \n",
       "297          0.0             3.2  \n",
       "298          0.0             2.6  \n",
       "299          0.0             3.0  \n",
       "300          0.0             2.8  \n",
       "\n",
       "[301 rows x 67 columns]"
      ]
     },
     "execution_count": 5,
     "metadata": {},
     "output_type": "execute_result"
    }
   ],
   "source": [
    "train_all"
   ]
  },
  {
   "cell_type": "code",
   "execution_count": 6,
   "id": "c01db26d",
   "metadata": {},
   "outputs": [
    {
     "name": "stdout",
     "output_type": "stream",
     "text": [
      "<class 'pandas.core.frame.DataFrame'>\n",
      "RangeIndex: 301 entries, 0 to 300\n",
      "Data columns (total 67 columns):\n",
      " #   Column                         Non-Null Count  Dtype  \n",
      "---  ------                         --------------  -----  \n",
      " 0   inst_id                        301 non-null    int64  \n",
      " 1   OC                             301 non-null    int64  \n",
      " 2   sido_choongchung               301 non-null    float64\n",
      " 3   sido_gangwon                   301 non-null    float64\n",
      " 4   sido_gyeongin                  301 non-null    float64\n",
      " 5   sido_gyeongsang                301 non-null    float64\n",
      " 6   sido_jeonra                    301 non-null    float64\n",
      " 7   sido_seoul                     301 non-null    float64\n",
      " 8   instkind_clinic                301 non-null    float64\n",
      " 9   instkind_general_hospital      301 non-null    float64\n",
      " 10  instkind_hospital              301 non-null    float64\n",
      " 11  instkind_nursing_hospital      301 non-null    float64\n",
      " 12  instkind_traditional_clinic    301 non-null    float64\n",
      " 13  instkind_traditional_hospital  301 non-null    float64\n",
      " 14  instkind_nan                   301 non-null    float64\n",
      " 15  revenue1                       301 non-null    float64\n",
      " 16  salescost1                     301 non-null    float64\n",
      " 17  sga1                           301 non-null    float64\n",
      " 18  salary1                        301 non-null    float64\n",
      " 19  noi1                           301 non-null    float64\n",
      " 20  noe1                           301 non-null    float64\n",
      " 21  interest1                      301 non-null    float64\n",
      " 22  ctax1                          301 non-null    float64\n",
      " 23  profit1                        301 non-null    float64\n",
      " 24  liquidAsset1                   301 non-null    float64\n",
      " 25  quickAsset1                    301 non-null    float64\n",
      " 26  receivableS1                   301 non-null    float64\n",
      " 27  inventoryAsset1                301 non-null    float64\n",
      " 28  nonCAsset1                     301 non-null    float64\n",
      " 29  tanAsset1                      301 non-null    float64\n",
      " 30  OnonCAsset1                    301 non-null    float64\n",
      " 31  receivableL1                   301 non-null    float64\n",
      " 32  debt1                          301 non-null    float64\n",
      " 33  liquidLiabilities1             301 non-null    float64\n",
      " 34  shortLoan1                     301 non-null    float64\n",
      " 35  NCLiabilities1                 301 non-null    float64\n",
      " 36  longLoan1                      301 non-null    float64\n",
      " 37  netAsset1                      301 non-null    float64\n",
      " 38  surplus1                       301 non-null    float64\n",
      " 39  revenue2                       301 non-null    float64\n",
      " 40  salescost2                     301 non-null    float64\n",
      " 41  sga2                           301 non-null    float64\n",
      " 42  salary2                        301 non-null    float64\n",
      " 43  noi2                           301 non-null    float64\n",
      " 44  noe2                           301 non-null    float64\n",
      " 45  interest2                      301 non-null    float64\n",
      " 46  ctax2                          301 non-null    float64\n",
      " 47  profit2                        301 non-null    float64\n",
      " 48  liquidAsset2                   301 non-null    float64\n",
      " 49  quickAsset2                    301 non-null    float64\n",
      " 50  receivableS2                   301 non-null    float64\n",
      " 51  inventoryAsset2                301 non-null    float64\n",
      " 52  nonCAsset2                     301 non-null    float64\n",
      " 53  tanAsset2                      301 non-null    float64\n",
      " 54  OnonCAsset2                    301 non-null    float64\n",
      " 55  receivableL2                   301 non-null    float64\n",
      " 56  debt2                          301 non-null    float64\n",
      " 57  liquidLiabilities2             301 non-null    float64\n",
      " 58  shortLoan2                     301 non-null    float64\n",
      " 59  NCLiabilities2                 301 non-null    float64\n",
      " 60  longLoan2                      301 non-null    float64\n",
      " 61  netAsset2                      301 non-null    float64\n",
      " 62  surplus2                       301 non-null    float64\n",
      " 63  employee1                      301 non-null    float64\n",
      " 64  employee2                      301 non-null    float64\n",
      " 65  ownerChange                    301 non-null    float64\n",
      " 66  bedCount_class                 301 non-null    float64\n",
      "dtypes: float64(65), int64(2)\n",
      "memory usage: 157.7 KB\n"
     ]
    }
   ],
   "source": [
    "train_all.info()"
   ]
  },
  {
   "cell_type": "code",
   "execution_count": 7,
   "id": "407ac31a",
   "metadata": {},
   "outputs": [],
   "source": [
    "train_all.set_index('inst_id',inplace=True)"
   ]
  },
  {
   "cell_type": "code",
   "execution_count": 8,
   "id": "3558bf3b",
   "metadata": {},
   "outputs": [],
   "source": [
    "train_lr.set_index('inst_id',inplace=True)\n",
    "train_dt.set_index('inst_id',inplace=True)"
   ]
  },
  {
   "cell_type": "code",
   "execution_count": 9,
   "id": "263d5c91",
   "metadata": {},
   "outputs": [
    {
     "data": {
      "text/plain": [
       "0.000000    257\n",
       "1.000000     42\n",
       "0.200000      1\n",
       "0.145329      1\n",
       "Name: ownerChange, dtype: int64"
      ]
     },
     "execution_count": 9,
     "metadata": {},
     "output_type": "execute_result"
    }
   ],
   "source": [
    "train_all['ownerChange'].value_counts()"
   ]
  },
  {
   "cell_type": "code",
   "execution_count": 10,
   "id": "73e70250",
   "metadata": {},
   "outputs": [
    {
     "data": {
      "text/plain": [
       "0.0    259\n",
       "1.0     42\n",
       "Name: ownerChange, dtype: int64"
      ]
     },
     "execution_count": 10,
     "metadata": {},
     "output_type": "execute_result"
    }
   ],
   "source": [
    "train_all['ownerChange']=round(train_all['ownerChange'])\n",
    "train_all['ownerChange'].value_counts()"
   ]
  },
  {
   "cell_type": "code",
   "execution_count": 11,
   "id": "6ce57c7b",
   "metadata": {},
   "outputs": [
    {
     "data": {
      "text/plain": [
       "3.000000    163\n",
       "2.000000     63\n",
       "1.000000     26\n",
       "4.000000     25\n",
       "2.800000     10\n",
       "3.200000      6\n",
       "2.600000      4\n",
       "3.400000      2\n",
       "2.200000      1\n",
       "2.671533      1\n",
       "Name: bedCount_class, dtype: int64"
      ]
     },
     "execution_count": 11,
     "metadata": {},
     "output_type": "execute_result"
    }
   ],
   "source": [
    "train_all['bedCount_class'].value_counts()"
   ]
  },
  {
   "cell_type": "code",
   "execution_count": 12,
   "id": "cda68f07",
   "metadata": {},
   "outputs": [
    {
     "data": {
      "text/plain": [
       "3.0    186\n",
       "2.0     64\n",
       "1.0     26\n",
       "4.0     25\n",
       "Name: bedCount_class, dtype: int64"
      ]
     },
     "execution_count": 12,
     "metadata": {},
     "output_type": "execute_result"
    }
   ],
   "source": [
    "train_all['bedCount_class']=round(train_all['bedCount_class'])\n",
    "train_all['bedCount_class'].value_counts()"
   ]
  },
  {
   "cell_type": "code",
   "execution_count": 13,
   "id": "47f80e87",
   "metadata": {},
   "outputs": [],
   "source": [
    "X=train_all.drop('OC',axis=1)\n",
    "Y=train_all['OC']"
   ]
  },
  {
   "cell_type": "code",
   "execution_count": 14,
   "id": "1a8dfba1",
   "metadata": {},
   "outputs": [],
   "source": [
    "from sklearn.model_selection import train_test_split\n",
    "\n",
    "X_train, X_test, Y_train, Y_test=train_test_split(X,Y, random_state=23)"
   ]
  },
  {
   "cell_type": "code",
   "execution_count": 15,
   "id": "41992aa7",
   "metadata": {},
   "outputs": [],
   "source": [
    "x_train, x_valid, y_train, y_valid=train_test_split(X_train,Y_train, random_state=4)"
   ]
  },
  {
   "cell_type": "code",
   "execution_count": 16,
   "id": "fe4990f7",
   "metadata": {},
   "outputs": [
    {
     "data": {
      "text/plain": [
       "1    161\n",
       "0      7\n",
       "Name: OC, dtype: int64"
      ]
     },
     "execution_count": 16,
     "metadata": {},
     "output_type": "execute_result"
    }
   ],
   "source": [
    "y_train.value_counts()"
   ]
  },
  {
   "cell_type": "code",
   "execution_count": 17,
   "id": "f941c279",
   "metadata": {},
   "outputs": [
    {
     "data": {
      "text/plain": [
       "1    54\n",
       "0     3\n",
       "Name: OC, dtype: int64"
      ]
     },
     "execution_count": 17,
     "metadata": {},
     "output_type": "execute_result"
    }
   ],
   "source": [
    "y_valid.value_counts()"
   ]
  },
  {
   "cell_type": "code",
   "execution_count": 18,
   "id": "2ca6207f",
   "metadata": {},
   "outputs": [
    {
     "data": {
      "text/plain": [
       "1    71\n",
       "0     5\n",
       "Name: OC, dtype: int64"
      ]
     },
     "execution_count": 18,
     "metadata": {},
     "output_type": "execute_result"
    }
   ],
   "source": [
    "Y_test.value_counts()"
   ]
  },
  {
   "cell_type": "code",
   "execution_count": 19,
   "id": "938d670b",
   "metadata": {},
   "outputs": [],
   "source": [
    "from imblearn.over_sampling import SMOTE\n",
    "\n",
    "smote = SMOTE(random_state=42)\n",
    "x_train_smote, y_train_smote = smote.fit_resample(x_train, y_train)"
   ]
  },
  {
   "cell_type": "code",
   "execution_count": 20,
   "id": "3fe84c37",
   "metadata": {},
   "outputs": [],
   "source": [
    "smote = SMOTE(random_state=42)\n",
    "X_train_smote, Y_train_smote = smote.fit_resample(X_train, Y_train)"
   ]
  },
  {
   "cell_type": "code",
   "execution_count": 21,
   "id": "4f2138af",
   "metadata": {},
   "outputs": [
    {
     "data": {
      "text/plain": [
       "1    161\n",
       "0    161\n",
       "Name: OC, dtype: int64"
      ]
     },
     "execution_count": 21,
     "metadata": {},
     "output_type": "execute_result"
    }
   ],
   "source": [
    "y_train_smote.value_counts()"
   ]
  },
  {
   "cell_type": "code",
   "execution_count": 22,
   "id": "8da3984e",
   "metadata": {},
   "outputs": [
    {
     "data": {
      "text/plain": [
       "0    215\n",
       "1    215\n",
       "Name: OC, dtype: int64"
      ]
     },
     "execution_count": 22,
     "metadata": {},
     "output_type": "execute_result"
    }
   ],
   "source": [
    "Y_train_smote.value_counts()"
   ]
  },
  {
   "cell_type": "code",
   "execution_count": 23,
   "id": "12ad4648",
   "metadata": {},
   "outputs": [],
   "source": [
    "from sklearn.preprocessing import StandardScaler\n",
    "scaler = StandardScaler()\n",
    "train_features = scaler.fit_transform(x_train_smote)\n",
    "test_features = scaler.transform(x_valid)"
   ]
  },
  {
   "cell_type": "code",
   "execution_count": 27,
   "id": "e66dbc88",
   "metadata": {},
   "outputs": [],
   "source": [
    "from sklearn.preprocessing import StandardScaler\n",
    "scaler = StandardScaler()\n",
    "train_features = scaler.fit_transform(X_train_smote)\n",
    "test_features = scaler.transform(X_test)"
   ]
  },
  {
   "cell_type": "code",
   "execution_count": null,
   "id": "266f0838",
   "metadata": {},
   "outputs": [],
   "source": [
    "from sklearn.neural_network import MLPClassifier\n",
    "\n",
    "clf = MLPClassifier(solver = \"lbfgs\", alpha = 1e-5, hidden_layer_sizes = (5,2), random_state = 1)\n",
    "clf.fit(X,y)"
   ]
  },
  {
   "cell_type": "code",
   "execution_count": 63,
   "id": "35de30ac",
   "metadata": {},
   "outputs": [
    {
     "name": "stdout",
     "output_type": "stream",
     "text": [
      "Fitting 5 folds for each of 50 candidates, totalling 250 fits\n",
      "[CV] END activation=relu, alpha=0.0002448536448270997, hidden_layer_sizes=(60,), learning_rate=adaptive, solver=lbfgs; total time=   0.0s\n",
      "[CV] END activation=relu, alpha=0.0002448536448270997, hidden_layer_sizes=(60,), learning_rate=adaptive, solver=lbfgs; total time=   0.0s\n",
      "[CV] END activation=relu, alpha=0.0002448536448270997, hidden_layer_sizes=(60,), learning_rate=adaptive, solver=lbfgs; total time=   0.0s\n",
      "[CV] END activation=relu, alpha=0.0002448536448270997, hidden_layer_sizes=(60,), learning_rate=adaptive, solver=lbfgs; total time=   0.0s\n",
      "[CV] END activation=relu, alpha=0.0002448536448270997, hidden_layer_sizes=(60,), learning_rate=adaptive, solver=lbfgs; total time=   0.1s\n",
      "[CV] END activation=relu, alpha=0.00017092578062381997, hidden_layer_sizes=(70,), learning_rate=adaptive, solver=adam; total time=   0.0s\n",
      "[CV] END activation=relu, alpha=0.00017092578062381997, hidden_layer_sizes=(70,), learning_rate=adaptive, solver=adam; total time=   0.0s\n",
      "[CV] END activation=relu, alpha=0.00017092578062381997, hidden_layer_sizes=(70,), learning_rate=adaptive, solver=adam; total time=   0.0s\n",
      "[CV] END activation=relu, alpha=0.00017092578062381997, hidden_layer_sizes=(70,), learning_rate=adaptive, solver=adam; total time=   0.0s\n",
      "[CV] END activation=relu, alpha=0.00017092578062381997, hidden_layer_sizes=(70,), learning_rate=adaptive, solver=adam; total time=   0.0s\n",
      "[CV] END activation=identity, alpha=0.004130126838522161, hidden_layer_sizes=(10, 10), learning_rate=constant, solver=adam; total time=   0.0s\n",
      "[CV] END activation=identity, alpha=0.004130126838522161, hidden_layer_sizes=(10, 10), learning_rate=constant, solver=adam; total time=   0.0s\n",
      "[CV] END activation=identity, alpha=0.004130126838522161, hidden_layer_sizes=(10, 10), learning_rate=constant, solver=adam; total time=   0.0s\n",
      "[CV] END activation=identity, alpha=0.004130126838522161, hidden_layer_sizes=(10, 10), learning_rate=constant, solver=adam; total time=   0.0s\n",
      "[CV] END activation=identity, alpha=0.004130126838522161, hidden_layer_sizes=(10, 10), learning_rate=constant, solver=adam; total time=   0.0s\n",
      "[CV] END activation=relu, alpha=0.046616056990365036, hidden_layer_sizes=(60,), learning_rate=constant, solver=adam; total time=   0.0s\n",
      "[CV] END activation=relu, alpha=0.046616056990365036, hidden_layer_sizes=(60,), learning_rate=constant, solver=adam; total time=   0.0s\n",
      "[CV] END activation=relu, alpha=0.046616056990365036, hidden_layer_sizes=(60,), learning_rate=constant, solver=adam; total time=   0.0s\n",
      "[CV] END activation=relu, alpha=0.046616056990365036, hidden_layer_sizes=(60,), learning_rate=constant, solver=adam; total time=   0.0s\n",
      "[CV] END activation=relu, alpha=0.046616056990365036, hidden_layer_sizes=(60,), learning_rate=constant, solver=adam; total time=   0.1s\n",
      "[CV] END activation=tanh, alpha=0.0018489482821948252, hidden_layer_sizes=(70,), learning_rate=invscaling, solver=lbfgs; total time=   0.3s\n",
      "[CV] END activation=tanh, alpha=0.0018489482821948252, hidden_layer_sizes=(70,), learning_rate=invscaling, solver=lbfgs; total time=   0.1s\n",
      "[CV] END activation=tanh, alpha=0.0018489482821948252, hidden_layer_sizes=(70,), learning_rate=invscaling, solver=lbfgs; total time=   0.4s\n",
      "[CV] END activation=tanh, alpha=0.0018489482821948252, hidden_layer_sizes=(70,), learning_rate=invscaling, solver=lbfgs; total time=   0.0s\n",
      "[CV] END activation=tanh, alpha=0.0018489482821948252, hidden_layer_sizes=(70,), learning_rate=invscaling, solver=lbfgs; total time=   0.3s\n",
      "[CV] END activation=relu, alpha=0.010558218605892232, hidden_layer_sizes=(90,), learning_rate=constant, solver=sgd; total time=   0.0s\n",
      "[CV] END activation=relu, alpha=0.010558218605892232, hidden_layer_sizes=(90,), learning_rate=constant, solver=sgd; total time=   0.1s\n",
      "[CV] END activation=relu, alpha=0.010558218605892232, hidden_layer_sizes=(90,), learning_rate=constant, solver=sgd; total time=   0.0s\n",
      "[CV] END activation=relu, alpha=0.010558218605892232, hidden_layer_sizes=(90,), learning_rate=constant, solver=sgd; total time=   0.0s\n",
      "[CV] END activation=relu, alpha=0.010558218605892232, hidden_layer_sizes=(90,), learning_rate=constant, solver=sgd; total time=   0.1s\n",
      "[CV] END activation=relu, alpha=0.012007602249647338, hidden_layer_sizes=(70,), learning_rate=invscaling, solver=sgd; total time=   0.0s\n",
      "[CV] END activation=relu, alpha=0.012007602249647338, hidden_layer_sizes=(70,), learning_rate=invscaling, solver=sgd; total time=   0.0s\n",
      "[CV] END activation=relu, alpha=0.012007602249647338, hidden_layer_sizes=(70,), learning_rate=invscaling, solver=sgd; total time=   0.0s\n",
      "[CV] END activation=relu, alpha=0.012007602249647338, hidden_layer_sizes=(70,), learning_rate=invscaling, solver=sgd; total time=   0.0s\n",
      "[CV] END activation=relu, alpha=0.012007602249647338, hidden_layer_sizes=(70,), learning_rate=invscaling, solver=sgd; total time=   0.0s\n",
      "[CV] END activation=relu, alpha=0.0009829643224179637, hidden_layer_sizes=(50,), learning_rate=adaptive, solver=adam; total time=   0.0s\n",
      "[CV] END activation=relu, alpha=0.0009829643224179637, hidden_layer_sizes=(50,), learning_rate=adaptive, solver=adam; total time=   0.0s\n",
      "[CV] END activation=relu, alpha=0.0009829643224179637, hidden_layer_sizes=(50,), learning_rate=adaptive, solver=adam; total time=   0.0s\n",
      "[CV] END activation=relu, alpha=0.0009829643224179637, hidden_layer_sizes=(50,), learning_rate=adaptive, solver=adam; total time=   0.0s\n",
      "[CV] END activation=relu, alpha=0.0009829643224179637, hidden_layer_sizes=(50,), learning_rate=adaptive, solver=adam; total time=   0.0s\n",
      "[CV] END activation=identity, alpha=0.0016419563347483646, hidden_layer_sizes=(60,), learning_rate=invscaling, solver=adam; total time=   0.0s\n",
      "[CV] END activation=identity, alpha=0.0016419563347483646, hidden_layer_sizes=(60,), learning_rate=invscaling, solver=adam; total time=   0.0s\n",
      "[CV] END activation=identity, alpha=0.0016419563347483646, hidden_layer_sizes=(60,), learning_rate=invscaling, solver=adam; total time=   0.0s\n",
      "[CV] END activation=identity, alpha=0.0016419563347483646, hidden_layer_sizes=(60,), learning_rate=invscaling, solver=adam; total time=   0.0s\n",
      "[CV] END activation=identity, alpha=0.0016419563347483646, hidden_layer_sizes=(60,), learning_rate=invscaling, solver=adam; total time=   0.0s\n",
      "[CV] END activation=tanh, alpha=0.00031867863503829964, hidden_layer_sizes=(30, 30), learning_rate=invscaling, solver=sgd; total time=   0.0s\n",
      "[CV] END activation=tanh, alpha=0.00031867863503829964, hidden_layer_sizes=(30, 30), learning_rate=invscaling, solver=sgd; total time=   0.0s\n",
      "[CV] END activation=tanh, alpha=0.00031867863503829964, hidden_layer_sizes=(30, 30), learning_rate=invscaling, solver=sgd; total time=   0.0s\n",
      "[CV] END activation=tanh, alpha=0.00031867863503829964, hidden_layer_sizes=(30, 30), learning_rate=invscaling, solver=sgd; total time=   0.0s\n",
      "[CV] END activation=tanh, alpha=0.00031867863503829964, hidden_layer_sizes=(30, 30), learning_rate=invscaling, solver=sgd; total time=   0.0s\n",
      "[CV] END activation=relu, alpha=0.04400452162873668, hidden_layer_sizes=(40,), learning_rate=invscaling, solver=sgd; total time=   0.0s\n",
      "[CV] END activation=relu, alpha=0.04400452162873668, hidden_layer_sizes=(40,), learning_rate=invscaling, solver=sgd; total time=   0.0s\n",
      "[CV] END activation=relu, alpha=0.04400452162873668, hidden_layer_sizes=(40,), learning_rate=invscaling, solver=sgd; total time=   0.0s\n",
      "[CV] END activation=relu, alpha=0.04400452162873668, hidden_layer_sizes=(40,), learning_rate=invscaling, solver=sgd; total time=   0.0s\n",
      "[CV] END activation=relu, alpha=0.04400452162873668, hidden_layer_sizes=(40,), learning_rate=invscaling, solver=sgd; total time=   0.0s\n",
      "[CV] END activation=logistic, alpha=0.000138871276806203, hidden_layer_sizes=(10, 10), learning_rate=invscaling, solver=adam; total time=   0.0s\n",
      "[CV] END activation=logistic, alpha=0.000138871276806203, hidden_layer_sizes=(10, 10), learning_rate=invscaling, solver=adam; total time=   0.0s\n",
      "[CV] END activation=logistic, alpha=0.000138871276806203, hidden_layer_sizes=(10, 10), learning_rate=invscaling, solver=adam; total time=   0.0s\n",
      "[CV] END activation=logistic, alpha=0.000138871276806203, hidden_layer_sizes=(10, 10), learning_rate=invscaling, solver=adam; total time=   0.0s\n",
      "[CV] END activation=logistic, alpha=0.000138871276806203, hidden_layer_sizes=(10, 10), learning_rate=invscaling, solver=adam; total time=   0.0s\n"
     ]
    },
    {
     "name": "stdout",
     "output_type": "stream",
     "text": [
      "[CV] END activation=identity, alpha=0.02142425862824879, hidden_layer_sizes=(50,), learning_rate=constant, solver=adam; total time=   0.0s\n",
      "[CV] END activation=identity, alpha=0.02142425862824879, hidden_layer_sizes=(50,), learning_rate=constant, solver=adam; total time=   0.0s\n",
      "[CV] END activation=identity, alpha=0.02142425862824879, hidden_layer_sizes=(50,), learning_rate=constant, solver=adam; total time=   0.0s\n",
      "[CV] END activation=identity, alpha=0.02142425862824879, hidden_layer_sizes=(50,), learning_rate=constant, solver=adam; total time=   0.0s\n",
      "[CV] END activation=identity, alpha=0.02142425862824879, hidden_layer_sizes=(50,), learning_rate=constant, solver=adam; total time=   0.0s\n",
      "[CV] END activation=logistic, alpha=0.0010968505033932747, hidden_layer_sizes=(20, 20), learning_rate=constant, solver=adam; total time=   0.0s\n",
      "[CV] END activation=logistic, alpha=0.0010968505033932747, hidden_layer_sizes=(20, 20), learning_rate=constant, solver=adam; total time=   0.0s\n",
      "[CV] END activation=logistic, alpha=0.0010968505033932747, hidden_layer_sizes=(20, 20), learning_rate=constant, solver=adam; total time=   0.0s\n",
      "[CV] END activation=logistic, alpha=0.0010968505033932747, hidden_layer_sizes=(20, 20), learning_rate=constant, solver=adam; total time=   0.0s\n",
      "[CV] END activation=logistic, alpha=0.0010968505033932747, hidden_layer_sizes=(20, 20), learning_rate=constant, solver=adam; total time=   0.0s\n",
      "[CV] END activation=logistic, alpha=0.020957135223663968, hidden_layer_sizes=(20, 40, 60), learning_rate=invscaling, solver=sgd; total time=   0.0s\n",
      "[CV] END activation=logistic, alpha=0.020957135223663968, hidden_layer_sizes=(20, 40, 60), learning_rate=invscaling, solver=sgd; total time=   0.0s\n",
      "[CV] END activation=logistic, alpha=0.020957135223663968, hidden_layer_sizes=(20, 40, 60), learning_rate=invscaling, solver=sgd; total time=   0.0s\n",
      "[CV] END activation=logistic, alpha=0.020957135223663968, hidden_layer_sizes=(20, 40, 60), learning_rate=invscaling, solver=sgd; total time=   0.0s\n",
      "[CV] END activation=logistic, alpha=0.020957135223663968, hidden_layer_sizes=(20, 40, 60), learning_rate=invscaling, solver=sgd; total time=   0.0s\n",
      "[CV] END activation=identity, alpha=0.0009847949246681784, hidden_layer_sizes=(60,), learning_rate=adaptive, solver=sgd; total time=   0.2s\n",
      "[CV] END activation=identity, alpha=0.0009847949246681784, hidden_layer_sizes=(60,), learning_rate=adaptive, solver=sgd; total time=   0.1s\n",
      "[CV] END activation=identity, alpha=0.0009847949246681784, hidden_layer_sizes=(60,), learning_rate=adaptive, solver=sgd; total time=   0.1s\n",
      "[CV] END activation=identity, alpha=0.0009847949246681784, hidden_layer_sizes=(60,), learning_rate=adaptive, solver=sgd; total time=   0.2s\n",
      "[CV] END activation=identity, alpha=0.0009847949246681784, hidden_layer_sizes=(60,), learning_rate=adaptive, solver=sgd; total time=   0.1s\n",
      "[CV] END activation=relu, alpha=0.0011371597941930503, hidden_layer_sizes=(60,), learning_rate=adaptive, solver=sgd; total time=   0.2s\n",
      "[CV] END activation=relu, alpha=0.0011371597941930503, hidden_layer_sizes=(60,), learning_rate=adaptive, solver=sgd; total time=   0.3s\n",
      "[CV] END activation=relu, alpha=0.0011371597941930503, hidden_layer_sizes=(60,), learning_rate=adaptive, solver=sgd; total time=   0.2s\n",
      "[CV] END activation=relu, alpha=0.0011371597941930503, hidden_layer_sizes=(60,), learning_rate=adaptive, solver=sgd; total time=   0.2s\n",
      "[CV] END activation=relu, alpha=0.0011371597941930503, hidden_layer_sizes=(60,), learning_rate=adaptive, solver=sgd; total time=   0.2s\n",
      "[CV] END activation=identity, alpha=0.0003787893738435738, hidden_layer_sizes=(50,), learning_rate=invscaling, solver=lbfgs; total time=   0.0s\n",
      "[CV] END activation=identity, alpha=0.0003787893738435738, hidden_layer_sizes=(50,), learning_rate=invscaling, solver=lbfgs; total time=   0.0s\n",
      "[CV] END activation=identity, alpha=0.0003787893738435738, hidden_layer_sizes=(50,), learning_rate=invscaling, solver=lbfgs; total time=   0.1s\n",
      "[CV] END activation=identity, alpha=0.0003787893738435738, hidden_layer_sizes=(50,), learning_rate=invscaling, solver=lbfgs; total time=   0.0s\n",
      "[CV] END activation=identity, alpha=0.0003787893738435738, hidden_layer_sizes=(50,), learning_rate=invscaling, solver=lbfgs; total time=   0.0s\n",
      "[CV] END activation=logistic, alpha=0.002684127608219736, hidden_layer_sizes=(60, 60), learning_rate=constant, solver=sgd; total time=   0.0s\n",
      "[CV] END activation=logistic, alpha=0.002684127608219736, hidden_layer_sizes=(60, 60), learning_rate=constant, solver=sgd; total time=   0.0s\n",
      "[CV] END activation=logistic, alpha=0.002684127608219736, hidden_layer_sizes=(60, 60), learning_rate=constant, solver=sgd; total time=   0.0s\n",
      "[CV] END activation=logistic, alpha=0.002684127608219736, hidden_layer_sizes=(60, 60), learning_rate=constant, solver=sgd; total time=   0.0s\n",
      "[CV] END activation=logistic, alpha=0.002684127608219736, hidden_layer_sizes=(60, 60), learning_rate=constant, solver=sgd; total time=   0.0s\n",
      "[CV] END activation=identity, alpha=0.0046637718167507275, hidden_layer_sizes=(20, 20), learning_rate=adaptive, solver=sgd; total time=   0.2s\n",
      "[CV] END activation=identity, alpha=0.0046637718167507275, hidden_layer_sizes=(20, 20), learning_rate=adaptive, solver=sgd; total time=   0.1s\n",
      "[CV] END activation=identity, alpha=0.0046637718167507275, hidden_layer_sizes=(20, 20), learning_rate=adaptive, solver=sgd; total time=   0.1s\n",
      "[CV] END activation=identity, alpha=0.0046637718167507275, hidden_layer_sizes=(20, 20), learning_rate=adaptive, solver=sgd; total time=   0.1s\n",
      "[CV] END activation=identity, alpha=0.0046637718167507275, hidden_layer_sizes=(20, 20), learning_rate=adaptive, solver=sgd; total time=   0.2s\n",
      "[CV] END activation=identity, alpha=0.00021202859022632074, hidden_layer_sizes=(80,), learning_rate=invscaling, solver=sgd; total time=   0.0s\n",
      "[CV] END activation=identity, alpha=0.00021202859022632074, hidden_layer_sizes=(80,), learning_rate=invscaling, solver=sgd; total time=   0.0s\n",
      "[CV] END activation=identity, alpha=0.00021202859022632074, hidden_layer_sizes=(80,), learning_rate=invscaling, solver=sgd; total time=   0.0s\n",
      "[CV] END activation=identity, alpha=0.00021202859022632074, hidden_layer_sizes=(80,), learning_rate=invscaling, solver=sgd; total time=   0.0s\n",
      "[CV] END activation=identity, alpha=0.00021202859022632074, hidden_layer_sizes=(80,), learning_rate=invscaling, solver=sgd; total time=   0.0s\n",
      "[CV] END activation=tanh, alpha=0.019790611503593625, hidden_layer_sizes=(10,), learning_rate=constant, solver=sgd; total time=   0.0s\n",
      "[CV] END activation=tanh, alpha=0.019790611503593625, hidden_layer_sizes=(10,), learning_rate=constant, solver=sgd; total time=   0.0s\n",
      "[CV] END activation=tanh, alpha=0.019790611503593625, hidden_layer_sizes=(10,), learning_rate=constant, solver=sgd; total time=   0.0s\n",
      "[CV] END activation=tanh, alpha=0.019790611503593625, hidden_layer_sizes=(10,), learning_rate=constant, solver=sgd; total time=   0.0s\n",
      "[CV] END activation=tanh, alpha=0.019790611503593625, hidden_layer_sizes=(10,), learning_rate=constant, solver=sgd; total time=   0.0s\n",
      "[CV] END activation=relu, alpha=0.012381643986803598, hidden_layer_sizes=(70,), learning_rate=invscaling, solver=lbfgs; total time=   0.2s\n",
      "[CV] END activation=relu, alpha=0.012381643986803598, hidden_layer_sizes=(70,), learning_rate=invscaling, solver=lbfgs; total time=   0.2s\n",
      "[CV] END activation=relu, alpha=0.012381643986803598, hidden_layer_sizes=(70,), learning_rate=invscaling, solver=lbfgs; total time=   0.1s\n",
      "[CV] END activation=relu, alpha=0.012381643986803598, hidden_layer_sizes=(70,), learning_rate=invscaling, solver=lbfgs; total time=   0.0s\n",
      "[CV] END activation=relu, alpha=0.012381643986803598, hidden_layer_sizes=(70,), learning_rate=invscaling, solver=lbfgs; total time=   0.2s\n",
      "[CV] END activation=logistic, alpha=0.00020892422044722827, hidden_layer_sizes=(80,), learning_rate=constant, solver=lbfgs; total time=   0.1s\n",
      "[CV] END activation=logistic, alpha=0.00020892422044722827, hidden_layer_sizes=(80,), learning_rate=constant, solver=lbfgs; total time=   0.2s\n",
      "[CV] END activation=logistic, alpha=0.00020892422044722827, hidden_layer_sizes=(80,), learning_rate=constant, solver=lbfgs; total time=   0.0s\n",
      "[CV] END activation=logistic, alpha=0.00020892422044722827, hidden_layer_sizes=(80,), learning_rate=constant, solver=lbfgs; total time=   0.0s\n"
     ]
    },
    {
     "name": "stdout",
     "output_type": "stream",
     "text": [
      "[CV] END activation=logistic, alpha=0.00020892422044722827, hidden_layer_sizes=(80,), learning_rate=constant, solver=lbfgs; total time=   0.0s\n",
      "[CV] END activation=identity, alpha=0.007059541133462368, hidden_layer_sizes=(20,), learning_rate=constant, solver=lbfgs; total time=   0.2s\n",
      "[CV] END activation=identity, alpha=0.007059541133462368, hidden_layer_sizes=(20,), learning_rate=constant, solver=lbfgs; total time=   0.0s\n",
      "[CV] END activation=identity, alpha=0.007059541133462368, hidden_layer_sizes=(20,), learning_rate=constant, solver=lbfgs; total time=   0.1s\n",
      "[CV] END activation=identity, alpha=0.007059541133462368, hidden_layer_sizes=(20,), learning_rate=constant, solver=lbfgs; total time=   0.0s\n",
      "[CV] END activation=identity, alpha=0.007059541133462368, hidden_layer_sizes=(20,), learning_rate=constant, solver=lbfgs; total time=   0.1s\n",
      "[CV] END activation=logistic, alpha=0.022633863524538958, hidden_layer_sizes=(60,), learning_rate=adaptive, solver=adam; total time=   0.0s\n",
      "[CV] END activation=logistic, alpha=0.022633863524538958, hidden_layer_sizes=(60,), learning_rate=adaptive, solver=adam; total time=   0.0s\n",
      "[CV] END activation=logistic, alpha=0.022633863524538958, hidden_layer_sizes=(60,), learning_rate=adaptive, solver=adam; total time=   0.0s\n",
      "[CV] END activation=logistic, alpha=0.022633863524538958, hidden_layer_sizes=(60,), learning_rate=adaptive, solver=adam; total time=   0.0s\n",
      "[CV] END activation=logistic, alpha=0.022633863524538958, hidden_layer_sizes=(60,), learning_rate=adaptive, solver=adam; total time=   0.1s\n",
      "[CV] END activation=tanh, alpha=0.031846867886588054, hidden_layer_sizes=(30, 30), learning_rate=invscaling, solver=adam; total time=   0.1s\n",
      "[CV] END activation=tanh, alpha=0.031846867886588054, hidden_layer_sizes=(30, 30), learning_rate=invscaling, solver=adam; total time=   0.0s\n",
      "[CV] END activation=tanh, alpha=0.031846867886588054, hidden_layer_sizes=(30, 30), learning_rate=invscaling, solver=adam; total time=   0.0s\n",
      "[CV] END activation=tanh, alpha=0.031846867886588054, hidden_layer_sizes=(30, 30), learning_rate=invscaling, solver=adam; total time=   0.0s\n",
      "[CV] END activation=tanh, alpha=0.031846867886588054, hidden_layer_sizes=(30, 30), learning_rate=invscaling, solver=adam; total time=   0.0s\n",
      "[CV] END activation=tanh, alpha=0.0006673303703729602, hidden_layer_sizes=(20, 20), learning_rate=adaptive, solver=adam; total time=   0.1s\n",
      "[CV] END activation=tanh, alpha=0.0006673303703729602, hidden_layer_sizes=(20, 20), learning_rate=adaptive, solver=adam; total time=   0.0s\n",
      "[CV] END activation=tanh, alpha=0.0006673303703729602, hidden_layer_sizes=(20, 20), learning_rate=adaptive, solver=adam; total time=   0.0s\n",
      "[CV] END activation=tanh, alpha=0.0006673303703729602, hidden_layer_sizes=(20, 20), learning_rate=adaptive, solver=adam; total time=   0.0s\n",
      "[CV] END activation=tanh, alpha=0.0006673303703729602, hidden_layer_sizes=(20, 20), learning_rate=adaptive, solver=adam; total time=   0.1s\n",
      "[CV] END activation=identity, alpha=0.012599534448506583, hidden_layer_sizes=(70,), learning_rate=constant, solver=lbfgs; total time=   0.2s\n",
      "[CV] END activation=identity, alpha=0.012599534448506583, hidden_layer_sizes=(70,), learning_rate=constant, solver=lbfgs; total time=   0.1s\n",
      "[CV] END activation=identity, alpha=0.012599534448506583, hidden_layer_sizes=(70,), learning_rate=constant, solver=lbfgs; total time=   0.1s\n",
      "[CV] END activation=identity, alpha=0.012599534448506583, hidden_layer_sizes=(70,), learning_rate=constant, solver=lbfgs; total time=   0.0s\n",
      "[CV] END activation=identity, alpha=0.012599534448506583, hidden_layer_sizes=(70,), learning_rate=constant, solver=lbfgs; total time=   0.1s\n",
      "[CV] END activation=relu, alpha=0.0010973474611679177, hidden_layer_sizes=(20, 40, 60), learning_rate=constant, solver=sgd; total time=   0.1s\n",
      "[CV] END activation=relu, alpha=0.0010973474611679177, hidden_layer_sizes=(20, 40, 60), learning_rate=constant, solver=sgd; total time=   0.2s\n",
      "[CV] END activation=relu, alpha=0.0010973474611679177, hidden_layer_sizes=(20, 40, 60), learning_rate=constant, solver=sgd; total time=   0.2s\n",
      "[CV] END activation=relu, alpha=0.0010973474611679177, hidden_layer_sizes=(20, 40, 60), learning_rate=constant, solver=sgd; total time=   0.1s\n",
      "[CV] END activation=relu, alpha=0.0010973474611679177, hidden_layer_sizes=(20, 40, 60), learning_rate=constant, solver=sgd; total time=   0.0s\n",
      "[CV] END activation=tanh, alpha=0.009735952245631082, hidden_layer_sizes=(20, 20, 20), learning_rate=invscaling, solver=adam; total time=   0.0s\n",
      "[CV] END activation=tanh, alpha=0.009735952245631082, hidden_layer_sizes=(20, 20, 20), learning_rate=invscaling, solver=adam; total time=   0.0s\n",
      "[CV] END activation=tanh, alpha=0.009735952245631082, hidden_layer_sizes=(20, 20, 20), learning_rate=invscaling, solver=adam; total time=   0.0s\n",
      "[CV] END activation=tanh, alpha=0.009735952245631082, hidden_layer_sizes=(20, 20, 20), learning_rate=invscaling, solver=adam; total time=   0.0s\n",
      "[CV] END activation=tanh, alpha=0.009735952245631082, hidden_layer_sizes=(20, 20, 20), learning_rate=invscaling, solver=adam; total time=   0.1s\n",
      "[CV] END activation=identity, alpha=0.014164129850109413, hidden_layer_sizes=(10, 10), learning_rate=invscaling, solver=sgd; total time=   0.0s\n",
      "[CV] END activation=identity, alpha=0.014164129850109413, hidden_layer_sizes=(10, 10), learning_rate=invscaling, solver=sgd; total time=   0.0s\n",
      "[CV] END activation=identity, alpha=0.014164129850109413, hidden_layer_sizes=(10, 10), learning_rate=invscaling, solver=sgd; total time=   0.0s\n",
      "[CV] END activation=identity, alpha=0.014164129850109413, hidden_layer_sizes=(10, 10), learning_rate=invscaling, solver=sgd; total time=   0.0s\n",
      "[CV] END activation=identity, alpha=0.014164129850109413, hidden_layer_sizes=(10, 10), learning_rate=invscaling, solver=sgd; total time=   0.0s\n",
      "[CV] END activation=tanh, alpha=0.0007584490627667604, hidden_layer_sizes=(100,), learning_rate=adaptive, solver=sgd; total time=   0.3s\n",
      "[CV] END activation=tanh, alpha=0.0007584490627667604, hidden_layer_sizes=(100,), learning_rate=adaptive, solver=sgd; total time=   0.3s\n",
      "[CV] END activation=tanh, alpha=0.0007584490627667604, hidden_layer_sizes=(100,), learning_rate=adaptive, solver=sgd; total time=   0.3s\n",
      "[CV] END activation=tanh, alpha=0.0007584490627667604, hidden_layer_sizes=(100,), learning_rate=adaptive, solver=sgd; total time=   0.3s\n",
      "[CV] END activation=tanh, alpha=0.0007584490627667604, hidden_layer_sizes=(100,), learning_rate=adaptive, solver=sgd; total time=   0.3s\n",
      "[CV] END activation=identity, alpha=0.06250131125484172, hidden_layer_sizes=(50,), learning_rate=adaptive, solver=lbfgs; total time=   0.1s\n",
      "[CV] END activation=identity, alpha=0.06250131125484172, hidden_layer_sizes=(50,), learning_rate=adaptive, solver=lbfgs; total time=   0.1s\n",
      "[CV] END activation=identity, alpha=0.06250131125484172, hidden_layer_sizes=(50,), learning_rate=adaptive, solver=lbfgs; total time=   0.1s\n",
      "[CV] END activation=identity, alpha=0.06250131125484172, hidden_layer_sizes=(50,), learning_rate=adaptive, solver=lbfgs; total time=   0.0s\n",
      "[CV] END activation=identity, alpha=0.06250131125484172, hidden_layer_sizes=(50,), learning_rate=adaptive, solver=lbfgs; total time=   0.1s\n",
      "[CV] END activation=logistic, alpha=0.00011570990663526105, hidden_layer_sizes=(20,), learning_rate=invscaling, solver=lbfgs; total time=   0.0s\n",
      "[CV] END activation=logistic, alpha=0.00011570990663526105, hidden_layer_sizes=(20,), learning_rate=invscaling, solver=lbfgs; total time=   0.0s\n",
      "[CV] END activation=logistic, alpha=0.00011570990663526105, hidden_layer_sizes=(20,), learning_rate=invscaling, solver=lbfgs; total time=   0.0s\n",
      "[CV] END activation=logistic, alpha=0.00011570990663526105, hidden_layer_sizes=(20,), learning_rate=invscaling, solver=lbfgs; total time=   0.0s\n",
      "[CV] END activation=logistic, alpha=0.00011570990663526105, hidden_layer_sizes=(20,), learning_rate=invscaling, solver=lbfgs; total time=   0.0s\n",
      "[CV] END activation=identity, alpha=0.02866694420061788, hidden_layer_sizes=(70,), learning_rate=invscaling, solver=adam; total time=   0.0s\n",
      "[CV] END activation=identity, alpha=0.02866694420061788, hidden_layer_sizes=(70,), learning_rate=invscaling, solver=adam; total time=   0.0s\n",
      "[CV] END activation=identity, alpha=0.02866694420061788, hidden_layer_sizes=(70,), learning_rate=invscaling, solver=adam; total time=   0.0s\n"
     ]
    },
    {
     "name": "stdout",
     "output_type": "stream",
     "text": [
      "[CV] END activation=identity, alpha=0.02866694420061788, hidden_layer_sizes=(70,), learning_rate=invscaling, solver=adam; total time=   0.0s\n",
      "[CV] END activation=identity, alpha=0.02866694420061788, hidden_layer_sizes=(70,), learning_rate=invscaling, solver=adam; total time=   0.0s\n",
      "[CV] END activation=identity, alpha=0.00038684860339102564, hidden_layer_sizes=(60,), learning_rate=constant, solver=adam; total time=   0.0s\n",
      "[CV] END activation=identity, alpha=0.00038684860339102564, hidden_layer_sizes=(60,), learning_rate=constant, solver=adam; total time=   0.0s\n",
      "[CV] END activation=identity, alpha=0.00038684860339102564, hidden_layer_sizes=(60,), learning_rate=constant, solver=adam; total time=   0.0s\n",
      "[CV] END activation=identity, alpha=0.00038684860339102564, hidden_layer_sizes=(60,), learning_rate=constant, solver=adam; total time=   0.0s\n",
      "[CV] END activation=identity, alpha=0.00038684860339102564, hidden_layer_sizes=(60,), learning_rate=constant, solver=adam; total time=   0.0s\n",
      "[CV] END activation=logistic, alpha=0.0049048639301639396, hidden_layer_sizes=(50,), learning_rate=adaptive, solver=adam; total time=   0.0s\n",
      "[CV] END activation=logistic, alpha=0.0049048639301639396, hidden_layer_sizes=(50,), learning_rate=adaptive, solver=adam; total time=   0.0s\n",
      "[CV] END activation=logistic, alpha=0.0049048639301639396, hidden_layer_sizes=(50,), learning_rate=adaptive, solver=adam; total time=   0.0s\n",
      "[CV] END activation=logistic, alpha=0.0049048639301639396, hidden_layer_sizes=(50,), learning_rate=adaptive, solver=adam; total time=   0.0s\n",
      "[CV] END activation=logistic, alpha=0.0049048639301639396, hidden_layer_sizes=(50,), learning_rate=adaptive, solver=adam; total time=   0.2s\n",
      "[CV] END activation=tanh, alpha=0.0003361909554861594, hidden_layer_sizes=(70,), learning_rate=constant, solver=lbfgs; total time=   0.3s\n",
      "[CV] END activation=tanh, alpha=0.0003361909554861594, hidden_layer_sizes=(70,), learning_rate=constant, solver=lbfgs; total time=   0.2s\n",
      "[CV] END activation=tanh, alpha=0.0003361909554861594, hidden_layer_sizes=(70,), learning_rate=constant, solver=lbfgs; total time=   0.2s\n",
      "[CV] END activation=tanh, alpha=0.0003361909554861594, hidden_layer_sizes=(70,), learning_rate=constant, solver=lbfgs; total time=   0.0s\n",
      "[CV] END activation=tanh, alpha=0.0003361909554861594, hidden_layer_sizes=(70,), learning_rate=constant, solver=lbfgs; total time=   0.2s\n",
      "[CV] END activation=logistic, alpha=0.0032107628220982634, hidden_layer_sizes=(80,), learning_rate=adaptive, solver=adam; total time=   0.0s\n",
      "[CV] END activation=logistic, alpha=0.0032107628220982634, hidden_layer_sizes=(80,), learning_rate=adaptive, solver=adam; total time=   0.0s\n",
      "[CV] END activation=logistic, alpha=0.0032107628220982634, hidden_layer_sizes=(80,), learning_rate=adaptive, solver=adam; total time=   0.0s\n",
      "[CV] END activation=logistic, alpha=0.0032107628220982634, hidden_layer_sizes=(80,), learning_rate=adaptive, solver=adam; total time=   0.0s\n",
      "[CV] END activation=logistic, alpha=0.0032107628220982634, hidden_layer_sizes=(80,), learning_rate=adaptive, solver=adam; total time=   0.0s\n",
      "[CV] END activation=tanh, alpha=0.004556962520555645, hidden_layer_sizes=(20, 40, 60), learning_rate=constant, solver=lbfgs; total time=   0.4s\n",
      "[CV] END activation=tanh, alpha=0.004556962520555645, hidden_layer_sizes=(20, 40, 60), learning_rate=constant, solver=lbfgs; total time=   0.8s\n"
     ]
    },
    {
     "name": "stderr",
     "output_type": "stream",
     "text": [
      "C:\\Users\\ynjn\\anaconda3\\lib\\site-packages\\sklearn\\neural_network\\_multilayer_perceptron.py:559: ConvergenceWarning: lbfgs failed to converge (status=1):\n",
      "STOP: TOTAL NO. of ITERATIONS REACHED LIMIT.\n",
      "\n",
      "Increase the number of iterations (max_iter) or scale the data as shown in:\n",
      "    https://scikit-learn.org/stable/modules/preprocessing.html\n",
      "  self.n_iter_ = _check_optimize_result(\"lbfgs\", opt_res, self.max_iter)\n"
     ]
    },
    {
     "name": "stdout",
     "output_type": "stream",
     "text": [
      "[CV] END activation=tanh, alpha=0.004556962520555645, hidden_layer_sizes=(20, 40, 60), learning_rate=constant, solver=lbfgs; total time=   1.3s\n",
      "[CV] END activation=tanh, alpha=0.004556962520555645, hidden_layer_sizes=(20, 40, 60), learning_rate=constant, solver=lbfgs; total time=   0.0s\n",
      "[CV] END activation=tanh, alpha=0.004556962520555645, hidden_layer_sizes=(20, 40, 60), learning_rate=constant, solver=lbfgs; total time=   0.4s\n",
      "[CV] END activation=relu, alpha=0.00030329678526640506, hidden_layer_sizes=(80,), learning_rate=constant, solver=sgd; total time=   0.1s\n",
      "[CV] END activation=relu, alpha=0.00030329678526640506, hidden_layer_sizes=(80,), learning_rate=constant, solver=sgd; total time=   0.1s\n",
      "[CV] END activation=relu, alpha=0.00030329678526640506, hidden_layer_sizes=(80,), learning_rate=constant, solver=sgd; total time=   0.1s\n",
      "[CV] END activation=relu, alpha=0.00030329678526640506, hidden_layer_sizes=(80,), learning_rate=constant, solver=sgd; total time=   0.0s\n",
      "[CV] END activation=relu, alpha=0.00030329678526640506, hidden_layer_sizes=(80,), learning_rate=constant, solver=sgd; total time=   0.0s\n",
      "[CV] END activation=tanh, alpha=0.00010514021677758048, hidden_layer_sizes=(50,), learning_rate=adaptive, solver=sgd; total time=   0.2s\n",
      "[CV] END activation=tanh, alpha=0.00010514021677758048, hidden_layer_sizes=(50,), learning_rate=adaptive, solver=sgd; total time=   0.2s\n",
      "[CV] END activation=tanh, alpha=0.00010514021677758048, hidden_layer_sizes=(50,), learning_rate=adaptive, solver=sgd; total time=   0.2s\n",
      "[CV] END activation=tanh, alpha=0.00010514021677758048, hidden_layer_sizes=(50,), learning_rate=adaptive, solver=sgd; total time=   0.2s\n",
      "[CV] END activation=tanh, alpha=0.00010514021677758048, hidden_layer_sizes=(50,), learning_rate=adaptive, solver=sgd; total time=   0.2s\n",
      "[CV] END activation=logistic, alpha=0.0007374450790989762, hidden_layer_sizes=(50,), learning_rate=invscaling, solver=lbfgs; total time=   0.1s\n",
      "[CV] END activation=logistic, alpha=0.0007374450790989762, hidden_layer_sizes=(50,), learning_rate=invscaling, solver=lbfgs; total time=   0.0s\n",
      "[CV] END activation=logistic, alpha=0.0007374450790989762, hidden_layer_sizes=(50,), learning_rate=invscaling, solver=lbfgs; total time=   0.1s\n",
      "[CV] END activation=logistic, alpha=0.0007374450790989762, hidden_layer_sizes=(50,), learning_rate=invscaling, solver=lbfgs; total time=   0.0s\n",
      "[CV] END activation=logistic, alpha=0.0007374450790989762, hidden_layer_sizes=(50,), learning_rate=invscaling, solver=lbfgs; total time=   0.1s\n",
      "[CV] END activation=relu, alpha=0.0016040596955893087, hidden_layer_sizes=(10,), learning_rate=constant, solver=lbfgs; total time=   0.0s\n",
      "[CV] END activation=relu, alpha=0.0016040596955893087, hidden_layer_sizes=(10,), learning_rate=constant, solver=lbfgs; total time=   0.0s\n",
      "[CV] END activation=relu, alpha=0.0016040596955893087, hidden_layer_sizes=(10,), learning_rate=constant, solver=lbfgs; total time=   0.0s\n",
      "[CV] END activation=relu, alpha=0.0016040596955893087, hidden_layer_sizes=(10,), learning_rate=constant, solver=lbfgs; total time=   0.0s\n",
      "[CV] END activation=relu, alpha=0.0016040596955893087, hidden_layer_sizes=(10,), learning_rate=constant, solver=lbfgs; total time=   0.1s\n",
      "[CV] END activation=relu, alpha=0.004668784985774122, hidden_layer_sizes=(10, 10), learning_rate=constant, solver=lbfgs; total time=   0.0s\n",
      "[CV] END activation=relu, alpha=0.004668784985774122, hidden_layer_sizes=(10, 10), learning_rate=constant, solver=lbfgs; total time=   0.0s\n",
      "[CV] END activation=relu, alpha=0.004668784985774122, hidden_layer_sizes=(10, 10), learning_rate=constant, solver=lbfgs; total time=   0.0s\n",
      "[CV] END activation=relu, alpha=0.004668784985774122, hidden_layer_sizes=(10, 10), learning_rate=constant, solver=lbfgs; total time=   0.0s\n",
      "[CV] END activation=relu, alpha=0.004668784985774122, hidden_layer_sizes=(10, 10), learning_rate=constant, solver=lbfgs; total time=   0.1s\n",
      "[CV] END activation=identity, alpha=0.00013701188631770841, hidden_layer_sizes=(20, 40, 60), learning_rate=invscaling, solver=lbfgs; total time=   0.1s\n",
      "[CV] END activation=identity, alpha=0.00013701188631770841, hidden_layer_sizes=(20, 40, 60), learning_rate=invscaling, solver=lbfgs; total time=   0.1s\n",
      "[CV] END activation=identity, alpha=0.00013701188631770841, hidden_layer_sizes=(20, 40, 60), learning_rate=invscaling, solver=lbfgs; total time=   0.4s\n",
      "[CV] END activation=identity, alpha=0.00013701188631770841, hidden_layer_sizes=(20, 40, 60), learning_rate=invscaling, solver=lbfgs; total time=   0.0s\n",
      "[CV] END activation=identity, alpha=0.00013701188631770841, hidden_layer_sizes=(20, 40, 60), learning_rate=invscaling, solver=lbfgs; total time=   0.1s\n",
      "[CV] END activation=relu, alpha=0.04641913473286092, hidden_layer_sizes=(20,), learning_rate=adaptive, solver=lbfgs; total time=   0.0s\n",
      "[CV] END activation=relu, alpha=0.04641913473286092, hidden_layer_sizes=(20,), learning_rate=adaptive, solver=lbfgs; total time=   0.2s\n"
     ]
    },
    {
     "name": "stderr",
     "output_type": "stream",
     "text": [
      "C:\\Users\\ynjn\\anaconda3\\lib\\site-packages\\sklearn\\neural_network\\_multilayer_perceptron.py:559: ConvergenceWarning: lbfgs failed to converge (status=1):\n",
      "STOP: TOTAL NO. of ITERATIONS REACHED LIMIT.\n",
      "\n",
      "Increase the number of iterations (max_iter) or scale the data as shown in:\n",
      "    https://scikit-learn.org/stable/modules/preprocessing.html\n",
      "  self.n_iter_ = _check_optimize_result(\"lbfgs\", opt_res, self.max_iter)\n"
     ]
    },
    {
     "name": "stdout",
     "output_type": "stream",
     "text": [
      "[CV] END activation=relu, alpha=0.04641913473286092, hidden_layer_sizes=(20,), learning_rate=adaptive, solver=lbfgs; total time=   0.3s\n",
      "[CV] END activation=relu, alpha=0.04641913473286092, hidden_layer_sizes=(20,), learning_rate=adaptive, solver=lbfgs; total time=   0.0s\n",
      "[CV] END activation=relu, alpha=0.04641913473286092, hidden_layer_sizes=(20,), learning_rate=adaptive, solver=lbfgs; total time=   0.2s\n",
      "[CV] END activation=logistic, alpha=0.00017912019554732565, hidden_layer_sizes=(20, 20), learning_rate=invscaling, solver=sgd; total time=   0.0s\n",
      "[CV] END activation=logistic, alpha=0.00017912019554732565, hidden_layer_sizes=(20, 20), learning_rate=invscaling, solver=sgd; total time=   0.0s\n",
      "[CV] END activation=logistic, alpha=0.00017912019554732565, hidden_layer_sizes=(20, 20), learning_rate=invscaling, solver=sgd; total time=   0.0s\n",
      "[CV] END activation=logistic, alpha=0.00017912019554732565, hidden_layer_sizes=(20, 20), learning_rate=invscaling, solver=sgd; total time=   0.0s\n",
      "[CV] END activation=logistic, alpha=0.00017912019554732565, hidden_layer_sizes=(20, 20), learning_rate=invscaling, solver=sgd; total time=   0.0s\n",
      "[CV] END activation=logistic, alpha=0.04603234095490197, hidden_layer_sizes=(50,), learning_rate=invscaling, solver=lbfgs; total time=   0.0s\n",
      "[CV] END activation=logistic, alpha=0.04603234095490197, hidden_layer_sizes=(50,), learning_rate=invscaling, solver=lbfgs; total time=   0.0s\n",
      "[CV] END activation=logistic, alpha=0.04603234095490197, hidden_layer_sizes=(50,), learning_rate=invscaling, solver=lbfgs; total time=   0.0s\n",
      "[CV] END activation=logistic, alpha=0.04603234095490197, hidden_layer_sizes=(50,), learning_rate=invscaling, solver=lbfgs; total time=   0.0s\n",
      "[CV] END activation=logistic, alpha=0.04603234095490197, hidden_layer_sizes=(50,), learning_rate=invscaling, solver=lbfgs; total time=   0.1s\n"
     ]
    },
    {
     "data": {
      "text/html": [
       "<style>#sk-container-id-9 {color: black;background-color: white;}#sk-container-id-9 pre{padding: 0;}#sk-container-id-9 div.sk-toggleable {background-color: white;}#sk-container-id-9 label.sk-toggleable__label {cursor: pointer;display: block;width: 100%;margin-bottom: 0;padding: 0.3em;box-sizing: border-box;text-align: center;}#sk-container-id-9 label.sk-toggleable__label-arrow:before {content: \"▸\";float: left;margin-right: 0.25em;color: #696969;}#sk-container-id-9 label.sk-toggleable__label-arrow:hover:before {color: black;}#sk-container-id-9 div.sk-estimator:hover label.sk-toggleable__label-arrow:before {color: black;}#sk-container-id-9 div.sk-toggleable__content {max-height: 0;max-width: 0;overflow: hidden;text-align: left;background-color: #f0f8ff;}#sk-container-id-9 div.sk-toggleable__content pre {margin: 0.2em;color: black;border-radius: 0.25em;background-color: #f0f8ff;}#sk-container-id-9 input.sk-toggleable__control:checked~div.sk-toggleable__content {max-height: 200px;max-width: 100%;overflow: auto;}#sk-container-id-9 input.sk-toggleable__control:checked~label.sk-toggleable__label-arrow:before {content: \"▾\";}#sk-container-id-9 div.sk-estimator input.sk-toggleable__control:checked~label.sk-toggleable__label {background-color: #d4ebff;}#sk-container-id-9 div.sk-label input.sk-toggleable__control:checked~label.sk-toggleable__label {background-color: #d4ebff;}#sk-container-id-9 input.sk-hidden--visually {border: 0;clip: rect(1px 1px 1px 1px);clip: rect(1px, 1px, 1px, 1px);height: 1px;margin: -1px;overflow: hidden;padding: 0;position: absolute;width: 1px;}#sk-container-id-9 div.sk-estimator {font-family: monospace;background-color: #f0f8ff;border: 1px dotted black;border-radius: 0.25em;box-sizing: border-box;margin-bottom: 0.5em;}#sk-container-id-9 div.sk-estimator:hover {background-color: #d4ebff;}#sk-container-id-9 div.sk-parallel-item::after {content: \"\";width: 100%;border-bottom: 1px solid gray;flex-grow: 1;}#sk-container-id-9 div.sk-label:hover label.sk-toggleable__label {background-color: #d4ebff;}#sk-container-id-9 div.sk-serial::before {content: \"\";position: absolute;border-left: 1px solid gray;box-sizing: border-box;top: 0;bottom: 0;left: 50%;z-index: 0;}#sk-container-id-9 div.sk-serial {display: flex;flex-direction: column;align-items: center;background-color: white;padding-right: 0.2em;padding-left: 0.2em;position: relative;}#sk-container-id-9 div.sk-item {position: relative;z-index: 1;}#sk-container-id-9 div.sk-parallel {display: flex;align-items: stretch;justify-content: center;background-color: white;position: relative;}#sk-container-id-9 div.sk-item::before, #sk-container-id-9 div.sk-parallel-item::before {content: \"\";position: absolute;border-left: 1px solid gray;box-sizing: border-box;top: 0;bottom: 0;left: 50%;z-index: -1;}#sk-container-id-9 div.sk-parallel-item {display: flex;flex-direction: column;z-index: 1;position: relative;background-color: white;}#sk-container-id-9 div.sk-parallel-item:first-child::after {align-self: flex-end;width: 50%;}#sk-container-id-9 div.sk-parallel-item:last-child::after {align-self: flex-start;width: 50%;}#sk-container-id-9 div.sk-parallel-item:only-child::after {width: 0;}#sk-container-id-9 div.sk-dashed-wrapped {border: 1px dashed gray;margin: 0 0.4em 0.5em 0.4em;box-sizing: border-box;padding-bottom: 0.4em;background-color: white;}#sk-container-id-9 div.sk-label label {font-family: monospace;font-weight: bold;display: inline-block;line-height: 1.2em;}#sk-container-id-9 div.sk-label-container {text-align: center;}#sk-container-id-9 div.sk-container {/* jupyter's `normalize.less` sets `[hidden] { display: none; }` but bootstrap.min.css set `[hidden] { display: none !important; }` so we also need the `!important` here to be able to override the default hidden behavior on the sphinx rendered scikit-learn.org. See: https://github.com/scikit-learn/scikit-learn/issues/21755 */display: inline-block !important;position: relative;}#sk-container-id-9 div.sk-text-repr-fallback {display: none;}</style><div id=\"sk-container-id-9\" class=\"sk-top-container\"><div class=\"sk-text-repr-fallback\"><pre>RandomizedSearchCV(cv=5,\n",
       "                   estimator=MLPClassifier(early_stopping=True, solver=&#x27;lbfgs&#x27;),\n",
       "                   n_iter=50,\n",
       "                   param_distributions={&#x27;activation&#x27;: [&#x27;identity&#x27;, &#x27;logistic&#x27;,\n",
       "                                                       &#x27;tanh&#x27;, &#x27;relu&#x27;],\n",
       "                                        &#x27;alpha&#x27;: &lt;scipy.stats._distn_infrastructure.rv_frozen object at 0x000001C2F7439FD0&gt;,\n",
       "                                        &#x27;hidden_layer_sizes&#x27;: [(10,), (20,),\n",
       "                                                               (30,), (40,),\n",
       "                                                               (50,), (60,),\n",
       "                                                               (70,), (80,),\n",
       "                                                               (90,), (100,),\n",
       "                                                               (10, 10),\n",
       "                                                               (20, 20),\n",
       "                                                               (30, 30),\n",
       "                                                               (60, 60),\n",
       "                                                               (10, 30, 10),\n",
       "                                                               (20, 20, 20),\n",
       "                                                               (20, 40, 60),\n",
       "                                                               (60, 60, 60)],\n",
       "                                        &#x27;learning_rate&#x27;: [&#x27;constant&#x27;,\n",
       "                                                          &#x27;invscaling&#x27;,\n",
       "                                                          &#x27;adaptive&#x27;],\n",
       "                                        &#x27;solver&#x27;: [&#x27;lbfgs&#x27;, &#x27;sgd&#x27;, &#x27;adam&#x27;]},\n",
       "                   scoring=&#x27;accuracy&#x27;, verbose=2)</pre><b>In a Jupyter environment, please rerun this cell to show the HTML representation or trust the notebook. <br />On GitHub, the HTML representation is unable to render, please try loading this page with nbviewer.org.</b></div><div class=\"sk-container\" hidden><div class=\"sk-item sk-dashed-wrapped\"><div class=\"sk-label-container\"><div class=\"sk-label sk-toggleable\"><input class=\"sk-toggleable__control sk-hidden--visually\" id=\"sk-estimator-id-25\" type=\"checkbox\" ><label for=\"sk-estimator-id-25\" class=\"sk-toggleable__label sk-toggleable__label-arrow\">RandomizedSearchCV</label><div class=\"sk-toggleable__content\"><pre>RandomizedSearchCV(cv=5,\n",
       "                   estimator=MLPClassifier(early_stopping=True, solver=&#x27;lbfgs&#x27;),\n",
       "                   n_iter=50,\n",
       "                   param_distributions={&#x27;activation&#x27;: [&#x27;identity&#x27;, &#x27;logistic&#x27;,\n",
       "                                                       &#x27;tanh&#x27;, &#x27;relu&#x27;],\n",
       "                                        &#x27;alpha&#x27;: &lt;scipy.stats._distn_infrastructure.rv_frozen object at 0x000001C2F7439FD0&gt;,\n",
       "                                        &#x27;hidden_layer_sizes&#x27;: [(10,), (20,),\n",
       "                                                               (30,), (40,),\n",
       "                                                               (50,), (60,),\n",
       "                                                               (70,), (80,),\n",
       "                                                               (90,), (100,),\n",
       "                                                               (10, 10),\n",
       "                                                               (20, 20),\n",
       "                                                               (30, 30),\n",
       "                                                               (60, 60),\n",
       "                                                               (10, 30, 10),\n",
       "                                                               (20, 20, 20),\n",
       "                                                               (20, 40, 60),\n",
       "                                                               (60, 60, 60)],\n",
       "                                        &#x27;learning_rate&#x27;: [&#x27;constant&#x27;,\n",
       "                                                          &#x27;invscaling&#x27;,\n",
       "                                                          &#x27;adaptive&#x27;],\n",
       "                                        &#x27;solver&#x27;: [&#x27;lbfgs&#x27;, &#x27;sgd&#x27;, &#x27;adam&#x27;]},\n",
       "                   scoring=&#x27;accuracy&#x27;, verbose=2)</pre></div></div></div><div class=\"sk-parallel\"><div class=\"sk-parallel-item\"><div class=\"sk-item\"><div class=\"sk-label-container\"><div class=\"sk-label sk-toggleable\"><input class=\"sk-toggleable__control sk-hidden--visually\" id=\"sk-estimator-id-26\" type=\"checkbox\" ><label for=\"sk-estimator-id-26\" class=\"sk-toggleable__label sk-toggleable__label-arrow\">estimator: MLPClassifier</label><div class=\"sk-toggleable__content\"><pre>MLPClassifier(early_stopping=True, solver=&#x27;lbfgs&#x27;)</pre></div></div></div><div class=\"sk-serial\"><div class=\"sk-item\"><div class=\"sk-estimator sk-toggleable\"><input class=\"sk-toggleable__control sk-hidden--visually\" id=\"sk-estimator-id-27\" type=\"checkbox\" ><label for=\"sk-estimator-id-27\" class=\"sk-toggleable__label sk-toggleable__label-arrow\">MLPClassifier</label><div class=\"sk-toggleable__content\"><pre>MLPClassifier(early_stopping=True, solver=&#x27;lbfgs&#x27;)</pre></div></div></div></div></div></div></div></div></div></div>"
      ],
      "text/plain": [
       "RandomizedSearchCV(cv=5,\n",
       "                   estimator=MLPClassifier(early_stopping=True, solver='lbfgs'),\n",
       "                   n_iter=50,\n",
       "                   param_distributions={'activation': ['identity', 'logistic',\n",
       "                                                       'tanh', 'relu'],\n",
       "                                        'alpha': <scipy.stats._distn_infrastructure.rv_frozen object at 0x000001C2F7439FD0>,\n",
       "                                        'hidden_layer_sizes': [(10,), (20,),\n",
       "                                                               (30,), (40,),\n",
       "                                                               (50,), (60,),\n",
       "                                                               (70,), (80,),\n",
       "                                                               (90,), (100,),\n",
       "                                                               (10, 10),\n",
       "                                                               (20, 20),\n",
       "                                                               (30, 30),\n",
       "                                                               (60, 60),\n",
       "                                                               (10, 30, 10),\n",
       "                                                               (20, 20, 20),\n",
       "                                                               (20, 40, 60),\n",
       "                                                               (60, 60, 60)],\n",
       "                                        'learning_rate': ['constant',\n",
       "                                                          'invscaling',\n",
       "                                                          'adaptive'],\n",
       "                                        'solver': ['lbfgs', 'sgd', 'adam']},\n",
       "                   scoring='accuracy', verbose=2)"
      ]
     },
     "execution_count": 63,
     "metadata": {},
     "output_type": "execute_result"
    }
   ],
   "source": [
    "from sklearn.model_selection import RandomizedSearchCV\n",
    "from scipy.stats import expon, reciprocal\n",
    "from sklearn.model_selection import cross_val_score\n",
    "\n",
    "param_distribs={\n",
    "    'hidden_layer_sizes': [(10,),(20,),(30,),(40,),(50,),(60,),(70,),(80,),(90,),(100,),\n",
    "                           (10,10),(20,20),(30,30),(60,60),(10,30,10),(20,20,20),(20,40,60),(60,60,60)],\n",
    "    'activation': ['identity', 'logistic', 'tanh', 'relu'],\n",
    "    'solver': ['lbfgs', 'sgd', 'adam'],\n",
    "#    'beta_1': reciprocal(0.1,1),\n",
    "#    'beta_2': reciprocal(0.1,1),\n",
    "#    'learning_rate_init': reciprocal(0.0001,0.1),\n",
    "    'alpha': reciprocal(0.0001,0.1),\n",
    "    'learning_rate': ['constant','invscaling','adaptive'],\n",
    "}\n",
    "\n",
    "mlp_gs = MLPClassifier(solver='lbfgs', early_stopping=True)\n",
    "\n",
    "rnd_search=RandomizedSearchCV(mlp_gs, param_distributions=param_distribs, n_iter=50, cv=5, refit=True, scoring='accuracy', verbose=2)\n",
    "rnd_search.fit(train_features, Y_train_smote)"
   ]
  },
  {
   "cell_type": "code",
   "execution_count": 64,
   "id": "7aca4136",
   "metadata": {},
   "outputs": [
    {
     "name": "stdout",
     "output_type": "stream",
     "text": [
      "{'activation': 'relu', 'alpha': 0.0002448536448270997, 'hidden_layer_sizes': (60,), 'learning_rate': 'adaptive', 'solver': 'lbfgs'}\n",
      "0.9720930232558139\n"
     ]
    }
   ],
   "source": [
    "print(rnd_search.best_params_)\n",
    "print(rnd_search.best_score_)"
   ]
  },
  {
   "cell_type": "code",
   "execution_count": 65,
   "id": "ecc79bb8",
   "metadata": {},
   "outputs": [
    {
     "name": "stdout",
     "output_type": "stream",
     "text": [
      "Confusion Matrix (Accuracy 0.9977)\n",
      "\n",
      "       Prediction\n",
      "Actual   0   1\n",
      "     0 215   0\n",
      "     1   1 214\n",
      "None\n",
      "Confusion Matrix (Accuracy 0.9342)\n",
      "\n",
      "       Prediction\n",
      "Actual  0  1\n",
      "     0  0  5\n",
      "     1  0 71\n",
      "None\n"
     ]
    },
    {
     "name": "stderr",
     "output_type": "stream",
     "text": [
      "C:\\Users\\ynjn\\anaconda3\\lib\\site-packages\\sklearn\\base.py:443: UserWarning: X has feature names, but MLPClassifier was fitted without feature names\n",
      "  warnings.warn(\n"
     ]
    }
   ],
   "source": [
    "pred=rnd_search.predict(train_features)\n",
    "print(classificationSummary(Y_train_smote,pred))\n",
    "rnd_search_pf = rnd_search.best_estimator_.predict(X_test)\n",
    "print(classificationSummary(Y_test,rnd_search_pf))"
   ]
  },
  {
   "cell_type": "code",
   "execution_count": 70,
   "id": "8460087b",
   "metadata": {
    "scrolled": true
   },
   "outputs": [
    {
     "name": "stdout",
     "output_type": "stream",
     "text": [
      "Fitting 5 folds for each of 50 candidates, totalling 250 fits\n",
      "[CV] END activation=relu, alpha=0.0014599400258276068, hidden_layer_sizes=(30,), learning_rate=adaptive, solver=sgd; total time=   0.2s\n",
      "[CV] END activation=relu, alpha=0.0014599400258276068, hidden_layer_sizes=(30,), learning_rate=adaptive, solver=sgd; total time=   0.1s\n",
      "[CV] END activation=relu, alpha=0.0014599400258276068, hidden_layer_sizes=(30,), learning_rate=adaptive, solver=sgd; total time=   0.1s\n",
      "[CV] END activation=relu, alpha=0.0014599400258276068, hidden_layer_sizes=(30,), learning_rate=adaptive, solver=sgd; total time=   0.2s\n",
      "[CV] END activation=relu, alpha=0.0014599400258276068, hidden_layer_sizes=(30,), learning_rate=adaptive, solver=sgd; total time=   0.2s\n",
      "[CV] END activation=logistic, alpha=0.0018319147111729292, hidden_layer_sizes=(40,), learning_rate=adaptive, solver=sgd; total time=   0.2s\n",
      "[CV] END activation=logistic, alpha=0.0018319147111729292, hidden_layer_sizes=(40,), learning_rate=adaptive, solver=sgd; total time=   0.1s\n",
      "[CV] END activation=logistic, alpha=0.0018319147111729292, hidden_layer_sizes=(40,), learning_rate=adaptive, solver=sgd; total time=   0.1s\n",
      "[CV] END activation=logistic, alpha=0.0018319147111729292, hidden_layer_sizes=(40,), learning_rate=adaptive, solver=sgd; total time=   0.1s\n",
      "[CV] END activation=logistic, alpha=0.0018319147111729292, hidden_layer_sizes=(40,), learning_rate=adaptive, solver=sgd; total time=   0.1s\n",
      "[CV] END activation=tanh, alpha=0.0006145007513681055, hidden_layer_sizes=(50,), learning_rate=adaptive, solver=lbfgs; total time=   0.3s\n",
      "[CV] END activation=tanh, alpha=0.0006145007513681055, hidden_layer_sizes=(50,), learning_rate=adaptive, solver=lbfgs; total time=   0.0s\n",
      "[CV] END activation=tanh, alpha=0.0006145007513681055, hidden_layer_sizes=(50,), learning_rate=adaptive, solver=lbfgs; total time=   0.2s\n",
      "[CV] END activation=tanh, alpha=0.0006145007513681055, hidden_layer_sizes=(50,), learning_rate=adaptive, solver=lbfgs; total time=   0.1s\n",
      "[CV] END activation=tanh, alpha=0.0006145007513681055, hidden_layer_sizes=(50,), learning_rate=adaptive, solver=lbfgs; total time=   0.2s\n",
      "[CV] END activation=tanh, alpha=0.03467047861483187, hidden_layer_sizes=(20, 20, 20), learning_rate=adaptive, solver=adam; total time=   0.1s\n",
      "[CV] END activation=tanh, alpha=0.03467047861483187, hidden_layer_sizes=(20, 20, 20), learning_rate=adaptive, solver=adam; total time=   0.0s\n",
      "[CV] END activation=tanh, alpha=0.03467047861483187, hidden_layer_sizes=(20, 20, 20), learning_rate=adaptive, solver=adam; total time=   0.2s\n",
      "[CV] END activation=tanh, alpha=0.03467047861483187, hidden_layer_sizes=(20, 20, 20), learning_rate=adaptive, solver=adam; total time=   0.1s\n",
      "[CV] END activation=tanh, alpha=0.03467047861483187, hidden_layer_sizes=(20, 20, 20), learning_rate=adaptive, solver=adam; total time=   0.1s\n",
      "[CV] END activation=tanh, alpha=0.0006724930650063521, hidden_layer_sizes=(30,), learning_rate=adaptive, solver=adam; total time=   0.0s\n",
      "[CV] END activation=tanh, alpha=0.0006724930650063521, hidden_layer_sizes=(30,), learning_rate=adaptive, solver=adam; total time=   0.0s\n",
      "[CV] END activation=tanh, alpha=0.0006724930650063521, hidden_layer_sizes=(30,), learning_rate=adaptive, solver=adam; total time=   0.0s\n",
      "[CV] END activation=tanh, alpha=0.0006724930650063521, hidden_layer_sizes=(30,), learning_rate=adaptive, solver=adam; total time=   0.1s\n",
      "[CV] END activation=tanh, alpha=0.0006724930650063521, hidden_layer_sizes=(30,), learning_rate=adaptive, solver=adam; total time=   0.1s\n",
      "[CV] END activation=relu, alpha=0.02394063848000661, hidden_layer_sizes=(60, 60), learning_rate=constant, solver=sgd; total time=   0.1s\n",
      "[CV] END activation=relu, alpha=0.02394063848000661, hidden_layer_sizes=(60, 60), learning_rate=constant, solver=sgd; total time=   0.0s\n",
      "[CV] END activation=relu, alpha=0.02394063848000661, hidden_layer_sizes=(60, 60), learning_rate=constant, solver=sgd; total time=   0.0s\n",
      "[CV] END activation=relu, alpha=0.02394063848000661, hidden_layer_sizes=(60, 60), learning_rate=constant, solver=sgd; total time=   0.1s\n",
      "[CV] END activation=relu, alpha=0.02394063848000661, hidden_layer_sizes=(60, 60), learning_rate=constant, solver=sgd; total time=   0.0s\n",
      "[CV] END activation=relu, alpha=0.0017421349273999106, hidden_layer_sizes=(70,), learning_rate=constant, solver=adam; total time=   0.0s\n",
      "[CV] END activation=relu, alpha=0.0017421349273999106, hidden_layer_sizes=(70,), learning_rate=constant, solver=adam; total time=   0.1s\n",
      "[CV] END activation=relu, alpha=0.0017421349273999106, hidden_layer_sizes=(70,), learning_rate=constant, solver=adam; total time=   0.0s\n",
      "[CV] END activation=relu, alpha=0.0017421349273999106, hidden_layer_sizes=(70,), learning_rate=constant, solver=adam; total time=   0.1s\n",
      "[CV] END activation=relu, alpha=0.0017421349273999106, hidden_layer_sizes=(70,), learning_rate=constant, solver=adam; total time=   0.0s\n",
      "[CV] END activation=tanh, alpha=0.0006290994434240404, hidden_layer_sizes=(20, 20, 20), learning_rate=adaptive, solver=sgd; total time=   0.3s\n",
      "[CV] END activation=tanh, alpha=0.0006290994434240404, hidden_layer_sizes=(20, 20, 20), learning_rate=adaptive, solver=sgd; total time=   0.4s\n",
      "[CV] END activation=tanh, alpha=0.0006290994434240404, hidden_layer_sizes=(20, 20, 20), learning_rate=adaptive, solver=sgd; total time=   0.2s\n",
      "[CV] END activation=tanh, alpha=0.0006290994434240404, hidden_layer_sizes=(20, 20, 20), learning_rate=adaptive, solver=sgd; total time=   0.3s\n",
      "[CV] END activation=tanh, alpha=0.0006290994434240404, hidden_layer_sizes=(20, 20, 20), learning_rate=adaptive, solver=sgd; total time=   0.3s\n",
      "[CV] END activation=relu, alpha=0.00395297438833243, hidden_layer_sizes=(20,), learning_rate=invscaling, solver=sgd; total time=   0.0s\n",
      "[CV] END activation=relu, alpha=0.00395297438833243, hidden_layer_sizes=(20,), learning_rate=invscaling, solver=sgd; total time=   0.0s\n",
      "[CV] END activation=relu, alpha=0.00395297438833243, hidden_layer_sizes=(20,), learning_rate=invscaling, solver=sgd; total time=   0.0s\n",
      "[CV] END activation=relu, alpha=0.00395297438833243, hidden_layer_sizes=(20,), learning_rate=invscaling, solver=sgd; total time=   0.0s\n",
      "[CV] END activation=relu, alpha=0.00395297438833243, hidden_layer_sizes=(20,), learning_rate=invscaling, solver=sgd; total time=   0.0s\n",
      "[CV] END activation=logistic, alpha=0.0002579752285995914, hidden_layer_sizes=(50,), learning_rate=adaptive, solver=lbfgs; total time=   0.1s\n",
      "[CV] END activation=logistic, alpha=0.0002579752285995914, hidden_layer_sizes=(50,), learning_rate=adaptive, solver=lbfgs; total time=   0.0s\n",
      "[CV] END activation=logistic, alpha=0.0002579752285995914, hidden_layer_sizes=(50,), learning_rate=adaptive, solver=lbfgs; total time=   0.1s\n",
      "[CV] END activation=logistic, alpha=0.0002579752285995914, hidden_layer_sizes=(50,), learning_rate=adaptive, solver=lbfgs; total time=   0.0s\n",
      "[CV] END activation=logistic, alpha=0.0002579752285995914, hidden_layer_sizes=(50,), learning_rate=adaptive, solver=lbfgs; total time=   0.0s\n",
      "[CV] END activation=relu, alpha=0.0002616389724589791, hidden_layer_sizes=(20, 20, 20), learning_rate=constant, solver=sgd; total time=   0.1s\n",
      "[CV] END activation=relu, alpha=0.0002616389724589791, hidden_layer_sizes=(20, 20, 20), learning_rate=constant, solver=sgd; total time=   0.1s\n",
      "[CV] END activation=relu, alpha=0.0002616389724589791, hidden_layer_sizes=(20, 20, 20), learning_rate=constant, solver=sgd; total time=   0.0s\n",
      "[CV] END activation=relu, alpha=0.0002616389724589791, hidden_layer_sizes=(20, 20, 20), learning_rate=constant, solver=sgd; total time=   0.2s\n",
      "[CV] END activation=relu, alpha=0.0002616389724589791, hidden_layer_sizes=(20, 20, 20), learning_rate=constant, solver=sgd; total time=   0.0s\n",
      "[CV] END activation=tanh, alpha=0.01671613683817949, hidden_layer_sizes=(40,), learning_rate=constant, solver=lbfgs; total time=   0.3s\n",
      "[CV] END activation=tanh, alpha=0.01671613683817949, hidden_layer_sizes=(40,), learning_rate=constant, solver=lbfgs; total time=   0.2s\n",
      "[CV] END activation=tanh, alpha=0.01671613683817949, hidden_layer_sizes=(40,), learning_rate=constant, solver=lbfgs; total time=   0.3s\n",
      "[CV] END activation=tanh, alpha=0.01671613683817949, hidden_layer_sizes=(40,), learning_rate=constant, solver=lbfgs; total time=   0.0s\n"
     ]
    },
    {
     "name": "stdout",
     "output_type": "stream",
     "text": [
      "[CV] END activation=tanh, alpha=0.01671613683817949, hidden_layer_sizes=(40,), learning_rate=constant, solver=lbfgs; total time=   0.3s\n",
      "[CV] END activation=identity, alpha=0.07158481115836791, hidden_layer_sizes=(70,), learning_rate=adaptive, solver=sgd; total time=   0.2s\n",
      "[CV] END activation=identity, alpha=0.07158481115836791, hidden_layer_sizes=(70,), learning_rate=adaptive, solver=sgd; total time=   0.2s\n",
      "[CV] END activation=identity, alpha=0.07158481115836791, hidden_layer_sizes=(70,), learning_rate=adaptive, solver=sgd; total time=   0.2s\n",
      "[CV] END activation=identity, alpha=0.07158481115836791, hidden_layer_sizes=(70,), learning_rate=adaptive, solver=sgd; total time=   0.1s\n",
      "[CV] END activation=identity, alpha=0.07158481115836791, hidden_layer_sizes=(70,), learning_rate=adaptive, solver=sgd; total time=   0.1s\n",
      "[CV] END activation=identity, alpha=0.005008295498834376, hidden_layer_sizes=(60, 60), learning_rate=invscaling, solver=lbfgs; total time=   0.3s\n"
     ]
    },
    {
     "name": "stderr",
     "output_type": "stream",
     "text": [
      "C:\\Users\\ynjn\\anaconda3\\lib\\site-packages\\sklearn\\neural_network\\_multilayer_perceptron.py:559: ConvergenceWarning: lbfgs failed to converge (status=1):\n",
      "STOP: TOTAL NO. of ITERATIONS REACHED LIMIT.\n",
      "\n",
      "Increase the number of iterations (max_iter) or scale the data as shown in:\n",
      "    https://scikit-learn.org/stable/modules/preprocessing.html\n",
      "  self.n_iter_ = _check_optimize_result(\"lbfgs\", opt_res, self.max_iter)\n"
     ]
    },
    {
     "name": "stdout",
     "output_type": "stream",
     "text": [
      "[CV] END activation=identity, alpha=0.005008295498834376, hidden_layer_sizes=(60, 60), learning_rate=invscaling, solver=lbfgs; total time=   0.7s\n",
      "[CV] END activation=identity, alpha=0.005008295498834376, hidden_layer_sizes=(60, 60), learning_rate=invscaling, solver=lbfgs; total time=   0.4s\n",
      "[CV] END activation=identity, alpha=0.005008295498834376, hidden_layer_sizes=(60, 60), learning_rate=invscaling, solver=lbfgs; total time=   0.0s\n"
     ]
    },
    {
     "name": "stderr",
     "output_type": "stream",
     "text": [
      "C:\\Users\\ynjn\\anaconda3\\lib\\site-packages\\sklearn\\neural_network\\_multilayer_perceptron.py:559: ConvergenceWarning: lbfgs failed to converge (status=1):\n",
      "STOP: TOTAL NO. of ITERATIONS REACHED LIMIT.\n",
      "\n",
      "Increase the number of iterations (max_iter) or scale the data as shown in:\n",
      "    https://scikit-learn.org/stable/modules/preprocessing.html\n",
      "  self.n_iter_ = _check_optimize_result(\"lbfgs\", opt_res, self.max_iter)\n"
     ]
    },
    {
     "name": "stdout",
     "output_type": "stream",
     "text": [
      "[CV] END activation=identity, alpha=0.005008295498834376, hidden_layer_sizes=(60, 60), learning_rate=invscaling, solver=lbfgs; total time=   0.7s\n"
     ]
    },
    {
     "name": "stderr",
     "output_type": "stream",
     "text": [
      "C:\\Users\\ynjn\\anaconda3\\lib\\site-packages\\sklearn\\neural_network\\_multilayer_perceptron.py:559: ConvergenceWarning: lbfgs failed to converge (status=1):\n",
      "STOP: TOTAL NO. of ITERATIONS REACHED LIMIT.\n",
      "\n",
      "Increase the number of iterations (max_iter) or scale the data as shown in:\n",
      "    https://scikit-learn.org/stable/modules/preprocessing.html\n",
      "  self.n_iter_ = _check_optimize_result(\"lbfgs\", opt_res, self.max_iter)\n"
     ]
    },
    {
     "name": "stdout",
     "output_type": "stream",
     "text": [
      "[CV] END activation=identity, alpha=0.0813485174780163, hidden_layer_sizes=(10, 10), learning_rate=adaptive, solver=lbfgs; total time=   0.2s\n"
     ]
    },
    {
     "name": "stderr",
     "output_type": "stream",
     "text": [
      "C:\\Users\\ynjn\\anaconda3\\lib\\site-packages\\sklearn\\neural_network\\_multilayer_perceptron.py:559: ConvergenceWarning: lbfgs failed to converge (status=1):\n",
      "STOP: TOTAL NO. of ITERATIONS REACHED LIMIT.\n",
      "\n",
      "Increase the number of iterations (max_iter) or scale the data as shown in:\n",
      "    https://scikit-learn.org/stable/modules/preprocessing.html\n",
      "  self.n_iter_ = _check_optimize_result(\"lbfgs\", opt_res, self.max_iter)\n"
     ]
    },
    {
     "name": "stdout",
     "output_type": "stream",
     "text": [
      "[CV] END activation=identity, alpha=0.0813485174780163, hidden_layer_sizes=(10, 10), learning_rate=adaptive, solver=lbfgs; total time=   0.2s\n"
     ]
    },
    {
     "name": "stderr",
     "output_type": "stream",
     "text": [
      "C:\\Users\\ynjn\\anaconda3\\lib\\site-packages\\sklearn\\neural_network\\_multilayer_perceptron.py:559: ConvergenceWarning: lbfgs failed to converge (status=1):\n",
      "STOP: TOTAL NO. of ITERATIONS REACHED LIMIT.\n",
      "\n",
      "Increase the number of iterations (max_iter) or scale the data as shown in:\n",
      "    https://scikit-learn.org/stable/modules/preprocessing.html\n",
      "  self.n_iter_ = _check_optimize_result(\"lbfgs\", opt_res, self.max_iter)\n"
     ]
    },
    {
     "name": "stdout",
     "output_type": "stream",
     "text": [
      "[CV] END activation=identity, alpha=0.0813485174780163, hidden_layer_sizes=(10, 10), learning_rate=adaptive, solver=lbfgs; total time=   0.2s\n",
      "[CV] END activation=identity, alpha=0.0813485174780163, hidden_layer_sizes=(10, 10), learning_rate=adaptive, solver=lbfgs; total time=   0.0s\n"
     ]
    },
    {
     "name": "stderr",
     "output_type": "stream",
     "text": [
      "C:\\Users\\ynjn\\anaconda3\\lib\\site-packages\\sklearn\\neural_network\\_multilayer_perceptron.py:559: ConvergenceWarning: lbfgs failed to converge (status=1):\n",
      "STOP: TOTAL NO. of ITERATIONS REACHED LIMIT.\n",
      "\n",
      "Increase the number of iterations (max_iter) or scale the data as shown in:\n",
      "    https://scikit-learn.org/stable/modules/preprocessing.html\n",
      "  self.n_iter_ = _check_optimize_result(\"lbfgs\", opt_res, self.max_iter)\n"
     ]
    },
    {
     "name": "stdout",
     "output_type": "stream",
     "text": [
      "[CV] END activation=identity, alpha=0.0813485174780163, hidden_layer_sizes=(10, 10), learning_rate=adaptive, solver=lbfgs; total time=   0.1s\n",
      "[CV] END activation=logistic, alpha=0.0178326117518346, hidden_layer_sizes=(10, 30, 10), learning_rate=invscaling, solver=adam; total time=   0.0s\n",
      "[CV] END activation=logistic, alpha=0.0178326117518346, hidden_layer_sizes=(10, 30, 10), learning_rate=invscaling, solver=adam; total time=   0.0s\n",
      "[CV] END activation=logistic, alpha=0.0178326117518346, hidden_layer_sizes=(10, 30, 10), learning_rate=invscaling, solver=adam; total time=   0.0s\n",
      "[CV] END activation=logistic, alpha=0.0178326117518346, hidden_layer_sizes=(10, 30, 10), learning_rate=invscaling, solver=adam; total time=   0.0s\n",
      "[CV] END activation=logistic, alpha=0.0178326117518346, hidden_layer_sizes=(10, 30, 10), learning_rate=invscaling, solver=adam; total time=   0.0s\n",
      "[CV] END activation=tanh, alpha=0.06301273166465264, hidden_layer_sizes=(20, 20), learning_rate=invscaling, solver=sgd; total time=   0.0s\n",
      "[CV] END activation=tanh, alpha=0.06301273166465264, hidden_layer_sizes=(20, 20), learning_rate=invscaling, solver=sgd; total time=   0.0s\n",
      "[CV] END activation=tanh, alpha=0.06301273166465264, hidden_layer_sizes=(20, 20), learning_rate=invscaling, solver=sgd; total time=   0.0s\n",
      "[CV] END activation=tanh, alpha=0.06301273166465264, hidden_layer_sizes=(20, 20), learning_rate=invscaling, solver=sgd; total time=   0.0s\n",
      "[CV] END activation=tanh, alpha=0.06301273166465264, hidden_layer_sizes=(20, 20), learning_rate=invscaling, solver=sgd; total time=   0.0s\n",
      "[CV] END activation=tanh, alpha=0.00011794167561727758, hidden_layer_sizes=(30, 30), learning_rate=constant, solver=adam; total time=   0.1s\n",
      "[CV] END activation=tanh, alpha=0.00011794167561727758, hidden_layer_sizes=(30, 30), learning_rate=constant, solver=adam; total time=   0.1s\n",
      "[CV] END activation=tanh, alpha=0.00011794167561727758, hidden_layer_sizes=(30, 30), learning_rate=constant, solver=adam; total time=   0.0s\n",
      "[CV] END activation=tanh, alpha=0.00011794167561727758, hidden_layer_sizes=(30, 30), learning_rate=constant, solver=adam; total time=   0.0s\n",
      "[CV] END activation=tanh, alpha=0.00011794167561727758, hidden_layer_sizes=(30, 30), learning_rate=constant, solver=adam; total time=   0.1s\n",
      "[CV] END activation=identity, alpha=0.003157533189567065, hidden_layer_sizes=(80,), learning_rate=adaptive, solver=sgd; total time=   0.2s\n",
      "[CV] END activation=identity, alpha=0.003157533189567065, hidden_layer_sizes=(80,), learning_rate=adaptive, solver=sgd; total time=   0.2s\n",
      "[CV] END activation=identity, alpha=0.003157533189567065, hidden_layer_sizes=(80,), learning_rate=adaptive, solver=sgd; total time=   0.2s\n",
      "[CV] END activation=identity, alpha=0.003157533189567065, hidden_layer_sizes=(80,), learning_rate=adaptive, solver=sgd; total time=   0.1s\n",
      "[CV] END activation=identity, alpha=0.003157533189567065, hidden_layer_sizes=(80,), learning_rate=adaptive, solver=sgd; total time=   0.1s\n",
      "[CV] END activation=tanh, alpha=0.00530144277261289, hidden_layer_sizes=(10, 10), learning_rate=constant, solver=sgd; total time=   0.0s\n",
      "[CV] END activation=tanh, alpha=0.00530144277261289, hidden_layer_sizes=(10, 10), learning_rate=constant, solver=sgd; total time=   0.1s\n",
      "[CV] END activation=tanh, alpha=0.00530144277261289, hidden_layer_sizes=(10, 10), learning_rate=constant, solver=sgd; total time=   0.0s\n",
      "[CV] END activation=tanh, alpha=0.00530144277261289, hidden_layer_sizes=(10, 10), learning_rate=constant, solver=sgd; total time=   0.1s\n",
      "[CV] END activation=tanh, alpha=0.00530144277261289, hidden_layer_sizes=(10, 10), learning_rate=constant, solver=sgd; total time=   0.0s\n",
      "[CV] END activation=identity, alpha=0.0064093877764333385, hidden_layer_sizes=(30, 30), learning_rate=adaptive, solver=sgd; total time=   0.2s\n",
      "[CV] END activation=identity, alpha=0.0064093877764333385, hidden_layer_sizes=(30, 30), learning_rate=adaptive, solver=sgd; total time=   0.1s\n",
      "[CV] END activation=identity, alpha=0.0064093877764333385, hidden_layer_sizes=(30, 30), learning_rate=adaptive, solver=sgd; total time=   0.2s\n",
      "[CV] END activation=identity, alpha=0.0064093877764333385, hidden_layer_sizes=(30, 30), learning_rate=adaptive, solver=sgd; total time=   0.1s\n",
      "[CV] END activation=identity, alpha=0.0064093877764333385, hidden_layer_sizes=(30, 30), learning_rate=adaptive, solver=sgd; total time=   0.2s\n",
      "[CV] END activation=relu, alpha=0.09675324923011379, hidden_layer_sizes=(30,), learning_rate=adaptive, solver=adam; total time=   0.0s\n",
      "[CV] END activation=relu, alpha=0.09675324923011379, hidden_layer_sizes=(30,), learning_rate=adaptive, solver=adam; total time=   0.0s\n",
      "[CV] END activation=relu, alpha=0.09675324923011379, hidden_layer_sizes=(30,), learning_rate=adaptive, solver=adam; total time=   0.0s\n",
      "[CV] END activation=relu, alpha=0.09675324923011379, hidden_layer_sizes=(30,), learning_rate=adaptive, solver=adam; total time=   0.0s\n",
      "[CV] END activation=relu, alpha=0.09675324923011379, hidden_layer_sizes=(30,), learning_rate=adaptive, solver=adam; total time=   0.1s\n",
      "[CV] END activation=identity, alpha=0.0031479840321133076, hidden_layer_sizes=(30, 30), learning_rate=adaptive, solver=lbfgs; total time=   0.3s\n",
      "[CV] END activation=identity, alpha=0.0031479840321133076, hidden_layer_sizes=(30, 30), learning_rate=adaptive, solver=lbfgs; total time=   0.3s\n",
      "[CV] END activation=identity, alpha=0.0031479840321133076, hidden_layer_sizes=(30, 30), learning_rate=adaptive, solver=lbfgs; total time=   0.1s\n",
      "[CV] END activation=identity, alpha=0.0031479840321133076, hidden_layer_sizes=(30, 30), learning_rate=adaptive, solver=lbfgs; total time=   0.0s\n"
     ]
    },
    {
     "name": "stderr",
     "output_type": "stream",
     "text": [
      "C:\\Users\\ynjn\\anaconda3\\lib\\site-packages\\sklearn\\neural_network\\_multilayer_perceptron.py:559: ConvergenceWarning: lbfgs failed to converge (status=1):\n",
      "STOP: TOTAL NO. of ITERATIONS REACHED LIMIT.\n",
      "\n",
      "Increase the number of iterations (max_iter) or scale the data as shown in:\n",
      "    https://scikit-learn.org/stable/modules/preprocessing.html\n",
      "  self.n_iter_ = _check_optimize_result(\"lbfgs\", opt_res, self.max_iter)\n"
     ]
    },
    {
     "name": "stdout",
     "output_type": "stream",
     "text": [
      "[CV] END activation=identity, alpha=0.0031479840321133076, hidden_layer_sizes=(30, 30), learning_rate=adaptive, solver=lbfgs; total time=   0.3s\n",
      "[CV] END activation=identity, alpha=0.014131993203101817, hidden_layer_sizes=(50,), learning_rate=invscaling, solver=sgd; total time=   0.0s\n",
      "[CV] END activation=identity, alpha=0.014131993203101817, hidden_layer_sizes=(50,), learning_rate=invscaling, solver=sgd; total time=   0.0s\n",
      "[CV] END activation=identity, alpha=0.014131993203101817, hidden_layer_sizes=(50,), learning_rate=invscaling, solver=sgd; total time=   0.0s\n",
      "[CV] END activation=identity, alpha=0.014131993203101817, hidden_layer_sizes=(50,), learning_rate=invscaling, solver=sgd; total time=   0.0s\n",
      "[CV] END activation=identity, alpha=0.014131993203101817, hidden_layer_sizes=(50,), learning_rate=invscaling, solver=sgd; total time=   0.0s\n",
      "[CV] END activation=logistic, alpha=0.0936690485813454, hidden_layer_sizes=(90,), learning_rate=invscaling, solver=lbfgs; total time=   0.2s\n",
      "[CV] END activation=logistic, alpha=0.0936690485813454, hidden_layer_sizes=(90,), learning_rate=invscaling, solver=lbfgs; total time=   0.2s\n",
      "[CV] END activation=logistic, alpha=0.0936690485813454, hidden_layer_sizes=(90,), learning_rate=invscaling, solver=lbfgs; total time=   0.1s\n",
      "[CV] END activation=logistic, alpha=0.0936690485813454, hidden_layer_sizes=(90,), learning_rate=invscaling, solver=lbfgs; total time=   0.1s\n",
      "[CV] END activation=logistic, alpha=0.0936690485813454, hidden_layer_sizes=(90,), learning_rate=invscaling, solver=lbfgs; total time=   0.2s\n",
      "[CV] END activation=identity, alpha=0.00011663929323038198, hidden_layer_sizes=(90,), learning_rate=invscaling, solver=sgd; total time=   0.0s\n",
      "[CV] END activation=identity, alpha=0.00011663929323038198, hidden_layer_sizes=(90,), learning_rate=invscaling, solver=sgd; total time=   0.0s\n",
      "[CV] END activation=identity, alpha=0.00011663929323038198, hidden_layer_sizes=(90,), learning_rate=invscaling, solver=sgd; total time=   0.0s\n",
      "[CV] END activation=identity, alpha=0.00011663929323038198, hidden_layer_sizes=(90,), learning_rate=invscaling, solver=sgd; total time=   0.0s\n",
      "[CV] END activation=identity, alpha=0.00011663929323038198, hidden_layer_sizes=(90,), learning_rate=invscaling, solver=sgd; total time=   0.0s\n",
      "[CV] END activation=logistic, alpha=0.0008479149202146179, hidden_layer_sizes=(20, 40, 40, 20), learning_rate=invscaling, solver=adam; total time=   0.0s\n",
      "[CV] END activation=logistic, alpha=0.0008479149202146179, hidden_layer_sizes=(20, 40, 40, 20), learning_rate=invscaling, solver=adam; total time=   0.0s\n",
      "[CV] END activation=logistic, alpha=0.0008479149202146179, hidden_layer_sizes=(20, 40, 40, 20), learning_rate=invscaling, solver=adam; total time=   0.0s\n",
      "[CV] END activation=logistic, alpha=0.0008479149202146179, hidden_layer_sizes=(20, 40, 40, 20), learning_rate=invscaling, solver=adam; total time=   0.0s\n",
      "[CV] END activation=logistic, alpha=0.0008479149202146179, hidden_layer_sizes=(20, 40, 40, 20), learning_rate=invscaling, solver=adam; total time=   0.0s\n",
      "[CV] END activation=tanh, alpha=0.008918288385331012, hidden_layer_sizes=(20,), learning_rate=invscaling, solver=adam; total time=   0.0s\n",
      "[CV] END activation=tanh, alpha=0.008918288385331012, hidden_layer_sizes=(20,), learning_rate=invscaling, solver=adam; total time=   0.1s\n",
      "[CV] END activation=tanh, alpha=0.008918288385331012, hidden_layer_sizes=(20,), learning_rate=invscaling, solver=adam; total time=   0.0s\n",
      "[CV] END activation=tanh, alpha=0.008918288385331012, hidden_layer_sizes=(20,), learning_rate=invscaling, solver=adam; total time=   0.0s\n",
      "[CV] END activation=tanh, alpha=0.008918288385331012, hidden_layer_sizes=(20,), learning_rate=invscaling, solver=adam; total time=   0.0s\n",
      "[CV] END activation=tanh, alpha=0.05382025748117466, hidden_layer_sizes=(80,), learning_rate=invscaling, solver=lbfgs; total time=   0.6s\n",
      "[CV] END activation=tanh, alpha=0.05382025748117466, hidden_layer_sizes=(80,), learning_rate=invscaling, solver=lbfgs; total time=   0.3s\n",
      "[CV] END activation=tanh, alpha=0.05382025748117466, hidden_layer_sizes=(80,), learning_rate=invscaling, solver=lbfgs; total time=   0.3s\n",
      "[CV] END activation=tanh, alpha=0.05382025748117466, hidden_layer_sizes=(80,), learning_rate=invscaling, solver=lbfgs; total time=   0.0s\n",
      "[CV] END activation=tanh, alpha=0.05382025748117466, hidden_layer_sizes=(80,), learning_rate=invscaling, solver=lbfgs; total time=   0.3s\n",
      "[CV] END activation=relu, alpha=0.01982345307053466, hidden_layer_sizes=(30,), learning_rate=invscaling, solver=sgd; total time=   0.0s\n",
      "[CV] END activation=relu, alpha=0.01982345307053466, hidden_layer_sizes=(30,), learning_rate=invscaling, solver=sgd; total time=   0.0s\n",
      "[CV] END activation=relu, alpha=0.01982345307053466, hidden_layer_sizes=(30,), learning_rate=invscaling, solver=sgd; total time=   0.0s\n",
      "[CV] END activation=relu, alpha=0.01982345307053466, hidden_layer_sizes=(30,), learning_rate=invscaling, solver=sgd; total time=   0.0s\n",
      "[CV] END activation=relu, alpha=0.01982345307053466, hidden_layer_sizes=(30,), learning_rate=invscaling, solver=sgd; total time=   0.0s\n",
      "[CV] END activation=tanh, alpha=0.008110743163883579, hidden_layer_sizes=(20, 20), learning_rate=constant, solver=sgd; total time=   0.0s\n",
      "[CV] END activation=tanh, alpha=0.008110743163883579, hidden_layer_sizes=(20, 20), learning_rate=constant, solver=sgd; total time=   0.0s\n",
      "[CV] END activation=tanh, alpha=0.008110743163883579, hidden_layer_sizes=(20, 20), learning_rate=constant, solver=sgd; total time=   0.1s\n",
      "[CV] END activation=tanh, alpha=0.008110743163883579, hidden_layer_sizes=(20, 20), learning_rate=constant, solver=sgd; total time=   0.0s\n",
      "[CV] END activation=tanh, alpha=0.008110743163883579, hidden_layer_sizes=(20, 20), learning_rate=constant, solver=sgd; total time=   0.0s\n",
      "[CV] END activation=tanh, alpha=0.018115146113342424, hidden_layer_sizes=(90,), learning_rate=invscaling, solver=sgd; total time=   0.0s\n",
      "[CV] END activation=tanh, alpha=0.018115146113342424, hidden_layer_sizes=(90,), learning_rate=invscaling, solver=sgd; total time=   0.0s\n",
      "[CV] END activation=tanh, alpha=0.018115146113342424, hidden_layer_sizes=(90,), learning_rate=invscaling, solver=sgd; total time=   0.0s\n",
      "[CV] END activation=tanh, alpha=0.018115146113342424, hidden_layer_sizes=(90,), learning_rate=invscaling, solver=sgd; total time=   0.0s\n",
      "[CV] END activation=tanh, alpha=0.018115146113342424, hidden_layer_sizes=(90,), learning_rate=invscaling, solver=sgd; total time=   0.0s\n",
      "[CV] END activation=identity, alpha=0.005968161676284941, hidden_layer_sizes=(90,), learning_rate=adaptive, solver=sgd; total time=   0.2s\n",
      "[CV] END activation=identity, alpha=0.005968161676284941, hidden_layer_sizes=(90,), learning_rate=adaptive, solver=sgd; total time=   0.2s\n",
      "[CV] END activation=identity, alpha=0.005968161676284941, hidden_layer_sizes=(90,), learning_rate=adaptive, solver=sgd; total time=   0.2s\n",
      "[CV] END activation=identity, alpha=0.005968161676284941, hidden_layer_sizes=(90,), learning_rate=adaptive, solver=sgd; total time=   0.2s\n",
      "[CV] END activation=identity, alpha=0.005968161676284941, hidden_layer_sizes=(90,), learning_rate=adaptive, solver=sgd; total time=   0.2s\n",
      "[CV] END activation=logistic, alpha=0.0031091633286366, hidden_layer_sizes=(80,), learning_rate=constant, solver=lbfgs; total time=   0.2s\n",
      "[CV] END activation=logistic, alpha=0.0031091633286366, hidden_layer_sizes=(80,), learning_rate=constant, solver=lbfgs; total time=   0.0s\n",
      "[CV] END activation=logistic, alpha=0.0031091633286366, hidden_layer_sizes=(80,), learning_rate=constant, solver=lbfgs; total time=   0.0s\n",
      "[CV] END activation=logistic, alpha=0.0031091633286366, hidden_layer_sizes=(80,), learning_rate=constant, solver=lbfgs; total time=   0.0s\n",
      "[CV] END activation=logistic, alpha=0.0031091633286366, hidden_layer_sizes=(80,), learning_rate=constant, solver=lbfgs; total time=   0.2s\n",
      "[CV] END activation=identity, alpha=0.00017120422111143702, hidden_layer_sizes=(60, 60), learning_rate=invscaling, solver=lbfgs; total time=   0.1s\n",
      "[CV] END activation=identity, alpha=0.00017120422111143702, hidden_layer_sizes=(60, 60), learning_rate=invscaling, solver=lbfgs; total time=   0.2s\n",
      "[CV] END activation=identity, alpha=0.00017120422111143702, hidden_layer_sizes=(60, 60), learning_rate=invscaling, solver=lbfgs; total time=   0.1s\n"
     ]
    },
    {
     "name": "stdout",
     "output_type": "stream",
     "text": [
      "[CV] END activation=identity, alpha=0.00017120422111143702, hidden_layer_sizes=(60, 60), learning_rate=invscaling, solver=lbfgs; total time=   0.0s\n",
      "[CV] END activation=identity, alpha=0.00017120422111143702, hidden_layer_sizes=(60, 60), learning_rate=invscaling, solver=lbfgs; total time=   0.1s\n",
      "[CV] END activation=logistic, alpha=0.01648966339090991, hidden_layer_sizes=(10,), learning_rate=constant, solver=sgd; total time=   0.0s\n",
      "[CV] END activation=logistic, alpha=0.01648966339090991, hidden_layer_sizes=(10,), learning_rate=constant, solver=sgd; total time=   0.0s\n",
      "[CV] END activation=logistic, alpha=0.01648966339090991, hidden_layer_sizes=(10,), learning_rate=constant, solver=sgd; total time=   0.0s\n",
      "[CV] END activation=logistic, alpha=0.01648966339090991, hidden_layer_sizes=(10,), learning_rate=constant, solver=sgd; total time=   0.0s\n",
      "[CV] END activation=logistic, alpha=0.01648966339090991, hidden_layer_sizes=(10,), learning_rate=constant, solver=sgd; total time=   0.0s\n",
      "[CV] END activation=logistic, alpha=0.0018467978267694308, hidden_layer_sizes=(10,), learning_rate=adaptive, solver=sgd; total time=   0.0s\n",
      "[CV] END activation=logistic, alpha=0.0018467978267694308, hidden_layer_sizes=(10,), learning_rate=adaptive, solver=sgd; total time=   0.2s\n",
      "[CV] END activation=logistic, alpha=0.0018467978267694308, hidden_layer_sizes=(10,), learning_rate=adaptive, solver=sgd; total time=   0.1s\n",
      "[CV] END activation=logistic, alpha=0.0018467978267694308, hidden_layer_sizes=(10,), learning_rate=adaptive, solver=sgd; total time=   0.1s\n",
      "[CV] END activation=logistic, alpha=0.0018467978267694308, hidden_layer_sizes=(10,), learning_rate=adaptive, solver=sgd; total time=   0.1s\n",
      "[CV] END activation=identity, alpha=0.01566540145061446, hidden_layer_sizes=(60, 60, 60), learning_rate=adaptive, solver=sgd; total time=   0.3s\n",
      "[CV] END activation=identity, alpha=0.01566540145061446, hidden_layer_sizes=(60, 60, 60), learning_rate=adaptive, solver=sgd; total time=   0.2s\n",
      "[CV] END activation=identity, alpha=0.01566540145061446, hidden_layer_sizes=(60, 60, 60), learning_rate=adaptive, solver=sgd; total time=   0.3s\n",
      "[CV] END activation=identity, alpha=0.01566540145061446, hidden_layer_sizes=(60, 60, 60), learning_rate=adaptive, solver=sgd; total time=   0.2s\n",
      "[CV] END activation=identity, alpha=0.01566540145061446, hidden_layer_sizes=(60, 60, 60), learning_rate=adaptive, solver=sgd; total time=   0.4s\n",
      "[CV] END activation=logistic, alpha=0.041158381001041265, hidden_layer_sizes=(10, 10), learning_rate=constant, solver=adam; total time=   0.0s\n",
      "[CV] END activation=logistic, alpha=0.041158381001041265, hidden_layer_sizes=(10, 10), learning_rate=constant, solver=adam; total time=   0.0s\n",
      "[CV] END activation=logistic, alpha=0.041158381001041265, hidden_layer_sizes=(10, 10), learning_rate=constant, solver=adam; total time=   0.0s\n",
      "[CV] END activation=logistic, alpha=0.041158381001041265, hidden_layer_sizes=(10, 10), learning_rate=constant, solver=adam; total time=   0.0s\n",
      "[CV] END activation=logistic, alpha=0.041158381001041265, hidden_layer_sizes=(10, 10), learning_rate=constant, solver=adam; total time=   0.0s\n",
      "[CV] END activation=relu, alpha=0.0006154025527841117, hidden_layer_sizes=(10,), learning_rate=adaptive, solver=adam; total time=   0.0s\n",
      "[CV] END activation=relu, alpha=0.0006154025527841117, hidden_layer_sizes=(10,), learning_rate=adaptive, solver=adam; total time=   0.1s\n",
      "[CV] END activation=relu, alpha=0.0006154025527841117, hidden_layer_sizes=(10,), learning_rate=adaptive, solver=adam; total time=   0.0s\n",
      "[CV] END activation=relu, alpha=0.0006154025527841117, hidden_layer_sizes=(10,), learning_rate=adaptive, solver=adam; total time=   0.0s\n",
      "[CV] END activation=relu, alpha=0.0006154025527841117, hidden_layer_sizes=(10,), learning_rate=adaptive, solver=adam; total time=   0.0s\n",
      "[CV] END activation=relu, alpha=0.0009488698887161009, hidden_layer_sizes=(30, 30), learning_rate=invscaling, solver=adam; total time=   0.1s\n",
      "[CV] END activation=relu, alpha=0.0009488698887161009, hidden_layer_sizes=(30, 30), learning_rate=invscaling, solver=adam; total time=   0.1s\n",
      "[CV] END activation=relu, alpha=0.0009488698887161009, hidden_layer_sizes=(30, 30), learning_rate=invscaling, solver=adam; total time=   0.1s\n",
      "[CV] END activation=relu, alpha=0.0009488698887161009, hidden_layer_sizes=(30, 30), learning_rate=invscaling, solver=adam; total time=   0.1s\n",
      "[CV] END activation=relu, alpha=0.0009488698887161009, hidden_layer_sizes=(30, 30), learning_rate=invscaling, solver=adam; total time=   0.0s\n",
      "[CV] END activation=logistic, alpha=0.0003462067998352839, hidden_layer_sizes=(10, 30, 10), learning_rate=constant, solver=adam; total time=   0.0s\n",
      "[CV] END activation=logistic, alpha=0.0003462067998352839, hidden_layer_sizes=(10, 30, 10), learning_rate=constant, solver=adam; total time=   0.0s\n",
      "[CV] END activation=logistic, alpha=0.0003462067998352839, hidden_layer_sizes=(10, 30, 10), learning_rate=constant, solver=adam; total time=   0.0s\n",
      "[CV] END activation=logistic, alpha=0.0003462067998352839, hidden_layer_sizes=(10, 30, 10), learning_rate=constant, solver=adam; total time=   0.0s\n",
      "[CV] END activation=logistic, alpha=0.0003462067998352839, hidden_layer_sizes=(10, 30, 10), learning_rate=constant, solver=adam; total time=   0.0s\n",
      "[CV] END activation=relu, alpha=0.005357292498524926, hidden_layer_sizes=(10,), learning_rate=adaptive, solver=lbfgs; total time=   0.0s\n"
     ]
    },
    {
     "name": "stderr",
     "output_type": "stream",
     "text": [
      "C:\\Users\\ynjn\\anaconda3\\lib\\site-packages\\sklearn\\neural_network\\_multilayer_perceptron.py:559: ConvergenceWarning: lbfgs failed to converge (status=1):\n",
      "STOP: TOTAL NO. of ITERATIONS REACHED LIMIT.\n",
      "\n",
      "Increase the number of iterations (max_iter) or scale the data as shown in:\n",
      "    https://scikit-learn.org/stable/modules/preprocessing.html\n",
      "  self.n_iter_ = _check_optimize_result(\"lbfgs\", opt_res, self.max_iter)\n"
     ]
    },
    {
     "name": "stdout",
     "output_type": "stream",
     "text": [
      "[CV] END activation=relu, alpha=0.005357292498524926, hidden_layer_sizes=(10,), learning_rate=adaptive, solver=lbfgs; total time=   0.2s\n",
      "[CV] END activation=relu, alpha=0.005357292498524926, hidden_layer_sizes=(10,), learning_rate=adaptive, solver=lbfgs; total time=   0.0s\n",
      "[CV] END activation=relu, alpha=0.005357292498524926, hidden_layer_sizes=(10,), learning_rate=adaptive, solver=lbfgs; total time=   0.0s\n",
      "[CV] END activation=relu, alpha=0.005357292498524926, hidden_layer_sizes=(10,), learning_rate=adaptive, solver=lbfgs; total time=   0.0s\n",
      "[CV] END activation=logistic, alpha=0.0005487252339661706, hidden_layer_sizes=(50,), learning_rate=invscaling, solver=sgd; total time=   0.0s\n",
      "[CV] END activation=logistic, alpha=0.0005487252339661706, hidden_layer_sizes=(50,), learning_rate=invscaling, solver=sgd; total time=   0.0s\n",
      "[CV] END activation=logistic, alpha=0.0005487252339661706, hidden_layer_sizes=(50,), learning_rate=invscaling, solver=sgd; total time=   0.0s\n",
      "[CV] END activation=logistic, alpha=0.0005487252339661706, hidden_layer_sizes=(50,), learning_rate=invscaling, solver=sgd; total time=   0.0s\n",
      "[CV] END activation=logistic, alpha=0.0005487252339661706, hidden_layer_sizes=(50,), learning_rate=invscaling, solver=sgd; total time=   0.0s\n",
      "[CV] END activation=relu, alpha=0.04817209417377487, hidden_layer_sizes=(10,), learning_rate=constant, solver=lbfgs; total time=   0.0s\n",
      "[CV] END activation=relu, alpha=0.04817209417377487, hidden_layer_sizes=(10,), learning_rate=constant, solver=lbfgs; total time=   0.1s\n",
      "[CV] END activation=relu, alpha=0.04817209417377487, hidden_layer_sizes=(10,), learning_rate=constant, solver=lbfgs; total time=   0.0s\n",
      "[CV] END activation=relu, alpha=0.04817209417377487, hidden_layer_sizes=(10,), learning_rate=constant, solver=lbfgs; total time=   0.0s\n",
      "[CV] END activation=relu, alpha=0.04817209417377487, hidden_layer_sizes=(10,), learning_rate=constant, solver=lbfgs; total time=   0.0s\n",
      "[CV] END activation=logistic, alpha=0.03549903788371874, hidden_layer_sizes=(20, 40, 20), learning_rate=invscaling, solver=sgd; total time=   0.0s\n",
      "[CV] END activation=logistic, alpha=0.03549903788371874, hidden_layer_sizes=(20, 40, 20), learning_rate=invscaling, solver=sgd; total time=   0.0s\n",
      "[CV] END activation=logistic, alpha=0.03549903788371874, hidden_layer_sizes=(20, 40, 20), learning_rate=invscaling, solver=sgd; total time=   0.0s\n",
      "[CV] END activation=logistic, alpha=0.03549903788371874, hidden_layer_sizes=(20, 40, 20), learning_rate=invscaling, solver=sgd; total time=   0.0s\n",
      "[CV] END activation=logistic, alpha=0.03549903788371874, hidden_layer_sizes=(20, 40, 20), learning_rate=invscaling, solver=sgd; total time=   0.0s\n",
      "[CV] END activation=tanh, alpha=0.0015878792521341765, hidden_layer_sizes=(10, 30, 10), learning_rate=constant, solver=sgd; total time=   0.0s\n",
      "[CV] END activation=tanh, alpha=0.0015878792521341765, hidden_layer_sizes=(10, 30, 10), learning_rate=constant, solver=sgd; total time=   0.0s\n",
      "[CV] END activation=tanh, alpha=0.0015878792521341765, hidden_layer_sizes=(10, 30, 10), learning_rate=constant, solver=sgd; total time=   0.0s\n",
      "[CV] END activation=tanh, alpha=0.0015878792521341765, hidden_layer_sizes=(10, 30, 10), learning_rate=constant, solver=sgd; total time=   0.1s\n",
      "[CV] END activation=tanh, alpha=0.0015878792521341765, hidden_layer_sizes=(10, 30, 10), learning_rate=constant, solver=sgd; total time=   0.1s\n",
      "[CV] END activation=logistic, alpha=0.00022358699062450775, hidden_layer_sizes=(50,), learning_rate=constant, solver=lbfgs; total time=   0.0s\n",
      "[CV] END activation=logistic, alpha=0.00022358699062450775, hidden_layer_sizes=(50,), learning_rate=constant, solver=lbfgs; total time=   0.0s\n",
      "[CV] END activation=logistic, alpha=0.00022358699062450775, hidden_layer_sizes=(50,), learning_rate=constant, solver=lbfgs; total time=   0.0s\n",
      "[CV] END activation=logistic, alpha=0.00022358699062450775, hidden_layer_sizes=(50,), learning_rate=constant, solver=lbfgs; total time=   0.0s\n",
      "[CV] END activation=logistic, alpha=0.00022358699062450775, hidden_layer_sizes=(50,), learning_rate=constant, solver=lbfgs; total time=   0.0s\n",
      "[CV] END activation=tanh, alpha=0.0005237881851426755, hidden_layer_sizes=(60,), learning_rate=invscaling, solver=lbfgs; total time=   0.3s\n",
      "[CV] END activation=tanh, alpha=0.0005237881851426755, hidden_layer_sizes=(60,), learning_rate=invscaling, solver=lbfgs; total time=   0.2s\n",
      "[CV] END activation=tanh, alpha=0.0005237881851426755, hidden_layer_sizes=(60,), learning_rate=invscaling, solver=lbfgs; total time=   0.2s\n",
      "[CV] END activation=tanh, alpha=0.0005237881851426755, hidden_layer_sizes=(60,), learning_rate=invscaling, solver=lbfgs; total time=   0.0s\n",
      "[CV] END activation=tanh, alpha=0.0005237881851426755, hidden_layer_sizes=(60,), learning_rate=invscaling, solver=lbfgs; total time=   0.1s\n",
      "[CV] END activation=logistic, alpha=0.00011319856977478394, hidden_layer_sizes=(10, 10), learning_rate=adaptive, solver=sgd; total time=   0.1s\n",
      "[CV] END activation=logistic, alpha=0.00011319856977478394, hidden_layer_sizes=(10, 10), learning_rate=adaptive, solver=sgd; total time=   0.1s\n",
      "[CV] END activation=logistic, alpha=0.00011319856977478394, hidden_layer_sizes=(10, 10), learning_rate=adaptive, solver=sgd; total time=   0.1s\n",
      "[CV] END activation=logistic, alpha=0.00011319856977478394, hidden_layer_sizes=(10, 10), learning_rate=adaptive, solver=sgd; total time=   0.1s\n",
      "[CV] END activation=logistic, alpha=0.00011319856977478394, hidden_layer_sizes=(10, 10), learning_rate=adaptive, solver=sgd; total time=   0.1s\n"
     ]
    },
    {
     "data": {
      "text/html": [
       "<style>#sk-container-id-11 {color: black;background-color: white;}#sk-container-id-11 pre{padding: 0;}#sk-container-id-11 div.sk-toggleable {background-color: white;}#sk-container-id-11 label.sk-toggleable__label {cursor: pointer;display: block;width: 100%;margin-bottom: 0;padding: 0.3em;box-sizing: border-box;text-align: center;}#sk-container-id-11 label.sk-toggleable__label-arrow:before {content: \"▸\";float: left;margin-right: 0.25em;color: #696969;}#sk-container-id-11 label.sk-toggleable__label-arrow:hover:before {color: black;}#sk-container-id-11 div.sk-estimator:hover label.sk-toggleable__label-arrow:before {color: black;}#sk-container-id-11 div.sk-toggleable__content {max-height: 0;max-width: 0;overflow: hidden;text-align: left;background-color: #f0f8ff;}#sk-container-id-11 div.sk-toggleable__content pre {margin: 0.2em;color: black;border-radius: 0.25em;background-color: #f0f8ff;}#sk-container-id-11 input.sk-toggleable__control:checked~div.sk-toggleable__content {max-height: 200px;max-width: 100%;overflow: auto;}#sk-container-id-11 input.sk-toggleable__control:checked~label.sk-toggleable__label-arrow:before {content: \"▾\";}#sk-container-id-11 div.sk-estimator input.sk-toggleable__control:checked~label.sk-toggleable__label {background-color: #d4ebff;}#sk-container-id-11 div.sk-label input.sk-toggleable__control:checked~label.sk-toggleable__label {background-color: #d4ebff;}#sk-container-id-11 input.sk-hidden--visually {border: 0;clip: rect(1px 1px 1px 1px);clip: rect(1px, 1px, 1px, 1px);height: 1px;margin: -1px;overflow: hidden;padding: 0;position: absolute;width: 1px;}#sk-container-id-11 div.sk-estimator {font-family: monospace;background-color: #f0f8ff;border: 1px dotted black;border-radius: 0.25em;box-sizing: border-box;margin-bottom: 0.5em;}#sk-container-id-11 div.sk-estimator:hover {background-color: #d4ebff;}#sk-container-id-11 div.sk-parallel-item::after {content: \"\";width: 100%;border-bottom: 1px solid gray;flex-grow: 1;}#sk-container-id-11 div.sk-label:hover label.sk-toggleable__label {background-color: #d4ebff;}#sk-container-id-11 div.sk-serial::before {content: \"\";position: absolute;border-left: 1px solid gray;box-sizing: border-box;top: 0;bottom: 0;left: 50%;z-index: 0;}#sk-container-id-11 div.sk-serial {display: flex;flex-direction: column;align-items: center;background-color: white;padding-right: 0.2em;padding-left: 0.2em;position: relative;}#sk-container-id-11 div.sk-item {position: relative;z-index: 1;}#sk-container-id-11 div.sk-parallel {display: flex;align-items: stretch;justify-content: center;background-color: white;position: relative;}#sk-container-id-11 div.sk-item::before, #sk-container-id-11 div.sk-parallel-item::before {content: \"\";position: absolute;border-left: 1px solid gray;box-sizing: border-box;top: 0;bottom: 0;left: 50%;z-index: -1;}#sk-container-id-11 div.sk-parallel-item {display: flex;flex-direction: column;z-index: 1;position: relative;background-color: white;}#sk-container-id-11 div.sk-parallel-item:first-child::after {align-self: flex-end;width: 50%;}#sk-container-id-11 div.sk-parallel-item:last-child::after {align-self: flex-start;width: 50%;}#sk-container-id-11 div.sk-parallel-item:only-child::after {width: 0;}#sk-container-id-11 div.sk-dashed-wrapped {border: 1px dashed gray;margin: 0 0.4em 0.5em 0.4em;box-sizing: border-box;padding-bottom: 0.4em;background-color: white;}#sk-container-id-11 div.sk-label label {font-family: monospace;font-weight: bold;display: inline-block;line-height: 1.2em;}#sk-container-id-11 div.sk-label-container {text-align: center;}#sk-container-id-11 div.sk-container {/* jupyter's `normalize.less` sets `[hidden] { display: none; }` but bootstrap.min.css set `[hidden] { display: none !important; }` so we also need the `!important` here to be able to override the default hidden behavior on the sphinx rendered scikit-learn.org. See: https://github.com/scikit-learn/scikit-learn/issues/21755 */display: inline-block !important;position: relative;}#sk-container-id-11 div.sk-text-repr-fallback {display: none;}</style><div id=\"sk-container-id-11\" class=\"sk-top-container\"><div class=\"sk-text-repr-fallback\"><pre>RandomizedSearchCV(cv=5,\n",
       "                   estimator=MLPClassifier(early_stopping=True, solver=&#x27;lbfgs&#x27;),\n",
       "                   n_iter=50,\n",
       "                   param_distributions={&#x27;activation&#x27;: [&#x27;identity&#x27;, &#x27;logistic&#x27;,\n",
       "                                                       &#x27;tanh&#x27;, &#x27;relu&#x27;],\n",
       "                                        &#x27;alpha&#x27;: &lt;scipy.stats._distn_infrastructure.rv_frozen object at 0x000001C2FA6556A0&gt;,\n",
       "                                        &#x27;hidden_layer_sizes&#x27;: [(10,), (20,),\n",
       "                                                               (30,), (40,),\n",
       "                                                               (50,), (60,),\n",
       "                                                               (70,), (80,),\n",
       "                                                               (90,), (100,),\n",
       "                                                               (10, 10),\n",
       "                                                               (20, 20),\n",
       "                                                               (30, 30),\n",
       "                                                               (60, 60),\n",
       "                                                               (10, 20, 10),\n",
       "                                                               (10, 30, 10),\n",
       "                                                               (20, 20, 20),\n",
       "                                                               (20, 40, 20),\n",
       "                                                               (60, 60, 60),\n",
       "                                                               (10, 20, 20, 10),\n",
       "                                                               (20, 40, 40,\n",
       "                                                                20)],\n",
       "                                        &#x27;learning_rate&#x27;: [&#x27;constant&#x27;,\n",
       "                                                          &#x27;invscaling&#x27;,\n",
       "                                                          &#x27;adaptive&#x27;],\n",
       "                                        &#x27;solver&#x27;: [&#x27;lbfgs&#x27;, &#x27;sgd&#x27;, &#x27;adam&#x27;]},\n",
       "                   scoring=&#x27;roc_auc&#x27;, verbose=2)</pre><b>In a Jupyter environment, please rerun this cell to show the HTML representation or trust the notebook. <br />On GitHub, the HTML representation is unable to render, please try loading this page with nbviewer.org.</b></div><div class=\"sk-container\" hidden><div class=\"sk-item sk-dashed-wrapped\"><div class=\"sk-label-container\"><div class=\"sk-label sk-toggleable\"><input class=\"sk-toggleable__control sk-hidden--visually\" id=\"sk-estimator-id-31\" type=\"checkbox\" ><label for=\"sk-estimator-id-31\" class=\"sk-toggleable__label sk-toggleable__label-arrow\">RandomizedSearchCV</label><div class=\"sk-toggleable__content\"><pre>RandomizedSearchCV(cv=5,\n",
       "                   estimator=MLPClassifier(early_stopping=True, solver=&#x27;lbfgs&#x27;),\n",
       "                   n_iter=50,\n",
       "                   param_distributions={&#x27;activation&#x27;: [&#x27;identity&#x27;, &#x27;logistic&#x27;,\n",
       "                                                       &#x27;tanh&#x27;, &#x27;relu&#x27;],\n",
       "                                        &#x27;alpha&#x27;: &lt;scipy.stats._distn_infrastructure.rv_frozen object at 0x000001C2FA6556A0&gt;,\n",
       "                                        &#x27;hidden_layer_sizes&#x27;: [(10,), (20,),\n",
       "                                                               (30,), (40,),\n",
       "                                                               (50,), (60,),\n",
       "                                                               (70,), (80,),\n",
       "                                                               (90,), (100,),\n",
       "                                                               (10, 10),\n",
       "                                                               (20, 20),\n",
       "                                                               (30, 30),\n",
       "                                                               (60, 60),\n",
       "                                                               (10, 20, 10),\n",
       "                                                               (10, 30, 10),\n",
       "                                                               (20, 20, 20),\n",
       "                                                               (20, 40, 20),\n",
       "                                                               (60, 60, 60),\n",
       "                                                               (10, 20, 20, 10),\n",
       "                                                               (20, 40, 40,\n",
       "                                                                20)],\n",
       "                                        &#x27;learning_rate&#x27;: [&#x27;constant&#x27;,\n",
       "                                                          &#x27;invscaling&#x27;,\n",
       "                                                          &#x27;adaptive&#x27;],\n",
       "                                        &#x27;solver&#x27;: [&#x27;lbfgs&#x27;, &#x27;sgd&#x27;, &#x27;adam&#x27;]},\n",
       "                   scoring=&#x27;roc_auc&#x27;, verbose=2)</pre></div></div></div><div class=\"sk-parallel\"><div class=\"sk-parallel-item\"><div class=\"sk-item\"><div class=\"sk-label-container\"><div class=\"sk-label sk-toggleable\"><input class=\"sk-toggleable__control sk-hidden--visually\" id=\"sk-estimator-id-32\" type=\"checkbox\" ><label for=\"sk-estimator-id-32\" class=\"sk-toggleable__label sk-toggleable__label-arrow\">estimator: MLPClassifier</label><div class=\"sk-toggleable__content\"><pre>MLPClassifier(early_stopping=True, solver=&#x27;lbfgs&#x27;)</pre></div></div></div><div class=\"sk-serial\"><div class=\"sk-item\"><div class=\"sk-estimator sk-toggleable\"><input class=\"sk-toggleable__control sk-hidden--visually\" id=\"sk-estimator-id-33\" type=\"checkbox\" ><label for=\"sk-estimator-id-33\" class=\"sk-toggleable__label sk-toggleable__label-arrow\">MLPClassifier</label><div class=\"sk-toggleable__content\"><pre>MLPClassifier(early_stopping=True, solver=&#x27;lbfgs&#x27;)</pre></div></div></div></div></div></div></div></div></div></div>"
      ],
      "text/plain": [
       "RandomizedSearchCV(cv=5,\n",
       "                   estimator=MLPClassifier(early_stopping=True, solver='lbfgs'),\n",
       "                   n_iter=50,\n",
       "                   param_distributions={'activation': ['identity', 'logistic',\n",
       "                                                       'tanh', 'relu'],\n",
       "                                        'alpha': <scipy.stats._distn_infrastructure.rv_frozen object at 0x000001C2FA6556A0>,\n",
       "                                        'hidden_layer_sizes': [(10,), (20,),\n",
       "                                                               (30,), (40,),\n",
       "                                                               (50,), (60,),\n",
       "                                                               (70,), (80,),\n",
       "                                                               (90,), (100,),\n",
       "                                                               (10, 10),\n",
       "                                                               (20, 20),\n",
       "                                                               (30, 30),\n",
       "                                                               (60, 60),\n",
       "                                                               (10, 20, 10),\n",
       "                                                               (10, 30, 10),\n",
       "                                                               (20, 20, 20),\n",
       "                                                               (20, 40, 20),\n",
       "                                                               (60, 60, 60),\n",
       "                                                               (10, 20, 20, 10),\n",
       "                                                               (20, 40, 40,\n",
       "                                                                20)],\n",
       "                                        'learning_rate': ['constant',\n",
       "                                                          'invscaling',\n",
       "                                                          'adaptive'],\n",
       "                                        'solver': ['lbfgs', 'sgd', 'adam']},\n",
       "                   scoring='roc_auc', verbose=2)"
      ]
     },
     "execution_count": 70,
     "metadata": {},
     "output_type": "execute_result"
    }
   ],
   "source": [
    "from sklearn.model_selection import RandomizedSearchCV\n",
    "from scipy.stats import expon, reciprocal\n",
    "from sklearn.model_selection import cross_val_score\n",
    "\n",
    "param_distribs={\n",
    "    'hidden_layer_sizes': [(10,),(20,),(30,),(40,),(50,),(60,),(70,),(80,),(90,),(100,),\n",
    "                           (10,10),(20,20),(30,30),(60,60),(10,20,10),(10,30,10),(20,20,20),(20,40,20),(60,60,60),(10,20,20,10),(20,40,40,20)],\n",
    "    'activation': ['identity', 'logistic', 'tanh', 'relu'],\n",
    "    'solver': ['lbfgs', 'sgd', 'adam'],\n",
    "#    'beta_1': reciprocal(0.1,1),\n",
    "#    'beta_2': reciprocal(0.1,1),\n",
    "#    'learning_rate_init': reciprocal(0.0001,0.1),\n",
    "    'alpha': reciprocal(0.0001,0.1),\n",
    "    'learning_rate': ['constant','invscaling','adaptive'],\n",
    "}\n",
    "\n",
    "mlp_gs = MLPClassifier(solver='lbfgs', early_stopping=True)\n",
    "\n",
    "rnd_search=RandomizedSearchCV(mlp_gs, param_distributions=param_distribs, n_iter=50, cv=5, refit=True, scoring='roc_auc', verbose=2)\n",
    "rnd_search.fit(train_features, Y_train_smote)"
   ]
  },
  {
   "cell_type": "code",
   "execution_count": 71,
   "id": "c4c7889a",
   "metadata": {},
   "outputs": [
    {
     "name": "stdout",
     "output_type": "stream",
     "text": [
      "{'activation': 'relu', 'alpha': 0.04817209417377487, 'hidden_layer_sizes': (10,), 'learning_rate': 'constant', 'solver': 'lbfgs'}\n",
      "0.9908058409951325\n"
     ]
    }
   ],
   "source": [
    "print(rnd_search.best_params_)\n",
    "print(rnd_search.best_score_)"
   ]
  },
  {
   "cell_type": "code",
   "execution_count": 72,
   "id": "54c9c021",
   "metadata": {},
   "outputs": [
    {
     "name": "stdout",
     "output_type": "stream",
     "text": [
      "Confusion Matrix (Accuracy 0.9977)\n",
      "\n",
      "       Prediction\n",
      "Actual   0   1\n",
      "     0 215   0\n",
      "     1   1 214\n",
      "None\n",
      "Confusion Matrix (Accuracy 0.9079)\n",
      "\n",
      "       Prediction\n",
      "Actual  0  1\n",
      "     0  0  5\n",
      "     1  2 69\n",
      "None\n"
     ]
    },
    {
     "name": "stderr",
     "output_type": "stream",
     "text": [
      "C:\\Users\\ynjn\\anaconda3\\lib\\site-packages\\sklearn\\base.py:443: UserWarning: X has feature names, but MLPClassifier was fitted without feature names\n",
      "  warnings.warn(\n"
     ]
    }
   ],
   "source": [
    "pred=rnd_search.predict(train_features)\n",
    "print(classificationSummary(Y_train_smote,pred))\n",
    "rnd_search_pf = rnd_search.best_estimator_.predict(X_test)\n",
    "print(classificationSummary(Y_test,rnd_search_pf))"
   ]
  },
  {
   "cell_type": "code",
   "execution_count": 73,
   "id": "e70ba6f4",
   "metadata": {},
   "outputs": [
    {
     "data": {
      "text/plain": [
       "0.4859154929577465"
      ]
     },
     "execution_count": 73,
     "metadata": {},
     "output_type": "execute_result"
    }
   ],
   "source": [
    "from sklearn.metrics import roc_auc_score\n",
    "roc_auc_score(Y_test,rnd_search_pf)"
   ]
  },
  {
   "cell_type": "code",
   "execution_count": 74,
   "id": "107d3187",
   "metadata": {},
   "outputs": [
    {
     "name": "stdout",
     "output_type": "stream",
     "text": [
      "Fitting 5 folds for each of 252 candidates, totalling 1260 fits\n"
     ]
    },
    {
     "data": {
      "text/html": [
       "<style>#sk-container-id-12 {color: black;background-color: white;}#sk-container-id-12 pre{padding: 0;}#sk-container-id-12 div.sk-toggleable {background-color: white;}#sk-container-id-12 label.sk-toggleable__label {cursor: pointer;display: block;width: 100%;margin-bottom: 0;padding: 0.3em;box-sizing: border-box;text-align: center;}#sk-container-id-12 label.sk-toggleable__label-arrow:before {content: \"▸\";float: left;margin-right: 0.25em;color: #696969;}#sk-container-id-12 label.sk-toggleable__label-arrow:hover:before {color: black;}#sk-container-id-12 div.sk-estimator:hover label.sk-toggleable__label-arrow:before {color: black;}#sk-container-id-12 div.sk-toggleable__content {max-height: 0;max-width: 0;overflow: hidden;text-align: left;background-color: #f0f8ff;}#sk-container-id-12 div.sk-toggleable__content pre {margin: 0.2em;color: black;border-radius: 0.25em;background-color: #f0f8ff;}#sk-container-id-12 input.sk-toggleable__control:checked~div.sk-toggleable__content {max-height: 200px;max-width: 100%;overflow: auto;}#sk-container-id-12 input.sk-toggleable__control:checked~label.sk-toggleable__label-arrow:before {content: \"▾\";}#sk-container-id-12 div.sk-estimator input.sk-toggleable__control:checked~label.sk-toggleable__label {background-color: #d4ebff;}#sk-container-id-12 div.sk-label input.sk-toggleable__control:checked~label.sk-toggleable__label {background-color: #d4ebff;}#sk-container-id-12 input.sk-hidden--visually {border: 0;clip: rect(1px 1px 1px 1px);clip: rect(1px, 1px, 1px, 1px);height: 1px;margin: -1px;overflow: hidden;padding: 0;position: absolute;width: 1px;}#sk-container-id-12 div.sk-estimator {font-family: monospace;background-color: #f0f8ff;border: 1px dotted black;border-radius: 0.25em;box-sizing: border-box;margin-bottom: 0.5em;}#sk-container-id-12 div.sk-estimator:hover {background-color: #d4ebff;}#sk-container-id-12 div.sk-parallel-item::after {content: \"\";width: 100%;border-bottom: 1px solid gray;flex-grow: 1;}#sk-container-id-12 div.sk-label:hover label.sk-toggleable__label {background-color: #d4ebff;}#sk-container-id-12 div.sk-serial::before {content: \"\";position: absolute;border-left: 1px solid gray;box-sizing: border-box;top: 0;bottom: 0;left: 50%;z-index: 0;}#sk-container-id-12 div.sk-serial {display: flex;flex-direction: column;align-items: center;background-color: white;padding-right: 0.2em;padding-left: 0.2em;position: relative;}#sk-container-id-12 div.sk-item {position: relative;z-index: 1;}#sk-container-id-12 div.sk-parallel {display: flex;align-items: stretch;justify-content: center;background-color: white;position: relative;}#sk-container-id-12 div.sk-item::before, #sk-container-id-12 div.sk-parallel-item::before {content: \"\";position: absolute;border-left: 1px solid gray;box-sizing: border-box;top: 0;bottom: 0;left: 50%;z-index: -1;}#sk-container-id-12 div.sk-parallel-item {display: flex;flex-direction: column;z-index: 1;position: relative;background-color: white;}#sk-container-id-12 div.sk-parallel-item:first-child::after {align-self: flex-end;width: 50%;}#sk-container-id-12 div.sk-parallel-item:last-child::after {align-self: flex-start;width: 50%;}#sk-container-id-12 div.sk-parallel-item:only-child::after {width: 0;}#sk-container-id-12 div.sk-dashed-wrapped {border: 1px dashed gray;margin: 0 0.4em 0.5em 0.4em;box-sizing: border-box;padding-bottom: 0.4em;background-color: white;}#sk-container-id-12 div.sk-label label {font-family: monospace;font-weight: bold;display: inline-block;line-height: 1.2em;}#sk-container-id-12 div.sk-label-container {text-align: center;}#sk-container-id-12 div.sk-container {/* jupyter's `normalize.less` sets `[hidden] { display: none; }` but bootstrap.min.css set `[hidden] { display: none !important; }` so we also need the `!important` here to be able to override the default hidden behavior on the sphinx rendered scikit-learn.org. See: https://github.com/scikit-learn/scikit-learn/issues/21755 */display: inline-block !important;position: relative;}#sk-container-id-12 div.sk-text-repr-fallback {display: none;}</style><div id=\"sk-container-id-12\" class=\"sk-top-container\"><div class=\"sk-text-repr-fallback\"><pre>GridSearchCV(cv=5, estimator=MLPClassifier(early_stopping=True, solver=&#x27;lbfgs&#x27;),\n",
       "             n_jobs=-1,\n",
       "             param_grid={&#x27;alpha&#x27;: [0.0001, 0.001, 0.01, 0.05],\n",
       "                         &#x27;hidden_layer_sizes&#x27;: [(10,), (20,), (30,), (40,),\n",
       "                                                (50,), (60,), (70,), (80,),\n",
       "                                                (90,), (100,), (10, 10),\n",
       "                                                (20, 20), (30, 30), (60, 60),\n",
       "                                                (10, 20, 10), (10, 30, 10),\n",
       "                                                (20, 20, 20), (20, 40, 20),\n",
       "                                                (60, 60, 60), (10, 20, 20, 10),\n",
       "                                                (20, 40, 40, 20)],\n",
       "                         &#x27;learning_rate&#x27;: [&#x27;constant&#x27;, &#x27;invscaling&#x27;,\n",
       "                                           &#x27;adaptive&#x27;]},\n",
       "             scoring=&#x27;accuracy&#x27;, verbose=2)</pre><b>In a Jupyter environment, please rerun this cell to show the HTML representation or trust the notebook. <br />On GitHub, the HTML representation is unable to render, please try loading this page with nbviewer.org.</b></div><div class=\"sk-container\" hidden><div class=\"sk-item sk-dashed-wrapped\"><div class=\"sk-label-container\"><div class=\"sk-label sk-toggleable\"><input class=\"sk-toggleable__control sk-hidden--visually\" id=\"sk-estimator-id-34\" type=\"checkbox\" ><label for=\"sk-estimator-id-34\" class=\"sk-toggleable__label sk-toggleable__label-arrow\">GridSearchCV</label><div class=\"sk-toggleable__content\"><pre>GridSearchCV(cv=5, estimator=MLPClassifier(early_stopping=True, solver=&#x27;lbfgs&#x27;),\n",
       "             n_jobs=-1,\n",
       "             param_grid={&#x27;alpha&#x27;: [0.0001, 0.001, 0.01, 0.05],\n",
       "                         &#x27;hidden_layer_sizes&#x27;: [(10,), (20,), (30,), (40,),\n",
       "                                                (50,), (60,), (70,), (80,),\n",
       "                                                (90,), (100,), (10, 10),\n",
       "                                                (20, 20), (30, 30), (60, 60),\n",
       "                                                (10, 20, 10), (10, 30, 10),\n",
       "                                                (20, 20, 20), (20, 40, 20),\n",
       "                                                (60, 60, 60), (10, 20, 20, 10),\n",
       "                                                (20, 40, 40, 20)],\n",
       "                         &#x27;learning_rate&#x27;: [&#x27;constant&#x27;, &#x27;invscaling&#x27;,\n",
       "                                           &#x27;adaptive&#x27;]},\n",
       "             scoring=&#x27;accuracy&#x27;, verbose=2)</pre></div></div></div><div class=\"sk-parallel\"><div class=\"sk-parallel-item\"><div class=\"sk-item\"><div class=\"sk-label-container\"><div class=\"sk-label sk-toggleable\"><input class=\"sk-toggleable__control sk-hidden--visually\" id=\"sk-estimator-id-35\" type=\"checkbox\" ><label for=\"sk-estimator-id-35\" class=\"sk-toggleable__label sk-toggleable__label-arrow\">estimator: MLPClassifier</label><div class=\"sk-toggleable__content\"><pre>MLPClassifier(early_stopping=True, solver=&#x27;lbfgs&#x27;)</pre></div></div></div><div class=\"sk-serial\"><div class=\"sk-item\"><div class=\"sk-estimator sk-toggleable\"><input class=\"sk-toggleable__control sk-hidden--visually\" id=\"sk-estimator-id-36\" type=\"checkbox\" ><label for=\"sk-estimator-id-36\" class=\"sk-toggleable__label sk-toggleable__label-arrow\">MLPClassifier</label><div class=\"sk-toggleable__content\"><pre>MLPClassifier(early_stopping=True, solver=&#x27;lbfgs&#x27;)</pre></div></div></div></div></div></div></div></div></div></div>"
      ],
      "text/plain": [
       "GridSearchCV(cv=5, estimator=MLPClassifier(early_stopping=True, solver='lbfgs'),\n",
       "             n_jobs=-1,\n",
       "             param_grid={'alpha': [0.0001, 0.001, 0.01, 0.05],\n",
       "                         'hidden_layer_sizes': [(10,), (20,), (30,), (40,),\n",
       "                                                (50,), (60,), (70,), (80,),\n",
       "                                                (90,), (100,), (10, 10),\n",
       "                                                (20, 20), (30, 30), (60, 60),\n",
       "                                                (10, 20, 10), (10, 30, 10),\n",
       "                                                (20, 20, 20), (20, 40, 20),\n",
       "                                                (60, 60, 60), (10, 20, 20, 10),\n",
       "                                                (20, 40, 40, 20)],\n",
       "                         'learning_rate': ['constant', 'invscaling',\n",
       "                                           'adaptive']},\n",
       "             scoring='accuracy', verbose=2)"
      ]
     },
     "execution_count": 74,
     "metadata": {},
     "output_type": "execute_result"
    }
   ],
   "source": [
    "from sklearn.neural_network import MLPClassifier\n",
    "\n",
    "mlp_gs = MLPClassifier(solver='lbfgs', early_stopping=True)\n",
    "parameter_space = {\n",
    "    'hidden_layer_sizes': [(10,),(20,),(30,),(40,),(50,),(60,),(70,),(80,),(90,),(100,),\n",
    "                           (10,10),(20,20),(30,30),(60,60),(10,20,10),(10,30,10),(20,20,20),(20,40,20),(60,60,60),(10,20,20,10),(20,40,40,20)],\n",
    "#    'activation': ['identity', 'logistic', 'tanh', 'relu'],\n",
    "#    'beta_1': [0.7,0.8,0.9],\n",
    "#    'beta_2': [0.9,0.99,0.999],\n",
    "#    'learning_rate_init': [0.0001,0.001,0.01],\n",
    "    'alpha': [0.0001, 0.001, 0.01, 0.05],\n",
    "    'learning_rate': ['constant','invscaling','adaptive']\n",
    "}\n",
    "from sklearn.model_selection import GridSearchCV\n",
    "clf = GridSearchCV(mlp_gs, parameter_space, n_jobs=-1, cv=5, scoring='accuracy', verbose=2)\n",
    "clf.fit(train_features, Y_train_smote) # X is train samples and y is the corresponding labels"
   ]
  },
  {
   "cell_type": "code",
   "execution_count": 75,
   "id": "1e3d0ea9",
   "metadata": {},
   "outputs": [
    {
     "name": "stdout",
     "output_type": "stream",
     "text": [
      "Best parameters found:\n",
      " {'alpha': 0.001, 'hidden_layer_sizes': (30, 30), 'learning_rate': 'adaptive'}\n"
     ]
    }
   ],
   "source": [
    "print('Best parameters found:\\n', clf.best_params_)"
   ]
  },
  {
   "cell_type": "code",
   "execution_count": 77,
   "id": "1d62aa54",
   "metadata": {},
   "outputs": [
    {
     "name": "stdout",
     "output_type": "stream",
     "text": [
      "Confusion Matrix (Accuracy 0.9977)\n",
      "\n",
      "       Prediction\n",
      "Actual   0   1\n",
      "     0 215   0\n",
      "     1   1 214\n",
      "None\n",
      "Confusion Matrix (Accuracy 0.9079)\n",
      "\n",
      "       Prediction\n",
      "Actual  0  1\n",
      "     0  0  5\n",
      "     1  2 69\n",
      "None\n"
     ]
    },
    {
     "name": "stderr",
     "output_type": "stream",
     "text": [
      "C:\\Users\\ynjn\\anaconda3\\lib\\site-packages\\sklearn\\base.py:443: UserWarning: X has feature names, but MLPClassifier was fitted without feature names\n",
      "  warnings.warn(\n"
     ]
    }
   ],
   "source": [
    "pred=clf.predict(train_features)\n",
    "print(classificationSummary(Y_train_smote,pred))\n",
    "grid_search_pf = clf.best_estimator_.predict(X_test)\n",
    "print(classificationSummary(Y_test,rnd_search_pf))"
   ]
  },
  {
   "cell_type": "code",
   "execution_count": 78,
   "id": "0bb7afb8",
   "metadata": {},
   "outputs": [
    {
     "data": {
      "text/plain": [
       "0.5"
      ]
     },
     "execution_count": 78,
     "metadata": {},
     "output_type": "execute_result"
    }
   ],
   "source": [
    "from sklearn.metrics import roc_auc_score\n",
    "roc_auc_score(Y_test,grid_search_pf)"
   ]
  },
  {
   "cell_type": "code",
   "execution_count": 79,
   "id": "7c6a221c",
   "metadata": {},
   "outputs": [
    {
     "name": "stdout",
     "output_type": "stream",
     "text": [
      "Fitting 5 folds for each of 252 candidates, totalling 1260 fits\n"
     ]
    },
    {
     "data": {
      "text/html": [
       "<style>#sk-container-id-13 {color: black;background-color: white;}#sk-container-id-13 pre{padding: 0;}#sk-container-id-13 div.sk-toggleable {background-color: white;}#sk-container-id-13 label.sk-toggleable__label {cursor: pointer;display: block;width: 100%;margin-bottom: 0;padding: 0.3em;box-sizing: border-box;text-align: center;}#sk-container-id-13 label.sk-toggleable__label-arrow:before {content: \"▸\";float: left;margin-right: 0.25em;color: #696969;}#sk-container-id-13 label.sk-toggleable__label-arrow:hover:before {color: black;}#sk-container-id-13 div.sk-estimator:hover label.sk-toggleable__label-arrow:before {color: black;}#sk-container-id-13 div.sk-toggleable__content {max-height: 0;max-width: 0;overflow: hidden;text-align: left;background-color: #f0f8ff;}#sk-container-id-13 div.sk-toggleable__content pre {margin: 0.2em;color: black;border-radius: 0.25em;background-color: #f0f8ff;}#sk-container-id-13 input.sk-toggleable__control:checked~div.sk-toggleable__content {max-height: 200px;max-width: 100%;overflow: auto;}#sk-container-id-13 input.sk-toggleable__control:checked~label.sk-toggleable__label-arrow:before {content: \"▾\";}#sk-container-id-13 div.sk-estimator input.sk-toggleable__control:checked~label.sk-toggleable__label {background-color: #d4ebff;}#sk-container-id-13 div.sk-label input.sk-toggleable__control:checked~label.sk-toggleable__label {background-color: #d4ebff;}#sk-container-id-13 input.sk-hidden--visually {border: 0;clip: rect(1px 1px 1px 1px);clip: rect(1px, 1px, 1px, 1px);height: 1px;margin: -1px;overflow: hidden;padding: 0;position: absolute;width: 1px;}#sk-container-id-13 div.sk-estimator {font-family: monospace;background-color: #f0f8ff;border: 1px dotted black;border-radius: 0.25em;box-sizing: border-box;margin-bottom: 0.5em;}#sk-container-id-13 div.sk-estimator:hover {background-color: #d4ebff;}#sk-container-id-13 div.sk-parallel-item::after {content: \"\";width: 100%;border-bottom: 1px solid gray;flex-grow: 1;}#sk-container-id-13 div.sk-label:hover label.sk-toggleable__label {background-color: #d4ebff;}#sk-container-id-13 div.sk-serial::before {content: \"\";position: absolute;border-left: 1px solid gray;box-sizing: border-box;top: 0;bottom: 0;left: 50%;z-index: 0;}#sk-container-id-13 div.sk-serial {display: flex;flex-direction: column;align-items: center;background-color: white;padding-right: 0.2em;padding-left: 0.2em;position: relative;}#sk-container-id-13 div.sk-item {position: relative;z-index: 1;}#sk-container-id-13 div.sk-parallel {display: flex;align-items: stretch;justify-content: center;background-color: white;position: relative;}#sk-container-id-13 div.sk-item::before, #sk-container-id-13 div.sk-parallel-item::before {content: \"\";position: absolute;border-left: 1px solid gray;box-sizing: border-box;top: 0;bottom: 0;left: 50%;z-index: -1;}#sk-container-id-13 div.sk-parallel-item {display: flex;flex-direction: column;z-index: 1;position: relative;background-color: white;}#sk-container-id-13 div.sk-parallel-item:first-child::after {align-self: flex-end;width: 50%;}#sk-container-id-13 div.sk-parallel-item:last-child::after {align-self: flex-start;width: 50%;}#sk-container-id-13 div.sk-parallel-item:only-child::after {width: 0;}#sk-container-id-13 div.sk-dashed-wrapped {border: 1px dashed gray;margin: 0 0.4em 0.5em 0.4em;box-sizing: border-box;padding-bottom: 0.4em;background-color: white;}#sk-container-id-13 div.sk-label label {font-family: monospace;font-weight: bold;display: inline-block;line-height: 1.2em;}#sk-container-id-13 div.sk-label-container {text-align: center;}#sk-container-id-13 div.sk-container {/* jupyter's `normalize.less` sets `[hidden] { display: none; }` but bootstrap.min.css set `[hidden] { display: none !important; }` so we also need the `!important` here to be able to override the default hidden behavior on the sphinx rendered scikit-learn.org. See: https://github.com/scikit-learn/scikit-learn/issues/21755 */display: inline-block !important;position: relative;}#sk-container-id-13 div.sk-text-repr-fallback {display: none;}</style><div id=\"sk-container-id-13\" class=\"sk-top-container\"><div class=\"sk-text-repr-fallback\"><pre>GridSearchCV(cv=5, estimator=MLPClassifier(early_stopping=True, solver=&#x27;lbfgs&#x27;),\n",
       "             n_jobs=-1,\n",
       "             param_grid={&#x27;alpha&#x27;: [0.0001, 0.001, 0.01, 0.05],\n",
       "                         &#x27;hidden_layer_sizes&#x27;: [(10,), (20,), (30,), (40,),\n",
       "                                                (50,), (60,), (70,), (80,),\n",
       "                                                (90,), (100,), (10, 10),\n",
       "                                                (20, 20), (30, 30), (60, 60),\n",
       "                                                (10, 20, 10), (10, 30, 10),\n",
       "                                                (20, 20, 20), (20, 40, 20),\n",
       "                                                (60, 60, 60), (10, 20, 20, 10),\n",
       "                                                (20, 40, 40, 20)],\n",
       "                         &#x27;learning_rate&#x27;: [&#x27;constant&#x27;, &#x27;invscaling&#x27;,\n",
       "                                           &#x27;adaptive&#x27;]},\n",
       "             scoring=&#x27;roc_auc&#x27;, verbose=2)</pre><b>In a Jupyter environment, please rerun this cell to show the HTML representation or trust the notebook. <br />On GitHub, the HTML representation is unable to render, please try loading this page with nbviewer.org.</b></div><div class=\"sk-container\" hidden><div class=\"sk-item sk-dashed-wrapped\"><div class=\"sk-label-container\"><div class=\"sk-label sk-toggleable\"><input class=\"sk-toggleable__control sk-hidden--visually\" id=\"sk-estimator-id-37\" type=\"checkbox\" ><label for=\"sk-estimator-id-37\" class=\"sk-toggleable__label sk-toggleable__label-arrow\">GridSearchCV</label><div class=\"sk-toggleable__content\"><pre>GridSearchCV(cv=5, estimator=MLPClassifier(early_stopping=True, solver=&#x27;lbfgs&#x27;),\n",
       "             n_jobs=-1,\n",
       "             param_grid={&#x27;alpha&#x27;: [0.0001, 0.001, 0.01, 0.05],\n",
       "                         &#x27;hidden_layer_sizes&#x27;: [(10,), (20,), (30,), (40,),\n",
       "                                                (50,), (60,), (70,), (80,),\n",
       "                                                (90,), (100,), (10, 10),\n",
       "                                                (20, 20), (30, 30), (60, 60),\n",
       "                                                (10, 20, 10), (10, 30, 10),\n",
       "                                                (20, 20, 20), (20, 40, 20),\n",
       "                                                (60, 60, 60), (10, 20, 20, 10),\n",
       "                                                (20, 40, 40, 20)],\n",
       "                         &#x27;learning_rate&#x27;: [&#x27;constant&#x27;, &#x27;invscaling&#x27;,\n",
       "                                           &#x27;adaptive&#x27;]},\n",
       "             scoring=&#x27;roc_auc&#x27;, verbose=2)</pre></div></div></div><div class=\"sk-parallel\"><div class=\"sk-parallel-item\"><div class=\"sk-item\"><div class=\"sk-label-container\"><div class=\"sk-label sk-toggleable\"><input class=\"sk-toggleable__control sk-hidden--visually\" id=\"sk-estimator-id-38\" type=\"checkbox\" ><label for=\"sk-estimator-id-38\" class=\"sk-toggleable__label sk-toggleable__label-arrow\">estimator: MLPClassifier</label><div class=\"sk-toggleable__content\"><pre>MLPClassifier(early_stopping=True, solver=&#x27;lbfgs&#x27;)</pre></div></div></div><div class=\"sk-serial\"><div class=\"sk-item\"><div class=\"sk-estimator sk-toggleable\"><input class=\"sk-toggleable__control sk-hidden--visually\" id=\"sk-estimator-id-39\" type=\"checkbox\" ><label for=\"sk-estimator-id-39\" class=\"sk-toggleable__label sk-toggleable__label-arrow\">MLPClassifier</label><div class=\"sk-toggleable__content\"><pre>MLPClassifier(early_stopping=True, solver=&#x27;lbfgs&#x27;)</pre></div></div></div></div></div></div></div></div></div></div>"
      ],
      "text/plain": [
       "GridSearchCV(cv=5, estimator=MLPClassifier(early_stopping=True, solver='lbfgs'),\n",
       "             n_jobs=-1,\n",
       "             param_grid={'alpha': [0.0001, 0.001, 0.01, 0.05],\n",
       "                         'hidden_layer_sizes': [(10,), (20,), (30,), (40,),\n",
       "                                                (50,), (60,), (70,), (80,),\n",
       "                                                (90,), (100,), (10, 10),\n",
       "                                                (20, 20), (30, 30), (60, 60),\n",
       "                                                (10, 20, 10), (10, 30, 10),\n",
       "                                                (20, 20, 20), (20, 40, 20),\n",
       "                                                (60, 60, 60), (10, 20, 20, 10),\n",
       "                                                (20, 40, 40, 20)],\n",
       "                         'learning_rate': ['constant', 'invscaling',\n",
       "                                           'adaptive']},\n",
       "             scoring='roc_auc', verbose=2)"
      ]
     },
     "execution_count": 79,
     "metadata": {},
     "output_type": "execute_result"
    }
   ],
   "source": [
    "from sklearn.neural_network import MLPClassifier\n",
    "\n",
    "mlp_gs = MLPClassifier(solver='lbfgs', early_stopping=True)\n",
    "parameter_space = {\n",
    "    'hidden_layer_sizes': [(10,),(20,),(30,),(40,),(50,),(60,),(70,),(80,),(90,),(100,),\n",
    "                           (10,10),(20,20),(30,30),(60,60),(10,20,10),(10,30,10),(20,20,20),(20,40,20),(60,60,60),(10,20,20,10),(20,40,40,20)],\n",
    "#    'activation': ['identity', 'logistic', 'tanh', 'relu'],\n",
    "#    'beta_1': [0.7,0.8,0.9],\n",
    "#    'beta_2': [0.9,0.99,0.999],\n",
    "#    'learning_rate_init': [0.0001,0.001,0.01],\n",
    "    'alpha': [0.0001, 0.001, 0.01, 0.05],\n",
    "    'learning_rate': ['constant','invscaling','adaptive']\n",
    "}\n",
    "from sklearn.model_selection import GridSearchCV\n",
    "clf = GridSearchCV(mlp_gs, parameter_space, n_jobs=-1, cv=5, scoring='roc_auc', verbose=1)\n",
    "clf.fit(train_features, Y_train_smote) # X is train samples and y is the corresponding labels"
   ]
  },
  {
   "cell_type": "code",
   "execution_count": 80,
   "id": "e2ed5644",
   "metadata": {
    "scrolled": true
   },
   "outputs": [
    {
     "name": "stdout",
     "output_type": "stream",
     "text": [
      "Best parameters found:\n",
      " {'alpha': 0.0001, 'hidden_layer_sizes': (10, 30, 10), 'learning_rate': 'adaptive'}\n"
     ]
    }
   ],
   "source": [
    "print('Best parameters found:\\n', clf.best_params_)"
   ]
  },
  {
   "cell_type": "code",
   "execution_count": 81,
   "id": "70f1c7fb",
   "metadata": {},
   "outputs": [
    {
     "name": "stdout",
     "output_type": "stream",
     "text": [
      "Confusion Matrix (Accuracy 0.9977)\n",
      "\n",
      "       Prediction\n",
      "Actual   0   1\n",
      "     0 215   0\n",
      "     1   1 214\n",
      "None\n",
      "Confusion Matrix (Accuracy 0.9079)\n",
      "\n",
      "       Prediction\n",
      "Actual  0  1\n",
      "     0  0  5\n",
      "     1  2 69\n",
      "None\n"
     ]
    },
    {
     "name": "stderr",
     "output_type": "stream",
     "text": [
      "C:\\Users\\ynjn\\anaconda3\\lib\\site-packages\\sklearn\\base.py:443: UserWarning: X has feature names, but MLPClassifier was fitted without feature names\n",
      "  warnings.warn(\n"
     ]
    }
   ],
   "source": [
    "pred=clf.predict(train_features)\n",
    "print(classificationSummary(Y_train_smote,pred))\n",
    "grid_search_pf = clf.best_estimator_.predict(X_test)\n",
    "print(classificationSummary(Y_test,rnd_search_pf))"
   ]
  },
  {
   "cell_type": "code",
   "execution_count": 83,
   "id": "77a030af",
   "metadata": {},
   "outputs": [
    {
     "data": {
      "text/plain": [
       "0.9976744186046511"
      ]
     },
     "execution_count": 83,
     "metadata": {},
     "output_type": "execute_result"
    }
   ],
   "source": [
    "roc_auc_score(Y_train_smote,pred)"
   ]
  },
  {
   "cell_type": "code",
   "execution_count": 82,
   "id": "42b9afed",
   "metadata": {},
   "outputs": [
    {
     "data": {
      "text/plain": [
       "0.5"
      ]
     },
     "execution_count": 82,
     "metadata": {},
     "output_type": "execute_result"
    }
   ],
   "source": [
    "from sklearn.metrics import roc_auc_score\n",
    "roc_auc_score(Y_test,grid_search_pf)"
   ]
  },
  {
   "cell_type": "markdown",
   "id": "3cf4b808",
   "metadata": {},
   "source": [
    "# 모델 성능 정리\n",
    "  \n",
    "- SVM  \n",
    "train 정확도 : 0.9977, AUC: 0.9977  \n",
    "test 정확도 : 0.9342, AUC : 0.593  \n",
    "- 판별분석  \n",
    "    - LDA  \n",
    "train 정확도 : 0.9628, AUC: 0.9628  \n",
    "test 정확도 : 0.8816, AUC : 0.4728  \n",
    "    -QDA  \n",
    "train 정확도 : 0.9977, AUC: 0.9977  \n",
    "test 정확도 : 0.9342, AUC : 0.593  \n",
    "-KNeighborsClassifier(컷오프 0.4)  \n",
    "train 정확도 : 0.9977, AUC: 0.9977  \n",
    "test 정확도 : 0.8684, AUC : 0.6507\n",
    "-SVM&KNeighborsClassifier Ensemble  \n",
    "train 정확도 : 0.9977, AUC: 0.9977  \n",
    "test 정확도 : 0.9211, AUC : 0.586  \n",
    "-neural network  \n",
    "train 정확도 : 0.9977, AUC: 0.9977  \n",
    "test 정확도 : 0.9079, AUC : 0.5  "
   ]
  },
  {
   "cell_type": "code",
   "execution_count": null,
   "id": "46182bca",
   "metadata": {},
   "outputs": [],
   "source": []
  }
 ],
 "metadata": {
  "kernelspec": {
   "display_name": "Python 3 (ipykernel)",
   "language": "python",
   "name": "python3"
  },
  "language_info": {
   "codemirror_mode": {
    "name": "ipython",
    "version": 3
   },
   "file_extension": ".py",
   "mimetype": "text/x-python",
   "name": "python",
   "nbconvert_exporter": "python",
   "pygments_lexer": "ipython3",
   "version": "3.9.7"
  }
 },
 "nbformat": 4,
 "nbformat_minor": 5
}
