{
 "cells": [
  {
   "cell_type": "code",
   "execution_count": 26,
   "id": "cdf94da0",
   "metadata": {},
   "outputs": [],
   "source": [
    "import numpy as np\n",
    "import pandas as pd"
   ]
  },
  {
   "cell_type": "code",
   "execution_count": 27,
   "id": "3e919d8e",
   "metadata": {},
   "outputs": [],
   "source": [
    "train_all=pd.read_csv('train_all.csv')"
   ]
  },
  {
   "cell_type": "code",
   "execution_count": 28,
   "id": "53a37afd",
   "metadata": {},
   "outputs": [],
   "source": [
    "train_lr=pd.read_csv('train_lr.csv')"
   ]
  },
  {
   "cell_type": "code",
   "execution_count": 29,
   "id": "c59c5062",
   "metadata": {},
   "outputs": [],
   "source": [
    "train_dt=pd.read_csv('train_dt.csv')"
   ]
  },
  {
   "cell_type": "code",
   "execution_count": 30,
   "id": "01d1c013",
   "metadata": {},
   "outputs": [
    {
     "data": {
      "text/html": [
       "<div>\n",
       "<style scoped>\n",
       "    .dataframe tbody tr th:only-of-type {\n",
       "        vertical-align: middle;\n",
       "    }\n",
       "\n",
       "    .dataframe tbody tr th {\n",
       "        vertical-align: top;\n",
       "    }\n",
       "\n",
       "    .dataframe thead th {\n",
       "        text-align: right;\n",
       "    }\n",
       "</style>\n",
       "<table border=\"1\" class=\"dataframe\">\n",
       "  <thead>\n",
       "    <tr style=\"text-align: right;\">\n",
       "      <th></th>\n",
       "      <th>inst_id</th>\n",
       "      <th>OC</th>\n",
       "      <th>sido_choongchung</th>\n",
       "      <th>sido_gangwon</th>\n",
       "      <th>sido_gyeongin</th>\n",
       "      <th>sido_gyeongsang</th>\n",
       "      <th>sido_jeonra</th>\n",
       "      <th>sido_seoul</th>\n",
       "      <th>instkind_clinic</th>\n",
       "      <th>instkind_general_hospital</th>\n",
       "      <th>...</th>\n",
       "      <th>liquidLiabilities2</th>\n",
       "      <th>shortLoan2</th>\n",
       "      <th>NCLiabilities2</th>\n",
       "      <th>longLoan2</th>\n",
       "      <th>netAsset2</th>\n",
       "      <th>surplus2</th>\n",
       "      <th>employee1</th>\n",
       "      <th>employee2</th>\n",
       "      <th>ownerChange</th>\n",
       "      <th>bedCount_class</th>\n",
       "    </tr>\n",
       "  </thead>\n",
       "  <tbody>\n",
       "    <tr>\n",
       "      <th>0</th>\n",
       "      <td>1</td>\n",
       "      <td>1</td>\n",
       "      <td>1.0</td>\n",
       "      <td>0.0</td>\n",
       "      <td>0.0</td>\n",
       "      <td>0.0</td>\n",
       "      <td>0.0</td>\n",
       "      <td>0.0</td>\n",
       "      <td>0.0</td>\n",
       "      <td>0.0</td>\n",
       "      <td>...</td>\n",
       "      <td>19.222130</td>\n",
       "      <td>0.000000</td>\n",
       "      <td>20.099863</td>\n",
       "      <td>19.781657</td>\n",
       "      <td>21.686169</td>\n",
       "      <td>20.963246</td>\n",
       "      <td>4.143135</td>\n",
       "      <td>4.174387</td>\n",
       "      <td>0.0</td>\n",
       "      <td>3.0</td>\n",
       "    </tr>\n",
       "    <tr>\n",
       "      <th>1</th>\n",
       "      <td>3</td>\n",
       "      <td>1</td>\n",
       "      <td>0.0</td>\n",
       "      <td>0.0</td>\n",
       "      <td>0.0</td>\n",
       "      <td>1.0</td>\n",
       "      <td>0.0</td>\n",
       "      <td>0.0</td>\n",
       "      <td>0.0</td>\n",
       "      <td>1.0</td>\n",
       "      <td>...</td>\n",
       "      <td>18.841626</td>\n",
       "      <td>9.180719</td>\n",
       "      <td>18.812726</td>\n",
       "      <td>17.568559</td>\n",
       "      <td>18.838180</td>\n",
       "      <td>12.258481</td>\n",
       "      <td>6.687109</td>\n",
       "      <td>6.701960</td>\n",
       "      <td>0.0</td>\n",
       "      <td>4.0</td>\n",
       "    </tr>\n",
       "    <tr>\n",
       "      <th>2</th>\n",
       "      <td>4</td>\n",
       "      <td>1</td>\n",
       "      <td>0.0</td>\n",
       "      <td>0.0</td>\n",
       "      <td>1.0</td>\n",
       "      <td>0.0</td>\n",
       "      <td>0.0</td>\n",
       "      <td>0.0</td>\n",
       "      <td>0.0</td>\n",
       "      <td>0.0</td>\n",
       "      <td>...</td>\n",
       "      <td>0.000000</td>\n",
       "      <td>0.000000</td>\n",
       "      <td>0.000000</td>\n",
       "      <td>0.000000</td>\n",
       "      <td>0.000000</td>\n",
       "      <td>0.000000</td>\n",
       "      <td>5.459586</td>\n",
       "      <td>0.693147</td>\n",
       "      <td>0.0</td>\n",
       "      <td>4.0</td>\n",
       "    </tr>\n",
       "    <tr>\n",
       "      <th>3</th>\n",
       "      <td>7</td>\n",
       "      <td>1</td>\n",
       "      <td>0.0</td>\n",
       "      <td>0.0</td>\n",
       "      <td>1.0</td>\n",
       "      <td>0.0</td>\n",
       "      <td>0.0</td>\n",
       "      <td>0.0</td>\n",
       "      <td>0.0</td>\n",
       "      <td>1.0</td>\n",
       "      <td>...</td>\n",
       "      <td>23.557572</td>\n",
       "      <td>22.944579</td>\n",
       "      <td>23.755157</td>\n",
       "      <td>23.437961</td>\n",
       "      <td>23.284691</td>\n",
       "      <td>22.769775</td>\n",
       "      <td>6.498282</td>\n",
       "      <td>6.498282</td>\n",
       "      <td>0.0</td>\n",
       "      <td>4.0</td>\n",
       "    </tr>\n",
       "    <tr>\n",
       "      <th>4</th>\n",
       "      <td>9</td>\n",
       "      <td>1</td>\n",
       "      <td>0.0</td>\n",
       "      <td>0.0</td>\n",
       "      <td>0.0</td>\n",
       "      <td>1.0</td>\n",
       "      <td>0.0</td>\n",
       "      <td>0.0</td>\n",
       "      <td>0.0</td>\n",
       "      <td>1.0</td>\n",
       "      <td>...</td>\n",
       "      <td>24.126880</td>\n",
       "      <td>23.590810</td>\n",
       "      <td>23.784786</td>\n",
       "      <td>23.370010</td>\n",
       "      <td>15.531458</td>\n",
       "      <td>22.923325</td>\n",
       "      <td>5.332719</td>\n",
       "      <td>5.288267</td>\n",
       "      <td>0.0</td>\n",
       "      <td>3.0</td>\n",
       "    </tr>\n",
       "    <tr>\n",
       "      <th>...</th>\n",
       "      <td>...</td>\n",
       "      <td>...</td>\n",
       "      <td>...</td>\n",
       "      <td>...</td>\n",
       "      <td>...</td>\n",
       "      <td>...</td>\n",
       "      <td>...</td>\n",
       "      <td>...</td>\n",
       "      <td>...</td>\n",
       "      <td>...</td>\n",
       "      <td>...</td>\n",
       "      <td>...</td>\n",
       "      <td>...</td>\n",
       "      <td>...</td>\n",
       "      <td>...</td>\n",
       "      <td>...</td>\n",
       "      <td>...</td>\n",
       "      <td>...</td>\n",
       "      <td>...</td>\n",
       "      <td>...</td>\n",
       "      <td>...</td>\n",
       "    </tr>\n",
       "    <tr>\n",
       "      <th>296</th>\n",
       "      <td>422</td>\n",
       "      <td>1</td>\n",
       "      <td>0.0</td>\n",
       "      <td>0.0</td>\n",
       "      <td>0.0</td>\n",
       "      <td>0.0</td>\n",
       "      <td>1.0</td>\n",
       "      <td>0.0</td>\n",
       "      <td>0.0</td>\n",
       "      <td>0.0</td>\n",
       "      <td>...</td>\n",
       "      <td>21.685753</td>\n",
       "      <td>0.000000</td>\n",
       "      <td>22.641007</td>\n",
       "      <td>22.503290</td>\n",
       "      <td>22.405862</td>\n",
       "      <td>20.514569</td>\n",
       "      <td>5.267858</td>\n",
       "      <td>4.955827</td>\n",
       "      <td>0.0</td>\n",
       "      <td>3.0</td>\n",
       "    </tr>\n",
       "    <tr>\n",
       "      <th>297</th>\n",
       "      <td>423</td>\n",
       "      <td>0</td>\n",
       "      <td>1.0</td>\n",
       "      <td>0.0</td>\n",
       "      <td>0.0</td>\n",
       "      <td>0.0</td>\n",
       "      <td>0.0</td>\n",
       "      <td>0.0</td>\n",
       "      <td>0.0</td>\n",
       "      <td>0.0</td>\n",
       "      <td>...</td>\n",
       "      <td>0.000000</td>\n",
       "      <td>0.000000</td>\n",
       "      <td>0.000000</td>\n",
       "      <td>0.000000</td>\n",
       "      <td>0.000000</td>\n",
       "      <td>0.000000</td>\n",
       "      <td>4.382027</td>\n",
       "      <td>4.382027</td>\n",
       "      <td>0.0</td>\n",
       "      <td>3.2</td>\n",
       "    </tr>\n",
       "    <tr>\n",
       "      <th>298</th>\n",
       "      <td>426</td>\n",
       "      <td>0</td>\n",
       "      <td>0.0</td>\n",
       "      <td>0.0</td>\n",
       "      <td>0.0</td>\n",
       "      <td>1.0</td>\n",
       "      <td>0.0</td>\n",
       "      <td>0.0</td>\n",
       "      <td>0.0</td>\n",
       "      <td>0.0</td>\n",
       "      <td>...</td>\n",
       "      <td>21.498441</td>\n",
       "      <td>0.000000</td>\n",
       "      <td>22.158142</td>\n",
       "      <td>21.639056</td>\n",
       "      <td>21.904736</td>\n",
       "      <td>0.000000</td>\n",
       "      <td>3.860891</td>\n",
       "      <td>3.905642</td>\n",
       "      <td>0.0</td>\n",
       "      <td>2.6</td>\n",
       "    </tr>\n",
       "    <tr>\n",
       "      <th>299</th>\n",
       "      <td>427</td>\n",
       "      <td>0</td>\n",
       "      <td>0.0</td>\n",
       "      <td>0.0</td>\n",
       "      <td>1.0</td>\n",
       "      <td>0.0</td>\n",
       "      <td>0.0</td>\n",
       "      <td>0.0</td>\n",
       "      <td>0.0</td>\n",
       "      <td>0.0</td>\n",
       "      <td>...</td>\n",
       "      <td>22.579564</td>\n",
       "      <td>0.000000</td>\n",
       "      <td>0.000000</td>\n",
       "      <td>0.000000</td>\n",
       "      <td>0.000000</td>\n",
       "      <td>0.000000</td>\n",
       "      <td>4.615121</td>\n",
       "      <td>5.580909</td>\n",
       "      <td>0.0</td>\n",
       "      <td>3.0</td>\n",
       "    </tr>\n",
       "    <tr>\n",
       "      <th>300</th>\n",
       "      <td>428</td>\n",
       "      <td>1</td>\n",
       "      <td>0.0</td>\n",
       "      <td>0.0</td>\n",
       "      <td>0.0</td>\n",
       "      <td>0.0</td>\n",
       "      <td>0.0</td>\n",
       "      <td>1.0</td>\n",
       "      <td>0.0</td>\n",
       "      <td>0.0</td>\n",
       "      <td>...</td>\n",
       "      <td>21.862083</td>\n",
       "      <td>0.000000</td>\n",
       "      <td>21.523440</td>\n",
       "      <td>21.507167</td>\n",
       "      <td>22.434570</td>\n",
       "      <td>22.558953</td>\n",
       "      <td>2.772589</td>\n",
       "      <td>2.772589</td>\n",
       "      <td>0.0</td>\n",
       "      <td>2.8</td>\n",
       "    </tr>\n",
       "  </tbody>\n",
       "</table>\n",
       "<p>301 rows × 67 columns</p>\n",
       "</div>"
      ],
      "text/plain": [
       "     inst_id  OC  sido_choongchung  sido_gangwon  sido_gyeongin  \\\n",
       "0          1   1               1.0           0.0            0.0   \n",
       "1          3   1               0.0           0.0            0.0   \n",
       "2          4   1               0.0           0.0            1.0   \n",
       "3          7   1               0.0           0.0            1.0   \n",
       "4          9   1               0.0           0.0            0.0   \n",
       "..       ...  ..               ...           ...            ...   \n",
       "296      422   1               0.0           0.0            0.0   \n",
       "297      423   0               1.0           0.0            0.0   \n",
       "298      426   0               0.0           0.0            0.0   \n",
       "299      427   0               0.0           0.0            1.0   \n",
       "300      428   1               0.0           0.0            0.0   \n",
       "\n",
       "     sido_gyeongsang  sido_jeonra  sido_seoul  instkind_clinic  \\\n",
       "0                0.0          0.0         0.0              0.0   \n",
       "1                1.0          0.0         0.0              0.0   \n",
       "2                0.0          0.0         0.0              0.0   \n",
       "3                0.0          0.0         0.0              0.0   \n",
       "4                1.0          0.0         0.0              0.0   \n",
       "..               ...          ...         ...              ...   \n",
       "296              0.0          1.0         0.0              0.0   \n",
       "297              0.0          0.0         0.0              0.0   \n",
       "298              1.0          0.0         0.0              0.0   \n",
       "299              0.0          0.0         0.0              0.0   \n",
       "300              0.0          0.0         1.0              0.0   \n",
       "\n",
       "     instkind_general_hospital  ...  liquidLiabilities2  shortLoan2  \\\n",
       "0                          0.0  ...           19.222130    0.000000   \n",
       "1                          1.0  ...           18.841626    9.180719   \n",
       "2                          0.0  ...            0.000000    0.000000   \n",
       "3                          1.0  ...           23.557572   22.944579   \n",
       "4                          1.0  ...           24.126880   23.590810   \n",
       "..                         ...  ...                 ...         ...   \n",
       "296                        0.0  ...           21.685753    0.000000   \n",
       "297                        0.0  ...            0.000000    0.000000   \n",
       "298                        0.0  ...           21.498441    0.000000   \n",
       "299                        0.0  ...           22.579564    0.000000   \n",
       "300                        0.0  ...           21.862083    0.000000   \n",
       "\n",
       "     NCLiabilities2  longLoan2  netAsset2   surplus2  employee1  employee2  \\\n",
       "0         20.099863  19.781657  21.686169  20.963246   4.143135   4.174387   \n",
       "1         18.812726  17.568559  18.838180  12.258481   6.687109   6.701960   \n",
       "2          0.000000   0.000000   0.000000   0.000000   5.459586   0.693147   \n",
       "3         23.755157  23.437961  23.284691  22.769775   6.498282   6.498282   \n",
       "4         23.784786  23.370010  15.531458  22.923325   5.332719   5.288267   \n",
       "..              ...        ...        ...        ...        ...        ...   \n",
       "296       22.641007  22.503290  22.405862  20.514569   5.267858   4.955827   \n",
       "297        0.000000   0.000000   0.000000   0.000000   4.382027   4.382027   \n",
       "298       22.158142  21.639056  21.904736   0.000000   3.860891   3.905642   \n",
       "299        0.000000   0.000000   0.000000   0.000000   4.615121   5.580909   \n",
       "300       21.523440  21.507167  22.434570  22.558953   2.772589   2.772589   \n",
       "\n",
       "     ownerChange  bedCount_class  \n",
       "0            0.0             3.0  \n",
       "1            0.0             4.0  \n",
       "2            0.0             4.0  \n",
       "3            0.0             4.0  \n",
       "4            0.0             3.0  \n",
       "..           ...             ...  \n",
       "296          0.0             3.0  \n",
       "297          0.0             3.2  \n",
       "298          0.0             2.6  \n",
       "299          0.0             3.0  \n",
       "300          0.0             2.8  \n",
       "\n",
       "[301 rows x 67 columns]"
      ]
     },
     "execution_count": 30,
     "metadata": {},
     "output_type": "execute_result"
    }
   ],
   "source": [
    "train_all"
   ]
  },
  {
   "cell_type": "code",
   "execution_count": 31,
   "id": "c01db26d",
   "metadata": {},
   "outputs": [
    {
     "name": "stdout",
     "output_type": "stream",
     "text": [
      "<class 'pandas.core.frame.DataFrame'>\n",
      "RangeIndex: 301 entries, 0 to 300\n",
      "Data columns (total 67 columns):\n",
      " #   Column                         Non-Null Count  Dtype  \n",
      "---  ------                         --------------  -----  \n",
      " 0   inst_id                        301 non-null    int64  \n",
      " 1   OC                             301 non-null    int64  \n",
      " 2   sido_choongchung               301 non-null    float64\n",
      " 3   sido_gangwon                   301 non-null    float64\n",
      " 4   sido_gyeongin                  301 non-null    float64\n",
      " 5   sido_gyeongsang                301 non-null    float64\n",
      " 6   sido_jeonra                    301 non-null    float64\n",
      " 7   sido_seoul                     301 non-null    float64\n",
      " 8   instkind_clinic                301 non-null    float64\n",
      " 9   instkind_general_hospital      301 non-null    float64\n",
      " 10  instkind_hospital              301 non-null    float64\n",
      " 11  instkind_nursing_hospital      301 non-null    float64\n",
      " 12  instkind_traditional_clinic    301 non-null    float64\n",
      " 13  instkind_traditional_hospital  301 non-null    float64\n",
      " 14  instkind_nan                   301 non-null    float64\n",
      " 15  revenue1                       301 non-null    float64\n",
      " 16  salescost1                     301 non-null    float64\n",
      " 17  sga1                           301 non-null    float64\n",
      " 18  salary1                        301 non-null    float64\n",
      " 19  noi1                           301 non-null    float64\n",
      " 20  noe1                           301 non-null    float64\n",
      " 21  interest1                      301 non-null    float64\n",
      " 22  ctax1                          301 non-null    float64\n",
      " 23  profit1                        301 non-null    float64\n",
      " 24  liquidAsset1                   301 non-null    float64\n",
      " 25  quickAsset1                    301 non-null    float64\n",
      " 26  receivableS1                   301 non-null    float64\n",
      " 27  inventoryAsset1                301 non-null    float64\n",
      " 28  nonCAsset1                     301 non-null    float64\n",
      " 29  tanAsset1                      301 non-null    float64\n",
      " 30  OnonCAsset1                    301 non-null    float64\n",
      " 31  receivableL1                   301 non-null    float64\n",
      " 32  debt1                          301 non-null    float64\n",
      " 33  liquidLiabilities1             301 non-null    float64\n",
      " 34  shortLoan1                     301 non-null    float64\n",
      " 35  NCLiabilities1                 301 non-null    float64\n",
      " 36  longLoan1                      301 non-null    float64\n",
      " 37  netAsset1                      301 non-null    float64\n",
      " 38  surplus1                       301 non-null    float64\n",
      " 39  revenue2                       301 non-null    float64\n",
      " 40  salescost2                     301 non-null    float64\n",
      " 41  sga2                           301 non-null    float64\n",
      " 42  salary2                        301 non-null    float64\n",
      " 43  noi2                           301 non-null    float64\n",
      " 44  noe2                           301 non-null    float64\n",
      " 45  interest2                      301 non-null    float64\n",
      " 46  ctax2                          301 non-null    float64\n",
      " 47  profit2                        301 non-null    float64\n",
      " 48  liquidAsset2                   301 non-null    float64\n",
      " 49  quickAsset2                    301 non-null    float64\n",
      " 50  receivableS2                   301 non-null    float64\n",
      " 51  inventoryAsset2                301 non-null    float64\n",
      " 52  nonCAsset2                     301 non-null    float64\n",
      " 53  tanAsset2                      301 non-null    float64\n",
      " 54  OnonCAsset2                    301 non-null    float64\n",
      " 55  receivableL2                   301 non-null    float64\n",
      " 56  debt2                          301 non-null    float64\n",
      " 57  liquidLiabilities2             301 non-null    float64\n",
      " 58  shortLoan2                     301 non-null    float64\n",
      " 59  NCLiabilities2                 301 non-null    float64\n",
      " 60  longLoan2                      301 non-null    float64\n",
      " 61  netAsset2                      301 non-null    float64\n",
      " 62  surplus2                       301 non-null    float64\n",
      " 63  employee1                      301 non-null    float64\n",
      " 64  employee2                      301 non-null    float64\n",
      " 65  ownerChange                    301 non-null    float64\n",
      " 66  bedCount_class                 301 non-null    float64\n",
      "dtypes: float64(65), int64(2)\n",
      "memory usage: 157.7 KB\n"
     ]
    }
   ],
   "source": [
    "train_all.info()"
   ]
  },
  {
   "cell_type": "code",
   "execution_count": 32,
   "id": "407ac31a",
   "metadata": {},
   "outputs": [],
   "source": [
    "train_all.set_index('inst_id',inplace=True)"
   ]
  },
  {
   "cell_type": "code",
   "execution_count": 33,
   "id": "3558bf3b",
   "metadata": {},
   "outputs": [],
   "source": [
    "train_lr.set_index('inst_id',inplace=True)\n",
    "train_dt.set_index('inst_id',inplace=True)"
   ]
  },
  {
   "cell_type": "code",
   "execution_count": 34,
   "id": "263d5c91",
   "metadata": {},
   "outputs": [
    {
     "data": {
      "text/plain": [
       "0.000000    257\n",
       "1.000000     42\n",
       "0.200000      1\n",
       "0.145329      1\n",
       "Name: ownerChange, dtype: int64"
      ]
     },
     "execution_count": 34,
     "metadata": {},
     "output_type": "execute_result"
    }
   ],
   "source": [
    "train_all['ownerChange'].value_counts()"
   ]
  },
  {
   "cell_type": "code",
   "execution_count": 35,
   "id": "73e70250",
   "metadata": {},
   "outputs": [
    {
     "data": {
      "text/plain": [
       "0.0    259\n",
       "1.0     42\n",
       "Name: ownerChange, dtype: int64"
      ]
     },
     "execution_count": 35,
     "metadata": {},
     "output_type": "execute_result"
    }
   ],
   "source": [
    "train_all['ownerChange']=round(train_all['ownerChange'])\n",
    "train_all['ownerChange'].value_counts()"
   ]
  },
  {
   "cell_type": "code",
   "execution_count": 36,
   "id": "6ce57c7b",
   "metadata": {},
   "outputs": [
    {
     "data": {
      "text/plain": [
       "3.000000    163\n",
       "2.000000     63\n",
       "1.000000     26\n",
       "4.000000     25\n",
       "2.800000     10\n",
       "3.200000      6\n",
       "2.600000      4\n",
       "3.400000      2\n",
       "2.200000      1\n",
       "2.671533      1\n",
       "Name: bedCount_class, dtype: int64"
      ]
     },
     "execution_count": 36,
     "metadata": {},
     "output_type": "execute_result"
    }
   ],
   "source": [
    "train_all['bedCount_class'].value_counts()"
   ]
  },
  {
   "cell_type": "code",
   "execution_count": 37,
   "id": "cda68f07",
   "metadata": {},
   "outputs": [
    {
     "data": {
      "text/plain": [
       "3.0    186\n",
       "2.0     64\n",
       "1.0     26\n",
       "4.0     25\n",
       "Name: bedCount_class, dtype: int64"
      ]
     },
     "execution_count": 37,
     "metadata": {},
     "output_type": "execute_result"
    }
   ],
   "source": [
    "train_all['bedCount_class']=round(train_all['bedCount_class'])\n",
    "train_all['bedCount_class'].value_counts()"
   ]
  },
  {
   "cell_type": "code",
   "execution_count": 38,
   "id": "47f80e87",
   "metadata": {},
   "outputs": [],
   "source": [
    "X=train_all.drop('OC',axis=1)\n",
    "Y=train_all['OC']"
   ]
  },
  {
   "cell_type": "code",
   "execution_count": 39,
   "id": "1a8dfba1",
   "metadata": {},
   "outputs": [],
   "source": [
    "from sklearn.model_selection import train_test_split\n",
    "\n",
    "X_train, X_test, Y_train, Y_test=train_test_split(X,Y, random_state=23)"
   ]
  },
  {
   "cell_type": "code",
   "execution_count": 40,
   "id": "41992aa7",
   "metadata": {},
   "outputs": [],
   "source": [
    "x_train, x_valid, y_train, y_valid=train_test_split(X_train,Y_train, random_state=4)"
   ]
  },
  {
   "cell_type": "code",
   "execution_count": 41,
   "id": "fe4990f7",
   "metadata": {},
   "outputs": [
    {
     "data": {
      "text/plain": [
       "1    161\n",
       "0      7\n",
       "Name: OC, dtype: int64"
      ]
     },
     "execution_count": 41,
     "metadata": {},
     "output_type": "execute_result"
    }
   ],
   "source": [
    "y_train.value_counts()"
   ]
  },
  {
   "cell_type": "code",
   "execution_count": 42,
   "id": "f941c279",
   "metadata": {},
   "outputs": [
    {
     "data": {
      "text/plain": [
       "1    54\n",
       "0     3\n",
       "Name: OC, dtype: int64"
      ]
     },
     "execution_count": 42,
     "metadata": {},
     "output_type": "execute_result"
    }
   ],
   "source": [
    "y_valid.value_counts()"
   ]
  },
  {
   "cell_type": "code",
   "execution_count": 43,
   "id": "2ca6207f",
   "metadata": {},
   "outputs": [
    {
     "data": {
      "text/plain": [
       "1    71\n",
       "0     5\n",
       "Name: OC, dtype: int64"
      ]
     },
     "execution_count": 43,
     "metadata": {},
     "output_type": "execute_result"
    }
   ],
   "source": [
    "Y_test.value_counts()"
   ]
  },
  {
   "cell_type": "code",
   "execution_count": 44,
   "id": "938d670b",
   "metadata": {},
   "outputs": [],
   "source": [
    "from imblearn.over_sampling import SMOTE\n",
    "\n",
    "smote = SMOTE(random_state=42)\n",
    "x_train_smote, y_train_smote = smote.fit_resample(x_train, y_train)"
   ]
  },
  {
   "cell_type": "code",
   "execution_count": 45,
   "id": "3fe84c37",
   "metadata": {},
   "outputs": [],
   "source": [
    "smote = SMOTE(random_state=42)\n",
    "X_train_smote, Y_train_smote = smote.fit_resample(X_train, Y_train)"
   ]
  },
  {
   "cell_type": "code",
   "execution_count": 46,
   "id": "4f2138af",
   "metadata": {},
   "outputs": [
    {
     "data": {
      "text/plain": [
       "1    161\n",
       "0    161\n",
       "Name: OC, dtype: int64"
      ]
     },
     "execution_count": 46,
     "metadata": {},
     "output_type": "execute_result"
    }
   ],
   "source": [
    "y_train_smote.value_counts()"
   ]
  },
  {
   "cell_type": "code",
   "execution_count": 47,
   "id": "8da3984e",
   "metadata": {},
   "outputs": [
    {
     "data": {
      "text/plain": [
       "0    215\n",
       "1    215\n",
       "Name: OC, dtype: int64"
      ]
     },
     "execution_count": 47,
     "metadata": {},
     "output_type": "execute_result"
    }
   ],
   "source": [
    "Y_train_smote.value_counts()"
   ]
  },
  {
   "cell_type": "code",
   "execution_count": 48,
   "id": "12ad4648",
   "metadata": {},
   "outputs": [],
   "source": [
    "from sklearn.preprocessing import StandardScaler\n",
    "scaler = StandardScaler()\n",
    "train_features = scaler.fit_transform(x_train_smote)\n",
    "test_features = scaler.transform(x_valid)"
   ]
  },
  {
   "cell_type": "code",
   "execution_count": 79,
   "id": "e66dbc88",
   "metadata": {},
   "outputs": [],
   "source": [
    "from sklearn.preprocessing import StandardScaler\n",
    "scaler = StandardScaler()\n",
    "train_features = scaler.fit_transform(X_train_smote)\n",
    "test_features = scaler.transform(X_test)"
   ]
  },
  {
   "cell_type": "markdown",
   "id": "a26ecde5",
   "metadata": {},
   "source": [
    "1. Support Vector Machine(SVM;서포트 벡터 머신)  \n",
    "  \n",
    "https://bioinformaticsandme.tistory.com/304"
   ]
  },
  {
   "cell_type": "code",
   "execution_count": 81,
   "id": "cdc866e4",
   "metadata": {},
   "outputs": [
    {
     "data": {
      "text/html": [
       "<style>#sk-container-id-4 {color: black;background-color: white;}#sk-container-id-4 pre{padding: 0;}#sk-container-id-4 div.sk-toggleable {background-color: white;}#sk-container-id-4 label.sk-toggleable__label {cursor: pointer;display: block;width: 100%;margin-bottom: 0;padding: 0.3em;box-sizing: border-box;text-align: center;}#sk-container-id-4 label.sk-toggleable__label-arrow:before {content: \"▸\";float: left;margin-right: 0.25em;color: #696969;}#sk-container-id-4 label.sk-toggleable__label-arrow:hover:before {color: black;}#sk-container-id-4 div.sk-estimator:hover label.sk-toggleable__label-arrow:before {color: black;}#sk-container-id-4 div.sk-toggleable__content {max-height: 0;max-width: 0;overflow: hidden;text-align: left;background-color: #f0f8ff;}#sk-container-id-4 div.sk-toggleable__content pre {margin: 0.2em;color: black;border-radius: 0.25em;background-color: #f0f8ff;}#sk-container-id-4 input.sk-toggleable__control:checked~div.sk-toggleable__content {max-height: 200px;max-width: 100%;overflow: auto;}#sk-container-id-4 input.sk-toggleable__control:checked~label.sk-toggleable__label-arrow:before {content: \"▾\";}#sk-container-id-4 div.sk-estimator input.sk-toggleable__control:checked~label.sk-toggleable__label {background-color: #d4ebff;}#sk-container-id-4 div.sk-label input.sk-toggleable__control:checked~label.sk-toggleable__label {background-color: #d4ebff;}#sk-container-id-4 input.sk-hidden--visually {border: 0;clip: rect(1px 1px 1px 1px);clip: rect(1px, 1px, 1px, 1px);height: 1px;margin: -1px;overflow: hidden;padding: 0;position: absolute;width: 1px;}#sk-container-id-4 div.sk-estimator {font-family: monospace;background-color: #f0f8ff;border: 1px dotted black;border-radius: 0.25em;box-sizing: border-box;margin-bottom: 0.5em;}#sk-container-id-4 div.sk-estimator:hover {background-color: #d4ebff;}#sk-container-id-4 div.sk-parallel-item::after {content: \"\";width: 100%;border-bottom: 1px solid gray;flex-grow: 1;}#sk-container-id-4 div.sk-label:hover label.sk-toggleable__label {background-color: #d4ebff;}#sk-container-id-4 div.sk-serial::before {content: \"\";position: absolute;border-left: 1px solid gray;box-sizing: border-box;top: 0;bottom: 0;left: 50%;z-index: 0;}#sk-container-id-4 div.sk-serial {display: flex;flex-direction: column;align-items: center;background-color: white;padding-right: 0.2em;padding-left: 0.2em;position: relative;}#sk-container-id-4 div.sk-item {position: relative;z-index: 1;}#sk-container-id-4 div.sk-parallel {display: flex;align-items: stretch;justify-content: center;background-color: white;position: relative;}#sk-container-id-4 div.sk-item::before, #sk-container-id-4 div.sk-parallel-item::before {content: \"\";position: absolute;border-left: 1px solid gray;box-sizing: border-box;top: 0;bottom: 0;left: 50%;z-index: -1;}#sk-container-id-4 div.sk-parallel-item {display: flex;flex-direction: column;z-index: 1;position: relative;background-color: white;}#sk-container-id-4 div.sk-parallel-item:first-child::after {align-self: flex-end;width: 50%;}#sk-container-id-4 div.sk-parallel-item:last-child::after {align-self: flex-start;width: 50%;}#sk-container-id-4 div.sk-parallel-item:only-child::after {width: 0;}#sk-container-id-4 div.sk-dashed-wrapped {border: 1px dashed gray;margin: 0 0.4em 0.5em 0.4em;box-sizing: border-box;padding-bottom: 0.4em;background-color: white;}#sk-container-id-4 div.sk-label label {font-family: monospace;font-weight: bold;display: inline-block;line-height: 1.2em;}#sk-container-id-4 div.sk-label-container {text-align: center;}#sk-container-id-4 div.sk-container {/* jupyter's `normalize.less` sets `[hidden] { display: none; }` but bootstrap.min.css set `[hidden] { display: none !important; }` so we also need the `!important` here to be able to override the default hidden behavior on the sphinx rendered scikit-learn.org. See: https://github.com/scikit-learn/scikit-learn/issues/21755 */display: inline-block !important;position: relative;}#sk-container-id-4 div.sk-text-repr-fallback {display: none;}</style><div id=\"sk-container-id-4\" class=\"sk-top-container\"><div class=\"sk-text-repr-fallback\"><pre>SVC()</pre><b>In a Jupyter environment, please rerun this cell to show the HTML representation or trust the notebook. <br />On GitHub, the HTML representation is unable to render, please try loading this page with nbviewer.org.</b></div><div class=\"sk-container\" hidden><div class=\"sk-item\"><div class=\"sk-estimator sk-toggleable\"><input class=\"sk-toggleable__control sk-hidden--visually\" id=\"sk-estimator-id-4\" type=\"checkbox\" checked><label for=\"sk-estimator-id-4\" class=\"sk-toggleable__label sk-toggleable__label-arrow\">SVC</label><div class=\"sk-toggleable__content\"><pre>SVC()</pre></div></div></div></div></div>"
      ],
      "text/plain": [
       "SVC()"
      ]
     },
     "execution_count": 81,
     "metadata": {},
     "output_type": "execute_result"
    }
   ],
   "source": [
    "from sklearn import svm\n",
    "\n",
    "clf = svm.SVC()\n",
    "clf.fit(train_features, Y_train_smote)"
   ]
  },
  {
   "cell_type": "code",
   "execution_count": 83,
   "id": "f8f05754",
   "metadata": {},
   "outputs": [
    {
     "name": "stdout",
     "output_type": "stream",
     "text": [
      "Confusion Matrix (Accuracy 0.9977)\n",
      "\n",
      "       Prediction\n",
      "Actual   0   1\n",
      "     0 215   0\n",
      "     1   1 214\n",
      "None\n",
      "0.9976744186046511\n",
      "Confusion Matrix (Accuracy 0.9342)\n",
      "\n",
      "       Prediction\n",
      "Actual  0  1\n",
      "     0  1  4\n",
      "     1  1 70\n",
      "None\n",
      "0.5929577464788732\n"
     ]
    }
   ],
   "source": [
    "from dmba import classificationSummary\n",
    "from sklearn.metrics import roc_auc_score\n",
    "\n",
    "Y_train_pred = clf.predict(train_features)\n",
    "Y_test_pred = clf.predict(test_features)\n",
    "\n",
    "print(classificationSummary(Y_train_smote, Y_train_pred))\n",
    "print(roc_auc_score(Y_train_smote, Y_train_pred))\n",
    "print(classificationSummary(Y_test, Y_test_pred))\n",
    "print(roc_auc_score(Y_test, Y_test_pred))"
   ]
  },
  {
   "cell_type": "code",
   "execution_count": 84,
   "id": "da717e34",
   "metadata": {},
   "outputs": [
    {
     "name": "stdout",
     "output_type": "stream",
     "text": [
      "Fitting 5 folds for each of 50 candidates, totalling 250 fits\n",
      "[CV] END ..............................C=10.0, kernel=linear; total time=   0.0s\n",
      "[CV] END ..............................C=10.0, kernel=linear; total time=   0.0s\n",
      "[CV] END ..............................C=10.0, kernel=linear; total time=   0.0s\n",
      "[CV] END ..............................C=10.0, kernel=linear; total time=   0.0s\n",
      "[CV] END ..............................C=10.0, kernel=linear; total time=   0.0s\n",
      "[CV] END ..............................C=30.0, kernel=linear; total time=   0.0s\n",
      "[CV] END ..............................C=30.0, kernel=linear; total time=   0.0s\n",
      "[CV] END ..............................C=30.0, kernel=linear; total time=   0.0s\n",
      "[CV] END ..............................C=30.0, kernel=linear; total time=   0.0s\n",
      "[CV] END ..............................C=30.0, kernel=linear; total time=   0.0s\n",
      "[CV] END .............................C=100.0, kernel=linear; total time=   0.0s\n",
      "[CV] END .............................C=100.0, kernel=linear; total time=   0.0s\n",
      "[CV] END .............................C=100.0, kernel=linear; total time=   0.0s\n",
      "[CV] END .............................C=100.0, kernel=linear; total time=   0.0s\n",
      "[CV] END .............................C=100.0, kernel=linear; total time=   0.0s\n",
      "[CV] END .............................C=300.0, kernel=linear; total time=   0.0s\n",
      "[CV] END .............................C=300.0, kernel=linear; total time=   0.0s\n",
      "[CV] END .............................C=300.0, kernel=linear; total time=   0.0s\n",
      "[CV] END .............................C=300.0, kernel=linear; total time=   0.0s\n",
      "[CV] END .............................C=300.0, kernel=linear; total time=   0.0s\n",
      "[CV] END ............................C=1000.0, kernel=linear; total time=   0.0s\n",
      "[CV] END ............................C=1000.0, kernel=linear; total time=   0.0s\n",
      "[CV] END ............................C=1000.0, kernel=linear; total time=   0.0s\n",
      "[CV] END ............................C=1000.0, kernel=linear; total time=   0.0s\n",
      "[CV] END ............................C=1000.0, kernel=linear; total time=   0.0s\n",
      "[CV] END ............................C=3000.0, kernel=linear; total time=   0.0s\n",
      "[CV] END ............................C=3000.0, kernel=linear; total time=   0.0s\n",
      "[CV] END ............................C=3000.0, kernel=linear; total time=   0.0s\n",
      "[CV] END ............................C=3000.0, kernel=linear; total time=   0.0s\n",
      "[CV] END ............................C=3000.0, kernel=linear; total time=   0.0s\n",
      "[CV] END ...........................C=10000.0, kernel=linear; total time=   0.0s\n",
      "[CV] END ...........................C=10000.0, kernel=linear; total time=   0.0s\n",
      "[CV] END ...........................C=10000.0, kernel=linear; total time=   0.0s\n",
      "[CV] END ...........................C=10000.0, kernel=linear; total time=   0.0s\n",
      "[CV] END ...........................C=10000.0, kernel=linear; total time=   0.0s\n",
      "[CV] END ...........................C=30000.0, kernel=linear; total time=   0.0s\n",
      "[CV] END ...........................C=30000.0, kernel=linear; total time=   0.0s\n",
      "[CV] END ...........................C=30000.0, kernel=linear; total time=   0.0s\n",
      "[CV] END ...........................C=30000.0, kernel=linear; total time=   0.0s\n",
      "[CV] END ...........................C=30000.0, kernel=linear; total time=   0.0s\n",
      "[CV] END ......................C=1.0, gamma=0.01, kernel=rbf; total time=   0.0s\n",
      "[CV] END ......................C=1.0, gamma=0.01, kernel=rbf; total time=   0.0s\n",
      "[CV] END ......................C=1.0, gamma=0.01, kernel=rbf; total time=   0.0s\n",
      "[CV] END ......................C=1.0, gamma=0.01, kernel=rbf; total time=   0.0s\n",
      "[CV] END ......................C=1.0, gamma=0.01, kernel=rbf; total time=   0.0s\n",
      "[CV] END ......................C=1.0, gamma=0.03, kernel=rbf; total time=   0.0s\n",
      "[CV] END ......................C=1.0, gamma=0.03, kernel=rbf; total time=   0.0s\n",
      "[CV] END ......................C=1.0, gamma=0.03, kernel=rbf; total time=   0.0s\n",
      "[CV] END ......................C=1.0, gamma=0.03, kernel=rbf; total time=   0.0s\n",
      "[CV] END ......................C=1.0, gamma=0.03, kernel=rbf; total time=   0.0s\n",
      "[CV] END .......................C=1.0, gamma=0.1, kernel=rbf; total time=   0.0s\n",
      "[CV] END .......................C=1.0, gamma=0.1, kernel=rbf; total time=   0.0s\n",
      "[CV] END .......................C=1.0, gamma=0.1, kernel=rbf; total time=   0.0s\n",
      "[CV] END .......................C=1.0, gamma=0.1, kernel=rbf; total time=   0.0s\n",
      "[CV] END .......................C=1.0, gamma=0.1, kernel=rbf; total time=   0.0s\n",
      "[CV] END .......................C=1.0, gamma=0.3, kernel=rbf; total time=   0.0s\n",
      "[CV] END .......................C=1.0, gamma=0.3, kernel=rbf; total time=   0.0s\n",
      "[CV] END .......................C=1.0, gamma=0.3, kernel=rbf; total time=   0.0s\n",
      "[CV] END .......................C=1.0, gamma=0.3, kernel=rbf; total time=   0.0s\n",
      "[CV] END .......................C=1.0, gamma=0.3, kernel=rbf; total time=   0.0s\n",
      "[CV] END .......................C=1.0, gamma=1.0, kernel=rbf; total time=   0.0s\n",
      "[CV] END .......................C=1.0, gamma=1.0, kernel=rbf; total time=   0.0s\n",
      "[CV] END .......................C=1.0, gamma=1.0, kernel=rbf; total time=   0.0s\n",
      "[CV] END .......................C=1.0, gamma=1.0, kernel=rbf; total time=   0.0s\n",
      "[CV] END .......................C=1.0, gamma=1.0, kernel=rbf; total time=   0.0s\n",
      "[CV] END .......................C=1.0, gamma=3.0, kernel=rbf; total time=   0.0s\n",
      "[CV] END .......................C=1.0, gamma=3.0, kernel=rbf; total time=   0.0s\n",
      "[CV] END .......................C=1.0, gamma=3.0, kernel=rbf; total time=   0.0s\n",
      "[CV] END .......................C=1.0, gamma=3.0, kernel=rbf; total time=   0.0s\n",
      "[CV] END .......................C=1.0, gamma=3.0, kernel=rbf; total time=   0.0s\n",
      "[CV] END ......................C=3.0, gamma=0.01, kernel=rbf; total time=   0.0s\n",
      "[CV] END ......................C=3.0, gamma=0.01, kernel=rbf; total time=   0.0s\n",
      "[CV] END ......................C=3.0, gamma=0.01, kernel=rbf; total time=   0.0s\n",
      "[CV] END ......................C=3.0, gamma=0.01, kernel=rbf; total time=   0.0s\n",
      "[CV] END ......................C=3.0, gamma=0.01, kernel=rbf; total time=   0.0s\n",
      "[CV] END ......................C=3.0, gamma=0.03, kernel=rbf; total time=   0.0s\n",
      "[CV] END ......................C=3.0, gamma=0.03, kernel=rbf; total time=   0.0s\n",
      "[CV] END ......................C=3.0, gamma=0.03, kernel=rbf; total time=   0.0s\n",
      "[CV] END ......................C=3.0, gamma=0.03, kernel=rbf; total time=   0.0s\n",
      "[CV] END ......................C=3.0, gamma=0.03, kernel=rbf; total time=   0.0s\n",
      "[CV] END .......................C=3.0, gamma=0.1, kernel=rbf; total time=   0.0s\n",
      "[CV] END .......................C=3.0, gamma=0.1, kernel=rbf; total time=   0.0s\n",
      "[CV] END .......................C=3.0, gamma=0.1, kernel=rbf; total time=   0.0s\n",
      "[CV] END .......................C=3.0, gamma=0.1, kernel=rbf; total time=   0.0s\n",
      "[CV] END .......................C=3.0, gamma=0.1, kernel=rbf; total time=   0.0s\n",
      "[CV] END .......................C=3.0, gamma=0.3, kernel=rbf; total time=   0.0s\n",
      "[CV] END .......................C=3.0, gamma=0.3, kernel=rbf; total time=   0.0s\n",
      "[CV] END .......................C=3.0, gamma=0.3, kernel=rbf; total time=   0.0s\n",
      "[CV] END .......................C=3.0, gamma=0.3, kernel=rbf; total time=   0.0s\n",
      "[CV] END .......................C=3.0, gamma=0.3, kernel=rbf; total time=   0.0s\n",
      "[CV] END .......................C=3.0, gamma=1.0, kernel=rbf; total time=   0.0s\n",
      "[CV] END .......................C=3.0, gamma=1.0, kernel=rbf; total time=   0.0s\n",
      "[CV] END .......................C=3.0, gamma=1.0, kernel=rbf; total time=   0.0s\n",
      "[CV] END .......................C=3.0, gamma=1.0, kernel=rbf; total time=   0.0s\n",
      "[CV] END .......................C=3.0, gamma=1.0, kernel=rbf; total time=   0.0s\n",
      "[CV] END .......................C=3.0, gamma=3.0, kernel=rbf; total time=   0.0s\n",
      "[CV] END .......................C=3.0, gamma=3.0, kernel=rbf; total time=   0.0s\n",
      "[CV] END .......................C=3.0, gamma=3.0, kernel=rbf; total time=   0.0s\n",
      "[CV] END .......................C=3.0, gamma=3.0, kernel=rbf; total time=   0.0s\n",
      "[CV] END .......................C=3.0, gamma=3.0, kernel=rbf; total time=   0.0s\n",
      "[CV] END .....................C=10.0, gamma=0.01, kernel=rbf; total time=   0.0s\n",
      "[CV] END .....................C=10.0, gamma=0.01, kernel=rbf; total time=   0.0s\n",
      "[CV] END .....................C=10.0, gamma=0.01, kernel=rbf; total time=   0.0s\n",
      "[CV] END .....................C=10.0, gamma=0.01, kernel=rbf; total time=   0.0s\n"
     ]
    },
    {
     "name": "stdout",
     "output_type": "stream",
     "text": [
      "[CV] END .....................C=10.0, gamma=0.01, kernel=rbf; total time=   0.0s\n",
      "[CV] END .....................C=10.0, gamma=0.03, kernel=rbf; total time=   0.0s\n",
      "[CV] END .....................C=10.0, gamma=0.03, kernel=rbf; total time=   0.0s\n",
      "[CV] END .....................C=10.0, gamma=0.03, kernel=rbf; total time=   0.0s\n",
      "[CV] END .....................C=10.0, gamma=0.03, kernel=rbf; total time=   0.0s\n",
      "[CV] END .....................C=10.0, gamma=0.03, kernel=rbf; total time=   0.0s\n",
      "[CV] END ......................C=10.0, gamma=0.1, kernel=rbf; total time=   0.0s\n",
      "[CV] END ......................C=10.0, gamma=0.1, kernel=rbf; total time=   0.0s\n",
      "[CV] END ......................C=10.0, gamma=0.1, kernel=rbf; total time=   0.0s\n",
      "[CV] END ......................C=10.0, gamma=0.1, kernel=rbf; total time=   0.0s\n",
      "[CV] END ......................C=10.0, gamma=0.1, kernel=rbf; total time=   0.0s\n",
      "[CV] END ......................C=10.0, gamma=0.3, kernel=rbf; total time=   0.0s\n",
      "[CV] END ......................C=10.0, gamma=0.3, kernel=rbf; total time=   0.0s\n",
      "[CV] END ......................C=10.0, gamma=0.3, kernel=rbf; total time=   0.0s\n",
      "[CV] END ......................C=10.0, gamma=0.3, kernel=rbf; total time=   0.0s\n",
      "[CV] END ......................C=10.0, gamma=0.3, kernel=rbf; total time=   0.0s\n",
      "[CV] END ......................C=10.0, gamma=1.0, kernel=rbf; total time=   0.0s\n",
      "[CV] END ......................C=10.0, gamma=1.0, kernel=rbf; total time=   0.0s\n",
      "[CV] END ......................C=10.0, gamma=1.0, kernel=rbf; total time=   0.0s\n",
      "[CV] END ......................C=10.0, gamma=1.0, kernel=rbf; total time=   0.0s\n",
      "[CV] END ......................C=10.0, gamma=1.0, kernel=rbf; total time=   0.0s\n",
      "[CV] END ......................C=10.0, gamma=3.0, kernel=rbf; total time=   0.0s\n",
      "[CV] END ......................C=10.0, gamma=3.0, kernel=rbf; total time=   0.0s\n",
      "[CV] END ......................C=10.0, gamma=3.0, kernel=rbf; total time=   0.0s\n",
      "[CV] END ......................C=10.0, gamma=3.0, kernel=rbf; total time=   0.0s\n",
      "[CV] END ......................C=10.0, gamma=3.0, kernel=rbf; total time=   0.0s\n",
      "[CV] END .....................C=30.0, gamma=0.01, kernel=rbf; total time=   0.0s\n",
      "[CV] END .....................C=30.0, gamma=0.01, kernel=rbf; total time=   0.0s\n",
      "[CV] END .....................C=30.0, gamma=0.01, kernel=rbf; total time=   0.0s\n",
      "[CV] END .....................C=30.0, gamma=0.01, kernel=rbf; total time=   0.0s\n",
      "[CV] END .....................C=30.0, gamma=0.01, kernel=rbf; total time=   0.0s\n",
      "[CV] END .....................C=30.0, gamma=0.03, kernel=rbf; total time=   0.0s\n",
      "[CV] END .....................C=30.0, gamma=0.03, kernel=rbf; total time=   0.0s\n",
      "[CV] END .....................C=30.0, gamma=0.03, kernel=rbf; total time=   0.0s\n",
      "[CV] END .....................C=30.0, gamma=0.03, kernel=rbf; total time=   0.0s\n",
      "[CV] END .....................C=30.0, gamma=0.03, kernel=rbf; total time=   0.0s\n",
      "[CV] END ......................C=30.0, gamma=0.1, kernel=rbf; total time=   0.0s\n",
      "[CV] END ......................C=30.0, gamma=0.1, kernel=rbf; total time=   0.0s\n",
      "[CV] END ......................C=30.0, gamma=0.1, kernel=rbf; total time=   0.0s\n",
      "[CV] END ......................C=30.0, gamma=0.1, kernel=rbf; total time=   0.0s\n",
      "[CV] END ......................C=30.0, gamma=0.1, kernel=rbf; total time=   0.0s\n",
      "[CV] END ......................C=30.0, gamma=0.3, kernel=rbf; total time=   0.0s\n",
      "[CV] END ......................C=30.0, gamma=0.3, kernel=rbf; total time=   0.0s\n",
      "[CV] END ......................C=30.0, gamma=0.3, kernel=rbf; total time=   0.0s\n",
      "[CV] END ......................C=30.0, gamma=0.3, kernel=rbf; total time=   0.0s\n",
      "[CV] END ......................C=30.0, gamma=0.3, kernel=rbf; total time=   0.0s\n",
      "[CV] END ......................C=30.0, gamma=1.0, kernel=rbf; total time=   0.0s\n",
      "[CV] END ......................C=30.0, gamma=1.0, kernel=rbf; total time=   0.0s\n",
      "[CV] END ......................C=30.0, gamma=1.0, kernel=rbf; total time=   0.0s\n",
      "[CV] END ......................C=30.0, gamma=1.0, kernel=rbf; total time=   0.0s\n",
      "[CV] END ......................C=30.0, gamma=1.0, kernel=rbf; total time=   0.0s\n",
      "[CV] END ......................C=30.0, gamma=3.0, kernel=rbf; total time=   0.0s\n",
      "[CV] END ......................C=30.0, gamma=3.0, kernel=rbf; total time=   0.0s\n",
      "[CV] END ......................C=30.0, gamma=3.0, kernel=rbf; total time=   0.0s\n",
      "[CV] END ......................C=30.0, gamma=3.0, kernel=rbf; total time=   0.0s\n",
      "[CV] END ......................C=30.0, gamma=3.0, kernel=rbf; total time=   0.0s\n",
      "[CV] END ....................C=100.0, gamma=0.01, kernel=rbf; total time=   0.0s\n",
      "[CV] END ....................C=100.0, gamma=0.01, kernel=rbf; total time=   0.0s\n",
      "[CV] END ....................C=100.0, gamma=0.01, kernel=rbf; total time=   0.0s\n",
      "[CV] END ....................C=100.0, gamma=0.01, kernel=rbf; total time=   0.0s\n",
      "[CV] END ....................C=100.0, gamma=0.01, kernel=rbf; total time=   0.0s\n",
      "[CV] END ....................C=100.0, gamma=0.03, kernel=rbf; total time=   0.0s\n",
      "[CV] END ....................C=100.0, gamma=0.03, kernel=rbf; total time=   0.0s\n",
      "[CV] END ....................C=100.0, gamma=0.03, kernel=rbf; total time=   0.0s\n",
      "[CV] END ....................C=100.0, gamma=0.03, kernel=rbf; total time=   0.0s\n",
      "[CV] END ....................C=100.0, gamma=0.03, kernel=rbf; total time=   0.0s\n",
      "[CV] END .....................C=100.0, gamma=0.1, kernel=rbf; total time=   0.0s\n",
      "[CV] END .....................C=100.0, gamma=0.1, kernel=rbf; total time=   0.0s\n",
      "[CV] END .....................C=100.0, gamma=0.1, kernel=rbf; total time=   0.0s\n",
      "[CV] END .....................C=100.0, gamma=0.1, kernel=rbf; total time=   0.0s\n",
      "[CV] END .....................C=100.0, gamma=0.1, kernel=rbf; total time=   0.0s\n",
      "[CV] END .....................C=100.0, gamma=0.3, kernel=rbf; total time=   0.0s\n",
      "[CV] END .....................C=100.0, gamma=0.3, kernel=rbf; total time=   0.0s\n",
      "[CV] END .....................C=100.0, gamma=0.3, kernel=rbf; total time=   0.0s\n",
      "[CV] END .....................C=100.0, gamma=0.3, kernel=rbf; total time=   0.0s\n",
      "[CV] END .....................C=100.0, gamma=0.3, kernel=rbf; total time=   0.0s\n",
      "[CV] END .....................C=100.0, gamma=1.0, kernel=rbf; total time=   0.0s\n",
      "[CV] END .....................C=100.0, gamma=1.0, kernel=rbf; total time=   0.0s\n",
      "[CV] END .....................C=100.0, gamma=1.0, kernel=rbf; total time=   0.0s\n",
      "[CV] END .....................C=100.0, gamma=1.0, kernel=rbf; total time=   0.0s\n",
      "[CV] END .....................C=100.0, gamma=1.0, kernel=rbf; total time=   0.0s\n",
      "[CV] END .....................C=100.0, gamma=3.0, kernel=rbf; total time=   0.0s\n",
      "[CV] END .....................C=100.0, gamma=3.0, kernel=rbf; total time=   0.0s\n",
      "[CV] END .....................C=100.0, gamma=3.0, kernel=rbf; total time=   0.0s\n",
      "[CV] END .....................C=100.0, gamma=3.0, kernel=rbf; total time=   0.0s\n",
      "[CV] END .....................C=100.0, gamma=3.0, kernel=rbf; total time=   0.0s\n",
      "[CV] END ....................C=300.0, gamma=0.01, kernel=rbf; total time=   0.0s\n",
      "[CV] END ....................C=300.0, gamma=0.01, kernel=rbf; total time=   0.0s\n",
      "[CV] END ....................C=300.0, gamma=0.01, kernel=rbf; total time=   0.0s\n",
      "[CV] END ....................C=300.0, gamma=0.01, kernel=rbf; total time=   0.0s\n",
      "[CV] END ....................C=300.0, gamma=0.01, kernel=rbf; total time=   0.0s\n",
      "[CV] END ....................C=300.0, gamma=0.03, kernel=rbf; total time=   0.0s\n",
      "[CV] END ....................C=300.0, gamma=0.03, kernel=rbf; total time=   0.0s\n",
      "[CV] END ....................C=300.0, gamma=0.03, kernel=rbf; total time=   0.0s\n",
      "[CV] END ....................C=300.0, gamma=0.03, kernel=rbf; total time=   0.0s\n",
      "[CV] END ....................C=300.0, gamma=0.03, kernel=rbf; total time=   0.0s\n",
      "[CV] END .....................C=300.0, gamma=0.1, kernel=rbf; total time=   0.0s\n",
      "[CV] END .....................C=300.0, gamma=0.1, kernel=rbf; total time=   0.0s\n",
      "[CV] END .....................C=300.0, gamma=0.1, kernel=rbf; total time=   0.0s\n",
      "[CV] END .....................C=300.0, gamma=0.1, kernel=rbf; total time=   0.0s\n",
      "[CV] END .....................C=300.0, gamma=0.1, kernel=rbf; total time=   0.0s\n",
      "[CV] END .....................C=300.0, gamma=0.3, kernel=rbf; total time=   0.0s\n",
      "[CV] END .....................C=300.0, gamma=0.3, kernel=rbf; total time=   0.0s\n",
      "[CV] END .....................C=300.0, gamma=0.3, kernel=rbf; total time=   0.0s\n",
      "[CV] END .....................C=300.0, gamma=0.3, kernel=rbf; total time=   0.0s\n",
      "[CV] END .....................C=300.0, gamma=0.3, kernel=rbf; total time=   0.0s\n",
      "[CV] END .....................C=300.0, gamma=1.0, kernel=rbf; total time=   0.0s\n"
     ]
    },
    {
     "name": "stdout",
     "output_type": "stream",
     "text": [
      "[CV] END .....................C=300.0, gamma=1.0, kernel=rbf; total time=   0.0s\n",
      "[CV] END .....................C=300.0, gamma=1.0, kernel=rbf; total time=   0.0s\n",
      "[CV] END .....................C=300.0, gamma=1.0, kernel=rbf; total time=   0.0s\n",
      "[CV] END .....................C=300.0, gamma=1.0, kernel=rbf; total time=   0.0s\n",
      "[CV] END .....................C=300.0, gamma=3.0, kernel=rbf; total time=   0.0s\n",
      "[CV] END .....................C=300.0, gamma=3.0, kernel=rbf; total time=   0.0s\n",
      "[CV] END .....................C=300.0, gamma=3.0, kernel=rbf; total time=   0.0s\n",
      "[CV] END .....................C=300.0, gamma=3.0, kernel=rbf; total time=   0.0s\n",
      "[CV] END .....................C=300.0, gamma=3.0, kernel=rbf; total time=   0.0s\n",
      "[CV] END ...................C=1000.0, gamma=0.01, kernel=rbf; total time=   0.0s\n",
      "[CV] END ...................C=1000.0, gamma=0.01, kernel=rbf; total time=   0.0s\n",
      "[CV] END ...................C=1000.0, gamma=0.01, kernel=rbf; total time=   0.0s\n",
      "[CV] END ...................C=1000.0, gamma=0.01, kernel=rbf; total time=   0.0s\n",
      "[CV] END ...................C=1000.0, gamma=0.01, kernel=rbf; total time=   0.0s\n",
      "[CV] END ...................C=1000.0, gamma=0.03, kernel=rbf; total time=   0.0s\n",
      "[CV] END ...................C=1000.0, gamma=0.03, kernel=rbf; total time=   0.0s\n",
      "[CV] END ...................C=1000.0, gamma=0.03, kernel=rbf; total time=   0.0s\n",
      "[CV] END ...................C=1000.0, gamma=0.03, kernel=rbf; total time=   0.0s\n",
      "[CV] END ...................C=1000.0, gamma=0.03, kernel=rbf; total time=   0.0s\n",
      "[CV] END ....................C=1000.0, gamma=0.1, kernel=rbf; total time=   0.0s\n",
      "[CV] END ....................C=1000.0, gamma=0.1, kernel=rbf; total time=   0.0s\n",
      "[CV] END ....................C=1000.0, gamma=0.1, kernel=rbf; total time=   0.0s\n",
      "[CV] END ....................C=1000.0, gamma=0.1, kernel=rbf; total time=   0.0s\n",
      "[CV] END ....................C=1000.0, gamma=0.1, kernel=rbf; total time=   0.0s\n",
      "[CV] END ....................C=1000.0, gamma=0.3, kernel=rbf; total time=   0.0s\n",
      "[CV] END ....................C=1000.0, gamma=0.3, kernel=rbf; total time=   0.0s\n",
      "[CV] END ....................C=1000.0, gamma=0.3, kernel=rbf; total time=   0.0s\n",
      "[CV] END ....................C=1000.0, gamma=0.3, kernel=rbf; total time=   0.0s\n",
      "[CV] END ....................C=1000.0, gamma=0.3, kernel=rbf; total time=   0.0s\n",
      "[CV] END ....................C=1000.0, gamma=1.0, kernel=rbf; total time=   0.0s\n",
      "[CV] END ....................C=1000.0, gamma=1.0, kernel=rbf; total time=   0.0s\n",
      "[CV] END ....................C=1000.0, gamma=1.0, kernel=rbf; total time=   0.0s\n",
      "[CV] END ....................C=1000.0, gamma=1.0, kernel=rbf; total time=   0.0s\n",
      "[CV] END ....................C=1000.0, gamma=1.0, kernel=rbf; total time=   0.0s\n",
      "[CV] END ....................C=1000.0, gamma=3.0, kernel=rbf; total time=   0.0s\n",
      "[CV] END ....................C=1000.0, gamma=3.0, kernel=rbf; total time=   0.0s\n",
      "[CV] END ....................C=1000.0, gamma=3.0, kernel=rbf; total time=   0.0s\n",
      "[CV] END ....................C=1000.0, gamma=3.0, kernel=rbf; total time=   0.0s\n",
      "[CV] END ....................C=1000.0, gamma=3.0, kernel=rbf; total time=   0.0s\n"
     ]
    }
   ],
   "source": [
    "from sklearn.model_selection import GridSearchCV\n",
    "\n",
    "param_grid=[\n",
    "    {'kernel': ['linear'], 'C':[10.,30.,100.,300.,1000.,3000.,10000.,30000.0]},\n",
    "    {'kernel': ['rbf'], 'C':[1.0,3.0,10.,30.,100.,300.,1000.0],\n",
    "    'gamma':[0.01, 0.03, 0.1, 0.3, 1.0, 3.0]}\n",
    "]\n",
    "\n",
    "svm_clf=svm.SVC()\n",
    "\n",
    "grid_search=GridSearchCV(svm_clf, param_grid, cv=5, refit=True, scoring='accuracy', verbose=2)\n",
    "grid_search.fit(train_features, Y_train_smote)\n",
    "\n",
    "grid_pf=grid_search.best_estimator_.predict"
   ]
  },
  {
   "cell_type": "code",
   "execution_count": 85,
   "id": "b827eb76",
   "metadata": {},
   "outputs": [
    {
     "name": "stdout",
     "output_type": "stream",
     "text": [
      "{'C': 1.0, 'gamma': 0.03, 'kernel': 'rbf'}\n",
      "0.9976744186046511\n"
     ]
    }
   ],
   "source": [
    "print(grid_search.best_params_)\n",
    "print(grid_search.best_score_)"
   ]
  },
  {
   "cell_type": "code",
   "execution_count": 86,
   "id": "74e6388e",
   "metadata": {},
   "outputs": [
    {
     "name": "stdout",
     "output_type": "stream",
     "text": [
      "Confusion Matrix (Accuracy 0.9977)\n",
      "\n",
      "       Prediction\n",
      "Actual   0   1\n",
      "     0 215   0\n",
      "     1   1 214\n",
      "0.9976744186046511\n"
     ]
    }
   ],
   "source": [
    "pred=grid_search.predict(train_features)\n",
    "classificationSummary(Y_train_smote,pred)\n",
    "print(roc_auc_score(Y_train_smote, pred))"
   ]
  },
  {
   "cell_type": "code",
   "execution_count": 87,
   "id": "28dd3214",
   "metadata": {},
   "outputs": [
    {
     "name": "stdout",
     "output_type": "stream",
     "text": [
      "Confusion Matrix (Accuracy 0.9342)\n",
      "\n",
      "       Prediction\n",
      "Actual  0  1\n",
      "     0  0  5\n",
      "     1  0 71\n",
      "0.5\n"
     ]
    },
    {
     "name": "stderr",
     "output_type": "stream",
     "text": [
      "C:\\Users\\ynjn\\anaconda3\\lib\\site-packages\\sklearn\\base.py:443: UserWarning: X has feature names, but SVC was fitted without feature names\n",
      "  warnings.warn(\n"
     ]
    }
   ],
   "source": [
    "pred=grid_search.predict(X_test)\n",
    "classificationSummary(Y_test,pred)\n",
    "print(roc_auc_score(Y_test, pred))"
   ]
  },
  {
   "cell_type": "code",
   "execution_count": 89,
   "id": "71fcc3d2",
   "metadata": {},
   "outputs": [
    {
     "name": "stdout",
     "output_type": "stream",
     "text": [
      "Fitting 5 folds for each of 50 candidates, totalling 250 fits\n",
      "[CV] END ..............................C=10.0, kernel=linear; total time=   0.0s\n",
      "[CV] END ..............................C=10.0, kernel=linear; total time=   0.0s\n",
      "[CV] END ..............................C=10.0, kernel=linear; total time=   0.0s\n",
      "[CV] END ..............................C=10.0, kernel=linear; total time=   0.0s\n",
      "[CV] END ..............................C=10.0, kernel=linear; total time=   0.0s\n",
      "[CV] END ..............................C=30.0, kernel=linear; total time=   0.0s\n",
      "[CV] END ..............................C=30.0, kernel=linear; total time=   0.0s\n",
      "[CV] END ..............................C=30.0, kernel=linear; total time=   0.0s\n",
      "[CV] END ..............................C=30.0, kernel=linear; total time=   0.0s\n",
      "[CV] END ..............................C=30.0, kernel=linear; total time=   0.0s\n",
      "[CV] END .............................C=100.0, kernel=linear; total time=   0.0s\n",
      "[CV] END .............................C=100.0, kernel=linear; total time=   0.0s\n",
      "[CV] END .............................C=100.0, kernel=linear; total time=   0.0s\n",
      "[CV] END .............................C=100.0, kernel=linear; total time=   0.0s\n",
      "[CV] END .............................C=100.0, kernel=linear; total time=   0.0s\n",
      "[CV] END .............................C=300.0, kernel=linear; total time=   0.0s\n",
      "[CV] END .............................C=300.0, kernel=linear; total time=   0.0s\n",
      "[CV] END .............................C=300.0, kernel=linear; total time=   0.0s\n",
      "[CV] END .............................C=300.0, kernel=linear; total time=   0.0s\n",
      "[CV] END .............................C=300.0, kernel=linear; total time=   0.0s\n",
      "[CV] END ............................C=1000.0, kernel=linear; total time=   0.0s\n",
      "[CV] END ............................C=1000.0, kernel=linear; total time=   0.0s\n",
      "[CV] END ............................C=1000.0, kernel=linear; total time=   0.0s\n",
      "[CV] END ............................C=1000.0, kernel=linear; total time=   0.0s\n",
      "[CV] END ............................C=1000.0, kernel=linear; total time=   0.0s\n",
      "[CV] END ............................C=3000.0, kernel=linear; total time=   0.0s\n",
      "[CV] END ............................C=3000.0, kernel=linear; total time=   0.0s\n",
      "[CV] END ............................C=3000.0, kernel=linear; total time=   0.0s\n",
      "[CV] END ............................C=3000.0, kernel=linear; total time=   0.0s\n",
      "[CV] END ............................C=3000.0, kernel=linear; total time=   0.0s\n",
      "[CV] END ...........................C=10000.0, kernel=linear; total time=   0.0s\n",
      "[CV] END ...........................C=10000.0, kernel=linear; total time=   0.0s\n",
      "[CV] END ...........................C=10000.0, kernel=linear; total time=   0.0s\n",
      "[CV] END ...........................C=10000.0, kernel=linear; total time=   0.0s\n",
      "[CV] END ...........................C=10000.0, kernel=linear; total time=   0.0s\n",
      "[CV] END ...........................C=30000.0, kernel=linear; total time=   0.0s\n",
      "[CV] END ...........................C=30000.0, kernel=linear; total time=   0.0s\n",
      "[CV] END ...........................C=30000.0, kernel=linear; total time=   0.0s\n",
      "[CV] END ...........................C=30000.0, kernel=linear; total time=   0.0s\n",
      "[CV] END ...........................C=30000.0, kernel=linear; total time=   0.0s\n",
      "[CV] END ......................C=1.0, gamma=0.01, kernel=rbf; total time=   0.0s\n",
      "[CV] END ......................C=1.0, gamma=0.01, kernel=rbf; total time=   0.0s\n",
      "[CV] END ......................C=1.0, gamma=0.01, kernel=rbf; total time=   0.0s\n",
      "[CV] END ......................C=1.0, gamma=0.01, kernel=rbf; total time=   0.0s\n",
      "[CV] END ......................C=1.0, gamma=0.01, kernel=rbf; total time=   0.0s\n",
      "[CV] END ......................C=1.0, gamma=0.03, kernel=rbf; total time=   0.0s\n",
      "[CV] END ......................C=1.0, gamma=0.03, kernel=rbf; total time=   0.0s\n",
      "[CV] END ......................C=1.0, gamma=0.03, kernel=rbf; total time=   0.0s\n",
      "[CV] END ......................C=1.0, gamma=0.03, kernel=rbf; total time=   0.0s\n",
      "[CV] END ......................C=1.0, gamma=0.03, kernel=rbf; total time=   0.0s\n",
      "[CV] END .......................C=1.0, gamma=0.1, kernel=rbf; total time=   0.0s\n",
      "[CV] END .......................C=1.0, gamma=0.1, kernel=rbf; total time=   0.0s\n",
      "[CV] END .......................C=1.0, gamma=0.1, kernel=rbf; total time=   0.0s\n",
      "[CV] END .......................C=1.0, gamma=0.1, kernel=rbf; total time=   0.0s\n",
      "[CV] END .......................C=1.0, gamma=0.1, kernel=rbf; total time=   0.0s\n",
      "[CV] END .......................C=1.0, gamma=0.3, kernel=rbf; total time=   0.0s\n",
      "[CV] END .......................C=1.0, gamma=0.3, kernel=rbf; total time=   0.0s\n",
      "[CV] END .......................C=1.0, gamma=0.3, kernel=rbf; total time=   0.0s\n",
      "[CV] END .......................C=1.0, gamma=0.3, kernel=rbf; total time=   0.0s\n",
      "[CV] END .......................C=1.0, gamma=0.3, kernel=rbf; total time=   0.0s\n",
      "[CV] END .......................C=1.0, gamma=1.0, kernel=rbf; total time=   0.0s\n",
      "[CV] END .......................C=1.0, gamma=1.0, kernel=rbf; total time=   0.0s\n",
      "[CV] END .......................C=1.0, gamma=1.0, kernel=rbf; total time=   0.0s\n",
      "[CV] END .......................C=1.0, gamma=1.0, kernel=rbf; total time=   0.0s\n",
      "[CV] END .......................C=1.0, gamma=1.0, kernel=rbf; total time=   0.0s\n",
      "[CV] END .......................C=1.0, gamma=3.0, kernel=rbf; total time=   0.0s\n",
      "[CV] END .......................C=1.0, gamma=3.0, kernel=rbf; total time=   0.0s\n",
      "[CV] END .......................C=1.0, gamma=3.0, kernel=rbf; total time=   0.0s\n",
      "[CV] END .......................C=1.0, gamma=3.0, kernel=rbf; total time=   0.0s\n",
      "[CV] END .......................C=1.0, gamma=3.0, kernel=rbf; total time=   0.0s\n",
      "[CV] END ......................C=3.0, gamma=0.01, kernel=rbf; total time=   0.0s\n",
      "[CV] END ......................C=3.0, gamma=0.01, kernel=rbf; total time=   0.0s\n",
      "[CV] END ......................C=3.0, gamma=0.01, kernel=rbf; total time=   0.0s\n",
      "[CV] END ......................C=3.0, gamma=0.01, kernel=rbf; total time=   0.0s\n",
      "[CV] END ......................C=3.0, gamma=0.01, kernel=rbf; total time=   0.0s\n",
      "[CV] END ......................C=3.0, gamma=0.03, kernel=rbf; total time=   0.0s\n",
      "[CV] END ......................C=3.0, gamma=0.03, kernel=rbf; total time=   0.0s\n",
      "[CV] END ......................C=3.0, gamma=0.03, kernel=rbf; total time=   0.0s\n",
      "[CV] END ......................C=3.0, gamma=0.03, kernel=rbf; total time=   0.0s\n",
      "[CV] END ......................C=3.0, gamma=0.03, kernel=rbf; total time=   0.0s\n",
      "[CV] END .......................C=3.0, gamma=0.1, kernel=rbf; total time=   0.0s\n",
      "[CV] END .......................C=3.0, gamma=0.1, kernel=rbf; total time=   0.0s\n",
      "[CV] END .......................C=3.0, gamma=0.1, kernel=rbf; total time=   0.0s\n",
      "[CV] END .......................C=3.0, gamma=0.1, kernel=rbf; total time=   0.0s\n",
      "[CV] END .......................C=3.0, gamma=0.1, kernel=rbf; total time=   0.0s\n",
      "[CV] END .......................C=3.0, gamma=0.3, kernel=rbf; total time=   0.0s\n",
      "[CV] END .......................C=3.0, gamma=0.3, kernel=rbf; total time=   0.0s\n",
      "[CV] END .......................C=3.0, gamma=0.3, kernel=rbf; total time=   0.0s\n",
      "[CV] END .......................C=3.0, gamma=0.3, kernel=rbf; total time=   0.0s\n",
      "[CV] END .......................C=3.0, gamma=0.3, kernel=rbf; total time=   0.0s\n",
      "[CV] END .......................C=3.0, gamma=1.0, kernel=rbf; total time=   0.0s\n",
      "[CV] END .......................C=3.0, gamma=1.0, kernel=rbf; total time=   0.0s\n",
      "[CV] END .......................C=3.0, gamma=1.0, kernel=rbf; total time=   0.0s\n",
      "[CV] END .......................C=3.0, gamma=1.0, kernel=rbf; total time=   0.0s\n",
      "[CV] END .......................C=3.0, gamma=1.0, kernel=rbf; total time=   0.0s\n",
      "[CV] END .......................C=3.0, gamma=3.0, kernel=rbf; total time=   0.0s\n",
      "[CV] END .......................C=3.0, gamma=3.0, kernel=rbf; total time=   0.0s\n",
      "[CV] END .......................C=3.0, gamma=3.0, kernel=rbf; total time=   0.0s\n",
      "[CV] END .......................C=3.0, gamma=3.0, kernel=rbf; total time=   0.0s\n",
      "[CV] END .......................C=3.0, gamma=3.0, kernel=rbf; total time=   0.0s\n",
      "[CV] END .....................C=10.0, gamma=0.01, kernel=rbf; total time=   0.0s\n",
      "[CV] END .....................C=10.0, gamma=0.01, kernel=rbf; total time=   0.0s\n",
      "[CV] END .....................C=10.0, gamma=0.01, kernel=rbf; total time=   0.0s\n",
      "[CV] END .....................C=10.0, gamma=0.01, kernel=rbf; total time=   0.0s\n",
      "[CV] END .....................C=10.0, gamma=0.01, kernel=rbf; total time=   0.0s\n",
      "[CV] END .....................C=10.0, gamma=0.03, kernel=rbf; total time=   0.0s\n",
      "[CV] END .....................C=10.0, gamma=0.03, kernel=rbf; total time=   0.0s\n",
      "[CV] END .....................C=10.0, gamma=0.03, kernel=rbf; total time=   0.0s\n"
     ]
    },
    {
     "name": "stdout",
     "output_type": "stream",
     "text": [
      "[CV] END .....................C=10.0, gamma=0.03, kernel=rbf; total time=   0.0s\n",
      "[CV] END .....................C=10.0, gamma=0.03, kernel=rbf; total time=   0.0s\n",
      "[CV] END ......................C=10.0, gamma=0.1, kernel=rbf; total time=   0.0s\n",
      "[CV] END ......................C=10.0, gamma=0.1, kernel=rbf; total time=   0.0s\n",
      "[CV] END ......................C=10.0, gamma=0.1, kernel=rbf; total time=   0.0s\n",
      "[CV] END ......................C=10.0, gamma=0.1, kernel=rbf; total time=   0.0s\n",
      "[CV] END ......................C=10.0, gamma=0.1, kernel=rbf; total time=   0.0s\n",
      "[CV] END ......................C=10.0, gamma=0.3, kernel=rbf; total time=   0.0s\n",
      "[CV] END ......................C=10.0, gamma=0.3, kernel=rbf; total time=   0.0s\n",
      "[CV] END ......................C=10.0, gamma=0.3, kernel=rbf; total time=   0.0s\n",
      "[CV] END ......................C=10.0, gamma=0.3, kernel=rbf; total time=   0.0s\n",
      "[CV] END ......................C=10.0, gamma=0.3, kernel=rbf; total time=   0.0s\n",
      "[CV] END ......................C=10.0, gamma=1.0, kernel=rbf; total time=   0.0s\n",
      "[CV] END ......................C=10.0, gamma=1.0, kernel=rbf; total time=   0.0s\n",
      "[CV] END ......................C=10.0, gamma=1.0, kernel=rbf; total time=   0.0s\n",
      "[CV] END ......................C=10.0, gamma=1.0, kernel=rbf; total time=   0.0s\n",
      "[CV] END ......................C=10.0, gamma=1.0, kernel=rbf; total time=   0.0s\n",
      "[CV] END ......................C=10.0, gamma=3.0, kernel=rbf; total time=   0.0s\n",
      "[CV] END ......................C=10.0, gamma=3.0, kernel=rbf; total time=   0.0s\n",
      "[CV] END ......................C=10.0, gamma=3.0, kernel=rbf; total time=   0.0s\n",
      "[CV] END ......................C=10.0, gamma=3.0, kernel=rbf; total time=   0.0s\n",
      "[CV] END ......................C=10.0, gamma=3.0, kernel=rbf; total time=   0.0s\n",
      "[CV] END .....................C=30.0, gamma=0.01, kernel=rbf; total time=   0.0s\n",
      "[CV] END .....................C=30.0, gamma=0.01, kernel=rbf; total time=   0.0s\n",
      "[CV] END .....................C=30.0, gamma=0.01, kernel=rbf; total time=   0.0s\n",
      "[CV] END .....................C=30.0, gamma=0.01, kernel=rbf; total time=   0.0s\n",
      "[CV] END .....................C=30.0, gamma=0.01, kernel=rbf; total time=   0.0s\n",
      "[CV] END .....................C=30.0, gamma=0.03, kernel=rbf; total time=   0.0s\n",
      "[CV] END .....................C=30.0, gamma=0.03, kernel=rbf; total time=   0.0s\n",
      "[CV] END .....................C=30.0, gamma=0.03, kernel=rbf; total time=   0.0s\n",
      "[CV] END .....................C=30.0, gamma=0.03, kernel=rbf; total time=   0.0s\n",
      "[CV] END .....................C=30.0, gamma=0.03, kernel=rbf; total time=   0.0s\n",
      "[CV] END ......................C=30.0, gamma=0.1, kernel=rbf; total time=   0.0s\n",
      "[CV] END ......................C=30.0, gamma=0.1, kernel=rbf; total time=   0.0s\n",
      "[CV] END ......................C=30.0, gamma=0.1, kernel=rbf; total time=   0.0s\n",
      "[CV] END ......................C=30.0, gamma=0.1, kernel=rbf; total time=   0.0s\n",
      "[CV] END ......................C=30.0, gamma=0.1, kernel=rbf; total time=   0.0s\n",
      "[CV] END ......................C=30.0, gamma=0.3, kernel=rbf; total time=   0.0s\n",
      "[CV] END ......................C=30.0, gamma=0.3, kernel=rbf; total time=   0.0s\n",
      "[CV] END ......................C=30.0, gamma=0.3, kernel=rbf; total time=   0.0s\n",
      "[CV] END ......................C=30.0, gamma=0.3, kernel=rbf; total time=   0.0s\n",
      "[CV] END ......................C=30.0, gamma=0.3, kernel=rbf; total time=   0.0s\n",
      "[CV] END ......................C=30.0, gamma=1.0, kernel=rbf; total time=   0.0s\n",
      "[CV] END ......................C=30.0, gamma=1.0, kernel=rbf; total time=   0.0s\n",
      "[CV] END ......................C=30.0, gamma=1.0, kernel=rbf; total time=   0.0s\n",
      "[CV] END ......................C=30.0, gamma=1.0, kernel=rbf; total time=   0.0s\n",
      "[CV] END ......................C=30.0, gamma=1.0, kernel=rbf; total time=   0.0s\n",
      "[CV] END ......................C=30.0, gamma=3.0, kernel=rbf; total time=   0.0s\n",
      "[CV] END ......................C=30.0, gamma=3.0, kernel=rbf; total time=   0.0s\n",
      "[CV] END ......................C=30.0, gamma=3.0, kernel=rbf; total time=   0.0s\n",
      "[CV] END ......................C=30.0, gamma=3.0, kernel=rbf; total time=   0.0s\n",
      "[CV] END ......................C=30.0, gamma=3.0, kernel=rbf; total time=   0.0s\n",
      "[CV] END ....................C=100.0, gamma=0.01, kernel=rbf; total time=   0.0s\n",
      "[CV] END ....................C=100.0, gamma=0.01, kernel=rbf; total time=   0.0s\n",
      "[CV] END ....................C=100.0, gamma=0.01, kernel=rbf; total time=   0.0s\n",
      "[CV] END ....................C=100.0, gamma=0.01, kernel=rbf; total time=   0.0s\n",
      "[CV] END ....................C=100.0, gamma=0.01, kernel=rbf; total time=   0.0s\n",
      "[CV] END ....................C=100.0, gamma=0.03, kernel=rbf; total time=   0.0s\n",
      "[CV] END ....................C=100.0, gamma=0.03, kernel=rbf; total time=   0.0s\n",
      "[CV] END ....................C=100.0, gamma=0.03, kernel=rbf; total time=   0.0s\n",
      "[CV] END ....................C=100.0, gamma=0.03, kernel=rbf; total time=   0.0s\n",
      "[CV] END ....................C=100.0, gamma=0.03, kernel=rbf; total time=   0.0s\n",
      "[CV] END .....................C=100.0, gamma=0.1, kernel=rbf; total time=   0.0s\n",
      "[CV] END .....................C=100.0, gamma=0.1, kernel=rbf; total time=   0.0s\n",
      "[CV] END .....................C=100.0, gamma=0.1, kernel=rbf; total time=   0.0s\n",
      "[CV] END .....................C=100.0, gamma=0.1, kernel=rbf; total time=   0.0s\n",
      "[CV] END .....................C=100.0, gamma=0.1, kernel=rbf; total time=   0.0s\n",
      "[CV] END .....................C=100.0, gamma=0.3, kernel=rbf; total time=   0.0s\n",
      "[CV] END .....................C=100.0, gamma=0.3, kernel=rbf; total time=   0.0s\n",
      "[CV] END .....................C=100.0, gamma=0.3, kernel=rbf; total time=   0.0s\n",
      "[CV] END .....................C=100.0, gamma=0.3, kernel=rbf; total time=   0.0s\n",
      "[CV] END .....................C=100.0, gamma=0.3, kernel=rbf; total time=   0.0s\n",
      "[CV] END .....................C=100.0, gamma=1.0, kernel=rbf; total time=   0.0s\n",
      "[CV] END .....................C=100.0, gamma=1.0, kernel=rbf; total time=   0.0s\n",
      "[CV] END .....................C=100.0, gamma=1.0, kernel=rbf; total time=   0.0s\n",
      "[CV] END .....................C=100.0, gamma=1.0, kernel=rbf; total time=   0.0s\n",
      "[CV] END .....................C=100.0, gamma=1.0, kernel=rbf; total time=   0.0s\n",
      "[CV] END .....................C=100.0, gamma=3.0, kernel=rbf; total time=   0.0s\n",
      "[CV] END .....................C=100.0, gamma=3.0, kernel=rbf; total time=   0.0s\n",
      "[CV] END .....................C=100.0, gamma=3.0, kernel=rbf; total time=   0.0s\n",
      "[CV] END .....................C=100.0, gamma=3.0, kernel=rbf; total time=   0.0s\n",
      "[CV] END .....................C=100.0, gamma=3.0, kernel=rbf; total time=   0.0s\n",
      "[CV] END ....................C=300.0, gamma=0.01, kernel=rbf; total time=   0.0s\n",
      "[CV] END ....................C=300.0, gamma=0.01, kernel=rbf; total time=   0.0s\n",
      "[CV] END ....................C=300.0, gamma=0.01, kernel=rbf; total time=   0.0s\n",
      "[CV] END ....................C=300.0, gamma=0.01, kernel=rbf; total time=   0.0s\n",
      "[CV] END ....................C=300.0, gamma=0.01, kernel=rbf; total time=   0.0s\n",
      "[CV] END ....................C=300.0, gamma=0.03, kernel=rbf; total time=   0.0s\n",
      "[CV] END ....................C=300.0, gamma=0.03, kernel=rbf; total time=   0.0s\n",
      "[CV] END ....................C=300.0, gamma=0.03, kernel=rbf; total time=   0.0s\n",
      "[CV] END ....................C=300.0, gamma=0.03, kernel=rbf; total time=   0.0s\n",
      "[CV] END ....................C=300.0, gamma=0.03, kernel=rbf; total time=   0.0s\n",
      "[CV] END .....................C=300.0, gamma=0.1, kernel=rbf; total time=   0.0s\n",
      "[CV] END .....................C=300.0, gamma=0.1, kernel=rbf; total time=   0.0s\n",
      "[CV] END .....................C=300.0, gamma=0.1, kernel=rbf; total time=   0.0s\n",
      "[CV] END .....................C=300.0, gamma=0.1, kernel=rbf; total time=   0.0s\n",
      "[CV] END .....................C=300.0, gamma=0.1, kernel=rbf; total time=   0.0s\n",
      "[CV] END .....................C=300.0, gamma=0.3, kernel=rbf; total time=   0.0s\n",
      "[CV] END .....................C=300.0, gamma=0.3, kernel=rbf; total time=   0.0s\n",
      "[CV] END .....................C=300.0, gamma=0.3, kernel=rbf; total time=   0.0s\n",
      "[CV] END .....................C=300.0, gamma=0.3, kernel=rbf; total time=   0.0s\n",
      "[CV] END .....................C=300.0, gamma=0.3, kernel=rbf; total time=   0.0s\n",
      "[CV] END .....................C=300.0, gamma=1.0, kernel=rbf; total time=   0.0s\n",
      "[CV] END .....................C=300.0, gamma=1.0, kernel=rbf; total time=   0.0s\n",
      "[CV] END .....................C=300.0, gamma=1.0, kernel=rbf; total time=   0.0s\n",
      "[CV] END .....................C=300.0, gamma=1.0, kernel=rbf; total time=   0.0s\n"
     ]
    },
    {
     "name": "stdout",
     "output_type": "stream",
     "text": [
      "[CV] END .....................C=300.0, gamma=1.0, kernel=rbf; total time=   0.0s\n",
      "[CV] END .....................C=300.0, gamma=3.0, kernel=rbf; total time=   0.0s\n",
      "[CV] END .....................C=300.0, gamma=3.0, kernel=rbf; total time=   0.0s\n",
      "[CV] END .....................C=300.0, gamma=3.0, kernel=rbf; total time=   0.0s\n",
      "[CV] END .....................C=300.0, gamma=3.0, kernel=rbf; total time=   0.0s\n",
      "[CV] END .....................C=300.0, gamma=3.0, kernel=rbf; total time=   0.0s\n",
      "[CV] END ...................C=1000.0, gamma=0.01, kernel=rbf; total time=   0.0s\n",
      "[CV] END ...................C=1000.0, gamma=0.01, kernel=rbf; total time=   0.0s\n",
      "[CV] END ...................C=1000.0, gamma=0.01, kernel=rbf; total time=   0.0s\n",
      "[CV] END ...................C=1000.0, gamma=0.01, kernel=rbf; total time=   0.0s\n",
      "[CV] END ...................C=1000.0, gamma=0.01, kernel=rbf; total time=   0.0s\n",
      "[CV] END ...................C=1000.0, gamma=0.03, kernel=rbf; total time=   0.0s\n",
      "[CV] END ...................C=1000.0, gamma=0.03, kernel=rbf; total time=   0.0s\n",
      "[CV] END ...................C=1000.0, gamma=0.03, kernel=rbf; total time=   0.0s\n",
      "[CV] END ...................C=1000.0, gamma=0.03, kernel=rbf; total time=   0.0s\n",
      "[CV] END ...................C=1000.0, gamma=0.03, kernel=rbf; total time=   0.0s\n",
      "[CV] END ....................C=1000.0, gamma=0.1, kernel=rbf; total time=   0.0s\n",
      "[CV] END ....................C=1000.0, gamma=0.1, kernel=rbf; total time=   0.0s\n",
      "[CV] END ....................C=1000.0, gamma=0.1, kernel=rbf; total time=   0.0s\n",
      "[CV] END ....................C=1000.0, gamma=0.1, kernel=rbf; total time=   0.0s\n",
      "[CV] END ....................C=1000.0, gamma=0.1, kernel=rbf; total time=   0.0s\n",
      "[CV] END ....................C=1000.0, gamma=0.3, kernel=rbf; total time=   0.0s\n",
      "[CV] END ....................C=1000.0, gamma=0.3, kernel=rbf; total time=   0.0s\n",
      "[CV] END ....................C=1000.0, gamma=0.3, kernel=rbf; total time=   0.0s\n",
      "[CV] END ....................C=1000.0, gamma=0.3, kernel=rbf; total time=   0.0s\n",
      "[CV] END ....................C=1000.0, gamma=0.3, kernel=rbf; total time=   0.0s\n",
      "[CV] END ....................C=1000.0, gamma=1.0, kernel=rbf; total time=   0.0s\n",
      "[CV] END ....................C=1000.0, gamma=1.0, kernel=rbf; total time=   0.0s\n",
      "[CV] END ....................C=1000.0, gamma=1.0, kernel=rbf; total time=   0.0s\n",
      "[CV] END ....................C=1000.0, gamma=1.0, kernel=rbf; total time=   0.0s\n",
      "[CV] END ....................C=1000.0, gamma=1.0, kernel=rbf; total time=   0.0s\n",
      "[CV] END ....................C=1000.0, gamma=3.0, kernel=rbf; total time=   0.0s\n",
      "[CV] END ....................C=1000.0, gamma=3.0, kernel=rbf; total time=   0.0s\n",
      "[CV] END ....................C=1000.0, gamma=3.0, kernel=rbf; total time=   0.0s\n",
      "[CV] END ....................C=1000.0, gamma=3.0, kernel=rbf; total time=   0.0s\n",
      "[CV] END ....................C=1000.0, gamma=3.0, kernel=rbf; total time=   0.0s\n"
     ]
    }
   ],
   "source": [
    "from sklearn.model_selection import GridSearchCV\n",
    "\n",
    "param_grid=[\n",
    "    {'kernel': ['linear'], 'C':[10.,30.,100.,300.,1000.,3000.,10000.,30000.0]},\n",
    "    {'kernel': ['rbf'], 'C':[1.0,3.0,10.,30.,100.,300.,1000.0],\n",
    "    'gamma':[0.01, 0.03, 0.1, 0.3, 1.0, 3.0]}\n",
    "]\n",
    "\n",
    "svm_clf=svm.SVC()\n",
    "\n",
    "grid_search=GridSearchCV(svm_clf, param_grid, cv=5, refit=True, scoring='roc_auc', verbose=2)\n",
    "grid_search.fit(train_features, Y_train_smote)\n",
    "\n",
    "grid_pf=grid_search.best_estimator_.predict"
   ]
  },
  {
   "cell_type": "code",
   "execution_count": 90,
   "id": "217cf4da",
   "metadata": {},
   "outputs": [
    {
     "name": "stdout",
     "output_type": "stream",
     "text": [
      "{'C': 10.0, 'gamma': 0.01, 'kernel': 'rbf'}\n",
      "0.9997836668469443\n"
     ]
    }
   ],
   "source": [
    "print(grid_search.best_params_)\n",
    "print(grid_search.best_score_)"
   ]
  },
  {
   "cell_type": "code",
   "execution_count": 91,
   "id": "7b371655",
   "metadata": {},
   "outputs": [
    {
     "name": "stdout",
     "output_type": "stream",
     "text": [
      "Confusion Matrix (Accuracy 0.9977)\n",
      "\n",
      "       Prediction\n",
      "Actual   0   1\n",
      "     0 215   0\n",
      "     1   1 214\n",
      "0.9976744186046511\n"
     ]
    }
   ],
   "source": [
    "pred=grid_search.predict(train_features)\n",
    "classificationSummary(Y_train_smote,pred)\n",
    "print(roc_auc_score(Y_train_smote, pred))"
   ]
  },
  {
   "cell_type": "code",
   "execution_count": 92,
   "id": "fbc6c5a9",
   "metadata": {},
   "outputs": [
    {
     "name": "stdout",
     "output_type": "stream",
     "text": [
      "Confusion Matrix (Accuracy 0.9342)\n",
      "\n",
      "       Prediction\n",
      "Actual  0  1\n",
      "     0  0  5\n",
      "     1  0 71\n",
      "0.5\n"
     ]
    },
    {
     "name": "stderr",
     "output_type": "stream",
     "text": [
      "C:\\Users\\ynjn\\anaconda3\\lib\\site-packages\\sklearn\\base.py:443: UserWarning: X has feature names, but SVC was fitted without feature names\n",
      "  warnings.warn(\n"
     ]
    }
   ],
   "source": [
    "pred=grid_search.predict(X_test)\n",
    "classificationSummary(Y_test,pred)\n",
    "print(roc_auc_score(Y_test, pred))"
   ]
  },
  {
   "cell_type": "markdown",
   "id": "d0c42386",
   "metadata": {},
   "source": [
    "scoring 변경 후에도 거의 같은 결과"
   ]
  },
  {
   "cell_type": "code",
   "execution_count": 93,
   "id": "fc26bb86",
   "metadata": {},
   "outputs": [
    {
     "name": "stdout",
     "output_type": "stream",
     "text": [
      "Fitting 5 folds for each of 50 candidates, totalling 250 fits\n",
      "[CV] END C=61.51337617740256, gamma=0.8168848437194671, kernel=rbf; total time=   0.0s\n",
      "[CV] END C=61.51337617740256, gamma=0.8168848437194671, kernel=rbf; total time=   0.0s\n",
      "[CV] END C=61.51337617740256, gamma=0.8168848437194671, kernel=rbf; total time=   0.0s\n",
      "[CV] END C=61.51337617740256, gamma=0.8168848437194671, kernel=rbf; total time=   0.0s\n",
      "[CV] END C=61.51337617740256, gamma=0.8168848437194671, kernel=rbf; total time=   0.0s\n",
      "[CV] END C=470.2007597390473, gamma=0.6691627913150291, kernel=linear; total time=   0.0s\n",
      "[CV] END C=470.2007597390473, gamma=0.6691627913150291, kernel=linear; total time=   0.0s\n",
      "[CV] END C=470.2007597390473, gamma=0.6691627913150291, kernel=linear; total time=   0.0s\n",
      "[CV] END C=470.2007597390473, gamma=0.6691627913150291, kernel=linear; total time=   0.0s\n",
      "[CV] END C=470.2007597390473, gamma=0.6691627913150291, kernel=linear; total time=   0.0s\n",
      "[CV] END C=261.97127629955196, gamma=0.3938138201796195, kernel=rbf; total time=   0.0s\n",
      "[CV] END C=261.97127629955196, gamma=0.3938138201796195, kernel=rbf; total time=   0.0s\n",
      "[CV] END C=261.97127629955196, gamma=0.3938138201796195, kernel=rbf; total time=   0.0s\n",
      "[CV] END C=261.97127629955196, gamma=0.3938138201796195, kernel=rbf; total time=   0.0s\n",
      "[CV] END C=261.97127629955196, gamma=0.3938138201796195, kernel=rbf; total time=   0.0s\n",
      "[CV] END C=100.17893829230096, gamma=0.4112548568380836, kernel=rbf; total time=   0.0s\n",
      "[CV] END C=100.17893829230096, gamma=0.4112548568380836, kernel=rbf; total time=   0.0s\n",
      "[CV] END C=100.17893829230096, gamma=0.4112548568380836, kernel=rbf; total time=   0.0s\n",
      "[CV] END C=100.17893829230096, gamma=0.4112548568380836, kernel=rbf; total time=   0.0s\n",
      "[CV] END C=100.17893829230096, gamma=0.4112548568380836, kernel=rbf; total time=   0.0s\n",
      "[CV] END C=339.58893115206797, gamma=2.5909571965718525, kernel=linear; total time=   0.0s\n",
      "[CV] END C=339.58893115206797, gamma=2.5909571965718525, kernel=linear; total time=   0.0s\n",
      "[CV] END C=339.58893115206797, gamma=2.5909571965718525, kernel=linear; total time=   0.0s\n",
      "[CV] END C=339.58893115206797, gamma=2.5909571965718525, kernel=linear; total time=   0.0s\n",
      "[CV] END C=339.58893115206797, gamma=2.5909571965718525, kernel=linear; total time=   0.0s\n",
      "[CV] END C=339.154574670428, gamma=0.17561940741989127, kernel=rbf; total time=   0.0s\n",
      "[CV] END C=339.154574670428, gamma=0.17561940741989127, kernel=rbf; total time=   0.0s\n",
      "[CV] END C=339.154574670428, gamma=0.17561940741989127, kernel=rbf; total time=   0.0s\n",
      "[CV] END C=339.154574670428, gamma=0.17561940741989127, kernel=rbf; total time=   0.0s\n",
      "[CV] END C=339.154574670428, gamma=0.17561940741989127, kernel=rbf; total time=   0.0s\n",
      "[CV] END C=149.09095313230748, gamma=1.3045583908734204, kernel=linear; total time=   0.0s\n",
      "[CV] END C=149.09095313230748, gamma=1.3045583908734204, kernel=linear; total time=   0.0s\n",
      "[CV] END C=149.09095313230748, gamma=1.3045583908734204, kernel=linear; total time=   0.0s\n",
      "[CV] END C=149.09095313230748, gamma=1.3045583908734204, kernel=linear; total time=   0.0s\n",
      "[CV] END C=149.09095313230748, gamma=1.3045583908734204, kernel=linear; total time=   0.0s\n",
      "[CV] END C=7707.327721131454, gamma=2.940258651896079, kernel=rbf; total time=   0.0s\n",
      "[CV] END C=7707.327721131454, gamma=2.940258651896079, kernel=rbf; total time=   0.0s\n",
      "[CV] END C=7707.327721131454, gamma=2.940258651896079, kernel=rbf; total time=   0.0s\n",
      "[CV] END C=7707.327721131454, gamma=2.940258651896079, kernel=rbf; total time=   0.0s\n",
      "[CV] END C=7707.327721131454, gamma=2.940258651896079, kernel=rbf; total time=   0.0s\n",
      "[CV] END C=793.0340971062899, gamma=1.0878274415093094, kernel=linear; total time=   0.0s\n",
      "[CV] END C=793.0340971062899, gamma=1.0878274415093094, kernel=linear; total time=   0.0s\n",
      "[CV] END C=793.0340971062899, gamma=1.0878274415093094, kernel=linear; total time=   0.0s\n",
      "[CV] END C=793.0340971062899, gamma=1.0878274415093094, kernel=linear; total time=   0.0s\n",
      "[CV] END C=793.0340971062899, gamma=1.0878274415093094, kernel=linear; total time=   0.0s\n",
      "[CV] END C=25.82453709699405, gamma=0.03454505452360822, kernel=linear; total time=   0.0s\n",
      "[CV] END C=25.82453709699405, gamma=0.03454505452360822, kernel=linear; total time=   0.0s\n",
      "[CV] END C=25.82453709699405, gamma=0.03454505452360822, kernel=linear; total time=   0.0s\n",
      "[CV] END C=25.82453709699405, gamma=0.03454505452360822, kernel=linear; total time=   0.0s\n",
      "[CV] END C=25.82453709699405, gamma=0.03454505452360822, kernel=linear; total time=   0.0s\n",
      "[CV] END C=112.99032158264964, gamma=0.6673356159142614, kernel=linear; total time=   0.0s\n",
      "[CV] END C=112.99032158264964, gamma=0.6673356159142614, kernel=linear; total time=   0.0s\n",
      "[CV] END C=112.99032158264964, gamma=0.6673356159142614, kernel=linear; total time=   0.0s\n",
      "[CV] END C=112.99032158264964, gamma=0.6673356159142614, kernel=linear; total time=   0.0s\n",
      "[CV] END C=112.99032158264964, gamma=0.6673356159142614, kernel=linear; total time=   0.0s\n",
      "[CV] END C=22533.523290917285, gamma=2.4375454546802735, kernel=rbf; total time=   0.0s\n",
      "[CV] END C=22533.523290917285, gamma=2.4375454546802735, kernel=rbf; total time=   0.0s\n",
      "[CV] END C=22533.523290917285, gamma=2.4375454546802735, kernel=rbf; total time=   0.0s\n",
      "[CV] END C=22533.523290917285, gamma=2.4375454546802735, kernel=rbf; total time=   0.0s\n",
      "[CV] END C=22533.523290917285, gamma=2.4375454546802735, kernel=rbf; total time=   0.0s\n",
      "[CV] END C=41741.362167581334, gamma=1.9784394353549657, kernel=linear; total time=   0.0s\n",
      "[CV] END C=41741.362167581334, gamma=1.9784394353549657, kernel=linear; total time=   0.0s\n",
      "[CV] END C=41741.362167581334, gamma=1.9784394353549657, kernel=linear; total time=   0.0s\n",
      "[CV] END C=41741.362167581334, gamma=1.9784394353549657, kernel=linear; total time=   0.0s\n",
      "[CV] END C=41741.362167581334, gamma=1.9784394353549657, kernel=linear; total time=   0.0s\n",
      "[CV] END C=477.7481491549858, gamma=0.7768752729666517, kernel=linear; total time=   0.0s\n",
      "[CV] END C=477.7481491549858, gamma=0.7768752729666517, kernel=linear; total time=   0.0s\n",
      "[CV] END C=477.7481491549858, gamma=0.7768752729666517, kernel=linear; total time=   0.0s\n",
      "[CV] END C=477.7481491549858, gamma=0.7768752729666517, kernel=linear; total time=   0.0s\n",
      "[CV] END C=477.7481491549858, gamma=0.7768752729666517, kernel=linear; total time=   0.0s\n",
      "[CV] END C=9194.750497779334, gamma=0.38199535600696194, kernel=rbf; total time=   0.0s\n",
      "[CV] END C=9194.750497779334, gamma=0.38199535600696194, kernel=rbf; total time=   0.0s\n",
      "[CV] END C=9194.750497779334, gamma=0.38199535600696194, kernel=rbf; total time=   0.0s\n",
      "[CV] END C=9194.750497779334, gamma=0.38199535600696194, kernel=rbf; total time=   0.0s\n",
      "[CV] END C=9194.750497779334, gamma=0.38199535600696194, kernel=rbf; total time=   0.0s\n",
      "[CV] END C=17591.390360908757, gamma=0.5202868331593012, kernel=linear; total time=   0.0s\n",
      "[CV] END C=17591.390360908757, gamma=0.5202868331593012, kernel=linear; total time=   0.0s\n",
      "[CV] END C=17591.390360908757, gamma=0.5202868331593012, kernel=linear; total time=   0.0s\n",
      "[CV] END C=17591.390360908757, gamma=0.5202868331593012, kernel=linear; total time=   0.0s\n",
      "[CV] END C=17591.390360908757, gamma=0.5202868331593012, kernel=linear; total time=   0.0s\n",
      "[CV] END C=1913.6083768717858, gamma=0.9457773187165887, kernel=linear; total time=   0.0s\n",
      "[CV] END C=1913.6083768717858, gamma=0.9457773187165887, kernel=linear; total time=   0.0s\n",
      "[CV] END C=1913.6083768717858, gamma=0.9457773187165887, kernel=linear; total time=   0.0s\n",
      "[CV] END C=1913.6083768717858, gamma=0.9457773187165887, kernel=linear; total time=   0.0s\n",
      "[CV] END C=1913.6083768717858, gamma=0.9457773187165887, kernel=linear; total time=   0.0s\n",
      "[CV] END C=85.2425406262476, gamma=1.660422144138951, kernel=linear; total time=   0.0s\n",
      "[CV] END C=85.2425406262476, gamma=1.660422144138951, kernel=linear; total time=   0.0s\n",
      "[CV] END C=85.2425406262476, gamma=1.660422144138951, kernel=linear; total time=   0.0s\n",
      "[CV] END C=85.2425406262476, gamma=1.660422144138951, kernel=linear; total time=   0.0s\n",
      "[CV] END C=85.2425406262476, gamma=1.660422144138951, kernel=linear; total time=   0.0s\n",
      "[CV] END C=16033.32084985703, gamma=3.2149832635288993, kernel=linear; total time=   0.0s\n",
      "[CV] END C=16033.32084985703, gamma=3.2149832635288993, kernel=linear; total time=   0.0s\n",
      "[CV] END C=16033.32084985703, gamma=3.2149832635288993, kernel=linear; total time=   0.0s\n",
      "[CV] END C=16033.32084985703, gamma=3.2149832635288993, kernel=linear; total time=   0.0s\n",
      "[CV] END C=16033.32084985703, gamma=3.2149832635288993, kernel=linear; total time=   0.0s\n",
      "[CV] END C=170.22594113143367, gamma=0.7207367720289806, kernel=rbf; total time=   0.0s\n",
      "[CV] END C=170.22594113143367, gamma=0.7207367720289806, kernel=rbf; total time=   0.0s\n",
      "[CV] END C=170.22594113143367, gamma=0.7207367720289806, kernel=rbf; total time=   0.0s\n"
     ]
    },
    {
     "name": "stdout",
     "output_type": "stream",
     "text": [
      "[CV] END C=170.22594113143367, gamma=0.7207367720289806, kernel=rbf; total time=   0.0s\n",
      "[CV] END C=170.22594113143367, gamma=0.7207367720289806, kernel=rbf; total time=   0.0s\n",
      "[CV] END C=2047.356371801021, gamma=0.22595332594939085, kernel=rbf; total time=   0.0s\n",
      "[CV] END C=2047.356371801021, gamma=0.22595332594939085, kernel=rbf; total time=   0.0s\n",
      "[CV] END C=2047.356371801021, gamma=0.22595332594939085, kernel=rbf; total time=   0.0s\n",
      "[CV] END C=2047.356371801021, gamma=0.22595332594939085, kernel=rbf; total time=   0.0s\n",
      "[CV] END C=2047.356371801021, gamma=0.22595332594939085, kernel=rbf; total time=   0.0s\n",
      "[CV] END C=32.87992693018861, gamma=0.2386243621124501, kernel=rbf; total time=   0.0s\n",
      "[CV] END C=32.87992693018861, gamma=0.2386243621124501, kernel=rbf; total time=   0.0s\n",
      "[CV] END C=32.87992693018861, gamma=0.2386243621124501, kernel=rbf; total time=   0.0s\n",
      "[CV] END C=32.87992693018861, gamma=0.2386243621124501, kernel=rbf; total time=   0.0s\n",
      "[CV] END C=32.87992693018861, gamma=0.2386243621124501, kernel=rbf; total time=   0.0s\n",
      "[CV] END C=30.137645904376615, gamma=0.5359755411388896, kernel=linear; total time=   0.0s\n",
      "[CV] END C=30.137645904376615, gamma=0.5359755411388896, kernel=linear; total time=   0.0s\n",
      "[CV] END C=30.137645904376615, gamma=0.5359755411388896, kernel=linear; total time=   0.0s\n",
      "[CV] END C=30.137645904376615, gamma=0.5359755411388896, kernel=linear; total time=   0.0s\n",
      "[CV] END C=30.137645904376615, gamma=0.5359755411388896, kernel=linear; total time=   0.0s\n",
      "[CV] END C=200.9489099647561, gamma=1.2233193107932683, kernel=linear; total time=   0.0s\n",
      "[CV] END C=200.9489099647561, gamma=1.2233193107932683, kernel=linear; total time=   0.0s\n",
      "[CV] END C=200.9489099647561, gamma=1.2233193107932683, kernel=linear; total time=   0.0s\n",
      "[CV] END C=200.9489099647561, gamma=1.2233193107932683, kernel=linear; total time=   0.0s\n",
      "[CV] END C=200.9489099647561, gamma=1.2233193107932683, kernel=linear; total time=   0.0s\n",
      "[CV] END C=66.83147297958749, gamma=4.255707289332535, kernel=linear; total time=   0.0s\n",
      "[CV] END C=66.83147297958749, gamma=4.255707289332535, kernel=linear; total time=   0.0s\n",
      "[CV] END C=66.83147297958749, gamma=4.255707289332535, kernel=linear; total time=   0.0s\n",
      "[CV] END C=66.83147297958749, gamma=4.255707289332535, kernel=linear; total time=   0.0s\n",
      "[CV] END C=66.83147297958749, gamma=4.255707289332535, kernel=linear; total time=   0.0s\n",
      "[CV] END C=992.7550915062097, gamma=0.5588968557332445, kernel=rbf; total time=   0.0s\n",
      "[CV] END C=992.7550915062097, gamma=0.5588968557332445, kernel=rbf; total time=   0.0s\n",
      "[CV] END C=992.7550915062097, gamma=0.5588968557332445, kernel=rbf; total time=   0.0s\n",
      "[CV] END C=992.7550915062097, gamma=0.5588968557332445, kernel=rbf; total time=   0.0s\n",
      "[CV] END C=992.7550915062097, gamma=0.5588968557332445, kernel=rbf; total time=   0.0s\n",
      "[CV] END C=2237.7324346288115, gamma=0.5578638278823417, kernel=linear; total time=   0.0s\n",
      "[CV] END C=2237.7324346288115, gamma=0.5578638278823417, kernel=linear; total time=   0.0s\n",
      "[CV] END C=2237.7324346288115, gamma=0.5578638278823417, kernel=linear; total time=   0.0s\n",
      "[CV] END C=2237.7324346288115, gamma=0.5578638278823417, kernel=linear; total time=   0.0s\n",
      "[CV] END C=2237.7324346288115, gamma=0.5578638278823417, kernel=linear; total time=   0.0s\n",
      "[CV] END C=4120.320510950531, gamma=0.9594578480026866, kernel=linear; total time=   0.0s\n",
      "[CV] END C=4120.320510950531, gamma=0.9594578480026866, kernel=linear; total time=   0.0s\n",
      "[CV] END C=4120.320510950531, gamma=0.9594578480026866, kernel=linear; total time=   0.0s\n",
      "[CV] END C=4120.320510950531, gamma=0.9594578480026866, kernel=linear; total time=   0.0s\n",
      "[CV] END C=4120.320510950531, gamma=0.9594578480026866, kernel=linear; total time=   0.0s\n",
      "[CV] END C=4228.949005178672, gamma=0.9390980298378186, kernel=linear; total time=   0.0s\n",
      "[CV] END C=4228.949005178672, gamma=0.9390980298378186, kernel=linear; total time=   0.0s\n",
      "[CV] END C=4228.949005178672, gamma=0.9390980298378186, kernel=linear; total time=   0.0s\n",
      "[CV] END C=4228.949005178672, gamma=0.9390980298378186, kernel=linear; total time=   0.0s\n",
      "[CV] END C=4228.949005178672, gamma=0.9390980298378186, kernel=linear; total time=   0.0s\n",
      "[CV] END C=468.138927926684, gamma=2.3505976969937845, kernel=rbf; total time=   0.0s\n",
      "[CV] END C=468.138927926684, gamma=2.3505976969937845, kernel=rbf; total time=   0.0s\n",
      "[CV] END C=468.138927926684, gamma=2.3505976969937845, kernel=rbf; total time=   0.0s\n",
      "[CV] END C=468.138927926684, gamma=2.3505976969937845, kernel=rbf; total time=   0.0s\n",
      "[CV] END C=468.138927926684, gamma=2.3505976969937845, kernel=rbf; total time=   0.0s\n",
      "[CV] END C=8023.773755073718, gamma=0.6646308647882391, kernel=rbf; total time=   0.0s\n",
      "[CV] END C=8023.773755073718, gamma=0.6646308647882391, kernel=rbf; total time=   0.0s\n",
      "[CV] END C=8023.773755073718, gamma=0.6646308647882391, kernel=rbf; total time=   0.0s\n",
      "[CV] END C=8023.773755073718, gamma=0.6646308647882391, kernel=rbf; total time=   0.0s\n",
      "[CV] END C=8023.773755073718, gamma=0.6646308647882391, kernel=rbf; total time=   0.0s\n",
      "[CV] END C=41309.64147317938, gamma=1.0737630859780056, kernel=linear; total time=   0.0s\n",
      "[CV] END C=41309.64147317938, gamma=1.0737630859780056, kernel=linear; total time=   0.0s\n",
      "[CV] END C=41309.64147317938, gamma=1.0737630859780056, kernel=linear; total time=   0.0s\n",
      "[CV] END C=41309.64147317938, gamma=1.0737630859780056, kernel=linear; total time=   0.0s\n",
      "[CV] END C=41309.64147317938, gamma=1.0737630859780056, kernel=linear; total time=   0.0s\n",
      "[CV] END C=185.3171509908967, gamma=0.6591114791780553, kernel=rbf; total time=   0.0s\n",
      "[CV] END C=185.3171509908967, gamma=0.6591114791780553, kernel=rbf; total time=   0.0s\n",
      "[CV] END C=185.3171509908967, gamma=0.6591114791780553, kernel=rbf; total time=   0.0s\n",
      "[CV] END C=185.3171509908967, gamma=0.6591114791780553, kernel=rbf; total time=   0.0s\n",
      "[CV] END C=185.3171509908967, gamma=0.6591114791780553, kernel=rbf; total time=   0.0s\n",
      "[CV] END C=24.59225886783123, gamma=1.547952807935866, kernel=linear; total time=   0.0s\n",
      "[CV] END C=24.59225886783123, gamma=1.547952807935866, kernel=linear; total time=   0.0s\n",
      "[CV] END C=24.59225886783123, gamma=1.547952807935866, kernel=linear; total time=   0.0s\n",
      "[CV] END C=24.59225886783123, gamma=1.547952807935866, kernel=linear; total time=   0.0s\n",
      "[CV] END C=24.59225886783123, gamma=1.547952807935866, kernel=linear; total time=   0.0s\n",
      "[CV] END C=2718.0073181879307, gamma=0.8357833171235106, kernel=rbf; total time=   0.0s\n",
      "[CV] END C=2718.0073181879307, gamma=0.8357833171235106, kernel=rbf; total time=   0.0s\n",
      "[CV] END C=2718.0073181879307, gamma=0.8357833171235106, kernel=rbf; total time=   0.0s\n",
      "[CV] END C=2718.0073181879307, gamma=0.8357833171235106, kernel=rbf; total time=   0.0s\n",
      "[CV] END C=2718.0073181879307, gamma=0.8357833171235106, kernel=rbf; total time=   0.0s\n",
      "[CV] END C=37.208675281873234, gamma=0.2711153047694328, kernel=linear; total time=   0.0s\n",
      "[CV] END C=37.208675281873234, gamma=0.2711153047694328, kernel=linear; total time=   0.0s\n",
      "[CV] END C=37.208675281873234, gamma=0.2711153047694328, kernel=linear; total time=   0.0s\n",
      "[CV] END C=37.208675281873234, gamma=0.2711153047694328, kernel=linear; total time=   0.0s\n",
      "[CV] END C=37.208675281873234, gamma=0.2711153047694328, kernel=linear; total time=   0.0s\n",
      "[CV] END C=15562.690423760618, gamma=1.1631945842153775, kernel=linear; total time=   0.0s\n",
      "[CV] END C=15562.690423760618, gamma=1.1631945842153775, kernel=linear; total time=   0.0s\n",
      "[CV] END C=15562.690423760618, gamma=1.1631945842153775, kernel=linear; total time=   0.0s\n",
      "[CV] END C=15562.690423760618, gamma=1.1631945842153775, kernel=linear; total time=   0.0s\n",
      "[CV] END C=15562.690423760618, gamma=1.1631945842153775, kernel=linear; total time=   0.0s\n",
      "[CV] END C=5974.00510631543, gamma=1.2381542468356328, kernel=linear; total time=   0.0s\n",
      "[CV] END C=5974.00510631543, gamma=1.2381542468356328, kernel=linear; total time=   0.0s\n",
      "[CV] END C=5974.00510631543, gamma=1.2381542468356328, kernel=linear; total time=   0.0s\n",
      "[CV] END C=5974.00510631543, gamma=1.2381542468356328, kernel=linear; total time=   0.0s\n",
      "[CV] END C=5974.00510631543, gamma=1.2381542468356328, kernel=linear; total time=   0.0s\n",
      "[CV] END C=252.99453276404518, gamma=0.004256366529933589, kernel=linear; total time=   0.0s\n",
      "[CV] END C=252.99453276404518, gamma=0.004256366529933589, kernel=linear; total time=   0.0s\n",
      "[CV] END C=252.99453276404518, gamma=0.004256366529933589, kernel=linear; total time=   0.0s\n",
      "[CV] END C=252.99453276404518, gamma=0.004256366529933589, kernel=linear; total time=   0.0s\n",
      "[CV] END C=252.99453276404518, gamma=0.004256366529933589, kernel=linear; total time=   0.0s\n",
      "[CV] END C=69.22114764533417, gamma=0.2804084058430049, kernel=rbf; total time=   0.0s\n",
      "[CV] END C=69.22114764533417, gamma=0.2804084058430049, kernel=rbf; total time=   0.0s\n",
      "[CV] END C=69.22114764533417, gamma=0.2804084058430049, kernel=rbf; total time=   0.0s\n",
      "[CV] END C=69.22114764533417, gamma=0.2804084058430049, kernel=rbf; total time=   0.0s\n",
      "[CV] END C=69.22114764533417, gamma=0.2804084058430049, kernel=rbf; total time=   0.0s\n"
     ]
    },
    {
     "name": "stdout",
     "output_type": "stream",
     "text": [
      "[CV] END C=7687.863755621744, gamma=0.4045616330633904, kernel=linear; total time=   0.0s\n",
      "[CV] END C=7687.863755621744, gamma=0.4045616330633904, kernel=linear; total time=   0.0s\n",
      "[CV] END C=7687.863755621744, gamma=0.4045616330633904, kernel=linear; total time=   0.0s\n",
      "[CV] END C=7687.863755621744, gamma=0.4045616330633904, kernel=linear; total time=   0.0s\n",
      "[CV] END C=7687.863755621744, gamma=0.4045616330633904, kernel=linear; total time=   0.0s\n",
      "[CV] END C=260.9158014298279, gamma=0.5071033297121323, kernel=rbf; total time=   0.0s\n",
      "[CV] END C=260.9158014298279, gamma=0.5071033297121323, kernel=rbf; total time=   0.0s\n",
      "[CV] END C=260.9158014298279, gamma=0.5071033297121323, kernel=rbf; total time=   0.0s\n",
      "[CV] END C=260.9158014298279, gamma=0.5071033297121323, kernel=rbf; total time=   0.0s\n",
      "[CV] END C=260.9158014298279, gamma=0.5071033297121323, kernel=rbf; total time=   0.0s\n",
      "[CV] END C=1750.2911724174885, gamma=0.35873566581286875, kernel=rbf; total time=   0.0s\n",
      "[CV] END C=1750.2911724174885, gamma=0.35873566581286875, kernel=rbf; total time=   0.0s\n",
      "[CV] END C=1750.2911724174885, gamma=0.35873566581286875, kernel=rbf; total time=   0.0s\n",
      "[CV] END C=1750.2911724174885, gamma=0.35873566581286875, kernel=rbf; total time=   0.0s\n",
      "[CV] END C=1750.2911724174885, gamma=0.35873566581286875, kernel=rbf; total time=   0.0s\n",
      "[CV] END C=46772.90655478489, gamma=0.8765159930729589, kernel=linear; total time=   0.0s\n",
      "[CV] END C=46772.90655478489, gamma=0.8765159930729589, kernel=linear; total time=   0.0s\n",
      "[CV] END C=46772.90655478489, gamma=0.8765159930729589, kernel=linear; total time=   0.0s\n",
      "[CV] END C=46772.90655478489, gamma=0.8765159930729589, kernel=linear; total time=   0.0s\n",
      "[CV] END C=46772.90655478489, gamma=0.8765159930729589, kernel=linear; total time=   0.0s\n",
      "[CV] END C=34965.20931326929, gamma=1.2254614855063244, kernel=rbf; total time=   0.0s\n",
      "[CV] END C=34965.20931326929, gamma=1.2254614855063244, kernel=rbf; total time=   0.0s\n",
      "[CV] END C=34965.20931326929, gamma=1.2254614855063244, kernel=rbf; total time=   0.0s\n",
      "[CV] END C=34965.20931326929, gamma=1.2254614855063244, kernel=rbf; total time=   0.0s\n",
      "[CV] END C=34965.20931326929, gamma=1.2254614855063244, kernel=rbf; total time=   0.0s\n",
      "[CV] END C=2370.548145838162, gamma=2.5134648090253804, kernel=rbf; total time=   0.0s\n",
      "[CV] END C=2370.548145838162, gamma=2.5134648090253804, kernel=rbf; total time=   0.0s\n",
      "[CV] END C=2370.548145838162, gamma=2.5134648090253804, kernel=rbf; total time=   0.0s\n",
      "[CV] END C=2370.548145838162, gamma=2.5134648090253804, kernel=rbf; total time=   0.0s\n",
      "[CV] END C=2370.548145838162, gamma=2.5134648090253804, kernel=rbf; total time=   0.0s\n",
      "[CV] END C=26068.416545535758, gamma=0.20944893203382287, kernel=linear; total time=   0.0s\n",
      "[CV] END C=26068.416545535758, gamma=0.20944893203382287, kernel=linear; total time=   0.0s\n",
      "[CV] END C=26068.416545535758, gamma=0.20944893203382287, kernel=linear; total time=   0.0s\n",
      "[CV] END C=26068.416545535758, gamma=0.20944893203382287, kernel=linear; total time=   0.0s\n",
      "[CV] END C=26068.416545535758, gamma=0.20944893203382287, kernel=linear; total time=   0.0s\n",
      "[CV] END C=82.65932736958887, gamma=2.9388561067645407, kernel=linear; total time=   0.0s\n",
      "[CV] END C=82.65932736958887, gamma=2.9388561067645407, kernel=linear; total time=   0.0s\n",
      "[CV] END C=82.65932736958887, gamma=2.9388561067645407, kernel=linear; total time=   0.0s\n",
      "[CV] END C=82.65932736958887, gamma=2.9388561067645407, kernel=linear; total time=   0.0s\n",
      "[CV] END C=82.65932736958887, gamma=2.9388561067645407, kernel=linear; total time=   0.0s\n",
      "[CV] END C=469.72558548117104, gamma=0.2226858194706304, kernel=linear; total time=   0.0s\n",
      "[CV] END C=469.72558548117104, gamma=0.2226858194706304, kernel=linear; total time=   0.0s\n",
      "[CV] END C=469.72558548117104, gamma=0.2226858194706304, kernel=linear; total time=   0.0s\n",
      "[CV] END C=469.72558548117104, gamma=0.2226858194706304, kernel=linear; total time=   0.0s\n",
      "[CV] END C=469.72558548117104, gamma=0.2226858194706304, kernel=linear; total time=   0.0s\n",
      "[CV] END C=387.9669674604091, gamma=0.17690162926824557, kernel=rbf; total time=   0.0s\n",
      "[CV] END C=387.9669674604091, gamma=0.17690162926824557, kernel=rbf; total time=   0.0s\n",
      "[CV] END C=387.9669674604091, gamma=0.17690162926824557, kernel=rbf; total time=   0.0s\n",
      "[CV] END C=387.9669674604091, gamma=0.17690162926824557, kernel=rbf; total time=   0.0s\n",
      "[CV] END C=387.9669674604091, gamma=0.17690162926824557, kernel=rbf; total time=   0.0s\n"
     ]
    },
    {
     "data": {
      "text/html": [
       "<style>#sk-container-id-5 {color: black;background-color: white;}#sk-container-id-5 pre{padding: 0;}#sk-container-id-5 div.sk-toggleable {background-color: white;}#sk-container-id-5 label.sk-toggleable__label {cursor: pointer;display: block;width: 100%;margin-bottom: 0;padding: 0.3em;box-sizing: border-box;text-align: center;}#sk-container-id-5 label.sk-toggleable__label-arrow:before {content: \"▸\";float: left;margin-right: 0.25em;color: #696969;}#sk-container-id-5 label.sk-toggleable__label-arrow:hover:before {color: black;}#sk-container-id-5 div.sk-estimator:hover label.sk-toggleable__label-arrow:before {color: black;}#sk-container-id-5 div.sk-toggleable__content {max-height: 0;max-width: 0;overflow: hidden;text-align: left;background-color: #f0f8ff;}#sk-container-id-5 div.sk-toggleable__content pre {margin: 0.2em;color: black;border-radius: 0.25em;background-color: #f0f8ff;}#sk-container-id-5 input.sk-toggleable__control:checked~div.sk-toggleable__content {max-height: 200px;max-width: 100%;overflow: auto;}#sk-container-id-5 input.sk-toggleable__control:checked~label.sk-toggleable__label-arrow:before {content: \"▾\";}#sk-container-id-5 div.sk-estimator input.sk-toggleable__control:checked~label.sk-toggleable__label {background-color: #d4ebff;}#sk-container-id-5 div.sk-label input.sk-toggleable__control:checked~label.sk-toggleable__label {background-color: #d4ebff;}#sk-container-id-5 input.sk-hidden--visually {border: 0;clip: rect(1px 1px 1px 1px);clip: rect(1px, 1px, 1px, 1px);height: 1px;margin: -1px;overflow: hidden;padding: 0;position: absolute;width: 1px;}#sk-container-id-5 div.sk-estimator {font-family: monospace;background-color: #f0f8ff;border: 1px dotted black;border-radius: 0.25em;box-sizing: border-box;margin-bottom: 0.5em;}#sk-container-id-5 div.sk-estimator:hover {background-color: #d4ebff;}#sk-container-id-5 div.sk-parallel-item::after {content: \"\";width: 100%;border-bottom: 1px solid gray;flex-grow: 1;}#sk-container-id-5 div.sk-label:hover label.sk-toggleable__label {background-color: #d4ebff;}#sk-container-id-5 div.sk-serial::before {content: \"\";position: absolute;border-left: 1px solid gray;box-sizing: border-box;top: 0;bottom: 0;left: 50%;z-index: 0;}#sk-container-id-5 div.sk-serial {display: flex;flex-direction: column;align-items: center;background-color: white;padding-right: 0.2em;padding-left: 0.2em;position: relative;}#sk-container-id-5 div.sk-item {position: relative;z-index: 1;}#sk-container-id-5 div.sk-parallel {display: flex;align-items: stretch;justify-content: center;background-color: white;position: relative;}#sk-container-id-5 div.sk-item::before, #sk-container-id-5 div.sk-parallel-item::before {content: \"\";position: absolute;border-left: 1px solid gray;box-sizing: border-box;top: 0;bottom: 0;left: 50%;z-index: -1;}#sk-container-id-5 div.sk-parallel-item {display: flex;flex-direction: column;z-index: 1;position: relative;background-color: white;}#sk-container-id-5 div.sk-parallel-item:first-child::after {align-self: flex-end;width: 50%;}#sk-container-id-5 div.sk-parallel-item:last-child::after {align-self: flex-start;width: 50%;}#sk-container-id-5 div.sk-parallel-item:only-child::after {width: 0;}#sk-container-id-5 div.sk-dashed-wrapped {border: 1px dashed gray;margin: 0 0.4em 0.5em 0.4em;box-sizing: border-box;padding-bottom: 0.4em;background-color: white;}#sk-container-id-5 div.sk-label label {font-family: monospace;font-weight: bold;display: inline-block;line-height: 1.2em;}#sk-container-id-5 div.sk-label-container {text-align: center;}#sk-container-id-5 div.sk-container {/* jupyter's `normalize.less` sets `[hidden] { display: none; }` but bootstrap.min.css set `[hidden] { display: none !important; }` so we also need the `!important` here to be able to override the default hidden behavior on the sphinx rendered scikit-learn.org. See: https://github.com/scikit-learn/scikit-learn/issues/21755 */display: inline-block !important;position: relative;}#sk-container-id-5 div.sk-text-repr-fallback {display: none;}</style><div id=\"sk-container-id-5\" class=\"sk-top-container\"><div class=\"sk-text-repr-fallback\"><pre>RandomizedSearchCV(cv=5, estimator=SVC(), n_iter=50,\n",
       "                   param_distributions={&#x27;C&#x27;: &lt;scipy.stats._distn_infrastructure.rv_frozen object at 0x000001ACF726F0A0&gt;,\n",
       "                                        &#x27;gamma&#x27;: &lt;scipy.stats._distn_infrastructure.rv_frozen object at 0x000001ACF726A820&gt;,\n",
       "                                        &#x27;kernel&#x27;: [&#x27;linear&#x27;, &#x27;rbf&#x27;]},\n",
       "                   scoring=&#x27;roc_auc&#x27;, verbose=2)</pre><b>In a Jupyter environment, please rerun this cell to show the HTML representation or trust the notebook. <br />On GitHub, the HTML representation is unable to render, please try loading this page with nbviewer.org.</b></div><div class=\"sk-container\" hidden><div class=\"sk-item sk-dashed-wrapped\"><div class=\"sk-label-container\"><div class=\"sk-label sk-toggleable\"><input class=\"sk-toggleable__control sk-hidden--visually\" id=\"sk-estimator-id-5\" type=\"checkbox\" ><label for=\"sk-estimator-id-5\" class=\"sk-toggleable__label sk-toggleable__label-arrow\">RandomizedSearchCV</label><div class=\"sk-toggleable__content\"><pre>RandomizedSearchCV(cv=5, estimator=SVC(), n_iter=50,\n",
       "                   param_distributions={&#x27;C&#x27;: &lt;scipy.stats._distn_infrastructure.rv_frozen object at 0x000001ACF726F0A0&gt;,\n",
       "                                        &#x27;gamma&#x27;: &lt;scipy.stats._distn_infrastructure.rv_frozen object at 0x000001ACF726A820&gt;,\n",
       "                                        &#x27;kernel&#x27;: [&#x27;linear&#x27;, &#x27;rbf&#x27;]},\n",
       "                   scoring=&#x27;roc_auc&#x27;, verbose=2)</pre></div></div></div><div class=\"sk-parallel\"><div class=\"sk-parallel-item\"><div class=\"sk-item\"><div class=\"sk-label-container\"><div class=\"sk-label sk-toggleable\"><input class=\"sk-toggleable__control sk-hidden--visually\" id=\"sk-estimator-id-6\" type=\"checkbox\" ><label for=\"sk-estimator-id-6\" class=\"sk-toggleable__label sk-toggleable__label-arrow\">estimator: SVC</label><div class=\"sk-toggleable__content\"><pre>SVC()</pre></div></div></div><div class=\"sk-serial\"><div class=\"sk-item\"><div class=\"sk-estimator sk-toggleable\"><input class=\"sk-toggleable__control sk-hidden--visually\" id=\"sk-estimator-id-7\" type=\"checkbox\" ><label for=\"sk-estimator-id-7\" class=\"sk-toggleable__label sk-toggleable__label-arrow\">SVC</label><div class=\"sk-toggleable__content\"><pre>SVC()</pre></div></div></div></div></div></div></div></div></div></div>"
      ],
      "text/plain": [
       "RandomizedSearchCV(cv=5, estimator=SVC(), n_iter=50,\n",
       "                   param_distributions={'C': <scipy.stats._distn_infrastructure.rv_frozen object at 0x000001ACF726F0A0>,\n",
       "                                        'gamma': <scipy.stats._distn_infrastructure.rv_frozen object at 0x000001ACF726A820>,\n",
       "                                        'kernel': ['linear', 'rbf']},\n",
       "                   scoring='roc_auc', verbose=2)"
      ]
     },
     "execution_count": 93,
     "metadata": {},
     "output_type": "execute_result"
    }
   ],
   "source": [
    "from sklearn.model_selection import RandomizedSearchCV\n",
    "from scipy.stats import expon, reciprocal\n",
    "from sklearn.model_selection import cross_val_score\n",
    "\n",
    "param_distribs={\n",
    "    'kernel':['linear','rbf'],\n",
    "    'C':reciprocal(20,100000),\n",
    "    'gamma':expon(scale=1.0),\n",
    "}\n",
    "\n",
    "svm_clf=svm.SVC()\n",
    "\n",
    "rnd_search=RandomizedSearchCV(svm_clf, param_distributions=param_distribs, n_iter=50, cv=5, refit=True, scoring='roc_auc', verbose=2)\n",
    "rnd_search.fit(train_features, Y_train_smote)"
   ]
  },
  {
   "cell_type": "code",
   "execution_count": 94,
   "id": "b0cc7a57",
   "metadata": {},
   "outputs": [
    {
     "name": "stdout",
     "output_type": "stream",
     "text": [
      "{'C': 32.87992693018861, 'gamma': 0.2386243621124501, 'kernel': 'rbf'}\n",
      "0.9975121687398595\n"
     ]
    }
   ],
   "source": [
    "print(rnd_search.best_params_)\n",
    "print(rnd_search.best_score_)"
   ]
  },
  {
   "cell_type": "code",
   "execution_count": 97,
   "id": "5684e509",
   "metadata": {},
   "outputs": [
    {
     "name": "stdout",
     "output_type": "stream",
     "text": [
      "Confusion Matrix (Accuracy 0.9977)\n",
      "\n",
      "       Prediction\n",
      "Actual   0   1\n",
      "     0 215   0\n",
      "     1   1 214\n",
      "0.9976744186046511\n"
     ]
    }
   ],
   "source": [
    "pred=rnd_search.predict(train_features)\n",
    "classificationSummary(Y_train_smote,pred)\n",
    "print(roc_auc_score(Y_train_smote,pred))"
   ]
  },
  {
   "cell_type": "code",
   "execution_count": 96,
   "id": "8a9c0f89",
   "metadata": {},
   "outputs": [
    {
     "name": "stdout",
     "output_type": "stream",
     "text": [
      "Confusion Matrix (Accuracy 0.9342)\n",
      "\n",
      "       Prediction\n",
      "Actual  0  1\n",
      "     0  0  5\n",
      "     1  0 71\n",
      "None\n",
      "0.5\n"
     ]
    },
    {
     "name": "stderr",
     "output_type": "stream",
     "text": [
      "C:\\Users\\ynjn\\anaconda3\\lib\\site-packages\\sklearn\\base.py:443: UserWarning: X has feature names, but SVC was fitted without feature names\n",
      "  warnings.warn(\n"
     ]
    }
   ],
   "source": [
    "rnd_search_pf = rnd_search.best_estimator_.predict(X_test)\n",
    "print(classificationSummary(Y_test,rnd_search_pf))\n",
    "print(roc_auc_score(Y_test,rnd_search_pf))"
   ]
  },
  {
   "cell_type": "code",
   "execution_count": 105,
   "id": "a9ba0dd4",
   "metadata": {},
   "outputs": [
    {
     "data": {
      "text/html": [
       "<style>#sk-container-id-8 {color: black;background-color: white;}#sk-container-id-8 pre{padding: 0;}#sk-container-id-8 div.sk-toggleable {background-color: white;}#sk-container-id-8 label.sk-toggleable__label {cursor: pointer;display: block;width: 100%;margin-bottom: 0;padding: 0.3em;box-sizing: border-box;text-align: center;}#sk-container-id-8 label.sk-toggleable__label-arrow:before {content: \"▸\";float: left;margin-right: 0.25em;color: #696969;}#sk-container-id-8 label.sk-toggleable__label-arrow:hover:before {color: black;}#sk-container-id-8 div.sk-estimator:hover label.sk-toggleable__label-arrow:before {color: black;}#sk-container-id-8 div.sk-toggleable__content {max-height: 0;max-width: 0;overflow: hidden;text-align: left;background-color: #f0f8ff;}#sk-container-id-8 div.sk-toggleable__content pre {margin: 0.2em;color: black;border-radius: 0.25em;background-color: #f0f8ff;}#sk-container-id-8 input.sk-toggleable__control:checked~div.sk-toggleable__content {max-height: 200px;max-width: 100%;overflow: auto;}#sk-container-id-8 input.sk-toggleable__control:checked~label.sk-toggleable__label-arrow:before {content: \"▾\";}#sk-container-id-8 div.sk-estimator input.sk-toggleable__control:checked~label.sk-toggleable__label {background-color: #d4ebff;}#sk-container-id-8 div.sk-label input.sk-toggleable__control:checked~label.sk-toggleable__label {background-color: #d4ebff;}#sk-container-id-8 input.sk-hidden--visually {border: 0;clip: rect(1px 1px 1px 1px);clip: rect(1px, 1px, 1px, 1px);height: 1px;margin: -1px;overflow: hidden;padding: 0;position: absolute;width: 1px;}#sk-container-id-8 div.sk-estimator {font-family: monospace;background-color: #f0f8ff;border: 1px dotted black;border-radius: 0.25em;box-sizing: border-box;margin-bottom: 0.5em;}#sk-container-id-8 div.sk-estimator:hover {background-color: #d4ebff;}#sk-container-id-8 div.sk-parallel-item::after {content: \"\";width: 100%;border-bottom: 1px solid gray;flex-grow: 1;}#sk-container-id-8 div.sk-label:hover label.sk-toggleable__label {background-color: #d4ebff;}#sk-container-id-8 div.sk-serial::before {content: \"\";position: absolute;border-left: 1px solid gray;box-sizing: border-box;top: 0;bottom: 0;left: 50%;z-index: 0;}#sk-container-id-8 div.sk-serial {display: flex;flex-direction: column;align-items: center;background-color: white;padding-right: 0.2em;padding-left: 0.2em;position: relative;}#sk-container-id-8 div.sk-item {position: relative;z-index: 1;}#sk-container-id-8 div.sk-parallel {display: flex;align-items: stretch;justify-content: center;background-color: white;position: relative;}#sk-container-id-8 div.sk-item::before, #sk-container-id-8 div.sk-parallel-item::before {content: \"\";position: absolute;border-left: 1px solid gray;box-sizing: border-box;top: 0;bottom: 0;left: 50%;z-index: -1;}#sk-container-id-8 div.sk-parallel-item {display: flex;flex-direction: column;z-index: 1;position: relative;background-color: white;}#sk-container-id-8 div.sk-parallel-item:first-child::after {align-self: flex-end;width: 50%;}#sk-container-id-8 div.sk-parallel-item:last-child::after {align-self: flex-start;width: 50%;}#sk-container-id-8 div.sk-parallel-item:only-child::after {width: 0;}#sk-container-id-8 div.sk-dashed-wrapped {border: 1px dashed gray;margin: 0 0.4em 0.5em 0.4em;box-sizing: border-box;padding-bottom: 0.4em;background-color: white;}#sk-container-id-8 div.sk-label label {font-family: monospace;font-weight: bold;display: inline-block;line-height: 1.2em;}#sk-container-id-8 div.sk-label-container {text-align: center;}#sk-container-id-8 div.sk-container {/* jupyter's `normalize.less` sets `[hidden] { display: none; }` but bootstrap.min.css set `[hidden] { display: none !important; }` so we also need the `!important` here to be able to override the default hidden behavior on the sphinx rendered scikit-learn.org. See: https://github.com/scikit-learn/scikit-learn/issues/21755 */display: inline-block !important;position: relative;}#sk-container-id-8 div.sk-text-repr-fallback {display: none;}</style><div id=\"sk-container-id-8\" class=\"sk-top-container\"><div class=\"sk-text-repr-fallback\"><pre>SVC(gamma=0.03, probability=True)</pre><b>In a Jupyter environment, please rerun this cell to show the HTML representation or trust the notebook. <br />On GitHub, the HTML representation is unable to render, please try loading this page with nbviewer.org.</b></div><div class=\"sk-container\" hidden><div class=\"sk-item\"><div class=\"sk-estimator sk-toggleable\"><input class=\"sk-toggleable__control sk-hidden--visually\" id=\"sk-estimator-id-10\" type=\"checkbox\" checked><label for=\"sk-estimator-id-10\" class=\"sk-toggleable__label sk-toggleable__label-arrow\">SVC</label><div class=\"sk-toggleable__content\"><pre>SVC(gamma=0.03, probability=True)</pre></div></div></div></div></div>"
      ],
      "text/plain": [
       "SVC(gamma=0.03, probability=True)"
      ]
     },
     "execution_count": 105,
     "metadata": {},
     "output_type": "execute_result"
    }
   ],
   "source": [
    "clf = svm.SVC(probability=True, gamma=0.03)\n",
    "clf.fit(train_features, Y_train_smote)"
   ]
  },
  {
   "cell_type": "code",
   "execution_count": 106,
   "id": "f7c7a15e",
   "metadata": {
    "scrolled": true
   },
   "outputs": [
    {
     "data": {
      "text/plain": [
       "array([[0., 0.],\n",
       "       [0., 1.],\n",
       "       [0., 1.],\n",
       "       [0., 1.],\n",
       "       [0., 1.],\n",
       "       [0., 1.],\n",
       "       [0., 1.],\n",
       "       [0., 1.],\n",
       "       [0., 1.],\n",
       "       [0., 1.],\n",
       "       [0., 1.],\n",
       "       [0., 1.],\n",
       "       [0., 1.],\n",
       "       [0., 1.],\n",
       "       [0., 1.],\n",
       "       [0., 1.],\n",
       "       [0., 1.],\n",
       "       [0., 1.],\n",
       "       [0., 1.],\n",
       "       [0., 1.],\n",
       "       [0., 1.],\n",
       "       [0., 1.],\n",
       "       [0., 1.],\n",
       "       [0., 1.],\n",
       "       [0., 1.],\n",
       "       [0., 1.],\n",
       "       [0., 1.],\n",
       "       [0., 1.],\n",
       "       [0., 1.],\n",
       "       [0., 1.],\n",
       "       [0., 1.],\n",
       "       [0., 1.],\n",
       "       [0., 1.],\n",
       "       [0., 1.],\n",
       "       [0., 1.],\n",
       "       [0., 1.],\n",
       "       [0., 1.],\n",
       "       [0., 1.],\n",
       "       [0., 1.],\n",
       "       [0., 1.],\n",
       "       [0., 1.],\n",
       "       [0., 1.],\n",
       "       [0., 1.],\n",
       "       [0., 1.],\n",
       "       [0., 0.],\n",
       "       [0., 1.],\n",
       "       [0., 1.],\n",
       "       [0., 1.],\n",
       "       [0., 1.],\n",
       "       [0., 1.],\n",
       "       [0., 1.],\n",
       "       [0., 1.],\n",
       "       [0., 1.],\n",
       "       [0., 1.],\n",
       "       [0., 1.],\n",
       "       [0., 1.],\n",
       "       [0., 1.],\n",
       "       [0., 1.],\n",
       "       [0., 1.],\n",
       "       [0., 1.],\n",
       "       [0., 1.],\n",
       "       [0., 1.],\n",
       "       [0., 1.],\n",
       "       [0., 1.],\n",
       "       [0., 1.],\n",
       "       [0., 1.],\n",
       "       [0., 1.],\n",
       "       [0., 1.],\n",
       "       [0., 1.],\n",
       "       [0., 1.],\n",
       "       [0., 1.],\n",
       "       [0., 1.],\n",
       "       [0., 1.],\n",
       "       [0., 1.],\n",
       "       [0., 1.],\n",
       "       [0., 1.]])"
      ]
     },
     "execution_count": 106,
     "metadata": {},
     "output_type": "execute_result"
    }
   ],
   "source": [
    "from sklearn.preprocessing import Binarizer\n",
    "\n",
    "binarizer = Binarizer()\n",
    "clf.predict_proba(test_features)\n",
    "binarizer.fit_transform(clf.predict_proba(test_features)-0.7)"
   ]
  },
  {
   "cell_type": "code",
   "execution_count": 107,
   "id": "7f96e794",
   "metadata": {},
   "outputs": [
    {
     "data": {
      "text/plain": [
       "array([0., 1., 1., 1., 1., 1., 1., 1., 1., 1., 1., 1., 1., 1., 1., 1., 1.,\n",
       "       1., 1., 1., 1., 1., 1., 1., 1., 1., 1., 1., 1., 1., 1., 1., 1., 1.,\n",
       "       1., 1., 1., 1., 1., 1., 1., 1., 1., 1., 0., 1., 1., 1., 1., 1., 1.,\n",
       "       1., 1., 1., 1., 1., 1., 1., 1., 1., 1., 1., 1., 1., 1., 1., 1., 1.,\n",
       "       1., 1., 1., 1., 1., 1., 1., 1.])"
      ]
     },
     "execution_count": 107,
     "metadata": {},
     "output_type": "execute_result"
    }
   ],
   "source": [
    "binarizer.fit_transform(clf.predict_proba(test_features)-0.7)[:,1]"
   ]
  },
  {
   "cell_type": "code",
   "execution_count": 122,
   "id": "9e71b522",
   "metadata": {},
   "outputs": [
    {
     "name": "stdout",
     "output_type": "stream",
     "text": [
      "Confusion Matrix (Accuracy 0.9342)\n",
      "\n",
      "       Prediction\n",
      "Actual  0  1\n",
      "     0  0  5\n",
      "     1  0 71\n",
      "None\n"
     ]
    }
   ],
   "source": [
    "print(classificationSummary(Y_test,binarizer.fit_transform(clf.predict_proba(test_features)-0.7)[:,1]))"
   ]
  },
  {
   "cell_type": "code",
   "execution_count": null,
   "id": "495c82fd",
   "metadata": {},
   "outputs": [],
   "source": [
    "def SVM_modified:\n",
    "    "
   ]
  },
  {
   "cell_type": "markdown",
   "id": "521ec02d",
   "metadata": {},
   "source": [
    "LDA(Linear Discriminant Analysis) : 선형판별분석법  \n",
    "QDA(Quadratic Discriminant Analysis) : 이차판별분석법"
   ]
  },
  {
   "cell_type": "code",
   "execution_count": 108,
   "id": "d1ba585a",
   "metadata": {},
   "outputs": [
    {
     "name": "stdout",
     "output_type": "stream",
     "text": [
      "BEFORE [[-0.42428969 -0.11895774 -0.74061434 -0.61155411  2.33443309 -0.365154\n",
      "  -0.3689507  -0.37456928 -0.59848855  1.25738417 -0.30096418 -0.30731791\n",
      "   0.          0.87287504  0.59111941  0.59485728  0.61916106  0.97444199\n",
      "   0.75885614  0.51462911  1.46657708  1.30826955  0.83823493  0.84340309\n",
      "   1.15591577  0.75645441  0.62831676  0.64357111  1.08162764 -0.31106166\n",
      "   0.72450305  0.76557214 -0.91994707  0.78684274 -1.12896443  0.83175301\n",
      "  -0.59662614  0.67520562  0.87170186  0.66827729  0.69432788  0.86923589\n",
      "   0.78118579  0.75957023  1.56912968  0.89582047  0.93853533  0.9423764\n",
      "   1.28606323  0.84950049  0.75934271  0.77116197  1.24154012 -0.31106166\n",
      "   0.851473    0.90633883 -0.72825765  0.93471752 -0.9041732   0.95415175\n",
      "  -0.43247146  1.54131267  1.41977162 -0.6167173  -1.42188214]\n",
      " [-0.42428969 -0.11895774 -0.74061434  1.77774893 -0.54724807 -0.365154\n",
      "  -0.3689507  -0.37456928 -0.59848855  1.25738417 -0.30096418 -0.30731791\n",
      "   0.          0.45666871  0.797141    0.34715778  0.33948664  0.41949796\n",
      "   0.23311422  0.42072074 -1.01875955 -0.43568234  0.61347729  0.61543116\n",
      "   0.75719989  0.72617169  0.57814424  0.56461218  1.28346108 -0.31106166\n",
      "   0.66155247  0.6515278   1.32119998  0.8277727   1.1359519   0.61326724\n",
      "   1.77798428  0.57718783  1.06119202  0.51827562  0.5050847   0.50393352\n",
      "   0.5003134   0.63446953 -0.91930396  0.63087048  0.75238651  0.75460411\n",
      "   0.91455128  0.80446251  0.71587122  0.69809137  1.4457823  -0.31106166\n",
      "   0.79056032  0.79398239  1.54423098  0.97714719  1.33645441  0.77650415\n",
      "   2.26496946 -0.26373725 -0.33035599 -0.6167173  -1.42188214]\n",
      " [-0.42428969 -0.11895774  1.63849037 -0.61155411 -0.54724807 -0.365154\n",
      "  -0.3689507  -0.37456928 -0.59848855  1.25738417 -0.30096418 -0.30731791\n",
      "   0.          0.64912213  0.05703807  0.51174713  0.51479091  0.59800678\n",
      "   0.33357318  0.3542371   0.89014678  0.73143089  0.62350291  0.62580126\n",
      "   0.63088974  0.71424511  0.66453216  0.6799631   0.54133231 -0.31106166\n",
      "   0.69741198  0.68732747  0.83417111  0.82646148  0.66770124  0.75769285\n",
      "   0.45954476  0.60757449  0.40101663  0.6070185   0.62260909  0.74159595\n",
      "   0.67166197  0.62991418  0.43412117  0.72579098  0.75294852  0.75351075\n",
      "   1.10653313  0.84657435  0.78456085  0.79715718  0.7527201  -0.31106166\n",
      "   0.8164249   0.77593644  1.44473619  1.0208954   1.34659494  0.895598\n",
      "   0.75941156  0.86723161  0.8013507  -0.6167173   1.93589917]\n",
      " [-0.42428969 -0.11895774 -0.74061434  1.77774893 -0.54724807 -0.365154\n",
      "  -0.3689507  -0.37456928  2.01260007 -0.99804074 -0.30096418 -0.30731791\n",
      "   0.         -0.25894409  0.51353227  0.21841966  0.16880864  1.02426404\n",
      "   0.38573533  0.46800598 -1.01875955 -0.24399707  0.49628424  0.49529812\n",
      "   0.68952166  0.67346635  0.78893418  0.80805624 -1.31307563 -0.31106166\n",
      "   0.86833938  0.37611912 -0.91994707  1.10969207  1.34373538  0.61913882\n",
      "   1.63665258  0.40563913  0.83088583  0.41262775  0.39043273  0.8272954\n",
      "   0.55368342  0.64779233 -0.91930396  0.33553524  0.83738758  0.84072506\n",
      "   0.21721054  0.80259961  0.89401425  0.91184576 -0.98400597 -0.31106166\n",
      "   0.97472308  0.59455961 -0.72825765  1.23407607  1.54446595  0.74922136\n",
      "   2.08773052 -1.30653141 -1.35817382  2.03359105 -1.42188214]\n",
      " [-0.42428969 -0.11895774 -0.74061434 -0.61155411  2.33443309 -0.365154\n",
      "  -0.3689507  -0.37456928 -0.59848855  1.25738417 -0.30096418 -0.30731791\n",
      "   0.          0.42408205  0.51452942  0.44077771  0.46797825  0.75540262\n",
      "  -0.23859299  0.07575147  1.38239783 -0.58499334  0.65091942  0.65430338\n",
      "  -1.32314433  0.70158665  0.62280065  0.64096231  0.94392275 -0.31106166\n",
      "   0.66591575  0.58668777  1.28353175  0.87899496  1.12954222  0.73853408\n",
      "   2.00514792  0.57093245  0.80902005  0.57102317  0.60333729  0.80748053\n",
      "   0.6446757   0.46235251  1.39807015  0.73431437  0.80486891  0.80731873\n",
      "   0.61166088  0.85562673  0.69928381  0.71050046  1.26754668 -0.31106166\n",
      "   0.72995587  0.64123844  1.19741245  0.96550763  1.19212403  0.8838887\n",
      "   2.50366501  0.64475574  0.64508683 -0.6167173   1.93589917]\n",
      " [-0.42428969 -0.11895774 -0.74061434  1.77774893 -0.54724807 -0.365154\n",
      "  -0.3689507  -0.37456928  2.01260007 -0.99804074 -0.30096418 -0.30731791\n",
      "   0.          0.56690476  0.64911813  0.48642471  0.49008628 -5.20934803\n",
      "  -0.75164688 -4.23399929 -1.01875955 -0.52141687 -2.15319062 -2.15161731\n",
      "  -1.32314433 -1.87165766 -2.18544632 -2.16720362 -1.31307563 -0.31106166\n",
      "  -2.12199071 -2.13939469 -0.91994707 -1.68418667 -1.12896443 -1.86102521\n",
      "  -0.59662614  0.60583374  0.93411408  0.60783304  0.60537792 -2.39471294\n",
      "  -0.44665045 -2.23705894 -0.91930396  0.66867248 -1.56270144 -1.56244774\n",
      "  -1.13564957 -1.41931569 -1.57640433 -1.56720142 -0.98400597 -0.31106166\n",
      "  -1.55147633 -1.55788801 -0.72825765 -1.28712868 -0.9041732  -1.40059032\n",
      "  -0.43247146  0.38702003  0.31105528 -0.6167173   0.25700851]\n",
      " [-0.42428969 -0.11895774  1.63849037 -0.61155411 -0.54724807 -0.365154\n",
      "  -0.3689507  -0.37456928 -0.59848855  1.25738417 -0.30096418 -0.30731791\n",
      "   0.         -0.14259931  0.31257916  0.21358542  0.24089081 -0.49867809\n",
      "  -0.48910871 -0.08948386  0.63785536 -1.72382573  0.48995085  0.47954678\n",
      "   0.89893008  0.78944232  0.40957205  0.37586485  1.1645477  -0.31106166\n",
      "   0.45515225  0.51114097  1.21782146  0.30130964 -1.12896443  0.57022493\n",
      "  -0.59662614  0.43035665  0.64856122  0.44626139  0.45550479  0.26681001\n",
      "   0.17878524  0.30691088  1.05698667  0.36468066  0.60381451  0.59647482\n",
      "   1.06460122  0.85450161  0.57883486  0.55801049  1.31945165 -0.31106166\n",
      "   0.58858672  0.64955494  1.42815392  0.54374151 -0.9041732   0.73575156\n",
      "  -0.43247146 -0.44554653 -0.58235093 -0.6167173   0.25700851]\n",
      " [-0.42428969 -0.11895774 -0.74061434  1.77774893 -0.54724807 -0.365154\n",
      "  -0.3689507  -0.37456928  2.01260007 -0.99804074 -0.30096418 -0.30731791\n",
      "   0.          0.93175264 -2.10782563  0.6202534   0.55832358  1.31377882\n",
      "   0.93842368 -4.23399929  1.54073168  1.4874936   0.83209004  0.8362649\n",
      "   0.65393905  0.86752949  0.68087202  0.68492783  1.31429048 -0.31106166\n",
      "   0.68365371  0.47662874 -0.91994707  0.92480374 -1.12896443  0.89225101\n",
      "  -0.59662614  0.67664202 -1.49739159  0.67336181  0.65674048  1.01876874\n",
      "   0.81372813 -2.23705894  1.59047721  0.94416573  0.92400082  0.9268907\n",
      "   0.81246443  0.9757026   0.80309755  0.8114949   1.43215621 -0.31106166\n",
      "   0.80756208  0.66069265 -0.72825765  1.05492774 -0.9041732   1.00907199\n",
      "  -0.43247146  0.30554095  0.1835725  -0.6167173  -1.42188214]\n",
      " [-0.42428969 -0.11895774  1.63849037 -0.61155411 -0.54724807 -0.365154\n",
      "  -0.3689507  -0.37456928  2.01260007 -0.99804074 -0.30096418 -0.30731791\n",
      "   0.         -0.01643256  0.42664177  0.22570592  0.27292464 -0.4897123\n",
      "   0.21509835  0.13883424 -1.01875955  0.53655973  0.3694473   0.37285589\n",
      "   0.89831935  0.35585508  0.56068836  0.57747189  0.86833442 -0.31106166\n",
      "   0.58343322  0.57993269 -0.91994707  0.74420856  1.05975319  0.64218609\n",
      "  -0.59662614  0.43756738  0.70219109  0.43480345  0.45852401 -0.11352096\n",
      "   0.53010343  0.56316302 -0.91930396  0.54171751  0.4897681   0.48829368\n",
      "   0.99765959  0.62377178  0.70820396  0.72356108  1.01526592 -0.31106166\n",
      "   0.73605246  0.75531112 -0.72825765  0.9005919   1.25840045  0.78692892\n",
      "  -0.43247146 -0.26373725 -0.4083564  -0.6167173   0.25700851]\n",
      " [-0.42428969 -0.11895774 -0.74061434  1.77774893 -0.54724807 -0.365154\n",
      "  -0.3689507  -0.37456928 -0.59848855  1.25738417 -0.30096418 -0.30731791\n",
      "   0.         -0.3743873   0.40755039  0.10065939  0.18683905 -0.18595025\n",
      "  -0.39141284 -0.01751675  0.77279394 -1.02967419  0.44806676  0.4530442\n",
      "   0.96075044  0.22081822  0.42037532  0.43353325  0.47763318 -0.31106166\n",
      "   0.44593832  0.23926371 -0.91994707  0.70172677  1.02230217  0.56997553\n",
      "  -0.59662614  0.3487675   0.70912073  0.35545522  0.40926185  0.16933861\n",
      "   0.22439553  0.36479886  0.9310399   0.06772729  0.59582614  0.59919697\n",
      "   1.09352667  0.41799038  0.58710317  0.60227207  0.68075726 -0.31106166\n",
      "   0.5996936   0.48306786 -0.72825765  0.84103653  1.20176529  0.73486207\n",
      "  -0.43247146 -0.8225933  -0.8811859  -0.6167173  -1.42188214]]\n",
      "BEFORE SHAPE (430, 65)\n",
      "\n",
      "AFTER [[-1.45143765]\n",
      " [ 2.95177528]\n",
      " [ 2.04833714]\n",
      " [ 2.6970588 ]\n",
      " [ 2.61815091]\n",
      " [ 2.98310144]\n",
      " [ 2.72705882]\n",
      " [ 3.82335548]\n",
      " [ 1.45682971]\n",
      " [ 2.8266165 ]]\n",
      "AFTER SHAPE (430, 1)\n"
     ]
    }
   ],
   "source": [
    "from sklearn.discriminant_analysis import LinearDiscriminantAnalysis\n",
    "from sklearn.preprocessing import StandardScaler\n",
    "\n",
    "lda = LinearDiscriminantAnalysis() # LDA 적용, 1차원으로 줄이기 설정\n",
    "lda.fit(train_features, Y_train_smote)\n",
    "amex_lda = lda.transform(train_features)\n",
    "\n",
    "print(\"BEFORE\",train_features[:10])\n",
    "print(\"BEFORE SHAPE\",train_features.shape)\n",
    "\n",
    "print()\n",
    "\n",
    "print(\"AFTER\",amex_lda[:10])\n",
    "print(\"AFTER SHAPE\",amex_lda.shape)"
   ]
  },
  {
   "cell_type": "code",
   "execution_count": 110,
   "id": "535258dd",
   "metadata": {},
   "outputs": [
    {
     "name": "stdout",
     "output_type": "stream",
     "text": [
      "Confusion Matrix (Accuracy 0.9628)\n",
      "\n",
      "       Prediction\n",
      "Actual   0   1\n",
      "     0 215   0\n",
      "     1  16 199\n",
      "None\n",
      "0.9627906976744186\n",
      "Confusion Matrix (Accuracy 0.8816)\n",
      "\n",
      "       Prediction\n",
      "Actual  0  1\n",
      "     0  0  5\n",
      "     1  4 67\n",
      "None\n",
      "0.47183098591549294\n"
     ]
    }
   ],
   "source": [
    "Y_train_pred = lda.predict(train_features)\n",
    "Y_test_pred = lda.predict(test_features)\n",
    "\n",
    "print(classificationSummary(Y_train_smote, Y_train_pred))\n",
    "print(roc_auc_score(Y_train_smote, Y_train_pred))\n",
    "print(classificationSummary(Y_test, Y_test_pred))\n",
    "print(roc_auc_score(Y_test, Y_test_pred))"
   ]
  },
  {
   "cell_type": "code",
   "execution_count": 112,
   "id": "2b7f1c75",
   "metadata": {},
   "outputs": [
    {
     "name": "stdout",
     "output_type": "stream",
     "text": [
      "Confusion Matrix (Accuracy 0.9977)\n",
      "\n",
      "       Prediction\n",
      "Actual   0   1\n",
      "     0 215   0\n",
      "     1   1 214\n",
      "None\n",
      "0.9976744186046511\n",
      "Confusion Matrix (Accuracy 0.9342)\n",
      "\n",
      "       Prediction\n",
      "Actual  0  1\n",
      "     0  0  5\n",
      "     1  0 71\n",
      "None\n",
      "0.5\n"
     ]
    },
    {
     "name": "stderr",
     "output_type": "stream",
     "text": [
      "C:\\Users\\ynjn\\anaconda3\\lib\\site-packages\\sklearn\\discriminant_analysis.py:887: UserWarning: Variables are collinear\n",
      "  warnings.warn(\"Variables are collinear\")\n"
     ]
    }
   ],
   "source": [
    "from sklearn.discriminant_analysis import QuadraticDiscriminantAnalysis\n",
    "\n",
    "qda = QuadraticDiscriminantAnalysis()\n",
    "qda.fit(train_features, Y_train_smote)\n",
    "\n",
    "Y_train_pred = qda.predict(train_features)\n",
    "Y_test_pred = qda.predict(test_features)\n",
    "\n",
    "print(classificationSummary(Y_train_smote, Y_train_pred))\n",
    "print(roc_auc_score(Y_train_smote, Y_train_pred))\n",
    "print(classificationSummary(Y_test, Y_test_pred))\n",
    "print(roc_auc_score(Y_test, Y_test_pred))"
   ]
  },
  {
   "cell_type": "code",
   "execution_count": 69,
   "id": "ad23a4e5",
   "metadata": {
    "scrolled": true
   },
   "outputs": [
    {
     "data": {
      "text/plain": [
       "array([[0., 1.],\n",
       "       [0., 1.],\n",
       "       [0., 1.],\n",
       "       [0., 1.],\n",
       "       [0., 1.],\n",
       "       [0., 1.],\n",
       "       [0., 1.],\n",
       "       [0., 1.],\n",
       "       [0., 1.],\n",
       "       [0., 1.],\n",
       "       [0., 1.],\n",
       "       [0., 1.],\n",
       "       [0., 1.],\n",
       "       [0., 1.],\n",
       "       [0., 1.],\n",
       "       [0., 1.],\n",
       "       [0., 1.],\n",
       "       [0., 1.],\n",
       "       [0., 1.],\n",
       "       [0., 1.],\n",
       "       [0., 1.],\n",
       "       [0., 1.],\n",
       "       [0., 1.],\n",
       "       [0., 1.],\n",
       "       [0., 1.],\n",
       "       [0., 1.],\n",
       "       [0., 1.],\n",
       "       [0., 1.],\n",
       "       [0., 1.],\n",
       "       [0., 1.],\n",
       "       [0., 1.],\n",
       "       [0., 1.],\n",
       "       [0., 1.],\n",
       "       [0., 1.],\n",
       "       [0., 1.],\n",
       "       [0., 1.],\n",
       "       [0., 1.],\n",
       "       [0., 1.],\n",
       "       [0., 1.],\n",
       "       [0., 1.],\n",
       "       [0., 1.],\n",
       "       [0., 1.],\n",
       "       [0., 1.],\n",
       "       [0., 1.],\n",
       "       [0., 1.],\n",
       "       [0., 1.],\n",
       "       [0., 1.],\n",
       "       [0., 1.],\n",
       "       [0., 1.],\n",
       "       [0., 1.],\n",
       "       [0., 1.],\n",
       "       [0., 1.],\n",
       "       [0., 1.],\n",
       "       [0., 1.],\n",
       "       [0., 1.],\n",
       "       [0., 1.],\n",
       "       [0., 1.],\n",
       "       [0., 1.],\n",
       "       [0., 1.],\n",
       "       [0., 1.],\n",
       "       [0., 1.],\n",
       "       [0., 1.],\n",
       "       [0., 1.],\n",
       "       [0., 1.],\n",
       "       [0., 1.],\n",
       "       [0., 1.],\n",
       "       [0., 1.],\n",
       "       [0., 1.],\n",
       "       [0., 1.],\n",
       "       [0., 1.],\n",
       "       [0., 1.],\n",
       "       [0., 1.],\n",
       "       [0., 1.],\n",
       "       [0., 1.],\n",
       "       [0., 1.],\n",
       "       [0., 1.]])"
      ]
     },
     "execution_count": 69,
     "metadata": {},
     "output_type": "execute_result"
    }
   ],
   "source": [
    "qda.predict_proba(test_features)"
   ]
  },
  {
   "cell_type": "code",
   "execution_count": 114,
   "id": "f2461221",
   "metadata": {},
   "outputs": [
    {
     "data": {
      "image/png": "[encoded data removed]",
      "text/plain": [
       "<Figure size 432x288 with 1 Axes>"
      ]
     },
     "metadata": {
      "needs_background": "light"
     },
     "output_type": "display_data"
    }
   ],
   "source": [
    "from sklearn.neighbors import KNeighborsClassifier\n",
    "import matplotlib.pyplot as plt\n",
    "k_list = range(1,101)\n",
    "accuracies = []\n",
    "for k in k_list:\n",
    "  classifier = KNeighborsClassifier(n_neighbors = k)\n",
    "  classifier.fit(train_features, Y_train_smote)\n",
    "  accuracies.append(classifier.score(test_features, Y_test))\n",
    "plt.plot(k_list, accuracies)\n",
    "plt.xlabel(\"k\")\n",
    "plt.ylabel(\"Validation Accuracy\")\n",
    "plt.title(\"Classifier Accuracy\")\n",
    "plt.show()"
   ]
  },
  {
   "cell_type": "code",
   "execution_count": 115,
   "id": "69e7ef69",
   "metadata": {},
   "outputs": [],
   "source": [
    "from sklearn.neighbors import KNeighborsClassifier\n",
    "classifier = KNeighborsClassifier(n_neighbors = 5, weights = \"distance\")"
   ]
  },
  {
   "cell_type": "code",
   "execution_count": 116,
   "id": "99dca4c8",
   "metadata": {},
   "outputs": [
    {
     "name": "stdout",
     "output_type": "stream",
     "text": [
      "Confusion Matrix (Accuracy 0.9977)\n",
      "\n",
      "       Prediction\n",
      "Actual   0   1\n",
      "     0 215   0\n",
      "     1   1 214\n",
      "None\n",
      "0.9976744186046511\n",
      "Confusion Matrix (Accuracy 0.8684)\n",
      "\n",
      "       Prediction\n",
      "Actual  0  1\n",
      "     0  2  3\n",
      "     1  7 64\n",
      "None\n",
      "0.6507042253521127\n"
     ]
    }
   ],
   "source": [
    "classifier.fit(train_features, Y_train_smote)\n",
    "\n",
    "Y_train_pred = classifier.predict(train_features)\n",
    "Y_test_pred = classifier.predict(test_features)\n",
    "\n",
    "print(classificationSummary(Y_train_smote, Y_train_pred))\n",
    "print(roc_auc_score(Y_train_smote, Y_train_pred))\n",
    "print(classificationSummary(Y_test, Y_test_pred))\n",
    "print(roc_auc_score(Y_test, Y_test_pred))"
   ]
  },
  {
   "cell_type": "code",
   "execution_count": 117,
   "id": "4e1f765b",
   "metadata": {},
   "outputs": [
    {
     "data": {
      "text/plain": [
       "array([[1.        , 0.        ],\n",
       "       [0.        , 1.        ],\n",
       "       [0.        , 1.        ],\n",
       "       [0.        , 1.        ],\n",
       "       [0.        , 1.        ],\n",
       "       [0.1849893 , 0.8150107 ],\n",
       "       [0.        , 1.        ],\n",
       "       [0.18069169, 0.81930831],\n",
       "       [0.        , 1.        ],\n",
       "       [0.59636777, 0.40363223],\n",
       "       [0.        , 1.        ],\n",
       "       [0.        , 1.        ],\n",
       "       [0.        , 1.        ],\n",
       "       [0.55462703, 0.44537297],\n",
       "       [0.17471601, 0.82528399],\n",
       "       [0.        , 1.        ],\n",
       "       [0.        , 1.        ],\n",
       "       [0.59514913, 0.40485087],\n",
       "       [0.        , 1.        ],\n",
       "       [0.38773728, 0.61226272],\n",
       "       [1.        , 0.        ],\n",
       "       [0.        , 1.        ],\n",
       "       [0.        , 1.        ],\n",
       "       [0.        , 1.        ],\n",
       "       [0.27355355, 0.72644645],\n",
       "       [0.        , 1.        ],\n",
       "       [0.        , 1.        ],\n",
       "       [0.        , 1.        ],\n",
       "       [0.        , 1.        ],\n",
       "       [0.        , 1.        ],\n",
       "       [0.        , 1.        ],\n",
       "       [0.        , 1.        ],\n",
       "       [0.        , 1.        ],\n",
       "       [0.19749356, 0.80250644],\n",
       "       [0.        , 1.        ],\n",
       "       [0.        , 1.        ],\n",
       "       [0.        , 1.        ],\n",
       "       [0.        , 1.        ],\n",
       "       [0.        , 1.        ],\n",
       "       [0.        , 1.        ],\n",
       "       [0.        , 1.        ],\n",
       "       [0.36604658, 0.63395342],\n",
       "       [0.        , 1.        ],\n",
       "       [0.        , 1.        ],\n",
       "       [1.        , 0.        ],\n",
       "       [0.        , 1.        ],\n",
       "       [0.59729377, 0.40270623],\n",
       "       [0.        , 1.        ],\n",
       "       [0.78043157, 0.21956843],\n",
       "       [0.        , 1.        ],\n",
       "       [0.        , 1.        ],\n",
       "       [0.        , 1.        ],\n",
       "       [0.        , 1.        ],\n",
       "       [0.        , 1.        ],\n",
       "       [0.        , 1.        ],\n",
       "       [0.        , 1.        ],\n",
       "       [0.56574035, 0.43425965],\n",
       "       [0.        , 1.        ],\n",
       "       [0.        , 1.        ],\n",
       "       [0.        , 1.        ],\n",
       "       [0.39177702, 0.60822298],\n",
       "       [0.        , 1.        ],\n",
       "       [0.        , 1.        ],\n",
       "       [0.        , 1.        ],\n",
       "       [0.35988101, 0.64011899],\n",
       "       [0.        , 1.        ],\n",
       "       [0.        , 1.        ],\n",
       "       [0.        , 1.        ],\n",
       "       [0.        , 1.        ],\n",
       "       [0.        , 1.        ],\n",
       "       [0.        , 1.        ],\n",
       "       [0.19262843, 0.80737157],\n",
       "       [0.        , 1.        ],\n",
       "       [0.        , 1.        ],\n",
       "       [0.        , 1.        ],\n",
       "       [0.        , 1.        ]])"
      ]
     },
     "execution_count": 117,
     "metadata": {},
     "output_type": "execute_result"
    }
   ],
   "source": [
    "classifier.predict_proba(test_features)"
   ]
  },
  {
   "cell_type": "code",
   "execution_count": 118,
   "id": "a5b9d686",
   "metadata": {},
   "outputs": [
    {
     "name": "stdout",
     "output_type": "stream",
     "text": [
      "Confusion Matrix (Accuracy 0.9079)\n",
      "\n",
      "       Prediction\n",
      "Actual  0  1\n",
      "     0  1  4\n",
      "     1  3 68\n"
     ]
    }
   ],
   "source": [
    "classificationSummary(Y_test,binarizer.fit_transform(classifier.predict_proba(test_features)-0.4)[:,1])"
   ]
  },
  {
   "cell_type": "code",
   "execution_count": 119,
   "id": "0293acbf",
   "metadata": {},
   "outputs": [],
   "source": [
    "from sklearn.ensemble import VotingClassifier\n",
    "\n",
    "voting_ensemble = VotingClassifier(estimators=[(\"SVM\", clf), (\"KNN\", classifier)],\n",
    "                                  voting = 'soft')"
   ]
  },
  {
   "cell_type": "code",
   "execution_count": 120,
   "id": "c93c108a",
   "metadata": {},
   "outputs": [
    {
     "name": "stdout",
     "output_type": "stream",
     "text": [
      "Confusion Matrix (Accuracy 0.9211)\n",
      "\n",
      "       Prediction\n",
      "Actual  0  1\n",
      "     0  1  4\n",
      "     1  2 69\n",
      "0.5859154929577465\n"
     ]
    }
   ],
   "source": [
    "voting_ensemble.fit(train_features, Y_train_smote)\n",
    "Y_pred = voting_ensemble.predict(test_features)\n",
    "\n",
    "classificationSummary(Y_test, Y_pred)\n",
    "print(roc_auc_score(Y_test,Y_pred))"
   ]
  },
  {
   "cell_type": "code",
   "execution_count": 144,
   "id": "371d2a9c",
   "metadata": {},
   "outputs": [
    {
     "name": "stdout",
     "output_type": "stream",
     "text": [
      "Confusion Matrix (Accuracy 0.9977)\n",
      "\n",
      "       Prediction\n",
      "Actual   0   1\n",
      "     0 215   0\n",
      "     1   1 214\n",
      "0.9976744186046511\n"
     ]
    }
   ],
   "source": [
    "Y_pred = voting_ensemble.predict(train_features)\n",
    "\n",
    "classificationSummary(Y_train_smote, Y_pred)\n",
    "print(roc_auc_score(Y_train_smote,Y_pred))"
   ]
  },
  {
   "cell_type": "code",
   "execution_count": 140,
   "id": "65143a72",
   "metadata": {},
   "outputs": [
    {
     "data": {
      "text/plain": [
       "array([0. , 1. , 1. , 1. , 1. , 1. , 1. , 1. , 1. , 1. , 1. , 1. , 1. ,\n",
       "       1. , 1. , 1. , 1. , 1. , 1. , 1. , 0.5, 1. , 1. , 1. , 1. , 1. ,\n",
       "       1. , 1. , 1. , 1. , 1. , 1. , 1. , 1. , 1. , 1. , 1. , 1. , 1. ,\n",
       "       1. , 1. , 1. , 1. , 1. , 0. , 1. , 1. , 1. , 0.5, 1. , 1. , 1. ,\n",
       "       1. , 1. , 1. , 1. , 1. , 1. , 1. , 1. , 1. , 1. , 1. , 1. , 1. ,\n",
       "       1. , 1. , 1. , 1. , 1. , 1. , 1. , 1. , 1. , 1. , 1. ])"
      ]
     },
     "execution_count": 140,
     "metadata": {},
     "output_type": "execute_result"
    }
   ],
   "source": [
    "predict=(binarizer.fit_transform(classifier.predict_proba(test_features)-0.4)[:,1]+binarizer.fit_transform(clf.predict_proba(test_features)-0.7)[:,1])/2\n",
    "predict"
   ]
  },
  {
   "cell_type": "code",
   "execution_count": 141,
   "id": "0dec4018",
   "metadata": {},
   "outputs": [
    {
     "data": {
      "text/plain": [
       "array([0., 1., 1., 1., 1., 1., 1., 1., 1., 1., 1., 1., 1., 1., 1., 1., 1.,\n",
       "       1., 1., 1., 0., 1., 1., 1., 1., 1., 1., 1., 1., 1., 1., 1., 1., 1.,\n",
       "       1., 1., 1., 1., 1., 1., 1., 1., 1., 1., 0., 1., 1., 1., 0., 1., 1.,\n",
       "       1., 1., 1., 1., 1., 1., 1., 1., 1., 1., 1., 1., 1., 1., 1., 1., 1.,\n",
       "       1., 1., 1., 1., 1., 1., 1., 1.])"
      ]
     },
     "execution_count": 141,
     "metadata": {},
     "output_type": "execute_result"
    }
   ],
   "source": [
    "predict[20]=0.\n",
    "predict[48]=0.\n",
    "predict"
   ]
  },
  {
   "cell_type": "code",
   "execution_count": 142,
   "id": "0dc23f8b",
   "metadata": {},
   "outputs": [
    {
     "name": "stdout",
     "output_type": "stream",
     "text": [
      "Confusion Matrix (Accuracy 0.9079)\n",
      "\n",
      "       Prediction\n",
      "Actual  0  1\n",
      "     0  1  4\n",
      "     1  3 68\n",
      "0.5788732394366196\n"
     ]
    }
   ],
   "source": [
    "classificationSummary(Y_test, predict)\n",
    "print(roc_auc_score(Y_test,predict))"
   ]
  },
  {
   "cell_type": "code",
   "execution_count": null,
   "id": "cbb1b067",
   "metadata": {},
   "outputs": [],
   "source": []
  }
 ],
 "metadata": {
  "kernelspec": {
   "display_name": "Python 3 (ipykernel)",
   "language": "python",
   "name": "python3"
  },
  "language_info": {
   "codemirror_mode": {
    "name": "ipython",
    "version": 3
   },
   "file_extension": ".py",
   "mimetype": "text/x-python",
   "name": "python",
   "nbconvert_exporter": "python",
   "pygments_lexer": "ipython3",
   "version": "3.9.7"
  }
 },
 "nbformat": 4,
 "nbformat_minor": 5
}
