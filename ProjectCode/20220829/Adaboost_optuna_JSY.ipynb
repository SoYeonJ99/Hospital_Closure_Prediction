{
 "cells": [
  {
   "cell_type": "markdown",
   "id": "5ded7347",
   "metadata": {},
   "source": [
    "## Optuna 로 하이퍼파라미터 튜닝"
   ]
  },
  {
   "cell_type": "code",
   "execution_count": 1,
   "id": "4cda285f",
   "metadata": {},
   "outputs": [],
   "source": [
    "import pandas as pd\n",
    "import numpy as np\n",
    "\n",
    "from sklearn.model_selection import train_test_split, cross_val_score, KFold, GridSearchCV, RandomizedSearchCV\n",
    "\n",
    "import warnings\n",
    "warnings.filterwarnings('ignore')\n",
    "\n",
    "from sklearn.ensemble import AdaBoostClassifier\n",
    "from sklearn.tree import DecisionTreeClassifier\n",
    "from sklearn.linear_model import LogisticRegression\n",
    "from sklearn.metrics import accuracy_score, precision_score, recall_score, confusion_matrix, auc, roc_auc_score\n",
    "from dmba import classificationSummary\n",
    "\n",
    "from imblearn.over_sampling import SMOTE\n",
    "\n",
    "import optuna\n",
    "from optuna import Trial\n",
    "from optuna.samplers import TPESampler"
   ]
  },
  {
   "cell_type": "code",
   "execution_count": 2,
   "id": "8bfe9e32",
   "metadata": {},
   "outputs": [],
   "source": [
    "train_df = pd.read_csv('D:/숙탯 2기/2022-여름-캐글/최종데이터/Train.csv')\n",
    "test_df = pd.read_csv('D:/숙탯 2기/2022-여름-캐글/최종데이터/Test.csv')\n",
    "\n",
    "train_df['ownerChange'] = round(train_df['ownerChange'])\n",
    "train_df['bedCount_class'] = round(train_df['bedCount_class'])\n",
    "\n",
    "test_df['ownerChange'] = round(train_df['ownerChange'])\n",
    "test_df['bedCount_class'] = round(train_df['bedCount_class'])\n",
    "\n",
    "train_df.drop('instkind_nan', axis=1, inplace=True)\n",
    "test_df.drop('instkind_nan', axis=1, inplace=True)\n",
    "\n",
    "train_df.set_index('inst_id', inplace=True)\n",
    "test_df.set_index('inst_id', inplace=True)"
   ]
  },
  {
   "cell_type": "code",
   "execution_count": 3,
   "id": "1390adda",
   "metadata": {},
   "outputs": [
    {
     "data": {
      "text/html": [
       "<div>\n",
       "<style scoped>\n",
       "    .dataframe tbody tr th:only-of-type {\n",
       "        vertical-align: middle;\n",
       "    }\n",
       "\n",
       "    .dataframe tbody tr th {\n",
       "        vertical-align: top;\n",
       "    }\n",
       "\n",
       "    .dataframe thead th {\n",
       "        text-align: right;\n",
       "    }\n",
       "</style>\n",
       "<table border=\"1\" class=\"dataframe\">\n",
       "  <thead>\n",
       "    <tr style=\"text-align: right;\">\n",
       "      <th></th>\n",
       "      <th>inst_id</th>\n",
       "      <th>sido_choongchung</th>\n",
       "      <th>sido_gyeongsang</th>\n",
       "      <th>sido_jeonra</th>\n",
       "      <th>instkind_nursing_hospital</th>\n",
       "      <th>instkind_traditional_hospital</th>\n",
       "      <th>revenue1</th>\n",
       "      <th>sga1</th>\n",
       "      <th>salary1</th>\n",
       "      <th>noe1</th>\n",
       "      <th>...</th>\n",
       "      <th>profit2</th>\n",
       "      <th>inventoryAsset2</th>\n",
       "      <th>OnonCAsset2</th>\n",
       "      <th>shortLoan2</th>\n",
       "      <th>NCLiabilities2</th>\n",
       "      <th>longLoan2</th>\n",
       "      <th>surplus2</th>\n",
       "      <th>ownerChange</th>\n",
       "      <th>bedCount_class</th>\n",
       "      <th>OC</th>\n",
       "    </tr>\n",
       "  </thead>\n",
       "  <tbody>\n",
       "    <tr>\n",
       "      <th>0</th>\n",
       "      <td>1</td>\n",
       "      <td>1.0</td>\n",
       "      <td>0.0</td>\n",
       "      <td>0.0</td>\n",
       "      <td>1.0</td>\n",
       "      <td>0.0</td>\n",
       "      <td>22.162515</td>\n",
       "      <td>22.099796</td>\n",
       "      <td>21.433189</td>\n",
       "      <td>16.539187</td>\n",
       "      <td>...</td>\n",
       "      <td>19.152229</td>\n",
       "      <td>16.425505</td>\n",
       "      <td>18.798422</td>\n",
       "      <td>0.000000</td>\n",
       "      <td>20.099863</td>\n",
       "      <td>19.781657</td>\n",
       "      <td>20.963246</td>\n",
       "      <td>0.0</td>\n",
       "      <td>3.0</td>\n",
       "      <td>1</td>\n",
       "    </tr>\n",
       "    <tr>\n",
       "      <th>1</th>\n",
       "      <td>3</td>\n",
       "      <td>0.0</td>\n",
       "      <td>1.0</td>\n",
       "      <td>0.0</td>\n",
       "      <td>0.0</td>\n",
       "      <td>0.0</td>\n",
       "      <td>23.980280</td>\n",
       "      <td>23.481393</td>\n",
       "      <td>19.521179</td>\n",
       "      <td>16.823799</td>\n",
       "      <td>...</td>\n",
       "      <td>17.025473</td>\n",
       "      <td>16.044684</td>\n",
       "      <td>15.372413</td>\n",
       "      <td>9.180719</td>\n",
       "      <td>18.812726</td>\n",
       "      <td>17.568559</td>\n",
       "      <td>12.258481</td>\n",
       "      <td>0.0</td>\n",
       "      <td>4.0</td>\n",
       "      <td>1</td>\n",
       "    </tr>\n",
       "    <tr>\n",
       "      <th>2</th>\n",
       "      <td>4</td>\n",
       "      <td>0.0</td>\n",
       "      <td>0.0</td>\n",
       "      <td>0.0</td>\n",
       "      <td>1.0</td>\n",
       "      <td>0.0</td>\n",
       "      <td>20.727778</td>\n",
       "      <td>19.918561</td>\n",
       "      <td>19.507228</td>\n",
       "      <td>10.308986</td>\n",
       "      <td>...</td>\n",
       "      <td>0.000000</td>\n",
       "      <td>0.000000</td>\n",
       "      <td>0.000000</td>\n",
       "      <td>0.000000</td>\n",
       "      <td>0.000000</td>\n",
       "      <td>0.000000</td>\n",
       "      <td>0.000000</td>\n",
       "      <td>0.0</td>\n",
       "      <td>4.0</td>\n",
       "      <td>1</td>\n",
       "    </tr>\n",
       "    <tr>\n",
       "      <th>3</th>\n",
       "      <td>7</td>\n",
       "      <td>0.0</td>\n",
       "      <td>0.0</td>\n",
       "      <td>0.0</td>\n",
       "      <td>0.0</td>\n",
       "      <td>0.0</td>\n",
       "      <td>25.006954</td>\n",
       "      <td>24.981392</td>\n",
       "      <td>24.182293</td>\n",
       "      <td>20.954034</td>\n",
       "      <td>...</td>\n",
       "      <td>20.546991</td>\n",
       "      <td>20.934483</td>\n",
       "      <td>22.088313</td>\n",
       "      <td>22.944579</td>\n",
       "      <td>23.755157</td>\n",
       "      <td>23.437961</td>\n",
       "      <td>22.769775</td>\n",
       "      <td>0.0</td>\n",
       "      <td>4.0</td>\n",
       "      <td>1</td>\n",
       "    </tr>\n",
       "    <tr>\n",
       "      <th>4</th>\n",
       "      <td>9</td>\n",
       "      <td>0.0</td>\n",
       "      <td>1.0</td>\n",
       "      <td>0.0</td>\n",
       "      <td>0.0</td>\n",
       "      <td>0.0</td>\n",
       "      <td>24.615974</td>\n",
       "      <td>24.587275</td>\n",
       "      <td>23.920337</td>\n",
       "      <td>21.073281</td>\n",
       "      <td>...</td>\n",
       "      <td>17.301128</td>\n",
       "      <td>19.908536</td>\n",
       "      <td>20.486709</td>\n",
       "      <td>23.590810</td>\n",
       "      <td>23.784786</td>\n",
       "      <td>23.370010</td>\n",
       "      <td>22.923325</td>\n",
       "      <td>0.0</td>\n",
       "      <td>3.0</td>\n",
       "      <td>1</td>\n",
       "    </tr>\n",
       "  </tbody>\n",
       "</table>\n",
       "<p>5 rows × 29 columns</p>\n",
       "</div>"
      ],
      "text/plain": [
       "   inst_id  sido_choongchung  sido_gyeongsang  sido_jeonra  \\\n",
       "0        1               1.0              0.0          0.0   \n",
       "1        3               0.0              1.0          0.0   \n",
       "2        4               0.0              0.0          0.0   \n",
       "3        7               0.0              0.0          0.0   \n",
       "4        9               0.0              1.0          0.0   \n",
       "\n",
       "   instkind_nursing_hospital  instkind_traditional_hospital   revenue1  \\\n",
       "0                        1.0                            0.0  22.162515   \n",
       "1                        0.0                            0.0  23.980280   \n",
       "2                        1.0                            0.0  20.727778   \n",
       "3                        0.0                            0.0  25.006954   \n",
       "4                        0.0                            0.0  24.615974   \n",
       "\n",
       "        sga1    salary1       noe1  ...    profit2  inventoryAsset2  \\\n",
       "0  22.099796  21.433189  16.539187  ...  19.152229        16.425505   \n",
       "1  23.481393  19.521179  16.823799  ...  17.025473        16.044684   \n",
       "2  19.918561  19.507228  10.308986  ...   0.000000         0.000000   \n",
       "3  24.981392  24.182293  20.954034  ...  20.546991        20.934483   \n",
       "4  24.587275  23.920337  21.073281  ...  17.301128        19.908536   \n",
       "\n",
       "   OnonCAsset2  shortLoan2  NCLiabilities2  longLoan2   surplus2  ownerChange  \\\n",
       "0    18.798422    0.000000       20.099863  19.781657  20.963246          0.0   \n",
       "1    15.372413    9.180719       18.812726  17.568559  12.258481          0.0   \n",
       "2     0.000000    0.000000        0.000000   0.000000   0.000000          0.0   \n",
       "3    22.088313   22.944579       23.755157  23.437961  22.769775          0.0   \n",
       "4    20.486709   23.590810       23.784786  23.370010  22.923325          0.0   \n",
       "\n",
       "   bedCount_class  OC  \n",
       "0             3.0   1  \n",
       "1             4.0   1  \n",
       "2             4.0   1  \n",
       "3             4.0   1  \n",
       "4             3.0   1  \n",
       "\n",
       "[5 rows x 29 columns]"
      ]
     },
     "execution_count": 3,
     "metadata": {},
     "output_type": "execute_result"
    }
   ],
   "source": [
    "train_lr = pd.read_csv('D:/숙탯 2기/2022-여름-캐글/최종데이터/Train_lr.csv')\n",
    "\n",
    "train_lr['ownerChange'] = round(train_lr['ownerChange'])\n",
    "train_lr['bedCount_class'] = round(train_lr['bedCount_class'])\n",
    "\n",
    "train_lr.head()"
   ]
  },
  {
   "cell_type": "code",
   "execution_count": 4,
   "id": "119b9a9b",
   "metadata": {
    "scrolled": true
   },
   "outputs": [
    {
     "data": {
      "text/html": [
       "<div>\n",
       "<style scoped>\n",
       "    .dataframe tbody tr th:only-of-type {\n",
       "        vertical-align: middle;\n",
       "    }\n",
       "\n",
       "    .dataframe tbody tr th {\n",
       "        vertical-align: top;\n",
       "    }\n",
       "\n",
       "    .dataframe thead th {\n",
       "        text-align: right;\n",
       "    }\n",
       "</style>\n",
       "<table border=\"1\" class=\"dataframe\">\n",
       "  <thead>\n",
       "    <tr style=\"text-align: right;\">\n",
       "      <th></th>\n",
       "      <th>inst_id</th>\n",
       "      <th>instkind_hospital</th>\n",
       "      <th>instkind_traditional_clinic</th>\n",
       "      <th>revenue1</th>\n",
       "      <th>salescost1</th>\n",
       "      <th>sga1</th>\n",
       "      <th>salary1</th>\n",
       "      <th>liquidAsset1</th>\n",
       "      <th>quickAsset1</th>\n",
       "      <th>receivableS1</th>\n",
       "      <th>inventoryAsset2</th>\n",
       "      <th>receivableL2</th>\n",
       "      <th>employee2</th>\n",
       "      <th>OC</th>\n",
       "    </tr>\n",
       "  </thead>\n",
       "  <tbody>\n",
       "    <tr>\n",
       "      <th>0</th>\n",
       "      <td>1</td>\n",
       "      <td>0.0</td>\n",
       "      <td>0.0</td>\n",
       "      <td>22.162515</td>\n",
       "      <td>0.000000</td>\n",
       "      <td>22.099796</td>\n",
       "      <td>21.433189</td>\n",
       "      <td>20.735886</td>\n",
       "      <td>20.720935</td>\n",
       "      <td>19.968362</td>\n",
       "      <td>16.425505</td>\n",
       "      <td>0.0</td>\n",
       "      <td>4.174387</td>\n",
       "      <td>1</td>\n",
       "    </tr>\n",
       "    <tr>\n",
       "      <th>1</th>\n",
       "      <td>3</td>\n",
       "      <td>0.0</td>\n",
       "      <td>0.0</td>\n",
       "      <td>23.980280</td>\n",
       "      <td>9.659782</td>\n",
       "      <td>23.481393</td>\n",
       "      <td>19.521179</td>\n",
       "      <td>19.074269</td>\n",
       "      <td>19.037270</td>\n",
       "      <td>10.917985</td>\n",
       "      <td>16.044684</td>\n",
       "      <td>0.0</td>\n",
       "      <td>6.701960</td>\n",
       "      <td>1</td>\n",
       "    </tr>\n",
       "    <tr>\n",
       "      <th>2</th>\n",
       "      <td>4</td>\n",
       "      <td>0.0</td>\n",
       "      <td>0.0</td>\n",
       "      <td>20.727778</td>\n",
       "      <td>20.060616</td>\n",
       "      <td>19.918561</td>\n",
       "      <td>19.507228</td>\n",
       "      <td>19.422937</td>\n",
       "      <td>19.351593</td>\n",
       "      <td>15.906875</td>\n",
       "      <td>0.000000</td>\n",
       "      <td>0.0</td>\n",
       "      <td>0.693147</td>\n",
       "      <td>1</td>\n",
       "    </tr>\n",
       "    <tr>\n",
       "      <th>3</th>\n",
       "      <td>7</td>\n",
       "      <td>0.0</td>\n",
       "      <td>0.0</td>\n",
       "      <td>25.006954</td>\n",
       "      <td>0.000000</td>\n",
       "      <td>24.981392</td>\n",
       "      <td>24.182293</td>\n",
       "      <td>23.291406</td>\n",
       "      <td>23.168630</td>\n",
       "      <td>0.000000</td>\n",
       "      <td>20.934483</td>\n",
       "      <td>0.0</td>\n",
       "      <td>6.498282</td>\n",
       "      <td>1</td>\n",
       "    </tr>\n",
       "    <tr>\n",
       "      <th>4</th>\n",
       "      <td>9</td>\n",
       "      <td>0.0</td>\n",
       "      <td>0.0</td>\n",
       "      <td>24.615974</td>\n",
       "      <td>0.000000</td>\n",
       "      <td>24.587275</td>\n",
       "      <td>23.920337</td>\n",
       "      <td>22.566524</td>\n",
       "      <td>22.493677</td>\n",
       "      <td>22.134087</td>\n",
       "      <td>19.908536</td>\n",
       "      <td>0.0</td>\n",
       "      <td>5.288267</td>\n",
       "      <td>1</td>\n",
       "    </tr>\n",
       "  </tbody>\n",
       "</table>\n",
       "</div>"
      ],
      "text/plain": [
       "   inst_id  instkind_hospital  instkind_traditional_clinic   revenue1  \\\n",
       "0        1                0.0                          0.0  22.162515   \n",
       "1        3                0.0                          0.0  23.980280   \n",
       "2        4                0.0                          0.0  20.727778   \n",
       "3        7                0.0                          0.0  25.006954   \n",
       "4        9                0.0                          0.0  24.615974   \n",
       "\n",
       "   salescost1       sga1    salary1  liquidAsset1  quickAsset1  receivableS1  \\\n",
       "0    0.000000  22.099796  21.433189     20.735886    20.720935     19.968362   \n",
       "1    9.659782  23.481393  19.521179     19.074269    19.037270     10.917985   \n",
       "2   20.060616  19.918561  19.507228     19.422937    19.351593     15.906875   \n",
       "3    0.000000  24.981392  24.182293     23.291406    23.168630      0.000000   \n",
       "4    0.000000  24.587275  23.920337     22.566524    22.493677     22.134087   \n",
       "\n",
       "   inventoryAsset2  receivableL2  employee2  OC  \n",
       "0        16.425505           0.0   4.174387   1  \n",
       "1        16.044684           0.0   6.701960   1  \n",
       "2         0.000000           0.0   0.693147   1  \n",
       "3        20.934483           0.0   6.498282   1  \n",
       "4        19.908536           0.0   5.288267   1  "
      ]
     },
     "execution_count": 4,
     "metadata": {},
     "output_type": "execute_result"
    }
   ],
   "source": [
    "train_dt = pd.read_csv('D:/숙탯 2기/2022-여름-캐글/최종데이터/Train_dt.csv')\n",
    "train_dt.drop('instkind_nan', axis=1, inplace=True)\n",
    "\n",
    "train_dt.head()"
   ]
  },
  {
   "cell_type": "code",
   "execution_count": 5,
   "id": "5a7aa830",
   "metadata": {
    "scrolled": true
   },
   "outputs": [
    {
     "data": {
      "text/plain": [
       "(301, 14)"
      ]
     },
     "execution_count": 5,
     "metadata": {},
     "output_type": "execute_result"
    }
   ],
   "source": [
    "train_dt.shape"
   ]
  },
  {
   "cell_type": "code",
   "execution_count": null,
   "id": "d97a246e",
   "metadata": {},
   "outputs": [],
   "source": []
  },
  {
   "cell_type": "code",
   "execution_count": 6,
   "id": "ade828dd",
   "metadata": {},
   "outputs": [],
   "source": [
    "dtree = DecisionTreeClassifier(max_depth = 1)\n",
    "logreg = LogisticRegression()"
   ]
  },
  {
   "cell_type": "markdown",
   "id": "2137deb2",
   "metadata": {},
   "source": [
    "# 1. 전체 column"
   ]
  },
  {
   "cell_type": "markdown",
   "id": "16399bdb",
   "metadata": {},
   "source": [
    "### 1) accuracy 기준으로 튜닝"
   ]
  },
  {
   "cell_type": "code",
   "execution_count": 7,
   "id": "54476efc",
   "metadata": {},
   "outputs": [],
   "source": [
    "X_train = train_df.drop('OC', axis=1)\n",
    "y_train = train_df['OC']\n",
    "\n",
    "X_train, X_val, y_train, y_val = train_test_split(X_train, y_train, test_size=0.4, random_state=42)\n",
    "\n",
    "X_val, X_test, y_val, y_test = train_test_split(X_val, y_val, test_size=0.5, random_state=42)\n",
    "\n",
    "smote = SMOTE(random_state=42)\n",
    "X_tr_over, y_tr_over = smote.fit_resample(X_train, y_train)"
   ]
  },
  {
   "cell_type": "code",
   "execution_count": 8,
   "id": "d61b5f17",
   "metadata": {},
   "outputs": [],
   "source": [
    "def objective1(trial):\n",
    "    param = {\n",
    "        'base_estimator' : trial.suggest_categorical('base_estimator', [dtree, logreg]),\n",
    "        'n_estimators':trial.suggest_int('n_estimators',50,80,step=2),\n",
    "        'algorithm' : trial.suggest_categorical('algorithm', ['SAMME', 'SAMME.R']),\n",
    "        'learning_rate': trial.suggest_float('learning_rate', 0.1,2.5,step = 0.0000005),\n",
    "        }\n",
    "        \n",
    "    ada = AdaBoostClassifier(**param)\n",
    "    ada.fit(X_tr_over, y_tr_over)\n",
    "    pred = ada.predict(X_val)\n",
    "    accuracy = accuracy_score(y_val, pred)\n",
    "    \n",
    "    return accuracy"
   ]
  },
  {
   "cell_type": "code",
   "execution_count": 9,
   "id": "8a1eead4",
   "metadata": {},
   "outputs": [
    {
     "name": "stderr",
     "output_type": "stream",
     "text": [
      "\u001b[32m[I 2022-09-02 16:58:27,993]\u001b[0m A new study created in memory with name: ada_parameter_opt\u001b[0m\n",
      "\u001b[32m[I 2022-09-02 16:58:30,913]\u001b[0m Trial 0 finished with value: 0.9333333333333333 and parameters: {'base_estimator': LogisticRegression(), 'n_estimators': 72, 'algorithm': 'SAMME', 'learning_rate': 0.47438649999999993}. Best is trial 0 with value: 0.9333333333333333.\u001b[0m\n",
      "\u001b[32m[I 2022-09-02 16:58:31,246]\u001b[0m Trial 1 finished with value: 0.85 and parameters: {'base_estimator': LogisticRegression(), 'n_estimators': 68, 'algorithm': 'SAMME', 'learning_rate': 2.427784}. Best is trial 0 with value: 0.9333333333333333.\u001b[0m\n",
      "\u001b[32m[I 2022-09-02 16:58:31,547]\u001b[0m Trial 2 finished with value: 0.9 and parameters: {'base_estimator': DecisionTreeClassifier(max_depth=1), 'n_estimators': 54, 'algorithm': 'SAMME.R', 'learning_rate': 1.3594155}. Best is trial 0 with value: 0.9333333333333333.\u001b[0m\n",
      "\u001b[32m[I 2022-09-02 16:58:31,830]\u001b[0m Trial 3 finished with value: 0.95 and parameters: {'base_estimator': DecisionTreeClassifier(max_depth=1), 'n_estimators': 68, 'algorithm': 'SAMME.R', 'learning_rate': 0.9792685}. Best is trial 3 with value: 0.95.\u001b[0m\n",
      "\u001b[32m[I 2022-09-02 16:58:33,648]\u001b[0m Trial 4 finished with value: 0.9333333333333333 and parameters: {'base_estimator': LogisticRegression(), 'n_estimators': 56, 'algorithm': 'SAMME.R', 'learning_rate': 0.211481}. Best is trial 3 with value: 0.95.\u001b[0m\n",
      "\u001b[32m[I 2022-09-02 16:58:34,041]\u001b[0m Trial 5 finished with value: 0.35 and parameters: {'base_estimator': DecisionTreeClassifier(max_depth=1), 'n_estimators': 52, 'algorithm': 'SAMME.R', 'learning_rate': 2.040154}. Best is trial 3 with value: 0.95.\u001b[0m\n",
      "\u001b[32m[I 2022-09-02 16:58:34,361]\u001b[0m Trial 6 finished with value: 0.95 and parameters: {'base_estimator': DecisionTreeClassifier(max_depth=1), 'n_estimators': 70, 'algorithm': 'SAMME', 'learning_rate': 1.2884245}. Best is trial 3 with value: 0.95.\u001b[0m\n",
      "\u001b[32m[I 2022-09-02 16:58:36,736]\u001b[0m Trial 7 finished with value: 0.9333333333333333 and parameters: {'base_estimator': LogisticRegression(), 'n_estimators': 58, 'algorithm': 'SAMME', 'learning_rate': 1.3481635}. Best is trial 3 with value: 0.95.\u001b[0m\n",
      "\u001b[32m[I 2022-09-02 16:58:37,183]\u001b[0m Trial 8 finished with value: 0.26666666666666666 and parameters: {'base_estimator': DecisionTreeClassifier(max_depth=1), 'n_estimators': 80, 'algorithm': 'SAMME.R', 'learning_rate': 2.247586}. Best is trial 3 with value: 0.95.\u001b[0m\n",
      "\u001b[32m[I 2022-09-02 16:58:39,994]\u001b[0m Trial 9 finished with value: 0.9333333333333333 and parameters: {'base_estimator': LogisticRegression(), 'n_estimators': 52, 'algorithm': 'SAMME', 'learning_rate': 0.8807925}. Best is trial 3 with value: 0.95.\u001b[0m\n"
     ]
    },
    {
     "name": "stdout",
     "output_type": "stream",
     "text": [
      "Best Score: 0.95\n",
      "Best trial {'base_estimator': DecisionTreeClassifier(max_depth=1), 'n_estimators': 68, 'algorithm': 'SAMME.R', 'learning_rate': 0.9792685}\n"
     ]
    }
   ],
   "source": [
    "sampler = TPESampler(seed=42)\n",
    "\n",
    "study = optuna.create_study(\n",
    "    study_name = 'ada_parameter_opt',\n",
    "    direction = 'maximize',\n",
    "    sampler = sampler)\n",
    "\n",
    "study.optimize(objective1, n_trials=10)\n",
    "\n",
    "print(\"Best Score:\",study.best_value)\n",
    "print(\"Best trial\",study.best_trial.params)"
   ]
  },
  {
   "cell_type": "code",
   "execution_count": 10,
   "id": "c6975f4e",
   "metadata": {},
   "outputs": [],
   "source": [
    "def clf_eval(y_test, pred):\n",
    "    accuracy = accuracy_score(y_test, pred)\n",
    "    precision = precision_score(y_test, pred)\n",
    "    recall = recall_score(y_test, pred)\n",
    "    print('오차행렬')\n",
    "    classificationSummary(y_test, pred)\n",
    "    print()\n",
    "    print('정확도 : {:.4f}\\n정밀도 : {:.4f}\\n재현율 : {:.4f}'.format(accuracy, precision, recall))\n",
    "    print('\\nAUC : {:.4f}'.format(roc_auc_score(y_test, pred)))"
   ]
  },
  {
   "cell_type": "code",
   "execution_count": 11,
   "id": "137bc11f",
   "metadata": {
    "scrolled": true
   },
   "outputs": [
    {
     "name": "stdout",
     "output_type": "stream",
     "text": [
      "\n",
      "Confusion Matrix (Accuracy 0.9500)\n",
      "\n",
      "       Prediction\n",
      "Actual  0  1\n",
      "     0  0  1\n",
      "     1  2 57\n",
      "\n",
      "AUC: 0.4830508474576271\n"
     ]
    }
   ],
   "source": [
    "ada = AdaBoostClassifier(**study.best_params)\n",
    "ada.fit(X_tr_over, y_tr_over)\n",
    "\n",
    "print()\n",
    "classificationSummary(y_val, ada.predict(X_val))\n",
    "print('\\nAUC:', roc_auc_score(y_val, ada.predict(X_val)))"
   ]
  },
  {
   "cell_type": "code",
   "execution_count": 13,
   "id": "9ae9a129",
   "metadata": {},
   "outputs": [
    {
     "name": "stdout",
     "output_type": "stream",
     "text": [
      "오차행렬\n",
      "Confusion Matrix (Accuracy 0.9016)\n",
      "\n",
      "       Prediction\n",
      "Actual  0  1\n",
      "     0  0  5\n",
      "     1  1 55\n",
      "\n",
      "정확도 : 0.9016\n",
      "정밀도 : 0.9167\n",
      "재현율 : 0.9821\n",
      "\n",
      "AUC : 0.4911\n"
     ]
    }
   ],
   "source": [
    "clf_eval(y_test, ada.predict(X_test))"
   ]
  },
  {
   "cell_type": "markdown",
   "id": "90109acc",
   "metadata": {},
   "source": [
    "### 2) AUC 기준"
   ]
  },
  {
   "cell_type": "code",
   "execution_count": 14,
   "id": "f58073a2",
   "metadata": {},
   "outputs": [],
   "source": [
    "def objective2(trial):\n",
    "    param = {\n",
    "        'base_estimator' : trial.suggest_categorical('base_estimator', [dtree, logreg]),\n",
    "        'n_estimators':trial.suggest_int('n_estimators',50,80,step=2),\n",
    "        'algorithm' : trial.suggest_categorical('algorithm', ['SAMME', 'SAMME.R']),\n",
    "        'learning_rate': trial.suggest_float('learning_rate', 0.1,2.5,step = 0.0000005),\n",
    "        }\n",
    "        \n",
    "    ada = AdaBoostClassifier(**param)\n",
    "    ada.fit(X_tr_over, y_tr_over)\n",
    "    pred = ada.predict(X_val)\n",
    "    AUC = roc_auc_score(y_val, ada.predict(X_val))\n",
    "    return AUC"
   ]
  },
  {
   "cell_type": "code",
   "execution_count": 15,
   "id": "fd5a2ef6",
   "metadata": {},
   "outputs": [
    {
     "name": "stderr",
     "output_type": "stream",
     "text": [
      "\u001b[32m[I 2022-09-02 16:59:42,951]\u001b[0m A new study created in memory with name: ada_parameter_opt\u001b[0m\n",
      "\u001b[32m[I 2022-09-02 16:59:45,676]\u001b[0m Trial 0 finished with value: 0.9661016949152542 and parameters: {'base_estimator': LogisticRegression(), 'n_estimators': 72, 'algorithm': 'SAMME', 'learning_rate': 0.47438649999999993}. Best is trial 0 with value: 0.9661016949152542.\u001b[0m\n",
      "\u001b[32m[I 2022-09-02 16:59:46,010]\u001b[0m Trial 1 finished with value: 0.4322033898305085 and parameters: {'base_estimator': LogisticRegression(), 'n_estimators': 68, 'algorithm': 'SAMME', 'learning_rate': 2.427784}. Best is trial 0 with value: 0.9661016949152542.\u001b[0m\n",
      "\u001b[32m[I 2022-09-02 16:59:46,316]\u001b[0m Trial 2 finished with value: 0.4576271186440678 and parameters: {'base_estimator': DecisionTreeClassifier(max_depth=1), 'n_estimators': 54, 'algorithm': 'SAMME.R', 'learning_rate': 1.3594155}. Best is trial 0 with value: 0.9661016949152542.\u001b[0m\n",
      "\u001b[32m[I 2022-09-02 16:59:46,906]\u001b[0m Trial 3 finished with value: 0.4830508474576271 and parameters: {'base_estimator': DecisionTreeClassifier(max_depth=1), 'n_estimators': 68, 'algorithm': 'SAMME.R', 'learning_rate': 0.9792685}. Best is trial 0 with value: 0.9661016949152542.\u001b[0m\n",
      "\u001b[32m[I 2022-09-02 16:59:48,852]\u001b[0m Trial 4 finished with value: 0.9661016949152542 and parameters: {'base_estimator': LogisticRegression(), 'n_estimators': 56, 'algorithm': 'SAMME.R', 'learning_rate': 0.211481}. Best is trial 0 with value: 0.9661016949152542.\u001b[0m\n",
      "\u001b[32m[I 2022-09-02 16:59:49,119]\u001b[0m Trial 5 finished with value: 0.6694915254237288 and parameters: {'base_estimator': DecisionTreeClassifier(max_depth=1), 'n_estimators': 52, 'algorithm': 'SAMME.R', 'learning_rate': 2.040154}. Best is trial 0 with value: 0.9661016949152542.\u001b[0m\n",
      "\u001b[32m[I 2022-09-02 16:59:49,366]\u001b[0m Trial 6 finished with value: 0.4830508474576271 and parameters: {'base_estimator': DecisionTreeClassifier(max_depth=1), 'n_estimators': 70, 'algorithm': 'SAMME', 'learning_rate': 1.2884245}. Best is trial 0 with value: 0.9661016949152542.\u001b[0m\n",
      "\u001b[32m[I 2022-09-02 16:59:51,328]\u001b[0m Trial 7 finished with value: 0.9661016949152542 and parameters: {'base_estimator': LogisticRegression(), 'n_estimators': 58, 'algorithm': 'SAMME', 'learning_rate': 1.3481635}. Best is trial 0 with value: 0.9661016949152542.\u001b[0m\n",
      "\u001b[32m[I 2022-09-02 16:59:51,672]\u001b[0m Trial 8 finished with value: 0.6271186440677966 and parameters: {'base_estimator': DecisionTreeClassifier(max_depth=1), 'n_estimators': 80, 'algorithm': 'SAMME.R', 'learning_rate': 2.247586}. Best is trial 0 with value: 0.9661016949152542.\u001b[0m\n",
      "\u001b[32m[I 2022-09-02 16:59:53,521]\u001b[0m Trial 9 finished with value: 0.9661016949152542 and parameters: {'base_estimator': LogisticRegression(), 'n_estimators': 52, 'algorithm': 'SAMME', 'learning_rate': 0.8807925}. Best is trial 0 with value: 0.9661016949152542.\u001b[0m\n"
     ]
    },
    {
     "name": "stdout",
     "output_type": "stream",
     "text": [
      "Best Score: 0.9661016949152542\n",
      "Best trial {'base_estimator': LogisticRegression(), 'n_estimators': 72, 'algorithm': 'SAMME', 'learning_rate': 0.47438649999999993}\n"
     ]
    }
   ],
   "source": [
    "sampler = TPESampler(seed=42)\n",
    "\n",
    "study = optuna.create_study(\n",
    "    study_name = 'ada_parameter_opt',\n",
    "    direction = 'maximize',\n",
    "    sampler = sampler)\n",
    "\n",
    "study.optimize(objective2, n_trials=10)\n",
    "\n",
    "print(\"Best Score:\",study.best_value)\n",
    "print(\"Best trial\",study.best_trial.params)"
   ]
  },
  {
   "cell_type": "code",
   "execution_count": 16,
   "id": "0511ccb5",
   "metadata": {},
   "outputs": [
    {
     "name": "stdout",
     "output_type": "stream",
     "text": [
      "\n",
      "Confusion Matrix (Accuracy 0.9333)\n",
      "\n",
      "       Prediction\n",
      "Actual  0  1\n",
      "     0  1  0\n",
      "     1  4 55\n",
      "\n",
      "AUC: 0.9661016949152542\n"
     ]
    }
   ],
   "source": [
    "ada = AdaBoostClassifier(**study.best_params)\n",
    "ada.fit(X_tr_over, y_tr_over)\n",
    "\n",
    "print()\n",
    "classificationSummary(y_val, ada.predict(X_val))\n",
    "print('\\nAUC:', roc_auc_score(y_val, ada.predict(X_val)))"
   ]
  },
  {
   "cell_type": "code",
   "execution_count": 17,
   "id": "c713cb71",
   "metadata": {},
   "outputs": [
    {
     "name": "stdout",
     "output_type": "stream",
     "text": [
      "오차행렬\n",
      "Confusion Matrix (Accuracy 0.8852)\n",
      "\n",
      "       Prediction\n",
      "Actual  0  1\n",
      "     0  0  5\n",
      "     1  2 54\n",
      "\n",
      "정확도 : 0.8852\n",
      "정밀도 : 0.9153\n",
      "재현율 : 0.9643\n",
      "\n",
      "AUC : 0.4821\n"
     ]
    }
   ],
   "source": [
    "clf_eval(y_test, ada.predict(X_test))"
   ]
  },
  {
   "cell_type": "markdown",
   "id": "785ee252",
   "metadata": {},
   "source": [
    "# 2. Train_lr"
   ]
  },
  {
   "cell_type": "code",
   "execution_count": 18,
   "id": "41f85a83",
   "metadata": {},
   "outputs": [],
   "source": [
    "X_train = train_lr.drop('OC', axis=1)\n",
    "y_train = train_lr['OC']\n",
    "\n",
    "X_train, X_val, y_train, y_val = train_test_split(X_train, y_train, test_size=0.4, random_state=42)\n",
    "\n",
    "X_val, X_test, y_val, y_test = train_test_split(X_val, y_val, test_size=0.5, random_state=42)\n",
    "\n",
    "smote = SMOTE(random_state=42)\n",
    "X_tr_over, y_tr_over = smote.fit_resample(X_train, y_train)"
   ]
  },
  {
   "cell_type": "markdown",
   "id": "24c7c9a1",
   "metadata": {},
   "source": [
    "### 1) accuracy 기준으로 튜닝"
   ]
  },
  {
   "cell_type": "code",
   "execution_count": 19,
   "id": "d9aeaba7",
   "metadata": {},
   "outputs": [
    {
     "name": "stderr",
     "output_type": "stream",
     "text": [
      "\u001b[32m[I 2022-09-02 17:00:45,106]\u001b[0m A new study created in memory with name: ada_parameter_opt\u001b[0m\n",
      "\u001b[32m[I 2022-09-02 17:00:47,497]\u001b[0m Trial 0 finished with value: 0.95 and parameters: {'base_estimator': LogisticRegression(), 'n_estimators': 72, 'algorithm': 'SAMME', 'learning_rate': 0.47438649999999993}. Best is trial 0 with value: 0.95.\u001b[0m\n",
      "\u001b[32m[I 2022-09-02 17:00:47,934]\u001b[0m Trial 1 finished with value: 0.016666666666666666 and parameters: {'base_estimator': LogisticRegression(), 'n_estimators': 68, 'algorithm': 'SAMME', 'learning_rate': 2.427784}. Best is trial 0 with value: 0.95.\u001b[0m\n",
      "\u001b[32m[I 2022-09-02 17:00:48,154]\u001b[0m Trial 2 finished with value: 0.9333333333333333 and parameters: {'base_estimator': DecisionTreeClassifier(max_depth=1), 'n_estimators': 54, 'algorithm': 'SAMME.R', 'learning_rate': 1.3594155}. Best is trial 0 with value: 0.95.\u001b[0m\n",
      "\u001b[32m[I 2022-09-02 17:00:48,376]\u001b[0m Trial 3 finished with value: 0.9166666666666666 and parameters: {'base_estimator': DecisionTreeClassifier(max_depth=1), 'n_estimators': 68, 'algorithm': 'SAMME.R', 'learning_rate': 0.9792685}. Best is trial 0 with value: 0.95.\u001b[0m\n",
      "\u001b[32m[I 2022-09-02 17:00:49,919]\u001b[0m Trial 4 finished with value: 0.95 and parameters: {'base_estimator': LogisticRegression(), 'n_estimators': 56, 'algorithm': 'SAMME.R', 'learning_rate': 0.211481}. Best is trial 0 with value: 0.95.\u001b[0m\n",
      "\u001b[32m[I 2022-09-02 17:00:50,115]\u001b[0m Trial 5 finished with value: 0.8333333333333334 and parameters: {'base_estimator': DecisionTreeClassifier(max_depth=1), 'n_estimators': 52, 'algorithm': 'SAMME.R', 'learning_rate': 2.040154}. Best is trial 0 with value: 0.95.\u001b[0m\n",
      "\u001b[32m[I 2022-09-02 17:00:50,261]\u001b[0m Trial 6 finished with value: 0.9333333333333333 and parameters: {'base_estimator': DecisionTreeClassifier(max_depth=1), 'n_estimators': 70, 'algorithm': 'SAMME', 'learning_rate': 1.2884245}. Best is trial 0 with value: 0.95.\u001b[0m\n",
      "\u001b[32m[I 2022-09-02 17:00:52,118]\u001b[0m Trial 7 finished with value: 0.95 and parameters: {'base_estimator': LogisticRegression(), 'n_estimators': 58, 'algorithm': 'SAMME', 'learning_rate': 1.3481635}. Best is trial 0 with value: 0.95.\u001b[0m\n",
      "\u001b[32m[I 2022-09-02 17:00:52,451]\u001b[0m Trial 8 finished with value: 0.8333333333333334 and parameters: {'base_estimator': DecisionTreeClassifier(max_depth=1), 'n_estimators': 80, 'algorithm': 'SAMME.R', 'learning_rate': 2.247586}. Best is trial 0 with value: 0.95.\u001b[0m\n",
      "\u001b[32m[I 2022-09-02 17:00:53,621]\u001b[0m Trial 9 finished with value: 0.95 and parameters: {'base_estimator': LogisticRegression(), 'n_estimators': 52, 'algorithm': 'SAMME', 'learning_rate': 0.8807925}. Best is trial 0 with value: 0.95.\u001b[0m\n"
     ]
    },
    {
     "name": "stdout",
     "output_type": "stream",
     "text": [
      "Best Score: 0.95\n",
      "Best trial {'base_estimator': LogisticRegression(), 'n_estimators': 72, 'algorithm': 'SAMME', 'learning_rate': 0.47438649999999993}\n"
     ]
    }
   ],
   "source": [
    "sampler = TPESampler(seed=42)\n",
    "\n",
    "study = optuna.create_study(\n",
    "    study_name = 'ada_parameter_opt',\n",
    "    direction = 'maximize',\n",
    "    sampler = sampler)\n",
    "\n",
    "study.optimize(objective1, n_trials=10)\n",
    "\n",
    "print(\"Best Score:\",study.best_value)\n",
    "print(\"Best trial\",study.best_trial.params)"
   ]
  },
  {
   "cell_type": "code",
   "execution_count": 20,
   "id": "9ba7bcd2",
   "metadata": {},
   "outputs": [
    {
     "name": "stdout",
     "output_type": "stream",
     "text": [
      "\n",
      "Confusion Matrix (Accuracy 0.9500)\n",
      "\n",
      "       Prediction\n",
      "Actual  0  1\n",
      "     0  1  0\n",
      "     1  3 56\n",
      "\n",
      "AUC: 0.9745762711864407\n"
     ]
    }
   ],
   "source": [
    "ada = AdaBoostClassifier(**study.best_params)\n",
    "ada.fit(X_tr_over, y_tr_over)\n",
    "\n",
    "print()\n",
    "classificationSummary(y_val, ada.predict(X_val))\n",
    "print('\\nAUC:', roc_auc_score(y_val, ada.predict(X_val)))"
   ]
  },
  {
   "cell_type": "code",
   "execution_count": 21,
   "id": "53cec68e",
   "metadata": {},
   "outputs": [
    {
     "name": "stdout",
     "output_type": "stream",
     "text": [
      "오차행렬\n",
      "Confusion Matrix (Accuracy 0.8689)\n",
      "\n",
      "       Prediction\n",
      "Actual  0  1\n",
      "     0  0  5\n",
      "     1  3 53\n",
      "\n",
      "정확도 : 0.8689\n",
      "정밀도 : 0.9138\n",
      "재현율 : 0.9464\n",
      "\n",
      "AUC : 0.4732\n"
     ]
    }
   ],
   "source": [
    "clf_eval(y_test, ada.predict(X_test))"
   ]
  },
  {
   "cell_type": "markdown",
   "id": "99f19848",
   "metadata": {},
   "source": [
    "### 2) AUC 기준"
   ]
  },
  {
   "cell_type": "code",
   "execution_count": 22,
   "id": "b2437884",
   "metadata": {},
   "outputs": [
    {
     "name": "stderr",
     "output_type": "stream",
     "text": [
      "\u001b[32m[I 2022-09-02 17:01:06,021]\u001b[0m A new study created in memory with name: ada_parameter_opt\u001b[0m\n",
      "\u001b[32m[I 2022-09-02 17:01:07,852]\u001b[0m Trial 0 finished with value: 0.9745762711864407 and parameters: {'base_estimator': LogisticRegression(), 'n_estimators': 72, 'algorithm': 'SAMME', 'learning_rate': 0.47438649999999993}. Best is trial 0 with value: 0.9745762711864407.\u001b[0m\n",
      "\u001b[32m[I 2022-09-02 17:01:08,333]\u001b[0m Trial 1 finished with value: 0.5 and parameters: {'base_estimator': LogisticRegression(), 'n_estimators': 68, 'algorithm': 'SAMME', 'learning_rate': 2.427784}. Best is trial 0 with value: 0.9745762711864407.\u001b[0m\n",
      "\u001b[32m[I 2022-09-02 17:01:08,553]\u001b[0m Trial 2 finished with value: 0.4745762711864407 and parameters: {'base_estimator': DecisionTreeClassifier(max_depth=1), 'n_estimators': 54, 'algorithm': 'SAMME.R', 'learning_rate': 1.3594155}. Best is trial 0 with value: 0.9745762711864407.\u001b[0m\n",
      "\u001b[32m[I 2022-09-02 17:01:08,811]\u001b[0m Trial 3 finished with value: 0.4661016949152542 and parameters: {'base_estimator': DecisionTreeClassifier(max_depth=1), 'n_estimators': 68, 'algorithm': 'SAMME.R', 'learning_rate': 0.9792685}. Best is trial 0 with value: 0.9745762711864407.\u001b[0m\n",
      "\u001b[32m[I 2022-09-02 17:01:10,597]\u001b[0m Trial 4 finished with value: 0.9745762711864407 and parameters: {'base_estimator': LogisticRegression(), 'n_estimators': 56, 'algorithm': 'SAMME.R', 'learning_rate': 0.211481}. Best is trial 0 with value: 0.9745762711864407.\u001b[0m\n",
      "\u001b[32m[I 2022-09-02 17:01:10,827]\u001b[0m Trial 5 finished with value: 0.423728813559322 and parameters: {'base_estimator': DecisionTreeClassifier(max_depth=1), 'n_estimators': 52, 'algorithm': 'SAMME.R', 'learning_rate': 2.040154}. Best is trial 0 with value: 0.9745762711864407.\u001b[0m\n",
      "\u001b[32m[I 2022-09-02 17:01:11,077]\u001b[0m Trial 6 finished with value: 0.4745762711864407 and parameters: {'base_estimator': DecisionTreeClassifier(max_depth=1), 'n_estimators': 70, 'algorithm': 'SAMME', 'learning_rate': 1.2884245}. Best is trial 0 with value: 0.9745762711864407.\u001b[0m\n",
      "\u001b[32m[I 2022-09-02 17:01:13,135]\u001b[0m Trial 7 finished with value: 0.9745762711864407 and parameters: {'base_estimator': LogisticRegression(), 'n_estimators': 58, 'algorithm': 'SAMME', 'learning_rate': 1.3481635}. Best is trial 0 with value: 0.9745762711864407.\u001b[0m\n",
      "\u001b[32m[I 2022-09-02 17:01:13,383]\u001b[0m Trial 8 finished with value: 0.423728813559322 and parameters: {'base_estimator': DecisionTreeClassifier(max_depth=1), 'n_estimators': 80, 'algorithm': 'SAMME.R', 'learning_rate': 2.247586}. Best is trial 0 with value: 0.9745762711864407.\u001b[0m\n",
      "\u001b[32m[I 2022-09-02 17:01:14,778]\u001b[0m Trial 9 finished with value: 0.9745762711864407 and parameters: {'base_estimator': LogisticRegression(), 'n_estimators': 52, 'algorithm': 'SAMME', 'learning_rate': 0.8807925}. Best is trial 0 with value: 0.9745762711864407.\u001b[0m\n"
     ]
    },
    {
     "name": "stdout",
     "output_type": "stream",
     "text": [
      "Best Score: 0.9745762711864407\n",
      "Best trial {'base_estimator': LogisticRegression(), 'n_estimators': 72, 'algorithm': 'SAMME', 'learning_rate': 0.47438649999999993}\n"
     ]
    }
   ],
   "source": [
    "sampler = TPESampler(seed=42)\n",
    "\n",
    "study = optuna.create_study(\n",
    "    study_name = 'ada_parameter_opt',\n",
    "    direction = 'maximize',\n",
    "    sampler = sampler)\n",
    "\n",
    "study.optimize(objective2, n_trials=10)\n",
    "\n",
    "print(\"Best Score:\",study.best_value)\n",
    "print(\"Best trial\",study.best_trial.params)"
   ]
  },
  {
   "cell_type": "code",
   "execution_count": 23,
   "id": "13a65322",
   "metadata": {},
   "outputs": [
    {
     "name": "stdout",
     "output_type": "stream",
     "text": [
      "\n",
      "Confusion Matrix (Accuracy 0.9500)\n",
      "\n",
      "       Prediction\n",
      "Actual  0  1\n",
      "     0  1  0\n",
      "     1  3 56\n",
      "\n",
      "AUC: 0.9745762711864407\n"
     ]
    }
   ],
   "source": [
    "ada = AdaBoostClassifier(**study.best_params)\n",
    "ada.fit(X_tr_over, y_tr_over)\n",
    "\n",
    "print()\n",
    "classificationSummary(y_val, ada.predict(X_val))\n",
    "print('\\nAUC:', roc_auc_score(y_val, ada.predict(X_val)))"
   ]
  },
  {
   "cell_type": "code",
   "execution_count": 24,
   "id": "e0380b83",
   "metadata": {},
   "outputs": [
    {
     "name": "stdout",
     "output_type": "stream",
     "text": [
      "오차행렬\n",
      "Confusion Matrix (Accuracy 0.8689)\n",
      "\n",
      "       Prediction\n",
      "Actual  0  1\n",
      "     0  0  5\n",
      "     1  3 53\n",
      "\n",
      "정확도 : 0.8689\n",
      "정밀도 : 0.9138\n",
      "재현율 : 0.9464\n",
      "\n",
      "AUC : 0.4732\n"
     ]
    }
   ],
   "source": [
    "clf_eval(y_test, ada.predict(X_test))"
   ]
  },
  {
   "cell_type": "markdown",
   "id": "9f07c90f",
   "metadata": {},
   "source": [
    "# 3. Train_dt"
   ]
  },
  {
   "cell_type": "markdown",
   "id": "9867da3e",
   "metadata": {},
   "source": [
    "### 1) Accuracy 기준"
   ]
  },
  {
   "cell_type": "code",
   "execution_count": 25,
   "id": "4a8488ff",
   "metadata": {},
   "outputs": [],
   "source": [
    "X_train = train_dt.drop('OC', axis=1)\n",
    "y_train = train_dt['OC']\n",
    "\n",
    "X_train, X_val, y_train, y_val = train_test_split(X_train, y_train, test_size=0.4, random_state=42)\n",
    "\n",
    "X_val, X_test, y_val, y_test = train_test_split(X_val, y_val, test_size=0.5, random_state=42)\n",
    "\n",
    "smote = SMOTE(random_state=42)\n",
    "X_tr_over, y_tr_over = smote.fit_resample(X_train, y_train)"
   ]
  },
  {
   "cell_type": "code",
   "execution_count": 26,
   "id": "08f01a63",
   "metadata": {},
   "outputs": [
    {
     "name": "stderr",
     "output_type": "stream",
     "text": [
      "\u001b[32m[I 2022-09-02 17:01:35,701]\u001b[0m A new study created in memory with name: ada_parameter_opt\u001b[0m\n",
      "\u001b[32m[I 2022-09-02 17:01:37,593]\u001b[0m Trial 0 finished with value: 0.7666666666666667 and parameters: {'base_estimator': LogisticRegression(), 'n_estimators': 72, 'algorithm': 'SAMME', 'learning_rate': 0.47438649999999993}. Best is trial 0 with value: 0.7666666666666667.\u001b[0m\n",
      "\u001b[32m[I 2022-09-02 17:01:38,058]\u001b[0m Trial 1 finished with value: 0.9166666666666666 and parameters: {'base_estimator': LogisticRegression(), 'n_estimators': 68, 'algorithm': 'SAMME', 'learning_rate': 2.427784}. Best is trial 1 with value: 0.9166666666666666.\u001b[0m\n",
      "\u001b[32m[I 2022-09-02 17:01:38,218]\u001b[0m Trial 2 finished with value: 0.9166666666666666 and parameters: {'base_estimator': DecisionTreeClassifier(max_depth=1), 'n_estimators': 54, 'algorithm': 'SAMME.R', 'learning_rate': 1.3594155}. Best is trial 1 with value: 0.9166666666666666.\u001b[0m\n",
      "\u001b[32m[I 2022-09-02 17:01:38,418]\u001b[0m Trial 3 finished with value: 0.9166666666666666 and parameters: {'base_estimator': DecisionTreeClassifier(max_depth=1), 'n_estimators': 68, 'algorithm': 'SAMME.R', 'learning_rate': 0.9792685}. Best is trial 1 with value: 0.9166666666666666.\u001b[0m\n",
      "\u001b[32m[I 2022-09-02 17:01:39,530]\u001b[0m Trial 4 finished with value: 0.8333333333333334 and parameters: {'base_estimator': LogisticRegression(), 'n_estimators': 56, 'algorithm': 'SAMME.R', 'learning_rate': 0.211481}. Best is trial 1 with value: 0.9166666666666666.\u001b[0m\n",
      "\u001b[32m[I 2022-09-02 17:01:39,681]\u001b[0m Trial 5 finished with value: 0.45 and parameters: {'base_estimator': DecisionTreeClassifier(max_depth=1), 'n_estimators': 52, 'algorithm': 'SAMME.R', 'learning_rate': 2.040154}. Best is trial 1 with value: 0.9166666666666666.\u001b[0m\n",
      "\u001b[32m[I 2022-09-02 17:01:39,817]\u001b[0m Trial 6 finished with value: 0.9333333333333333 and parameters: {'base_estimator': DecisionTreeClassifier(max_depth=1), 'n_estimators': 70, 'algorithm': 'SAMME', 'learning_rate': 1.2884245}. Best is trial 6 with value: 0.9333333333333333.\u001b[0m\n",
      "\u001b[32m[I 2022-09-02 17:01:40,034]\u001b[0m Trial 7 finished with value: 0.85 and parameters: {'base_estimator': LogisticRegression(), 'n_estimators': 58, 'algorithm': 'SAMME', 'learning_rate': 1.3481635}. Best is trial 6 with value: 0.9333333333333333.\u001b[0m\n",
      "\u001b[32m[I 2022-09-02 17:01:40,267]\u001b[0m Trial 8 finished with value: 0.23333333333333334 and parameters: {'base_estimator': DecisionTreeClassifier(max_depth=1), 'n_estimators': 80, 'algorithm': 'SAMME.R', 'learning_rate': 2.247586}. Best is trial 6 with value: 0.9333333333333333.\u001b[0m\n",
      "\u001b[32m[I 2022-09-02 17:01:40,737]\u001b[0m Trial 9 finished with value: 0.8333333333333334 and parameters: {'base_estimator': LogisticRegression(), 'n_estimators': 52, 'algorithm': 'SAMME', 'learning_rate': 0.8807925}. Best is trial 6 with value: 0.9333333333333333.\u001b[0m\n"
     ]
    },
    {
     "name": "stdout",
     "output_type": "stream",
     "text": [
      "Best Score: 0.9333333333333333\n",
      "Best trial {'base_estimator': DecisionTreeClassifier(max_depth=1), 'n_estimators': 70, 'algorithm': 'SAMME', 'learning_rate': 1.2884245}\n"
     ]
    }
   ],
   "source": [
    "sampler = TPESampler(seed=42)\n",
    "\n",
    "study = optuna.create_study(\n",
    "    study_name = 'ada_parameter_opt',\n",
    "    direction = 'maximize',\n",
    "    sampler = sampler)\n",
    "\n",
    "study.optimize(objective1, n_trials=10)\n",
    "\n",
    "print(\"Best Score:\",study.best_value)\n",
    "print(\"Best trial\",study.best_trial.params)"
   ]
  },
  {
   "cell_type": "code",
   "execution_count": 27,
   "id": "b072703a",
   "metadata": {},
   "outputs": [
    {
     "name": "stdout",
     "output_type": "stream",
     "text": [
      "\n",
      "Confusion Matrix (Accuracy 0.9333)\n",
      "\n",
      "       Prediction\n",
      "Actual  0  1\n",
      "     0  0  1\n",
      "     1  3 56\n",
      "\n",
      "AUC: 0.4745762711864407\n"
     ]
    }
   ],
   "source": [
    "ada = AdaBoostClassifier(**study.best_params)\n",
    "ada.fit(X_tr_over, y_tr_over)\n",
    "\n",
    "print()\n",
    "classificationSummary(y_val, ada.predict(X_val))\n",
    "print('\\nAUC:', roc_auc_score(y_val, ada.predict(X_val)))"
   ]
  },
  {
   "cell_type": "code",
   "execution_count": 28,
   "id": "3d89622e",
   "metadata": {},
   "outputs": [
    {
     "name": "stdout",
     "output_type": "stream",
     "text": [
      "오차행렬\n",
      "Confusion Matrix (Accuracy 0.8689)\n",
      "\n",
      "       Prediction\n",
      "Actual  0  1\n",
      "     0  0  5\n",
      "     1  3 53\n",
      "\n",
      "정확도 : 0.8689\n",
      "정밀도 : 0.9138\n",
      "재현율 : 0.9464\n",
      "\n",
      "AUC : 0.4732\n"
     ]
    }
   ],
   "source": [
    "clf_eval(y_test, ada.predict(X_test))"
   ]
  },
  {
   "cell_type": "markdown",
   "id": "41fa456c",
   "metadata": {},
   "source": [
    "### 2) AUC 기준"
   ]
  },
  {
   "cell_type": "code",
   "execution_count": 29,
   "id": "6b21d1e9",
   "metadata": {
    "scrolled": false
   },
   "outputs": [
    {
     "name": "stderr",
     "output_type": "stream",
     "text": [
      "\u001b[32m[I 2022-09-02 17:02:04,413]\u001b[0m A new study created in memory with name: ada_parameter_opt\u001b[0m\n",
      "\u001b[32m[I 2022-09-02 17:02:06,458]\u001b[0m Trial 0 finished with value: 0.3898305084745763 and parameters: {'base_estimator': LogisticRegression(), 'n_estimators': 72, 'algorithm': 'SAMME', 'learning_rate': 0.47438649999999993}. Best is trial 0 with value: 0.3898305084745763.\u001b[0m\n",
      "\u001b[32m[I 2022-09-02 17:02:07,054]\u001b[0m Trial 1 finished with value: 0.4661016949152542 and parameters: {'base_estimator': LogisticRegression(), 'n_estimators': 68, 'algorithm': 'SAMME', 'learning_rate': 2.427784}. Best is trial 1 with value: 0.4661016949152542.\u001b[0m\n",
      "\u001b[32m[I 2022-09-02 17:02:07,220]\u001b[0m Trial 2 finished with value: 0.4661016949152542 and parameters: {'base_estimator': DecisionTreeClassifier(max_depth=1), 'n_estimators': 54, 'algorithm': 'SAMME.R', 'learning_rate': 1.3594155}. Best is trial 1 with value: 0.4661016949152542.\u001b[0m\n",
      "\u001b[32m[I 2022-09-02 17:02:07,447]\u001b[0m Trial 3 finished with value: 0.4661016949152542 and parameters: {'base_estimator': DecisionTreeClassifier(max_depth=1), 'n_estimators': 68, 'algorithm': 'SAMME.R', 'learning_rate': 0.9792685}. Best is trial 1 with value: 0.4661016949152542.\u001b[0m\n",
      "\u001b[32m[I 2022-09-02 17:02:08,606]\u001b[0m Trial 4 finished with value: 0.423728813559322 and parameters: {'base_estimator': LogisticRegression(), 'n_estimators': 56, 'algorithm': 'SAMME.R', 'learning_rate': 0.211481}. Best is trial 1 with value: 0.4661016949152542.\u001b[0m\n",
      "\u001b[32m[I 2022-09-02 17:02:08,813]\u001b[0m Trial 5 finished with value: 0.711864406779661 and parameters: {'base_estimator': DecisionTreeClassifier(max_depth=1), 'n_estimators': 52, 'algorithm': 'SAMME.R', 'learning_rate': 2.040154}. Best is trial 5 with value: 0.711864406779661.\u001b[0m\n",
      "\u001b[32m[I 2022-09-02 17:02:08,968]\u001b[0m Trial 6 finished with value: 0.4745762711864407 and parameters: {'base_estimator': DecisionTreeClassifier(max_depth=1), 'n_estimators': 70, 'algorithm': 'SAMME', 'learning_rate': 1.2884245}. Best is trial 5 with value: 0.711864406779661.\u001b[0m\n",
      "\u001b[32m[I 2022-09-02 17:02:09,243]\u001b[0m Trial 7 finished with value: 0.4322033898305085 and parameters: {'base_estimator': LogisticRegression(), 'n_estimators': 58, 'algorithm': 'SAMME', 'learning_rate': 1.3481635}. Best is trial 5 with value: 0.711864406779661.\u001b[0m\n",
      "\u001b[32m[I 2022-09-02 17:02:09,483]\u001b[0m Trial 8 finished with value: 0.5338983050847458 and parameters: {'base_estimator': DecisionTreeClassifier(max_depth=1), 'n_estimators': 80, 'algorithm': 'SAMME.R', 'learning_rate': 2.247586}. Best is trial 5 with value: 0.711864406779661.\u001b[0m\n",
      "\u001b[32m[I 2022-09-02 17:02:09,848]\u001b[0m Trial 9 finished with value: 0.423728813559322 and parameters: {'base_estimator': LogisticRegression(), 'n_estimators': 52, 'algorithm': 'SAMME', 'learning_rate': 0.8807925}. Best is trial 5 with value: 0.711864406779661.\u001b[0m\n"
     ]
    },
    {
     "name": "stdout",
     "output_type": "stream",
     "text": [
      "Best Score: 0.711864406779661\n",
      "Best trial {'base_estimator': DecisionTreeClassifier(max_depth=1), 'n_estimators': 52, 'algorithm': 'SAMME.R', 'learning_rate': 2.040154}\n"
     ]
    }
   ],
   "source": [
    "sampler = TPESampler(seed=42)\n",
    "\n",
    "study = optuna.create_study(\n",
    "    study_name = 'ada_parameter_opt',\n",
    "    direction = 'maximize',\n",
    "    sampler = sampler)\n",
    "\n",
    "study.optimize(objective2, n_trials=10)\n",
    "\n",
    "print(\"Best Score:\",study.best_value)\n",
    "print(\"Best trial\",study.best_trial.params)"
   ]
  },
  {
   "cell_type": "code",
   "execution_count": 30,
   "id": "d418b38c",
   "metadata": {},
   "outputs": [
    {
     "name": "stdout",
     "output_type": "stream",
     "text": [
      "\n",
      "Confusion Matrix (Accuracy 0.4500)\n",
      "\n",
      "       Prediction\n",
      "Actual  0  1\n",
      "     0  1  0\n",
      "     1 33 26\n",
      "\n",
      "AUC: 0.7203389830508474\n"
     ]
    }
   ],
   "source": [
    "ada = AdaBoostClassifier(**study.best_params)\n",
    "ada.fit(X_tr_over, y_tr_over)\n",
    "\n",
    "print()\n",
    "classificationSummary(y_val, ada.predict(X_val))\n",
    "print('\\nAUC:', roc_auc_score(y_val, ada.predict(X_val)))"
   ]
  },
  {
   "cell_type": "code",
   "execution_count": 31,
   "id": "18f97d41",
   "metadata": {},
   "outputs": [
    {
     "name": "stdout",
     "output_type": "stream",
     "text": [
      "오차행렬\n",
      "Confusion Matrix (Accuracy 0.4918)\n",
      "\n",
      "       Prediction\n",
      "Actual  0  1\n",
      "     0  3  2\n",
      "     1 29 27\n",
      "\n",
      "정확도 : 0.4918\n",
      "정밀도 : 0.9310\n",
      "재현율 : 0.4821\n",
      "\n",
      "AUC : 0.5411\n"
     ]
    }
   ],
   "source": [
    "clf_eval(y_test, ada.predict(X_test))"
   ]
  },
  {
   "cell_type": "code",
   "execution_count": null,
   "id": "7ff6960f",
   "metadata": {},
   "outputs": [],
   "source": []
  }
 ],
 "metadata": {
  "kernelspec": {
   "display_name": "Python 3 (ipykernel)",
   "language": "python",
   "name": "python3"
  },
  "language_info": {
   "codemirror_mode": {
    "name": "ipython",
    "version": 3
   },
   "file_extension": ".py",
   "mimetype": "text/x-python",
   "name": "python",
   "nbconvert_exporter": "python",
   "pygments_lexer": "ipython3",
   "version": "3.9.7"
  }
 },
 "nbformat": 4,
 "nbformat_minor": 5
}
