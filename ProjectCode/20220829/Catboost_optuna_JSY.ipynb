{
 "cells": [
  {
   "cell_type": "markdown",
   "id": "e4ca9eab",
   "metadata": {},
   "source": [
    "### Reference (Optuna 관련)\n",
    "https://www.dacon.io/codeshare/2750  \n",
    "https://www.dacon.io/codeshare/2704  \n",
    "https://ssoonidev.tistory.com/107  "
   ]
  },
  {
   "cell_type": "code",
   "execution_count": 11,
   "id": "850e1ad9",
   "metadata": {
    "scrolled": true
   },
   "outputs": [
    {
     "name": "stdout",
     "output_type": "stream",
     "text": [
      "Collecting optuna\n",
      "  Downloading optuna-2.10.1-py3-none-any.whl (308 kB)\n",
      "Requirement already satisfied: PyYAML in c:\\users\\judyj\\anaconda3\\lib\\site-packages (from optuna) (6.0)\n",
      "Collecting cmaes>=0.8.2\n",
      "  Downloading cmaes-0.8.2-py3-none-any.whl (15 kB)\n",
      "Requirement already satisfied: packaging>=20.0 in c:\\users\\judyj\\anaconda3\\lib\\site-packages (from optuna) (21.3)\n",
      "Requirement already satisfied: numpy in c:\\users\\judyj\\anaconda3\\lib\\site-packages (from optuna) (1.21.5)\n",
      "Collecting cliff\n",
      "  Downloading cliff-4.0.0-py3-none-any.whl (80 kB)\n",
      "Collecting colorlog\n",
      "  Downloading colorlog-6.6.0-py2.py3-none-any.whl (11 kB)\n",
      "Collecting alembic\n",
      "  Downloading alembic-1.8.1-py3-none-any.whl (209 kB)\n",
      "Requirement already satisfied: tqdm in c:\\users\\judyj\\anaconda3\\lib\\site-packages (from optuna) (4.63.0)\n",
      "Requirement already satisfied: sqlalchemy>=1.1.0 in c:\\users\\judyj\\anaconda3\\lib\\site-packages (from optuna) (1.4.27)\n",
      "Requirement already satisfied: scipy!=1.4.0 in c:\\users\\judyj\\anaconda3\\lib\\site-packages (from optuna) (1.7.3)\n",
      "Requirement already satisfied: pyparsing!=3.0.5,>=2.0.2 in c:\\users\\judyj\\anaconda3\\lib\\site-packages (from packaging>=20.0->optuna) (3.0.4)\n",
      "Requirement already satisfied: greenlet!=0.4.17 in c:\\users\\judyj\\anaconda3\\lib\\site-packages (from sqlalchemy>=1.1.0->optuna) (1.1.1)\n",
      "Collecting Mako\n",
      "  Downloading Mako-1.2.1-py3-none-any.whl (78 kB)\n",
      "Collecting autopage>=0.4.0\n",
      "  Downloading autopage-0.5.1-py3-none-any.whl (29 kB)\n",
      "Collecting PrettyTable>=0.7.2\n",
      "  Downloading prettytable-3.4.0-py3-none-any.whl (27 kB)\n",
      "Collecting stevedore>=2.0.1\n",
      "  Downloading stevedore-4.0.0-py3-none-any.whl (49 kB)\n",
      "Requirement already satisfied: importlib-metadata>=4.4 in c:\\users\\judyj\\anaconda3\\lib\\site-packages (from cliff->optuna) (4.8.2)\n",
      "Collecting cmd2>=1.0.0\n",
      "  Downloading cmd2-2.4.2-py3-none-any.whl (147 kB)\n",
      "Collecting pyperclip>=1.6\n",
      "  Downloading pyperclip-1.8.2.tar.gz (20 kB)\n",
      "Requirement already satisfied: attrs>=16.3.0 in c:\\users\\judyj\\anaconda3\\lib\\site-packages (from cmd2>=1.0.0->cliff->optuna) (21.4.0)\n",
      "Requirement already satisfied: wcwidth>=0.1.7 in c:\\users\\judyj\\anaconda3\\lib\\site-packages (from cmd2>=1.0.0->cliff->optuna) (0.2.5)\n",
      "Collecting pyreadline3\n",
      "  Downloading pyreadline3-3.4.1-py3-none-any.whl (95 kB)\n",
      "Requirement already satisfied: zipp>=0.5 in c:\\users\\judyj\\anaconda3\\lib\\site-packages (from importlib-metadata>=4.4->cliff->optuna) (3.7.0)\n",
      "Collecting pbr!=2.1.0,>=2.0.0\n",
      "  Downloading pbr-5.10.0-py2.py3-none-any.whl (112 kB)\n",
      "Requirement already satisfied: colorama in c:\\users\\judyj\\anaconda3\\lib\\site-packages (from colorlog->optuna) (0.4.4)\n",
      "Requirement already satisfied: MarkupSafe>=0.9.2 in c:\\users\\judyj\\anaconda3\\lib\\site-packages (from Mako->alembic->optuna) (1.1.1)\n",
      "Building wheels for collected packages: pyperclip\n",
      "  Building wheel for pyperclip (setup.py): started\n",
      "  Building wheel for pyperclip (setup.py): finished with status 'done'\n",
      "  Created wheel for pyperclip: filename=pyperclip-1.8.2-py3-none-any.whl size=11137 sha256=35554b6730a581c325e688b467690fcfb683dc5bd25c2564a96786eee46deea0\n",
      "  Stored in directory: c:\\users\\judyj\\appdata\\local\\pip\\cache\\wheels\\0c\\09\\9e\\49e21a6840ef7955b06d47394afef0058f0378c0914e48b8b8\n",
      "Successfully built pyperclip\n",
      "Installing collected packages: pyreadline3, pyperclip, pbr, stevedore, PrettyTable, Mako, cmd2, autopage, colorlog, cmaes, cliff, alembic, optuna\n",
      "Successfully installed Mako-1.2.1 PrettyTable-3.4.0 alembic-1.8.1 autopage-0.5.1 cliff-4.0.0 cmaes-0.8.2 cmd2-2.4.2 colorlog-6.6.0 optuna-2.10.1 pbr-5.10.0 pyperclip-1.8.2 pyreadline3-3.4.1 stevedore-4.0.0\n"
     ]
    }
   ],
   "source": [
    "!pip3 install optuna"
   ]
  },
  {
   "cell_type": "code",
   "execution_count": 1,
   "id": "5d66e22b",
   "metadata": {},
   "outputs": [],
   "source": [
    "import pandas as pd\n",
    "import numpy as np\n",
    "\n",
    "from sklearn.model_selection import train_test_split, cross_val_score, KFold\n",
    "\n",
    "import warnings\n",
    "warnings.filterwarnings('ignore')\n",
    "\n",
    "from catboost import CatBoostClassifier, cv, Pool\n",
    "from sklearn.metrics import accuracy_score, precision_score, recall_score, confusion_matrix, auc, roc_auc_score\n",
    "from dmba import classificationSummary\n",
    "\n",
    "import optuna\n",
    "from optuna import Trial\n",
    "from optuna.samplers import TPESampler\n",
    "\n",
    "from imblearn.over_sampling import SMOTE"
   ]
  },
  {
   "cell_type": "code",
   "execution_count": 2,
   "id": "b59e12a0",
   "metadata": {},
   "outputs": [],
   "source": [
    "train_df = pd.read_csv('D:/숙탯 2기/2022-여름-캐글/최종데이터/Train.csv')\n",
    "test_df = pd.read_csv('D:/숙탯 2기/2022-여름-캐글/최종데이터/Test.csv')\n",
    "\n",
    "train_df['ownerChange'] = round(train_df['ownerChange'])\n",
    "train_df['bedCount_class'] = round(train_df['bedCount_class'])\n",
    "\n",
    "test_df['ownerChange'] = round(train_df['ownerChange'])\n",
    "test_df['bedCount_class'] = round(train_df['bedCount_class'])\n",
    "\n",
    "train_df.drop('instkind_nan', axis=1, inplace=True)\n",
    "test_df.drop('instkind_nan', axis=1, inplace=True)\n",
    "\n",
    "train_df.set_index('inst_id', inplace=True)\n",
    "test_df.set_index('inst_id', inplace=True)"
   ]
  },
  {
   "cell_type": "code",
   "execution_count": 3,
   "id": "a78f417a",
   "metadata": {},
   "outputs": [
    {
     "data": {
      "text/html": [
       "<div>\n",
       "<style scoped>\n",
       "    .dataframe tbody tr th:only-of-type {\n",
       "        vertical-align: middle;\n",
       "    }\n",
       "\n",
       "    .dataframe tbody tr th {\n",
       "        vertical-align: top;\n",
       "    }\n",
       "\n",
       "    .dataframe thead th {\n",
       "        text-align: right;\n",
       "    }\n",
       "</style>\n",
       "<table border=\"1\" class=\"dataframe\">\n",
       "  <thead>\n",
       "    <tr style=\"text-align: right;\">\n",
       "      <th></th>\n",
       "      <th>sido_choongchung</th>\n",
       "      <th>sido_gyeongsang</th>\n",
       "      <th>sido_jeonra</th>\n",
       "      <th>instkind_nursing_hospital</th>\n",
       "      <th>instkind_traditional_hospital</th>\n",
       "      <th>revenue1</th>\n",
       "      <th>sga1</th>\n",
       "      <th>salary1</th>\n",
       "      <th>noe1</th>\n",
       "      <th>interest1</th>\n",
       "      <th>...</th>\n",
       "      <th>profit2</th>\n",
       "      <th>inventoryAsset2</th>\n",
       "      <th>OnonCAsset2</th>\n",
       "      <th>shortLoan2</th>\n",
       "      <th>NCLiabilities2</th>\n",
       "      <th>longLoan2</th>\n",
       "      <th>surplus2</th>\n",
       "      <th>ownerChange</th>\n",
       "      <th>bedCount_class</th>\n",
       "      <th>OC</th>\n",
       "    </tr>\n",
       "    <tr>\n",
       "      <th>inst_id</th>\n",
       "      <th></th>\n",
       "      <th></th>\n",
       "      <th></th>\n",
       "      <th></th>\n",
       "      <th></th>\n",
       "      <th></th>\n",
       "      <th></th>\n",
       "      <th></th>\n",
       "      <th></th>\n",
       "      <th></th>\n",
       "      <th></th>\n",
       "      <th></th>\n",
       "      <th></th>\n",
       "      <th></th>\n",
       "      <th></th>\n",
       "      <th></th>\n",
       "      <th></th>\n",
       "      <th></th>\n",
       "      <th></th>\n",
       "      <th></th>\n",
       "      <th></th>\n",
       "    </tr>\n",
       "  </thead>\n",
       "  <tbody>\n",
       "    <tr>\n",
       "      <th>1</th>\n",
       "      <td>1.0</td>\n",
       "      <td>0.0</td>\n",
       "      <td>0.0</td>\n",
       "      <td>1.0</td>\n",
       "      <td>0.0</td>\n",
       "      <td>22.162515</td>\n",
       "      <td>22.099796</td>\n",
       "      <td>21.433189</td>\n",
       "      <td>16.539187</td>\n",
       "      <td>16.398469</td>\n",
       "      <td>...</td>\n",
       "      <td>19.152229</td>\n",
       "      <td>16.425505</td>\n",
       "      <td>18.798422</td>\n",
       "      <td>0.000000</td>\n",
       "      <td>20.099863</td>\n",
       "      <td>19.781657</td>\n",
       "      <td>20.963246</td>\n",
       "      <td>0.0</td>\n",
       "      <td>3.0</td>\n",
       "      <td>1</td>\n",
       "    </tr>\n",
       "    <tr>\n",
       "      <th>3</th>\n",
       "      <td>0.0</td>\n",
       "      <td>1.0</td>\n",
       "      <td>0.0</td>\n",
       "      <td>0.0</td>\n",
       "      <td>0.0</td>\n",
       "      <td>23.980280</td>\n",
       "      <td>23.481393</td>\n",
       "      <td>19.521179</td>\n",
       "      <td>16.823799</td>\n",
       "      <td>15.443340</td>\n",
       "      <td>...</td>\n",
       "      <td>17.025473</td>\n",
       "      <td>16.044684</td>\n",
       "      <td>15.372413</td>\n",
       "      <td>9.180719</td>\n",
       "      <td>18.812726</td>\n",
       "      <td>17.568559</td>\n",
       "      <td>12.258481</td>\n",
       "      <td>0.0</td>\n",
       "      <td>4.0</td>\n",
       "      <td>1</td>\n",
       "    </tr>\n",
       "    <tr>\n",
       "      <th>4</th>\n",
       "      <td>0.0</td>\n",
       "      <td>0.0</td>\n",
       "      <td>0.0</td>\n",
       "      <td>1.0</td>\n",
       "      <td>0.0</td>\n",
       "      <td>20.727778</td>\n",
       "      <td>19.918561</td>\n",
       "      <td>19.507228</td>\n",
       "      <td>10.308986</td>\n",
       "      <td>0.000000</td>\n",
       "      <td>...</td>\n",
       "      <td>0.000000</td>\n",
       "      <td>0.000000</td>\n",
       "      <td>0.000000</td>\n",
       "      <td>0.000000</td>\n",
       "      <td>0.000000</td>\n",
       "      <td>0.000000</td>\n",
       "      <td>0.000000</td>\n",
       "      <td>0.0</td>\n",
       "      <td>4.0</td>\n",
       "      <td>1</td>\n",
       "    </tr>\n",
       "    <tr>\n",
       "      <th>7</th>\n",
       "      <td>0.0</td>\n",
       "      <td>0.0</td>\n",
       "      <td>0.0</td>\n",
       "      <td>0.0</td>\n",
       "      <td>0.0</td>\n",
       "      <td>25.006954</td>\n",
       "      <td>24.981392</td>\n",
       "      <td>24.182293</td>\n",
       "      <td>20.954034</td>\n",
       "      <td>20.902985</td>\n",
       "      <td>...</td>\n",
       "      <td>20.546991</td>\n",
       "      <td>20.934483</td>\n",
       "      <td>22.088313</td>\n",
       "      <td>22.944579</td>\n",
       "      <td>23.755157</td>\n",
       "      <td>23.437961</td>\n",
       "      <td>22.769775</td>\n",
       "      <td>0.0</td>\n",
       "      <td>4.0</td>\n",
       "      <td>1</td>\n",
       "    </tr>\n",
       "    <tr>\n",
       "      <th>9</th>\n",
       "      <td>0.0</td>\n",
       "      <td>1.0</td>\n",
       "      <td>0.0</td>\n",
       "      <td>0.0</td>\n",
       "      <td>0.0</td>\n",
       "      <td>24.615974</td>\n",
       "      <td>24.587275</td>\n",
       "      <td>23.920337</td>\n",
       "      <td>21.073281</td>\n",
       "      <td>20.991191</td>\n",
       "      <td>...</td>\n",
       "      <td>17.301128</td>\n",
       "      <td>19.908536</td>\n",
       "      <td>20.486709</td>\n",
       "      <td>23.590810</td>\n",
       "      <td>23.784786</td>\n",
       "      <td>23.370010</td>\n",
       "      <td>22.923325</td>\n",
       "      <td>0.0</td>\n",
       "      <td>3.0</td>\n",
       "      <td>1</td>\n",
       "    </tr>\n",
       "  </tbody>\n",
       "</table>\n",
       "<p>5 rows × 28 columns</p>\n",
       "</div>"
      ],
      "text/plain": [
       "         sido_choongchung  sido_gyeongsang  sido_jeonra  \\\n",
       "inst_id                                                   \n",
       "1                     1.0              0.0          0.0   \n",
       "3                     0.0              1.0          0.0   \n",
       "4                     0.0              0.0          0.0   \n",
       "7                     0.0              0.0          0.0   \n",
       "9                     0.0              1.0          0.0   \n",
       "\n",
       "         instkind_nursing_hospital  instkind_traditional_hospital   revenue1  \\\n",
       "inst_id                                                                        \n",
       "1                              1.0                            0.0  22.162515   \n",
       "3                              0.0                            0.0  23.980280   \n",
       "4                              1.0                            0.0  20.727778   \n",
       "7                              0.0                            0.0  25.006954   \n",
       "9                              0.0                            0.0  24.615974   \n",
       "\n",
       "              sga1    salary1       noe1  interest1  ...    profit2  \\\n",
       "inst_id                                              ...              \n",
       "1        22.099796  21.433189  16.539187  16.398469  ...  19.152229   \n",
       "3        23.481393  19.521179  16.823799  15.443340  ...  17.025473   \n",
       "4        19.918561  19.507228  10.308986   0.000000  ...   0.000000   \n",
       "7        24.981392  24.182293  20.954034  20.902985  ...  20.546991   \n",
       "9        24.587275  23.920337  21.073281  20.991191  ...  17.301128   \n",
       "\n",
       "         inventoryAsset2  OnonCAsset2  shortLoan2  NCLiabilities2  longLoan2  \\\n",
       "inst_id                                                                        \n",
       "1              16.425505    18.798422    0.000000       20.099863  19.781657   \n",
       "3              16.044684    15.372413    9.180719       18.812726  17.568559   \n",
       "4               0.000000     0.000000    0.000000        0.000000   0.000000   \n",
       "7              20.934483    22.088313   22.944579       23.755157  23.437961   \n",
       "9              19.908536    20.486709   23.590810       23.784786  23.370010   \n",
       "\n",
       "          surplus2  ownerChange  bedCount_class  OC  \n",
       "inst_id                                              \n",
       "1        20.963246          0.0             3.0   1  \n",
       "3        12.258481          0.0             4.0   1  \n",
       "4         0.000000          0.0             4.0   1  \n",
       "7        22.769775          0.0             4.0   1  \n",
       "9        22.923325          0.0             3.0   1  \n",
       "\n",
       "[5 rows x 28 columns]"
      ]
     },
     "execution_count": 3,
     "metadata": {},
     "output_type": "execute_result"
    }
   ],
   "source": [
    "train_lr = pd.read_csv('D:/숙탯 2기/2022-여름-캐글/최종데이터/Train_lr.csv')\n",
    "\n",
    "train_lr['ownerChange'] = round(train_lr['ownerChange'])\n",
    "train_lr['bedCount_class'] = round(train_lr['bedCount_class'])\n",
    "\n",
    "train_lr.set_index('inst_id', inplace=True)\n",
    "\n",
    "train_lr.head()"
   ]
  },
  {
   "cell_type": "code",
   "execution_count": 4,
   "id": "4adae700",
   "metadata": {},
   "outputs": [
    {
     "data": {
      "text/html": [
       "<div>\n",
       "<style scoped>\n",
       "    .dataframe tbody tr th:only-of-type {\n",
       "        vertical-align: middle;\n",
       "    }\n",
       "\n",
       "    .dataframe tbody tr th {\n",
       "        vertical-align: top;\n",
       "    }\n",
       "\n",
       "    .dataframe thead th {\n",
       "        text-align: right;\n",
       "    }\n",
       "</style>\n",
       "<table border=\"1\" class=\"dataframe\">\n",
       "  <thead>\n",
       "    <tr style=\"text-align: right;\">\n",
       "      <th></th>\n",
       "      <th>inst_id</th>\n",
       "      <th>instkind_hospital</th>\n",
       "      <th>instkind_traditional_clinic</th>\n",
       "      <th>revenue1</th>\n",
       "      <th>salescost1</th>\n",
       "      <th>sga1</th>\n",
       "      <th>salary1</th>\n",
       "      <th>liquidAsset1</th>\n",
       "      <th>quickAsset1</th>\n",
       "      <th>receivableS1</th>\n",
       "      <th>inventoryAsset2</th>\n",
       "      <th>receivableL2</th>\n",
       "      <th>employee2</th>\n",
       "      <th>OC</th>\n",
       "    </tr>\n",
       "  </thead>\n",
       "  <tbody>\n",
       "    <tr>\n",
       "      <th>0</th>\n",
       "      <td>1</td>\n",
       "      <td>0.0</td>\n",
       "      <td>0.0</td>\n",
       "      <td>22.162515</td>\n",
       "      <td>0.000000</td>\n",
       "      <td>22.099796</td>\n",
       "      <td>21.433189</td>\n",
       "      <td>20.735886</td>\n",
       "      <td>20.720935</td>\n",
       "      <td>19.968362</td>\n",
       "      <td>16.425505</td>\n",
       "      <td>0.0</td>\n",
       "      <td>4.174387</td>\n",
       "      <td>1</td>\n",
       "    </tr>\n",
       "    <tr>\n",
       "      <th>1</th>\n",
       "      <td>3</td>\n",
       "      <td>0.0</td>\n",
       "      <td>0.0</td>\n",
       "      <td>23.980280</td>\n",
       "      <td>9.659782</td>\n",
       "      <td>23.481393</td>\n",
       "      <td>19.521179</td>\n",
       "      <td>19.074269</td>\n",
       "      <td>19.037270</td>\n",
       "      <td>10.917985</td>\n",
       "      <td>16.044684</td>\n",
       "      <td>0.0</td>\n",
       "      <td>6.701960</td>\n",
       "      <td>1</td>\n",
       "    </tr>\n",
       "    <tr>\n",
       "      <th>2</th>\n",
       "      <td>4</td>\n",
       "      <td>0.0</td>\n",
       "      <td>0.0</td>\n",
       "      <td>20.727778</td>\n",
       "      <td>20.060616</td>\n",
       "      <td>19.918561</td>\n",
       "      <td>19.507228</td>\n",
       "      <td>19.422937</td>\n",
       "      <td>19.351593</td>\n",
       "      <td>15.906875</td>\n",
       "      <td>0.000000</td>\n",
       "      <td>0.0</td>\n",
       "      <td>0.693147</td>\n",
       "      <td>1</td>\n",
       "    </tr>\n",
       "    <tr>\n",
       "      <th>3</th>\n",
       "      <td>7</td>\n",
       "      <td>0.0</td>\n",
       "      <td>0.0</td>\n",
       "      <td>25.006954</td>\n",
       "      <td>0.000000</td>\n",
       "      <td>24.981392</td>\n",
       "      <td>24.182293</td>\n",
       "      <td>23.291406</td>\n",
       "      <td>23.168630</td>\n",
       "      <td>0.000000</td>\n",
       "      <td>20.934483</td>\n",
       "      <td>0.0</td>\n",
       "      <td>6.498282</td>\n",
       "      <td>1</td>\n",
       "    </tr>\n",
       "    <tr>\n",
       "      <th>4</th>\n",
       "      <td>9</td>\n",
       "      <td>0.0</td>\n",
       "      <td>0.0</td>\n",
       "      <td>24.615974</td>\n",
       "      <td>0.000000</td>\n",
       "      <td>24.587275</td>\n",
       "      <td>23.920337</td>\n",
       "      <td>22.566524</td>\n",
       "      <td>22.493677</td>\n",
       "      <td>22.134087</td>\n",
       "      <td>19.908536</td>\n",
       "      <td>0.0</td>\n",
       "      <td>5.288267</td>\n",
       "      <td>1</td>\n",
       "    </tr>\n",
       "  </tbody>\n",
       "</table>\n",
       "</div>"
      ],
      "text/plain": [
       "   inst_id  instkind_hospital  instkind_traditional_clinic   revenue1  \\\n",
       "0        1                0.0                          0.0  22.162515   \n",
       "1        3                0.0                          0.0  23.980280   \n",
       "2        4                0.0                          0.0  20.727778   \n",
       "3        7                0.0                          0.0  25.006954   \n",
       "4        9                0.0                          0.0  24.615974   \n",
       "\n",
       "   salescost1       sga1    salary1  liquidAsset1  quickAsset1  receivableS1  \\\n",
       "0    0.000000  22.099796  21.433189     20.735886    20.720935     19.968362   \n",
       "1    9.659782  23.481393  19.521179     19.074269    19.037270     10.917985   \n",
       "2   20.060616  19.918561  19.507228     19.422937    19.351593     15.906875   \n",
       "3    0.000000  24.981392  24.182293     23.291406    23.168630      0.000000   \n",
       "4    0.000000  24.587275  23.920337     22.566524    22.493677     22.134087   \n",
       "\n",
       "   inventoryAsset2  receivableL2  employee2  OC  \n",
       "0        16.425505           0.0   4.174387   1  \n",
       "1        16.044684           0.0   6.701960   1  \n",
       "2         0.000000           0.0   0.693147   1  \n",
       "3        20.934483           0.0   6.498282   1  \n",
       "4        19.908536           0.0   5.288267   1  "
      ]
     },
     "execution_count": 4,
     "metadata": {},
     "output_type": "execute_result"
    }
   ],
   "source": [
    "train_dt = pd.read_csv('D:/숙탯 2기/2022-여름-캐글/최종데이터/Train_dt.csv')\n",
    "train_dt.drop('instkind_nan', axis=1, inplace=True)\n",
    "\n",
    "train_dt.head()"
   ]
  },
  {
   "cell_type": "code",
   "execution_count": 5,
   "id": "bbed9a1a",
   "metadata": {},
   "outputs": [],
   "source": [
    "pd.set_option('display.max_columns', None)\n",
    "pd.set_option('display.max_rows', None)"
   ]
  },
  {
   "cell_type": "code",
   "execution_count": null,
   "id": "8e7a92ea",
   "metadata": {},
   "outputs": [],
   "source": []
  },
  {
   "cell_type": "markdown",
   "id": "165cae29",
   "metadata": {},
   "source": [
    "# 1. 67개 columns"
   ]
  },
  {
   "cell_type": "code",
   "execution_count": 6,
   "id": "91d43409",
   "metadata": {},
   "outputs": [],
   "source": [
    "X_train = train_df.drop('OC', axis=1)\n",
    "y_train = train_df['OC']\n",
    "\n",
    "X_train, X_val, y_train, y_val = train_test_split(X_train, y_train, test_size=0.4, random_state=42)\n",
    "\n",
    "X_val, X_test, y_val, y_test = train_test_split(X_val, y_val, test_size=0.5, random_state=42)\n",
    "\n",
    "smote = SMOTE(random_state=42)\n",
    "X_tr_over, y_tr_over = smote.fit_resample(X_train, y_train)"
   ]
  },
  {
   "cell_type": "markdown",
   "id": "b451c282",
   "metadata": {},
   "source": [
    "### 1) accuracy 기준으로 튜닝"
   ]
  },
  {
   "cell_type": "code",
   "execution_count": 7,
   "id": "1879f996",
   "metadata": {},
   "outputs": [],
   "source": [
    "def objective1(trial):\n",
    "    param = {\n",
    "        \"random_state\":42,\n",
    "        'learning_rate' : trial.suggest_loguniform('learning_rate', 0.01, 0.3),\n",
    "        'bagging_temperature' :trial.suggest_loguniform('bagging_temperature', 0.01, 100.00),\n",
    "        \"n_estimators\":trial.suggest_int(\"n_estimators\", 1000, 5000, 10000),\n",
    "        \"max_depth\":trial.suggest_int(\"max_depth\", 4, 16),\n",
    "        'random_strength' :trial.suggest_int('random_strength', 0, 100),\n",
    "        \"colsample_bylevel\": trial.suggest_float(\"colsample_bylevel\", 0.01, 0.1, log=True),\n",
    "        \"l2_leaf_reg\":trial.suggest_float(\"l2_leaf_reg\",1e-8,3e-5),\n",
    "        \"min_child_samples\": trial.suggest_int(\"min_child_samples\", 5, 100),\n",
    "        \"max_bin\": trial.suggest_int(\"max_bin\", 200, 500),\n",
    "        'od_type': trial.suggest_categorical('od_type', ['IncToDec', 'Iter'])\n",
    "        }\n",
    "        \n",
    "    cat = CatBoostClassifier(**param)\n",
    "    cat.fit(X_tr_over, y_tr_over,\n",
    "            eval_set=[(X_tr_over, y_tr_over), (X_val, y_val)],\n",
    "            early_stopping_rounds=35,\n",
    "            verbose=100)\n",
    "    pred = cat.predict(X_val)\n",
    "    accuracy = accuracy_score(y_val, pred)\n",
    "    \n",
    "    return accuracy"
   ]
  },
  {
   "cell_type": "code",
   "execution_count": 8,
   "id": "3093978a",
   "metadata": {
    "scrolled": false
   },
   "outputs": [
    {
     "name": "stderr",
     "output_type": "stream",
     "text": [
      "\u001b[32m[I 2022-09-02 15:38:24,276]\u001b[0m A new study created in memory with name: cat_parameter_opt\u001b[0m\n"
     ]
    },
    {
     "name": "stdout",
     "output_type": "stream",
     "text": [
      "0:\tlearn: 0.6931466\ttest: 0.6931472\ttest1: 0.6931472\tbest: 0.6931472 (0)\ttotal: 150ms\tremaining: 2m 29s\n",
      "100:\tlearn: 0.2334189\ttest: 0.2334434\ttest1: 0.3520380\tbest: 0.3458430 (92)\ttotal: 257ms\tremaining: 2.29s\n"
     ]
    },
    {
     "name": "stderr",
     "output_type": "stream",
     "text": [
      "\u001b[32m[I 2022-09-02 15:38:24,949]\u001b[0m Trial 0 finished with value: 0.9 and parameters: {'learning_rate': 0.03574712922600244, 'bagging_temperature': 63.512210106407046, 'n_estimators': 1000, 'max_depth': 13, 'random_strength': 60, 'colsample_bylevel': 0.014322493718230255, 'l2_leaf_reg': 4.688275664882717e-06, 'min_child_samples': 10, 'max_bin': 460, 'od_type': 'Iter'}. Best is trial 0 with value: 0.9.\u001b[0m\n"
     ]
    },
    {
     "name": "stdout",
     "output_type": "stream",
     "text": [
      "Stopped by overfitting detector  (35 iterations wait)\n",
      "\n",
      "bestTest = 0.29736682\n",
      "bestIteration = 119\n",
      "\n",
      "Shrink model to first 120 iterations.\n",
      "0:\tlearn: 0.6931466\ttest: 0.6931472\ttest1: 0.6931472\tbest: 0.6931472 (0)\ttotal: 643us\tremaining: 643ms\n",
      "100:\tlearn: 0.4938532\ttest: 0.4938783\ttest1: 0.4917815\tbest: 0.4911899 (98)\ttotal: 109ms\tremaining: 973ms\n",
      "200:\tlearn: 0.3447439\ttest: 0.3447570\ttest1: 0.3543914\tbest: 0.3543914 (200)\ttotal: 248ms\tremaining: 987ms\n",
      "300:\tlearn: 0.2628804\ttest: 0.2629073\ttest1: 0.2968388\tbest: 0.2961610 (296)\ttotal: 359ms\tremaining: 834ms\n",
      "400:\tlearn: 0.1645062\ttest: 0.1645390\ttest1: 0.2311673\tbest: 0.2301117 (387)\ttotal: 518ms\tremaining: 776ms\n",
      "500:\tlearn: 0.1352238\ttest: 0.1352555\ttest1: 0.2102038\tbest: 0.2100082 (498)\ttotal: 607ms\tremaining: 606ms\n",
      "600:\tlearn: 0.0958061\ttest: 0.0958398\ttest1: 0.1902497\tbest: 0.1893616 (591)\ttotal: 785ms\tremaining: 522ms\n",
      "700:\tlearn: 0.0622392\ttest: 0.0622730\ttest1: 0.1781886\tbest: 0.1775142 (687)\ttotal: 913ms\tremaining: 391ms\n",
      "800:\tlearn: 0.0433947\ttest: 0.0434238\ttest1: 0.1700023\tbest: 0.1689514 (776)\ttotal: 1.07s\tremaining: 267ms\n"
     ]
    },
    {
     "name": "stderr",
     "output_type": "stream",
     "text": [
      "\u001b[32m[I 2022-09-02 15:38:26,821]\u001b[0m Trial 1 finished with value: 0.95 and parameters: {'learning_rate': 0.010725209743171996, 'bagging_temperature': 75.7947995334801, 'n_estimators': 1000, 'max_depth': 14, 'random_strength': 21, 'colsample_bylevel': 0.015199348301309814, 'l2_leaf_reg': 5.51030125050448e-06, 'min_child_samples': 34, 'max_bin': 357, 'od_type': 'IncToDec'}. Best is trial 1 with value: 0.95.\u001b[0m\n"
     ]
    },
    {
     "name": "stdout",
     "output_type": "stream",
     "text": [
      "Stopped by overfitting detector  (35 iterations wait)\n",
      "\n",
      "bestTest = 0.1689514123\n",
      "bestIteration = 776\n",
      "\n",
      "Shrink model to first 777 iterations.\n",
      "0:\tlearn: 0.6697782\ttest: 0.6698005\ttest1: 0.6725438\tbest: 0.6725438 (0)\ttotal: 1.2ms\tremaining: 1.2s\n"
     ]
    },
    {
     "name": "stderr",
     "output_type": "stream",
     "text": [
      "\u001b[32m[I 2022-09-02 15:38:27,160]\u001b[0m Trial 2 finished with value: 0.9333333333333333 and parameters: {'learning_rate': 0.08012737503998542, 'bagging_temperature': 0.03613894271216528, 'n_estimators': 1000, 'max_depth': 7, 'random_strength': 37, 'colsample_bylevel': 0.028580510658069373, 'l2_leaf_reg': 2.355742708217648e-05, 'min_child_samples': 24, 'max_bin': 354, 'od_type': 'IncToDec'}. Best is trial 1 with value: 0.95.\u001b[0m\n"
     ]
    },
    {
     "name": "stdout",
     "output_type": "stream",
     "text": [
      "Stopped by overfitting detector  (35 iterations wait)\n",
      "\n",
      "bestTest = 0.2381828882\n",
      "bestIteration = 33\n",
      "\n",
      "Shrink model to first 34 iterations.\n",
      "0:\tlearn: 0.6440272\ttest: 0.6440520\ttest1: 0.6272557\tbest: 0.6272557 (0)\ttotal: 2.2ms\tremaining: 2.2s\n"
     ]
    },
    {
     "name": "stderr",
     "output_type": "stream",
     "text": [
      "\u001b[32m[I 2022-09-02 15:38:27,390]\u001b[0m Trial 3 finished with value: 0.9666666666666667 and parameters: {'learning_rate': 0.07896186801026692, 'bagging_temperature': 0.04809461967501574, 'n_estimators': 1000, 'max_depth': 4, 'random_strength': 95, 'colsample_bylevel': 0.0923915031962725, 'l2_leaf_reg': 2.425383647001267e-05, 'min_child_samples': 34, 'max_bin': 229, 'od_type': 'IncToDec'}. Best is trial 3 with value: 0.9666666666666667.\u001b[0m\n"
     ]
    },
    {
     "name": "stdout",
     "output_type": "stream",
     "text": [
      "Stopped by overfitting detector  (35 iterations wait)\n",
      "\n",
      "bestTest = 0.1534122356\n",
      "bestIteration = 32\n",
      "\n",
      "Shrink model to first 33 iterations.\n",
      "0:\tlearn: 0.6931466\ttest: 0.6931472\ttest1: 0.6931472\tbest: 0.6931472 (0)\ttotal: 519us\tremaining: 519ms\n",
      "100:\tlearn: 0.4338679\ttest: 0.4338814\ttest1: 0.4287149\tbest: 0.4287149 (100)\ttotal: 101ms\tremaining: 901ms\n",
      "200:\tlearn: 0.2936906\ttest: 0.2937172\ttest1: 0.3260557\tbest: 0.3260557 (200)\ttotal: 218ms\tremaining: 867ms\n",
      "300:\tlearn: 0.2265145\ttest: 0.2265472\ttest1: 0.2807535\tbest: 0.2807535 (300)\ttotal: 320ms\tremaining: 743ms\n",
      "400:\tlearn: 0.1562684\ttest: 0.1562992\ttest1: 0.2349379\tbest: 0.2349379 (400)\ttotal: 458ms\tremaining: 684ms\n",
      "500:\tlearn: 0.1227990\ttest: 0.1228321\ttest1: 0.2154630\tbest: 0.2145282 (491)\ttotal: 572ms\tremaining: 570ms\n"
     ]
    },
    {
     "name": "stderr",
     "output_type": "stream",
     "text": [
      "\u001b[32m[I 2022-09-02 15:38:28,455]\u001b[0m Trial 4 finished with value: 0.95 and parameters: {'learning_rate': 0.015144860262751412, 'bagging_temperature': 0.9565499215943827, 'n_estimators': 1000, 'max_depth': 4, 'random_strength': 91, 'colsample_bylevel': 0.01814596135349025, 'l2_leaf_reg': 1.987904330777592e-05, 'min_child_samples': 34, 'max_bin': 356, 'od_type': 'IncToDec'}. Best is trial 3 with value: 0.9666666666666667.\u001b[0m\n"
     ]
    },
    {
     "name": "stdout",
     "output_type": "stream",
     "text": [
      "600:\tlearn: 0.0886220\ttest: 0.0886533\ttest1: 0.1850228\tbest: 0.1850228 (600)\ttotal: 683ms\tremaining: 454ms\n",
      "700:\tlearn: 0.0574979\ttest: 0.0575296\ttest1: 0.1813766\tbest: 0.1737659 (680)\ttotal: 787ms\tremaining: 336ms\n",
      "Stopped by overfitting detector  (35 iterations wait)\n",
      "\n",
      "bestTest = 0.1737659304\n",
      "bestIteration = 680\n",
      "\n",
      "Shrink model to first 681 iterations.\n",
      "0:\tlearn: 0.6240092\ttest: 0.6240423\ttest1: 0.6375194\tbest: 0.6375194 (0)\ttotal: 1.03ms\tremaining: 1.03s\n"
     ]
    },
    {
     "name": "stderr",
     "output_type": "stream",
     "text": [
      "\u001b[32m[I 2022-09-02 15:38:38,213]\u001b[0m Trial 5 finished with value: 0.9166666666666666 and parameters: {'learning_rate': 0.27051668818999286, 'bagging_temperature': 12.60466458564947, 'n_estimators': 1000, 'max_depth': 16, 'random_strength': 90, 'colsample_bylevel': 0.03961867790406585, 'l2_leaf_reg': 2.7657008308343274e-05, 'min_child_samples': 13, 'max_bin': 258, 'od_type': 'Iter'}. Best is trial 3 with value: 0.9666666666666667.\u001b[0m\n"
     ]
    },
    {
     "name": "stdout",
     "output_type": "stream",
     "text": [
      "Stopped by overfitting detector  (35 iterations wait)\n",
      "\n",
      "bestTest = 0.2367492725\n",
      "bestIteration = 11\n",
      "\n",
      "Shrink model to first 12 iterations.\n",
      "0:\tlearn: 0.6819081\ttest: 0.6819132\ttest1: 0.6830643\tbest: 0.6830643 (0)\ttotal: 1.04ms\tremaining: 1.04s\n"
     ]
    },
    {
     "name": "stderr",
     "output_type": "stream",
     "text": [
      "\u001b[32m[I 2022-09-02 15:38:39,303]\u001b[0m Trial 6 finished with value: 0.9166666666666666 and parameters: {'learning_rate': 0.03750796359625606, 'bagging_temperature': 0.12172958098369972, 'n_estimators': 1000, 'max_depth': 14, 'random_strength': 36, 'colsample_bylevel': 0.01909565280104538, 'l2_leaf_reg': 1.6285455533915874e-05, 'min_child_samples': 18, 'max_bin': 441, 'od_type': 'Iter'}. Best is trial 3 with value: 0.9666666666666667.\u001b[0m\n"
     ]
    },
    {
     "name": "stdout",
     "output_type": "stream",
     "text": [
      "100:\tlearn: 0.0702666\ttest: 0.0703076\ttest1: 0.2304602\tbest: 0.2296737 (92)\ttotal: 691ms\tremaining: 6.21s\n",
      "Stopped by overfitting detector  (35 iterations wait)\n",
      "\n",
      "bestTest = 0.2296737401\n",
      "bestIteration = 92\n",
      "\n",
      "Shrink model to first 93 iterations.\n",
      "0:\tlearn: 0.5849143\ttest: 0.5849313\ttest1: 0.5577514\tbest: 0.5577514 (0)\ttotal: 1.69ms\tremaining: 1.69s\n"
     ]
    },
    {
     "name": "stderr",
     "output_type": "stream",
     "text": [
      "\u001b[32m[I 2022-09-02 15:38:39,485]\u001b[0m Trial 7 finished with value: 0.95 and parameters: {'learning_rate': 0.13826083091896751, 'bagging_temperature': 0.06235377135673159, 'n_estimators': 1000, 'max_depth': 4, 'random_strength': 82, 'colsample_bylevel': 0.05091635945818555, 'l2_leaf_reg': 2.187292496954921e-05, 'min_child_samples': 79, 'max_bin': 222, 'od_type': 'IncToDec'}. Best is trial 3 with value: 0.9666666666666667.\u001b[0m\n"
     ]
    },
    {
     "name": "stdout",
     "output_type": "stream",
     "text": [
      "Stopped by overfitting detector  (35 iterations wait)\n",
      "\n",
      "bestTest = 0.1940652785\n",
      "bestIteration = 22\n",
      "\n",
      "Shrink model to first 23 iterations.\n",
      "0:\tlearn: 0.6420873\ttest: 0.6421417\ttest1: 0.6502708\tbest: 0.6502708 (0)\ttotal: 913us\tremaining: 912ms\n"
     ]
    },
    {
     "name": "stderr",
     "output_type": "stream",
     "text": [
      "\u001b[32m[I 2022-09-02 15:38:39,724]\u001b[0m Trial 8 finished with value: 0.9666666666666667 and parameters: {'learning_rate': 0.18832519048593593, 'bagging_temperature': 3.1130959561221245, 'n_estimators': 1000, 'max_depth': 8, 'random_strength': 6, 'colsample_bylevel': 0.020463613363481608, 'l2_leaf_reg': 9.762247827582143e-06, 'min_child_samples': 75, 'max_bin': 391, 'od_type': 'IncToDec'}. Best is trial 3 with value: 0.9666666666666667.\u001b[0m\n"
     ]
    },
    {
     "name": "stdout",
     "output_type": "stream",
     "text": [
      "100:\tlearn: 0.0002463\ttest: 0.0002473\ttest1: 0.3018460\tbest: 0.2070575 (68)\ttotal: 148ms\tremaining: 1.32s\n",
      "Stopped by overfitting detector  (35 iterations wait)\n",
      "\n",
      "bestTest = 0.2070575464\n",
      "bestIteration = 68\n",
      "\n",
      "Shrink model to first 69 iterations.\n",
      "0:\tlearn: 0.6460395\ttest: 0.6460678\ttest1: 0.6744767\tbest: 0.6744767 (0)\ttotal: 132ms\tremaining: 2m 11s\n",
      "100:\tlearn: 0.0034012\ttest: 0.0034071\ttest1: 0.1997320\tbest: 0.1851242 (85)\ttotal: 10.4s\tremaining: 1m 32s\n"
     ]
    },
    {
     "name": "stderr",
     "output_type": "stream",
     "text": [
      "\u001b[32m[I 2022-09-02 15:38:52,675]\u001b[0m Trial 9 finished with value: 0.95 and parameters: {'learning_rate': 0.015019490572374374, 'bagging_temperature': 7.128188058401368, 'n_estimators': 1000, 'max_depth': 13, 'random_strength': 56, 'colsample_bylevel': 0.05901564798023389, 'l2_leaf_reg': 1.4818929934968078e-05, 'min_child_samples': 55, 'max_bin': 328, 'od_type': 'Iter'}. Best is trial 3 with value: 0.9666666666666667.\u001b[0m\n"
     ]
    },
    {
     "name": "stdout",
     "output_type": "stream",
     "text": [
      "Stopped by overfitting detector  (35 iterations wait)\n",
      "\n",
      "bestTest = 0.18512419\n",
      "bestIteration = 85\n",
      "\n",
      "Shrink model to first 86 iterations.\n",
      "Best Score: 0.9666666666666667\n",
      "Best trial {'learning_rate': 0.07896186801026692, 'bagging_temperature': 0.04809461967501574, 'n_estimators': 1000, 'max_depth': 4, 'random_strength': 95, 'colsample_bylevel': 0.0923915031962725, 'l2_leaf_reg': 2.425383647001267e-05, 'min_child_samples': 34, 'max_bin': 229, 'od_type': 'IncToDec'}\n"
     ]
    }
   ],
   "source": [
    "sampler = TPESampler(seed=42)\n",
    "\n",
    "study = optuna.create_study(\n",
    "    study_name = 'cat_parameter_opt',\n",
    "    direction = 'maximize',\n",
    "    sampler = sampler)\n",
    "\n",
    "study.optimize(objective1, n_trials=10)\n",
    "\n",
    "print(\"Best Score:\",study.best_value)\n",
    "print(\"Best trial\",study.best_trial.params)"
   ]
  },
  {
   "cell_type": "code",
   "execution_count": 9,
   "id": "27ddf15f",
   "metadata": {},
   "outputs": [],
   "source": [
    "def clf_eval(y_test, pred):\n",
    "    accuracy = accuracy_score(y_test, pred)\n",
    "    precision = precision_score(y_test, pred)\n",
    "    recall = recall_score(y_test, pred)\n",
    "    specificity = confusion_matrix(y_test, pred)[0][0]/(confusion_matrix(y_test, pred)[0][0]+confusion_matrix(y_test, pred)[0][1])\n",
    "    print('오차행렬')\n",
    "    classificationSummary(y_test, pred)\n",
    "    print()\n",
    "    print('정확도 : {:.4f}\\n정밀도 : {:.4f}\\n재현율(민감도) : {:.4f}'.format(accuracy, precision, recall))\n",
    "    print('특이도 : {:.4f}'.format(specificity))\n",
    "    \n",
    "    try:\n",
    "        print('AUC : {:.4f}'.format(roc_auc_score(y_test, pred)))\n",
    "    except ValueError:\n",
    "        print('AUC : test data에 하나의 레이블만이 존재하여 AUC를 구할 수 없습니다.')"
   ]
  },
  {
   "cell_type": "code",
   "execution_count": 10,
   "id": "90bf2ce6",
   "metadata": {},
   "outputs": [
    {
     "name": "stdout",
     "output_type": "stream",
     "text": [
      "0:\tlearn: 0.6665275\ttest: 0.6665514\ttest1: 0.6676483\tbest: 0.6676483 (0)\ttotal: 3.96ms\tremaining: 3.95s\n",
      "100:\tlearn: 0.0141685\ttest: 0.0141800\ttest1: 0.2016528\tbest: 0.1542726 (65)\ttotal: 191ms\tremaining: 1.7s\n",
      "Stopped by overfitting detector  (35 iterations wait)\n",
      "\n",
      "bestTest = 0.1542725759\n",
      "bestIteration = 65\n",
      "\n",
      "Shrink model to first 66 iterations.\n",
      "\n",
      "오차행렬\n",
      "Confusion Matrix (Accuracy 0.9500)\n",
      "\n",
      "       Prediction\n",
      "Actual  0  1\n",
      "     0  0  1\n",
      "     1  2 57\n",
      "\n",
      "정확도 : 0.9500\n",
      "정밀도 : 0.9828\n",
      "재현율(민감도) : 0.9661\n",
      "특이도 : 0.0000\n",
      "AUC : 0.4831\n"
     ]
    }
   ],
   "source": [
    "cat = CatBoostClassifier(**study.best_params)\n",
    "cat.fit(X_tr_over, y_tr_over,\n",
    "        eval_set=[(X_tr_over, y_tr_over), (X_val, y_val)],\n",
    "        early_stopping_rounds=35,\n",
    "        verbose=100)\n",
    "\n",
    "print()\n",
    "clf_eval(y_val, cat.predict(X_val))"
   ]
  },
  {
   "cell_type": "code",
   "execution_count": 11,
   "id": "dd81ff26",
   "metadata": {},
   "outputs": [
    {
     "name": "stdout",
     "output_type": "stream",
     "text": [
      "오차행렬\n",
      "Confusion Matrix (Accuracy 0.8852)\n",
      "\n",
      "       Prediction\n",
      "Actual  0  1\n",
      "     0  0  5\n",
      "     1  2 54\n",
      "\n",
      "정확도 : 0.8852\n",
      "정밀도 : 0.9153\n",
      "재현율(민감도) : 0.9643\n",
      "특이도 : 0.0000\n",
      "AUC : 0.4821\n"
     ]
    }
   ],
   "source": [
    "clf_eval(y_test, cat.predict(X_test))"
   ]
  },
  {
   "cell_type": "markdown",
   "id": "b64a0f8c",
   "metadata": {},
   "source": [
    "### 2) AUC 기준으로 튜닝"
   ]
  },
  {
   "cell_type": "code",
   "execution_count": 12,
   "id": "55018b0c",
   "metadata": {},
   "outputs": [],
   "source": [
    "def objective2(trial):\n",
    "    param = {\n",
    "        \"random_state\":42,\n",
    "        'learning_rate' : trial.suggest_loguniform('learning_rate', 0.01, 0.3),\n",
    "        'bagging_temperature' :trial.suggest_loguniform('bagging_temperature', 0.01, 100.00),\n",
    "        \"n_estimators\":trial.suggest_int(\"n_estimators\", 1000, 5000, 10000),\n",
    "        \"max_depth\":trial.suggest_int(\"max_depth\", 4, 16),\n",
    "        'random_strength' :trial.suggest_int('random_strength', 0, 100),\n",
    "        \"colsample_bylevel\": trial.suggest_float(\"colsample_bylevel\", 0.01, 0.1, log=True),\n",
    "        \"l2_leaf_reg\":trial.suggest_float(\"l2_leaf_reg\",1e-8,3e-5),\n",
    "        \"min_child_samples\": trial.suggest_int(\"min_child_samples\", 5, 100),\n",
    "        \"max_bin\": trial.suggest_int(\"max_bin\", 200, 500),\n",
    "        'od_type': trial.suggest_categorical('od_type', ['IncToDec', 'Iter'])\n",
    "        }\n",
    "        \n",
    "    cat = CatBoostClassifier(**param)\n",
    "    cat.fit(X_tr_over, y_tr_over,\n",
    "            eval_set=[(X_tr_over, y_tr_over), (X_val, y_val)],\n",
    "            early_stopping_rounds=35,\n",
    "            verbose=100)\n",
    "    pred = cat.predict(X_val)\n",
    "    \n",
    "    return roc_auc_score(y_val, cat.predict(X_val))"
   ]
  },
  {
   "cell_type": "code",
   "execution_count": 15,
   "id": "9775f617",
   "metadata": {
    "scrolled": false
   },
   "outputs": [
    {
     "name": "stderr",
     "output_type": "stream",
     "text": [
      "\u001b[32m[I 2022-09-02 15:44:13,626]\u001b[0m A new study created in memory with name: cat_parameter_opt\u001b[0m\n"
     ]
    },
    {
     "name": "stdout",
     "output_type": "stream",
     "text": [
      "0:\tlearn: 0.6931466\ttest: 0.6931472\ttest1: 0.6931472\tbest: 0.6931472 (0)\ttotal: 700us\tremaining: 700ms\n",
      "100:\tlearn: 0.2334189\ttest: 0.2334434\ttest1: 0.3520380\tbest: 0.3458430 (92)\ttotal: 102ms\tremaining: 907ms\n"
     ]
    },
    {
     "name": "stderr",
     "output_type": "stream",
     "text": [
      "\u001b[32m[I 2022-09-02 15:44:13,953]\u001b[0m Trial 0 finished with value: 0.4576271186440678 and parameters: {'learning_rate': 0.03574712922600244, 'bagging_temperature': 63.512210106407046, 'n_estimators': 1000, 'max_depth': 13, 'random_strength': 60, 'colsample_bylevel': 0.014322493718230255, 'l2_leaf_reg': 4.688275664882717e-06, 'min_child_samples': 10, 'max_bin': 460, 'od_type': 'Iter'}. Best is trial 0 with value: 0.4576271186440678.\u001b[0m\n"
     ]
    },
    {
     "name": "stdout",
     "output_type": "stream",
     "text": [
      "Stopped by overfitting detector  (35 iterations wait)\n",
      "\n",
      "bestTest = 0.29736682\n",
      "bestIteration = 119\n",
      "\n",
      "Shrink model to first 120 iterations.\n",
      "0:\tlearn: 0.6931466\ttest: 0.6931472\ttest1: 0.6931472\tbest: 0.6931472 (0)\ttotal: 815us\tremaining: 815ms\n",
      "100:\tlearn: 0.4938532\ttest: 0.4938783\ttest1: 0.4917815\tbest: 0.4911899 (98)\ttotal: 102ms\tremaining: 906ms\n",
      "200:\tlearn: 0.3447439\ttest: 0.3447570\ttest1: 0.3543914\tbest: 0.3543914 (200)\ttotal: 245ms\tremaining: 976ms\n",
      "300:\tlearn: 0.2628804\ttest: 0.2629073\ttest1: 0.2968388\tbest: 0.2961610 (296)\ttotal: 340ms\tremaining: 789ms\n",
      "400:\tlearn: 0.1645062\ttest: 0.1645390\ttest1: 0.2311673\tbest: 0.2301117 (387)\ttotal: 485ms\tremaining: 726ms\n",
      "500:\tlearn: 0.1352238\ttest: 0.1352555\ttest1: 0.2102038\tbest: 0.2100082 (498)\ttotal: 599ms\tremaining: 597ms\n",
      "600:\tlearn: 0.0958061\ttest: 0.0958398\ttest1: 0.1902497\tbest: 0.1893616 (591)\ttotal: 792ms\tremaining: 527ms\n",
      "700:\tlearn: 0.0622392\ttest: 0.0622730\ttest1: 0.1781886\tbest: 0.1775142 (687)\ttotal: 926ms\tremaining: 396ms\n",
      "800:\tlearn: 0.0433947\ttest: 0.0434238\ttest1: 0.1700023\tbest: 0.1689514 (776)\ttotal: 1.07s\tremaining: 267ms\n"
     ]
    },
    {
     "name": "stderr",
     "output_type": "stream",
     "text": [
      "\u001b[32m[I 2022-09-02 15:44:15,873]\u001b[0m Trial 1 finished with value: 0.4830508474576271 and parameters: {'learning_rate': 0.010725209743171996, 'bagging_temperature': 75.7947995334801, 'n_estimators': 1000, 'max_depth': 14, 'random_strength': 21, 'colsample_bylevel': 0.015199348301309814, 'l2_leaf_reg': 5.51030125050448e-06, 'min_child_samples': 34, 'max_bin': 357, 'od_type': 'IncToDec'}. Best is trial 1 with value: 0.4830508474576271.\u001b[0m\n"
     ]
    },
    {
     "name": "stdout",
     "output_type": "stream",
     "text": [
      "Stopped by overfitting detector  (35 iterations wait)\n",
      "\n",
      "bestTest = 0.1689514123\n",
      "bestIteration = 776\n",
      "\n",
      "Shrink model to first 777 iterations.\n",
      "0:\tlearn: 0.6697782\ttest: 0.6698005\ttest1: 0.6725438\tbest: 0.6725438 (0)\ttotal: 1.08ms\tremaining: 1.08s\n"
     ]
    },
    {
     "name": "stderr",
     "output_type": "stream",
     "text": [
      "\u001b[32m[I 2022-09-02 15:44:16,154]\u001b[0m Trial 2 finished with value: 0.4745762711864407 and parameters: {'learning_rate': 0.08012737503998542, 'bagging_temperature': 0.03613894271216528, 'n_estimators': 1000, 'max_depth': 7, 'random_strength': 37, 'colsample_bylevel': 0.028580510658069373, 'l2_leaf_reg': 2.355742708217648e-05, 'min_child_samples': 24, 'max_bin': 354, 'od_type': 'IncToDec'}. Best is trial 1 with value: 0.4830508474576271.\u001b[0m\n"
     ]
    },
    {
     "name": "stdout",
     "output_type": "stream",
     "text": [
      "Stopped by overfitting detector  (35 iterations wait)\n",
      "\n",
      "bestTest = 0.2381828882\n",
      "bestIteration = 33\n",
      "\n",
      "Shrink model to first 34 iterations.\n",
      "0:\tlearn: 0.6440272\ttest: 0.6440520\ttest1: 0.6272557\tbest: 0.6272557 (0)\ttotal: 2.12ms\tremaining: 2.12s\n"
     ]
    },
    {
     "name": "stderr",
     "output_type": "stream",
     "text": [
      "\u001b[32m[I 2022-09-02 15:44:16,445]\u001b[0m Trial 3 finished with value: 0.4915254237288136 and parameters: {'learning_rate': 0.07896186801026692, 'bagging_temperature': 0.04809461967501574, 'n_estimators': 1000, 'max_depth': 4, 'random_strength': 95, 'colsample_bylevel': 0.0923915031962725, 'l2_leaf_reg': 2.425383647001267e-05, 'min_child_samples': 34, 'max_bin': 229, 'od_type': 'IncToDec'}. Best is trial 3 with value: 0.4915254237288136.\u001b[0m\n"
     ]
    },
    {
     "name": "stdout",
     "output_type": "stream",
     "text": [
      "Stopped by overfitting detector  (35 iterations wait)\n",
      "\n",
      "bestTest = 0.1534122356\n",
      "bestIteration = 32\n",
      "\n",
      "Shrink model to first 33 iterations.\n",
      "0:\tlearn: 0.6931466\ttest: 0.6931472\ttest1: 0.6931472\tbest: 0.6931472 (0)\ttotal: 546us\tremaining: 546ms\n",
      "100:\tlearn: 0.4338679\ttest: 0.4338814\ttest1: 0.4287149\tbest: 0.4287149 (100)\ttotal: 98.6ms\tremaining: 877ms\n",
      "200:\tlearn: 0.2936906\ttest: 0.2937172\ttest1: 0.3260557\tbest: 0.3260557 (200)\ttotal: 221ms\tremaining: 878ms\n",
      "300:\tlearn: 0.2265145\ttest: 0.2265472\ttest1: 0.2807535\tbest: 0.2807535 (300)\ttotal: 320ms\tremaining: 744ms\n",
      "400:\tlearn: 0.1562684\ttest: 0.1562992\ttest1: 0.2349379\tbest: 0.2349379 (400)\ttotal: 471ms\tremaining: 703ms\n",
      "500:\tlearn: 0.1227990\ttest: 0.1228321\ttest1: 0.2154630\tbest: 0.2145282 (491)\ttotal: 574ms\tremaining: 572ms\n"
     ]
    },
    {
     "name": "stderr",
     "output_type": "stream",
     "text": [
      "\u001b[32m[I 2022-09-02 15:44:17,527]\u001b[0m Trial 4 finished with value: 0.4830508474576271 and parameters: {'learning_rate': 0.015144860262751412, 'bagging_temperature': 0.9565499215943827, 'n_estimators': 1000, 'max_depth': 4, 'random_strength': 91, 'colsample_bylevel': 0.01814596135349025, 'l2_leaf_reg': 1.987904330777592e-05, 'min_child_samples': 34, 'max_bin': 356, 'od_type': 'IncToDec'}. Best is trial 3 with value: 0.4915254237288136.\u001b[0m\n"
     ]
    },
    {
     "name": "stdout",
     "output_type": "stream",
     "text": [
      "600:\tlearn: 0.0886220\ttest: 0.0886533\ttest1: 0.1850228\tbest: 0.1850228 (600)\ttotal: 689ms\tremaining: 458ms\n",
      "700:\tlearn: 0.0574979\ttest: 0.0575296\ttest1: 0.1813766\tbest: 0.1737659 (680)\ttotal: 801ms\tremaining: 342ms\n",
      "Stopped by overfitting detector  (35 iterations wait)\n",
      "\n",
      "bestTest = 0.1737659304\n",
      "bestIteration = 680\n",
      "\n",
      "Shrink model to first 681 iterations.\n",
      "0:\tlearn: 0.6240092\ttest: 0.6240423\ttest1: 0.6375194\tbest: 0.6375194 (0)\ttotal: 991us\tremaining: 990ms\n"
     ]
    },
    {
     "name": "stderr",
     "output_type": "stream",
     "text": [
      "\u001b[32m[I 2022-09-02 15:44:26,826]\u001b[0m Trial 5 finished with value: 0.9576271186440678 and parameters: {'learning_rate': 0.27051668818999286, 'bagging_temperature': 12.60466458564947, 'n_estimators': 1000, 'max_depth': 16, 'random_strength': 90, 'colsample_bylevel': 0.03961867790406585, 'l2_leaf_reg': 2.7657008308343274e-05, 'min_child_samples': 13, 'max_bin': 258, 'od_type': 'Iter'}. Best is trial 5 with value: 0.9576271186440678.\u001b[0m\n"
     ]
    },
    {
     "name": "stdout",
     "output_type": "stream",
     "text": [
      "Stopped by overfitting detector  (35 iterations wait)\n",
      "\n",
      "bestTest = 0.2367492725\n",
      "bestIteration = 11\n",
      "\n",
      "Shrink model to first 12 iterations.\n",
      "0:\tlearn: 0.6819081\ttest: 0.6819132\ttest1: 0.6830643\tbest: 0.6830643 (0)\ttotal: 1.99ms\tremaining: 1.99s\n"
     ]
    },
    {
     "name": "stderr",
     "output_type": "stream",
     "text": [
      "\u001b[32m[I 2022-09-02 15:44:29,250]\u001b[0m Trial 6 finished with value: 0.4661016949152542 and parameters: {'learning_rate': 0.03750796359625606, 'bagging_temperature': 0.12172958098369972, 'n_estimators': 1000, 'max_depth': 14, 'random_strength': 36, 'colsample_bylevel': 0.01909565280104538, 'l2_leaf_reg': 1.6285455533915874e-05, 'min_child_samples': 18, 'max_bin': 441, 'od_type': 'Iter'}. Best is trial 5 with value: 0.9576271186440678.\u001b[0m\n"
     ]
    },
    {
     "name": "stdout",
     "output_type": "stream",
     "text": [
      "100:\tlearn: 0.0702666\ttest: 0.0703076\ttest1: 0.2304602\tbest: 0.2296737 (92)\ttotal: 1.55s\tremaining: 14s\n",
      "Stopped by overfitting detector  (35 iterations wait)\n",
      "\n",
      "bestTest = 0.2296737401\n",
      "bestIteration = 92\n",
      "\n",
      "Shrink model to first 93 iterations.\n",
      "0:\tlearn: 0.5849143\ttest: 0.5849313\ttest1: 0.5577514\tbest: 0.5577514 (0)\ttotal: 2.53ms\tremaining: 2.53s\n"
     ]
    },
    {
     "name": "stderr",
     "output_type": "stream",
     "text": [
      "\u001b[32m[I 2022-09-02 15:44:29,545]\u001b[0m Trial 7 finished with value: 0.4830508474576271 and parameters: {'learning_rate': 0.13826083091896751, 'bagging_temperature': 0.06235377135673159, 'n_estimators': 1000, 'max_depth': 4, 'random_strength': 82, 'colsample_bylevel': 0.05091635945818555, 'l2_leaf_reg': 2.187292496954921e-05, 'min_child_samples': 79, 'max_bin': 222, 'od_type': 'IncToDec'}. Best is trial 5 with value: 0.9576271186440678.\u001b[0m\n"
     ]
    },
    {
     "name": "stdout",
     "output_type": "stream",
     "text": [
      "Stopped by overfitting detector  (35 iterations wait)\n",
      "\n",
      "bestTest = 0.1940652785\n",
      "bestIteration = 22\n",
      "\n",
      "Shrink model to first 23 iterations.\n",
      "0:\tlearn: 0.6420873\ttest: 0.6421417\ttest1: 0.6502708\tbest: 0.6502708 (0)\ttotal: 1.41ms\tremaining: 1.41s\n"
     ]
    },
    {
     "name": "stderr",
     "output_type": "stream",
     "text": [
      "\u001b[32m[I 2022-09-02 15:44:29,977]\u001b[0m Trial 8 finished with value: 0.4915254237288136 and parameters: {'learning_rate': 0.18832519048593593, 'bagging_temperature': 3.1130959561221245, 'n_estimators': 1000, 'max_depth': 8, 'random_strength': 6, 'colsample_bylevel': 0.020463613363481608, 'l2_leaf_reg': 9.762247827582143e-06, 'min_child_samples': 75, 'max_bin': 391, 'od_type': 'IncToDec'}. Best is trial 5 with value: 0.9576271186440678.\u001b[0m\n"
     ]
    },
    {
     "name": "stdout",
     "output_type": "stream",
     "text": [
      "100:\tlearn: 0.0002463\ttest: 0.0002473\ttest1: 0.3018460\tbest: 0.2070575 (68)\ttotal: 262ms\tremaining: 2.33s\n",
      "Stopped by overfitting detector  (35 iterations wait)\n",
      "\n",
      "bestTest = 0.2070575464\n",
      "bestIteration = 68\n",
      "\n",
      "Shrink model to first 69 iterations.\n",
      "0:\tlearn: 0.6460395\ttest: 0.6460678\ttest1: 0.6744767\tbest: 0.6744767 (0)\ttotal: 235ms\tremaining: 3m 54s\n",
      "100:\tlearn: 0.0034012\ttest: 0.0034071\ttest1: 0.1997320\tbest: 0.1851242 (85)\ttotal: 16.9s\tremaining: 2m 30s\n"
     ]
    },
    {
     "name": "stderr",
     "output_type": "stream",
     "text": [
      "\u001b[32m[I 2022-09-02 15:44:49,728]\u001b[0m Trial 9 finished with value: 0.4830508474576271 and parameters: {'learning_rate': 0.015019490572374374, 'bagging_temperature': 7.128188058401368, 'n_estimators': 1000, 'max_depth': 13, 'random_strength': 56, 'colsample_bylevel': 0.05901564798023389, 'l2_leaf_reg': 1.4818929934968078e-05, 'min_child_samples': 55, 'max_bin': 328, 'od_type': 'Iter'}. Best is trial 5 with value: 0.9576271186440678.\u001b[0m\n"
     ]
    },
    {
     "name": "stdout",
     "output_type": "stream",
     "text": [
      "Stopped by overfitting detector  (35 iterations wait)\n",
      "\n",
      "bestTest = 0.18512419\n",
      "bestIteration = 85\n",
      "\n",
      "Shrink model to first 86 iterations.\n",
      "Best Score: 0.9576271186440678\n",
      "Best trial {'learning_rate': 0.27051668818999286, 'bagging_temperature': 12.60466458564947, 'n_estimators': 1000, 'max_depth': 16, 'random_strength': 90, 'colsample_bylevel': 0.03961867790406585, 'l2_leaf_reg': 2.7657008308343274e-05, 'min_child_samples': 13, 'max_bin': 258, 'od_type': 'Iter'}\n"
     ]
    }
   ],
   "source": [
    "sampler = TPESampler(seed=42)\n",
    "\n",
    "study = optuna.create_study(\n",
    "    study_name = 'cat_parameter_opt',\n",
    "    direction = 'maximize',\n",
    "    sampler = sampler)\n",
    "\n",
    "study.optimize(objective2, n_trials=10)\n",
    "\n",
    "print(\"Best Score:\",study.best_value)\n",
    "print(\"Best trial\",study.best_trial.params)"
   ]
  },
  {
   "cell_type": "code",
   "execution_count": 16,
   "id": "98be578d",
   "metadata": {},
   "outputs": [
    {
     "name": "stdout",
     "output_type": "stream",
     "text": [
      "0:\tlearn: 0.5010413\ttest: 0.5010647\ttest1: 0.5009170\tbest: 0.5009170 (0)\ttotal: 16.6ms\tremaining: 16.5s\n",
      "Stopped by overfitting detector  (35 iterations wait)\n",
      "\n",
      "bestTest = 0.336652214\n",
      "bestIteration = 10\n",
      "\n",
      "Shrink model to first 11 iterations.\n",
      "\n",
      "오차행렬\n",
      "Confusion Matrix (Accuracy 0.8833)\n",
      "\n",
      "       Prediction\n",
      "Actual  0  1\n",
      "     0  0  1\n",
      "     1  6 53\n",
      "\n",
      "정확도 : 0.8833\n",
      "정밀도 : 0.9815\n",
      "재현율(민감도) : 0.8983\n",
      "특이도 : 0.0000\n",
      "AUC : 0.4492\n"
     ]
    }
   ],
   "source": [
    "cat = CatBoostClassifier(**study.best_params)\n",
    "cat.fit(X_tr_over, y_tr_over,\n",
    "        eval_set=[(X_tr_over, y_tr_over), (X_val, y_val)],\n",
    "        early_stopping_rounds=35,\n",
    "        verbose=100)\n",
    "\n",
    "print()\n",
    "clf_eval(y_val, cat.predict(X_val))"
   ]
  },
  {
   "cell_type": "code",
   "execution_count": 17,
   "id": "589531e5",
   "metadata": {},
   "outputs": [
    {
     "name": "stdout",
     "output_type": "stream",
     "text": [
      "오차행렬\n",
      "Confusion Matrix (Accuracy 0.8689)\n",
      "\n",
      "       Prediction\n",
      "Actual  0  1\n",
      "     0  1  4\n",
      "     1  4 52\n",
      "\n",
      "정확도 : 0.8689\n",
      "정밀도 : 0.9286\n",
      "재현율(민감도) : 0.9286\n",
      "특이도 : 0.2000\n",
      "AUC : 0.5643\n"
     ]
    }
   ],
   "source": [
    "clf_eval(y_test, cat.predict(X_test))"
   ]
  },
  {
   "cell_type": "code",
   "execution_count": null,
   "id": "eefb0c24",
   "metadata": {},
   "outputs": [],
   "source": []
  },
  {
   "cell_type": "markdown",
   "id": "69c51abe",
   "metadata": {},
   "source": [
    "# 2) Train_lr"
   ]
  },
  {
   "cell_type": "code",
   "execution_count": 18,
   "id": "c5f91f5a",
   "metadata": {},
   "outputs": [],
   "source": [
    "X_train = train_lr.drop('OC', axis=1)\n",
    "y_train = train_lr['OC']\n",
    "\n",
    "X_train, X_val, y_train, y_val = train_test_split(X_train, y_train, test_size=0.4, random_state=42)\n",
    "\n",
    "X_val, X_test, y_val, y_test = train_test_split(X_val, y_val, test_size=0.5, random_state=42)\n",
    "\n",
    "smote = SMOTE(random_state=42)\n",
    "X_tr_over, y_tr_over = smote.fit_resample(X_train, y_train)"
   ]
  },
  {
   "cell_type": "markdown",
   "id": "17b7e626",
   "metadata": {},
   "source": [
    "### 1) accuracy 기준 튜닝"
   ]
  },
  {
   "cell_type": "code",
   "execution_count": 19,
   "id": "d336514f",
   "metadata": {},
   "outputs": [
    {
     "name": "stderr",
     "output_type": "stream",
     "text": [
      "\u001b[32m[I 2022-09-02 15:45:47,092]\u001b[0m A new study created in memory with name: cat_parameter_opt\u001b[0m\n",
      "\u001b[32m[I 2022-09-02 15:45:47,252]\u001b[0m Trial 0 finished with value: 0.8166666666666667 and parameters: {'learning_rate': 0.03574712922600244, 'bagging_temperature': 63.512210106407046, 'n_estimators': 1000, 'max_depth': 13, 'random_strength': 60, 'colsample_bylevel': 0.014322493718230255, 'l2_leaf_reg': 4.688275664882717e-06, 'min_child_samples': 10, 'max_bin': 460, 'od_type': 'Iter'}. Best is trial 0 with value: 0.8166666666666667.\u001b[0m\n"
     ]
    },
    {
     "name": "stdout",
     "output_type": "stream",
     "text": [
      "0:\tlearn: 0.6931466\ttest: 0.6931472\ttest1: 0.6931472\tbest: 0.6931472 (0)\ttotal: 736us\tremaining: 736ms\n",
      "Stopped by overfitting detector  (35 iterations wait)\n",
      "\n",
      "bestTest = 0.525522526\n",
      "bestIteration = 53\n",
      "\n",
      "Shrink model to first 54 iterations.\n",
      "0:\tlearn: 0.6931466\ttest: 0.6931472\ttest1: 0.6931472\tbest: 0.6931472 (0)\ttotal: 684us\tremaining: 684ms\n",
      "100:\tlearn: 0.6142991\ttest: 0.6143388\ttest1: 0.6025109\tbest: 0.6025109 (100)\ttotal: 67.3ms\tremaining: 599ms\n",
      "200:\tlearn: 0.5462015\ttest: 0.5462451\ttest1: 0.5432633\tbest: 0.5429936 (199)\ttotal: 137ms\tremaining: 544ms\n",
      "300:\tlearn: 0.4760113\ttest: 0.4760335\ttest1: 0.4789046\tbest: 0.4781129 (293)\ttotal: 212ms\tremaining: 493ms\n"
     ]
    },
    {
     "name": "stderr",
     "output_type": "stream",
     "text": [
      "\u001b[32m[I 2022-09-02 15:45:47,770]\u001b[0m Trial 1 finished with value: 0.8666666666666667 and parameters: {'learning_rate': 0.010725209743171996, 'bagging_temperature': 75.7947995334801, 'n_estimators': 1000, 'max_depth': 14, 'random_strength': 21, 'colsample_bylevel': 0.015199348301309814, 'l2_leaf_reg': 5.51030125050448e-06, 'min_child_samples': 34, 'max_bin': 357, 'od_type': 'IncToDec'}. Best is trial 1 with value: 0.8666666666666667.\u001b[0m\n"
     ]
    },
    {
     "name": "stdout",
     "output_type": "stream",
     "text": [
      "400:\tlearn: 0.4321197\ttest: 0.4321276\ttest1: 0.4547934\tbest: 0.4544647 (371)\ttotal: 286ms\tremaining: 428ms\n",
      "Stopped by overfitting detector  (35 iterations wait)\n",
      "\n",
      "bestTest = 0.4376710102\n",
      "bestIteration = 426\n",
      "\n",
      "Shrink model to first 427 iterations.\n",
      "0:\tlearn: 0.6931466\ttest: 0.6931472\ttest1: 0.6931472\tbest: 0.6931472 (0)\ttotal: 702us\tremaining: 702ms\n",
      "100:\tlearn: 0.2874036\ttest: 0.2874282\ttest1: 0.3668128\tbest: 0.3514807 (88)\ttotal: 91.1ms\tremaining: 811ms\n",
      "200:\tlearn: 0.0318793\ttest: 0.0319030\ttest1: 0.1385489\tbest: 0.1385489 (200)\ttotal: 207ms\tremaining: 825ms\n",
      "Stopped by overfitting detector  (35 iterations wait)\n",
      "\n"
     ]
    },
    {
     "name": "stderr",
     "output_type": "stream",
     "text": [
      "\u001b[32m[I 2022-09-02 15:45:48,181]\u001b[0m Trial 2 finished with value: 0.95 and parameters: {'learning_rate': 0.08012737503998542, 'bagging_temperature': 0.03613894271216528, 'n_estimators': 1000, 'max_depth': 7, 'random_strength': 37, 'colsample_bylevel': 0.028580510658069373, 'l2_leaf_reg': 2.355742708217648e-05, 'min_child_samples': 24, 'max_bin': 354, 'od_type': 'IncToDec'}. Best is trial 2 with value: 0.95.\u001b[0m\n"
     ]
    },
    {
     "name": "stdout",
     "output_type": "stream",
     "text": [
      "bestTest = 0.1385489394\n",
      "bestIteration = 200\n",
      "\n",
      "Shrink model to first 201 iterations.\n",
      "0:\tlearn: 0.6931466\ttest: 0.6931472\ttest1: 0.6931472\tbest: 0.6931472 (0)\ttotal: 717us\tremaining: 717ms\n"
     ]
    },
    {
     "name": "stderr",
     "output_type": "stream",
     "text": [
      "\u001b[32m[I 2022-09-02 15:45:48,491]\u001b[0m Trial 3 finished with value: 0.95 and parameters: {'learning_rate': 0.07896186801026692, 'bagging_temperature': 0.04809461967501574, 'n_estimators': 1000, 'max_depth': 4, 'random_strength': 95, 'colsample_bylevel': 0.0923915031962725, 'l2_leaf_reg': 2.425383647001267e-05, 'min_child_samples': 34, 'max_bin': 229, 'od_type': 'IncToDec'}. Best is trial 2 with value: 0.95.\u001b[0m\n"
     ]
    },
    {
     "name": "stdout",
     "output_type": "stream",
     "text": [
      "Stopped by overfitting detector  (35 iterations wait)\n",
      "\n",
      "bestTest = 0.1695944801\n",
      "bestIteration = 60\n",
      "\n",
      "Shrink model to first 61 iterations.\n",
      "0:\tlearn: 0.6931466\ttest: 0.6931472\ttest1: 0.6931472\tbest: 0.6931472 (0)\ttotal: 803us\tremaining: 803ms\n",
      "100:\tlearn: 0.5949385\ttest: 0.5949838\ttest1: 0.5663827\tbest: 0.5663827 (100)\ttotal: 105ms\tremaining: 933ms\n",
      "200:\tlearn: 0.5191927\ttest: 0.5192251\ttest1: 0.5169402\tbest: 0.5167028 (199)\ttotal: 190ms\tremaining: 756ms\n"
     ]
    },
    {
     "name": "stderr",
     "output_type": "stream",
     "text": [
      "\u001b[32m[I 2022-09-02 15:45:49,142]\u001b[0m Trial 4 finished with value: 0.8333333333333334 and parameters: {'learning_rate': 0.015144860262751412, 'bagging_temperature': 0.9565499215943827, 'n_estimators': 1000, 'max_depth': 4, 'random_strength': 91, 'colsample_bylevel': 0.01814596135349025, 'l2_leaf_reg': 1.987904330777592e-05, 'min_child_samples': 34, 'max_bin': 356, 'od_type': 'IncToDec'}. Best is trial 2 with value: 0.95.\u001b[0m\n"
     ]
    },
    {
     "name": "stdout",
     "output_type": "stream",
     "text": [
      "300:\tlearn: 0.4514885\ttest: 0.4515049\ttest1: 0.4655758\tbest: 0.4653676 (299)\ttotal: 294ms\tremaining: 682ms\n",
      "400:\tlearn: 0.3919252\ttest: 0.3919364\ttest1: 0.4065577\tbest: 0.4058708 (397)\ttotal: 391ms\tremaining: 584ms\n",
      "Stopped by overfitting detector  (35 iterations wait)\n",
      "\n",
      "bestTest = 0.4058708074\n",
      "bestIteration = 397\n",
      "\n",
      "Shrink model to first 398 iterations.\n"
     ]
    },
    {
     "name": "stderr",
     "output_type": "stream",
     "text": [
      "\u001b[32m[I 2022-09-02 15:45:49,290]\u001b[0m Trial 5 finished with value: 0.9333333333333333 and parameters: {'learning_rate': 0.27051668818999286, 'bagging_temperature': 12.60466458564947, 'n_estimators': 1000, 'max_depth': 16, 'random_strength': 90, 'colsample_bylevel': 0.03961867790406585, 'l2_leaf_reg': 2.7657008308343274e-05, 'min_child_samples': 13, 'max_bin': 258, 'od_type': 'Iter'}. Best is trial 2 with value: 0.95.\u001b[0m\n"
     ]
    },
    {
     "name": "stdout",
     "output_type": "stream",
     "text": [
      "0:\tlearn: 0.6931466\ttest: 0.6931472\ttest1: 0.6931472\tbest: 0.6931472 (0)\ttotal: 587us\tremaining: 587ms\n",
      "Stopped by overfitting detector  (35 iterations wait)\n",
      "\n",
      "bestTest = 0.1685008007\n",
      "bestIteration = 25\n",
      "\n",
      "Shrink model to first 26 iterations.\n",
      "0:\tlearn: 0.6931466\ttest: 0.6931472\ttest1: 0.6931472\tbest: 0.6931472 (0)\ttotal: 651us\tremaining: 650ms\n"
     ]
    },
    {
     "name": "stderr",
     "output_type": "stream",
     "text": [
      "\u001b[32m[I 2022-09-02 15:45:49,509]\u001b[0m Trial 6 finished with value: 0.8333333333333334 and parameters: {'learning_rate': 0.03750796359625606, 'bagging_temperature': 0.12172958098369972, 'n_estimators': 1000, 'max_depth': 14, 'random_strength': 36, 'colsample_bylevel': 0.01909565280104538, 'l2_leaf_reg': 1.6285455533915874e-05, 'min_child_samples': 18, 'max_bin': 441, 'od_type': 'Iter'}. Best is trial 2 with value: 0.95.\u001b[0m\n"
     ]
    },
    {
     "name": "stdout",
     "output_type": "stream",
     "text": [
      "100:\tlearn: 0.5113501\ttest: 0.5113774\ttest1: 0.5004177\tbest: 0.4931031 (93)\ttotal: 69.8ms\tremaining: 621ms\n",
      "Stopped by overfitting detector  (35 iterations wait)\n",
      "\n",
      "bestTest = 0.4227739397\n",
      "bestIteration = 126\n",
      "\n",
      "Shrink model to first 127 iterations.\n",
      "0:\tlearn: 0.6931466\ttest: 0.6931472\ttest1: 0.6931472\tbest: 0.6931472 (0)\ttotal: 814us\tremaining: 814ms\n"
     ]
    },
    {
     "name": "stderr",
     "output_type": "stream",
     "text": [
      "\u001b[32m[I 2022-09-02 15:45:49,755]\u001b[0m Trial 7 finished with value: 0.95 and parameters: {'learning_rate': 0.13826083091896751, 'bagging_temperature': 0.06235377135673159, 'n_estimators': 1000, 'max_depth': 4, 'random_strength': 82, 'colsample_bylevel': 0.05091635945818555, 'l2_leaf_reg': 2.187292496954921e-05, 'min_child_samples': 79, 'max_bin': 222, 'od_type': 'IncToDec'}. Best is trial 2 with value: 0.95.\u001b[0m\n"
     ]
    },
    {
     "name": "stdout",
     "output_type": "stream",
     "text": [
      "Stopped by overfitting detector  (35 iterations wait)\n",
      "\n",
      "bestTest = 0.1641839239\n",
      "bestIteration = 62\n",
      "\n",
      "Shrink model to first 63 iterations.\n",
      "0:\tlearn: 0.6931466\ttest: 0.6931472\ttest1: 0.6931472\tbest: 0.6931472 (0)\ttotal: 620us\tremaining: 619ms\n",
      "100:\tlearn: 0.1142307\ttest: 0.1142613\ttest1: 0.1914988\tbest: 0.1851064 (87)\ttotal: 85.9ms\tremaining: 765ms\n"
     ]
    },
    {
     "name": "stderr",
     "output_type": "stream",
     "text": [
      "\u001b[32m[I 2022-09-02 15:45:50,037]\u001b[0m Trial 8 finished with value: 0.95 and parameters: {'learning_rate': 0.18832519048593593, 'bagging_temperature': 3.1130959561221245, 'n_estimators': 1000, 'max_depth': 8, 'random_strength': 6, 'colsample_bylevel': 0.020463613363481608, 'l2_leaf_reg': 9.762247827582143e-06, 'min_child_samples': 75, 'max_bin': 391, 'od_type': 'IncToDec'}. Best is trial 2 with value: 0.95.\u001b[0m\n"
     ]
    },
    {
     "name": "stdout",
     "output_type": "stream",
     "text": [
      "Stopped by overfitting detector  (35 iterations wait)\n",
      "\n",
      "bestTest = 0.1327629418\n",
      "bestIteration = 143\n",
      "\n",
      "Shrink model to first 144 iterations.\n",
      "0:\tlearn: 0.6931466\ttest: 0.6931472\ttest1: 0.6931472\tbest: 0.6931472 (0)\ttotal: 629us\tremaining: 629ms\n",
      "100:\tlearn: 0.1281872\ttest: 0.1282226\ttest1: 0.2254477\tbest: 0.2228611 (96)\ttotal: 797ms\tremaining: 7.16s\n"
     ]
    },
    {
     "name": "stderr",
     "output_type": "stream",
     "text": [
      "\u001b[32m[I 2022-09-02 15:45:51,708]\u001b[0m Trial 9 finished with value: 0.9333333333333333 and parameters: {'learning_rate': 0.015019490572374374, 'bagging_temperature': 7.128188058401368, 'n_estimators': 1000, 'max_depth': 13, 'random_strength': 56, 'colsample_bylevel': 0.05901564798023389, 'l2_leaf_reg': 1.4818929934968078e-05, 'min_child_samples': 55, 'max_bin': 328, 'od_type': 'Iter'}. Best is trial 2 with value: 0.95.\u001b[0m\n"
     ]
    },
    {
     "name": "stdout",
     "output_type": "stream",
     "text": [
      "Stopped by overfitting detector  (35 iterations wait)\n",
      "\n",
      "bestTest = 0.2101789637\n",
      "bestIteration = 145\n",
      "\n",
      "Shrink model to first 146 iterations.\n",
      "Best Score: 0.95\n",
      "Best trial {'learning_rate': 0.08012737503998542, 'bagging_temperature': 0.03613894271216528, 'n_estimators': 1000, 'max_depth': 7, 'random_strength': 37, 'colsample_bylevel': 0.028580510658069373, 'l2_leaf_reg': 2.355742708217648e-05, 'min_child_samples': 24, 'max_bin': 354, 'od_type': 'IncToDec'}\n"
     ]
    }
   ],
   "source": [
    "sampler = TPESampler(seed=42)\n",
    "\n",
    "study = optuna.create_study(\n",
    "    study_name = 'cat_parameter_opt',\n",
    "    direction = 'maximize',\n",
    "    sampler = sampler)\n",
    "\n",
    "study.optimize(objective1, n_trials=10)\n",
    "\n",
    "print(\"Best Score:\",study.best_value)\n",
    "print(\"Best trial\",study.best_trial.params)"
   ]
  },
  {
   "cell_type": "code",
   "execution_count": 20,
   "id": "93018b6a",
   "metadata": {
    "scrolled": true
   },
   "outputs": [
    {
     "name": "stdout",
     "output_type": "stream",
     "text": [
      "0:\tlearn: 0.6679950\ttest: 0.6680236\ttest1: 0.6798571\tbest: 0.6798571 (0)\ttotal: 13.7ms\tremaining: 13.7s\n",
      "100:\tlearn: 0.1125908\ttest: 0.1126339\ttest1: 0.2689188\tbest: 0.2618295 (86)\ttotal: 104ms\tremaining: 925ms\n",
      "Stopped by overfitting detector  (35 iterations wait)\n",
      "\n",
      "bestTest = 0.2246995311\n",
      "bestIteration = 140\n",
      "\n",
      "Shrink model to first 141 iterations.\n",
      "\n",
      "Confusion Matrix (Accuracy 0.9167)\n",
      "\n",
      "       Prediction\n",
      "Actual  0  1\n",
      "     0  0  1\n",
      "     1  4 55\n",
      "\n",
      "AUC: 0.4661016949152542\n"
     ]
    }
   ],
   "source": [
    "cat = CatBoostClassifier(**study.best_params)\n",
    "cat.fit(X_tr_over, y_tr_over,\n",
    "        eval_set=[(X_tr_over, y_tr_over), (X_val, y_val)],\n",
    "        early_stopping_rounds=35,\n",
    "        verbose=100)\n",
    "\n",
    "print()\n",
    "classificationSummary(y_val, cat.predict(X_val))\n",
    "print('\\nAUC:', roc_auc_score(y_val, cat.predict(X_val)))"
   ]
  },
  {
   "cell_type": "code",
   "execution_count": 21,
   "id": "039299ab",
   "metadata": {},
   "outputs": [
    {
     "name": "stdout",
     "output_type": "stream",
     "text": [
      "오차행렬\n",
      "Confusion Matrix (Accuracy 0.8852)\n",
      "\n",
      "       Prediction\n",
      "Actual  0  1\n",
      "     0  0  5\n",
      "     1  2 54\n",
      "\n",
      "정확도 : 0.8852\n",
      "정밀도 : 0.9153\n",
      "재현율(민감도) : 0.9643\n",
      "특이도 : 0.0000\n",
      "AUC : 0.4821\n"
     ]
    }
   ],
   "source": [
    "clf_eval(y_test, cat.predict(X_test))"
   ]
  },
  {
   "cell_type": "markdown",
   "id": "b46c0f7e",
   "metadata": {},
   "source": [
    "### 2) AUC 기준 튜닝"
   ]
  },
  {
   "cell_type": "code",
   "execution_count": 22,
   "id": "d84e6c16",
   "metadata": {},
   "outputs": [
    {
     "name": "stderr",
     "output_type": "stream",
     "text": [
      "\u001b[32m[I 2022-09-02 15:46:18,651]\u001b[0m A new study created in memory with name: cat_parameter_opt\u001b[0m\n",
      "\u001b[32m[I 2022-09-02 15:46:18,794]\u001b[0m Trial 0 finished with value: 0.4152542372881356 and parameters: {'learning_rate': 0.03574712922600244, 'bagging_temperature': 63.512210106407046, 'n_estimators': 1000, 'max_depth': 13, 'random_strength': 60, 'colsample_bylevel': 0.014322493718230255, 'l2_leaf_reg': 4.688275664882717e-06, 'min_child_samples': 10, 'max_bin': 460, 'od_type': 'Iter'}. Best is trial 0 with value: 0.4152542372881356.\u001b[0m\n"
     ]
    },
    {
     "name": "stdout",
     "output_type": "stream",
     "text": [
      "0:\tlearn: 0.6931466\ttest: 0.6931472\ttest1: 0.6931472\tbest: 0.6931472 (0)\ttotal: 646us\tremaining: 646ms\n",
      "Stopped by overfitting detector  (35 iterations wait)\n",
      "\n",
      "bestTest = 0.525522526\n",
      "bestIteration = 53\n",
      "\n",
      "Shrink model to first 54 iterations.\n",
      "0:\tlearn: 0.6931466\ttest: 0.6931472\ttest1: 0.6931472\tbest: 0.6931472 (0)\ttotal: 587us\tremaining: 587ms\n",
      "100:\tlearn: 0.6142991\ttest: 0.6143388\ttest1: 0.6025109\tbest: 0.6025109 (100)\ttotal: 59.1ms\tremaining: 526ms\n",
      "200:\tlearn: 0.5462015\ttest: 0.5462451\ttest1: 0.5432633\tbest: 0.5429936 (199)\ttotal: 130ms\tremaining: 517ms\n"
     ]
    },
    {
     "name": "stderr",
     "output_type": "stream",
     "text": [
      "\u001b[32m[I 2022-09-02 15:46:19,302]\u001b[0m Trial 1 finished with value: 0.4406779661016949 and parameters: {'learning_rate': 0.010725209743171996, 'bagging_temperature': 75.7947995334801, 'n_estimators': 1000, 'max_depth': 14, 'random_strength': 21, 'colsample_bylevel': 0.015199348301309814, 'l2_leaf_reg': 5.51030125050448e-06, 'min_child_samples': 34, 'max_bin': 357, 'od_type': 'IncToDec'}. Best is trial 1 with value: 0.4406779661016949.\u001b[0m\n"
     ]
    },
    {
     "name": "stdout",
     "output_type": "stream",
     "text": [
      "300:\tlearn: 0.4760113\ttest: 0.4760335\ttest1: 0.4789046\tbest: 0.4781129 (293)\ttotal: 204ms\tremaining: 473ms\n",
      "400:\tlearn: 0.4321197\ttest: 0.4321276\ttest1: 0.4547934\tbest: 0.4544647 (371)\ttotal: 278ms\tremaining: 415ms\n",
      "Stopped by overfitting detector  (35 iterations wait)\n",
      "\n",
      "bestTest = 0.4376710102\n",
      "bestIteration = 426\n",
      "\n",
      "Shrink model to first 427 iterations.\n",
      "0:\tlearn: 0.6931466\ttest: 0.6931472\ttest1: 0.6931472\tbest: 0.6931472 (0)\ttotal: 1.05ms\tremaining: 1.05s\n",
      "100:\tlearn: 0.2874036\ttest: 0.2874282\ttest1: 0.3668128\tbest: 0.3514807 (88)\ttotal: 89.8ms\tremaining: 800ms\n"
     ]
    },
    {
     "name": "stderr",
     "output_type": "stream",
     "text": [
      "\u001b[32m[I 2022-09-02 15:46:19,653]\u001b[0m Trial 2 finished with value: 0.4830508474576271 and parameters: {'learning_rate': 0.08012737503998542, 'bagging_temperature': 0.03613894271216528, 'n_estimators': 1000, 'max_depth': 7, 'random_strength': 37, 'colsample_bylevel': 0.028580510658069373, 'l2_leaf_reg': 2.355742708217648e-05, 'min_child_samples': 24, 'max_bin': 354, 'od_type': 'IncToDec'}. Best is trial 2 with value: 0.4830508474576271.\u001b[0m\n"
     ]
    },
    {
     "name": "stdout",
     "output_type": "stream",
     "text": [
      "200:\tlearn: 0.0318793\ttest: 0.0319030\ttest1: 0.1385489\tbest: 0.1385489 (200)\ttotal: 182ms\tremaining: 725ms\n",
      "Stopped by overfitting detector  (35 iterations wait)\n",
      "\n",
      "bestTest = 0.1385489394\n",
      "bestIteration = 200\n",
      "\n",
      "Shrink model to first 201 iterations.\n",
      "0:\tlearn: 0.6931466\ttest: 0.6931472\ttest1: 0.6931472\tbest: 0.6931472 (0)\ttotal: 791us\tremaining: 790ms\n"
     ]
    },
    {
     "name": "stderr",
     "output_type": "stream",
     "text": [
      "\u001b[32m[I 2022-09-02 15:46:20,016]\u001b[0m Trial 3 finished with value: 0.4830508474576271 and parameters: {'learning_rate': 0.07896186801026692, 'bagging_temperature': 0.04809461967501574, 'n_estimators': 1000, 'max_depth': 4, 'random_strength': 95, 'colsample_bylevel': 0.0923915031962725, 'l2_leaf_reg': 2.425383647001267e-05, 'min_child_samples': 34, 'max_bin': 229, 'od_type': 'IncToDec'}. Best is trial 2 with value: 0.4830508474576271.\u001b[0m\n"
     ]
    },
    {
     "name": "stdout",
     "output_type": "stream",
     "text": [
      "Stopped by overfitting detector  (35 iterations wait)\n",
      "\n",
      "bestTest = 0.1695944801\n",
      "bestIteration = 60\n",
      "\n",
      "Shrink model to first 61 iterations.\n",
      "0:\tlearn: 0.6931466\ttest: 0.6931472\ttest1: 0.6931472\tbest: 0.6931472 (0)\ttotal: 669us\tremaining: 669ms\n",
      "100:\tlearn: 0.5949385\ttest: 0.5949838\ttest1: 0.5663827\tbest: 0.5663827 (100)\ttotal: 68.4ms\tremaining: 608ms\n",
      "200:\tlearn: 0.5191927\ttest: 0.5192251\ttest1: 0.5169402\tbest: 0.5167028 (199)\ttotal: 144ms\tremaining: 571ms\n",
      "300:\tlearn: 0.4514885\ttest: 0.4515049\ttest1: 0.4655758\tbest: 0.4653676 (299)\ttotal: 223ms\tremaining: 518ms\n"
     ]
    },
    {
     "name": "stderr",
     "output_type": "stream",
     "text": [
      "\u001b[32m[I 2022-09-02 15:46:20,561]\u001b[0m Trial 4 finished with value: 0.423728813559322 and parameters: {'learning_rate': 0.015144860262751412, 'bagging_temperature': 0.9565499215943827, 'n_estimators': 1000, 'max_depth': 4, 'random_strength': 91, 'colsample_bylevel': 0.01814596135349025, 'l2_leaf_reg': 1.987904330777592e-05, 'min_child_samples': 34, 'max_bin': 356, 'od_type': 'IncToDec'}. Best is trial 2 with value: 0.4830508474576271.\u001b[0m\n"
     ]
    },
    {
     "name": "stdout",
     "output_type": "stream",
     "text": [
      "400:\tlearn: 0.3919252\ttest: 0.3919364\ttest1: 0.4065577\tbest: 0.4058708 (397)\ttotal: 318ms\tremaining: 475ms\n",
      "Stopped by overfitting detector  (35 iterations wait)\n",
      "\n",
      "bestTest = 0.4058708074\n",
      "bestIteration = 397\n",
      "\n",
      "Shrink model to first 398 iterations.\n",
      "0:\tlearn: 0.6931466\ttest: 0.6931472\ttest1: 0.6931472\tbest: 0.6931472 (0)\ttotal: 715us\tremaining: 715ms\n",
      "Stopped by overfitting detector  (35 iterations wait)\n"
     ]
    },
    {
     "name": "stderr",
     "output_type": "stream",
     "text": [
      "\u001b[32m[I 2022-09-02 15:46:20,724]\u001b[0m Trial 5 finished with value: 0.4745762711864407 and parameters: {'learning_rate': 0.27051668818999286, 'bagging_temperature': 12.60466458564947, 'n_estimators': 1000, 'max_depth': 16, 'random_strength': 90, 'colsample_bylevel': 0.03961867790406585, 'l2_leaf_reg': 2.7657008308343274e-05, 'min_child_samples': 13, 'max_bin': 258, 'od_type': 'Iter'}. Best is trial 2 with value: 0.4830508474576271.\u001b[0m\n"
     ]
    },
    {
     "name": "stdout",
     "output_type": "stream",
     "text": [
      "\n",
      "bestTest = 0.1685008007\n",
      "bestIteration = 25\n",
      "\n",
      "Shrink model to first 26 iterations.\n",
      "0:\tlearn: 0.6931466\ttest: 0.6931472\ttest1: 0.6931472\tbest: 0.6931472 (0)\ttotal: 577us\tremaining: 577ms\n",
      "100:\tlearn: 0.5113501\ttest: 0.5113774\ttest1: 0.5004177\tbest: 0.4931031 (93)\ttotal: 65.3ms\tremaining: 581ms\n"
     ]
    },
    {
     "name": "stderr",
     "output_type": "stream",
     "text": [
      "\u001b[32m[I 2022-09-02 15:46:20,941]\u001b[0m Trial 6 finished with value: 0.423728813559322 and parameters: {'learning_rate': 0.03750796359625606, 'bagging_temperature': 0.12172958098369972, 'n_estimators': 1000, 'max_depth': 14, 'random_strength': 36, 'colsample_bylevel': 0.01909565280104538, 'l2_leaf_reg': 1.6285455533915874e-05, 'min_child_samples': 18, 'max_bin': 441, 'od_type': 'Iter'}. Best is trial 2 with value: 0.4830508474576271.\u001b[0m\n"
     ]
    },
    {
     "name": "stdout",
     "output_type": "stream",
     "text": [
      "Stopped by overfitting detector  (35 iterations wait)\n",
      "\n",
      "bestTest = 0.4227739397\n",
      "bestIteration = 126\n",
      "\n",
      "Shrink model to first 127 iterations.\n",
      "0:\tlearn: 0.6931466\ttest: 0.6931472\ttest1: 0.6931472\tbest: 0.6931472 (0)\ttotal: 505us\tremaining: 505ms\n"
     ]
    },
    {
     "name": "stderr",
     "output_type": "stream",
     "text": [
      "\u001b[32m[I 2022-09-02 15:46:21,194]\u001b[0m Trial 7 finished with value: 0.4830508474576271 and parameters: {'learning_rate': 0.13826083091896751, 'bagging_temperature': 0.06235377135673159, 'n_estimators': 1000, 'max_depth': 4, 'random_strength': 82, 'colsample_bylevel': 0.05091635945818555, 'l2_leaf_reg': 2.187292496954921e-05, 'min_child_samples': 79, 'max_bin': 222, 'od_type': 'IncToDec'}. Best is trial 2 with value: 0.4830508474576271.\u001b[0m\n"
     ]
    },
    {
     "name": "stdout",
     "output_type": "stream",
     "text": [
      "Stopped by overfitting detector  (35 iterations wait)\n",
      "\n",
      "bestTest = 0.1641839239\n",
      "bestIteration = 62\n",
      "\n",
      "Shrink model to first 63 iterations.\n",
      "0:\tlearn: 0.6931466\ttest: 0.6931472\ttest1: 0.6931472\tbest: 0.6931472 (0)\ttotal: 463us\tremaining: 463ms\n",
      "100:\tlearn: 0.1142307\ttest: 0.1142613\ttest1: 0.1914988\tbest: 0.1851064 (87)\ttotal: 66.3ms\tremaining: 590ms\n"
     ]
    },
    {
     "name": "stderr",
     "output_type": "stream",
     "text": [
      "\u001b[32m[I 2022-09-02 15:46:21,437]\u001b[0m Trial 8 finished with value: 0.9745762711864407 and parameters: {'learning_rate': 0.18832519048593593, 'bagging_temperature': 3.1130959561221245, 'n_estimators': 1000, 'max_depth': 8, 'random_strength': 6, 'colsample_bylevel': 0.020463613363481608, 'l2_leaf_reg': 9.762247827582143e-06, 'min_child_samples': 75, 'max_bin': 391, 'od_type': 'IncToDec'}. Best is trial 8 with value: 0.9745762711864407.\u001b[0m\n"
     ]
    },
    {
     "name": "stdout",
     "output_type": "stream",
     "text": [
      "Stopped by overfitting detector  (35 iterations wait)\n",
      "\n",
      "bestTest = 0.1327629418\n",
      "bestIteration = 143\n",
      "\n",
      "Shrink model to first 144 iterations.\n",
      "0:\tlearn: 0.6931466\ttest: 0.6931472\ttest1: 0.6931472\tbest: 0.6931472 (0)\ttotal: 554us\tremaining: 554ms\n",
      "100:\tlearn: 0.1281872\ttest: 0.1282226\ttest1: 0.2254477\tbest: 0.2228611 (96)\ttotal: 838ms\tremaining: 7.53s\n"
     ]
    },
    {
     "name": "stderr",
     "output_type": "stream",
     "text": [
      "\u001b[32m[I 2022-09-02 15:46:23,349]\u001b[0m Trial 9 finished with value: 0.4745762711864407 and parameters: {'learning_rate': 0.015019490572374374, 'bagging_temperature': 7.128188058401368, 'n_estimators': 1000, 'max_depth': 13, 'random_strength': 56, 'colsample_bylevel': 0.05901564798023389, 'l2_leaf_reg': 1.4818929934968078e-05, 'min_child_samples': 55, 'max_bin': 328, 'od_type': 'Iter'}. Best is trial 8 with value: 0.9745762711864407.\u001b[0m\n"
     ]
    },
    {
     "name": "stdout",
     "output_type": "stream",
     "text": [
      "Stopped by overfitting detector  (35 iterations wait)\n",
      "\n",
      "bestTest = 0.2101789637\n",
      "bestIteration = 145\n",
      "\n",
      "Shrink model to first 146 iterations.\n",
      "Best Score: 0.9745762711864407\n",
      "Best trial {'learning_rate': 0.18832519048593593, 'bagging_temperature': 3.1130959561221245, 'n_estimators': 1000, 'max_depth': 8, 'random_strength': 6, 'colsample_bylevel': 0.020463613363481608, 'l2_leaf_reg': 9.762247827582143e-06, 'min_child_samples': 75, 'max_bin': 391, 'od_type': 'IncToDec'}\n"
     ]
    }
   ],
   "source": [
    "sampler = TPESampler(seed=42)\n",
    "\n",
    "study = optuna.create_study(\n",
    "    study_name = 'cat_parameter_opt',\n",
    "    direction = 'maximize',\n",
    "    sampler = sampler)\n",
    "\n",
    "study.optimize(objective2, n_trials=10)\n",
    "\n",
    "print(\"Best Score:\",study.best_value)\n",
    "print(\"Best trial\",study.best_trial.params)"
   ]
  },
  {
   "cell_type": "code",
   "execution_count": 24,
   "id": "b80a1909",
   "metadata": {},
   "outputs": [
    {
     "name": "stdout",
     "output_type": "stream",
     "text": [
      "0:\tlearn: 0.6380245\ttest: 0.6380801\ttest1: 0.6646944\tbest: 0.6646944 (0)\ttotal: 1.08ms\tremaining: 1.08s\n",
      "100:\tlearn: 0.0303890\ttest: 0.0304067\ttest1: 0.1433092\tbest: 0.1266855 (72)\ttotal: 75.3ms\tremaining: 670ms\n",
      "Stopped by overfitting detector  (35 iterations wait)\n",
      "\n",
      "bestTest = 0.1266854613\n",
      "bestIteration = 72\n",
      "\n",
      "Shrink model to first 73 iterations.\n",
      "\n",
      "Confusion Matrix (Accuracy 0.9667)\n",
      "\n",
      "       Prediction\n",
      "Actual  0  1\n",
      "     0  0  1\n",
      "     1  1 58\n",
      "\n",
      "AUC: 0.4915254237288136\n"
     ]
    }
   ],
   "source": [
    "cat = CatBoostClassifier(**study.best_params)\n",
    "cat.fit(X_tr_over, y_tr_over,\n",
    "        eval_set=[(X_tr_over, y_tr_over), (X_val, y_val)],\n",
    "        early_stopping_rounds=35,\n",
    "        verbose=100)\n",
    "\n",
    "print()\n",
    "classificationSummary(y_val, cat.predict(X_val))\n",
    "print('\\nAUC:', roc_auc_score(y_val, cat.predict(X_val)))"
   ]
  },
  {
   "cell_type": "code",
   "execution_count": 25,
   "id": "00ba7c5a",
   "metadata": {},
   "outputs": [
    {
     "name": "stdout",
     "output_type": "stream",
     "text": [
      "오차행렬\n",
      "Confusion Matrix (Accuracy 0.9180)\n",
      "\n",
      "       Prediction\n",
      "Actual  0  1\n",
      "     0  0  5\n",
      "     1  0 56\n",
      "\n",
      "정확도 : 0.9180\n",
      "정밀도 : 0.9180\n",
      "재현율(민감도) : 1.0000\n",
      "특이도 : 0.0000\n",
      "AUC : 0.5000\n"
     ]
    }
   ],
   "source": [
    "clf_eval(y_test, cat.predict(X_test))"
   ]
  },
  {
   "cell_type": "markdown",
   "id": "5d047216",
   "metadata": {},
   "source": [
    "# 3) Train_dt"
   ]
  },
  {
   "cell_type": "code",
   "execution_count": 26,
   "id": "15e643f3",
   "metadata": {},
   "outputs": [],
   "source": [
    "X_train = train_dt.drop('OC', axis=1)\n",
    "y_train = train_dt['OC']\n",
    "\n",
    "X_train, X_val, y_train, y_val = train_test_split(X_train, y_train, test_size=0.4, random_state=42)\n",
    "\n",
    "X_val, X_test, y_val, y_test = train_test_split(X_val, y_val, test_size=0.5, random_state=42)\n",
    "\n",
    "smote = SMOTE(random_state=42)\n",
    "X_tr_over, y_tr_over = smote.fit_resample(X_train, y_train)"
   ]
  },
  {
   "cell_type": "markdown",
   "id": "1788f323",
   "metadata": {},
   "source": [
    "### 1) accuracy 기준"
   ]
  },
  {
   "cell_type": "code",
   "execution_count": 27,
   "id": "31243b2f",
   "metadata": {},
   "outputs": [
    {
     "name": "stderr",
     "output_type": "stream",
     "text": [
      "\u001b[32m[I 2022-09-02 15:48:38,206]\u001b[0m A new study created in memory with name: cat_parameter_opt\u001b[0m\n"
     ]
    },
    {
     "name": "stdout",
     "output_type": "stream",
     "text": [
      "0:\tlearn: 0.6931466\ttest: 0.6931472\ttest1: 0.6931472\tbest: 0.6931472 (0)\ttotal: 1.24ms\tremaining: 1.24s\n",
      "100:\tlearn: 0.6349239\ttest: 0.6349611\ttest1: 0.6353589\tbest: 0.6353589 (100)\ttotal: 55.3ms\tremaining: 493ms\n",
      "200:\tlearn: 0.5871756\ttest: 0.5872172\ttest1: 0.5829253\tbest: 0.5829253 (200)\ttotal: 104ms\tremaining: 414ms\n"
     ]
    },
    {
     "name": "stderr",
     "output_type": "stream",
     "text": [
      "\u001b[32m[I 2022-09-02 15:48:38,631]\u001b[0m Trial 0 finished with value: 0.8666666666666667 and parameters: {'learning_rate': 0.03574712922600244, 'bagging_temperature': 63.512210106407046, 'n_estimators': 1000, 'max_depth': 13, 'random_strength': 60, 'colsample_bylevel': 0.014322493718230255, 'l2_leaf_reg': 4.688275664882717e-06, 'min_child_samples': 10, 'max_bin': 460, 'od_type': 'Iter'}. Best is trial 0 with value: 0.8666666666666667.\u001b[0m\n"
     ]
    },
    {
     "name": "stdout",
     "output_type": "stream",
     "text": [
      "300:\tlearn: 0.5005499\ttest: 0.5005610\ttest1: 0.4919876\tbest: 0.4919876 (300)\ttotal: 164ms\tremaining: 381ms\n",
      "400:\tlearn: 0.4256693\ttest: 0.4256854\ttest1: 0.4317782\tbest: 0.4317782 (400)\ttotal: 220ms\tremaining: 328ms\n",
      "Stopped by overfitting detector  (35 iterations wait)\n",
      "\n",
      "bestTest = 0.4153037179\n",
      "bestIteration = 420\n",
      "\n",
      "Shrink model to first 421 iterations.\n",
      "0:\tlearn: 0.6931466\ttest: 0.6931472\ttest1: 0.6931472\tbest: 0.6931472 (0)\ttotal: 661us\tremaining: 660ms\n",
      "100:\tlearn: 0.6698613\ttest: 0.6698769\ttest1: 0.6748575\tbest: 0.6748575 (100)\ttotal: 53.5ms\tremaining: 476ms\n",
      "200:\tlearn: 0.6503891\ttest: 0.6504269\ttest1: 0.6484667\tbest: 0.6483592 (194)\ttotal: 103ms\tremaining: 411ms\n",
      "300:\tlearn: 0.6282777\ttest: 0.6283285\ttest1: 0.6257651\tbest: 0.6257651 (300)\ttotal: 155ms\tremaining: 360ms\n",
      "400:\tlearn: 0.6132464\ttest: 0.6132970\ttest1: 0.6125262\tbest: 0.6125262 (400)\ttotal: 205ms\tremaining: 306ms\n",
      "500:\tlearn: 0.5972223\ttest: 0.5972629\ttest1: 0.5918505\tbest: 0.5918505 (500)\ttotal: 263ms\tremaining: 262ms\n",
      "600:\tlearn: 0.5760329\ttest: 0.5760647\ttest1: 0.5702323\tbest: 0.5699338 (592)\ttotal: 318ms\tremaining: 211ms\n",
      "700:\tlearn: 0.5537269\ttest: 0.5537523\ttest1: 0.5545051\tbest: 0.5545017 (699)\ttotal: 379ms\tremaining: 162ms\n",
      "800:\tlearn: 0.5191132\ttest: 0.5191325\ttest1: 0.5208961\tbest: 0.5208961 (800)\ttotal: 443ms\tremaining: 110ms\n",
      "900:\tlearn: 0.4869583\ttest: 0.4869699\ttest1: 0.4903134\tbest: 0.4903134 (900)\ttotal: 517ms\tremaining: 56.8ms\n"
     ]
    },
    {
     "name": "stderr",
     "output_type": "stream",
     "text": [
      "\u001b[32m[I 2022-09-02 15:48:39,545]\u001b[0m Trial 1 finished with value: 0.85 and parameters: {'learning_rate': 0.010725209743171996, 'bagging_temperature': 75.7947995334801, 'n_estimators': 1000, 'max_depth': 14, 'random_strength': 21, 'colsample_bylevel': 0.015199348301309814, 'l2_leaf_reg': 5.51030125050448e-06, 'min_child_samples': 34, 'max_bin': 357, 'od_type': 'IncToDec'}. Best is trial 0 with value: 0.8666666666666667.\u001b[0m\n"
     ]
    },
    {
     "name": "stdout",
     "output_type": "stream",
     "text": [
      "999:\tlearn: 0.4752959\ttest: 0.4753074\ttest1: 0.4773441\tbest: 0.4773404 (998)\ttotal: 596ms\tremaining: 0us\n",
      "\n",
      "bestTest = 0.4773403717\n",
      "bestIteration = 998\n",
      "\n",
      "Shrink model to first 999 iterations.\n",
      "0:\tlearn: 0.6931466\ttest: 0.6931472\ttest1: 0.6931472\tbest: 0.6931472 (0)\ttotal: 534us\tremaining: 534ms\n",
      "100:\tlearn: 0.5243966\ttest: 0.5244262\ttest1: 0.5287046\tbest: 0.5287046 (100)\ttotal: 58.7ms\tremaining: 522ms\n",
      "200:\tlearn: 0.3374411\ttest: 0.3374643\ttest1: 0.3889688\tbest: 0.3889688 (200)\ttotal: 135ms\tremaining: 537ms\n",
      "300:\tlearn: 0.2067207\ttest: 0.2067459\ttest1: 0.2898191\tbest: 0.2898191 (300)\ttotal: 206ms\tremaining: 478ms\n",
      "400:\tlearn: 0.1719296\ttest: 0.1719545\ttest1: 0.2563818\tbest: 0.2563815 (399)\ttotal: 272ms\tremaining: 407ms\n"
     ]
    },
    {
     "name": "stderr",
     "output_type": "stream",
     "text": [
      "\u001b[32m[I 2022-09-02 15:48:40,039]\u001b[0m Trial 2 finished with value: 0.9166666666666666 and parameters: {'learning_rate': 0.08012737503998542, 'bagging_temperature': 0.03613894271216528, 'n_estimators': 1000, 'max_depth': 7, 'random_strength': 37, 'colsample_bylevel': 0.028580510658069373, 'l2_leaf_reg': 2.355742708217648e-05, 'min_child_samples': 24, 'max_bin': 354, 'od_type': 'IncToDec'}. Best is trial 2 with value: 0.9166666666666666.\u001b[0m\n"
     ]
    },
    {
     "name": "stdout",
     "output_type": "stream",
     "text": [
      "Stopped by overfitting detector  (35 iterations wait)\n",
      "\n",
      "bestTest = 0.2465413116\n",
      "bestIteration = 424\n",
      "\n",
      "Shrink model to first 425 iterations.\n",
      "0:\tlearn: 0.6931466\ttest: 0.6931472\ttest1: 0.6931472\tbest: 0.6931472 (0)\ttotal: 574us\tremaining: 574ms\n",
      "100:\tlearn: 0.2003567\ttest: 0.2003831\ttest1: 0.2931297\tbest: 0.2918326 (98)\ttotal: 105ms\tremaining: 935ms\n"
     ]
    },
    {
     "name": "stderr",
     "output_type": "stream",
     "text": [
      "\u001b[32m[I 2022-09-02 15:48:40,387]\u001b[0m Trial 3 finished with value: 0.95 and parameters: {'learning_rate': 0.07896186801026692, 'bagging_temperature': 0.04809461967501574, 'n_estimators': 1000, 'max_depth': 4, 'random_strength': 95, 'colsample_bylevel': 0.0923915031962725, 'l2_leaf_reg': 2.425383647001267e-05, 'min_child_samples': 34, 'max_bin': 229, 'od_type': 'IncToDec'}. Best is trial 3 with value: 0.95.\u001b[0m\n"
     ]
    },
    {
     "name": "stdout",
     "output_type": "stream",
     "text": [
      "Stopped by overfitting detector  (35 iterations wait)\n",
      "\n",
      "bestTest = 0.2364601151\n",
      "bestIteration = 162\n",
      "\n",
      "Shrink model to first 163 iterations.\n",
      "0:\tlearn: 0.6931466\ttest: 0.6931472\ttest1: 0.6931472\tbest: 0.6931472 (0)\ttotal: 569us\tremaining: 569ms\n",
      "100:\tlearn: 0.6646031\ttest: 0.6646293\ttest1: 0.6634983\tbest: 0.6634911 (99)\ttotal: 49.8ms\tremaining: 444ms\n",
      "200:\tlearn: 0.6513305\ttest: 0.6513632\ttest1: 0.6519966\tbest: 0.6519966 (200)\ttotal: 100ms\tremaining: 399ms\n",
      "300:\tlearn: 0.5965649\ttest: 0.5966031\ttest1: 0.5944306\tbest: 0.5944306 (300)\ttotal: 160ms\tremaining: 371ms\n",
      "400:\tlearn: 0.5662408\ttest: 0.5662818\ttest1: 0.5715824\tbest: 0.5715824 (400)\ttotal: 217ms\tremaining: 324ms\n",
      "500:\tlearn: 0.5413191\ttest: 0.5413537\ttest1: 0.5486930\tbest: 0.5486930 (500)\ttotal: 279ms\tremaining: 278ms\n",
      "600:\tlearn: 0.5209998\ttest: 0.5210267\ttest1: 0.5242367\tbest: 0.5242367 (600)\ttotal: 339ms\tremaining: 225ms\n",
      "700:\tlearn: 0.4868976\ttest: 0.4869155\ttest1: 0.4889472\tbest: 0.4888763 (698)\ttotal: 407ms\tremaining: 174ms\n"
     ]
    },
    {
     "name": "stderr",
     "output_type": "stream",
     "text": [
      "\u001b[32m[I 2022-09-02 15:48:41,174]\u001b[0m Trial 4 finished with value: 0.85 and parameters: {'learning_rate': 0.015144860262751412, 'bagging_temperature': 0.9565499215943827, 'n_estimators': 1000, 'max_depth': 4, 'random_strength': 91, 'colsample_bylevel': 0.01814596135349025, 'l2_leaf_reg': 1.987904330777592e-05, 'min_child_samples': 34, 'max_bin': 356, 'od_type': 'IncToDec'}. Best is trial 3 with value: 0.95.\u001b[0m\n"
     ]
    },
    {
     "name": "stdout",
     "output_type": "stream",
     "text": [
      "800:\tlearn: 0.4470260\ttest: 0.4470431\ttest1: 0.4498179\tbest: 0.4497880 (797)\ttotal: 468ms\tremaining: 116ms\n",
      "900:\tlearn: 0.4334899\ttest: 0.4335072\ttest1: 0.4384873\tbest: 0.4379406 (867)\ttotal: 524ms\tremaining: 57.6ms\n",
      "Stopped by overfitting detector  (35 iterations wait)\n",
      "\n",
      "bestTest = 0.4379405523\n",
      "bestIteration = 867\n",
      "\n",
      "Shrink model to first 868 iterations.\n",
      "0:\tlearn: 0.6931466\ttest: 0.6931472\ttest1: 0.6931472\tbest: 0.6931472 (0)\ttotal: 764us\tremaining: 763ms\n",
      "Stopped by overfitting detector  (35 iterations wait)\n"
     ]
    },
    {
     "name": "stderr",
     "output_type": "stream",
     "text": [
      "\u001b[32m[I 2022-09-02 15:48:41,316]\u001b[0m Trial 5 finished with value: 0.9 and parameters: {'learning_rate': 0.27051668818999286, 'bagging_temperature': 12.60466458564947, 'n_estimators': 1000, 'max_depth': 16, 'random_strength': 90, 'colsample_bylevel': 0.03961867790406585, 'l2_leaf_reg': 2.7657008308343274e-05, 'min_child_samples': 13, 'max_bin': 258, 'od_type': 'Iter'}. Best is trial 3 with value: 0.95.\u001b[0m\n",
      "\u001b[32m[I 2022-09-02 15:48:41,489]\u001b[0m Trial 6 finished with value: 0.8166666666666667 and parameters: {'learning_rate': 0.03750796359625606, 'bagging_temperature': 0.12172958098369972, 'n_estimators': 1000, 'max_depth': 14, 'random_strength': 36, 'colsample_bylevel': 0.01909565280104538, 'l2_leaf_reg': 1.6285455533915874e-05, 'min_child_samples': 18, 'max_bin': 441, 'od_type': 'Iter'}. Best is trial 3 with value: 0.95.\u001b[0m\n"
     ]
    },
    {
     "name": "stdout",
     "output_type": "stream",
     "text": [
      "\n",
      "bestTest = 0.2007632591\n",
      "bestIteration = 57\n",
      "\n",
      "Shrink model to first 58 iterations.\n",
      "0:\tlearn: 0.6931466\ttest: 0.6931472\ttest1: 0.6931472\tbest: 0.6931472 (0)\ttotal: 565us\tremaining: 565ms\n",
      "100:\tlearn: 0.6324519\ttest: 0.6324861\ttest1: 0.6273883\tbest: 0.6273432 (93)\ttotal: 57.8ms\tremaining: 515ms\n",
      "Stopped by overfitting detector  (35 iterations wait)\n",
      "\n",
      "bestTest = 0.6095326369\n",
      "bestIteration = 104\n",
      "\n",
      "Shrink model to first 105 iterations.\n",
      "0:\tlearn: 0.6931466\ttest: 0.6931472\ttest1: 0.6931472\tbest: 0.6931472 (0)\ttotal: 712us\tremaining: 711ms\n",
      "100:\tlearn: 0.2114221\ttest: 0.2114453\ttest1: 0.3073856\tbest: 0.2980268 (95)\ttotal: 92.2ms\tremaining: 821ms\n"
     ]
    },
    {
     "name": "stderr",
     "output_type": "stream",
     "text": [
      "\u001b[32m[I 2022-09-02 15:48:41,794]\u001b[0m Trial 7 finished with value: 0.9333333333333333 and parameters: {'learning_rate': 0.13826083091896751, 'bagging_temperature': 0.06235377135673159, 'n_estimators': 1000, 'max_depth': 4, 'random_strength': 82, 'colsample_bylevel': 0.05091635945818555, 'l2_leaf_reg': 2.187292496954921e-05, 'min_child_samples': 79, 'max_bin': 222, 'od_type': 'IncToDec'}. Best is trial 3 with value: 0.95.\u001b[0m\n"
     ]
    },
    {
     "name": "stdout",
     "output_type": "stream",
     "text": [
      "200:\tlearn: 0.0605579\ttest: 0.0605785\ttest1: 0.2598560\tbest: 0.2343627 (166)\ttotal: 176ms\tremaining: 700ms\n",
      "Stopped by overfitting detector  (35 iterations wait)\n",
      "\n",
      "bestTest = 0.2343627074\n",
      "bestIteration = 166\n",
      "\n",
      "Shrink model to first 167 iterations.\n",
      "0:\tlearn: 0.6931466\ttest: 0.6931472\ttest1: 0.6931472\tbest: 0.6931472 (0)\ttotal: 604us\tremaining: 604ms\n",
      "100:\tlearn: 0.3185655\ttest: 0.3185941\ttest1: 0.3678340\tbest: 0.3678340 (100)\ttotal: 62.1ms\tremaining: 553ms\n",
      "200:\tlearn: 0.2470327\ttest: 0.2470670\ttest1: 0.3234685\tbest: 0.3230624 (191)\ttotal: 117ms\tremaining: 463ms\n",
      "300:\tlearn: 0.1977074\ttest: 0.1977371\ttest1: 0.2870464\tbest: 0.2869113 (294)\ttotal: 173ms\tremaining: 402ms\n",
      "400:\tlearn: 0.1559487\ttest: 0.1559771\ttest1: 0.2372124\tbest: 0.2371889 (398)\ttotal: 230ms\tremaining: 343ms\n"
     ]
    },
    {
     "name": "stderr",
     "output_type": "stream",
     "text": [
      "\u001b[32m[I 2022-09-02 15:48:42,276]\u001b[0m Trial 8 finished with value: 0.95 and parameters: {'learning_rate': 0.18832519048593593, 'bagging_temperature': 3.1130959561221245, 'n_estimators': 1000, 'max_depth': 8, 'random_strength': 6, 'colsample_bylevel': 0.020463613363481608, 'l2_leaf_reg': 9.762247827582143e-06, 'min_child_samples': 75, 'max_bin': 391, 'od_type': 'IncToDec'}. Best is trial 3 with value: 0.95.\u001b[0m\n"
     ]
    },
    {
     "name": "stdout",
     "output_type": "stream",
     "text": [
      "500:\tlearn: 0.0889884\ttest: 0.0890083\ttest1: 0.1952885\tbest: 0.1944527 (483)\ttotal: 291ms\tremaining: 290ms\n",
      "Stopped by overfitting detector  (35 iterations wait)\n",
      "\n",
      "bestTest = 0.1944526508\n",
      "bestIteration = 483\n",
      "\n",
      "Shrink model to first 484 iterations.\n",
      "0:\tlearn: 0.6931466\ttest: 0.6931472\ttest1: 0.6931472\tbest: 0.6931472 (0)\ttotal: 571us\tremaining: 571ms\n",
      "100:\tlearn: 0.5349846\ttest: 0.5350208\ttest1: 0.5412904\tbest: 0.5407327 (87)\ttotal: 89.8ms\tremaining: 799ms\n",
      "200:\tlearn: 0.4317623\ttest: 0.4317854\ttest1: 0.4551514\tbest: 0.4551514 (200)\ttotal: 186ms\tremaining: 739ms\n",
      "300:\tlearn: 0.3296377\ttest: 0.3296662\ttest1: 0.3687577\tbest: 0.3677265 (286)\ttotal: 327ms\tremaining: 759ms\n",
      "400:\tlearn: 0.2701405\ttest: 0.2701694\ttest1: 0.3195351\tbest: 0.3193901 (398)\ttotal: 413ms\tremaining: 618ms\n",
      "500:\tlearn: 0.2329516\ttest: 0.2329790\ttest1: 0.2864079\tbest: 0.2864079 (500)\ttotal: 499ms\tremaining: 497ms\n",
      "600:\tlearn: 0.2126520\ttest: 0.2126804\ttest1: 0.2708944\tbest: 0.2708476 (582)\ttotal: 576ms\tremaining: 382ms\n",
      "700:\tlearn: 0.1800598\ttest: 0.1800887\ttest1: 0.2473833\tbest: 0.2469772 (695)\ttotal: 657ms\tremaining: 280ms\n"
     ]
    },
    {
     "name": "stderr",
     "output_type": "stream",
     "text": [
      "\u001b[32m[I 2022-09-02 15:48:43,412]\u001b[0m Trial 9 finished with value: 0.9333333333333333 and parameters: {'learning_rate': 0.015019490572374374, 'bagging_temperature': 7.128188058401368, 'n_estimators': 1000, 'max_depth': 13, 'random_strength': 56, 'colsample_bylevel': 0.05901564798023389, 'l2_leaf_reg': 1.4818929934968078e-05, 'min_child_samples': 55, 'max_bin': 328, 'od_type': 'Iter'}. Best is trial 3 with value: 0.95.\u001b[0m\n"
     ]
    },
    {
     "name": "stdout",
     "output_type": "stream",
     "text": [
      "800:\tlearn: 0.1458179\ttest: 0.1458486\ttest1: 0.2309680\tbest: 0.2309615 (799)\ttotal: 743ms\tremaining: 185ms\n",
      "Stopped by overfitting detector  (35 iterations wait)\n",
      "\n",
      "bestTest = 0.2205253176\n",
      "bestIteration = 822\n",
      "\n",
      "Shrink model to first 823 iterations.\n",
      "Best Score: 0.95\n",
      "Best trial {'learning_rate': 0.07896186801026692, 'bagging_temperature': 0.04809461967501574, 'n_estimators': 1000, 'max_depth': 4, 'random_strength': 95, 'colsample_bylevel': 0.0923915031962725, 'l2_leaf_reg': 2.425383647001267e-05, 'min_child_samples': 34, 'max_bin': 229, 'od_type': 'IncToDec'}\n"
     ]
    }
   ],
   "source": [
    "sampler = TPESampler(seed=42)\n",
    "\n",
    "study = optuna.create_study(\n",
    "    study_name = 'cat_parameter_opt',\n",
    "    direction = 'maximize',\n",
    "    sampler = sampler)\n",
    "\n",
    "study.optimize(objective1, n_trials=10)\n",
    "\n",
    "print(\"Best Score:\",study.best_value)\n",
    "print(\"Best trial\",study.best_trial.params)"
   ]
  },
  {
   "cell_type": "code",
   "execution_count": 28,
   "id": "a0defa31",
   "metadata": {
    "scrolled": true
   },
   "outputs": [
    {
     "name": "stdout",
     "output_type": "stream",
     "text": [
      "0:\tlearn: 0.6811663\ttest: 0.6811727\ttest1: 0.6871124\tbest: 0.6871124 (0)\ttotal: 1.05ms\tremaining: 1.05s\n",
      "100:\tlearn: 0.2194073\ttest: 0.2194296\ttest1: 0.3388927\tbest: 0.3379586 (68)\ttotal: 103ms\tremaining: 915ms\n",
      "200:\tlearn: 0.0424431\ttest: 0.0424620\ttest1: 0.2762875\tbest: 0.2640982 (177)\ttotal: 202ms\tremaining: 802ms\n",
      "Stopped by overfitting detector  (35 iterations wait)\n",
      "\n",
      "bestTest = 0.2640982313\n",
      "bestIteration = 177\n",
      "\n",
      "Shrink model to first 178 iterations.\n",
      "\n",
      "Confusion Matrix (Accuracy 0.9667)\n",
      "\n",
      "       Prediction\n",
      "Actual  0  1\n",
      "     0  0  1\n",
      "     1  1 58\n",
      "\n",
      "AUC: 0.4915254237288136\n"
     ]
    }
   ],
   "source": [
    "cat = CatBoostClassifier(**study.best_params)\n",
    "cat.fit(X_tr_over, y_tr_over,\n",
    "        eval_set=[(X_tr_over, y_tr_over), (X_val, y_val)],\n",
    "        early_stopping_rounds=35,\n",
    "        verbose=100)\n",
    "\n",
    "print()\n",
    "classificationSummary(y_val, cat.predict(X_val))\n",
    "print('\\nAUC:', roc_auc_score(y_val, cat.predict(X_val)))"
   ]
  },
  {
   "cell_type": "code",
   "execution_count": 29,
   "id": "219af11c",
   "metadata": {},
   "outputs": [
    {
     "name": "stdout",
     "output_type": "stream",
     "text": [
      "오차행렬\n",
      "Confusion Matrix (Accuracy 0.9016)\n",
      "\n",
      "       Prediction\n",
      "Actual  0  1\n",
      "     0  0  5\n",
      "     1  1 55\n",
      "\n",
      "정확도 : 0.9016\n",
      "정밀도 : 0.9167\n",
      "재현율(민감도) : 0.9821\n",
      "특이도 : 0.0000\n",
      "AUC : 0.4911\n"
     ]
    }
   ],
   "source": [
    "clf_eval(y_test, cat.predict(X_test))"
   ]
  },
  {
   "cell_type": "markdown",
   "id": "f9f73c3b",
   "metadata": {},
   "source": [
    "### 2) AUC 기준"
   ]
  },
  {
   "cell_type": "code",
   "execution_count": 30,
   "id": "fead3ef9",
   "metadata": {},
   "outputs": [
    {
     "name": "stderr",
     "output_type": "stream",
     "text": [
      "\u001b[32m[I 2022-09-02 15:49:05,741]\u001b[0m A new study created in memory with name: cat_parameter_opt\u001b[0m\n"
     ]
    },
    {
     "name": "stdout",
     "output_type": "stream",
     "text": [
      "0:\tlearn: 0.6931466\ttest: 0.6931472\ttest1: 0.6931472\tbest: 0.6931472 (0)\ttotal: 653us\tremaining: 653ms\n",
      "100:\tlearn: 0.6349239\ttest: 0.6349611\ttest1: 0.6353589\tbest: 0.6353589 (100)\ttotal: 52.8ms\tremaining: 470ms\n",
      "200:\tlearn: 0.5871756\ttest: 0.5872172\ttest1: 0.5829253\tbest: 0.5829253 (200)\ttotal: 107ms\tremaining: 427ms\n"
     ]
    },
    {
     "name": "stderr",
     "output_type": "stream",
     "text": [
      "\u001b[32m[I 2022-09-02 15:49:06,195]\u001b[0m Trial 0 finished with value: 0.4406779661016949 and parameters: {'learning_rate': 0.03574712922600244, 'bagging_temperature': 63.512210106407046, 'n_estimators': 1000, 'max_depth': 13, 'random_strength': 60, 'colsample_bylevel': 0.014322493718230255, 'l2_leaf_reg': 4.688275664882717e-06, 'min_child_samples': 10, 'max_bin': 460, 'od_type': 'Iter'}. Best is trial 0 with value: 0.4406779661016949.\u001b[0m\n"
     ]
    },
    {
     "name": "stdout",
     "output_type": "stream",
     "text": [
      "300:\tlearn: 0.5005499\ttest: 0.5005610\ttest1: 0.4919876\tbest: 0.4919876 (300)\ttotal: 169ms\tremaining: 392ms\n",
      "400:\tlearn: 0.4256693\ttest: 0.4256854\ttest1: 0.4317782\tbest: 0.4317782 (400)\ttotal: 234ms\tremaining: 350ms\n",
      "Stopped by overfitting detector  (35 iterations wait)\n",
      "\n",
      "bestTest = 0.4153037179\n",
      "bestIteration = 420\n",
      "\n",
      "Shrink model to first 421 iterations.\n",
      "0:\tlearn: 0.6931466\ttest: 0.6931472\ttest1: 0.6931472\tbest: 0.6931472 (0)\ttotal: 591us\tremaining: 591ms\n",
      "100:\tlearn: 0.6698613\ttest: 0.6698769\ttest1: 0.6748575\tbest: 0.6748575 (100)\ttotal: 61.3ms\tremaining: 545ms\n",
      "200:\tlearn: 0.6503891\ttest: 0.6504269\ttest1: 0.6484667\tbest: 0.6483592 (194)\ttotal: 119ms\tremaining: 475ms\n",
      "300:\tlearn: 0.6282777\ttest: 0.6283285\ttest1: 0.6257651\tbest: 0.6257651 (300)\ttotal: 185ms\tremaining: 430ms\n",
      "400:\tlearn: 0.6132464\ttest: 0.6132970\ttest1: 0.6125262\tbest: 0.6125262 (400)\ttotal: 261ms\tremaining: 389ms\n",
      "500:\tlearn: 0.5972223\ttest: 0.5972629\ttest1: 0.5918505\tbest: 0.5918505 (500)\ttotal: 335ms\tremaining: 333ms\n",
      "600:\tlearn: 0.5760329\ttest: 0.5760647\ttest1: 0.5702323\tbest: 0.5699338 (592)\ttotal: 401ms\tremaining: 267ms\n",
      "700:\tlearn: 0.5537269\ttest: 0.5537523\ttest1: 0.5545051\tbest: 0.5545017 (699)\ttotal: 478ms\tremaining: 204ms\n",
      "800:\tlearn: 0.5191132\ttest: 0.5191325\ttest1: 0.5208961\tbest: 0.5208961 (800)\ttotal: 554ms\tremaining: 138ms\n"
     ]
    },
    {
     "name": "stderr",
     "output_type": "stream",
     "text": [
      "\u001b[32m[I 2022-09-02 15:49:07,231]\u001b[0m Trial 1 finished with value: 0.4322033898305085 and parameters: {'learning_rate': 0.010725209743171996, 'bagging_temperature': 75.7947995334801, 'n_estimators': 1000, 'max_depth': 14, 'random_strength': 21, 'colsample_bylevel': 0.015199348301309814, 'l2_leaf_reg': 5.51030125050448e-06, 'min_child_samples': 34, 'max_bin': 357, 'od_type': 'IncToDec'}. Best is trial 0 with value: 0.4406779661016949.\u001b[0m\n"
     ]
    },
    {
     "name": "stdout",
     "output_type": "stream",
     "text": [
      "900:\tlearn: 0.4869583\ttest: 0.4869699\ttest1: 0.4903134\tbest: 0.4903134 (900)\ttotal: 614ms\tremaining: 67.4ms\n",
      "999:\tlearn: 0.4752959\ttest: 0.4753074\ttest1: 0.4773441\tbest: 0.4773404 (998)\ttotal: 665ms\tremaining: 0us\n",
      "\n",
      "bestTest = 0.4773403717\n",
      "bestIteration = 998\n",
      "\n",
      "Shrink model to first 999 iterations.\n",
      "0:\tlearn: 0.6931466\ttest: 0.6931472\ttest1: 0.6931472\tbest: 0.6931472 (0)\ttotal: 549us\tremaining: 549ms\n",
      "100:\tlearn: 0.5243966\ttest: 0.5244262\ttest1: 0.5287046\tbest: 0.5287046 (100)\ttotal: 68.2ms\tremaining: 607ms\n",
      "200:\tlearn: 0.3374411\ttest: 0.3374643\ttest1: 0.3889688\tbest: 0.3889688 (200)\ttotal: 144ms\tremaining: 574ms\n"
     ]
    },
    {
     "name": "stderr",
     "output_type": "stream",
     "text": [
      "\u001b[32m[I 2022-09-02 15:49:07,722]\u001b[0m Trial 2 finished with value: 0.4661016949152542 and parameters: {'learning_rate': 0.08012737503998542, 'bagging_temperature': 0.03613894271216528, 'n_estimators': 1000, 'max_depth': 7, 'random_strength': 37, 'colsample_bylevel': 0.028580510658069373, 'l2_leaf_reg': 2.355742708217648e-05, 'min_child_samples': 24, 'max_bin': 354, 'od_type': 'IncToDec'}. Best is trial 2 with value: 0.4661016949152542.\u001b[0m\n"
     ]
    },
    {
     "name": "stdout",
     "output_type": "stream",
     "text": [
      "300:\tlearn: 0.2067207\ttest: 0.2067459\ttest1: 0.2898191\tbest: 0.2898191 (300)\ttotal: 213ms\tremaining: 495ms\n",
      "400:\tlearn: 0.1719296\ttest: 0.1719545\ttest1: 0.2563818\tbest: 0.2563815 (399)\ttotal: 273ms\tremaining: 408ms\n",
      "Stopped by overfitting detector  (35 iterations wait)\n",
      "\n",
      "bestTest = 0.2465413116\n",
      "bestIteration = 424\n",
      "\n",
      "Shrink model to first 425 iterations.\n",
      "0:\tlearn: 0.6931466\ttest: 0.6931472\ttest1: 0.6931472\tbest: 0.6931472 (0)\ttotal: 545us\tremaining: 545ms\n"
     ]
    },
    {
     "name": "stderr",
     "output_type": "stream",
     "text": [
      "\u001b[32m[I 2022-09-02 15:49:08,057]\u001b[0m Trial 3 finished with value: 0.4830508474576271 and parameters: {'learning_rate': 0.07896186801026692, 'bagging_temperature': 0.04809461967501574, 'n_estimators': 1000, 'max_depth': 4, 'random_strength': 95, 'colsample_bylevel': 0.0923915031962725, 'l2_leaf_reg': 2.425383647001267e-05, 'min_child_samples': 34, 'max_bin': 229, 'od_type': 'IncToDec'}. Best is trial 3 with value: 0.4830508474576271.\u001b[0m\n"
     ]
    },
    {
     "name": "stdout",
     "output_type": "stream",
     "text": [
      "100:\tlearn: 0.2003567\ttest: 0.2003831\ttest1: 0.2931297\tbest: 0.2918326 (98)\ttotal: 108ms\tremaining: 958ms\n",
      "Stopped by overfitting detector  (35 iterations wait)\n",
      "\n",
      "bestTest = 0.2364601151\n",
      "bestIteration = 162\n",
      "\n",
      "Shrink model to first 163 iterations.\n",
      "0:\tlearn: 0.6931466\ttest: 0.6931472\ttest1: 0.6931472\tbest: 0.6931472 (0)\ttotal: 700us\tremaining: 699ms\n",
      "100:\tlearn: 0.6646031\ttest: 0.6646293\ttest1: 0.6634983\tbest: 0.6634911 (99)\ttotal: 69.5ms\tremaining: 618ms\n",
      "200:\tlearn: 0.6513305\ttest: 0.6513632\ttest1: 0.6519966\tbest: 0.6519966 (200)\ttotal: 123ms\tremaining: 489ms\n",
      "300:\tlearn: 0.5965649\ttest: 0.5966031\ttest1: 0.5944306\tbest: 0.5944306 (300)\ttotal: 185ms\tremaining: 429ms\n",
      "400:\tlearn: 0.5662408\ttest: 0.5662818\ttest1: 0.5715824\tbest: 0.5715824 (400)\ttotal: 241ms\tremaining: 360ms\n",
      "500:\tlearn: 0.5413191\ttest: 0.5413537\ttest1: 0.5486930\tbest: 0.5486930 (500)\ttotal: 300ms\tremaining: 299ms\n",
      "600:\tlearn: 0.5209998\ttest: 0.5210267\ttest1: 0.5242367\tbest: 0.5242367 (600)\ttotal: 362ms\tremaining: 241ms\n",
      "700:\tlearn: 0.4868976\ttest: 0.4869155\ttest1: 0.4889472\tbest: 0.4888763 (698)\ttotal: 418ms\tremaining: 178ms\n",
      "800:\tlearn: 0.4470260\ttest: 0.4470431\ttest1: 0.4498179\tbest: 0.4497880 (797)\ttotal: 474ms\tremaining: 118ms\n"
     ]
    },
    {
     "name": "stderr",
     "output_type": "stream",
     "text": [
      "\u001b[32m[I 2022-09-02 15:49:08,879]\u001b[0m Trial 4 finished with value: 0.4322033898305085 and parameters: {'learning_rate': 0.015144860262751412, 'bagging_temperature': 0.9565499215943827, 'n_estimators': 1000, 'max_depth': 4, 'random_strength': 91, 'colsample_bylevel': 0.01814596135349025, 'l2_leaf_reg': 1.987904330777592e-05, 'min_child_samples': 34, 'max_bin': 356, 'od_type': 'IncToDec'}. Best is trial 3 with value: 0.4830508474576271.\u001b[0m\n",
      "\u001b[32m[I 2022-09-02 15:49:09,014]\u001b[0m Trial 5 finished with value: 0.4576271186440678 and parameters: {'learning_rate': 0.27051668818999286, 'bagging_temperature': 12.60466458564947, 'n_estimators': 1000, 'max_depth': 16, 'random_strength': 90, 'colsample_bylevel': 0.03961867790406585, 'l2_leaf_reg': 2.7657008308343274e-05, 'min_child_samples': 13, 'max_bin': 258, 'od_type': 'Iter'}. Best is trial 3 with value: 0.4830508474576271.\u001b[0m\n"
     ]
    },
    {
     "name": "stdout",
     "output_type": "stream",
     "text": [
      "900:\tlearn: 0.4334899\ttest: 0.4335072\ttest1: 0.4384873\tbest: 0.4379406 (867)\ttotal: 531ms\tremaining: 58.4ms\n",
      "Stopped by overfitting detector  (35 iterations wait)\n",
      "\n",
      "bestTest = 0.4379405523\n",
      "bestIteration = 867\n",
      "\n",
      "Shrink model to first 868 iterations.\n",
      "0:\tlearn: 0.6931466\ttest: 0.6931472\ttest1: 0.6931472\tbest: 0.6931472 (0)\ttotal: 542us\tremaining: 542ms\n",
      "Stopped by overfitting detector  (35 iterations wait)\n",
      "\n",
      "bestTest = 0.2007632591\n",
      "bestIteration = 57\n",
      "\n",
      "Shrink model to first 58 iterations.\n",
      "0:\tlearn: 0.6931466\ttest: 0.6931472\ttest1: 0.6931472\tbest: 0.6931472 (0)\ttotal: 687us\tremaining: 687ms\n"
     ]
    },
    {
     "name": "stderr",
     "output_type": "stream",
     "text": [
      "\u001b[32m[I 2022-09-02 15:49:09,181]\u001b[0m Trial 6 finished with value: 0.9067796610169492 and parameters: {'learning_rate': 0.03750796359625606, 'bagging_temperature': 0.12172958098369972, 'n_estimators': 1000, 'max_depth': 14, 'random_strength': 36, 'colsample_bylevel': 0.01909565280104538, 'l2_leaf_reg': 1.6285455533915874e-05, 'min_child_samples': 18, 'max_bin': 441, 'od_type': 'Iter'}. Best is trial 6 with value: 0.9067796610169492.\u001b[0m\n"
     ]
    },
    {
     "name": "stdout",
     "output_type": "stream",
     "text": [
      "100:\tlearn: 0.6324519\ttest: 0.6324861\ttest1: 0.6273883\tbest: 0.6273432 (93)\ttotal: 54.3ms\tremaining: 484ms\n",
      "Stopped by overfitting detector  (35 iterations wait)\n",
      "\n",
      "bestTest = 0.6095326369\n",
      "bestIteration = 104\n",
      "\n",
      "Shrink model to first 105 iterations.\n",
      "0:\tlearn: 0.6931466\ttest: 0.6931472\ttest1: 0.6931472\tbest: 0.6931472 (0)\ttotal: 591us\tremaining: 591ms\n",
      "100:\tlearn: 0.2114221\ttest: 0.2114453\ttest1: 0.3073856\tbest: 0.2980268 (95)\ttotal: 71.9ms\tremaining: 640ms\n"
     ]
    },
    {
     "name": "stderr",
     "output_type": "stream",
     "text": [
      "\u001b[32m[I 2022-09-02 15:49:09,438]\u001b[0m Trial 7 finished with value: 0.4745762711864407 and parameters: {'learning_rate': 0.13826083091896751, 'bagging_temperature': 0.06235377135673159, 'n_estimators': 1000, 'max_depth': 4, 'random_strength': 82, 'colsample_bylevel': 0.05091635945818555, 'l2_leaf_reg': 2.187292496954921e-05, 'min_child_samples': 79, 'max_bin': 222, 'od_type': 'IncToDec'}. Best is trial 6 with value: 0.9067796610169492.\u001b[0m\n"
     ]
    },
    {
     "name": "stdout",
     "output_type": "stream",
     "text": [
      "200:\tlearn: 0.0605579\ttest: 0.0605785\ttest1: 0.2598560\tbest: 0.2343627 (166)\ttotal: 144ms\tremaining: 571ms\n",
      "Stopped by overfitting detector  (35 iterations wait)\n",
      "\n",
      "bestTest = 0.2343627074\n",
      "bestIteration = 166\n",
      "\n",
      "Shrink model to first 167 iterations.\n",
      "0:\tlearn: 0.6931466\ttest: 0.6931472\ttest1: 0.6931472\tbest: 0.6931472 (0)\ttotal: 579us\tremaining: 579ms\n",
      "100:\tlearn: 0.3185655\ttest: 0.3185941\ttest1: 0.3678340\tbest: 0.3678340 (100)\ttotal: 54.9ms\tremaining: 489ms\n",
      "200:\tlearn: 0.2470327\ttest: 0.2470670\ttest1: 0.3234685\tbest: 0.3230624 (191)\ttotal: 107ms\tremaining: 426ms\n"
     ]
    },
    {
     "name": "stderr",
     "output_type": "stream",
     "text": [
      "\u001b[32m[I 2022-09-02 15:49:09,899]\u001b[0m Trial 8 finished with value: 0.4830508474576271 and parameters: {'learning_rate': 0.18832519048593593, 'bagging_temperature': 3.1130959561221245, 'n_estimators': 1000, 'max_depth': 8, 'random_strength': 6, 'colsample_bylevel': 0.020463613363481608, 'l2_leaf_reg': 9.762247827582143e-06, 'min_child_samples': 75, 'max_bin': 391, 'od_type': 'IncToDec'}. Best is trial 6 with value: 0.9067796610169492.\u001b[0m\n"
     ]
    },
    {
     "name": "stdout",
     "output_type": "stream",
     "text": [
      "300:\tlearn: 0.1977074\ttest: 0.1977371\ttest1: 0.2870464\tbest: 0.2869113 (294)\ttotal: 162ms\tremaining: 376ms\n",
      "400:\tlearn: 0.1559487\ttest: 0.1559771\ttest1: 0.2372124\tbest: 0.2371889 (398)\ttotal: 217ms\tremaining: 325ms\n",
      "500:\tlearn: 0.0889884\ttest: 0.0890083\ttest1: 0.1952885\tbest: 0.1944527 (483)\ttotal: 273ms\tremaining: 272ms\n",
      "Stopped by overfitting detector  (35 iterations wait)\n",
      "\n",
      "bestTest = 0.1944526508\n",
      "bestIteration = 483\n",
      "\n",
      "Shrink model to first 484 iterations.\n",
      "0:\tlearn: 0.6931466\ttest: 0.6931472\ttest1: 0.6931472\tbest: 0.6931472 (0)\ttotal: 748us\tremaining: 747ms\n",
      "100:\tlearn: 0.5349846\ttest: 0.5350208\ttest1: 0.5412904\tbest: 0.5407327 (87)\ttotal: 106ms\tremaining: 945ms\n",
      "200:\tlearn: 0.4317623\ttest: 0.4317854\ttest1: 0.4551514\tbest: 0.4551514 (200)\ttotal: 195ms\tremaining: 776ms\n",
      "300:\tlearn: 0.3296377\ttest: 0.3296662\ttest1: 0.3687577\tbest: 0.3677265 (286)\ttotal: 359ms\tremaining: 834ms\n",
      "400:\tlearn: 0.2701405\ttest: 0.2701694\ttest1: 0.3195351\tbest: 0.3193901 (398)\ttotal: 455ms\tremaining: 680ms\n",
      "500:\tlearn: 0.2329516\ttest: 0.2329790\ttest1: 0.2864079\tbest: 0.2864079 (500)\ttotal: 545ms\tremaining: 543ms\n",
      "600:\tlearn: 0.2126520\ttest: 0.2126804\ttest1: 0.2708944\tbest: 0.2708476 (582)\ttotal: 616ms\tremaining: 409ms\n"
     ]
    },
    {
     "name": "stderr",
     "output_type": "stream",
     "text": [
      "\u001b[32m[I 2022-09-02 15:49:11,034]\u001b[0m Trial 9 finished with value: 0.4745762711864407 and parameters: {'learning_rate': 0.015019490572374374, 'bagging_temperature': 7.128188058401368, 'n_estimators': 1000, 'max_depth': 13, 'random_strength': 56, 'colsample_bylevel': 0.05901564798023389, 'l2_leaf_reg': 1.4818929934968078e-05, 'min_child_samples': 55, 'max_bin': 328, 'od_type': 'Iter'}. Best is trial 6 with value: 0.9067796610169492.\u001b[0m\n"
     ]
    },
    {
     "name": "stdout",
     "output_type": "stream",
     "text": [
      "700:\tlearn: 0.1800598\ttest: 0.1800887\ttest1: 0.2473833\tbest: 0.2469772 (695)\ttotal: 687ms\tremaining: 293ms\n",
      "800:\tlearn: 0.1458179\ttest: 0.1458486\ttest1: 0.2309680\tbest: 0.2309615 (799)\ttotal: 764ms\tremaining: 190ms\n",
      "Stopped by overfitting detector  (35 iterations wait)\n",
      "\n",
      "bestTest = 0.2205253176\n",
      "bestIteration = 822\n",
      "\n",
      "Shrink model to first 823 iterations.\n",
      "Best Score: 0.9067796610169492\n",
      "Best trial {'learning_rate': 0.03750796359625606, 'bagging_temperature': 0.12172958098369972, 'n_estimators': 1000, 'max_depth': 14, 'random_strength': 36, 'colsample_bylevel': 0.01909565280104538, 'l2_leaf_reg': 1.6285455533915874e-05, 'min_child_samples': 18, 'max_bin': 441, 'od_type': 'Iter'}\n"
     ]
    }
   ],
   "source": [
    "sampler = TPESampler(seed=42)\n",
    "\n",
    "study = optuna.create_study(\n",
    "    study_name = 'cat_parameter_opt',\n",
    "    direction = 'maximize',\n",
    "    sampler = sampler)\n",
    "\n",
    "study.optimize(objective2, n_trials=10)\n",
    "\n",
    "print(\"Best Score:\",study.best_value)\n",
    "print(\"Best trial\",study.best_trial.params)"
   ]
  },
  {
   "cell_type": "code",
   "execution_count": 31,
   "id": "844ed415",
   "metadata": {},
   "outputs": [
    {
     "name": "stdout",
     "output_type": "stream",
     "text": [
      "0:\tlearn: 0.6884495\ttest: 0.6884594\ttest1: 0.6875993\tbest: 0.6875993 (0)\ttotal: 1.44ms\tremaining: 1.43s\n",
      "100:\tlearn: 0.6033441\ttest: 0.6033825\ttest1: 0.6106074\tbest: 0.6106074 (100)\ttotal: 55.2ms\tremaining: 492ms\n",
      "200:\tlearn: 0.5418323\ttest: 0.5418446\ttest1: 0.5387500\tbest: 0.5387500 (200)\ttotal: 116ms\tremaining: 462ms\n",
      "300:\tlearn: 0.4628652\ttest: 0.4628874\ttest1: 0.4524357\tbest: 0.4524357 (300)\ttotal: 184ms\tremaining: 428ms\n",
      "400:\tlearn: 0.4069684\ttest: 0.4069944\ttest1: 0.4148368\tbest: 0.4147605 (392)\ttotal: 245ms\tremaining: 366ms\n",
      "500:\tlearn: 0.3528777\ttest: 0.3529068\ttest1: 0.3774650\tbest: 0.3774650 (500)\ttotal: 307ms\tremaining: 306ms\n",
      "600:\tlearn: 0.3247245\ttest: 0.3247541\ttest1: 0.3653151\tbest: 0.3652395 (594)\ttotal: 375ms\tremaining: 249ms\n",
      "700:\tlearn: 0.2899703\ttest: 0.2899971\ttest1: 0.3340233\tbest: 0.3340233 (700)\ttotal: 438ms\tremaining: 187ms\n",
      "800:\tlearn: 0.2481404\ttest: 0.2481670\ttest1: 0.3085429\tbest: 0.3047557 (786)\ttotal: 505ms\tremaining: 126ms\n",
      "Stopped by overfitting detector  (35 iterations wait)\n",
      "\n",
      "bestTest = 0.3047556954\n",
      "bestIteration = 786\n",
      "\n",
      "Shrink model to first 787 iterations.\n",
      "\n",
      "Confusion Matrix (Accuracy 0.8667)\n",
      "\n",
      "       Prediction\n",
      "Actual  0  1\n",
      "     0  0  1\n",
      "     1  7 52\n",
      "\n",
      "AUC: 0.4406779661016949\n"
     ]
    }
   ],
   "source": [
    "cat = CatBoostClassifier(**study.best_params)\n",
    "cat.fit(X_tr_over, y_tr_over,\n",
    "        eval_set=[(X_tr_over, y_tr_over), (X_val, y_val)],\n",
    "        early_stopping_rounds=35,\n",
    "        verbose=100)\n",
    "\n",
    "print()\n",
    "classificationSummary(y_val, cat.predict(X_val))\n",
    "print('\\nAUC:', roc_auc_score(y_val, cat.predict(X_val)))"
   ]
  },
  {
   "cell_type": "code",
   "execution_count": 32,
   "id": "4bd1fb1e",
   "metadata": {},
   "outputs": [
    {
     "name": "stdout",
     "output_type": "stream",
     "text": [
      "오차행렬\n",
      "Confusion Matrix (Accuracy 0.8689)\n",
      "\n",
      "       Prediction\n",
      "Actual  0  1\n",
      "     0  0  5\n",
      "     1  3 53\n",
      "\n",
      "정확도 : 0.8689\n",
      "정밀도 : 0.9138\n",
      "재현율(민감도) : 0.9464\n",
      "특이도 : 0.0000\n",
      "AUC : 0.4732\n"
     ]
    }
   ],
   "source": [
    "clf_eval(y_test, cat.predict(X_test))"
   ]
  },
  {
   "cell_type": "code",
   "execution_count": null,
   "id": "e68c21f3",
   "metadata": {},
   "outputs": [],
   "source": []
  }
 ],
 "metadata": {
  "kernelspec": {
   "display_name": "Python 3 (ipykernel)",
   "language": "python",
   "name": "python3"
  },
  "language_info": {
   "codemirror_mode": {
    "name": "ipython",
    "version": 3
   },
   "file_extension": ".py",
   "mimetype": "text/x-python",
   "name": "python",
   "nbconvert_exporter": "python",
   "pygments_lexer": "ipython3",
   "version": "3.9.7"
  }
 },
 "nbformat": 4,
 "nbformat_minor": 5
}
