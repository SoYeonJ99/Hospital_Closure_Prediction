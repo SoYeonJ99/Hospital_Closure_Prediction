{
 "cells": [
  {
   "cell_type": "code",
   "execution_count": 1,
   "id": "4cda285f",
   "metadata": {},
   "outputs": [],
   "source": [
    "import pandas as pd\n",
    "import numpy as np\n",
    "\n",
    "from sklearn.model_selection import train_test_split, cross_val_score, KFold, GridSearchCV, RandomizedSearchCV\n",
    "\n",
    "import warnings\n",
    "warnings.filterwarnings('ignore')\n",
    "\n",
    "from sklearn.ensemble import AdaBoostClassifier\n",
    "from sklearn.tree import DecisionTreeClassifier\n",
    "from sklearn.linear_model import LogisticRegression\n",
    "from sklearn.metrics import accuracy_score, precision_score, recall_score, confusion_matrix, auc, roc_auc_score\n",
    "from dmba import classificationSummary\n",
    "\n",
    "from imblearn.over_sampling import SMOTE"
   ]
  },
  {
   "cell_type": "code",
   "execution_count": 2,
   "id": "8bfe9e32",
   "metadata": {},
   "outputs": [],
   "source": [
    "train_df = pd.read_csv('D:/숙탯 2기/2022-여름-캐글/최종데이터/Train.csv')\n",
    "test_df = pd.read_csv('D:/숙탯 2기/2022-여름-캐글/최종데이터/Test.csv')\n",
    "\n",
    "train_df['ownerChange'] = round(train_df['ownerChange'])\n",
    "train_df['bedCount_class'] = round(train_df['bedCount_class'])\n",
    "\n",
    "test_df['ownerChange'] = round(train_df['ownerChange'])\n",
    "test_df['bedCount_class'] = round(train_df['bedCount_class'])\n",
    "\n",
    "train_df.drop('instkind_nan', axis=1, inplace=True)\n",
    "test_df.drop('instkind_nan', axis=1, inplace=True)\n",
    "\n",
    "train_df.set_index('inst_id', inplace=True)\n",
    "test_df.set_index('inst_id', inplace=True)"
   ]
  },
  {
   "cell_type": "code",
   "execution_count": 3,
   "id": "1390adda",
   "metadata": {},
   "outputs": [
    {
     "data": {
      "text/html": [
       "<div>\n",
       "<style scoped>\n",
       "    .dataframe tbody tr th:only-of-type {\n",
       "        vertical-align: middle;\n",
       "    }\n",
       "\n",
       "    .dataframe tbody tr th {\n",
       "        vertical-align: top;\n",
       "    }\n",
       "\n",
       "    .dataframe thead th {\n",
       "        text-align: right;\n",
       "    }\n",
       "</style>\n",
       "<table border=\"1\" class=\"dataframe\">\n",
       "  <thead>\n",
       "    <tr style=\"text-align: right;\">\n",
       "      <th></th>\n",
       "      <th>inst_id</th>\n",
       "      <th>sido_choongchung</th>\n",
       "      <th>sido_gyeongsang</th>\n",
       "      <th>sido_jeonra</th>\n",
       "      <th>instkind_nursing_hospital</th>\n",
       "      <th>instkind_traditional_hospital</th>\n",
       "      <th>revenue1</th>\n",
       "      <th>sga1</th>\n",
       "      <th>salary1</th>\n",
       "      <th>noe1</th>\n",
       "      <th>...</th>\n",
       "      <th>profit2</th>\n",
       "      <th>inventoryAsset2</th>\n",
       "      <th>OnonCAsset2</th>\n",
       "      <th>shortLoan2</th>\n",
       "      <th>NCLiabilities2</th>\n",
       "      <th>longLoan2</th>\n",
       "      <th>surplus2</th>\n",
       "      <th>ownerChange</th>\n",
       "      <th>bedCount_class</th>\n",
       "      <th>OC</th>\n",
       "    </tr>\n",
       "  </thead>\n",
       "  <tbody>\n",
       "    <tr>\n",
       "      <th>0</th>\n",
       "      <td>1</td>\n",
       "      <td>1.0</td>\n",
       "      <td>0.0</td>\n",
       "      <td>0.0</td>\n",
       "      <td>1.0</td>\n",
       "      <td>0.0</td>\n",
       "      <td>22.162515</td>\n",
       "      <td>22.099796</td>\n",
       "      <td>21.433189</td>\n",
       "      <td>16.539187</td>\n",
       "      <td>...</td>\n",
       "      <td>19.152229</td>\n",
       "      <td>16.425505</td>\n",
       "      <td>18.798422</td>\n",
       "      <td>0.000000</td>\n",
       "      <td>20.099863</td>\n",
       "      <td>19.781657</td>\n",
       "      <td>20.963246</td>\n",
       "      <td>0.0</td>\n",
       "      <td>3.0</td>\n",
       "      <td>1</td>\n",
       "    </tr>\n",
       "    <tr>\n",
       "      <th>1</th>\n",
       "      <td>3</td>\n",
       "      <td>0.0</td>\n",
       "      <td>1.0</td>\n",
       "      <td>0.0</td>\n",
       "      <td>0.0</td>\n",
       "      <td>0.0</td>\n",
       "      <td>23.980280</td>\n",
       "      <td>23.481393</td>\n",
       "      <td>19.521179</td>\n",
       "      <td>16.823799</td>\n",
       "      <td>...</td>\n",
       "      <td>17.025473</td>\n",
       "      <td>16.044684</td>\n",
       "      <td>15.372413</td>\n",
       "      <td>9.180719</td>\n",
       "      <td>18.812726</td>\n",
       "      <td>17.568559</td>\n",
       "      <td>12.258481</td>\n",
       "      <td>0.0</td>\n",
       "      <td>4.0</td>\n",
       "      <td>1</td>\n",
       "    </tr>\n",
       "    <tr>\n",
       "      <th>2</th>\n",
       "      <td>4</td>\n",
       "      <td>0.0</td>\n",
       "      <td>0.0</td>\n",
       "      <td>0.0</td>\n",
       "      <td>1.0</td>\n",
       "      <td>0.0</td>\n",
       "      <td>20.727778</td>\n",
       "      <td>19.918561</td>\n",
       "      <td>19.507228</td>\n",
       "      <td>10.308986</td>\n",
       "      <td>...</td>\n",
       "      <td>0.000000</td>\n",
       "      <td>0.000000</td>\n",
       "      <td>0.000000</td>\n",
       "      <td>0.000000</td>\n",
       "      <td>0.000000</td>\n",
       "      <td>0.000000</td>\n",
       "      <td>0.000000</td>\n",
       "      <td>0.0</td>\n",
       "      <td>4.0</td>\n",
       "      <td>1</td>\n",
       "    </tr>\n",
       "    <tr>\n",
       "      <th>3</th>\n",
       "      <td>7</td>\n",
       "      <td>0.0</td>\n",
       "      <td>0.0</td>\n",
       "      <td>0.0</td>\n",
       "      <td>0.0</td>\n",
       "      <td>0.0</td>\n",
       "      <td>25.006954</td>\n",
       "      <td>24.981392</td>\n",
       "      <td>24.182293</td>\n",
       "      <td>20.954034</td>\n",
       "      <td>...</td>\n",
       "      <td>20.546991</td>\n",
       "      <td>20.934483</td>\n",
       "      <td>22.088313</td>\n",
       "      <td>22.944579</td>\n",
       "      <td>23.755157</td>\n",
       "      <td>23.437961</td>\n",
       "      <td>22.769775</td>\n",
       "      <td>0.0</td>\n",
       "      <td>4.0</td>\n",
       "      <td>1</td>\n",
       "    </tr>\n",
       "    <tr>\n",
       "      <th>4</th>\n",
       "      <td>9</td>\n",
       "      <td>0.0</td>\n",
       "      <td>1.0</td>\n",
       "      <td>0.0</td>\n",
       "      <td>0.0</td>\n",
       "      <td>0.0</td>\n",
       "      <td>24.615974</td>\n",
       "      <td>24.587275</td>\n",
       "      <td>23.920337</td>\n",
       "      <td>21.073281</td>\n",
       "      <td>...</td>\n",
       "      <td>17.301128</td>\n",
       "      <td>19.908536</td>\n",
       "      <td>20.486709</td>\n",
       "      <td>23.590810</td>\n",
       "      <td>23.784786</td>\n",
       "      <td>23.370010</td>\n",
       "      <td>22.923325</td>\n",
       "      <td>0.0</td>\n",
       "      <td>3.0</td>\n",
       "      <td>1</td>\n",
       "    </tr>\n",
       "  </tbody>\n",
       "</table>\n",
       "<p>5 rows × 29 columns</p>\n",
       "</div>"
      ],
      "text/plain": [
       "   inst_id  sido_choongchung  sido_gyeongsang  sido_jeonra  \\\n",
       "0        1               1.0              0.0          0.0   \n",
       "1        3               0.0              1.0          0.0   \n",
       "2        4               0.0              0.0          0.0   \n",
       "3        7               0.0              0.0          0.0   \n",
       "4        9               0.0              1.0          0.0   \n",
       "\n",
       "   instkind_nursing_hospital  instkind_traditional_hospital   revenue1  \\\n",
       "0                        1.0                            0.0  22.162515   \n",
       "1                        0.0                            0.0  23.980280   \n",
       "2                        1.0                            0.0  20.727778   \n",
       "3                        0.0                            0.0  25.006954   \n",
       "4                        0.0                            0.0  24.615974   \n",
       "\n",
       "        sga1    salary1       noe1  ...    profit2  inventoryAsset2  \\\n",
       "0  22.099796  21.433189  16.539187  ...  19.152229        16.425505   \n",
       "1  23.481393  19.521179  16.823799  ...  17.025473        16.044684   \n",
       "2  19.918561  19.507228  10.308986  ...   0.000000         0.000000   \n",
       "3  24.981392  24.182293  20.954034  ...  20.546991        20.934483   \n",
       "4  24.587275  23.920337  21.073281  ...  17.301128        19.908536   \n",
       "\n",
       "   OnonCAsset2  shortLoan2  NCLiabilities2  longLoan2   surplus2  ownerChange  \\\n",
       "0    18.798422    0.000000       20.099863  19.781657  20.963246          0.0   \n",
       "1    15.372413    9.180719       18.812726  17.568559  12.258481          0.0   \n",
       "2     0.000000    0.000000        0.000000   0.000000   0.000000          0.0   \n",
       "3    22.088313   22.944579       23.755157  23.437961  22.769775          0.0   \n",
       "4    20.486709   23.590810       23.784786  23.370010  22.923325          0.0   \n",
       "\n",
       "   bedCount_class  OC  \n",
       "0             3.0   1  \n",
       "1             4.0   1  \n",
       "2             4.0   1  \n",
       "3             4.0   1  \n",
       "4             3.0   1  \n",
       "\n",
       "[5 rows x 29 columns]"
      ]
     },
     "execution_count": 3,
     "metadata": {},
     "output_type": "execute_result"
    }
   ],
   "source": [
    "train_lr = pd.read_csv('D:/숙탯 2기/2022-여름-캐글/최종데이터/Train_lr.csv')\n",
    "\n",
    "train_lr['ownerChange'] = round(train_lr['ownerChange'])\n",
    "train_lr['bedCount_class'] = round(train_lr['bedCount_class'])\n",
    "\n",
    "train_lr.head()"
   ]
  },
  {
   "cell_type": "code",
   "execution_count": 4,
   "id": "119b9a9b",
   "metadata": {
    "scrolled": true
   },
   "outputs": [
    {
     "data": {
      "text/html": [
       "<div>\n",
       "<style scoped>\n",
       "    .dataframe tbody tr th:only-of-type {\n",
       "        vertical-align: middle;\n",
       "    }\n",
       "\n",
       "    .dataframe tbody tr th {\n",
       "        vertical-align: top;\n",
       "    }\n",
       "\n",
       "    .dataframe thead th {\n",
       "        text-align: right;\n",
       "    }\n",
       "</style>\n",
       "<table border=\"1\" class=\"dataframe\">\n",
       "  <thead>\n",
       "    <tr style=\"text-align: right;\">\n",
       "      <th></th>\n",
       "      <th>inst_id</th>\n",
       "      <th>instkind_hospital</th>\n",
       "      <th>instkind_traditional_clinic</th>\n",
       "      <th>revenue1</th>\n",
       "      <th>salescost1</th>\n",
       "      <th>sga1</th>\n",
       "      <th>salary1</th>\n",
       "      <th>liquidAsset1</th>\n",
       "      <th>quickAsset1</th>\n",
       "      <th>receivableS1</th>\n",
       "      <th>inventoryAsset2</th>\n",
       "      <th>receivableL2</th>\n",
       "      <th>employee2</th>\n",
       "      <th>OC</th>\n",
       "    </tr>\n",
       "  </thead>\n",
       "  <tbody>\n",
       "    <tr>\n",
       "      <th>0</th>\n",
       "      <td>1</td>\n",
       "      <td>0.0</td>\n",
       "      <td>0.0</td>\n",
       "      <td>22.162515</td>\n",
       "      <td>0.000000</td>\n",
       "      <td>22.099796</td>\n",
       "      <td>21.433189</td>\n",
       "      <td>20.735886</td>\n",
       "      <td>20.720935</td>\n",
       "      <td>19.968362</td>\n",
       "      <td>16.425505</td>\n",
       "      <td>0.0</td>\n",
       "      <td>4.174387</td>\n",
       "      <td>1</td>\n",
       "    </tr>\n",
       "    <tr>\n",
       "      <th>1</th>\n",
       "      <td>3</td>\n",
       "      <td>0.0</td>\n",
       "      <td>0.0</td>\n",
       "      <td>23.980280</td>\n",
       "      <td>9.659782</td>\n",
       "      <td>23.481393</td>\n",
       "      <td>19.521179</td>\n",
       "      <td>19.074269</td>\n",
       "      <td>19.037270</td>\n",
       "      <td>10.917985</td>\n",
       "      <td>16.044684</td>\n",
       "      <td>0.0</td>\n",
       "      <td>6.701960</td>\n",
       "      <td>1</td>\n",
       "    </tr>\n",
       "    <tr>\n",
       "      <th>2</th>\n",
       "      <td>4</td>\n",
       "      <td>0.0</td>\n",
       "      <td>0.0</td>\n",
       "      <td>20.727778</td>\n",
       "      <td>20.060616</td>\n",
       "      <td>19.918561</td>\n",
       "      <td>19.507228</td>\n",
       "      <td>19.422937</td>\n",
       "      <td>19.351593</td>\n",
       "      <td>15.906875</td>\n",
       "      <td>0.000000</td>\n",
       "      <td>0.0</td>\n",
       "      <td>0.693147</td>\n",
       "      <td>1</td>\n",
       "    </tr>\n",
       "    <tr>\n",
       "      <th>3</th>\n",
       "      <td>7</td>\n",
       "      <td>0.0</td>\n",
       "      <td>0.0</td>\n",
       "      <td>25.006954</td>\n",
       "      <td>0.000000</td>\n",
       "      <td>24.981392</td>\n",
       "      <td>24.182293</td>\n",
       "      <td>23.291406</td>\n",
       "      <td>23.168630</td>\n",
       "      <td>0.000000</td>\n",
       "      <td>20.934483</td>\n",
       "      <td>0.0</td>\n",
       "      <td>6.498282</td>\n",
       "      <td>1</td>\n",
       "    </tr>\n",
       "    <tr>\n",
       "      <th>4</th>\n",
       "      <td>9</td>\n",
       "      <td>0.0</td>\n",
       "      <td>0.0</td>\n",
       "      <td>24.615974</td>\n",
       "      <td>0.000000</td>\n",
       "      <td>24.587275</td>\n",
       "      <td>23.920337</td>\n",
       "      <td>22.566524</td>\n",
       "      <td>22.493677</td>\n",
       "      <td>22.134087</td>\n",
       "      <td>19.908536</td>\n",
       "      <td>0.0</td>\n",
       "      <td>5.288267</td>\n",
       "      <td>1</td>\n",
       "    </tr>\n",
       "  </tbody>\n",
       "</table>\n",
       "</div>"
      ],
      "text/plain": [
       "   inst_id  instkind_hospital  instkind_traditional_clinic   revenue1  \\\n",
       "0        1                0.0                          0.0  22.162515   \n",
       "1        3                0.0                          0.0  23.980280   \n",
       "2        4                0.0                          0.0  20.727778   \n",
       "3        7                0.0                          0.0  25.006954   \n",
       "4        9                0.0                          0.0  24.615974   \n",
       "\n",
       "   salescost1       sga1    salary1  liquidAsset1  quickAsset1  receivableS1  \\\n",
       "0    0.000000  22.099796  21.433189     20.735886    20.720935     19.968362   \n",
       "1    9.659782  23.481393  19.521179     19.074269    19.037270     10.917985   \n",
       "2   20.060616  19.918561  19.507228     19.422937    19.351593     15.906875   \n",
       "3    0.000000  24.981392  24.182293     23.291406    23.168630      0.000000   \n",
       "4    0.000000  24.587275  23.920337     22.566524    22.493677     22.134087   \n",
       "\n",
       "   inventoryAsset2  receivableL2  employee2  OC  \n",
       "0        16.425505           0.0   4.174387   1  \n",
       "1        16.044684           0.0   6.701960   1  \n",
       "2         0.000000           0.0   0.693147   1  \n",
       "3        20.934483           0.0   6.498282   1  \n",
       "4        19.908536           0.0   5.288267   1  "
      ]
     },
     "execution_count": 4,
     "metadata": {},
     "output_type": "execute_result"
    }
   ],
   "source": [
    "train_dt = pd.read_csv('D:/숙탯 2기/2022-여름-캐글/최종데이터/Train_dt.csv')\n",
    "train_dt.drop('instkind_nan', axis=1, inplace=True)\n",
    "\n",
    "train_dt.head()"
   ]
  },
  {
   "cell_type": "code",
   "execution_count": 5,
   "id": "5a7aa830",
   "metadata": {
    "scrolled": false
   },
   "outputs": [
    {
     "data": {
      "text/plain": [
       "(301, 14)"
      ]
     },
     "execution_count": 5,
     "metadata": {},
     "output_type": "execute_result"
    }
   ],
   "source": [
    "train_dt.shape"
   ]
  },
  {
   "cell_type": "code",
   "execution_count": null,
   "id": "ade828dd",
   "metadata": {},
   "outputs": [],
   "source": []
  },
  {
   "cell_type": "markdown",
   "id": "3fd2ad03",
   "metadata": {},
   "source": [
    "# 1. 전체 columns"
   ]
  },
  {
   "cell_type": "markdown",
   "id": "d932b922",
   "metadata": {},
   "source": [
    "### 1) GridSearchCV"
   ]
  },
  {
   "cell_type": "code",
   "execution_count": 69,
   "id": "dc68436c",
   "metadata": {},
   "outputs": [],
   "source": [
    "X_train = train_df.drop('OC', axis=1)\n",
    "y_train = train_df['OC']\n",
    "\n",
    "X_train, X_val, y_train, y_val = train_test_split(X_train, y_train, test_size=0.4, random_state=42)\n",
    "\n",
    "X_val, X_test, y_val, y_test = train_test_split(X_val, y_val, test_size=0.5, random_state=42)\n",
    "\n",
    "smote = SMOTE(random_state=42)\n",
    "X_tr_over, y_tr_over = smote.fit_resample(X_train, y_train)"
   ]
  },
  {
   "cell_type": "code",
   "execution_count": 71,
   "id": "ff6531f6",
   "metadata": {},
   "outputs": [
    {
     "name": "stdout",
     "output_type": "stream",
     "text": [
      "최적 하이퍼 파라미터:  {'algorithm': 'SAMME.R', 'base_estimator': DecisionTreeClassifier(max_depth=1), 'n_estimators': 250}\n",
      "최고 예측 정확도: 0.9678\n"
     ]
    }
   ],
   "source": [
    "dtree = DecisionTreeClassifier(max_depth = 1)\n",
    "logreg = LogisticRegression()\n",
    "\n",
    "params = {'base_estimator' : [dtree, logreg],\n",
    "          'n_estimators' : [50, 100, 150, 200, 250, 300],\n",
    "          'algorithm' : ['SAMME', 'SAMME.R']\n",
    "         }\n",
    "\n",
    "kfold = KFold(n_splits=5, shuffle = True, random_state=0)\n",
    "\n",
    "# AdaBoostClassifier 객체 생성 후 GridSearchCV 수행\n",
    "clf = AdaBoostClassifier()\n",
    "grid_cv = GridSearchCV(clf, param_grid = params, cv = kfold, n_jobs = -1)\n",
    "grid_cv.fit(X_tr_over, y_tr_over)\n",
    "\n",
    "print('최적 하이퍼 파라미터: ', grid_cv.best_params_)\n",
    "print('최고 예측 정확도: {:.4f}'.format(grid_cv.best_score_))"
   ]
  },
  {
   "cell_type": "code",
   "execution_count": 61,
   "id": "9439103b",
   "metadata": {},
   "outputs": [],
   "source": [
    "def clf_eval(y_test, pred):\n",
    "    accuracy = accuracy_score(y_test, pred)\n",
    "    precision = precision_score(y_test, pred)\n",
    "    recall = recall_score(y_test, pred)\n",
    "    specificity = confusion_matrix(y_test, pred)[0][0]/(confusion_matrix(y_test, pred)[0][0]+confusion_matrix(y_test, pred)[0][1])\n",
    "    print('오차행렬')\n",
    "    classificationSummary(y_test, pred)\n",
    "    print()\n",
    "    print('정확도 : {:.4f}\\n정밀도 : {:.4f}\\n재현율(민감도) : {:.4f}'.format(accuracy, precision, recall))\n",
    "    print('특이도 : {:.4f}'.format(specificity))\n",
    "    \n",
    "    try:\n",
    "        print('AUC : {:.4f}'.format(roc_auc_score(y_test, pred)))\n",
    "    except ValueError:\n",
    "        print('AUC : test data에 하나의 레이블만이 존재하여 AUC를 구할 수 없습니다.')"
   ]
  },
  {
   "cell_type": "code",
   "execution_count": 72,
   "id": "7021c536",
   "metadata": {},
   "outputs": [
    {
     "name": "stdout",
     "output_type": "stream",
     "text": [
      "오차행렬\n",
      "Confusion Matrix (Accuracy 0.9333)\n",
      "\n",
      "       Prediction\n",
      "Actual  0  1\n",
      "     0  0  1\n",
      "     1  3 56\n",
      "\n",
      "정확도 : 0.9333\n",
      "정밀도 : 0.9825\n",
      "재현율(민감도) : 0.9492\n",
      "특이도 : 0.0000\n",
      "AUC : 0.4746\n"
     ]
    }
   ],
   "source": [
    "best_model = grid_cv.best_estimator_  # 최적의 하이퍼 파라미터로 모델 생성\n",
    "pred = best_model.predict(X_val)\n",
    "\n",
    "clf_eval(y_val, pred)"
   ]
  },
  {
   "cell_type": "code",
   "execution_count": 73,
   "id": "e3d269a1",
   "metadata": {},
   "outputs": [
    {
     "name": "stdout",
     "output_type": "stream",
     "text": [
      "오차행렬\n",
      "Confusion Matrix (Accuracy 0.9180)\n",
      "\n",
      "       Prediction\n",
      "Actual  0  1\n",
      "     0  1  4\n",
      "     1  1 55\n",
      "\n",
      "정확도 : 0.9180\n",
      "정밀도 : 0.9322\n",
      "재현율(민감도) : 0.9821\n",
      "특이도 : 0.2000\n",
      "AUC : 0.5911\n"
     ]
    }
   ],
   "source": [
    "clf_eval(y_test, best_model.predict(X_test))"
   ]
  },
  {
   "cell_type": "markdown",
   "id": "925c1c8b",
   "metadata": {},
   "source": [
    "### 2) RandomizedSearchCV"
   ]
  },
  {
   "cell_type": "code",
   "execution_count": 74,
   "id": "65c27e8b",
   "metadata": {},
   "outputs": [
    {
     "name": "stdout",
     "output_type": "stream",
     "text": [
      "최적 하이퍼 파라미터:  {'n_estimators': 250, 'base_estimator': DecisionTreeClassifier(max_depth=1), 'algorithm': 'SAMME.R'}\n",
      "최고 예측 정확도: 0.9678\n"
     ]
    }
   ],
   "source": [
    "dtree = DecisionTreeClassifier(max_depth = 1)\n",
    "logreg = LogisticRegression()\n",
    "\n",
    "params = {'base_estimator' : [dtree, logreg],\n",
    "          'n_estimators' : [50, 100, 150, 200, 250, 300],\n",
    "          'algorithm' : ['SAMME', 'SAMME.R']\n",
    "         }\n",
    "\n",
    "kfold = KFold(n_splits=5, shuffle = True, random_state=0)\n",
    "\n",
    "# AdaBoostClassifier 객체 생성 후 GridSearchCV 수행\n",
    "clf = AdaBoostClassifier()\n",
    "rand_cv = RandomizedSearchCV(clf, param_distributions = params, n_iter = 100, cv = kfold, n_jobs = -1)\n",
    "rand_cv.fit(X_tr_over, y_tr_over)\n",
    "\n",
    "print('최적 하이퍼 파라미터: ', rand_cv.best_params_)\n",
    "print('최고 예측 정확도: {:.4f}'.format(rand_cv.best_score_))"
   ]
  },
  {
   "cell_type": "code",
   "execution_count": 75,
   "id": "ec7895fd",
   "metadata": {},
   "outputs": [
    {
     "name": "stdout",
     "output_type": "stream",
     "text": [
      "오차행렬\n",
      "Confusion Matrix (Accuracy 0.9333)\n",
      "\n",
      "       Prediction\n",
      "Actual  0  1\n",
      "     0  0  1\n",
      "     1  3 56\n",
      "\n",
      "정확도 : 0.9333\n",
      "정밀도 : 0.9825\n",
      "재현율(민감도) : 0.9492\n",
      "특이도 : 0.0000\n",
      "AUC : 0.4746\n"
     ]
    }
   ],
   "source": [
    "best_model = rand_cv.best_estimator_  # 최적의 하이퍼 파라미터로 모델 생성\n",
    "pred = best_model.predict(X_val)\n",
    "\n",
    "clf_eval(y_val, pred)"
   ]
  },
  {
   "cell_type": "code",
   "execution_count": 76,
   "id": "95c070e5",
   "metadata": {},
   "outputs": [
    {
     "name": "stdout",
     "output_type": "stream",
     "text": [
      "오차행렬\n",
      "Confusion Matrix (Accuracy 0.9180)\n",
      "\n",
      "       Prediction\n",
      "Actual  0  1\n",
      "     0  1  4\n",
      "     1  1 55\n",
      "\n",
      "정확도 : 0.9180\n",
      "정밀도 : 0.9322\n",
      "재현율(민감도) : 0.9821\n",
      "특이도 : 0.2000\n",
      "AUC : 0.5911\n"
     ]
    }
   ],
   "source": [
    "clf_eval(y_test, best_model.predict(X_test))"
   ]
  },
  {
   "cell_type": "code",
   "execution_count": null,
   "id": "a83f4631",
   "metadata": {},
   "outputs": [],
   "source": []
  },
  {
   "cell_type": "markdown",
   "id": "2137deb2",
   "metadata": {},
   "source": [
    "# 2. Train_lr"
   ]
  },
  {
   "cell_type": "markdown",
   "id": "a267e994",
   "metadata": {},
   "source": [
    "### 1) GridSearchCV"
   ]
  },
  {
   "cell_type": "code",
   "execution_count": 77,
   "id": "d61b5f17",
   "metadata": {},
   "outputs": [],
   "source": [
    "X_train = train_lr.drop('OC', axis=1)\n",
    "y_train = train_lr['OC']\n",
    "\n",
    "X_train, X_val, y_train, y_val = train_test_split(X_train, y_train, test_size=0.4, random_state=42)\n",
    "\n",
    "X_val, X_test, y_val, y_test = train_test_split(X_val, y_val, test_size=0.5, random_state=42)\n",
    "\n",
    "smote = SMOTE(random_state=42)\n",
    "X_tr_over, y_tr_over = smote.fit_resample(X_train, y_train)"
   ]
  },
  {
   "cell_type": "code",
   "execution_count": 79,
   "id": "8a1eead4",
   "metadata": {},
   "outputs": [
    {
     "name": "stdout",
     "output_type": "stream",
     "text": [
      "최적 하이퍼 파라미터:  {'algorithm': 'SAMME', 'base_estimator': LogisticRegression(), 'n_estimators': 50}\n",
      "최고 예측 정확도: 0.9737\n"
     ]
    }
   ],
   "source": [
    "dtree = DecisionTreeClassifier(max_depth = 1)\n",
    "logreg = LogisticRegression()\n",
    "\n",
    "params = {'base_estimator' : [dtree, logreg],\n",
    "          'n_estimators' : [50, 100, 150, 200, 250, 300],\n",
    "          'algorithm' : ['SAMME', 'SAMME.R']\n",
    "         }\n",
    "\n",
    "kfold = KFold(n_splits=5, shuffle = True, random_state=0)\n",
    "\n",
    "# AdaBoostClassifier 객체 생성 후 GridSearchCV 수행\n",
    "clf1 = AdaBoostClassifier()\n",
    "grid_cv = GridSearchCV(clf1, param_grid = params, cv = kfold, n_jobs = -1)\n",
    "grid_cv.fit(X_tr_over, y_tr_over)\n",
    "\n",
    "print('최적 하이퍼 파라미터: ', grid_cv.best_params_)\n",
    "print('최고 예측 정확도: {:.4f}'.format(grid_cv.best_score_))"
   ]
  },
  {
   "cell_type": "code",
   "execution_count": 80,
   "id": "137bc11f",
   "metadata": {
    "scrolled": true
   },
   "outputs": [
    {
     "name": "stdout",
     "output_type": "stream",
     "text": [
      "오차행렬\n",
      "Confusion Matrix (Accuracy 0.9500)\n",
      "\n",
      "       Prediction\n",
      "Actual  0  1\n",
      "     0  1  0\n",
      "     1  3 56\n",
      "\n",
      "정확도 : 0.9500\n",
      "정밀도 : 1.0000\n",
      "재현율(민감도) : 0.9492\n",
      "특이도 : 1.0000\n",
      "AUC : 0.9746\n"
     ]
    }
   ],
   "source": [
    "best_model = grid_cv.best_estimator_  # 최적의 하이퍼 파라미터로 모델 생성\n",
    "pred = best_model.predict(X_val)\n",
    "\n",
    "clf_eval(y_val, pred)"
   ]
  },
  {
   "cell_type": "code",
   "execution_count": 81,
   "id": "cae1707b",
   "metadata": {
    "scrolled": true
   },
   "outputs": [
    {
     "name": "stdout",
     "output_type": "stream",
     "text": [
      "오차행렬\n",
      "Confusion Matrix (Accuracy 0.8852)\n",
      "\n",
      "       Prediction\n",
      "Actual  0  1\n",
      "     0  0  5\n",
      "     1  2 54\n",
      "\n",
      "정확도 : 0.8852\n",
      "정밀도 : 0.9153\n",
      "재현율(민감도) : 0.9643\n",
      "특이도 : 0.0000\n",
      "AUC : 0.4821\n"
     ]
    }
   ],
   "source": [
    "clf_eval(y_test, best_model.predict(X_test))"
   ]
  },
  {
   "cell_type": "markdown",
   "id": "0e28b153",
   "metadata": {},
   "source": [
    "### 2) RandomizedSearchCV"
   ]
  },
  {
   "cell_type": "code",
   "execution_count": 82,
   "id": "589d2221",
   "metadata": {
    "scrolled": true
   },
   "outputs": [
    {
     "name": "stdout",
     "output_type": "stream",
     "text": [
      "최적 하이퍼 파라미터:  {'n_estimators': 50, 'base_estimator': LogisticRegression(), 'algorithm': 'SAMME'}\n",
      "최고 예측 정확도: 0.9737\n"
     ]
    }
   ],
   "source": [
    "dtree = DecisionTreeClassifier(max_depth = 1)\n",
    "logreg = LogisticRegression()\n",
    "\n",
    "params = {'base_estimator' : [dtree, logreg],\n",
    "          'n_estimators' : [50, 100, 150, 200, 250, 300],\n",
    "          'algorithm' : ['SAMME', 'SAMME.R']\n",
    "         }\n",
    "\n",
    "kfold = KFold(n_splits=5, shuffle = True, random_state=0)\n",
    "\n",
    "# AdaBoostClassifier 객체 생성 후 GridSearchCV 수행\n",
    "clf1 = AdaBoostClassifier()\n",
    "rand_cv = RandomizedSearchCV(clf1, param_distributions = params, n_iter = 100, cv = kfold, n_jobs = -1)\n",
    "rand_cv.fit(X_tr_over, y_tr_over)\n",
    "\n",
    "print('최적 하이퍼 파라미터: ', rand_cv.best_params_)\n",
    "print('최고 예측 정확도: {:.4f}'.format(rand_cv.best_score_))"
   ]
  },
  {
   "cell_type": "code",
   "execution_count": 83,
   "id": "6d490bf6",
   "metadata": {},
   "outputs": [
    {
     "name": "stdout",
     "output_type": "stream",
     "text": [
      "오차행렬\n",
      "Confusion Matrix (Accuracy 0.9500)\n",
      "\n",
      "       Prediction\n",
      "Actual  0  1\n",
      "     0  1  0\n",
      "     1  3 56\n",
      "\n",
      "정확도 : 0.9500\n",
      "정밀도 : 1.0000\n",
      "재현율(민감도) : 0.9492\n",
      "특이도 : 1.0000\n",
      "AUC : 0.9746\n"
     ]
    }
   ],
   "source": [
    "best_model = rand_cv.best_estimator_  # 최적의 하이퍼 파라미터로 모델 생성\n",
    "pred = best_model.predict(X_val)\n",
    "\n",
    "clf_eval(y_val, pred)"
   ]
  },
  {
   "cell_type": "code",
   "execution_count": 84,
   "id": "97bd12f6",
   "metadata": {},
   "outputs": [
    {
     "name": "stdout",
     "output_type": "stream",
     "text": [
      "오차행렬\n",
      "Confusion Matrix (Accuracy 0.8852)\n",
      "\n",
      "       Prediction\n",
      "Actual  0  1\n",
      "     0  0  5\n",
      "     1  2 54\n",
      "\n",
      "정확도 : 0.8852\n",
      "정밀도 : 0.9153\n",
      "재현율(민감도) : 0.9643\n",
      "특이도 : 0.0000\n",
      "AUC : 0.4821\n"
     ]
    }
   ],
   "source": [
    "clf_eval(y_test, best_model.predict(X_test))"
   ]
  },
  {
   "cell_type": "code",
   "execution_count": null,
   "id": "cc83f694",
   "metadata": {},
   "outputs": [],
   "source": []
  },
  {
   "cell_type": "markdown",
   "id": "9f07c90f",
   "metadata": {},
   "source": [
    "# 3. Train_dt"
   ]
  },
  {
   "cell_type": "markdown",
   "id": "9867da3e",
   "metadata": {},
   "source": [
    "### 1) GridSearchCV"
   ]
  },
  {
   "cell_type": "code",
   "execution_count": 87,
   "id": "4a8488ff",
   "metadata": {},
   "outputs": [],
   "source": [
    "X_train = train_dt.drop('OC', axis=1)\n",
    "y_train = train_dt['OC']\n",
    "\n",
    "X_train, X_val, y_train, y_val = train_test_split(X_train, y_train, test_size=0.4, random_state=42)\n",
    "\n",
    "X_val, X_test, y_val, y_test = train_test_split(X_val, y_val, test_size=0.5, random_state=42)\n",
    "\n",
    "smote = SMOTE(random_state=42)\n",
    "X_tr_over, y_tr_over = smote.fit_resample(X_train, y_train)"
   ]
  },
  {
   "cell_type": "code",
   "execution_count": 89,
   "id": "b072703a",
   "metadata": {},
   "outputs": [
    {
     "name": "stdout",
     "output_type": "stream",
     "text": [
      "최적 하이퍼 파라미터:  {'algorithm': 'SAMME', 'base_estimator': DecisionTreeClassifier(max_depth=1), 'n_estimators': 50}\n",
      "최고 예측 정확도: 0.9239\n"
     ]
    }
   ],
   "source": [
    "dtree = DecisionTreeClassifier(max_depth = 1)\n",
    "logreg = LogisticRegression()\n",
    "\n",
    "params = {'base_estimator' : [dtree, logreg],\n",
    "          'n_estimators' : [50, 100, 150, 200, 250, 300],\n",
    "          'algorithm' : ['SAMME', 'SAMME.R']\n",
    "         }\n",
    "\n",
    "kfold = KFold(n_splits=5, shuffle = True, random_state=0)\n",
    "\n",
    "# AdaBoostClassifier 객체 생성 후 GridSearchCV 수행\n",
    "clf2 = AdaBoostClassifier()\n",
    "grid_cv = GridSearchCV(clf2, param_grid = params, cv = kfold, n_jobs = -1)\n",
    "grid_cv.fit(X_tr_over, y_tr_over)\n",
    "\n",
    "print('최적 하이퍼 파라미터: ', grid_cv.best_params_)\n",
    "print('최고 예측 정확도: {:.4f}'.format(grid_cv.best_score_))"
   ]
  },
  {
   "cell_type": "code",
   "execution_count": 90,
   "id": "f7108832",
   "metadata": {},
   "outputs": [
    {
     "name": "stdout",
     "output_type": "stream",
     "text": [
      "오차행렬\n",
      "Confusion Matrix (Accuracy 0.9333)\n",
      "\n",
      "       Prediction\n",
      "Actual  0  1\n",
      "     0  0  1\n",
      "     1  3 56\n",
      "\n",
      "정확도 : 0.9333\n",
      "정밀도 : 0.9825\n",
      "재현율(민감도) : 0.9492\n",
      "특이도 : 0.0000\n",
      "AUC : 0.4746\n"
     ]
    }
   ],
   "source": [
    "best_model = grid_cv.best_estimator_  # 최적의 하이퍼 파라미터로 모델 생성\n",
    "pred = best_model.predict(X_val)\n",
    "\n",
    "clf_eval(y_val, pred)"
   ]
  },
  {
   "cell_type": "code",
   "execution_count": 91,
   "id": "b227a3e6",
   "metadata": {},
   "outputs": [
    {
     "name": "stdout",
     "output_type": "stream",
     "text": [
      "오차행렬\n",
      "Confusion Matrix (Accuracy 0.8689)\n",
      "\n",
      "       Prediction\n",
      "Actual  0  1\n",
      "     0  0  5\n",
      "     1  3 53\n",
      "\n",
      "정확도 : 0.8689\n",
      "정밀도 : 0.9138\n",
      "재현율(민감도) : 0.9464\n",
      "특이도 : 0.0000\n",
      "AUC : 0.4732\n"
     ]
    }
   ],
   "source": [
    "clf_eval(y_test, best_model.predict(X_test))"
   ]
  },
  {
   "cell_type": "markdown",
   "id": "37a64ae9",
   "metadata": {},
   "source": [
    "### 2) RandomizedSearchCV"
   ]
  },
  {
   "cell_type": "code",
   "execution_count": 92,
   "id": "140f0fe2",
   "metadata": {},
   "outputs": [
    {
     "name": "stdout",
     "output_type": "stream",
     "text": [
      "최적 하이퍼 파라미터:  {'n_estimators': 50, 'base_estimator': DecisionTreeClassifier(max_depth=1), 'algorithm': 'SAMME'}\n",
      "최고 예측 정확도: 0.9239\n"
     ]
    }
   ],
   "source": [
    "dtree = DecisionTreeClassifier(max_depth = 1)\n",
    "logreg = LogisticRegression()\n",
    "\n",
    "params = {'base_estimator' : [dtree, logreg],\n",
    "          'n_estimators' : [50, 100, 150, 200, 250, 300],\n",
    "          'algorithm' : ['SAMME', 'SAMME.R']\n",
    "         }\n",
    "\n",
    "kfold = KFold(n_splits=5, shuffle = True, random_state=0)\n",
    "\n",
    "# AdaBoostClassifier 객체 생성 후 GridSearchCV 수행\n",
    "clf2 = AdaBoostClassifier()\n",
    "rand_cv = RandomizedSearchCV(clf2, param_distributions = params, n_iter = 100, cv = kfold, n_jobs = -1)\n",
    "rand_cv.fit(X_tr_over, y_tr_over)\n",
    "\n",
    "print('최적 하이퍼 파라미터: ', rand_cv.best_params_)\n",
    "print('최고 예측 정확도: {:.4f}'.format(rand_cv.best_score_))"
   ]
  },
  {
   "cell_type": "code",
   "execution_count": 93,
   "id": "3df771b1",
   "metadata": {},
   "outputs": [
    {
     "name": "stdout",
     "output_type": "stream",
     "text": [
      "오차행렬\n",
      "Confusion Matrix (Accuracy 0.9333)\n",
      "\n",
      "       Prediction\n",
      "Actual  0  1\n",
      "     0  0  1\n",
      "     1  3 56\n",
      "\n",
      "정확도 : 0.9333\n",
      "정밀도 : 0.9825\n",
      "재현율(민감도) : 0.9492\n",
      "특이도 : 0.0000\n",
      "AUC : 0.4746\n"
     ]
    }
   ],
   "source": [
    "best_model = rand_cv.best_estimator_  # 최적의 하이퍼 파라미터로 모델 생성\n",
    "pred = best_model.predict(X_val)\n",
    "\n",
    "clf_eval(y_val, pred)"
   ]
  },
  {
   "cell_type": "code",
   "execution_count": 94,
   "id": "d418b38c",
   "metadata": {},
   "outputs": [
    {
     "name": "stdout",
     "output_type": "stream",
     "text": [
      "오차행렬\n",
      "Confusion Matrix (Accuracy 0.8689)\n",
      "\n",
      "       Prediction\n",
      "Actual  0  1\n",
      "     0  0  5\n",
      "     1  3 53\n",
      "\n",
      "정확도 : 0.8689\n",
      "정밀도 : 0.9138\n",
      "재현율(민감도) : 0.9464\n",
      "특이도 : 0.0000\n",
      "AUC : 0.4732\n"
     ]
    }
   ],
   "source": [
    "clf_eval(y_test, best_model.predict(X_test))"
   ]
  },
  {
   "cell_type": "code",
   "execution_count": null,
   "id": "849ca9c8",
   "metadata": {},
   "outputs": [],
   "source": []
  }
 ],
 "metadata": {
  "kernelspec": {
   "display_name": "Python 3 (ipykernel)",
   "language": "python",
   "name": "python3"
  },
  "language_info": {
   "codemirror_mode": {
    "name": "ipython",
    "version": 3
   },
   "file_extension": ".py",
   "mimetype": "text/x-python",
   "name": "python",
   "nbconvert_exporter": "python",
   "pygments_lexer": "ipython3",
   "version": "3.9.7"
  }
 },
 "nbformat": 4,
 "nbformat_minor": 5
}
